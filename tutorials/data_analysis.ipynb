{
 "cells": [
  {
   "cell_type": "markdown",
   "metadata": {
    "collapsed": true
   },
   "source": [
    "# Working with pandas in pandapower\n",
    "\n",
    "All data in pandapower is stored in pandas dataframes, which is why all functionalities that are implemented in pandas (http://pandas.pydata.org/) can be used with pandapower. pandas is a very powerful and widely used tool for data analysis.\n",
    "\n",
    "In the following we will present just a few of the many possibilities how builtin pandas functions can make your life easier when working in pandapower.\n",
    "\n",
    "This tutorial refers to pandas functionalities and how to use them with pandapower. If you have not worked with pandas before, this should give you a good overview of the relevant functionality. If you are already familiar with pandas, it might still refresh your memory, but maybe not provide new information."
   ]
  },
  {
   "cell_type": "markdown",
   "metadata": {},
   "source": [
    "We use the mv_oberrhein example from the pandapower networks package for this tutorial."
   ]
  },
  {
   "cell_type": "code",
   "metadata": {},
   "source": [
    "#Import the pandapower and the networks module:\n",
    "from pandapower.networks import mv_oberrhein\n",
    "from pandapower.run import runpp\n",
    "import pandas as pd\n",
    "\n",
    "#Import an example network:\n",
    "net = mv_oberrhein()"
   ],
   "outputs": [],
   "execution_count": null
  },
  {
   "cell_type": "markdown",
   "metadata": {},
   "source": [
    "## Accessing and Setting Parameters\n",
    "\n",
    "You can accesss all parameters of one element with the .loc command:"
   ]
  },
  {
   "cell_type": "code",
   "metadata": {},
   "source": [
    "#Detailed information about line 4\n",
    "net.line.loc[4]"
   ],
   "outputs": [],
   "execution_count": null
  },
  {
   "cell_type": "markdown",
   "metadata": {},
   "source": [
    "Or one parameter of multiple elements:"
   ]
  },
  {
   "cell_type": "code",
   "metadata": {},
   "source": [
    "#Length information about line 5 and 6\n",
    "net.line.length_km.loc[[5,6]]"
   ],
   "outputs": [],
   "execution_count": null
  },
  {
   "cell_type": "markdown",
   "metadata": {},
   "source": [
    "The values are returned as a pandas series. To get them in an array instead, use the values function:"
   ]
  },
  {
   "cell_type": "code",
   "metadata": {},
   "source": [
    "#Length information about line 5 and 6 as numpy array\n",
    "net.line.length_km.loc[[5,6]].values"
   ],
   "outputs": [],
   "execution_count": null
  },
  {
   "cell_type": "markdown",
   "metadata": {},
   "source": [
    "Multiple parameters of multiple elements are returned as a pandas dataframe:"
   ]
  },
  {
   "cell_type": "code",
   "metadata": {},
   "source": [
    "#Length and type information about line 5 and 6                               \n",
    "net.line.loc[[5,6], [\"length_km\", \"r_ohm_per_km\", \"x_ohm_per_km\", \"c_nf_per_km\"]]"
   ],
   "outputs": [],
   "execution_count": null
  },
  {
   "cell_type": "markdown",
   "metadata": {
    "collapsed": true
   },
   "source": [
    "The values function in this case yields a multi-dimensional array:"
   ]
  },
  {
   "cell_type": "code",
   "metadata": {},
   "source": [
    "#Length and type information about line 5 and 6  as an array                             \n",
    "net.line.loc[[5,6], [\"length_km\", \"r_ohm_per_km\", \"x_ohm_per_km\", \"c_nf_per_km\"]].values"
   ],
   "outputs": [],
   "execution_count": null
  },
  {
   "cell_type": "markdown",
   "metadata": {},
   "source": [
    "To access exactly one parameter, .at can be used instead of .loc:"
   ]
  },
  {
   "cell_type": "code",
   "metadata": {},
   "source": [
    "net.line.length_km.at[6]"
   ],
   "outputs": [],
   "execution_count": null
  },
  {
   "cell_type": "markdown",
   "metadata": {},
   "source": [
    "This .at solution can only be used for exactly one parameter, but is siginifcantly faster than using .loc. That is why you should always use .at if possible!"
   ]
  },
  {
   "cell_type": "markdown",
   "metadata": {},
   "source": [
    "Setting parameters works the same way:"
   ]
  },
  {
   "cell_type": "code",
   "metadata": {},
   "source": [
    "#Set single parameter with .at\n",
    "net.line.length_km.at[5] = 3.2\n",
    "#or\n",
    "net.line.at[5, \"length_km\"] = 3.2\n",
    "\n",
    "#Set multiple parameters with .loc\n",
    "net.line.length_km.loc[[4,6]] = [1.8, 2.2]\n",
    "\n",
    "#Output\n",
    "print(\"Line lengths after parameter setting:\")\n",
    "net.line.length_km.loc[[4,5,6]]"
   ],
   "outputs": [],
   "execution_count": null
  },
  {
   "cell_type": "markdown",
   "metadata": {},
   "source": [
    "## Statistical Evaluations\n",
    "\n",
    "You can easily find maximum, minimum values of a column with pandas, e.g."
   ]
  },
  {
   "cell_type": "code",
   "metadata": {},
   "source": [
    "print(f\"Maximum Line Length: {net.line.length_km.max():.2f} km\")\n",
    "print(f\"Minimum Line Length: {net.line.length_km.min():.2f} km\")\n",
    "print(f\"Mean Line Length: {net.line.length_km.mean():.2f} km\")"
   ],
   "outputs": [],
   "execution_count": null
  },
  {
   "cell_type": "markdown",
   "metadata": {},
   "source": [
    "Of course you can also combine these, for example to calculate weighted means:"
   ]
  },
  {
   "cell_type": "code",
   "metadata": {},
   "source": [
    "weighted_mean_r = (net.line.length_km * net.line.r_ohm_per_km).sum() / net.line.length_km.sum()\n",
    "print(f\"Weighted Mean Resistance: {weighted_mean_r:.2f} Ohm per kilometer\")"
   ],
   "outputs": [],
   "execution_count": null
  },
  {
   "cell_type": "markdown",
   "metadata": {},
   "source": [
    "## Iterating over Elements\n",
    "\n",
    "If you want to iterate over a dataframe, use the iterrows function. It gives you the index of each row and the row as a pandas series."
   ]
  },
  {
   "cell_type": "code",
   "metadata": {},
   "source": [
    "for lidx, linerow in net.line.loc[[4,5,6]].iterrows():\n",
    "        print(f\"the line with index {lidx} is {linerow.length_km} kilometers long and has a resistance of {linerow.r_ohm_per_km} ohm per kilometers\")"
   ],
   "outputs": [],
   "execution_count": null
  },
  {
   "cell_type": "markdown",
   "metadata": {},
   "source": [
    "You can also group elements that share the same value in any column of the dataframe with the groubpy function of pandas;"
   ]
  },
  {
   "cell_type": "code",
   "metadata": {},
   "source": [
    "for std_type, linetable in net.line.groupby(net.line.std_type):\n",
    "        print(f\"there are {len(linetable):u} lines with standard type {std_type} with an overall length of {linetable.length_km.sum()} kilometers\")"
   ],
   "outputs": [],
   "execution_count": null
  },
  {
   "cell_type": "markdown",
   "metadata": {},
   "source": [
    "The first variable is now the value of the column you grouped by (here line standard type) and the second variable is a pandas dataframe of all lines that have this value (here all lines with the standard type defined in the first variable)."
   ]
  },
  {
   "cell_type": "markdown",
   "metadata": {},
   "source": [
    "You can also directly sum up certain values of a groupby, for example"
   ]
  },
  {
   "cell_type": "code",
   "metadata": {},
   "source": [
    "net.line.groupby(net.line.std_type).sum().length_km"
   ],
   "outputs": [],
   "execution_count": null
  },
  {
   "cell_type": "markdown",
   "metadata": {},
   "source": [
    "gives you a pandas of series with the sum of all line length grouped by standard type."
   ]
  },
  {
   "cell_type": "markdown",
   "metadata": {},
   "source": [
    "## Querying Dataframes\n",
    "\n",
    "You will often need to select elements with specific characteristics. You can do that with boolean masks:"
   ]
  },
  {
   "cell_type": "code",
   "metadata": {},
   "source": [
    "mask = net.line.length_km > 2.5"
   ],
   "outputs": [],
   "execution_count": null
  },
  {
   "cell_type": "markdown",
   "metadata": {},
   "source": [
    "the mask variable is now a boolean time series that indicates for every line if it longer than 2500 meters or not. We can now select only the ones which are longer than 2500 meters and output their name and length:"
   ]
  },
  {
   "cell_type": "code",
   "metadata": {},
   "source": [
    "long_lines = net.line[mask]\n",
    "\n",
    "#Output\n",
    "long_lines[[\"name\", \"length_km\", \"std_type\"]]"
   ],
   "outputs": [],
   "execution_count": null
  },
  {
   "cell_type": "markdown",
   "metadata": {},
   "source": [
    "or, directly in one step:"
   ]
  },
  {
   "cell_type": "code",
   "metadata": {},
   "source": [
    "net.line[net.line.length_km > 2.5][[\"name\", \"length_km\", \"std_type\"]]\n"
   ],
   "outputs": [],
   "execution_count": null
  },
  {
   "cell_type": "markdown",
   "metadata": {},
   "source": [
    "\n",
    "You can of course also check for exact values, for example if you want all 110 kV buses:"
   ]
  },
  {
   "cell_type": "code",
   "metadata": {},
   "source": [
    "net.bus[net.bus.vn_kv == 110]"
   ],
   "outputs": [],
   "execution_count": null
  },
  {
   "cell_type": "markdown",
   "metadata": {},
   "source": [
    "For string querys, use the str.contains function, for example to find loads with \"MV\" in the name:"
   ]
  },
  {
   "cell_type": "code",
   "metadata": {},
   "source": [
    "net.load[net.load.name.str.startswith(\"MV\")]"
   ],
   "outputs": [],
   "execution_count": null
  },
  {
   "cell_type": "markdown",
   "metadata": {},
   "source": [
    "or to find all all loads that contain \"Load 0\" in their name:"
   ]
  },
  {
   "cell_type": "code",
   "metadata": {},
   "source": [
    "net.load[net.load.name.str.contains(\"Load 0\")]"
   ],
   "outputs": [],
   "execution_count": null
  },
  {
   "cell_type": "markdown",
   "metadata": {},
   "source": [
    "The isin function allows you to check if certain values are contained in a list, for example:"
   ]
  },
  {
   "cell_type": "code",
   "metadata": {},
   "source": [
    "lines = net.line[net.line.from_bus.isin([39,72])]\n",
    "lines[[\"name\", \"from_bus\", \"to_bus\"]]"
   ],
   "outputs": [],
   "execution_count": null
  },
  {
   "cell_type": "markdown",
   "metadata": {},
   "source": [
    "returns the names of all lines that are connected to one of the buses 39 or 72 at the from bus."
   ]
  },
  {
   "cell_type": "markdown",
   "metadata": {},
   "source": [
    "You can also combine certain queries with the logical | (or) and & (and) for more complicated queries, for example:"
   ]
  },
  {
   "cell_type": "code",
   "metadata": {},
   "source": [
    "lines = net.line[(net.line.from_bus.isin([39,72])) | (net.line.to_bus.isin([39,72]))]\n",
    "lines[[\"name\", \"from_bus\", \"to_bus\"]]"
   ],
   "outputs": [],
   "execution_count": null
  },
  {
   "cell_type": "markdown",
   "metadata": {},
   "source": [
    "returns the names of all lines that are connected to one of the buses 39 or 72 at the from bus or to bus."
   ]
  },
  {
   "cell_type": "markdown",
   "metadata": {},
   "source": [
    "Please be aware that the boolean query always returns a copy of the dataframe. Lets say you want to set all medium voltage nodes out of service and try this:"
   ]
  },
  {
   "cell_type": "code",
   "metadata": {},
   "source": [
    "net.bus[net.bus.vn_kv > 25].in_service = False"
   ],
   "outputs": [],
   "execution_count": null
  },
  {
   "cell_type": "markdown",
   "metadata": {},
   "source": [
    "You will notice that your pandapower network table did not change:"
   ]
  },
  {
   "cell_type": "code",
   "metadata": {},
   "source": [
    "net.bus.in_service.head()"
   ],
   "outputs": [],
   "execution_count": null
  },
  {
   "cell_type": "markdown",
   "metadata": {},
   "source": [
    "This is because the query returns a copy and you change the value in this copy in the same way like the following code:"
   ]
  },
  {
   "cell_type": "code",
   "metadata": {},
   "source": [
    "bus_table = net.bus[net.bus.vn_kv < 25]\n",
    "bus_table.in_service = False\n",
    "\n",
    "#Output\n",
    "print(bus_table.in_service.head())\n",
    "# but still:\n",
    "print(net.bus.in_service.head())"
   ],
   "outputs": [],
   "execution_count": null
  },
  {
   "cell_type": "markdown",
   "metadata": {},
   "source": [
    "Here bus_table is a copy of a part of the net.bus table. In the example above, you changed that copy, but not the original table. That is why you need to save the index of the copied bus table and than change the value of the original table:"
   ]
  },
  {
   "cell_type": "code",
   "metadata": {},
   "source": [
    "#Get index and store in ns_nodes\n",
    "ns_nodes = net.bus[net.bus.vn_kv < 25].index\n",
    "\n",
    "#Change all values where index is in ns_nodes\n",
    "net.bus.in_service.loc[ns_nodes] = False\n",
    "\n",
    "#Output\n",
    "print(net.bus.in_service.head())"
   ],
   "outputs": [],
   "execution_count": null
  },
  {
   "cell_type": "markdown",
   "metadata": {},
   "source": [
    "## Extending and Customizing the Framework\n",
    "\n",
    "One of the benefits of pandapower is its easy to customize and extend datastructure. For pandapower to be able to run a loadflow, the standard parameters of the datastructure have to be defined. However, you can extend the pandapower datastructure any way you like."
   ]
  },
  {
   "cell_type": "markdown",
   "metadata": {},
   "source": [
    "Say you have network that is partitioned in three zones A, B and C: "
   ]
  },
  {
   "cell_type": "code",
   "metadata": {},
   "source": [
    "nr_buses = len(net.bus.index)\n",
    "net.bus.loc[net.bus.index[:nr_buses], \"zone\"] = \"A\"\n",
    "net.bus.loc[net.bus.index[nr_buses:], \"zone\"] = \"B\"\n",
    "net.bus.zone.head()"
   ],
   "outputs": [],
   "execution_count": null
  },
  {
   "cell_type": "markdown",
   "metadata": {},
   "source": [
    "The goal is to apply a load scaling factor of 0.8 in Zone A and of 0.6 in Zone B:"
   ]
  },
  {
   "cell_type": "code",
   "metadata": {},
   "source": [
    "for i, load in net.load.iterrows():\n",
    "    if net.bus.zone.at[load.bus] == \"A\":\n",
    "        net.load.scaling.at[i] = 0.8\n",
    "    elif net.bus.zone.at[load.bus] == \"B\":\n",
    "        net.load.scaling.at[i] = 0.6\n",
    "net.load.head(n=5)"
   ],
   "outputs": [],
   "execution_count": null
  },
  {
   "cell_type": "markdown",
   "metadata": {},
   "source": [
    "However, you could also extend the line table to include the zone of each line like this:"
   ]
  },
  {
   "cell_type": "code",
   "metadata": {},
   "source": [
    "net.scaling = 1.0 #reset\n",
    "net.load[\"zone\"] = net.bus.zone.loc[net.load.bus.values].values\n",
    "net.load.head(n=5)"
   ],
   "outputs": [],
   "execution_count": null
  },
  {
   "cell_type": "markdown",
   "metadata": {},
   "source": [
    "and then apply your function only to the lines in Zone A:"
   ]
  },
  {
   "cell_type": "code",
   "metadata": {},
   "source": [
    "net.load.loc[net.load[net.load.zone==\"A\"].index, \"scaling\"] = 0.8\n",
    "net.load.loc[net.load[net.load.zone==\"B\"].index, \"scaling\"] = 0.6\n",
    "net.load.head(n=5)"
   ],
   "outputs": [],
   "execution_count": null
  },
  {
   "cell_type": "markdown",
   "metadata": {},
   "source": [
    "Of course for this simple example, the first solution would also be feasible. But the more complicated your code gets, the more important it is to customize the pandapower framework, so your code is more efficient as well as easier to read and debug."
   ]
  },
  {
   "cell_type": "markdown",
   "metadata": {},
   "source": [
    "## Merging Dataframes\n",
    "\n",
    "Lets say you want to see the voltage at each bus together with the bus name. The voltage is stored in net.res_bus, whereas the name ist stored in net.bus. The two values are in different tables, but they have the same index, which is why you can easily merge them into a new shared dataframe:"
   ]
  },
  {
   "cell_type": "code",
   "metadata": {},
   "source": [
    "net = mv_oberrhein()\n",
    "runpp(net) #Run a load flow calculation to get result tables\n",
    "\n",
    "#Store bus name with bus voltage result of loadflow calculation in bus_results\n",
    "#axis={horizontal=0, vertical=1}: axis to concatenate along\n",
    "bus_results = pd.concat([net.bus.name, net.res_bus.vm_pu], axis=1)\n",
    "\n",
    "#Output\n",
    "bus_results.head(n=8)"
   ],
   "outputs": [],
   "execution_count": null
  },
  {
   "cell_type": "markdown",
   "metadata": {},
   "source": [
    "Now bus results shows you the name and the voltage of each bus in one dataframe."
   ]
  },
  {
   "cell_type": "markdown",
   "metadata": {},
   "source": [
    "If you want to see the bus voltage of all loads, you can also merge the bus and the load dataframe. They do not share an index, but rather the index of the bus is given in the “bus” column of the load table. In that case you can merge the dataframes like this: (for more information about the arguments see [pandas merging documentation] [pandas_merg])\n",
    "[pandas_merg]: http://pandas.pydata.org/pandas-docs/stable/merging.html "
   ]
  },
  {
   "cell_type": "code",
   "metadata": {
    "scrolled": false
   },
   "source": [
    "load_bus_results = pd.merge(net.res_bus, net.load, left_index=True, right_on=\"bus\")\n",
    "\n",
    "#Output\n",
    "load_bus_results.head(n=8)"
   ],
   "outputs": [],
   "execution_count": null
  },
  {
   "cell_type": "markdown",
   "metadata": {},
   "source": [
    "Here net.res_bus is the left and net.load is the right dataframe. To merge the dataframe into one, the index of the left dataframe (left_index=True) and the bus column of the right dataframe (right_on=”bus”) are used. The resulting dataframe shows you the load table with the bus results of the respective load buses."
   ]
  },
  {
   "cell_type": "markdown",
   "metadata": {},
   "source": [
    "If you want to know the maximum voltage at a bus that has a load connected to it, you could use:"
   ]
  },
  {
   "cell_type": "code",
   "metadata": {},
   "source": [
    "max_load_voltage = pd.merge(net.res_bus, net.load, left_index=True, right_on=\"bus\").vm_pu.max()\n",
    "\n",
    "#Output\n",
    "max_load_voltage"
   ],
   "outputs": [],
   "execution_count": null
  },
  {
   "cell_type": "markdown",
   "metadata": {},
   "source": [
    "or alternatively with a boolean mask:"
   ]
  },
  {
   "cell_type": "code",
   "metadata": {},
   "source": [
    "max_load_voltage = net.res_bus[net.bus.index.isin(net.load.bus.values)].vm_pu.max()\n",
    "\n",
    "#Output\n",
    "max_load_voltage"
   ],
   "outputs": [],
   "execution_count": null
  },
  {
   "cell_type": "markdown",
   "metadata": {},
   "source": [
    "In this simple case, the boolean mask solution is about 5 times faster than merging the dataframes, so only use merging for more complicated operations or if runtime is not important (e.g. debugging)."
   ]
  }
 ],
 "metadata": {
  "anaconda-cloud": {},
  "kernelspec": {
   "display_name": "Python 3 (ipykernel)",
   "language": "python",
   "name": "python3"
  },
  "language_info": {
   "codemirror_mode": {
    "name": "ipython",
    "version": 3
   },
   "file_extension": ".py",
   "mimetype": "text/x-python",
   "name": "python",
   "nbconvert_exporter": "python",
   "pygments_lexer": "ipython3",
   "version": "3.9.13"
  }
 },
 "nbformat": 4,
 "nbformat_minor": 1
}
