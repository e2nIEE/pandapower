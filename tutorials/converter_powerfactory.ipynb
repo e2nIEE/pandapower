{
 "cells": [
  {
   "cell_type": "markdown",
   "id": "130754b2",
   "metadata": {},
   "source": [
    "# Export a grid model from PowerFactory to pandapower"
   ]
  },
  {
   "cell_type": "code",
   "execution_count": 1,
   "id": "43eb18ee",
   "metadata": {},
   "outputs": [],
   "source": [
    "import os\n",
    "import pytest\n",
    "\n",
    "from pandapower.converter.powerfactory.validate import validate_pf_conversion\n",
    "from pandapower.converter.powerfactory.export_pfd_to_pp import import_project, from_pfd\n",
    "\n",
    "import logging\n",
    "logger = logging.getLogger(__name__)\n",
    "logger.setLevel(\"INFO\")\n",
    "\n",
    "import powerfactory as pf"
   ]
  },
  {
   "cell_type": "markdown",
   "id": "7fece74b",
   "metadata": {},
   "source": [
    "## Make sure that the Python path contains the PowerFactory Python folder"
   ]
  },
  {
   "cell_type": "code",
   "execution_count": 2,
   "id": "b2cc19fe",
   "metadata": {},
   "outputs": [
    {
     "data": {
      "text/plain": [
       "'C:\\\\Program Files\\\\DIgSILENT\\\\PowerFactory 2022 SP1\\\\Python\\\\3.10'"
      ]
     },
     "execution_count": 2,
     "metadata": {},
     "output_type": "execute_result"
    }
   ],
   "source": [
    "os.environ['PYTHONPATH']"
   ]
  },
  {
   "cell_type": "markdown",
   "id": "d6711283",
   "metadata": {},
   "source": [
    "## Start PowerFactory in Engine Mode"
   ]
  },
  {
   "cell_type": "code",
   "execution_count": 3,
   "id": "1b0915b0",
   "metadata": {},
   "outputs": [],
   "source": [
    "app = pf.GetApplication()"
   ]
  },
  {
   "cell_type": "code",
   "execution_count": 4,
   "id": "0a52cfae",
   "metadata": {},
   "outputs": [
    {
     "data": {
      "text/plain": [
       "<powerfactory.Application>"
      ]
     },
     "execution_count": 4,
     "metadata": {},
     "output_type": "execute_result"
    }
   ],
   "source": [
    "app"
   ]
  },
  {
   "cell_type": "code",
   "execution_count": 5,
   "id": "d0e21c90",
   "metadata": {},
   "outputs": [],
   "source": [
    "app.Show()"
   ]
  },
  {
   "cell_type": "markdown",
   "id": "414cfe21",
   "metadata": {},
   "source": [
    "## Export a grid model from PowerFactory"
   ]
  },
  {
   "cell_type": "code",
   "execution_count": 6,
   "id": "abd4de78",
   "metadata": {
    "scrolled": true
   },
   "outputs": [
    {
     "name": "stderr",
     "output_type": "stream",
     "text": [
      "c:\\users\\rbolgaryn\\repos\\pandapower\\pandapower\\toolbox.py:1448: FutureWarning: Passing a set as an indexer is deprecated and will raise in a future version. Use a list instead.\n",
      "  net.bus.loc[buses, \"in_service\"] = in_service\n",
      "c:\\users\\rbolgaryn\\repos\\pandapower\\pandapower\\toolbox.py:1455: FutureWarning: Passing a set as an indexer is deprecated and will raise in a future version. Use a list instead.\n",
      "  net[element].loc[idx, 'in_service'] = in_service\n",
      "c:\\users\\rbolgaryn\\repos\\pandapower\\pandapower\\toolbox.py:1455: FutureWarning: Passing a set as an indexer is deprecated and will raise in a future version. Use a list instead.\n",
      "  net[element].loc[idx, 'in_service'] = in_service\n",
      "c:\\users\\rbolgaryn\\repos\\pandapower\\pandapower\\toolbox.py:1455: FutureWarning: Passing a set as an indexer is deprecated and will raise in a future version. Use a list instead.\n",
      "  net[element].loc[idx, 'in_service'] = in_service\n",
      "c:\\users\\rbolgaryn\\repos\\pandapower\\pandapower\\toolbox.py:1455: FutureWarning: Passing a set as an indexer is deprecated and will raise in a future version. Use a list instead.\n",
      "  net[element].loc[idx, 'in_service'] = in_service\n",
      "c:\\users\\rbolgaryn\\repos\\pandapower\\pandapower\\toolbox.py:1455: FutureWarning: Passing a set as an indexer is deprecated and will raise in a future version. Use a list instead.\n",
      "  net[element].loc[idx, 'in_service'] = in_service\n",
      "c:\\users\\rbolgaryn\\repos\\pandapower\\pandapower\\toolbox.py:1455: FutureWarning: Passing a set as an indexer is deprecated and will raise in a future version. Use a list instead.\n",
      "  net[element].loc[idx, 'in_service'] = in_service\n",
      "c:\\users\\rbolgaryn\\repos\\pandapower\\pandapower\\toolbox.py:1455: FutureWarning: Passing a set as an indexer is deprecated and will raise in a future version. Use a list instead.\n",
      "  net[element].loc[idx, 'in_service'] = in_service\n",
      "c:\\users\\rbolgaryn\\repos\\pandapower\\pandapower\\toolbox.py:1455: FutureWarning: Passing a set as an indexer is deprecated and will raise in a future version. Use a list instead.\n",
      "  net[element].loc[idx, 'in_service'] = in_service\n",
      "c:\\users\\rbolgaryn\\repos\\pandapower\\pandapower\\toolbox.py:1455: FutureWarning: Passing a set as an indexer is deprecated and will raise in a future version. Use a list instead.\n",
      "  net[element].loc[idx, 'in_service'] = in_service\n",
      "c:\\users\\rbolgaryn\\repos\\pandapower\\pandapower\\toolbox.py:1455: FutureWarning: Passing a set as an indexer is deprecated and will raise in a future version. Use a list instead.\n",
      "  net[element].loc[idx, 'in_service'] = in_service\n",
      "c:\\users\\rbolgaryn\\repos\\pandapower\\pandapower\\toolbox.py:1455: FutureWarning: Passing a set as an indexer is deprecated and will raise in a future version. Use a list instead.\n",
      "  net[element].loc[idx, 'in_service'] = in_service\n",
      "c:\\users\\rbolgaryn\\repos\\pandapower\\pandapower\\toolbox.py:1455: FutureWarning: Passing a set as an indexer is deprecated and will raise in a future version. Use a list instead.\n",
      "  net[element].loc[idx, 'in_service'] = in_service\n",
      "c:\\users\\rbolgaryn\\repos\\pandapower\\pandapower\\toolbox.py:1455: FutureWarning: Passing a set as an indexer is deprecated and will raise in a future version. Use a list instead.\n",
      "  net[element].loc[idx, 'in_service'] = in_service\n",
      "c:\\users\\rbolgaryn\\repos\\pandapower\\pandapower\\toolbox.py:1455: FutureWarning: Passing a set as an indexer is deprecated and will raise in a future version. Use a list instead.\n",
      "  net[element].loc[idx, 'in_service'] = in_service\n",
      "c:\\users\\rbolgaryn\\repos\\pandapower\\pandapower\\toolbox.py:1455: FutureWarning: Passing a set as an indexer is deprecated and will raise in a future version. Use a list instead.\n",
      "  net[element].loc[idx, 'in_service'] = in_service\n",
      "c:\\users\\rbolgaryn\\repos\\pandapower\\pandapower\\toolbox.py:1455: FutureWarning: Passing a set as an indexer is deprecated and will raise in a future version. Use a list instead.\n",
      "  net[element].loc[idx, 'in_service'] = in_service\n"
     ]
    }
   ],
   "source": [
    "net = from_pfd(app, prj_name=\"PFExample\")"
   ]
  },
  {
   "cell_type": "markdown",
   "id": "48e926f9",
   "metadata": {},
   "source": [
    "## Compare the power flow results in PowerFactory and pandapower"
   ]
  },
  {
   "cell_type": "code",
   "execution_count": 7,
   "id": "5a03212c",
   "metadata": {},
   "outputs": [
    {
     "name": "stderr",
     "output_type": "stream",
     "text": [
      "c:\\users\\rbolgaryn\\repos\\pandapower\\pandapower\\converter\\powerfactory\\validate.py:362: FutureWarning: Passing a set as an indexer is deprecated and will raise in a future version. Use a list instead.\n",
      "  pfu = net.res_bus.pf_vm_pu.loc[in_both].replace(0, np.nan)\n",
      "c:\\users\\rbolgaryn\\repos\\pandapower\\pandapower\\converter\\powerfactory\\validate.py:363: FutureWarning: Passing a set as an indexer is deprecated and will raise in a future version. Use a list instead.\n",
      "  pfa = net.res_bus.pf_va_degree.loc[in_both].replace(0, np.nan)\n",
      "c:\\users\\rbolgaryn\\repos\\pandapower\\pandapower\\converter\\powerfactory\\validate.py:364: FutureWarning: Passing a set as an indexer is deprecated and will raise in a future version. Use a list instead.\n",
      "  ppu = net.res_bus.vm_pu.loc[in_both]\n",
      "c:\\users\\rbolgaryn\\repos\\pandapower\\pandapower\\converter\\powerfactory\\validate.py:365: FutureWarning: Passing a set as an indexer is deprecated and will raise in a future version. Use a list instead.\n",
      "  ppa = net.res_bus.va_degree.loc[in_both]\n"
     ]
    }
   ],
   "source": [
    "all_diffs=validate_pf_conversion(net, tolerance_mva=1e-9)"
   ]
  },
  {
   "cell_type": "code",
   "execution_count": 8,
   "id": "e3895c0d",
   "metadata": {},
   "outputs": [
    {
     "data": {
      "text/plain": [
       "count    5.000000e+00\n",
       "mean     4.746568e-10\n",
       "std      2.773772e-10\n",
       "min      0.000000e+00\n",
       "25%      4.730740e-10\n",
       "50%      5.962364e-10\n",
       "75%      6.031130e-10\n",
       "max      7.008607e-10\n",
       "dtype: float64"
      ]
     },
     "execution_count": 8,
     "metadata": {},
     "output_type": "execute_result"
    }
   ],
   "source": [
    "all_diffs['diff_vm'].describe()"
   ]
  }
 ],
 "metadata": {
  "kernelspec": {
   "display_name": "Python 3 (ipykernel)",
   "language": "python",
   "name": "python3"
  },
  "language_info": {
   "codemirror_mode": {
    "name": "ipython",
    "version": 3
   },
   "file_extension": ".py",
   "mimetype": "text/x-python",
   "name": "python",
   "nbconvert_exporter": "python",
   "pygments_lexer": "ipython3",
   "version": "3.10.2"
  }
 },
 "nbformat": 4,
 "nbformat_minor": 5
}
