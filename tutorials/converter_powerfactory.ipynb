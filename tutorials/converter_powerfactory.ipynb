{
 "cells": [
  {
   "cell_type": "markdown",
   "id": "130754b2",
   "metadata": {},
   "source": [
    "# Export a grid model from PowerFactory to pandapower"
   ]
  },
  {
   "cell_type": "code",
   "execution_count": 2,
   "id": "43eb18ee",
   "metadata": {},
   "outputs": [],
   "source": [
    "import os\n",
    "import powerfactory as pf\n",
    "from pandapower.converter.powerfactory.validate import validate_pf_conversion\n",
    "from pandapower.converter.powerfactory.export_pfd_to_pp import from_pfd\n",
    "import logging\n",
    "\n",
    "logger = logging.getLogger(__name__)\n",
    "logger.setLevel(\"INFO\")"
   ]
  },
  {
   "cell_type": "markdown",
   "id": "7fece74b",
   "metadata": {},
   "source": [
    "## Make sure that the Python path contains the PowerFactory Python folder"
   ]
  },
  {
   "cell_type": "markdown",
   "id": "d602fc6a-3c3e-4b3e-8b97-3b5337a915e8",
   "metadata": {},
   "source": [
    "For example:\n",
    "C:\\\\Program Files\\\\DIgSILENT\\\\PowerFactory 2024 SP1\\\\Python\\\\3.12"
   ]
  },
  {
   "cell_type": "code",
   "execution_count": null,
   "id": "e9ccfccf-ac55-4cdf-be24-ff430fe3afd1",
   "metadata": {},
   "outputs": [],
   "source": [
    "os.environ[\"PYTHONPATH\"]"
   ]
  },
  {
   "cell_type": "markdown",
   "id": "d6711283",
   "metadata": {},
   "source": [
    "## Start PowerFactory in Engine Mode"
   ]
  },
  {
   "cell_type": "markdown",
   "id": "825255c3-615a-45cc-b451-4f5f1fd1f0dc",
   "metadata": {},
   "source": [
    "For this to work, make sure that your PowerFactory desktop app is closed! You can only run engine mode when the desktop app is not open simultaneously!"
   ]
  },
  {
   "cell_type": "code",
   "execution_count": 3,
   "id": "1b0915b0",
   "metadata": {},
   "outputs": [],
   "source": [
    "app = pf.GetApplication()"
   ]
  },
  {
   "cell_type": "markdown",
   "id": "414cfe21",
   "metadata": {},
   "source": [
    "## Export a grid model from PowerFactory"
   ]
  },
  {
   "cell_type": "markdown",
   "id": "36c0db53-8ca9-41c9-8480-edfed971519a",
   "metadata": {},
   "source": [
    "For this example to work, you need to have a PowerFactory project that is called \"14 Bus System\". This is actually a standard demo in PowerFactory, which you can create from its Start Menu \"Beispiele -> 14 Knoten Netz\"."
   ]
  },
  {
   "cell_type": "code",
   "execution_count": 4,
   "id": "abd4de78",
   "metadata": {
    "scrolled": true
   },
   "outputs": [],
   "source": [
    "net = from_pfd(\n",
    "    app, prj_name=\"14 Bus System\", handle_us=\"Nothing\", export_controller=True\n",
    ")"
   ]
  },
  {
   "cell_type": "markdown",
   "id": "48e926f9",
   "metadata": {},
   "source": [
    "## Compare the power flow results in PowerFactory and pandapower"
   ]
  },
  {
   "cell_type": "markdown",
   "id": "8e1b40ac-67e0-4bd3-952b-631e3e13cd73",
   "metadata": {},
   "source": [
    "Now we can compare the load flow results between the original PowerFactory model and pandapower by running:"
   ]
  },
  {
   "cell_type": "code",
   "execution_count": 5,
   "id": "5a03212c",
   "metadata": {},
   "outputs": [],
   "source": [
    "all_diffs = validate_pf_conversion(net, tolerance_mva=1e-9)"
   ]
  },
  {
   "cell_type": "code",
   "execution_count": 6,
   "id": "e3895c0d",
   "metadata": {},
   "outputs": [
    {
     "data": {
      "text/html": [
       "<div>\n",
       "<style scoped>\n",
       "    .dataframe tbody tr th:only-of-type {\n",
       "        vertical-align: middle;\n",
       "    }\n",
       "\n",
       "    .dataframe tbody tr th {\n",
       "        vertical-align: top;\n",
       "    }\n",
       "\n",
       "    .dataframe thead th {\n",
       "        text-align: right;\n",
       "    }\n",
       "</style>\n",
       "<table border=\"1\" class=\"dataframe\">\n",
       "  <thead>\n",
       "    <tr style=\"text-align: right;\">\n",
       "      <th></th>\n",
       "      <th>diff</th>\n",
       "      <th>vm_pu_pp</th>\n",
       "      <th>vm_pu_pf</th>\n",
       "    </tr>\n",
       "  </thead>\n",
       "  <tbody>\n",
       "    <tr>\n",
       "      <th>count</th>\n",
       "      <td>1.300000e+01</td>\n",
       "      <td>13.000000</td>\n",
       "      <td>13.000000</td>\n",
       "    </tr>\n",
       "    <tr>\n",
       "      <th>mean</th>\n",
       "      <td>3.625301e-07</td>\n",
       "      <td>1.047850</td>\n",
       "      <td>1.047850</td>\n",
       "    </tr>\n",
       "    <tr>\n",
       "      <th>std</th>\n",
       "      <td>2.302592e-07</td>\n",
       "      <td>0.022170</td>\n",
       "      <td>0.022170</td>\n",
       "    </tr>\n",
       "    <tr>\n",
       "      <th>min</th>\n",
       "      <td>8.695965e-09</td>\n",
       "      <td>1.010000</td>\n",
       "      <td>1.010000</td>\n",
       "    </tr>\n",
       "    <tr>\n",
       "      <th>25%</th>\n",
       "      <td>2.140296e-07</td>\n",
       "      <td>1.035795</td>\n",
       "      <td>1.035796</td>\n",
       "    </tr>\n",
       "    <tr>\n",
       "      <th>50%</th>\n",
       "      <td>3.369854e-07</td>\n",
       "      <td>1.051328</td>\n",
       "      <td>1.051329</td>\n",
       "    </tr>\n",
       "    <tr>\n",
       "      <th>75%</th>\n",
       "      <td>4.779369e-07</td>\n",
       "      <td>1.057082</td>\n",
       "      <td>1.057082</td>\n",
       "    </tr>\n",
       "    <tr>\n",
       "      <th>max</th>\n",
       "      <td>7.525142e-07</td>\n",
       "      <td>1.090000</td>\n",
       "      <td>1.090000</td>\n",
       "    </tr>\n",
       "  </tbody>\n",
       "</table>\n",
       "</div>"
      ],
      "text/plain": [
       "               diff   vm_pu_pp   vm_pu_pf\n",
       "count  1.300000e+01  13.000000  13.000000\n",
       "mean   3.625301e-07   1.047850   1.047850\n",
       "std    2.302592e-07   0.022170   0.022170\n",
       "min    8.695965e-09   1.010000   1.010000\n",
       "25%    2.140296e-07   1.035795   1.035796\n",
       "50%    3.369854e-07   1.051328   1.051329\n",
       "75%    4.779369e-07   1.057082   1.057082\n",
       "max    7.525142e-07   1.090000   1.090000"
      ]
     },
     "execution_count": 6,
     "metadata": {},
     "output_type": "execute_result"
    }
   ],
   "source": [
    "all_diffs[\"diff_vm\"].describe()"
   ]
  }
 ],
 "metadata": {
  "execution": {
   "allow_errors": true,
   "timeout": 300
  },
  "kernelspec": {
   "display_name": "Python 3 (ipykernel)",
   "language": "python",
   "name": "python3"
  },
  "language_info": {
   "codemirror_mode": {
    "name": "ipython",
    "version": 3
   },
   "file_extension": ".py",
   "mimetype": "text/x-python",
   "name": "python",
   "nbconvert_exporter": "python",
   "pygments_lexer": "ipython3",
   "version": "3.12.11"
  }
 },
 "nbformat": 4,
 "nbformat_minor": 5
}
