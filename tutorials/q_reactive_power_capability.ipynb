{
 "cells": [
  {
   "metadata": {},
   "cell_type": "markdown",
   "source": "# <ins>Evaluation of Generator Reactive Power Capability Characteristics in Load Flow Analysis</ins>",
   "id": "ea2fb14d68e6663e"
  },
  {
   "metadata": {},
   "cell_type": "markdown",
   "source": [
    "By incorporating the reactive power capability characteristics of a generator, the minimum **(Qmin)** and maximum **(Qmax)** reactive power limits can be determined as a function of the generator’s active power output. This directly influences the load flow result, which will be demonstrated in subsequent sections of this tutorial.\n",
    "\n",
    "The **q_capability_curve_table** provides a structured representation of the generator’s reactive power limits and consists of the following key variables:\n",
    "  * **id_q_capability_curve** – Identifier for the reactive power capability curve in the **q_capability_curve_table**.  <br>\n",
    "  * **min_q_mvar** – Minimum reactive power limit (Qmin). <br>\n",
    "  * **max_q_mvar** – Maximum reactive power limit (Qmax). <br>\n",
    "\n",
    "To facilitate the integration of these limits, the function **create_q_capability_curve_characteristics_object** is employed. This function transforms the provided reactive power curve data into a characteristic object, applying linear interpolation to construct a continuous function. The resulting characteristic is stored in the **q_capability_curve_characteristic** data structure.\n",
    "\n",
    "Following this, a diagnostic function is executed to identify and report any inconsistencies within the dataset, ensuring data integrity."
   ],
   "id": "8c638f5eff053112"
  },
  {
   "metadata": {},
   "cell_type": "code",
   "outputs": [],
   "execution_count": null,
   "source": [
    "import pandas as pd\n",
    "import numpy as np\n",
    "import pandapower as pp\n",
    "from pandapower.control.util.auxiliary import create_q_capability_curve_characteristics_object\n",
    "from pandapower.control.util.diagnostic import q_capability_curve_characteristics_diagnostic"
   ],
   "id": "4bd21813e5318517"
  },
  {
   "metadata": {},
   "cell_type": "code",
   "outputs": [],
   "execution_count": null,
   "source": [
    "#Create network\n",
    "def test_net_for_q_capability_curve(characteristics_data=False):\n",
    "    net = pp.create_empty_network()\n",
    "    bus1 = pp.create_bus(net, name=\"bus1\", vn_kv=20., type=\"b\", min_vm_pu=0., max_vm_pu=1.05)\n",
    "    bus2 = pp.create_bus(net, name=\"bus2\", vn_kv=110., type=\"b\", min_vm_pu=0., max_vm_pu=1.05)\n",
    "    bus3 = pp.create_bus(net, name=\"bus3\", vn_kv=110., type=\"b\", min_vm_pu=0., max_vm_pu=1.05)\n",
    "\n",
    "    pp.create_ext_grid(net, bus3, name=\"External Grid\", vm_pu=1.0, va_degree=0.0,max_p_mw=100000, min_p_mw=0, min_q_mvar=-300, max_q_mvar=300,\n",
    "                       s_sc_max_mva=10000, s_sc_min_mva=8000, rx_max=0.1, rx_min=0.1)\n",
    "    # create lines\n",
    "    pp.create_line_from_parameters(net, bus2, bus3, length_km=10,df=1,max_loading_percent=100,vn_kv=110,max_i_ka=0.74,type=\"ol\",\n",
    "                   r_ohm_per_km=0.0949, x_ohm_per_km =0.38, c_nf_per_km=0.0092, name=\"Line\")\n",
    "    # create load\n",
    "    pp.create_load(net, bus3, p_mw=200, q_mvar=180, name=\"Load\", vm_pu=1.0 )\n",
    "\n",
    "    # create transformer\n",
    "    pp.create_transformer_from_parameters(net, bus2, bus1, name=\"110kV/20kV transformer\", parallel=1,max_loading_percent=100,sn_mva=210,\n",
    "    vn_hv_kv=110, vn_lv_kv=20, vk_percent=12.5, vkr_percent=0.01904762, vk0_percent=10, vkr0_percent=0,\n",
    "                          shift_degree=330, vector_group=\"YNd11\", i0_percent= 0.26, pfe_kw=0,si0_hv_partial=0.5)\n",
    "\n"
   ],
   "id": "c18c623d500e59a0"
  }
 ],
 "metadata": {
  "kernelspec": {
   "display_name": "Python 3 (ipykernel)",
   "language": "python",
   "name": "python3"
  },
  "language_info": {
   "codemirror_mode": {
    "name": "ipython",
    "version": 3
   },
   "file_extension": ".py",
   "mimetype": "text/x-python",
   "name": "python",
   "nbconvert_exporter": "python",
   "pygments_lexer": "ipython3",
   "version": "3.11.8"
  },
  "widgets": {
   "application/vnd.jupyter.widget-state+json": {
    "state": {},
    "version_major": 2,
    "version_minor": 0
   }
  }
 },
 "nbformat": 4,
 "nbformat_minor": 5
}
