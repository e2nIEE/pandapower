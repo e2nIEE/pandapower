{
 "cells": [
  {
   "cell_type": "markdown",
   "id": "dad6d72aacc5d152",
   "metadata": {},
   "source": "# <ins>Evaluation of Generator Reactive Power Capability Characteristics in Load Flow Analysis</ins>"
  },
  {
   "cell_type": "markdown",
   "id": "a48551a371b704d9",
   "metadata": {},
   "source": [
    "By incorporating the reactive power capability characteristics of a generator, the minimum **(Qmin)** and maximum **(Qmax)** reactive power limits can be determined as a function of the generator’s active power output. This directly influences the load flow result, which will be demonstrated in subsequent sections of this tutorial.\n",
    "\n",
    "The **q_capability_curve_table** provides a structured representation of the generator’s reactive power limits and consists of the following key variables:\n",
    "  * **id_q_capability_curve** – Identifier for the reactive power capability curve in the **q_capability_curve_table**.  <br>\n",
    "  * **min_q_mvar** – Minimum reactive power limit (Qmin). <br>\n",
    "  * **max_q_mvar** – Maximum reactive power limit (Qmax). <br>\n",
    "\n",
    "To facilitate the integration of these limits, the function **create_q_capability_characteristics_object** is employed. This function transforms the provided reactive power curve data into a characteristic object, applying linear interpolation to construct a continuous function. The resulting characteristic is stored in the **q_capability_characteristic** data structure.\n",
    "\n",
    "Following this, a diagnostic function is executed to identify and report any inconsistencies within the dataset, ensuring data integrity."
   ]
  },
  {
   "cell_type": "code",
   "execution_count": 1,
   "id": "1f1536c2f0a9ab1a",
   "metadata": {
    "ExecuteTime": {
     "end_time": "2025-03-05T13:29:49.162728Z",
     "start_time": "2025-03-05T13:29:30.715458Z"
    }
   },
   "outputs": [],
   "source": [
    "import pandas as pd\n",
    "import numpy as np\n",
    "import pandapower as pp\n",
    "from pandapower.control.util.auxiliary import create_q_capability_characteristics_object\n",
    "from pandapower.control.util.diagnostic import q_capability_curve_table_diagnostic"
   ]
  },
  {
   "cell_type": "code",
   "execution_count": 2,
   "id": "59203e36b3b7505a",
   "metadata": {
    "ExecuteTime": {
     "end_time": "2025-03-05T13:29:49.183661Z",
     "start_time": "2025-03-05T13:29:49.171218Z"
    }
   },
   "outputs": [],
   "source": [
    "# Create network\n",
    "def test_net_for_q_capability_curve(characteristics_data=False):\n",
    "    net = pp.create_empty_network()\n",
    "    bus1 = pp.create_bus(\n",
    "        net, name=\"bus1\", vn_kv=20.0, type=\"b\", min_vm_pu=0.0, max_vm_pu=1.05\n",
    "    )\n",
    "    bus2 = pp.create_bus(\n",
    "        net, name=\"bus2\", vn_kv=110.0, type=\"b\", min_vm_pu=0.0, max_vm_pu=1.05\n",
    "    )\n",
    "    bus3 = pp.create_bus(\n",
    "        net, name=\"bus3\", vn_kv=110.0, type=\"b\", min_vm_pu=0.0, max_vm_pu=1.05\n",
    "    )\n",
    "\n",
    "    pp.create_ext_grid(\n",
    "        net,\n",
    "        bus3,\n",
    "        name=\"External Grid\",\n",
    "        vm_pu=1.0,\n",
    "        va_degree=0.0,\n",
    "        max_p_mw=100000,\n",
    "        min_p_mw=0,\n",
    "        min_q_mvar=-300,\n",
    "        max_q_mvar=300,\n",
    "        s_sc_max_mva=10000,\n",
    "        s_sc_min_mva=8000,\n",
    "        rx_max=0.1,\n",
    "        rx_min=0.1,\n",
    "    )\n",
    "    # create lines\n",
    "    pp.create_line_from_parameters(\n",
    "        net,\n",
    "        bus2,\n",
    "        bus3,\n",
    "        length_km=10,\n",
    "        df=1,\n",
    "        max_loading_percent=100,\n",
    "        vn_kv=110,\n",
    "        max_i_ka=0.74,\n",
    "        type=\"ol\",\n",
    "        r_ohm_per_km=0.0949,\n",
    "        x_ohm_per_km=0.38,\n",
    "        c_nf_per_km=0.0092,\n",
    "        name=\"Line\",\n",
    "    )\n",
    "    # create load\n",
    "    pp.create_load(net, bus3, p_mw=200, q_mvar=180, name=\"Load\", vm_pu=1.0)\n",
    "\n",
    "    # create transformer\n",
    "    pp.create_transformer_from_parameters(\n",
    "        net,\n",
    "        bus2,\n",
    "        bus1,\n",
    "        name=\"110kV/20kV transformer\",\n",
    "        parallel=1,\n",
    "        max_loading_percent=100,\n",
    "        sn_mva=210,\n",
    "        vn_hv_kv=110,\n",
    "        vn_lv_kv=20,\n",
    "        vk_percent=12.5,\n",
    "        vkr_percent=0.01904762,\n",
    "        vk0_percent=10,\n",
    "        vkr0_percent=0,\n",
    "        shift_degree=330,\n",
    "        vector_group=\"YNd11\",\n",
    "        i0_percent=0.26,\n",
    "        pfe_kw=0,\n",
    "        si0_hv_partial=0.5,\n",
    "    )\n",
    "\n",
    "    pp.create_gen(\n",
    "        net,\n",
    "        bus1,\n",
    "        p_mw=100,\n",
    "        sn_mva=255.0,\n",
    "        scaling=1.0,\n",
    "        type=\"Hydro\",\n",
    "        cos_phi=0.8,\n",
    "        pg_percent=0.0,\n",
    "        vn_kv=19.0,\n",
    "        vm_pu=1.0,\n",
    "    )\n",
    "    if characteristics_data:\n",
    "        net[\"q_capability_curve_table\"] = pd.DataFrame(\n",
    "            {\n",
    "                \"id_q_capability_curve\": [0, 0, 0, 0, 0, 0, 0, 0, 0, 0, 0, 0],\n",
    "                \"p_mw\": [\n",
    "                    -331.01001,\n",
    "                    -298.0,\n",
    "                    -198.0,\n",
    "                    -66.2000,\n",
    "                    -0.1,\n",
    "                    0,\n",
    "                    0.1,\n",
    "                    66.200,\n",
    "                    100,\n",
    "                    198.00,\n",
    "                    298.00,\n",
    "                    331.01001,\n",
    "                ],\n",
    "                \"q_min_mvar\": [\n",
    "                    -0.0100,\n",
    "                    -134.0099,\n",
    "                    -265.01001,\n",
    "                    -323.01001,\n",
    "                    -323.01001,\n",
    "                    -323.01001,\n",
    "                    -323.01001,\n",
    "                    -323.01001,\n",
    "                    0,\n",
    "                    -265.01001,\n",
    "                    -134.00999,\n",
    "                    -0.01000,\n",
    "                ],\n",
    "                \"q_max_mvar\": [\n",
    "                    0.01000,\n",
    "                    134.00999,\n",
    "                    228.00999,\n",
    "                    257.01001,\n",
    "                    261.01001,\n",
    "                    261.01001,\n",
    "                    261.01001,\n",
    "                    257.01001,\n",
    "                    30,\n",
    "                    40,\n",
    "                    134.0099,\n",
    "                    0.01,\n",
    "                ],\n",
    "            }\n",
    "        )\n",
    "\n",
    "        net.gen.loc[0, \"id_q_capability_characteristic\"] = 0\n",
    "        net.gen[\"curve_style\"] = \"straightLineYValues\"\n",
    "\n",
    "    return net"
   ]
  },
  {
   "cell_type": "markdown",
   "id": "b71ba05d2de786e5",
   "metadata": {},
   "source": "#### <ins>No reactive power limit applied<ins>"
  },
  {
   "cell_type": "code",
   "execution_count": 3,
   "id": "ec02f98f1277a7b7",
   "metadata": {
    "ExecuteTime": {
     "end_time": "2025-03-05T13:29:53.497571Z",
     "start_time": "2025-03-05T13:29:50.463474Z"
    }
   },
   "outputs": [
    {
     "data": {
      "text/plain": [
       "name                                     None\n",
       "bus                                         0\n",
       "p_mw                                    100.0\n",
       "vm_pu                                     1.0\n",
       "sn_mva                                  255.0\n",
       "min_q_mvar                                NaN\n",
       "max_q_mvar                                NaN\n",
       "scaling                                   1.0\n",
       "slack                                   False\n",
       "id_q_capability_curve_characteristic     <NA>\n",
       "reactive_capability_curve               False\n",
       "curve_style                              <NA>\n",
       "in_service                               True\n",
       "slack_weight                              0.0\n",
       "type                                    Hydro\n",
       "vn_kv                                    19.0\n",
       "cos_phi                                   0.8\n",
       "pg_percent                                0.0\n",
       "Name: 0, dtype: object"
      ]
     },
     "execution_count": 3,
     "metadata": {},
     "output_type": "execute_result"
    }
   ],
   "source": [
    "net1 = test_net_for_q_capability_curve()\n",
    "pp.runpp(net1)\n",
    "net1.gen.loc[0]"
   ]
  },
  {
   "cell_type": "markdown",
   "id": "569b6aacbb16caea",
   "metadata": {},
   "source": "Upon examining the lookup table, it is observed that no values were initially assigned to the variables **min_q_mvar** and **max_q_mvar**. These values are now assigned, thereby completing the definition of the generator’s reactive power characteristic."
  },
  {
   "cell_type": "markdown",
   "id": "7b2c09d00209c628",
   "metadata": {},
   "source": "#### <ins>General reactive power limits enforced</ins>"
  },
  {
   "cell_type": "code",
   "execution_count": 4,
   "id": "62951e84cbf71ae5",
   "metadata": {
    "ExecuteTime": {
     "end_time": "2025-03-05T13:29:53.576764Z",
     "start_time": "2025-03-05T13:29:53.518411Z"
    }
   },
   "outputs": [],
   "source": [
    "net2 = test_net_for_q_capability_curve()\n",
    "net2.gen.loc[0, \"max_q_mvar\"] = 50.0\n",
    "net2.gen.loc[0, \"min_q_mvar\"] = -3"
   ]
  },
  {
   "cell_type": "code",
   "execution_count": 5,
   "id": "c3c93660c2f1940e",
   "metadata": {
    "ExecuteTime": {
     "end_time": "2025-03-05T13:29:53.682385Z",
     "start_time": "2025-03-05T13:29:53.629891Z"
    }
   },
   "outputs": [],
   "source": [
    "pp.runpp(net2, enforce_q_lims=True)\n",
    "assert net2.res_gen.q_mvar.loc[0] == -3\n",
    "assert net2.res_gen.p_mw.loc[0] == 100"
   ]
  },
  {
   "cell_type": "code",
   "execution_count": 6,
   "id": "dbaccadc497fb13b",
   "metadata": {
    "ExecuteTime": {
     "end_time": "2025-03-05T13:29:53.728107Z",
     "start_time": "2025-03-05T13:29:53.718616Z"
    }
   },
   "outputs": [
    {
     "data": {
      "text/plain": [
       "name                                     None\n",
       "bus                                         0\n",
       "p_mw                                    100.0\n",
       "vm_pu                                     1.0\n",
       "sn_mva                                  255.0\n",
       "min_q_mvar                               -3.0\n",
       "max_q_mvar                               50.0\n",
       "scaling                                   1.0\n",
       "slack                                   False\n",
       "id_q_capability_curve_characteristic     <NA>\n",
       "reactive_capability_curve               False\n",
       "curve_style                              <NA>\n",
       "in_service                               True\n",
       "slack_weight                              0.0\n",
       "type                                    Hydro\n",
       "vn_kv                                    19.0\n",
       "cos_phi                                   0.8\n",
       "pg_percent                                0.0\n",
       "Name: 0, dtype: object"
      ]
     },
     "execution_count": 6,
     "metadata": {},
     "output_type": "execute_result"
    }
   ],
   "source": [
    "net2.gen.loc[0]"
   ]
  },
  {
   "cell_type": "markdown",
   "id": "380503001984e644",
   "metadata": {},
   "source": "#### <ins>Create Q characteristics table</ins>"
  },
  {
   "cell_type": "code",
   "execution_count": 7,
   "id": "8be14b6573be06b5",
   "metadata": {
    "ExecuteTime": {
     "end_time": "2025-03-05T13:29:53.878740Z",
     "start_time": "2025-03-05T13:29:53.830676Z"
    }
   },
   "outputs": [],
   "source": [
    "net3 = test_net_for_q_capability_curve(characteristics_data=True)"
   ]
  },
  {
   "cell_type": "code",
   "execution_count": 8,
   "id": "f34779a057f2d046",
   "metadata": {
    "ExecuteTime": {
     "end_time": "2025-03-05T13:29:53.928179Z",
     "start_time": "2025-03-05T13:29:53.916813Z"
    }
   },
   "outputs": [],
   "source": [
    "# Add q_capability_characteristic for one gen based on q_capability_curve_table\n",
    "create_q_capability_characteristics_object(net3)"
   ]
  },
  {
   "cell_type": "markdown",
   "id": "28a99e583397566c",
   "metadata": {},
   "source": "The generator's characteristic has now been added to the dataframe. Refer to the lookup table **q_capability_curve_table** below for details:"
  },
  {
   "cell_type": "code",
   "execution_count": 9,
   "id": "8a6d07a145b5c885",
   "metadata": {
    "ExecuteTime": {
     "end_time": "2025-03-05T13:29:53.965142Z",
     "start_time": "2025-03-05T13:29:53.946366Z"
    }
   },
   "outputs": [
    {
     "data": {
      "text/html": [
       "<div>\n",
       "<style scoped>\n",
       "    .dataframe tbody tr th:only-of-type {\n",
       "        vertical-align: middle;\n",
       "    }\n",
       "\n",
       "    .dataframe tbody tr th {\n",
       "        vertical-align: top;\n",
       "    }\n",
       "\n",
       "    .dataframe thead th {\n",
       "        text-align: right;\n",
       "    }\n",
       "</style>\n",
       "<table border=\"1\" class=\"dataframe\">\n",
       "  <thead>\n",
       "    <tr style=\"text-align: right;\">\n",
       "      <th></th>\n",
       "      <th>id_q_capability_curve</th>\n",
       "      <th>p_mw</th>\n",
       "      <th>q_min_mvar</th>\n",
       "      <th>q_max_mvar</th>\n",
       "    </tr>\n",
       "  </thead>\n",
       "  <tbody>\n",
       "    <tr>\n",
       "      <th>0</th>\n",
       "      <td>0</td>\n",
       "      <td>-331.01001</td>\n",
       "      <td>-0.01000</td>\n",
       "      <td>0.01000</td>\n",
       "    </tr>\n",
       "    <tr>\n",
       "      <th>1</th>\n",
       "      <td>0</td>\n",
       "      <td>-298.00000</td>\n",
       "      <td>-134.00990</td>\n",
       "      <td>134.00999</td>\n",
       "    </tr>\n",
       "    <tr>\n",
       "      <th>2</th>\n",
       "      <td>0</td>\n",
       "      <td>-198.00000</td>\n",
       "      <td>-265.01001</td>\n",
       "      <td>228.00999</td>\n",
       "    </tr>\n",
       "    <tr>\n",
       "      <th>3</th>\n",
       "      <td>0</td>\n",
       "      <td>-66.20000</td>\n",
       "      <td>-323.01001</td>\n",
       "      <td>257.01001</td>\n",
       "    </tr>\n",
       "    <tr>\n",
       "      <th>4</th>\n",
       "      <td>0</td>\n",
       "      <td>-0.10000</td>\n",
       "      <td>-323.01001</td>\n",
       "      <td>261.01001</td>\n",
       "    </tr>\n",
       "    <tr>\n",
       "      <th>5</th>\n",
       "      <td>0</td>\n",
       "      <td>0.00000</td>\n",
       "      <td>-323.01001</td>\n",
       "      <td>261.01001</td>\n",
       "    </tr>\n",
       "    <tr>\n",
       "      <th>6</th>\n",
       "      <td>0</td>\n",
       "      <td>0.10000</td>\n",
       "      <td>-323.01001</td>\n",
       "      <td>261.01001</td>\n",
       "    </tr>\n",
       "    <tr>\n",
       "      <th>7</th>\n",
       "      <td>0</td>\n",
       "      <td>66.20000</td>\n",
       "      <td>-323.01001</td>\n",
       "      <td>257.01001</td>\n",
       "    </tr>\n",
       "    <tr>\n",
       "      <th>8</th>\n",
       "      <td>0</td>\n",
       "      <td>100.00000</td>\n",
       "      <td>0.00000</td>\n",
       "      <td>30.00000</td>\n",
       "    </tr>\n",
       "    <tr>\n",
       "      <th>9</th>\n",
       "      <td>0</td>\n",
       "      <td>198.00000</td>\n",
       "      <td>-265.01001</td>\n",
       "      <td>40.00000</td>\n",
       "    </tr>\n",
       "    <tr>\n",
       "      <th>10</th>\n",
       "      <td>0</td>\n",
       "      <td>298.00000</td>\n",
       "      <td>-134.00999</td>\n",
       "      <td>134.00990</td>\n",
       "    </tr>\n",
       "    <tr>\n",
       "      <th>11</th>\n",
       "      <td>0</td>\n",
       "      <td>331.01001</td>\n",
       "      <td>-0.01000</td>\n",
       "      <td>0.01000</td>\n",
       "    </tr>\n",
       "  </tbody>\n",
       "</table>\n",
       "</div>"
      ],
      "text/plain": [
       "    id_q_capability_curve       p_mw  q_min_mvar  q_max_mvar\n",
       "0                       0 -331.01001    -0.01000     0.01000\n",
       "1                       0 -298.00000  -134.00990   134.00999\n",
       "2                       0 -198.00000  -265.01001   228.00999\n",
       "3                       0  -66.20000  -323.01001   257.01001\n",
       "4                       0   -0.10000  -323.01001   261.01001\n",
       "5                       0    0.00000  -323.01001   261.01001\n",
       "6                       0    0.10000  -323.01001   261.01001\n",
       "7                       0   66.20000  -323.01001   257.01001\n",
       "8                       0  100.00000     0.00000    30.00000\n",
       "9                       0  198.00000  -265.01001    40.00000\n",
       "10                      0  298.00000  -134.00999   134.00990\n",
       "11                      0  331.01001    -0.01000     0.01000"
      ]
     },
     "execution_count": 9,
     "metadata": {},
     "output_type": "execute_result"
    }
   ],
   "source": [
    "net3.q_capability_curve_table"
   ]
  },
  {
   "cell_type": "markdown",
   "id": "b9eb5bb6f9a45426",
   "metadata": {},
   "source": "After executing the **create_q_capability_characteristics_object** function, the following column in the **net.gen** are updated:  **reactive_capability_curve**"
  },
  {
   "cell_type": "code",
   "execution_count": 10,
   "id": "5d66e2385aee9b42",
   "metadata": {
    "ExecuteTime": {
     "end_time": "2025-03-05T13:29:54.017731Z",
     "start_time": "2025-03-05T13:29:54.010772Z"
    }
   },
   "outputs": [
    {
     "data": {
      "text/plain": [
       "name                                                   None\n",
       "bus                                                       0\n",
       "p_mw                                                  100.0\n",
       "vm_pu                                                   1.0\n",
       "sn_mva                                                255.0\n",
       "min_q_mvar                                              NaN\n",
       "max_q_mvar                                              NaN\n",
       "scaling                                                 1.0\n",
       "slack                                                 False\n",
       "id_q_capability_curve_characteristic                      0\n",
       "reactive_capability_curve                              True\n",
       "curve_style                             straightLineYValues\n",
       "in_service                                             True\n",
       "slack_weight                                            0.0\n",
       "type                                                  Hydro\n",
       "vn_kv                                                  19.0\n",
       "cos_phi                                                 0.8\n",
       "pg_percent                                              0.0\n",
       "Name: 0, dtype: object"
      ]
     },
     "execution_count": 10,
     "metadata": {},
     "output_type": "execute_result"
    }
   ],
   "source": [
    "net3.gen.loc[0]"
   ]
  },
  {
   "cell_type": "markdown",
   "id": "2621394f057e1309",
   "metadata": {},
   "source": "The **q_capability_characteristic** table is look like below:"
  },
  {
   "cell_type": "code",
   "execution_count": 11,
   "id": "1bfa18e7589bfc10",
   "metadata": {
    "ExecuteTime": {
     "end_time": "2025-03-05T13:29:54.087693Z",
     "start_time": "2025-03-05T13:29:54.079393Z"
    }
   },
   "outputs": [
    {
     "data": {
      "text/html": [
       "<div>\n",
       "<style scoped>\n",
       "    .dataframe tbody tr th:only-of-type {\n",
       "        vertical-align: middle;\n",
       "    }\n",
       "\n",
       "    .dataframe tbody tr th {\n",
       "        vertical-align: top;\n",
       "    }\n",
       "\n",
       "    .dataframe thead th {\n",
       "        text-align: right;\n",
       "    }\n",
       "</style>\n",
       "<table border=\"1\" class=\"dataframe\">\n",
       "  <thead>\n",
       "    <tr style=\"text-align: right;\">\n",
       "      <th></th>\n",
       "      <th>id_q_capability_curve</th>\n",
       "      <th>q_max_characteristic</th>\n",
       "      <th>q_min_characteristic</th>\n",
       "    </tr>\n",
       "  </thead>\n",
       "  <tbody>\n",
       "    <tr>\n",
       "      <th>0</th>\n",
       "      <td>0</td>\n",
       "      <td>Characteristic</td>\n",
       "      <td>Characteristic</td>\n",
       "    </tr>\n",
       "  </tbody>\n",
       "</table>\n",
       "</div>"
      ],
      "text/plain": [
       "   id_q_capability_curve q_max_characteristic q_min_characteristic\n",
       "0                      0       Characteristic       Characteristic"
      ]
     },
     "execution_count": 11,
     "metadata": {},
     "output_type": "execute_result"
    }
   ],
   "source": [
    "net3.q_capability_characteristic"
   ]
  },
  {
   "cell_type": "markdown",
   "id": "5364f895a1caf626",
   "metadata": {},
   "source": "The characteristic function created within this process is a **Characteristic** object, utilizing SciPy’s **interp1d** for **linear interpolation**."
  },
  {
   "cell_type": "code",
   "execution_count": 12,
   "id": "68aeb29c6786da09",
   "metadata": {
    "ExecuteTime": {
     "end_time": "2025-03-05T13:29:54.294428Z",
     "start_time": "2025-03-05T13:29:54.193646Z"
    }
   },
   "outputs": [
    {
     "data": {
      "image/png": "[encoded data removed]",
      "text/plain": [
       "<Figure size 640x480 with 1 Axes>"
      ]
     },
     "metadata": {},
     "output_type": "display_data"
    }
   ],
   "source": [
    "pp.control.plot_characteristic(\n",
    "    net3.q_capability_characteristic.q_max_characteristic.at[0],\n",
    "    -331,\n",
    "    331,\n",
    "    xlabel='Values of \"P_mw\"',\n",
    "    ylabel='Value of \"Q_max_Mvar\"',\n",
    ")"
   ]
  },
  {
   "cell_type": "code",
   "execution_count": 13,
   "id": "fce6270e5893444a",
   "metadata": {
    "ExecuteTime": {
     "end_time": "2025-03-05T13:29:54.465283Z",
     "start_time": "2025-03-05T13:29:54.344847Z"
    }
   },
   "outputs": [
    {
     "data": {
      "image/png": "[encoded data removed]",
      "text/plain": [
       "<Figure size 640x480 with 1 Axes>"
      ]
     },
     "metadata": {},
     "output_type": "display_data"
    }
   ],
   "source": [
    "pp.control.plot_characteristic(\n",
    "    net3.q_capability_characteristic.q_min_characteristic.at[0],\n",
    "    -331,\n",
    "    331,\n",
    "    xlabel='Values of \"P_mw\"',\n",
    "    ylabel='Value of \"Q_min_Mvar\"',\n",
    ")"
   ]
  },
  {
   "cell_type": "code",
   "execution_count": 14,
   "id": "37921ef85ac1abe4",
   "metadata": {
    "ExecuteTime": {
     "end_time": "2025-03-05T13:29:54.554337Z",
     "start_time": "2025-03-05T13:29:54.514351Z"
    }
   },
   "outputs": [],
   "source": [
    "pp.runpp(net3, enforce_q_lims=True)\n",
    "assert net3.res_gen.q_mvar.loc[0] == 0\n",
    "assert net3.res_gen.p_mw.loc[0] == 100"
   ]
  },
  {
   "cell_type": "markdown",
   "id": "60f5654844423431",
   "metadata": {},
   "source": [
    "# Validation and Impact on Load Flow\n",
    "To verify the impact of the adjusted values on the power system simulation:\n",
    "* Voltage magnitudes at generator buses are examined. <br>\n",
    "* Reactive power generation is observed to remain constant when the generator reaches its defined limits during load flow analysis.\n",
    "* A comparative analysis is performed to evaluate the difference in results across three cases:\n",
    "    * No reactive power limit applied <br>\n",
    "    * General reactive power limits enforced<br>\n",
    "    * Limits derived from the characteristic table"
   ]
  },
  {
   "cell_type": "code",
   "execution_count": 15,
   "id": "55f8fd006d6b97ce",
   "metadata": {
    "ExecuteTime": {
     "end_time": "2025-03-05T13:29:54.611976Z",
     "start_time": "2025-03-05T13:29:54.562869Z"
    }
   },
   "outputs": [
    {
     "name": "stdout",
     "output_type": "stream",
     "text": [
      "\n",
      " --------No reactive power limit applied-----------------\n",
      "\n",
      "Qmin=nan\n",
      "QMax=nan\n",
      "\n",
      "    p_mw    q_mvar  va_degree  vm_pu\n",
      "0  100.0 -3.767667  35.237286    1.0\n",
      "      vm_pu  va_degree        p_mw     q_mvar\n",
      "0  1.000000  35.237286 -100.000000   3.767667\n",
      "1  1.004081   1.838210    0.000000   0.000000\n",
      "2  1.000000   0.000000   99.204901 -13.425442\n",
      "\n",
      " --------General reactive power limits enforced-------------\n",
      "\n",
      "Qmin=-3.0\n",
      "QMax=50.0\n",
      "\n",
      "    p_mw  q_mvar  va_degree     vm_pu\n",
      "0  100.0    -3.0  35.230084  1.000706\n",
      "      vm_pu  va_degree      p_mw     q_mvar\n",
      "0  1.000706  35.230084 -100.0000   3.000000\n",
      "1  1.004326   1.834276    0.0000   0.000000\n",
      "2  1.000000   0.000000   99.2065 -12.640224\n",
      "\n",
      " --------Limits derived from the characteristic table---------\n",
      "\n",
      "Qmin=nan\n",
      "QMax=nan\n",
      "\n",
      "    p_mw  q_mvar  va_degree     vm_pu\n",
      "0  100.0     0.0  35.202086  1.003454\n",
      "      vm_pu  va_degree        p_mw  q_mvar\n",
      "0  1.003454  35.202086 -100.000000  0.0000\n",
      "1  1.005278   1.818956    0.000000  0.0000\n",
      "2  1.000000   0.000000   99.211806 -9.5824\n"
     ]
    }
   ],
   "source": [
    "print(\"\\n --------No reactive power limit applied-----------------\\n\")\n",
    "print(f\"Qmin={net1.gen.min_q_mvar.loc[0]}\")\n",
    "print(f\"QMax={net1.gen.max_q_mvar.loc[0]}\\n\")\n",
    "print(net1.res_gen)\n",
    "print(net1.res_bus)\n",
    "print(\"\\n --------General reactive power limits enforced-------------\\n\")\n",
    "print(f\"Qmin={net2.gen.min_q_mvar.loc[0]}\")\n",
    "print(f\"QMax={net2.gen.max_q_mvar.loc[0]}\\n\")\n",
    "print(net2.res_gen)\n",
    "print(net2.res_bus)\n",
    "print(\"\\n --------Limits derived from the characteristic table---------\\n\")\n",
    "print(f\"Qmin={net3.gen.min_q_mvar.loc[0]}\")\n",
    "print(f\"QMax={net3.gen.max_q_mvar.loc[0]}\\n\")\n",
    "print(net3.res_gen)\n",
    "print(net3.res_bus)"
   ]
  },
  {
   "cell_type": "markdown",
   "id": "b43dd0330bb0d46b",
   "metadata": {},
   "source": "The results confirm that applying the reactive power capability characteristics leads to distinct voltage profiles and a controlled reactive power response, significantly influencing the overall power system behavior."
  },
  {
   "cell_type": "markdown",
   "id": "fadf01f27e6f351",
   "metadata": {},
   "source": [
    "# Diagnostic\n",
    "The\n",
    "diagnostic\n",
    "function\n",
    "for generator reactive power characteristics checks the following:\n",
    "\n",
    "* Are there Q capability curve characteristic table?\n",
    "* Are there ** reactive_capability_curve **, ** curve_style ** and ** id_q_capability_characteristic ** missing in net.gen or net.sgen?\n",
    "*Check if all\n",
    "relevant\n",
    "columns\n",
    "for creating Q capability characteristics are populated in the ** q_capability_curve_table **\n",
    "*Check\n",
    "the\n",
    "data\n",
    "types\n",
    "of ** reactive_capability_curve ** and ** id_q_capability_characteristic **\n",
    "* Are there any missing ** id_q_capability_characteristic ** values in the ** q_capability_curve_table ** ?\n",
    "\n",
    "The\n",
    "results\n",
    "are\n",
    "displayed\n",
    "to\n",
    "the\n",
    "user\n",
    "with the help of warning statements."
   ]
  },
  {
   "cell_type": "code",
   "execution_count": 16,
   "id": "eff36b043eb6ec97",
   "metadata": {
    "ExecuteTime": {
     "end_time": "2025-03-05T13:29:54.725649Z",
     "start_time": "2025-03-05T13:29:54.657951Z"
    }
   },
   "outputs": [
    {
     "data": {
      "text/plain": [
       "True"
      ]
     },
     "execution_count": 16,
     "metadata": {},
     "output_type": "execute_result"
    }
   ],
   "source": [
    "net4 = test_net_for_q_capability_curve(characteristics_data=True)\n",
    "create_q_capability_characteristics_object(net4)\n",
    "q_capability_curve_table_diagnostic(net4, \"gen\")\n",
    "# pp.runpp(net4, enforce_q_lims=True)"
   ]
  },
  {
   "cell_type": "code",
   "execution_count": 17,
   "id": "e54df313fe91e0d0",
   "metadata": {
    "ExecuteTime": {
     "end_time": "2025-03-05T13:29:54.754452Z",
     "start_time": "2025-03-05T13:29:54.739431Z"
    }
   },
   "outputs": [
    {
     "name": "stderr",
     "output_type": "stream",
     "text": [
      "C:\\Users\\gjmal\\PycharmProjects\\pandapower-develop\\pandapower\\pandapower\\control\\util\\diagnostic.py:230: UserWarning: Found 1 gen(s) with mismatched between curve_style, reactive_capability_curve and id_q_capability_curve_characteristic parameters populated. Power flow calculation will raise an error.\n",
      "  warnings.warn(f\"Found {mismatch} {element}(s) with mismatched between curve_style, \"\n"
     ]
    },
    {
     "data": {
      "text/plain": [
       "False"
      ]
     },
     "execution_count": 17,
     "metadata": {},
     "output_type": "execute_result"
    }
   ],
   "source": [
    "net4.gen.loc[0, \"reactive_capability_curve\"] = False\n",
    "q_capability_curve_table_diagnostic(net4, \"gen\")"
   ]
  },
  {
   "cell_type": "code",
   "execution_count": 18,
   "id": "3d308b2d09f0921a",
   "metadata": {
    "ExecuteTime": {
     "end_time": "2025-03-05T13:29:54.834610Z",
     "start_time": "2025-03-05T13:29:54.763442Z"
    }
   },
   "outputs": [
    {
     "name": "stderr",
     "output_type": "stream",
     "text": [
      "C:\\Users\\gjmal\\PycharmProjects\\pandapower-develop\\pandapower\\pandapower\\control\\util\\diagnostic.py:230: UserWarning: Found 1 gen(s) with mismatched between curve_style, reactive_capability_curve and id_q_capability_curve_characteristic parameters populated. Power flow calculation will raise an error.\n",
      "  warnings.warn(f\"Found {mismatch} {element}(s) with mismatched between curve_style, \"\n",
      "C:\\Users\\gjmal\\PycharmProjects\\pandapower-develop\\pandapower\\pandapower\\control\\util\\diagnostic.py:269: UserWarning: Not all id_q_capability_curve_characteristic values of gen are present in the q_capability_curve_table.\n",
      "  warnings.warn(f\"Not all id_q_capability_curve_characteristic values of {element} are present in the \"\n"
     ]
    },
    {
     "data": {
      "text/plain": [
       "False"
      ]
     },
     "execution_count": 18,
     "metadata": {},
     "output_type": "execute_result"
    }
   ],
   "source": [
    "net4 = test_net_for_q_capability_curve(characteristics_data=True)\n",
    "create_q_capability_characteristics_object(net4)\n",
    "net4.gen.loc[0, \"reactive_capability_curve\"] = False\n",
    "net4.gen.loc[0, \"id_q_capability_characteristic\"] = np.nan\n",
    "q_capability_curve_table_diagnostic(net4, \"gen\")"
   ]
  },
  {
   "cell_type": "code",
   "execution_count": 19,
   "id": "1ae372be738e8927",
   "metadata": {
    "ExecuteTime": {
     "end_time": "2025-03-05T13:29:54.912007Z",
     "start_time": "2025-03-05T13:29:54.854143Z"
    }
   },
   "outputs": [
    {
     "name": "stderr",
     "output_type": "stream",
     "text": [
      "C:\\Users\\gjmal\\PycharmProjects\\pandapower-develop\\pandapower\\pandapower\\control\\util\\diagnostic.py:261: UserWarning: There are 1 unknown curve style in curve_style column of the gen table\n",
      "  warnings.warn(f\"There are {curve_df.count()} unknown curve style in curve_style column of the \"\n"
     ]
    },
    {
     "data": {
      "text/plain": [
       "False"
      ]
     },
     "execution_count": 19,
     "metadata": {},
     "output_type": "execute_result"
    }
   ],
   "source": [
    "net4 = test_net_for_q_capability_curve(characteristics_data=True)\n",
    "create_q_capability_characteristics_object(net4)\n",
    "net4.gen.loc[0, \"curve_style\"] = \"hi\"\n",
    "net4.q_capability_curve_table.drop(columns=\"q_min_mvar\")\n",
    "q_capability_curve_table_diagnostic(net4, \"gen\")"
   ]
  },
  {
   "cell_type": "code",
   "execution_count": 20,
   "id": "65b9ff6ec2ccedd7",
   "metadata": {
    "ExecuteTime": {
     "end_time": "2025-03-05T13:29:54.977864Z",
     "start_time": "2025-03-05T13:29:54.921961Z"
    }
   },
   "outputs": [
    {
     "name": "stderr",
     "output_type": "stream",
     "text": [
      "C:\\Users\\gjmal\\PycharmProjects\\pandapower-develop\\pandapower\\pandapower\\control\\util\\diagnostic.py:242: UserWarning: There are some gen(s) with not all characteristics populated in the q_capability_curve_table.\n",
      "  warnings.warn(f\"There are some {element}(s) with not all characteristics \"\n"
     ]
    },
    {
     "data": {
      "text/plain": [
       "False"
      ]
     },
     "execution_count": 20,
     "metadata": {},
     "output_type": "execute_result"
    }
   ],
   "source": [
    "net4 = test_net_for_q_capability_curve(characteristics_data=True)\n",
    "create_q_capability_characteristics_object(net4)\n",
    "net4.q_capability_curve_table.q_min_mvar = np.nan\n",
    "net4.q_capability_curve_table.drop(columns=\"q_min_mvar\")\n",
    "q_capability_curve_table_diagnostic(net4, \"gen\")"
   ]
  }
 ],
 "metadata": {
  "kernelspec": {
   "display_name": "Python 3 (ipykernel)",
   "language": "python",
   "name": "python3"
  },
  "language_info": {
   "codemirror_mode": {
    "name": "ipython",
    "version": 3
   },
   "file_extension": ".py",
   "mimetype": "text/x-python",
   "name": "python",
   "nbconvert_exporter": "python",
   "pygments_lexer": "ipython3",
   "version": "3.11.8"
  },
  "widgets": {
   "application/vnd.jupyter.widget-state+json": {
    "state": {},
    "version_major": 2,
    "version_minor": 0
   }
  }
 },
 "nbformat": 4,
 "nbformat_minor": 5
}
