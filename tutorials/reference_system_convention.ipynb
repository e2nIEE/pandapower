{
 "cells": [
  {
   "cell_type": "markdown",
   "id": "religious-curve",
   "metadata": {},
   "source": [
    "# Consumption and Generation Reference System"
   ]
  },
  {
   "cell_type": "markdown",
   "id": "furnished-anger",
   "metadata": {},
   "source": [
    "This tutorial is about the effect of the sign of active and reactive power in load and sgen in pandapower. In this tutorial, the load element is used to model power consumption and the static generator element is used to model power generation. In pandapower, the convention for consumption and generation is different. This difference between consumer frame convention and generator frame convention will be demonstrated here."
   ]
  },
  {
   "cell_type": "markdown",
   "id": "considerable-holiday",
   "metadata": {},
   "source": [
    "![](l.png)"
   ]
  },
  {
   "cell_type": "markdown",
   "id": "working-thumb",
   "metadata": {},
   "source": [
    "In regard to reactive power, there are 2 states for the 4 quadrants of each frame convention: under-excited and over-excited.\n",
    "\n",
    "In the Consumer Frame Convention, which is used for load-like elements (load, shunt, ward, xward, storage), the term ‘under-excited’ is used to indicate that the load is in I and II quadrants and is absorbing reactive power (decreases voltage) and the term ‘over-excited’ is used to indicate that the load is in the III and IV quadrants and is injecting reactive power (increases voltage).\n",
    "\n",
    "In the Generator Frame Convention, which is used for generator-like elements (gen, sgen, ext_grid), the term ‘over-excited’ is used to indicate the generator is in the I and II quadrants and is injecting reactive power (increases voltage), and the term ‘under-excited’ is used to indicate the generator is in III and IV quadrants and is absorbing reactive power (decreases voltage)."
   ]
  },
  {
   "cell_type": "markdown",
   "id": "immune-evans",
   "metadata": {},
   "source": [
    "We show the differences between the reference systems with the following example."
   ]
  },
  {
   "cell_type": "code",
   "execution_count": 1,
   "id": "understood-fellowship",
   "metadata": {},
   "outputs": [],
   "source": [
    "import pandapower as pp\n",
    "import pandas as pd\n",
    "import numpy as np\n",
    "import seaborn as sn"
   ]
  },
  {
   "cell_type": "code",
   "execution_count": 2,
   "id": "fatty-proposal",
   "metadata": {},
   "outputs": [
    {
     "data": {
      "text/plain": [
       "This pandapower network includes the following parameter tables:\n",
       "   - bus (2 elements)\n",
       "   - load (1 element)\n",
       "   - sgen (1 element)\n",
       "   - ext_grid (1 element)\n",
       "   - line (1 element)"
      ]
     },
     "execution_count": 2,
     "metadata": {},
     "output_type": "execute_result"
    }
   ],
   "source": [
    "net=pp.create_empty_network()\n",
    "bus0 = pp.create_bus(net, name=\"Bus 0\", vn_kv=110, type=\"b\")\n",
    "bus1 = pp.create_bus(net, name=\"Bus 1\", vn_kv=110, type=\"b\")\n",
    "line0 = pp.create_line(net, bus0, bus1, length_km=50, std_type=\"70-AL1/11-ST1A 110.0\",  name=\"Line 1\")\n",
    "pp.create_sgen(net, bus1, p_mw=0, q_mvar=0, name=\"static generator\")\n",
    "pp.create_ext_grid(net, bus0, vm_pu=1.02, va_degree=50)\n",
    "pp.create_load(net, bus1, p_mw=0, q_mvar=0, name=\"load i\")\n",
    "net"
   ]
  },
  {
   "cell_type": "code",
   "execution_count": 3,
   "id": "honey-serbia",
   "metadata": {},
   "outputs": [],
   "source": [
    "df=pd.DataFrame(columns=['element', 'p_mw', 'q_mvar', 'vm_pu', 'p_from_mw', 'p_to_mw'])"
   ]
  },
  {
   "cell_type": "markdown",
   "id": "suspended-coffee",
   "metadata": {},
   "source": [
    "We will take three variations of p_mw (0, 50, -50) and three variations of q_mvar (0, 25, -25) for both load and sgen to analyze the output of the voltages."
   ]
  },
  {
   "cell_type": "code",
   "execution_count": 4,
   "id": "weird-argument",
   "metadata": {},
   "outputs": [],
   "source": [
    "i=0\n",
    "for element in ('load', 'sgen'):\n",
    "    for x in [0, 50, -50]:\n",
    "        for y in [0, 25, -25]:\n",
    "            net[element].loc[0,['p_mw', 'q_mvar']] = x, y\n",
    "            pp.runpp(net)\n",
    "            df.loc[i, 'element'] = element\n",
    "            df.loc[i, ['p_mw', 'q_mvar']] = x,y\n",
    "            df.loc[i, 'vm_pu'] = net.res_bus.vm_pu.at[bus1]\n",
    "            df.loc[i, 'p_from_mw'] = net.res_line.p_from_mw.at[line0]\n",
    "            df.loc[i, 'p_to_mw'] = net.res_line.p_to_mw.at[line0]\n",
    "            i += 1\n",
    "    net[element].loc[0, ['p_mw', 'q_mvar']] = 0, 0"
   ]
  },
  {
   "cell_type": "code",
   "execution_count": 5,
   "id": "acceptable-appointment",
   "metadata": {},
   "outputs": [
    {
     "data": {
      "text/html": [
       "<div>\n",
       "<style scoped>\n",
       "    .dataframe tbody tr th:only-of-type {\n",
       "        vertical-align: middle;\n",
       "    }\n",
       "\n",
       "    .dataframe tbody tr th {\n",
       "        vertical-align: top;\n",
       "    }\n",
       "\n",
       "    .dataframe thead th {\n",
       "        text-align: right;\n",
       "    }\n",
       "</style>\n",
       "<table border=\"1\" class=\"dataframe\">\n",
       "  <thead>\n",
       "    <tr style=\"text-align: right;\">\n",
       "      <th></th>\n",
       "      <th>element</th>\n",
       "      <th>p_mw</th>\n",
       "      <th>q_mvar</th>\n",
       "      <th>vm_pu</th>\n",
       "      <th>p_from_mw</th>\n",
       "      <th>p_to_mw</th>\n",
       "    </tr>\n",
       "  </thead>\n",
       "  <tbody>\n",
       "    <tr>\n",
       "      <th>0</th>\n",
       "      <td>load</td>\n",
       "      <td>0</td>\n",
       "      <td>0</td>\n",
       "      <td>1.021515</td>\n",
       "      <td>0.001135</td>\n",
       "      <td>0.0</td>\n",
       "    </tr>\n",
       "    <tr>\n",
       "      <th>1</th>\n",
       "      <td>load</td>\n",
       "      <td>0</td>\n",
       "      <td>25</td>\n",
       "      <td>0.972767</td>\n",
       "      <td>1.060615</td>\n",
       "      <td>-0.0</td>\n",
       "    </tr>\n",
       "    <tr>\n",
       "      <th>2</th>\n",
       "      <td>load</td>\n",
       "      <td>0</td>\n",
       "      <td>-25</td>\n",
       "      <td>1.064408</td>\n",
       "      <td>1.011292</td>\n",
       "      <td>-0.0</td>\n",
       "    </tr>\n",
       "    <tr>\n",
       "      <th>3</th>\n",
       "      <td>load</td>\n",
       "      <td>50</td>\n",
       "      <td>0</td>\n",
       "      <td>0.923861</td>\n",
       "      <td>55.002097</td>\n",
       "      <td>-50.0</td>\n",
       "    </tr>\n",
       "    <tr>\n",
       "      <th>4</th>\n",
       "      <td>load</td>\n",
       "      <td>50</td>\n",
       "      <td>25</td>\n",
       "      <td>0.867587</td>\n",
       "      <td>57.021399</td>\n",
       "      <td>-50.0</td>\n",
       "    </tr>\n",
       "    <tr>\n",
       "      <th>5</th>\n",
       "      <td>load</td>\n",
       "      <td>50</td>\n",
       "      <td>-25</td>\n",
       "      <td>0.971638</td>\n",
       "      <td>55.720967</td>\n",
       "      <td>-50.0</td>\n",
       "    </tr>\n",
       "    <tr>\n",
       "      <th>6</th>\n",
       "      <td>load</td>\n",
       "      <td>-50</td>\n",
       "      <td>0</td>\n",
       "      <td>1.096104</td>\n",
       "      <td>-46.445807</td>\n",
       "      <td>50.0</td>\n",
       "    </tr>\n",
       "    <tr>\n",
       "      <th>7</th>\n",
       "      <td>load</td>\n",
       "      <td>-50</td>\n",
       "      <td>25</td>\n",
       "      <td>1.050547</td>\n",
       "      <td>-45.232313</td>\n",
       "      <td>50.0</td>\n",
       "    </tr>\n",
       "    <tr>\n",
       "      <th>8</th>\n",
       "      <td>load</td>\n",
       "      <td>-50</td>\n",
       "      <td>-25</td>\n",
       "      <td>1.136787</td>\n",
       "      <td>-45.80152</td>\n",
       "      <td>50.0</td>\n",
       "    </tr>\n",
       "    <tr>\n",
       "      <th>9</th>\n",
       "      <td>sgen</td>\n",
       "      <td>0</td>\n",
       "      <td>0</td>\n",
       "      <td>1.021515</td>\n",
       "      <td>0.001135</td>\n",
       "      <td>0.0</td>\n",
       "    </tr>\n",
       "    <tr>\n",
       "      <th>10</th>\n",
       "      <td>sgen</td>\n",
       "      <td>0</td>\n",
       "      <td>25</td>\n",
       "      <td>1.064408</td>\n",
       "      <td>1.011292</td>\n",
       "      <td>-0.0</td>\n",
       "    </tr>\n",
       "    <tr>\n",
       "      <th>11</th>\n",
       "      <td>sgen</td>\n",
       "      <td>0</td>\n",
       "      <td>-25</td>\n",
       "      <td>0.972767</td>\n",
       "      <td>1.060615</td>\n",
       "      <td>-0.0</td>\n",
       "    </tr>\n",
       "    <tr>\n",
       "      <th>12</th>\n",
       "      <td>sgen</td>\n",
       "      <td>50</td>\n",
       "      <td>0</td>\n",
       "      <td>1.096104</td>\n",
       "      <td>-46.445807</td>\n",
       "      <td>50.0</td>\n",
       "    </tr>\n",
       "    <tr>\n",
       "      <th>13</th>\n",
       "      <td>sgen</td>\n",
       "      <td>50</td>\n",
       "      <td>25</td>\n",
       "      <td>1.136787</td>\n",
       "      <td>-45.80152</td>\n",
       "      <td>50.0</td>\n",
       "    </tr>\n",
       "    <tr>\n",
       "      <th>14</th>\n",
       "      <td>sgen</td>\n",
       "      <td>50</td>\n",
       "      <td>-25</td>\n",
       "      <td>1.050547</td>\n",
       "      <td>-45.232313</td>\n",
       "      <td>50.0</td>\n",
       "    </tr>\n",
       "    <tr>\n",
       "      <th>15</th>\n",
       "      <td>sgen</td>\n",
       "      <td>-50</td>\n",
       "      <td>0</td>\n",
       "      <td>0.923861</td>\n",
       "      <td>55.002097</td>\n",
       "      <td>-50.0</td>\n",
       "    </tr>\n",
       "    <tr>\n",
       "      <th>16</th>\n",
       "      <td>sgen</td>\n",
       "      <td>-50</td>\n",
       "      <td>25</td>\n",
       "      <td>0.971638</td>\n",
       "      <td>55.720967</td>\n",
       "      <td>-50.0</td>\n",
       "    </tr>\n",
       "    <tr>\n",
       "      <th>17</th>\n",
       "      <td>sgen</td>\n",
       "      <td>-50</td>\n",
       "      <td>-25</td>\n",
       "      <td>0.867587</td>\n",
       "      <td>57.021399</td>\n",
       "      <td>-50.0</td>\n",
       "    </tr>\n",
       "  </tbody>\n",
       "</table>\n",
       "</div>"
      ],
      "text/plain": [
       "   element p_mw q_mvar     vm_pu  p_from_mw p_to_mw\n",
       "0     load    0      0  1.021515   0.001135     0.0\n",
       "1     load    0     25  0.972767   1.060615    -0.0\n",
       "2     load    0    -25  1.064408   1.011292    -0.0\n",
       "3     load   50      0  0.923861  55.002097   -50.0\n",
       "4     load   50     25  0.867587  57.021399   -50.0\n",
       "5     load   50    -25  0.971638  55.720967   -50.0\n",
       "6     load  -50      0  1.096104 -46.445807    50.0\n",
       "7     load  -50     25  1.050547 -45.232313    50.0\n",
       "8     load  -50    -25  1.136787  -45.80152    50.0\n",
       "9     sgen    0      0  1.021515   0.001135     0.0\n",
       "10    sgen    0     25  1.064408   1.011292    -0.0\n",
       "11    sgen    0    -25  0.972767   1.060615    -0.0\n",
       "12    sgen   50      0  1.096104 -46.445807    50.0\n",
       "13    sgen   50     25  1.136787  -45.80152    50.0\n",
       "14    sgen   50    -25  1.050547 -45.232313    50.0\n",
       "15    sgen  -50      0  0.923861  55.002097   -50.0\n",
       "16    sgen  -50     25  0.971638  55.720967   -50.0\n",
       "17    sgen  -50    -25  0.867587  57.021399   -50.0"
      ]
     },
     "execution_count": 5,
     "metadata": {},
     "output_type": "execute_result"
    }
   ],
   "source": [
    "df"
   ]
  },
  {
   "cell_type": "markdown",
   "id": "empty-thursday",
   "metadata": {},
   "source": [
    "If you look at the 4th index, you will see both the active and reactive power of the load are positive and the voltage has been reduced. This is a result of consumption of P and Q in the under excited state. In the 5th index the active power is positive but the reactive power is negative and as the result, the voltage does not drop as much as in the case of index 4."
   ]
  },
  {
   "cell_type": "markdown",
   "id": "scheduled-gibson",
   "metadata": {},
   "source": [
    "Now we will see the plots for both the elements where the reference systems can be compared and the vm_pu values are shown for different combinations of active and reactive power."
   ]
  },
  {
   "cell_type": "code",
   "execution_count": 6,
   "id": "strategic-rover",
   "metadata": {},
   "outputs": [
    {
     "data": {
      "image/png": "[encoded data removed]",
      "text/plain": [
       "<Figure size 778.375x360 with 2 Axes>"
      ]
     },
     "metadata": {
      "needs_background": "light"
     },
     "output_type": "display_data"
    }
   ],
   "source": [
    "import matplotlib.pyplot as plt\n",
    "g=sn.relplot(x=\"p_mw\", \n",
    "        y=\"q_mvar\",\n",
    "        size=\"vm_pu\",\n",
    "        col=\"element\",\n",
    "        sizes=(500,500),\n",
    "        palette=\"viridis\",\n",
    "        hue=\"vm_pu\",\n",
    "        data=df, alpha=1, zorder=10)\n",
    "g.set(xlim=(-60,60),ylim=(-60,60))\n",
    "\n",
    "texts =[['Underexcited (consumes reactive power, decreases voltage)', 'Overexcited (injects reactive power, increases voltage)'],\n",
    "        ['Overexcited (injects reactive power, increases voltage)', 'Underexcited (consumes reactive power, decreases voltage)']]\n",
    "\n",
    "for ax, text in zip(g.axes[0], texts):\n",
    "    # Move left y-axis and bottim x-axis to centre, passing through (0,0)\n",
    "    ax.spines['left'].set_position('center')\n",
    "    ax.spines['bottom'].set_position('center')\n",
    "    # Eliminate upper and right axes\n",
    "    ax.spines['right'].set_color('none')\n",
    "    ax.spines['top'].set_color('none')\n",
    "    # Show ticks in the left and lower axes only\n",
    "    ax.xaxis.set_ticks_position('bottom')\n",
    "    ax.yaxis.set_ticks_position('left')\n",
    "    \n",
    "    ax.xaxis.set_ticks_position('none')\n",
    "    ax.yaxis.set_ticks_position('left')\n",
    "    ax.xaxis.labelpad = 160\n",
    "    ax.yaxis.labelpad = 160\n",
    "    ax.grid()\n",
    "    ax.text(0,50, text[0], bbox={'facecolor': 'lightgrey', 'pad': 10}, horizontalalignment='center', zorder=10)\n",
    "    ax.text(0,-50, text[1], bbox={'facecolor': 'lightgrey', 'pad': 10}, horizontalalignment='center', zorder=10)\n",
    "\n",
    "   \n",
    "    "
   ]
  },
  {
   "cell_type": "markdown",
   "id": "ruled-specific",
   "metadata": {},
   "source": [
    "Notice that, in the plot for the load element, when the sign of reactive power is negative, the reactive power is injected, which increases voltage. And when the reactive power is positive, the voltage drops because the reactive power is absorbed. The opposite effect can be seen for sgen elements."
   ]
  }
 ],
 "metadata": {
  "kernelspec": {
   "display_name": "Python 3",
   "language": "python",
   "name": "python3"
  },
  "language_info": {
   "codemirror_mode": {
    "name": "ipython",
    "version": 3
   },
   "file_extension": ".py",
   "mimetype": "text/x-python",
   "name": "python",
   "nbconvert_exporter": "python",
   "pygments_lexer": "ipython3",
   "version": "3.8.8"
  }
 },
 "nbformat": 4,
 "nbformat_minor": 5
}
