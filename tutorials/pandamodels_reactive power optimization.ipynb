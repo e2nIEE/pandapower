{
 "cells": [
  {
   "cell_type": "markdown",
   "metadata": {},
   "source": [
    "# Reactive Power Optimization with PandaModels.jl\n",
    "\n",
    "This tutorial describes how to solve some optimization problems regarding reactive power redispatch using **PandaModels**. The reactive power provision of generators, e.g., net.sgen, can be optimized for  \n",
    "1) maintaining voltage setpoints  \n",
    "2) maintaining reactive power setpoints  \n",
    "3) (active) power loss reduction\n",
    "\n",
    "\n",
    "For more details on the corresponding models, see:\n",
    "* [maintaining voltage setpoints](https://github.com/e2nIEE/PandaModels.jl/blob/develop/src/models/vstab.jl)\n",
    "* [maintaining reactive power setpoints](https://github.com/e2nIEE/PandaModels.jl/blob/develop/src/models/qflex.jl)\n",
    "* [power loss reduction](https://e2niee.github.io/PandaModels.jl/dev/)\n",
    "\n",
    "**Note**:\n",
    "\n",
    "- **PandaModels** is still in the development stage, and the developed models for reactive power optimizations are tested with limited grids. It is possible that errors may arise when facing different grids.\n",
    "- It is suggested to use **net.sn_mva=1.0** to start the optimization. Using other sn_mva values may introduce not converged OPF  \n"
   ]
  },
  {
   "cell_type": "markdown",
   "metadata": {},
   "source": [
    "## 1) Maintaining Voltage Setpoints\n",
    "\n",
    "Grid operators want to maintain a constant voltage profile across all or a part of the system buses. Reactive power optimization, in this case, helps them identify the preferable provision of reactive power from generators. The objective is to minimize the deviation of the voltages of certain buses (here, buses of DER) from a setpoint, e.g.,$V_{\\rm setpoint}\n",
    "= 1.03 p.u.$ As a result, the reactive power setpoint for each generator is calculated. The mathematical formulation of this objective function can have the following forms:\n",
    "\n",
    "\\begin{align}\n",
    "& \\underset{\\mathcal{X} = [q, ...]}{\\text{minimize}}\n",
    "& &  \\sum_{i\\in \\mathcal{BI}} (V_i-V_{\\rm setpoint})^2 \\\\\n",
    "& \\text{subject to}\n",
    "& & g(\\mathcal{X})=0 \\\\\n",
    "& & & h(\\mathcal{X}) \\leq 0\n",
    "\\end{align}\n",
    "\n",
    "where $V_{i}$ is the voltage variable of bus $i$ in $\\mathcal{BI}$ which denotes the set of buses of DER. The $g(\\mathcal{X})$ and $h(\\mathcal{X})$, denote equality and inequality constraints, respectively. The $\\mathcal{X}$ denotes the set of variables decisions, such as reactive power $q$."
   ]
  },
  {
   "cell_type": "markdown",
   "metadata": {},
   "source": [
    "### 1-1: Create test grid\n",
    "\n",
    "How does it work? Let's first create a cigre grid with DERs(distribution energy resource) from the pandapower's network database. After running the power flow calculation, we can see that there are nine DERs (net.sgen) in the grid, and they don't provide reactive power for normal operation."
   ]
  },
  {
   "cell_type": "code",
   "execution_count": 1,
   "metadata": {
    "pycharm": {
     "name": "#%%\n"
    }
   },
   "outputs": [
    {
     "data": {
      "text/html": [
       "<div>\n",
       "<style scoped>\n",
       "    .dataframe tbody tr th:only-of-type {\n",
       "        vertical-align: middle;\n",
       "    }\n",
       "\n",
       "    .dataframe tbody tr th {\n",
       "        vertical-align: top;\n",
       "    }\n",
       "\n",
       "    .dataframe thead th {\n",
       "        text-align: right;\n",
       "    }\n",
       "</style>\n",
       "<table border=\"1\" class=\"dataframe\">\n",
       "  <thead>\n",
       "    <tr style=\"text-align: right;\">\n",
       "      <th></th>\n",
       "      <th>p_mw</th>\n",
       "      <th>q_mvar</th>\n",
       "    </tr>\n",
       "  </thead>\n",
       "  <tbody>\n",
       "    <tr>\n",
       "      <th>0</th>\n",
       "      <td>0.02</td>\n",
       "      <td>0.0</td>\n",
       "    </tr>\n",
       "    <tr>\n",
       "      <th>1</th>\n",
       "      <td>0.02</td>\n",
       "      <td>0.0</td>\n",
       "    </tr>\n",
       "    <tr>\n",
       "      <th>2</th>\n",
       "      <td>0.03</td>\n",
       "      <td>0.0</td>\n",
       "    </tr>\n",
       "    <tr>\n",
       "      <th>3</th>\n",
       "      <td>0.03</td>\n",
       "      <td>0.0</td>\n",
       "    </tr>\n",
       "    <tr>\n",
       "      <th>4</th>\n",
       "      <td>0.03</td>\n",
       "      <td>0.0</td>\n",
       "    </tr>\n",
       "    <tr>\n",
       "      <th>5</th>\n",
       "      <td>0.03</td>\n",
       "      <td>0.0</td>\n",
       "    </tr>\n",
       "    <tr>\n",
       "      <th>6</th>\n",
       "      <td>0.04</td>\n",
       "      <td>0.0</td>\n",
       "    </tr>\n",
       "    <tr>\n",
       "      <th>7</th>\n",
       "      <td>0.01</td>\n",
       "      <td>0.0</td>\n",
       "    </tr>\n",
       "    <tr>\n",
       "      <th>8</th>\n",
       "      <td>1.50</td>\n",
       "      <td>0.0</td>\n",
       "    </tr>\n",
       "  </tbody>\n",
       "</table>\n",
       "</div>"
      ],
      "text/plain": [
       "   p_mw  q_mvar\n",
       "0  0.02     0.0\n",
       "1  0.02     0.0\n",
       "2  0.03     0.0\n",
       "3  0.03     0.0\n",
       "4  0.03     0.0\n",
       "5  0.03     0.0\n",
       "6  0.04     0.0\n",
       "7  0.01     0.0\n",
       "8  1.50     0.0"
      ]
     },
     "metadata": {},
     "output_type": "display_data"
    }
   ],
   "source": [
    "import pandapower as pp\n",
    "import pandapower.networks as nw\n",
    "from copy import deepcopy\n",
    "\n",
    "net = nw.create_cigre_network_mv(with_der=\"pv_wind\")\n",
    "pp.runpp(net) # run power flow calculation\n",
    "net_org = deepcopy(net) # copy of the grid for further comparison\n",
    "display(net.res_sgen) # show power flow results for DER"
   ]
  },
  {
   "cell_type": "markdown",
   "metadata": {},
   "source": [
    "(You can use the pandapower plotting module to visualize the grid model.)"
   ]
  },
  {
   "cell_type": "code",
   "execution_count": 2,
   "metadata": {
    "pycharm": {
     "name": "#%%\n"
    }
   },
   "outputs": [
    {
     "data": {
      "image/png": "[encoded data removed]",
      "text/plain": [
       "<Figure size 720x576 with 1 Axes>"
      ]
     },
     "metadata": {},
     "output_type": "display_data"
    },
    {
     "data": {
      "text/plain": [
       "<AxesSubplot:>"
      ]
     },
     "execution_count": 2,
     "metadata": {},
     "output_type": "execute_result"
    }
   ],
   "source": [
    "import pandapower.plotting as plot\n",
    "%matplotlib inline\n",
    "plot.simple_plot(net)"
   ]
  },
  {
   "cell_type": "markdown",
   "metadata": {
    "pycharm": {
     "name": "#%% md\n"
    }
   },
   "source": [
    "### 1-2: Parametrization for optimization\n",
    "Before starting the optimization, we need to configure some parameters. \n",
    "In PandaModels, the uncontrollable loads and DER (net.sgen) are converted to load, and the controllable power elements are converted to generators. Accordingly, we neet to set loads as uncontrollable and set DER (net.sgen) as controllable elements. "
   ]
  },
  {
   "cell_type": "code",
   "execution_count": 3,
   "metadata": {
    "pycharm": {
     "name": "#%%\n"
    }
   },
   "outputs": [],
   "source": [
    "net_opt = deepcopy(net) # copy of the grid for further comparison \n",
    "net_opt.load['controllable'] = False\n",
    "net_opt.sgen['controllable'] = True"
   ]
  },
  {
   "cell_type": "markdown",
   "metadata": {
    "pycharm": {
     "name": "#%% md\n"
    }
   },
   "source": [
    "Now, let's set the constraints."
   ]
  },
  {
   "cell_type": "code",
   "execution_count": 4,
   "metadata": {
    "pycharm": {
     "name": "#%%\n"
    }
   },
   "outputs": [],
   "source": [
    "# lower and upper bounds for buses\n",
    "net_opt.bus[\"max_vm_pu\"] = 1.1\n",
    "net_opt.bus[\"min_vm_pu\"] = 0.9\n",
    "\n",
    "# lower and upper bounds for external grid\n",
    "net_opt.ext_grid[\"max_q_mvar\"] = 10000.0\n",
    "net_opt.ext_grid[\"min_q_mvar\"] = -10000.0\n",
    "net_opt.ext_grid[\"max_p_mw\"] = 10000.0\n",
    "net_opt.ext_grid[\"min_p_mw\"] = -10000.0"
   ]
  },
  {
   "cell_type": "markdown",
   "metadata": {
    "pycharm": {
     "name": "#%% md\n"
    }
   },
   "source": [
    "We keep the active power for DER constant to the calculated value from the power flow and define a constraint for the reactive power. (In this grid, there is no generator (net.gen))"
   ]
  },
  {
   "cell_type": "code",
   "execution_count": 5,
   "metadata": {
    "pycharm": {
     "name": "#%%\n"
    }
   },
   "outputs": [
    {
     "data": {
      "text/html": [
       "<div>\n",
       "<style scoped>\n",
       "    .dataframe tbody tr th:only-of-type {\n",
       "        vertical-align: middle;\n",
       "    }\n",
       "\n",
       "    .dataframe tbody tr th {\n",
       "        vertical-align: top;\n",
       "    }\n",
       "\n",
       "    .dataframe thead th {\n",
       "        text-align: right;\n",
       "    }\n",
       "</style>\n",
       "<table border=\"1\" class=\"dataframe\">\n",
       "  <thead>\n",
       "    <tr style=\"text-align: right;\">\n",
       "      <th></th>\n",
       "      <th>name</th>\n",
       "      <th>bus</th>\n",
       "      <th>p_mw</th>\n",
       "      <th>q_mvar</th>\n",
       "      <th>sn_mva</th>\n",
       "      <th>scaling</th>\n",
       "      <th>in_service</th>\n",
       "      <th>type</th>\n",
       "      <th>current_source</th>\n",
       "      <th>controllable</th>\n",
       "      <th>max_p_mw</th>\n",
       "      <th>min_p_mw</th>\n",
       "      <th>max_q_mvar</th>\n",
       "      <th>min_q_mvar</th>\n",
       "    </tr>\n",
       "  </thead>\n",
       "  <tbody>\n",
       "    <tr>\n",
       "      <th>0</th>\n",
       "      <td>PV 3</td>\n",
       "      <td>3</td>\n",
       "      <td>0.02</td>\n",
       "      <td>0.0</td>\n",
       "      <td>0.02</td>\n",
       "      <td>1.0</td>\n",
       "      <td>True</td>\n",
       "      <td>PV</td>\n",
       "      <td>True</td>\n",
       "      <td>True</td>\n",
       "      <td>0.02</td>\n",
       "      <td>0.02</td>\n",
       "      <td>0.00656</td>\n",
       "      <td>-0.00656</td>\n",
       "    </tr>\n",
       "    <tr>\n",
       "      <th>1</th>\n",
       "      <td>PV 4</td>\n",
       "      <td>4</td>\n",
       "      <td>0.02</td>\n",
       "      <td>0.0</td>\n",
       "      <td>0.02</td>\n",
       "      <td>1.0</td>\n",
       "      <td>True</td>\n",
       "      <td>PV</td>\n",
       "      <td>True</td>\n",
       "      <td>True</td>\n",
       "      <td>0.02</td>\n",
       "      <td>0.02</td>\n",
       "      <td>0.00656</td>\n",
       "      <td>-0.00656</td>\n",
       "    </tr>\n",
       "    <tr>\n",
       "      <th>2</th>\n",
       "      <td>PV 5</td>\n",
       "      <td>5</td>\n",
       "      <td>0.03</td>\n",
       "      <td>0.0</td>\n",
       "      <td>0.03</td>\n",
       "      <td>1.0</td>\n",
       "      <td>True</td>\n",
       "      <td>PV</td>\n",
       "      <td>True</td>\n",
       "      <td>True</td>\n",
       "      <td>0.03</td>\n",
       "      <td>0.03</td>\n",
       "      <td>0.00984</td>\n",
       "      <td>-0.00984</td>\n",
       "    </tr>\n",
       "    <tr>\n",
       "      <th>3</th>\n",
       "      <td>PV 6</td>\n",
       "      <td>6</td>\n",
       "      <td>0.03</td>\n",
       "      <td>0.0</td>\n",
       "      <td>0.03</td>\n",
       "      <td>1.0</td>\n",
       "      <td>True</td>\n",
       "      <td>PV</td>\n",
       "      <td>True</td>\n",
       "      <td>True</td>\n",
       "      <td>0.03</td>\n",
       "      <td>0.03</td>\n",
       "      <td>0.00984</td>\n",
       "      <td>-0.00984</td>\n",
       "    </tr>\n",
       "    <tr>\n",
       "      <th>4</th>\n",
       "      <td>PV 8</td>\n",
       "      <td>8</td>\n",
       "      <td>0.03</td>\n",
       "      <td>0.0</td>\n",
       "      <td>0.03</td>\n",
       "      <td>1.0</td>\n",
       "      <td>True</td>\n",
       "      <td>PV</td>\n",
       "      <td>True</td>\n",
       "      <td>True</td>\n",
       "      <td>0.03</td>\n",
       "      <td>0.03</td>\n",
       "      <td>0.00984</td>\n",
       "      <td>-0.00984</td>\n",
       "    </tr>\n",
       "    <tr>\n",
       "      <th>5</th>\n",
       "      <td>PV 9</td>\n",
       "      <td>9</td>\n",
       "      <td>0.03</td>\n",
       "      <td>0.0</td>\n",
       "      <td>0.03</td>\n",
       "      <td>1.0</td>\n",
       "      <td>True</td>\n",
       "      <td>PV</td>\n",
       "      <td>True</td>\n",
       "      <td>True</td>\n",
       "      <td>0.03</td>\n",
       "      <td>0.03</td>\n",
       "      <td>0.00984</td>\n",
       "      <td>-0.00984</td>\n",
       "    </tr>\n",
       "    <tr>\n",
       "      <th>6</th>\n",
       "      <td>PV 10</td>\n",
       "      <td>10</td>\n",
       "      <td>0.04</td>\n",
       "      <td>0.0</td>\n",
       "      <td>0.04</td>\n",
       "      <td>1.0</td>\n",
       "      <td>True</td>\n",
       "      <td>PV</td>\n",
       "      <td>True</td>\n",
       "      <td>True</td>\n",
       "      <td>0.04</td>\n",
       "      <td>0.04</td>\n",
       "      <td>0.01312</td>\n",
       "      <td>-0.01312</td>\n",
       "    </tr>\n",
       "    <tr>\n",
       "      <th>7</th>\n",
       "      <td>PV 11</td>\n",
       "      <td>11</td>\n",
       "      <td>0.01</td>\n",
       "      <td>0.0</td>\n",
       "      <td>0.01</td>\n",
       "      <td>1.0</td>\n",
       "      <td>True</td>\n",
       "      <td>PV</td>\n",
       "      <td>True</td>\n",
       "      <td>True</td>\n",
       "      <td>0.01</td>\n",
       "      <td>0.01</td>\n",
       "      <td>0.00328</td>\n",
       "      <td>-0.00328</td>\n",
       "    </tr>\n",
       "    <tr>\n",
       "      <th>8</th>\n",
       "      <td>WKA 7</td>\n",
       "      <td>7</td>\n",
       "      <td>1.50</td>\n",
       "      <td>0.0</td>\n",
       "      <td>1.50</td>\n",
       "      <td>1.0</td>\n",
       "      <td>True</td>\n",
       "      <td>WP</td>\n",
       "      <td>True</td>\n",
       "      <td>True</td>\n",
       "      <td>1.50</td>\n",
       "      <td>1.50</td>\n",
       "      <td>0.49200</td>\n",
       "      <td>-0.49200</td>\n",
       "    </tr>\n",
       "  </tbody>\n",
       "</table>\n",
       "</div>"
      ],
      "text/plain": [
       "    name  bus  p_mw  q_mvar  sn_mva  scaling  in_service type  current_source  \\\n",
       "0   PV 3    3  0.02     0.0    0.02      1.0        True   PV            True   \n",
       "1   PV 4    4  0.02     0.0    0.02      1.0        True   PV            True   \n",
       "2   PV 5    5  0.03     0.0    0.03      1.0        True   PV            True   \n",
       "3   PV 6    6  0.03     0.0    0.03      1.0        True   PV            True   \n",
       "4   PV 8    8  0.03     0.0    0.03      1.0        True   PV            True   \n",
       "5   PV 9    9  0.03     0.0    0.03      1.0        True   PV            True   \n",
       "6  PV 10   10  0.04     0.0    0.04      1.0        True   PV            True   \n",
       "7  PV 11   11  0.01     0.0    0.01      1.0        True   PV            True   \n",
       "8  WKA 7    7  1.50     0.0    1.50      1.0        True   WP            True   \n",
       "\n",
       "   controllable  max_p_mw  min_p_mw  max_q_mvar  min_q_mvar  \n",
       "0          True      0.02      0.02     0.00656    -0.00656  \n",
       "1          True      0.02      0.02     0.00656    -0.00656  \n",
       "2          True      0.03      0.03     0.00984    -0.00984  \n",
       "3          True      0.03      0.03     0.00984    -0.00984  \n",
       "4          True      0.03      0.03     0.00984    -0.00984  \n",
       "5          True      0.03      0.03     0.00984    -0.00984  \n",
       "6          True      0.04      0.04     0.01312    -0.01312  \n",
       "7          True      0.01      0.01     0.00328    -0.00328  \n",
       "8          True      1.50      1.50     0.49200    -0.49200  "
      ]
     },
     "metadata": {},
     "output_type": "display_data"
    }
   ],
   "source": [
    "# lower and upper bounds for DERs\n",
    "net_opt.sgen[\"max_p_mw\"] = net_opt.sgen.p_mw.values\n",
    "net_opt.sgen[\"min_p_mw\"] = net_opt.sgen.p_mw.values\n",
    "net_opt.sgen[\"max_q_mvar\"] = net_opt.sgen.p_mw.values * 0.328\n",
    "net_opt.sgen[\"min_q_mvar\"] = -net_opt.sgen.p_mw.values * 0.328\n",
    "display(net_opt.sgen)"
   ]
  },
  {
   "cell_type": "markdown",
   "metadata": {
    "pycharm": {
     "name": "#%% md\n"
    }
   },
   "source": [
    "Subsequently, let's set a high upper bound for lines and transformers to avoid congestion issues."
   ]
  },
  {
   "cell_type": "code",
   "execution_count": 6,
   "metadata": {
    "pycharm": {
     "name": "#%%\n"
    }
   },
   "outputs": [],
   "source": [
    "# lower and upper bounds for lines\n",
    "net_opt.trafo[\"max_loading_percent\"] = 100.0\n",
    "net_opt.line[\"max_loading_percent\"] = 100.0"
   ]
  },
  {
   "cell_type": "markdown",
   "metadata": {
    "pycharm": {
     "name": "#%% md\n"
    }
   },
   "source": [
    "Finally, we need to let PandaModels know which buses are of interest and what is user-defined voltage setpoint. To do this, we can add extra column called **\"pm_param/setpoint_v\"** in net.bus and set values for buses connecting DER (net.sgen)."
   ]
  },
  {
   "cell_type": "code",
   "execution_count": 7,
   "metadata": {
    "pycharm": {
     "name": "#%%\n"
    }
   },
   "outputs": [],
   "source": [
    "net_opt.bus[\"pm_param/setpoint_v\"] = None # add extra column\n",
    "net_opt.bus[\"pm_param/setpoint_v\"].loc[net_opt.sgen.bus] = 0.96 # voltage setpoints for theses buses are 0.96"
   ]
  },
  {
   "cell_type": "markdown",
   "metadata": {},
   "source": [
    "### 1-3: Start optimization\n",
    "Now let's call the function ***pandapower.runpm_vstab()*** to start the optimizaiton for maintaining voltage setpoints. \n",
    "(Note that the first time the function is called, Julia is started in the background, which may take some time.)"
   ]
  },
  {
   "cell_type": "code",
   "execution_count": 8,
   "metadata": {
    "pycharm": {
     "name": "#%%\n"
    },
    "scrolled": true
   },
   "outputs": [
    {
     "name": "stderr",
     "output_type": "stream",
     "text": [
      "hp.pandapower.opf.make_objective - WARNING: no costs are given - overall generated power is minimized\n",
      "hp.pandapower.opf.run_powermodels - INFO: Optimization ('run_pandamodels_vstab') is finished in 2.05 seconds:\n"
     ]
    }
   ],
   "source": [
    "try:\n",
    "    pp.runpm_vstab(net_opt)\n",
    "except Exception as err:\n",
    "    print(err)    "
   ]
  },
  {
   "cell_type": "markdown",
   "metadata": {
    "pycharm": {
     "name": "#%% md\n"
    }
   },
   "source": [
    "Also, the following parameters and options can be modified as inputs while calling the optimization from PandaModles. For this case, we can keep the default values.\n",
    "\n",
    "| parameter | description | type | default |\n",
    "| :--- | :--- | :---: | :--- |\n",
    "| correct_pm_network_data | checks if network data is correct. If not tries to correct it | bool | True |\n",
    "| silence | Suppresses information and warning messages output by PowerModels | bool | True |\n",
    "| pm_model | PowerModels.jl model to use | str | \"ACPPowerModel\" |\n",
    "| pm_solver | \"main\" solver| str | \"ipopt\" |\n",
    "| pm_mip_solver | mixed integer solver| str | \"cbc\" |\n",
    "| pm_nl_solver | nonlinear solver| str | \"ipopt\" |\n",
    "| pm_tol | default desired convergence tolerance for solver to use | float | 1e-8 |\n",
    "| pm_log_level | solver log level in power models | int | 0 |\n",
    "| delete_buffer_file | If True, the .json file used by PandaModels will be deleted after optimization. | bool | True |\n",
    "\n"
   ]
  },
  {
   "cell_type": "markdown",
   "metadata": {},
   "source": [
    "### 1-4: Results comparison\n",
    "Let's check the results for voltage and reactive power at buses connecting DER before and after the optimization."
   ]
  },
  {
   "cell_type": "code",
   "execution_count": 9,
   "metadata": {
    "pycharm": {
     "name": "#%%\n"
    }
   },
   "outputs": [
    {
     "data": {
      "text/plain": [
       "3     0.951848\n",
       "4     0.950094\n",
       "5     0.948893\n",
       "6     0.947488\n",
       "8     0.949187\n",
       "9     0.948264\n",
       "10    0.947100\n",
       "11    0.946916\n",
       "7     0.952199\n",
       "Name: vm_pu, dtype: float64"
      ]
     },
     "metadata": {},
     "output_type": "display_data"
    },
    {
     "name": "stdout",
     "output_type": "stream",
     "text": [
      "--- deviation from setpionts v=0.96 ---\n"
     ]
    },
    {
     "data": {
      "text/plain": [
       "0.0010976683852842502"
      ]
     },
     "metadata": {},
     "output_type": "display_data"
    }
   ],
   "source": [
    "# results from power flow\n",
    "display(net_org.res_bus.vm_pu[net_org.sgen.bus])\n",
    "v_org = net_org.res_bus.vm_pu[net_org.sgen.bus].values\n",
    "print(\"--- deviation from setpionts v=0.96 ---\")\n",
    "display(sum((v_org-0.96)**2)) "
   ]
  },
  {
   "cell_type": "code",
   "execution_count": 10,
   "metadata": {},
   "outputs": [
    {
     "data": {
      "text/plain": [
       "3     0.961792\n",
       "4     0.960087\n",
       "5     0.958920\n",
       "6     0.957559\n",
       "8     0.960321\n",
       "9     0.959425\n",
       "10    0.958299\n",
       "11    0.958119\n",
       "7     0.964668\n",
       "Name: vm_pu, dtype: float64"
      ]
     },
     "metadata": {},
     "output_type": "display_data"
    },
    {
     "name": "stdout",
     "output_type": "stream",
     "text": [
      "--- deviation from setpionts v=0.96 ---\n"
     ]
    },
    {
     "data": {
      "text/plain": [
       "3.900054027594424e-05"
      ]
     },
     "metadata": {},
     "output_type": "display_data"
    }
   ],
   "source": [
    "# results from optimization\n",
    "display(net_opt.res_bus.vm_pu[net.sgen.bus])\n",
    "v_opt = net_opt.res_bus.vm_pu[net_opt.sgen.bus].values\n",
    "print(\"--- deviation from setpionts v=0.96 ---\")\n",
    "display(sum((v_opt-0.96)**2)) # devition from setpoints v=0.96 p.u."
   ]
  },
  {
   "cell_type": "markdown",
   "metadata": {},
   "source": [
    "As exected, the bus voltages after optimization are close to the defined setpoints. It is caused by the provision of reactive power of DER."
   ]
  },
  {
   "cell_type": "code",
   "execution_count": 11,
   "metadata": {
    "pycharm": {
     "name": "#%%\n"
    }
   },
   "outputs": [
    {
     "data": {
      "text/html": [
       "<div>\n",
       "<style scoped>\n",
       "    .dataframe tbody tr th:only-of-type {\n",
       "        vertical-align: middle;\n",
       "    }\n",
       "\n",
       "    .dataframe tbody tr th {\n",
       "        vertical-align: top;\n",
       "    }\n",
       "\n",
       "    .dataframe thead th {\n",
       "        text-align: right;\n",
       "    }\n",
       "</style>\n",
       "<table border=\"1\" class=\"dataframe\">\n",
       "  <thead>\n",
       "    <tr style=\"text-align: right;\">\n",
       "      <th></th>\n",
       "      <th>p_mw</th>\n",
       "      <th>q_mvar</th>\n",
       "    </tr>\n",
       "  </thead>\n",
       "  <tbody>\n",
       "    <tr>\n",
       "      <th>0</th>\n",
       "      <td>0.02</td>\n",
       "      <td>0.0</td>\n",
       "    </tr>\n",
       "    <tr>\n",
       "      <th>1</th>\n",
       "      <td>0.02</td>\n",
       "      <td>0.0</td>\n",
       "    </tr>\n",
       "    <tr>\n",
       "      <th>2</th>\n",
       "      <td>0.03</td>\n",
       "      <td>0.0</td>\n",
       "    </tr>\n",
       "    <tr>\n",
       "      <th>3</th>\n",
       "      <td>0.03</td>\n",
       "      <td>0.0</td>\n",
       "    </tr>\n",
       "    <tr>\n",
       "      <th>4</th>\n",
       "      <td>0.03</td>\n",
       "      <td>0.0</td>\n",
       "    </tr>\n",
       "    <tr>\n",
       "      <th>5</th>\n",
       "      <td>0.03</td>\n",
       "      <td>0.0</td>\n",
       "    </tr>\n",
       "    <tr>\n",
       "      <th>6</th>\n",
       "      <td>0.04</td>\n",
       "      <td>0.0</td>\n",
       "    </tr>\n",
       "    <tr>\n",
       "      <th>7</th>\n",
       "      <td>0.01</td>\n",
       "      <td>0.0</td>\n",
       "    </tr>\n",
       "    <tr>\n",
       "      <th>8</th>\n",
       "      <td>1.50</td>\n",
       "      <td>0.0</td>\n",
       "    </tr>\n",
       "  </tbody>\n",
       "</table>\n",
       "</div>"
      ],
      "text/plain": [
       "   p_mw  q_mvar\n",
       "0  0.02     0.0\n",
       "1  0.02     0.0\n",
       "2  0.03     0.0\n",
       "3  0.03     0.0\n",
       "4  0.03     0.0\n",
       "5  0.03     0.0\n",
       "6  0.04     0.0\n",
       "7  0.01     0.0\n",
       "8  1.50     0.0"
      ]
     },
     "metadata": {},
     "output_type": "display_data"
    }
   ],
   "source": [
    "# results from power flow\n",
    "display(net_org.res_sgen)"
   ]
  },
  {
   "cell_type": "code",
   "execution_count": 12,
   "metadata": {
    "pycharm": {
     "name": "#%%\n"
    }
   },
   "outputs": [
    {
     "data": {
      "text/html": [
       "<div>\n",
       "<style scoped>\n",
       "    .dataframe tbody tr th:only-of-type {\n",
       "        vertical-align: middle;\n",
       "    }\n",
       "\n",
       "    .dataframe tbody tr th {\n",
       "        vertical-align: top;\n",
       "    }\n",
       "\n",
       "    .dataframe thead th {\n",
       "        text-align: right;\n",
       "    }\n",
       "</style>\n",
       "<table border=\"1\" class=\"dataframe\">\n",
       "  <thead>\n",
       "    <tr style=\"text-align: right;\">\n",
       "      <th></th>\n",
       "      <th>p_mw</th>\n",
       "      <th>q_mvar</th>\n",
       "    </tr>\n",
       "  </thead>\n",
       "  <tbody>\n",
       "    <tr>\n",
       "      <th>0</th>\n",
       "      <td>0.02</td>\n",
       "      <td>0.006482</td>\n",
       "    </tr>\n",
       "    <tr>\n",
       "      <th>1</th>\n",
       "      <td>0.02</td>\n",
       "      <td>0.006497</td>\n",
       "    </tr>\n",
       "    <tr>\n",
       "      <th>2</th>\n",
       "      <td>0.03</td>\n",
       "      <td>0.009787</td>\n",
       "    </tr>\n",
       "    <tr>\n",
       "      <th>3</th>\n",
       "      <td>0.03</td>\n",
       "      <td>0.009799</td>\n",
       "    </tr>\n",
       "    <tr>\n",
       "      <th>4</th>\n",
       "      <td>0.03</td>\n",
       "      <td>0.009752</td>\n",
       "    </tr>\n",
       "    <tr>\n",
       "      <th>5</th>\n",
       "      <td>0.03</td>\n",
       "      <td>0.009765</td>\n",
       "    </tr>\n",
       "    <tr>\n",
       "      <th>6</th>\n",
       "      <td>0.04</td>\n",
       "      <td>0.013063</td>\n",
       "    </tr>\n",
       "    <tr>\n",
       "      <th>7</th>\n",
       "      <td>0.01</td>\n",
       "      <td>0.003228</td>\n",
       "    </tr>\n",
       "    <tr>\n",
       "      <th>8</th>\n",
       "      <td>1.50</td>\n",
       "      <td>0.441400</td>\n",
       "    </tr>\n",
       "  </tbody>\n",
       "</table>\n",
       "</div>"
      ],
      "text/plain": [
       "   p_mw    q_mvar\n",
       "0  0.02  0.006482\n",
       "1  0.02  0.006497\n",
       "2  0.03  0.009787\n",
       "3  0.03  0.009799\n",
       "4  0.03  0.009752\n",
       "5  0.03  0.009765\n",
       "6  0.04  0.013063\n",
       "7  0.01  0.003228\n",
       "8  1.50  0.441400"
      ]
     },
     "metadata": {},
     "output_type": "display_data"
    }
   ],
   "source": [
    "# results from optimization\n",
    "display(net_opt.res_sgen)"
   ]
  },
  {
   "cell_type": "markdown",
   "metadata": {},
   "source": [
    "### 1-5: Saving reactive power with multi-objectives\n",
    "In some situations, users want to improve the voltage profiles with limited reactive power provisions. For this, the objective function is modified by minimizing the reactive power provision. As the formulation below shows, the two sub-objectives for **maintaining voltage setpoints** and **saving reactive power provisions** are connected through coefficients $c_{\\rm v}$ and $c_{\\rm q}$. \n",
    "\n",
    "\\begin{align}\n",
    "& \\underset{\\mathcal{X} = [q, ...]}{\\text{minimize}}\n",
    "& &  \\sum_{i\\in \\mathcal{BI}} c_{\\rm v}*(V_i-V_{\\rm setpoint})^2 + c_{\\rm q}*(q_i-0)^2 \\\\\n",
    "\\end{align}\n",
    "\n",
    "We can call the objective function with different coefficient combinations, e.g., $c_{\\rm v}=0.99$ and $c_{\\rm q}=0.01$.\n",
    "(In default, $c_{\\rm v}=1.0$ and $c_{\\rm q}=0.0$)"
   ]
  },
  {
   "cell_type": "code",
   "execution_count": 13,
   "metadata": {
    "pycharm": {
     "name": "#%%\n"
    }
   },
   "outputs": [
    {
     "name": "stderr",
     "output_type": "stream",
     "text": [
      "hp.pandapower.opf.make_objective - WARNING: no costs are given - overall generated power is minimized\n",
      "hp.pandapower.opf.run_powermodels - INFO: Optimization ('run_pandamodels_vstab') is finished in 0.06 seconds:\n"
     ]
    }
   ],
   "source": [
    "net_optlim = deepcopy(net_opt)\n",
    "net_optlim[\"obj_factors\"] = [0.99, 0.01] # set coefficients for the multi-objective function\n",
    "try:\n",
    "    pp.runpm_vstab(net_optlim)\n",
    "except:\n",
    "    print(\"[WinError 3] The system cannot find the path specified to the python39.dll\")"
   ]
  },
  {
   "cell_type": "markdown",
   "metadata": {},
   "source": [
    "As the results below show, with $c_{\\rm v}=0.99$ and $c_{\\rm q}=0.01$, the provided reactive powers are reduced, and the corresponding voltages are increased."
   ]
  },
  {
   "cell_type": "code",
   "execution_count": 14,
   "metadata": {
    "pycharm": {
     "name": "#%%\n"
    },
    "scrolled": true
   },
   "outputs": [
    {
     "name": "stdout",
     "output_type": "stream",
     "text": [
      "--- optimized reactive power without limitation Cv = 1.0, Cq = 0. ----\n"
     ]
    },
    {
     "data": {
      "text/html": [
       "<div>\n",
       "<style scoped>\n",
       "    .dataframe tbody tr th:only-of-type {\n",
       "        vertical-align: middle;\n",
       "    }\n",
       "\n",
       "    .dataframe tbody tr th {\n",
       "        vertical-align: top;\n",
       "    }\n",
       "\n",
       "    .dataframe thead th {\n",
       "        text-align: right;\n",
       "    }\n",
       "</style>\n",
       "<table border=\"1\" class=\"dataframe\">\n",
       "  <thead>\n",
       "    <tr style=\"text-align: right;\">\n",
       "      <th></th>\n",
       "      <th>p_mw</th>\n",
       "      <th>q_mvar</th>\n",
       "    </tr>\n",
       "  </thead>\n",
       "  <tbody>\n",
       "    <tr>\n",
       "      <th>0</th>\n",
       "      <td>0.02</td>\n",
       "      <td>0.006482</td>\n",
       "    </tr>\n",
       "    <tr>\n",
       "      <th>1</th>\n",
       "      <td>0.02</td>\n",
       "      <td>0.006497</td>\n",
       "    </tr>\n",
       "    <tr>\n",
       "      <th>2</th>\n",
       "      <td>0.03</td>\n",
       "      <td>0.009787</td>\n",
       "    </tr>\n",
       "    <tr>\n",
       "      <th>3</th>\n",
       "      <td>0.03</td>\n",
       "      <td>0.009799</td>\n",
       "    </tr>\n",
       "    <tr>\n",
       "      <th>4</th>\n",
       "      <td>0.03</td>\n",
       "      <td>0.009752</td>\n",
       "    </tr>\n",
       "    <tr>\n",
       "      <th>5</th>\n",
       "      <td>0.03</td>\n",
       "      <td>0.009765</td>\n",
       "    </tr>\n",
       "    <tr>\n",
       "      <th>6</th>\n",
       "      <td>0.04</td>\n",
       "      <td>0.013063</td>\n",
       "    </tr>\n",
       "    <tr>\n",
       "      <th>7</th>\n",
       "      <td>0.01</td>\n",
       "      <td>0.003228</td>\n",
       "    </tr>\n",
       "    <tr>\n",
       "      <th>8</th>\n",
       "      <td>1.50</td>\n",
       "      <td>0.441400</td>\n",
       "    </tr>\n",
       "  </tbody>\n",
       "</table>\n",
       "</div>"
      ],
      "text/plain": [
       "   p_mw    q_mvar\n",
       "0  0.02  0.006482\n",
       "1  0.02  0.006497\n",
       "2  0.03  0.009787\n",
       "3  0.03  0.009799\n",
       "4  0.03  0.009752\n",
       "5  0.03  0.009765\n",
       "6  0.04  0.013063\n",
       "7  0.01  0.003228\n",
       "8  1.50  0.441400"
      ]
     },
     "metadata": {},
     "output_type": "display_data"
    },
    {
     "name": "stdout",
     "output_type": "stream",
     "text": [
      "--- optimized reactive power with limitation Cv = 0.99, Cq = 0.01 ----\n"
     ]
    },
    {
     "data": {
      "text/html": [
       "<div>\n",
       "<style scoped>\n",
       "    .dataframe tbody tr th:only-of-type {\n",
       "        vertical-align: middle;\n",
       "    }\n",
       "\n",
       "    .dataframe tbody tr th {\n",
       "        vertical-align: top;\n",
       "    }\n",
       "\n",
       "    .dataframe thead th {\n",
       "        text-align: right;\n",
       "    }\n",
       "</style>\n",
       "<table border=\"1\" class=\"dataframe\">\n",
       "  <thead>\n",
       "    <tr style=\"text-align: right;\">\n",
       "      <th></th>\n",
       "      <th>p_mw</th>\n",
       "      <th>q_mvar</th>\n",
       "    </tr>\n",
       "  </thead>\n",
       "  <tbody>\n",
       "    <tr>\n",
       "      <th>0</th>\n",
       "      <td>0.02</td>\n",
       "      <td>0.006559</td>\n",
       "    </tr>\n",
       "    <tr>\n",
       "      <th>1</th>\n",
       "      <td>0.02</td>\n",
       "      <td>0.006559</td>\n",
       "    </tr>\n",
       "    <tr>\n",
       "      <th>2</th>\n",
       "      <td>0.03</td>\n",
       "      <td>0.009839</td>\n",
       "    </tr>\n",
       "    <tr>\n",
       "      <th>3</th>\n",
       "      <td>0.03</td>\n",
       "      <td>0.009839</td>\n",
       "    </tr>\n",
       "    <tr>\n",
       "      <th>4</th>\n",
       "      <td>0.03</td>\n",
       "      <td>0.009839</td>\n",
       "    </tr>\n",
       "    <tr>\n",
       "      <th>5</th>\n",
       "      <td>0.03</td>\n",
       "      <td>0.009839</td>\n",
       "    </tr>\n",
       "    <tr>\n",
       "      <th>6</th>\n",
       "      <td>0.04</td>\n",
       "      <td>0.013119</td>\n",
       "    </tr>\n",
       "    <tr>\n",
       "      <th>7</th>\n",
       "      <td>0.01</td>\n",
       "      <td>0.003279</td>\n",
       "    </tr>\n",
       "    <tr>\n",
       "      <th>8</th>\n",
       "      <td>1.50</td>\n",
       "      <td>0.127064</td>\n",
       "    </tr>\n",
       "  </tbody>\n",
       "</table>\n",
       "</div>"
      ],
      "text/plain": [
       "   p_mw    q_mvar\n",
       "0  0.02  0.006559\n",
       "1  0.02  0.006559\n",
       "2  0.03  0.009839\n",
       "3  0.03  0.009839\n",
       "4  0.03  0.009839\n",
       "5  0.03  0.009839\n",
       "6  0.04  0.013119\n",
       "7  0.01  0.003279\n",
       "8  1.50  0.127064"
      ]
     },
     "metadata": {},
     "output_type": "display_data"
    },
    {
     "name": "stdout",
     "output_type": "stream",
     "text": [
      "--- deviation from setpoints without limitation Cv = 1.0, Cq = 0. ----\n"
     ]
    },
    {
     "data": {
      "text/plain": [
       "3.900054027594424e-05"
      ]
     },
     "metadata": {},
     "output_type": "display_data"
    },
    {
     "name": "stdout",
     "output_type": "stream",
     "text": [
      "--- deviation from setpoints with limitation Cv = 0.99, Cq = 0.01 ----\n"
     ]
    },
    {
     "data": {
      "text/plain": [
       "0.00043781176800306845"
      ]
     },
     "metadata": {},
     "output_type": "display_data"
    }
   ],
   "source": [
    "print (\"--- optimized reactive power without limitation Cv = 1.0, Cq = 0. ----\")\n",
    "display(net_opt.res_sgen) # show optimized reactive power without limitation\n",
    "print (\"--- optimized reactive power with limitation Cv = 0.99, Cq = 0.01 ----\")\n",
    "display(net_optlim.res_sgen) # show optimized reactive power with limitation\n",
    "\n",
    "print (\"--- deviation from setpoints without limitation Cv = 1.0, Cq = 0. ----\")\n",
    "display(sum((v_opt - 0.96) ** 2)) # show optimized reactive power without limitation\n",
    "print (\"--- deviation from setpoints with limitation Cv = 0.99, Cq = 0.01 ----\")\n",
    "v_optlim = net_optlim.res_bus.vm_pu[net_optlim.sgen.bus].values\n",
    "display(sum((v_optlim - 0.96) ** 2)) # show optimized bus voltages"
   ]
  },
  {
   "cell_type": "markdown",
   "metadata": {},
   "source": [
    "The coefficient combination is grid-dependent. For example, the picture below shows the result for one of our case studies with a realistic grid. The user can find the most suitable combination setting through several attempts.\n",
    "<img src=\"pics/coef_combination.png\" alt=\"ALT\" width=\"600\">"
   ]
  },
  {
   "cell_type": "markdown",
   "metadata": {},
   "source": [
    "### 1-6: Time series optimizations\n",
    "There are two ways to perform time series optimizations. \n",
    "The first one is optimization in a loop, i.e., updating the grid condition for each time step and repeatedly calling optimization. The second one uses the \"multi-timestep\" optimization. PowerModels can solve the multi-grid optimization problem. This feature is used in PandaModels to deal with time series optimization for on specific grid by replacing the \"multi-grid\" with \"multi-timestep\" of the grid. \n",
    "\n",
    "Next, you will see an example."
   ]
  },
  {
   "cell_type": "markdown",
   "metadata": {},
   "source": [
    "First, let's load the time series data."
   ]
  },
  {
   "cell_type": "code",
   "execution_count": 15,
   "metadata": {
    "pycharm": {
     "name": "#%%\n"
    }
   },
   "outputs": [
    {
     "data": {
      "text/html": [
       "<div>\n",
       "<style scoped>\n",
       "    .dataframe tbody tr th:only-of-type {\n",
       "        vertical-align: middle;\n",
       "    }\n",
       "\n",
       "    .dataframe tbody tr th {\n",
       "        vertical-align: top;\n",
       "    }\n",
       "\n",
       "    .dataframe thead th {\n",
       "        text-align: right;\n",
       "    }\n",
       "</style>\n",
       "<table border=\"1\" class=\"dataframe\">\n",
       "  <thead>\n",
       "    <tr style=\"text-align: right;\">\n",
       "      <th></th>\n",
       "      <th>timestep</th>\n",
       "      <th>pv</th>\n",
       "      <th>wind</th>\n",
       "      <th>residential</th>\n",
       "    </tr>\n",
       "  </thead>\n",
       "  <tbody>\n",
       "    <tr>\n",
       "      <th>0</th>\n",
       "      <td>0</td>\n",
       "      <td>0.006143</td>\n",
       "      <td>0.622600</td>\n",
       "      <td>0.256022</td>\n",
       "    </tr>\n",
       "    <tr>\n",
       "      <th>1</th>\n",
       "      <td>1</td>\n",
       "      <td>0.005877</td>\n",
       "      <td>0.623585</td>\n",
       "      <td>0.248835</td>\n",
       "    </tr>\n",
       "    <tr>\n",
       "      <th>2</th>\n",
       "      <td>2</td>\n",
       "      <td>0.005505</td>\n",
       "      <td>0.625056</td>\n",
       "      <td>0.211973</td>\n",
       "    </tr>\n",
       "    <tr>\n",
       "      <th>3</th>\n",
       "      <td>3</td>\n",
       "      <td>0.005293</td>\n",
       "      <td>0.625897</td>\n",
       "      <td>0.201825</td>\n",
       "    </tr>\n",
       "    <tr>\n",
       "      <th>4</th>\n",
       "      <td>4</td>\n",
       "      <td>0.004921</td>\n",
       "      <td>0.627369</td>\n",
       "      <td>0.209164</td>\n",
       "    </tr>\n",
       "    <tr>\n",
       "      <th>...</th>\n",
       "      <td>...</td>\n",
       "      <td>...</td>\n",
       "      <td>...</td>\n",
       "      <td>...</td>\n",
       "    </tr>\n",
       "    <tr>\n",
       "      <th>91</th>\n",
       "      <td>91</td>\n",
       "      <td>0.005835</td>\n",
       "      <td>0.921388</td>\n",
       "      <td>0.435660</td>\n",
       "    </tr>\n",
       "    <tr>\n",
       "      <th>92</th>\n",
       "      <td>92</td>\n",
       "      <td>0.005423</td>\n",
       "      <td>0.918447</td>\n",
       "      <td>0.410870</td>\n",
       "    </tr>\n",
       "    <tr>\n",
       "      <th>93</th>\n",
       "      <td>93</td>\n",
       "      <td>0.004704</td>\n",
       "      <td>0.886837</td>\n",
       "      <td>0.344715</td>\n",
       "    </tr>\n",
       "    <tr>\n",
       "      <th>94</th>\n",
       "      <td>94</td>\n",
       "      <td>0.004143</td>\n",
       "      <td>0.858339</td>\n",
       "      <td>0.304026</td>\n",
       "    </tr>\n",
       "    <tr>\n",
       "      <th>95</th>\n",
       "      <td>95</td>\n",
       "      <td>0.003667</td>\n",
       "      <td>0.838370</td>\n",
       "      <td>0.286328</td>\n",
       "    </tr>\n",
       "  </tbody>\n",
       "</table>\n",
       "<p>96 rows × 4 columns</p>\n",
       "</div>"
      ],
      "text/plain": [
       "    timestep        pv      wind  residential\n",
       "0          0  0.006143  0.622600     0.256022\n",
       "1          1  0.005877  0.623585     0.248835\n",
       "2          2  0.005505  0.625056     0.211973\n",
       "3          3  0.005293  0.625897     0.201825\n",
       "4          4  0.004921  0.627369     0.209164\n",
       "..       ...       ...       ...          ...\n",
       "91        91  0.005835  0.921388     0.435660\n",
       "92        92  0.005423  0.918447     0.410870\n",
       "93        93  0.004704  0.886837     0.344715\n",
       "94        94  0.004143  0.858339     0.304026\n",
       "95        95  0.003667  0.838370     0.286328\n",
       "\n",
       "[96 rows x 4 columns]"
      ]
     },
     "metadata": {},
     "output_type": "display_data"
    }
   ],
   "source": [
    "import pandas as pd\n",
    "\n",
    "# load time series data for 96 time steps\n",
    "time_series = pd.read_json(\"cigre_timeseries_15min.json\")\n",
    "time_series.sort_index(inplace=True)\n",
    "\n",
    "# show time series\n",
    "display(time_series) \n",
    "\n",
    "# set load type and sgen type in the cigre grid\n",
    "net[\"load\"].loc[:, \"type\"] = \"residential\"\n",
    "net.sgen.loc[:, \"type\"] = \"pv\"\n",
    "net.sgen.loc[8, \"type\"] = \"wind\"\n",
    "\n",
    "# get rated power\n",
    "load_p = net[\"load\"].loc[:, \"p_mw\"].values\n",
    "sgen_p = net[\"sgen\"].loc[:7, \"p_mw\"].values\n",
    "wind_p = net[\"sgen\"].loc[8, \"p_mw\"]\n",
    "\n",
    "# create dataframe for loads and sgens\n",
    "load_ts = pd.DataFrame(index=time_series.index.tolist(), columns=net.load.index.tolist())\n",
    "sgen_ts = pd.DataFrame(index=time_series.index.tolist(), columns=net.sgen.index.tolist())\n",
    "for t in range(96):\n",
    "    load_ts.loc[t] = load_p * time_series.at[t, \"residential\"]\n",
    "    sgen_ts.loc[t][:8] = sgen_p * time_series.at[t, \"pv\"]\n",
    "    sgen_ts.loc[t][8] = wind_p * time_series.at[t, \"wind\"]"
   ]
  },
  {
   "cell_type": "markdown",
   "metadata": {},
   "source": [
    "Now, we perform the time series optimizations in a loop."
   ]
  },
  {
   "cell_type": "code",
   "execution_count": 16,
   "metadata": {
    "pycharm": {
     "name": "#%%\n"
    }
   },
   "outputs": [
    {
     "name": "stderr",
     "output_type": "stream",
     "text": [
      "hp.pandapower.opf.make_objective - WARNING: no costs are given - overall generated power is minimized\n",
      "hp.pandapower.opf.run_powermodels - INFO: Optimization ('run_pandamodels_vstab') is finished in 0.06 seconds:\n",
      "hp.pandapower.opf.make_objective - WARNING: no costs are given - overall generated power is minimized\n",
      "hp.pandapower.opf.run_powermodels - INFO: Optimization ('run_pandamodels_vstab') is finished in 0.03 seconds:\n",
      "hp.pandapower.opf.make_objective - WARNING: no costs are given - overall generated power is minimized\n",
      "hp.pandapower.opf.run_powermodels - INFO: Optimization ('run_pandamodels_vstab') is finished in 0.03 seconds:\n",
      "hp.pandapower.opf.make_objective - WARNING: no costs are given - overall generated power is minimized\n",
      "hp.pandapower.opf.run_powermodels - INFO: Optimization ('run_pandamodels_vstab') is finished in 0.03 seconds:\n",
      "hp.pandapower.opf.make_objective - WARNING: no costs are given - overall generated power is minimized\n",
      "hp.pandapower.opf.run_powermodels - INFO: Optimization ('run_pandamodels_vstab') is finished in 0.03 seconds:\n",
      "hp.pandapower.opf.make_objective - WARNING: no costs are given - overall generated power is minimized\n",
      "hp.pandapower.opf.run_powermodels - INFO: Optimization ('run_pandamodels_vstab') is finished in 0.03 seconds:\n",
      "hp.pandapower.opf.make_objective - WARNING: no costs are given - overall generated power is minimized\n",
      "hp.pandapower.opf.run_powermodels - INFO: Optimization ('run_pandamodels_vstab') is finished in 0.03 seconds:\n",
      "hp.pandapower.opf.make_objective - WARNING: no costs are given - overall generated power is minimized\n",
      "hp.pandapower.opf.run_powermodels - INFO: Optimization ('run_pandamodels_vstab') is finished in 0.03 seconds:\n",
      "hp.pandapower.opf.make_objective - WARNING: no costs are given - overall generated power is minimized\n",
      "hp.pandapower.opf.run_powermodels - INFO: Optimization ('run_pandamodels_vstab') is finished in 0.03 seconds:\n",
      "hp.pandapower.opf.make_objective - WARNING: no costs are given - overall generated power is minimized\n",
      "hp.pandapower.opf.run_powermodels - INFO: Optimization ('run_pandamodels_vstab') is finished in 0.03 seconds:\n",
      "hp.pandapower.opf.make_objective - WARNING: no costs are given - overall generated power is minimized\n",
      "hp.pandapower.opf.run_powermodels - INFO: Optimization ('run_pandamodels_vstab') is finished in 0.03 seconds:\n",
      "hp.pandapower.opf.make_objective - WARNING: no costs are given - overall generated power is minimized\n",
      "hp.pandapower.opf.run_powermodels - INFO: Optimization ('run_pandamodels_vstab') is finished in 0.03 seconds:\n",
      "hp.pandapower.opf.make_objective - WARNING: no costs are given - overall generated power is minimized\n",
      "hp.pandapower.opf.run_powermodels - INFO: Optimization ('run_pandamodels_vstab') is finished in 0.03 seconds:\n",
      "hp.pandapower.opf.make_objective - WARNING: no costs are given - overall generated power is minimized\n",
      "hp.pandapower.opf.run_powermodels - INFO: Optimization ('run_pandamodels_vstab') is finished in 0.03 seconds:\n",
      "hp.pandapower.opf.make_objective - WARNING: no costs are given - overall generated power is minimized\n",
      "hp.pandapower.opf.run_powermodels - INFO: Optimization ('run_pandamodels_vstab') is finished in 0.03 seconds:\n",
      "hp.pandapower.opf.make_objective - WARNING: no costs are given - overall generated power is minimized\n",
      "hp.pandapower.opf.run_powermodels - INFO: Optimization ('run_pandamodels_vstab') is finished in 0.05 seconds:\n",
      "hp.pandapower.opf.make_objective - WARNING: no costs are given - overall generated power is minimized\n",
      "hp.pandapower.opf.run_powermodels - INFO: Optimization ('run_pandamodels_vstab') is finished in 0.03 seconds:\n",
      "hp.pandapower.opf.make_objective - WARNING: no costs are given - overall generated power is minimized\n",
      "hp.pandapower.opf.run_powermodels - INFO: Optimization ('run_pandamodels_vstab') is finished in 0.03 seconds:\n",
      "hp.pandapower.opf.make_objective - WARNING: no costs are given - overall generated power is minimized\n",
      "hp.pandapower.opf.run_powermodels - INFO: Optimization ('run_pandamodels_vstab') is finished in 0.03 seconds:\n",
      "hp.pandapower.opf.make_objective - WARNING: no costs are given - overall generated power is minimized\n",
      "hp.pandapower.opf.run_powermodels - INFO: Optimization ('run_pandamodels_vstab') is finished in 0.02 seconds:\n",
      "hp.pandapower.opf.make_objective - WARNING: no costs are given - overall generated power is minimized\n",
      "hp.pandapower.opf.run_powermodels - INFO: Optimization ('run_pandamodels_vstab') is finished in 0.03 seconds:\n",
      "hp.pandapower.opf.make_objective - WARNING: no costs are given - overall generated power is minimized\n",
      "hp.pandapower.opf.run_powermodels - INFO: Optimization ('run_pandamodels_vstab') is finished in 0.03 seconds:\n",
      "hp.pandapower.opf.make_objective - WARNING: no costs are given - overall generated power is minimized\n",
      "hp.pandapower.opf.run_powermodels - INFO: Optimization ('run_pandamodels_vstab') is finished in 0.03 seconds:\n",
      "hp.pandapower.opf.make_objective - WARNING: no costs are given - overall generated power is minimized\n",
      "hp.pandapower.opf.run_powermodels - INFO: Optimization ('run_pandamodels_vstab') is finished in 0.03 seconds:\n",
      "hp.pandapower.opf.make_objective - WARNING: no costs are given - overall generated power is minimized\n",
      "hp.pandapower.opf.run_powermodels - INFO: Optimization ('run_pandamodels_vstab') is finished in 0.04 seconds:\n",
      "hp.pandapower.opf.make_objective - WARNING: no costs are given - overall generated power is minimized\n",
      "hp.pandapower.opf.run_powermodels - INFO: Optimization ('run_pandamodels_vstab') is finished in 0.05 seconds:\n",
      "hp.pandapower.opf.make_objective - WARNING: no costs are given - overall generated power is minimized\n",
      "hp.pandapower.opf.run_powermodels - INFO: Optimization ('run_pandamodels_vstab') is finished in 0.04 seconds:\n",
      "hp.pandapower.opf.make_objective - WARNING: no costs are given - overall generated power is minimized\n",
      "hp.pandapower.opf.run_powermodels - INFO: Optimization ('run_pandamodels_vstab') is finished in 0.05 seconds:\n",
      "hp.pandapower.opf.make_objective - WARNING: no costs are given - overall generated power is minimized\n",
      "hp.pandapower.opf.run_powermodels - INFO: Optimization ('run_pandamodels_vstab') is finished in 0.04 seconds:\n",
      "hp.pandapower.opf.make_objective - WARNING: no costs are given - overall generated power is minimized\n",
      "hp.pandapower.opf.run_powermodels - INFO: Optimization ('run_pandamodels_vstab') is finished in 0.04 seconds:\n",
      "hp.pandapower.opf.make_objective - WARNING: no costs are given - overall generated power is minimized\n",
      "hp.pandapower.opf.run_powermodels - INFO: Optimization ('run_pandamodels_vstab') is finished in 0.05 seconds:\n",
      "hp.pandapower.opf.make_objective - WARNING: no costs are given - overall generated power is minimized\n",
      "hp.pandapower.opf.run_powermodels - INFO: Optimization ('run_pandamodels_vstab') is finished in 0.05 seconds:\n",
      "hp.pandapower.opf.make_objective - WARNING: no costs are given - overall generated power is minimized\n",
      "hp.pandapower.opf.run_powermodels - INFO: Optimization ('run_pandamodels_vstab') is finished in 0.06 seconds:\n",
      "hp.pandapower.opf.make_objective - WARNING: no costs are given - overall generated power is minimized\n",
      "hp.pandapower.opf.run_powermodels - INFO: Optimization ('run_pandamodels_vstab') is finished in 0.04 seconds:\n",
      "hp.pandapower.opf.make_objective - WARNING: no costs are given - overall generated power is minimized\n",
      "hp.pandapower.opf.run_powermodels - INFO: Optimization ('run_pandamodels_vstab') is finished in 0.05 seconds:\n",
      "hp.pandapower.opf.make_objective - WARNING: no costs are given - overall generated power is minimized\n",
      "hp.pandapower.opf.run_powermodels - INFO: Optimization ('run_pandamodels_vstab') is finished in 0.05 seconds:\n",
      "hp.pandapower.opf.make_objective - WARNING: no costs are given - overall generated power is minimized\n",
      "hp.pandapower.opf.run_powermodels - INFO: Optimization ('run_pandamodels_vstab') is finished in 0.06 seconds:\n",
      "hp.pandapower.opf.make_objective - WARNING: no costs are given - overall generated power is minimized\n",
      "hp.pandapower.opf.run_powermodels - INFO: Optimization ('run_pandamodels_vstab') is finished in 0.05 seconds:\n",
      "hp.pandapower.opf.make_objective - WARNING: no costs are given - overall generated power is minimized\n",
      "hp.pandapower.opf.run_powermodels - INFO: Optimization ('run_pandamodels_vstab') is finished in 0.05 seconds:\n"
     ]
    },
    {
     "name": "stderr",
     "output_type": "stream",
     "text": [
      "hp.pandapower.opf.make_objective - WARNING: no costs are given - overall generated power is minimized\n",
      "hp.pandapower.opf.run_powermodels - INFO: Optimization ('run_pandamodels_vstab') is finished in 0.05 seconds:\n",
      "hp.pandapower.opf.make_objective - WARNING: no costs are given - overall generated power is minimized\n",
      "hp.pandapower.opf.run_powermodels - INFO: Optimization ('run_pandamodels_vstab') is finished in 0.05 seconds:\n",
      "hp.pandapower.opf.make_objective - WARNING: no costs are given - overall generated power is minimized\n",
      "hp.pandapower.opf.run_powermodels - INFO: Optimization ('run_pandamodels_vstab') is finished in 0.05 seconds:\n",
      "hp.pandapower.opf.make_objective - WARNING: no costs are given - overall generated power is minimized\n",
      "hp.pandapower.opf.run_powermodels - INFO: Optimization ('run_pandamodels_vstab') is finished in 0.05 seconds:\n",
      "hp.pandapower.opf.make_objective - WARNING: no costs are given - overall generated power is minimized\n",
      "hp.pandapower.opf.run_powermodels - INFO: Optimization ('run_pandamodels_vstab') is finished in 0.05 seconds:\n",
      "hp.pandapower.opf.make_objective - WARNING: no costs are given - overall generated power is minimized\n",
      "hp.pandapower.opf.run_powermodels - INFO: Optimization ('run_pandamodels_vstab') is finished in 0.04 seconds:\n",
      "hp.pandapower.opf.make_objective - WARNING: no costs are given - overall generated power is minimized\n",
      "hp.pandapower.opf.run_powermodels - INFO: Optimization ('run_pandamodels_vstab') is finished in 0.05 seconds:\n",
      "hp.pandapower.opf.make_objective - WARNING: no costs are given - overall generated power is minimized\n",
      "hp.pandapower.opf.run_powermodels - INFO: Optimization ('run_pandamodels_vstab') is finished in 0.04 seconds:\n",
      "hp.pandapower.opf.make_objective - WARNING: no costs are given - overall generated power is minimized\n",
      "hp.pandapower.opf.run_powermodels - INFO: Optimization ('run_pandamodels_vstab') is finished in 0.05 seconds:\n",
      "hp.pandapower.opf.make_objective - WARNING: no costs are given - overall generated power is minimized\n",
      "hp.pandapower.opf.run_powermodels - INFO: Optimization ('run_pandamodels_vstab') is finished in 0.05 seconds:\n",
      "hp.pandapower.opf.make_objective - WARNING: no costs are given - overall generated power is minimized\n",
      "hp.pandapower.opf.run_powermodels - INFO: Optimization ('run_pandamodels_vstab') is finished in 0.05 seconds:\n",
      "hp.pandapower.opf.make_objective - WARNING: no costs are given - overall generated power is minimized\n",
      "hp.pandapower.opf.run_powermodels - INFO: Optimization ('run_pandamodels_vstab') is finished in 0.05 seconds:\n",
      "hp.pandapower.opf.make_objective - WARNING: no costs are given - overall generated power is minimized\n",
      "hp.pandapower.opf.run_powermodels - INFO: Optimization ('run_pandamodels_vstab') is finished in 0.04 seconds:\n",
      "hp.pandapower.opf.make_objective - WARNING: no costs are given - overall generated power is minimized\n",
      "hp.pandapower.opf.run_powermodels - INFO: Optimization ('run_pandamodels_vstab') is finished in 0.05 seconds:\n",
      "hp.pandapower.opf.make_objective - WARNING: no costs are given - overall generated power is minimized\n",
      "hp.pandapower.opf.run_powermodels - INFO: Optimization ('run_pandamodels_vstab') is finished in 0.04 seconds:\n",
      "hp.pandapower.opf.make_objective - WARNING: no costs are given - overall generated power is minimized\n",
      "hp.pandapower.opf.run_powermodels - INFO: Optimization ('run_pandamodels_vstab') is finished in 0.04 seconds:\n",
      "hp.pandapower.opf.make_objective - WARNING: no costs are given - overall generated power is minimized\n",
      "hp.pandapower.opf.run_powermodels - INFO: Optimization ('run_pandamodels_vstab') is finished in 0.04 seconds:\n",
      "hp.pandapower.opf.make_objective - WARNING: no costs are given - overall generated power is minimized\n",
      "hp.pandapower.opf.run_powermodels - INFO: Optimization ('run_pandamodels_vstab') is finished in 0.05 seconds:\n",
      "hp.pandapower.opf.make_objective - WARNING: no costs are given - overall generated power is minimized\n",
      "hp.pandapower.opf.run_powermodels - INFO: Optimization ('run_pandamodels_vstab') is finished in 0.05 seconds:\n",
      "hp.pandapower.opf.make_objective - WARNING: no costs are given - overall generated power is minimized\n",
      "hp.pandapower.opf.run_powermodels - INFO: Optimization ('run_pandamodels_vstab') is finished in 0.03 seconds:\n",
      "hp.pandapower.opf.make_objective - WARNING: no costs are given - overall generated power is minimized\n",
      "hp.pandapower.opf.run_powermodels - INFO: Optimization ('run_pandamodels_vstab') is finished in 0.03 seconds:\n",
      "hp.pandapower.opf.make_objective - WARNING: no costs are given - overall generated power is minimized\n",
      "hp.pandapower.opf.run_powermodels - INFO: Optimization ('run_pandamodels_vstab') is finished in 0.04 seconds:\n",
      "hp.pandapower.opf.make_objective - WARNING: no costs are given - overall generated power is minimized\n",
      "hp.pandapower.opf.run_powermodels - INFO: Optimization ('run_pandamodels_vstab') is finished in 0.03 seconds:\n",
      "hp.pandapower.opf.make_objective - WARNING: no costs are given - overall generated power is minimized\n",
      "hp.pandapower.opf.run_powermodels - INFO: Optimization ('run_pandamodels_vstab') is finished in 0.03 seconds:\n",
      "hp.pandapower.opf.make_objective - WARNING: no costs are given - overall generated power is minimized\n",
      "hp.pandapower.opf.run_powermodels - INFO: Optimization ('run_pandamodels_vstab') is finished in 0.03 seconds:\n",
      "hp.pandapower.opf.make_objective - WARNING: no costs are given - overall generated power is minimized\n",
      "hp.pandapower.opf.run_powermodels - INFO: Optimization ('run_pandamodels_vstab') is finished in 0.03 seconds:\n",
      "hp.pandapower.opf.make_objective - WARNING: no costs are given - overall generated power is minimized\n",
      "hp.pandapower.opf.run_powermodels - INFO: Optimization ('run_pandamodels_vstab') is finished in 0.04 seconds:\n",
      "hp.pandapower.opf.make_objective - WARNING: no costs are given - overall generated power is minimized\n",
      "hp.pandapower.opf.run_powermodels - INFO: Optimization ('run_pandamodels_vstab') is finished in 0.04 seconds:\n",
      "hp.pandapower.opf.make_objective - WARNING: no costs are given - overall generated power is minimized\n",
      "hp.pandapower.opf.run_powermodels - INFO: Optimization ('run_pandamodels_vstab') is finished in 0.04 seconds:\n",
      "hp.pandapower.opf.make_objective - WARNING: no costs are given - overall generated power is minimized\n",
      "hp.pandapower.opf.run_powermodels - INFO: Optimization ('run_pandamodels_vstab') is finished in 0.04 seconds:\n",
      "hp.pandapower.opf.make_objective - WARNING: no costs are given - overall generated power is minimized\n",
      "hp.pandapower.opf.run_powermodels - INFO: Optimization ('run_pandamodels_vstab') is finished in 0.04 seconds:\n",
      "hp.pandapower.opf.make_objective - WARNING: no costs are given - overall generated power is minimized\n",
      "hp.pandapower.opf.run_powermodels - INFO: Optimization ('run_pandamodels_vstab') is finished in 0.05 seconds:\n",
      "hp.pandapower.opf.make_objective - WARNING: no costs are given - overall generated power is minimized\n",
      "hp.pandapower.opf.run_powermodels - INFO: Optimization ('run_pandamodels_vstab') is finished in 0.05 seconds:\n",
      "hp.pandapower.opf.make_objective - WARNING: no costs are given - overall generated power is minimized\n",
      "hp.pandapower.opf.run_powermodels - INFO: Optimization ('run_pandamodels_vstab') is finished in 0.06 seconds:\n",
      "hp.pandapower.opf.make_objective - WARNING: no costs are given - overall generated power is minimized\n",
      "hp.pandapower.opf.run_powermodels - INFO: Optimization ('run_pandamodels_vstab') is finished in 0.06 seconds:\n",
      "hp.pandapower.opf.make_objective - WARNING: no costs are given - overall generated power is minimized\n",
      "hp.pandapower.opf.run_powermodels - INFO: Optimization ('run_pandamodels_vstab') is finished in 0.06 seconds:\n",
      "hp.pandapower.opf.make_objective - WARNING: no costs are given - overall generated power is minimized\n",
      "hp.pandapower.opf.run_powermodels - INFO: Optimization ('run_pandamodels_vstab') is finished in 0.05 seconds:\n",
      "hp.pandapower.opf.make_objective - WARNING: no costs are given - overall generated power is minimized\n",
      "hp.pandapower.opf.run_powermodels - INFO: Optimization ('run_pandamodels_vstab') is finished in 0.06 seconds:\n",
      "hp.pandapower.opf.make_objective - WARNING: no costs are given - overall generated power is minimized\n",
      "hp.pandapower.opf.run_powermodels - INFO: Optimization ('run_pandamodels_vstab') is finished in 0.05 seconds:\n"
     ]
    },
    {
     "name": "stderr",
     "output_type": "stream",
     "text": [
      "hp.pandapower.opf.make_objective - WARNING: no costs are given - overall generated power is minimized\n",
      "hp.pandapower.opf.run_powermodels - INFO: Optimization ('run_pandamodels_vstab') is finished in 0.05 seconds:\n",
      "hp.pandapower.opf.make_objective - WARNING: no costs are given - overall generated power is minimized\n",
      "hp.pandapower.opf.run_powermodels - INFO: Optimization ('run_pandamodels_vstab') is finished in 0.06 seconds:\n",
      "hp.pandapower.opf.make_objective - WARNING: no costs are given - overall generated power is minimized\n",
      "hp.pandapower.opf.run_powermodels - INFO: Optimization ('run_pandamodels_vstab') is finished in 0.07 seconds:\n",
      "hp.pandapower.opf.make_objective - WARNING: no costs are given - overall generated power is minimized\n",
      "hp.pandapower.opf.run_powermodels - INFO: Optimization ('run_pandamodels_vstab') is finished in 0.05 seconds:\n",
      "hp.pandapower.opf.make_objective - WARNING: no costs are given - overall generated power is minimized\n",
      "hp.pandapower.opf.run_powermodels - INFO: Optimization ('run_pandamodels_vstab') is finished in 0.05 seconds:\n",
      "hp.pandapower.opf.make_objective - WARNING: no costs are given - overall generated power is minimized\n",
      "hp.pandapower.opf.run_powermodels - INFO: Optimization ('run_pandamodels_vstab') is finished in 0.05 seconds:\n",
      "hp.pandapower.opf.make_objective - WARNING: no costs are given - overall generated power is minimized\n",
      "hp.pandapower.opf.run_powermodels - INFO: Optimization ('run_pandamodels_vstab') is finished in 0.04 seconds:\n",
      "hp.pandapower.opf.make_objective - WARNING: no costs are given - overall generated power is minimized\n",
      "hp.pandapower.opf.run_powermodels - INFO: Optimization ('run_pandamodels_vstab') is finished in 0.04 seconds:\n",
      "hp.pandapower.opf.make_objective - WARNING: no costs are given - overall generated power is minimized\n",
      "hp.pandapower.opf.run_powermodels - INFO: Optimization ('run_pandamodels_vstab') is finished in 0.05 seconds:\n",
      "hp.pandapower.opf.make_objective - WARNING: no costs are given - overall generated power is minimized\n",
      "hp.pandapower.opf.run_powermodels - INFO: Optimization ('run_pandamodels_vstab') is finished in 0.05 seconds:\n",
      "hp.pandapower.opf.make_objective - WARNING: no costs are given - overall generated power is minimized\n",
      "hp.pandapower.opf.run_powermodels - INFO: Optimization ('run_pandamodels_vstab') is finished in 0.03 seconds:\n",
      "hp.pandapower.opf.make_objective - WARNING: no costs are given - overall generated power is minimized\n",
      "hp.pandapower.opf.run_powermodels - INFO: Optimization ('run_pandamodels_vstab') is finished in 0.03 seconds:\n",
      "hp.pandapower.opf.make_objective - WARNING: no costs are given - overall generated power is minimized\n",
      "hp.pandapower.opf.run_powermodels - INFO: Optimization ('run_pandamodels_vstab') is finished in 0.04 seconds:\n",
      "hp.pandapower.opf.make_objective - WARNING: no costs are given - overall generated power is minimized\n",
      "hp.pandapower.opf.run_powermodels - INFO: Optimization ('run_pandamodels_vstab') is finished in 0.03 seconds:\n",
      "hp.pandapower.opf.make_objective - WARNING: no costs are given - overall generated power is minimized\n",
      "hp.pandapower.opf.run_powermodels - INFO: Optimization ('run_pandamodels_vstab') is finished in 0.03 seconds:\n",
      "hp.pandapower.opf.make_objective - WARNING: no costs are given - overall generated power is minimized\n",
      "hp.pandapower.opf.run_powermodels - INFO: Optimization ('run_pandamodels_vstab') is finished in 0.03 seconds:\n",
      "hp.pandapower.opf.make_objective - WARNING: no costs are given - overall generated power is minimized\n",
      "hp.pandapower.opf.run_powermodels - INFO: Optimization ('run_pandamodels_vstab') is finished in 0.02 seconds:\n",
      "hp.pandapower.opf.make_objective - WARNING: no costs are given - overall generated power is minimized\n",
      "hp.pandapower.opf.run_powermodels - INFO: Optimization ('run_pandamodels_vstab') is finished in 0.03 seconds:\n"
     ]
    }
   ],
   "source": [
    "########################################################################\n",
    "####################### Optimization in a loop #########################\n",
    "########################################################################\n",
    "\n",
    "y_loop = []\n",
    "for t in range(96):\n",
    "    \n",
    "    # Update operating points for each time step\n",
    "    net_opt.load.p_mw = load_ts.loc[t]\n",
    "    net_opt.sgen.p_mw = sgen_ts.loc[t]\n",
    "    \n",
    "    # If required, we also need to update the constraints, e.g., Qmax- and Qmin-value, for each time step. \n",
    "    net_opt.sgen.max_p_mw = sgen_ts.loc[t]   # for load: max_p_mw == min_p_mw, because they are not controllable.\n",
    "    net_opt.sgen.min_p_mw = sgen_ts.loc[t]\n",
    "    net_opt.sgen.max_q_mvar = net_opt.sgen.max_q_mvar\n",
    "    net_opt.sgen.min_q_mvar = net_opt.sgen.min_q_mvar\n",
    "    \n",
    "    # run optimization for time step t\n",
    "    try:\n",
    "        pp.runpm_vstab(net_opt)\n",
    "    except:\n",
    "        print(\"[WinError 3] The system cannot find the path specified to the python39.dll\")\n",
    "    \n",
    "    # save the mean voltage value for each time step\n",
    "    y_loop.append(net_opt.res_bus.vm_pu[net_opt.sgen.bus].values.mean())"
   ]
  },
  {
   "cell_type": "markdown",
   "metadata": {},
   "source": [
    "Alternatively, we can do it using multi-timestep optimization."
   ]
  },
  {
   "cell_type": "code",
   "execution_count": 17,
   "metadata": {
    "pycharm": {
     "name": "#%%\n"
    }
   },
   "outputs": [
    {
     "name": "stderr",
     "output_type": "stream",
     "text": [
      "hp.pandapower.opf.make_objective - WARNING: no costs are given - overall generated power is minimized\n",
      "hp.pandapower.opf.run_powermodels - INFO: Optimization ('run_pandamodels_multi_vstab') is finished in 5.88 seconds:\n"
     ]
    }
   ],
   "source": [
    "########################################################################\n",
    "####################### multi-timestep optimization ####################\n",
    "########################################################################\n",
    "\n",
    "from pandapower.control import ConstControl\n",
    "from pandapower.timeseries import DFData\n",
    "\n",
    "# For this method, we need to add the time series data into the pandapower.controller.\n",
    "net_opt.controller.drop(net.controller.index, inplace=True) # remove the existing controllers\n",
    "\n",
    "# Add time series for load and sgen.\n",
    "ConstControl(net_opt, element=\"load\", variable=\"p_mw\",\n",
    "             element_index=net.load.index.tolist(), profile_name=net.load.index.tolist(),\n",
    "             data_source=DFData(load_ts))\n",
    "ConstControl(net_opt, element=\"sgen\", variable=\"p_mw\",\n",
    "             element_index=net.sgen.index.tolist(), profile_name=net.sgen.index.tolist(),\n",
    "             data_source=DFData(sgen_ts))\n",
    "\n",
    "# If required, we also need to creat a time series for the constraints, e.g., Qmax- and Qmin-value, for each time step. \n",
    "df_qmax, df_qmin = sgen_ts.copy(), sgen_ts.copy()\n",
    "df_qmax[df_qmax.columns] = net_opt.sgen.max_q_mvar\n",
    "df_qmin[df_qmin.columns] = net_opt.sgen.min_q_mvar\n",
    "\n",
    "# Then create controllers for them.\n",
    "ConstControl(net_opt, element=\"sgen\", variable=\"max_p_mw\",\n",
    "              element_index=net.sgen.index.tolist(), profile_name=net.sgen.index.tolist(),\n",
    "              data_source=DFData(sgen_ts))\n",
    "ConstControl(net_opt, element=\"sgen\", variable=\"min_p_mw\",\n",
    "              element_index=net.sgen.index.tolist(), profile_name=net.sgen.index.tolist(),\n",
    "              data_source=DFData(sgen_ts))\n",
    "ConstControl(net_opt, element=\"sgen\", variable=\"max_q_mvar\",\n",
    "              element_index=net.sgen.index.tolist(), profile_name=net.sgen.index.tolist(),\n",
    "              data_source=DFData(df_qmax))\n",
    "ConstControl(net_opt, element=\"sgen\", variable=\"min_q_mvar\",\n",
    "              element_index=net.sgen.index.tolist(), profile_name=net.sgen.index.tolist(),\n",
    "              data_source=DFData(df_qmin))\n",
    "\n",
    "# For the multi-timestep optimization, we need to call another PandaModels-function.\n",
    "try:\n",
    "    pp.runpm_multi_vstab(net_opt, from_time_step=0, to_time_step=96)\n",
    "except:\n",
    "    print(\"[WinError 3] The system cannot find the path specified to the python39.dll\")"
   ]
  },
  {
   "cell_type": "markdown",
   "metadata": {},
   "source": [
    "**Note that**, currently, the function ***pp.runpm_multi_vstab()*** doesn't support using of the multi-objective function for saving reactive power.\n",
    "\n",
    "The results for each time step are saved in **net.res_ts_opt**. Let's get them."
   ]
  },
  {
   "cell_type": "code",
   "execution_count": 18,
   "metadata": {
    "pycharm": {
     "name": "#%%\n"
    }
   },
   "outputs": [],
   "source": [
    "y_multi = []\n",
    "for t in range(96):\n",
    "    y_multi.append(net_opt.res_ts_opt[str(t)].res_bus.vm_pu[net_opt.sgen.bus].values.mean())"
   ]
  },
  {
   "cell_type": "markdown",
   "metadata": {},
   "source": [
    "And then plot them."
   ]
  },
  {
   "cell_type": "code",
   "execution_count": 19,
   "metadata": {
    "pycharm": {
     "name": "#%%\n"
    }
   },
   "outputs": [
    {
     "data": {
      "text/plain": [
       "Text(0, 0.5, 'mean voltage value for DER-buses [p.u.]')"
      ]
     },
     "execution_count": 19,
     "metadata": {},
     "output_type": "execute_result"
    },
    {
     "data": {
      "image/png": "[encoded data removed]",
      "text/plain": [
       "<Figure size 432x288 with 2 Axes>"
      ]
     },
     "metadata": {
      "needs_background": "light"
     },
     "output_type": "display_data"
    }
   ],
   "source": [
    "import matplotlib.pyplot as plt\n",
    "\n",
    "fig, (ax1, ax2) = plt.subplots(1, 2, sharex=True, sharey=True)\n",
    "ax1.plot(range(96), y_loop)\n",
    "ax1.set_title(\"results for \\n optimization in a loop\")\n",
    "ax2.plot(range(96), y_multi)\n",
    "ax2.set_title(\"results for \\n multi-timestep optimization\")\n",
    "\n",
    "for ax in ax1, ax2:\n",
    "    ax.grid(True)\n",
    "    ax.label_outer()\n",
    "    ax.set_xlabel(\"time step [15min]\")\n",
    "ax1.set_ylabel(\"mean voltage value for DER-buses [p.u.]\")"
   ]
  },
  {
   "cell_type": "markdown",
   "metadata": {},
   "source": [
    "As the plot above shows, both methods have the same results.\n",
    "\n",
    "**For a long-term time series optimization (>500 timesteps), we suggest using the first method, optimization in a loop.**"
   ]
  },
  {
   "cell_type": "markdown",
   "metadata": {},
   "source": [
    "## 2) Maintaining Reactive Power Setpoints\n",
    "\n",
    "The motivation for this objective is to minimize the deviations of reactive power injection at the TSO-DSO interface from a target value, e.g., $Q_{\\rm setpoint}= 2 \\rm MVar$. It is formulated by the following equation:\n",
    "\n",
    "\\begin{align}\n",
    "& \\underset{\\mathcal{X} = [q, ...]}{\\text{minimize}}\n",
    "& &  \\sum_{i\\in \\mathcal{interfaces}} (Q_i-Q_{\\rm setpoint})^2 \\\\\n",
    "\\end{align}\n",
    "\n",
    "We use the same grid model to introduce the example. As the picture low shows, the marked bus (or interface) is observed.\n",
    "\n",
    "\n",
    "<img src=\"pics/qflex.png\" alt=\"ALT\" width=\"300\">\n",
    "\n",
    "First, let's create the grid and check the reactive power injection at this interface."
   ]
  },
  {
   "cell_type": "code",
   "execution_count": 20,
   "metadata": {
    "pycharm": {
     "name": "#%%\n"
    }
   },
   "outputs": [
    {
     "data": {
      "text/plain": [
       "-5.941540318632734"
      ]
     },
     "metadata": {},
     "output_type": "display_data"
    }
   ],
   "source": [
    "import pandapower as pp\n",
    "import pandapower.networks as nw\n",
    "from copy import deepcopy\n",
    "\n",
    "net = nw.create_cigre_network_mv(with_der=\"pv_wind\")\n",
    "pp.runpp(net)\n",
    "net_org = deepcopy(net)\n",
    "\n",
    "display(net.res_trafo.q_lv_mvar[0])"
   ]
  },
  {
   "cell_type": "markdown",
   "metadata": {},
   "source": [
    "Without optimization, the reactive power injection at this interface is -5.942 MVAr.\n",
    "\n",
    "Let's configure optimization parameters and define a target value for this interface, $Q_{\\rm setpoint}= -5 \\rm MVAr$, i.e., we optimize the reactive power provision of DER to achieve this target."
   ]
  },
  {
   "cell_type": "code",
   "execution_count": 21,
   "metadata": {
    "pycharm": {
     "name": "#%%\n"
    }
   },
   "outputs": [
    {
     "data": {
      "text/html": [
       "<div>\n",
       "<style scoped>\n",
       "    .dataframe tbody tr th:only-of-type {\n",
       "        vertical-align: middle;\n",
       "    }\n",
       "\n",
       "    .dataframe tbody tr th {\n",
       "        vertical-align: top;\n",
       "    }\n",
       "\n",
       "    .dataframe thead th {\n",
       "        text-align: right;\n",
       "    }\n",
       "</style>\n",
       "<table border=\"1\" class=\"dataframe\">\n",
       "  <thead>\n",
       "    <tr style=\"text-align: right;\">\n",
       "      <th></th>\n",
       "      <th>name</th>\n",
       "      <th>bus</th>\n",
       "      <th>p_mw</th>\n",
       "      <th>q_mvar</th>\n",
       "      <th>sn_mva</th>\n",
       "      <th>scaling</th>\n",
       "      <th>in_service</th>\n",
       "      <th>type</th>\n",
       "      <th>current_source</th>\n",
       "      <th>controllable</th>\n",
       "      <th>max_p_mw</th>\n",
       "      <th>min_p_mw</th>\n",
       "      <th>max_q_mvar</th>\n",
       "      <th>min_q_mvar</th>\n",
       "    </tr>\n",
       "  </thead>\n",
       "  <tbody>\n",
       "    <tr>\n",
       "      <th>0</th>\n",
       "      <td>PV 3</td>\n",
       "      <td>3</td>\n",
       "      <td>0.02</td>\n",
       "      <td>0.0</td>\n",
       "      <td>0.02</td>\n",
       "      <td>1.0</td>\n",
       "      <td>True</td>\n",
       "      <td>PV</td>\n",
       "      <td>True</td>\n",
       "      <td>True</td>\n",
       "      <td>0.02</td>\n",
       "      <td>0.02</td>\n",
       "      <td>0.00656</td>\n",
       "      <td>-0.00656</td>\n",
       "    </tr>\n",
       "    <tr>\n",
       "      <th>1</th>\n",
       "      <td>PV 4</td>\n",
       "      <td>4</td>\n",
       "      <td>0.02</td>\n",
       "      <td>0.0</td>\n",
       "      <td>0.02</td>\n",
       "      <td>1.0</td>\n",
       "      <td>True</td>\n",
       "      <td>PV</td>\n",
       "      <td>True</td>\n",
       "      <td>True</td>\n",
       "      <td>0.02</td>\n",
       "      <td>0.02</td>\n",
       "      <td>0.00656</td>\n",
       "      <td>-0.00656</td>\n",
       "    </tr>\n",
       "    <tr>\n",
       "      <th>2</th>\n",
       "      <td>PV 5</td>\n",
       "      <td>5</td>\n",
       "      <td>0.03</td>\n",
       "      <td>0.0</td>\n",
       "      <td>0.03</td>\n",
       "      <td>1.0</td>\n",
       "      <td>True</td>\n",
       "      <td>PV</td>\n",
       "      <td>True</td>\n",
       "      <td>True</td>\n",
       "      <td>0.03</td>\n",
       "      <td>0.03</td>\n",
       "      <td>0.00984</td>\n",
       "      <td>-0.00984</td>\n",
       "    </tr>\n",
       "    <tr>\n",
       "      <th>3</th>\n",
       "      <td>PV 6</td>\n",
       "      <td>6</td>\n",
       "      <td>0.03</td>\n",
       "      <td>0.0</td>\n",
       "      <td>0.03</td>\n",
       "      <td>1.0</td>\n",
       "      <td>True</td>\n",
       "      <td>PV</td>\n",
       "      <td>True</td>\n",
       "      <td>True</td>\n",
       "      <td>0.03</td>\n",
       "      <td>0.03</td>\n",
       "      <td>0.00984</td>\n",
       "      <td>-0.00984</td>\n",
       "    </tr>\n",
       "    <tr>\n",
       "      <th>4</th>\n",
       "      <td>PV 8</td>\n",
       "      <td>8</td>\n",
       "      <td>0.03</td>\n",
       "      <td>0.0</td>\n",
       "      <td>0.03</td>\n",
       "      <td>1.0</td>\n",
       "      <td>True</td>\n",
       "      <td>PV</td>\n",
       "      <td>True</td>\n",
       "      <td>True</td>\n",
       "      <td>0.03</td>\n",
       "      <td>0.03</td>\n",
       "      <td>0.00984</td>\n",
       "      <td>-0.00984</td>\n",
       "    </tr>\n",
       "    <tr>\n",
       "      <th>5</th>\n",
       "      <td>PV 9</td>\n",
       "      <td>9</td>\n",
       "      <td>0.03</td>\n",
       "      <td>0.0</td>\n",
       "      <td>0.03</td>\n",
       "      <td>1.0</td>\n",
       "      <td>True</td>\n",
       "      <td>PV</td>\n",
       "      <td>True</td>\n",
       "      <td>True</td>\n",
       "      <td>0.03</td>\n",
       "      <td>0.03</td>\n",
       "      <td>0.00984</td>\n",
       "      <td>-0.00984</td>\n",
       "    </tr>\n",
       "    <tr>\n",
       "      <th>6</th>\n",
       "      <td>PV 10</td>\n",
       "      <td>10</td>\n",
       "      <td>0.04</td>\n",
       "      <td>0.0</td>\n",
       "      <td>0.04</td>\n",
       "      <td>1.0</td>\n",
       "      <td>True</td>\n",
       "      <td>PV</td>\n",
       "      <td>True</td>\n",
       "      <td>True</td>\n",
       "      <td>0.04</td>\n",
       "      <td>0.04</td>\n",
       "      <td>0.01312</td>\n",
       "      <td>-0.01312</td>\n",
       "    </tr>\n",
       "    <tr>\n",
       "      <th>7</th>\n",
       "      <td>PV 11</td>\n",
       "      <td>11</td>\n",
       "      <td>0.01</td>\n",
       "      <td>0.0</td>\n",
       "      <td>0.01</td>\n",
       "      <td>1.0</td>\n",
       "      <td>True</td>\n",
       "      <td>PV</td>\n",
       "      <td>True</td>\n",
       "      <td>True</td>\n",
       "      <td>0.01</td>\n",
       "      <td>0.01</td>\n",
       "      <td>0.00328</td>\n",
       "      <td>-0.00328</td>\n",
       "    </tr>\n",
       "    <tr>\n",
       "      <th>8</th>\n",
       "      <td>WKA 7</td>\n",
       "      <td>7</td>\n",
       "      <td>1.50</td>\n",
       "      <td>0.0</td>\n",
       "      <td>1.50</td>\n",
       "      <td>1.0</td>\n",
       "      <td>True</td>\n",
       "      <td>WP</td>\n",
       "      <td>True</td>\n",
       "      <td>True</td>\n",
       "      <td>1.50</td>\n",
       "      <td>1.50</td>\n",
       "      <td>0.49200</td>\n",
       "      <td>-0.49200</td>\n",
       "    </tr>\n",
       "  </tbody>\n",
       "</table>\n",
       "</div>"
      ],
      "text/plain": [
       "    name  bus  p_mw  q_mvar  sn_mva  scaling  in_service type  current_source  \\\n",
       "0   PV 3    3  0.02     0.0    0.02      1.0        True   PV            True   \n",
       "1   PV 4    4  0.02     0.0    0.02      1.0        True   PV            True   \n",
       "2   PV 5    5  0.03     0.0    0.03      1.0        True   PV            True   \n",
       "3   PV 6    6  0.03     0.0    0.03      1.0        True   PV            True   \n",
       "4   PV 8    8  0.03     0.0    0.03      1.0        True   PV            True   \n",
       "5   PV 9    9  0.03     0.0    0.03      1.0        True   PV            True   \n",
       "6  PV 10   10  0.04     0.0    0.04      1.0        True   PV            True   \n",
       "7  PV 11   11  0.01     0.0    0.01      1.0        True   PV            True   \n",
       "8  WKA 7    7  1.50     0.0    1.50      1.0        True   WP            True   \n",
       "\n",
       "   controllable  max_p_mw  min_p_mw  max_q_mvar  min_q_mvar  \n",
       "0          True      0.02      0.02     0.00656    -0.00656  \n",
       "1          True      0.02      0.02     0.00656    -0.00656  \n",
       "2          True      0.03      0.03     0.00984    -0.00984  \n",
       "3          True      0.03      0.03     0.00984    -0.00984  \n",
       "4          True      0.03      0.03     0.00984    -0.00984  \n",
       "5          True      0.03      0.03     0.00984    -0.00984  \n",
       "6          True      0.04      0.04     0.01312    -0.01312  \n",
       "7          True      0.01      0.01     0.00328    -0.00328  \n",
       "8          True      1.50      1.50     0.49200    -0.49200  "
      ]
     },
     "metadata": {},
     "output_type": "display_data"
    }
   ],
   "source": [
    "net_opt = deepcopy(net) # copy of the grid for further comparison \n",
    "net_opt.load['controllable'] = False\n",
    "net_opt.sgen['controllable'] = True\n",
    "\n",
    "# lower and upper bounds for buses\n",
    "net_opt.bus[\"max_vm_pu\"] = 1.1\n",
    "net_opt.bus[\"min_vm_pu\"] = 0.9\n",
    "\n",
    "# lower and upper bounds for external grid\n",
    "net_opt.ext_grid[\"max_q_mvar\"] = 10000.0\n",
    "net_opt.ext_grid[\"min_q_mvar\"] = -10000.0\n",
    "net_opt.ext_grid[\"max_p_mw\"] = 10000.0\n",
    "net_opt.ext_grid[\"min_p_mw\"] = -10000.0\n",
    "\n",
    "# lower and upper bounds for DERs\n",
    "net_opt.sgen[\"max_p_mw\"] = net_opt.sgen.p_mw.values\n",
    "net_opt.sgen[\"min_p_mw\"] = net_opt.sgen.p_mw.values\n",
    "net_opt.sgen[\"max_q_mvar\"] = net_opt.sgen.p_mw.values * 0.328\n",
    "net_opt.sgen[\"min_q_mvar\"] = -net_opt.sgen.p_mw.values * 0.328\n",
    "display(net_opt.sgen)\n",
    "\n",
    "# lower and upper bounds for lines\n",
    "net_opt.trafo[\"max_loading_percent\"] = 100.0\n",
    "net_opt.line[\"max_loading_percent\"] = 100.0\n",
    "\n",
    "######################################################\n",
    "####################### Attention ####################\n",
    "######################################################\n",
    "\n",
    "# We need to let PandaModels know which interface is of interest and what is user-defined setpoint. \n",
    "# So, we need to add extra column called **\"pm_param/setpoint_q\"** in net.trafo and set target value. \n",
    "\n",
    "net_opt.trafo[\"pm_param/setpoint_q\"] = None # add extra column\n",
    "net_opt.trafo[\"pm_param/setpoint_q\"][0] = -5 #  reactive power setpoint for trafo 0 is -5 MVAR\n",
    "\n",
    "# Also, we need to tell PandaModels which side is observed.\n",
    "net_opt.trafo[\"pm_param/side\"] = None\n",
    "net_opt.trafo[\"pm_param/side\"][0] = \"lv\" # the observed side is the low-voltage side\n"
   ]
  },
  {
   "cell_type": "markdown",
   "metadata": {},
   "source": [
    "After parametrization, we can start the optimization using ***pp.runpm_qflex()***."
   ]
  },
  {
   "cell_type": "code",
   "execution_count": 22,
   "metadata": {
    "pycharm": {
     "name": "#%%\n"
    },
    "scrolled": true
   },
   "outputs": [
    {
     "name": "stderr",
     "output_type": "stream",
     "text": [
      "hp.pandapower.opf.make_objective - WARNING: no costs are given - overall generated power is minimized\n",
      "hp.pandapower.opf.run_powermodels - INFO: Optimization ('run_pandamodels_qflex') is finished in 0.03 seconds:\n"
     ]
    }
   ],
   "source": [
    "try:\n",
    "    pp.runpm_qflex(net_opt)\n",
    "except:\n",
    "    print(\"[WinError 3] The system cannot find the path specified to the python39.dll\")"
   ]
  },
  {
   "cell_type": "markdown",
   "metadata": {},
   "source": [
    "Let's check the optimization results."
   ]
  },
  {
   "cell_type": "code",
   "execution_count": 23,
   "metadata": {
    "pycharm": {
     "name": "#%%\n"
    }
   },
   "outputs": [
    {
     "data": {
      "text/plain": [
       "-5.356245826038442"
      ]
     },
     "metadata": {},
     "output_type": "display_data"
    },
    {
     "data": {
      "text/html": [
       "<div>\n",
       "<style scoped>\n",
       "    .dataframe tbody tr th:only-of-type {\n",
       "        vertical-align: middle;\n",
       "    }\n",
       "\n",
       "    .dataframe tbody tr th {\n",
       "        vertical-align: top;\n",
       "    }\n",
       "\n",
       "    .dataframe thead th {\n",
       "        text-align: right;\n",
       "    }\n",
       "</style>\n",
       "<table border=\"1\" class=\"dataframe\">\n",
       "  <thead>\n",
       "    <tr style=\"text-align: right;\">\n",
       "      <th></th>\n",
       "      <th>p_mw</th>\n",
       "      <th>q_mvar</th>\n",
       "    </tr>\n",
       "  </thead>\n",
       "  <tbody>\n",
       "    <tr>\n",
       "      <th>0</th>\n",
       "      <td>0.02</td>\n",
       "      <td>0.00656</td>\n",
       "    </tr>\n",
       "    <tr>\n",
       "      <th>1</th>\n",
       "      <td>0.02</td>\n",
       "      <td>0.00656</td>\n",
       "    </tr>\n",
       "    <tr>\n",
       "      <th>2</th>\n",
       "      <td>0.03</td>\n",
       "      <td>0.00984</td>\n",
       "    </tr>\n",
       "    <tr>\n",
       "      <th>3</th>\n",
       "      <td>0.03</td>\n",
       "      <td>0.00984</td>\n",
       "    </tr>\n",
       "    <tr>\n",
       "      <th>4</th>\n",
       "      <td>0.03</td>\n",
       "      <td>0.00984</td>\n",
       "    </tr>\n",
       "    <tr>\n",
       "      <th>5</th>\n",
       "      <td>0.03</td>\n",
       "      <td>0.00984</td>\n",
       "    </tr>\n",
       "    <tr>\n",
       "      <th>6</th>\n",
       "      <td>0.04</td>\n",
       "      <td>0.01312</td>\n",
       "    </tr>\n",
       "    <tr>\n",
       "      <th>7</th>\n",
       "      <td>0.01</td>\n",
       "      <td>0.00328</td>\n",
       "    </tr>\n",
       "    <tr>\n",
       "      <th>8</th>\n",
       "      <td>1.50</td>\n",
       "      <td>0.49200</td>\n",
       "    </tr>\n",
       "  </tbody>\n",
       "</table>\n",
       "</div>"
      ],
      "text/plain": [
       "   p_mw   q_mvar\n",
       "0  0.02  0.00656\n",
       "1  0.02  0.00656\n",
       "2  0.03  0.00984\n",
       "3  0.03  0.00984\n",
       "4  0.03  0.00984\n",
       "5  0.03  0.00984\n",
       "6  0.04  0.01312\n",
       "7  0.01  0.00328\n",
       "8  1.50  0.49200"
      ]
     },
     "metadata": {},
     "output_type": "display_data"
    }
   ],
   "source": [
    "display(net_opt.res_trafo.q_lv_mvar[0])  # show Q-injection at the interface after optimization\n",
    "display(net_opt.res_sgen) # show optimized reactiv power provision of DER"
   ]
  },
  {
   "cell_type": "markdown",
   "metadata": {},
   "source": [
    "From the results above, we can see that the Q-injection at the interface is closer to the setpoint after the optimization but not achieved. The reason is that the Q-maximum is limited. We can modify the Q-maximum and try again."
   ]
  },
  {
   "cell_type": "code",
   "execution_count": 24,
   "metadata": {
    "pycharm": {
     "name": "#%%\n"
    }
   },
   "outputs": [
    {
     "name": "stderr",
     "output_type": "stream",
     "text": [
      "hp.pandapower.opf.make_objective - WARNING: no costs are given - overall generated power is minimized\n",
      "hp.pandapower.opf.run_powermodels - INFO: Optimization ('run_pandamodels_qflex') is finished in 0.02 seconds:\n"
     ]
    },
    {
     "data": {
      "text/plain": [
       "-5.0000000238509115"
      ]
     },
     "metadata": {},
     "output_type": "display_data"
    },
    {
     "data": {
      "text/html": [
       "<div>\n",
       "<style scoped>\n",
       "    .dataframe tbody tr th:only-of-type {\n",
       "        vertical-align: middle;\n",
       "    }\n",
       "\n",
       "    .dataframe tbody tr th {\n",
       "        vertical-align: top;\n",
       "    }\n",
       "\n",
       "    .dataframe thead th {\n",
       "        text-align: right;\n",
       "    }\n",
       "</style>\n",
       "<table border=\"1\" class=\"dataframe\">\n",
       "  <thead>\n",
       "    <tr style=\"text-align: right;\">\n",
       "      <th></th>\n",
       "      <th>p_mw</th>\n",
       "      <th>q_mvar</th>\n",
       "    </tr>\n",
       "  </thead>\n",
       "  <tbody>\n",
       "    <tr>\n",
       "      <th>0</th>\n",
       "      <td>0.02</td>\n",
       "      <td>0.001931</td>\n",
       "    </tr>\n",
       "    <tr>\n",
       "      <th>1</th>\n",
       "      <td>0.02</td>\n",
       "      <td>0.001945</td>\n",
       "    </tr>\n",
       "    <tr>\n",
       "      <th>2</th>\n",
       "      <td>0.03</td>\n",
       "      <td>0.004184</td>\n",
       "    </tr>\n",
       "    <tr>\n",
       "      <th>3</th>\n",
       "      <td>0.03</td>\n",
       "      <td>0.004198</td>\n",
       "    </tr>\n",
       "    <tr>\n",
       "      <th>4</th>\n",
       "      <td>0.03</td>\n",
       "      <td>0.004140</td>\n",
       "    </tr>\n",
       "    <tr>\n",
       "      <th>5</th>\n",
       "      <td>0.03</td>\n",
       "      <td>0.004168</td>\n",
       "    </tr>\n",
       "    <tr>\n",
       "      <th>6</th>\n",
       "      <td>0.04</td>\n",
       "      <td>0.006959</td>\n",
       "    </tr>\n",
       "    <tr>\n",
       "      <th>7</th>\n",
       "      <td>0.01</td>\n",
       "      <td>0.000483</td>\n",
       "    </tr>\n",
       "    <tr>\n",
       "      <th>8</th>\n",
       "      <td>1.50</td>\n",
       "      <td>0.881054</td>\n",
       "    </tr>\n",
       "  </tbody>\n",
       "</table>\n",
       "</div>"
      ],
      "text/plain": [
       "   p_mw    q_mvar\n",
       "0  0.02  0.001931\n",
       "1  0.02  0.001945\n",
       "2  0.03  0.004184\n",
       "3  0.03  0.004198\n",
       "4  0.03  0.004140\n",
       "5  0.03  0.004168\n",
       "6  0.04  0.006959\n",
       "7  0.01  0.000483\n",
       "8  1.50  0.881054"
      ]
     },
     "metadata": {},
     "output_type": "display_data"
    }
   ],
   "source": [
    "net_opt.sgen[\"max_q_mvar\"] = net_opt.sgen.p_mw.values * 0.628\n",
    "net_opt.sgen[\"min_q_mvar\"] = -net_opt.sgen.p_mw.values * 0.628\n",
    "try:\n",
    "    pp.runpm_qflex(net_opt)\n",
    "except:\n",
    "    print(\"[WinError 3] The system cannot find the path specified to the python39.dll\")\n",
    "display(net_opt.res_trafo.q_lv_mvar[0])  # show Q-injection at the interface after optimization\n",
    "display(net_opt.res_sgen)"
   ]
  },
  {
   "cell_type": "markdown",
   "metadata": {},
   "source": [
    "Now, the Q-injection at the interface is optimized to -5 MVAr. \n",
    "\n",
    "Similar to the **maintaining voltage setpoints**, if you are interested in time series optimizations, you can do it through a loop or use ***pp.runpm_multi_qflex()***."
   ]
  },
  {
   "cell_type": "markdown",
   "metadata": {},
   "source": [
    "## 3) Active Power Loss Reduction\n",
    "\n",
    "coming\n"
   ]
  }
 ],
 "metadata": {
  "anaconda-cloud": {},
  "execution": {
   "allow_errors": true,
   "timeout": 300
  },
  "kernelspec": {
   "display_name": "Python 3 (ipykernel)",
   "language": "python",
   "name": "python3"
  },
  "language_info": {
   "codemirror_mode": {
    "name": "ipython",
    "version": 3
   },
   "file_extension": ".py",
   "mimetype": "text/x-python",
   "name": "python",
   "nbconvert_exporter": "python",
   "pygments_lexer": "ipython3",
   "version": "3.10.6"
  }
 },
 "nbformat": 4,
 "nbformat_minor": 2
}
