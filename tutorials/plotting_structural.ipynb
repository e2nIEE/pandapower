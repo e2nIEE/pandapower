{
 "cells": [
  {
   "cell_type": "markdown",
   "metadata": {},
   "source": [
    "# Plotting Pandapower Networks Without Geographical Information"
   ]
  },
  {
   "cell_type": "markdown",
   "metadata": {},
   "source": [
    "If a network does not have geographic coordinates, you can create generic coordinates for plotting with the create_generic_coordinates function.\n",
    "\n",
    "###### You need to install the python-igraph package for this functionality: http://igraph.org/python/"
   ]
  },
  {
   "cell_type": "code",
   "execution_count": null,
   "metadata": {},
   "outputs": [],
   "source": [
    "import pandapower as pp\n",
    "import pandapower.networks as nw\n",
    "import pandapower.plotting as plot\n",
    "%matplotlib inline\n",
    "try:\n",
    "    import seaborn\n",
    "    colors = seaborn.color_palette()\n",
    "except:\n",
    "    colors = [\"b\", \"g\", \"r\", \"c\", \"y\"]"
   ]
  },
  {
   "cell_type": "markdown",
   "metadata": {},
   "source": [
    "We delete the geocoordinates from the network and create generic ones:"
   ]
  },
  {
   "cell_type": "code",
   "execution_count": null,
   "metadata": {},
   "outputs": [],
   "source": [
    "net = nw.mv_oberrhein()\n",
    "net.bus_geodata.drop(net.bus_geodata.index, inplace=True)\n",
    "net.line_geodata.drop(net.line_geodata.index, inplace=True)\n",
    "plot.create_generic_coordinates(net, respect_switches=False) #create artificial coordinates with the igraph package"
   ]
  },
  {
   "cell_type": "markdown",
   "metadata": {},
   "source": [
    "As you can see the table bus_geodata has been created and we can now plot as before. Since the function only creates bus geodata, we can only use the direct line plotting. Furthermore it creates a distance between high- and low voltage bus of a transformer, which is why we also need a transformer collection:"
   ]
  },
  {
   "cell_type": "code",
   "execution_count": null,
   "metadata": {},
   "outputs": [],
   "source": [
    "bc = plot.create_bus_collection(net, net.bus.index, size=.2, color=colors[0], zorder=10)\n",
    "tlc, tpc = plot.create_trafo_collection(net, net.trafo.index, color=\"g\")\n",
    "lcd = plot.create_line_collection(net, net.line.index, color=\"grey\", linewidths=0.5, use_bus_geodata=True)\n",
    "sc = plot.create_bus_collection(net, net.ext_grid.bus.values, patch_type=\"rect\", size=.5, color=\"y\", zorder=11)\n",
    "plot.draw_collections([lcd, bc, tlc, tpc, sc], figsize=(8,6))"
   ]
  },
  {
   "cell_type": "markdown",
   "metadata": {},
   "source": [
    "The create_generic_coordinates function treats transformers as edges, which means the HV and LV side of the transformer are shown by seperate buses with a trafo symbol as connection (consisting of a line collection for the connections and a patch collection for the circles).\n",
    "\n",
    "If you do not want to plot the transformers you can use the fuse_geodata function. It fuses the geocoordinates of all buses that are geographically in one place (HV/LV bus of a transformer or buses and buses that are connected by a bus-bus switch):"
   ]
  },
  {
   "cell_type": "code",
   "execution_count": null,
   "metadata": {},
   "outputs": [],
   "source": [
    "plot.fuse_geodata(net)\n",
    "bc = plot.create_bus_collection(net, net.bus.index, size=.2, color=colors[0], zorder=10)\n",
    "tlc, tpc = plot.create_trafo_collection(net, net.trafo.index, color=\"g\")\n",
    "lcd = plot.create_line_collection(net, net.line.index, color=\"grey\", linewidths=0.5, use_bus_geodata=True)\n",
    "sc = plot.create_bus_collection(net, net.ext_grid.bus.values, patch_type=\"rect\", size=.5, color=\"y\", zorder=11)\n",
    "plot.draw_collections([lcd, bc, tlc, tpc, sc], figsize=(8,6))"
   ]
  },
  {
   "cell_type": "markdown",
   "metadata": {},
   "source": [
    "## Plot Structural Plans"
   ]
  },
  {
   "cell_type": "markdown",
   "metadata": {
    "collapsed": true
   },
   "source": [
    "To plot a structural plan of the network instead of a geographical one, call the generic coordinates function with respect_switches=True."
   ]
  },
  {
   "cell_type": "code",
   "execution_count": null,
   "metadata": {},
   "outputs": [],
   "source": [
    "net = nw.mv_oberrhein()\n",
    "net.bus_geodata.drop(net.bus_geodata.index, inplace=True)\n",
    "net.line_geodata.drop(net.line_geodata.index, inplace=True)\n",
    "plot.create_generic_coordinates(net, respect_switches=True) #create artificial coordinates with the igraph package"
   ]
  },
  {
   "cell_type": "markdown",
   "metadata": {},
   "source": [
    "In that way, the algorithm seperates buses which are seperated by an open switch:"
   ]
  },
  {
   "cell_type": "code",
   "execution_count": null,
   "metadata": {},
   "outputs": [],
   "source": [
    "plot.fuse_geodata(net)\n",
    "bc = plot.create_bus_collection(net, net.bus.index, size=.2, color=colors[0], zorder=10)\n",
    "tlc, tpc = plot.create_trafo_collection(net, net.trafo.index, color=\"g\")\n",
    "lcd = plot.create_line_collection(net, net.line.index, color=\"grey\", linewidths=0.5, use_bus_geodata=True)\n",
    "sc = plot.create_bus_collection(net, net.ext_grid.bus.values, patch_type=\"rect\", size=.5, color=\"y\", zorder=11)\n",
    "plot.draw_collections([lcd, bc, tlc, tpc, sc], figsize=(8,6))"
   ]
  },
  {
   "cell_type": "markdown",
   "metadata": {},
   "source": [
    "For a clearer arrangement, it might be useful to only plot the lines without an open switch:"
   ]
  },
  {
   "cell_type": "code",
   "execution_count": null,
   "metadata": {},
   "outputs": [],
   "source": [
    "closed_lines = set(net.line.index) - set(net.switch[(net.switch.et==\"l\") & (net.switch.closed==False)].element.values)\n",
    "lcd = plot.create_line_collection(net, closed_lines, color=\"grey\", linewidths=0.5, use_bus_geodata=True)\n",
    "plot.draw_collections([lcd, bc, tlc, tpc, sc], figsize=(8,6))"
   ]
  }
 ],
 "metadata": {
  "anaconda-cloud": {},
  "kernelspec": {
   "display_name": "Python 3",
   "language": "python",
   "name": "python3"
  },
  "language_info": {
   "codemirror_mode": {
    "name": "ipython",
    "version": 3
   },
   "file_extension": ".py",
   "mimetype": "text/x-python",
   "name": "python",
   "nbconvert_exporter": "python",
   "pygments_lexer": "ipython3",
   "version": "3.7.2"
  }
 },
 "nbformat": 4,
 "nbformat_minor": 1
}
