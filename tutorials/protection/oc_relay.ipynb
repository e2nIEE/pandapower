{
 "cells": [
  {
   "cell_type": "markdown",
   "metadata": {},
   "source": [
    "# Over Current Relay (OC relay)\n",
    "\n",
    "Pandapower supports running protection scenarios using Definite Time Over Current Relay (DTOC), Inverse Definite Minimum Time (IDMT) and Inverse Definite Time Minimum over current Relay, which is a combination of DTOC and IDMT (IDTOC) in radial and meshed networks. It supports the automated time grading plan based on grid searches and manual time grading."
   ]
  },
  {
   "cell_type": "markdown",
   "metadata": {},
   "source": [
    "### Example Network\n",
    "Here is a little example of creating the over-current protection scenario. First, we create a network with 7 buses and 8 switches. This modelling scheme adds the relay features to the existing switches in the pandapower network. The switch is type defined as 'CB_DTOC' for running protection scenarios using DTOC relay, 'CB_IDMT' for using IDMT relay and 'CB_IDTOC' for using IDTOC relay.\n"
   ]
  },
  {
   "cell_type": "code",
   "execution_count": 1,
   "metadata": {},
   "outputs": [],
   "source": [
    "def oc_relay_net():\n",
    "    import pandapower as pp\n",
    "    \n",
    "    # create an empty network\n",
    "    net = pp.create_empty_network()  \n",
    "    \n",
    "    #create buses\n",
    "    pp.create_buses(net, nr_buses=7, vn_kv=20, index=[0,1,2,3,4,5,6], name=None, type=\"n\", \n",
    "                    geodata=[(0,0), (0, -1), (-2, -2), (-2, -4), (2, -2), (2, -3), (2, -4)])\n",
    "\n",
    "    # create external grids\n",
    "    pp.create_ext_grid(net, 0, vm_pu=1.0, va_degree=0, s_sc_max_mva=100, s_sc_min_mva=50, rx_max=0.1, rx_min=0.1)\n",
    "    \n",
    "    pp.create_lines(net, from_buses=[0,1,2,1,4,5], to_buses=[1,2,3,4,5,6], length_km=[2,5,4,4,0.5,0.5],std_type=\"NAYY 4x50 SE\",\n",
    "                 name=None, index=[0,1,2,3,4,5], df=1., parallel=1)\n",
    "\n",
    "    net.line[\"endtemp_degree\"] = 250\n",
    "    \n",
    "    # Define switches\n",
    "    pp.create_switches(net, buses =  [0,1,1,2,4,5], elements =\n",
    "                       [0,1,3,2,4,5], et = 'l', type =\"CB_DTOC\")\n",
    "    #define load\n",
    "    pp.create_loads(net, buses=[3,6], p_mw=[5,2], q_mvar=[1,1], const_z_percent=0, const_i_percent=0, sn_mva=None,\n",
    "                     name=None, scaling=1., index=[0,1])\n",
    "\n",
    "    return net"
   ]
  },
  {
   "cell_type": "markdown",
   "metadata": {},
   "source": [
    "##  DTOC Relay Protection\n",
    "\n",
    "Required inputs for oc_parameters:\n",
    "* 1) net: (pandapowerNet) - Pandapower network with switch type as \"CB_DTOC\" in the net.switch.type\n",
    "* 2) relay_type: (string) - 'DTOC'\n",
    "* 3) time_settings: (list, DataFrame): Relay tripping time is given as a list or a DataFrame \n",
    "    if relay tripping time is given as a list, the time grade is calculated based on topological grid search.\n",
    "        - time_settings =[t>>, t> t_diff],\n",
    "        - t>>(t_gg): instantaneous tripping time in seconds,\n",
    "        - t>(t_g):  backup tripping time in seconds, \n",
    "        - t_diff: time grading delay difference in seconds\n",
    "     If given as a Dataframe with columns as 'switch_id', 't_gg', 't_g', user-defined relay trip time will be taken (t_gg and t_g should be provided for all the active switches)\n",
    "* sc_fraction: (float, 0.95) - Maximum possible extent to which the short circuit can be created on the line\n",
    "\n",
    "* 4) overload_factor : (float, 1.25)- Allowable overloading on the line used to calculate the pick-up current\n",
    "\n",
    "* 5) ct_current_factor :(float, 1.2) - Current multiplication factor to calculate the pick-up current\n",
    "\n",
    "* 6) safety_factor : (float, 1) - Safety limit for the instantaneous pick-up current\n",
    "\n",
    "Now, we load the network, create oc parameter settings using the oc_parameters function and calculate the short circuit at the selected line and location using the run_fault_scenario_oc function:"
   ]
  },
  {
   "cell_type": "code",
   "execution_count": 2,
   "metadata": {},
   "outputs": [],
   "source": [
    "net = oc_relay_net()\n",
    "from pandapower.protection import oc_relay_model as oc_protection"
   ]
  },
  {
   "cell_type": "markdown",
   "metadata": {},
   "source": [
    "The main function to create relay settings for DTOC relay using oc_parameters"
   ]
  },
  {
   "cell_type": "code",
   "execution_count": 3,
   "metadata": {},
   "outputs": [
    {
     "name": "stderr",
     "output_type": "stream",
     "text": [
      "hp.pandapower.shortcircuit.calc_sc - WARNING: Branch results are in beta mode and might not always be reliable, especially for transformers\n",
      "hp.pandapower.shortcircuit.calc_sc - WARNING: Branch results are in beta mode and might not always be reliable, especially for transformers\n",
      "hp.pandapower.shortcircuit.calc_sc - WARNING: Branch results are in beta mode and might not always be reliable, especially for transformers\n",
      "hp.pandapower.shortcircuit.calc_sc - WARNING: Branch results are in beta mode and might not always be reliable, especially for transformers\n",
      "hp.pandapower.shortcircuit.calc_sc - WARNING: Branch results are in beta mode and might not always be reliable, especially for transformers\n",
      "hp.pandapower.shortcircuit.calc_sc - WARNING: Branch results are in beta mode and might not always be reliable, especially for transformers\n"
     ]
    }
   ],
   "source": [
    "relay_settings_DTOC=oc_protection.oc_parameters(net,time_settings= [0.07, 0.5, 0.3], relay_type='DTOC')"
   ]
  },
  {
   "cell_type": "code",
   "execution_count": 4,
   "metadata": {},
   "outputs": [
    {
     "data": {
      "text/html": [
       "<div>\n",
       "<style scoped>\n",
       "    .dataframe tbody tr th:only-of-type {\n",
       "        vertical-align: middle;\n",
       "    }\n",
       "\n",
       "    .dataframe tbody tr th {\n",
       "        vertical-align: top;\n",
       "    }\n",
       "\n",
       "    .dataframe thead th {\n",
       "        text-align: right;\n",
       "    }\n",
       "</style>\n",
       "<table border=\"1\" class=\"dataframe\">\n",
       "  <thead>\n",
       "    <tr style=\"text-align: right;\">\n",
       "      <th></th>\n",
       "      <th>switch_id</th>\n",
       "      <th>line_id</th>\n",
       "      <th>bus_id</th>\n",
       "      <th>relay_type</th>\n",
       "      <th>curve_type</th>\n",
       "      <th>I_g[kA]</th>\n",
       "      <th>I_gg[kA]</th>\n",
       "      <th>t_g[s]</th>\n",
       "      <th>t_gg[s]</th>\n",
       "    </tr>\n",
       "  </thead>\n",
       "  <tbody>\n",
       "    <tr>\n",
       "      <th>0</th>\n",
       "      <td>0</td>\n",
       "      <td>0</td>\n",
       "      <td>0</td>\n",
       "      <td>DTOC</td>\n",
       "      <td>Definite time curve</td>\n",
       "      <td>0.213</td>\n",
       "      <td>2.630156</td>\n",
       "      <td>1.4</td>\n",
       "      <td>0.07</td>\n",
       "    </tr>\n",
       "    <tr>\n",
       "      <th>1</th>\n",
       "      <td>1</td>\n",
       "      <td>1</td>\n",
       "      <td>1</td>\n",
       "      <td>DTOC</td>\n",
       "      <td>Definite time curve</td>\n",
       "      <td>0.213</td>\n",
       "      <td>1.849718</td>\n",
       "      <td>1.1</td>\n",
       "      <td>0.07</td>\n",
       "    </tr>\n",
       "    <tr>\n",
       "      <th>2</th>\n",
       "      <td>2</td>\n",
       "      <td>3</td>\n",
       "      <td>1</td>\n",
       "      <td>DTOC</td>\n",
       "      <td>Definite time curve</td>\n",
       "      <td>0.213</td>\n",
       "      <td>1.985302</td>\n",
       "      <td>1.1</td>\n",
       "      <td>0.07</td>\n",
       "    </tr>\n",
       "    <tr>\n",
       "      <th>3</th>\n",
       "      <td>3</td>\n",
       "      <td>2</td>\n",
       "      <td>2</td>\n",
       "      <td>DTOC</td>\n",
       "      <td>Definite time curve</td>\n",
       "      <td>0.213</td>\n",
       "      <td>1.401313</td>\n",
       "      <td>0.8</td>\n",
       "      <td>0.07</td>\n",
       "    </tr>\n",
       "    <tr>\n",
       "      <th>4</th>\n",
       "      <td>4</td>\n",
       "      <td>4</td>\n",
       "      <td>4</td>\n",
       "      <td>DTOC</td>\n",
       "      <td>Definite time curve</td>\n",
       "      <td>0.213</td>\n",
       "      <td>1.887702</td>\n",
       "      <td>0.8</td>\n",
       "      <td>0.07</td>\n",
       "    </tr>\n",
       "    <tr>\n",
       "      <th>5</th>\n",
       "      <td>5</td>\n",
       "      <td>5</td>\n",
       "      <td>5</td>\n",
       "      <td>DTOC</td>\n",
       "      <td>Definite time curve</td>\n",
       "      <td>0.213</td>\n",
       "      <td>1.819410</td>\n",
       "      <td>0.5</td>\n",
       "      <td>0.07</td>\n",
       "    </tr>\n",
       "  </tbody>\n",
       "</table>\n",
       "</div>"
      ],
      "text/plain": [
       "  switch_id line_id bus_id relay_type           curve_type  I_g[kA]  I_gg[kA]  \\\n",
       "0         0       0      0       DTOC  Definite time curve    0.213  2.630156   \n",
       "1         1       1      1       DTOC  Definite time curve    0.213  1.849718   \n",
       "2         2       3      1       DTOC  Definite time curve    0.213  1.985302   \n",
       "3         3       2      2       DTOC  Definite time curve    0.213  1.401313   \n",
       "4         4       4      4       DTOC  Definite time curve    0.213  1.887702   \n",
       "5         5       5      5       DTOC  Definite time curve    0.213  1.819410   \n",
       "\n",
       "   t_g[s]  t_gg[s]  \n",
       "0     1.4     0.07  \n",
       "1     1.1     0.07  \n",
       "2     1.1     0.07  \n",
       "3     0.8     0.07  \n",
       "4     0.8     0.07  \n",
       "5     0.5     0.07  "
      ]
     },
     "execution_count": 4,
     "metadata": {},
     "output_type": "execute_result"
    }
   ],
   "source": [
    "# show relay_settings\n",
    "relay_settings_DTOC"
   ]
  },
  {
   "cell_type": "markdown",
   "metadata": {},
   "source": [
    "Required inputs for running run_fault_scenario_oc:\n",
    "* 1) net: (pandapowerNet) - Pandapower network with switch type as \"CB_non_directional\" in the net.switch.type\n",
    "* 2) sc_line_id (int, index): Index of the line to create the short circuit\n",
    "* 3) sc_location (float): Location of a short circuit on the line (between 0 and 1).\n",
    "* 4) relay_settings (Dataframe, float)- relay setting given as a dataframe returned from oc parameters (manual relay settings given as dataframe by respecting the column names)\n"
   ]
  },
  {
   "cell_type": "markdown",
   "metadata": {},
   "source": [
    "Create oc protection scheme using the function run_fault_scenario_oc (return dataframe with switch ID, type, trip, short circuit current (Ikss), trip time).\n",
    "\n",
    "Users can give manual relay settings to the run fault scenario as dataframe in the respective column without using the oc_parameters function"
   ]
  },
  {
   "cell_type": "code",
   "execution_count": 5,
   "metadata": {},
   "outputs": [
    {
     "name": "stderr",
     "output_type": "stream",
     "text": [
      "hp.pandapower.shortcircuit.calc_sc - WARNING: Branch results are in beta mode and might not always be reliable, especially for transformers\n"
     ]
    },
    {
     "name": "stdout",
     "output_type": "stream",
     "text": [
      "   Switch ID Switch type      Trip type   Trip  Fault Current [kA]  \\\n",
      "0          0        DTOC         backup   True            1.919548   \n",
      "1          1        DTOC        no trip  False            0.000000   \n",
      "2          2        DTOC         backup   True            1.919548   \n",
      "3          3        DTOC        no trip  False            0.000000   \n",
      "4          4        DTOC  instantaneous   True            1.919548   \n",
      "5          5        DTOC        no trip  False            0.000000   \n",
      "\n",
      "   Trip time [s]  \n",
      "0           1.40  \n",
      "1            inf  \n",
      "2           1.10  \n",
      "3            inf  \n",
      "4           0.07  \n",
      "5            inf  \n"
     ]
    }
   ],
   "source": [
    "\n",
    "trip_decisions_DTOC,net_sc=oc_protection.run_fault_scenario_oc(net,sc_line_id=4,sc_location =0.5,\n",
    "                                                               relay_settings=relay_settings_DTOC)"
   ]
  },
  {
   "cell_type": "markdown",
   "metadata": {},
   "source": [
    "# Show trip decisions\n",
    "The function run fault scenario returns a list of dictionaries with tripping decisions of each switch in the network.\n",
    "- switch index: Index number of the switch \n",
    "- switch type: Type of switch in the network (OC- over current switch)\n",
    "- Trip: Trip is true or false\n",
    "- Fault current:  Maximum short circuit current at the relay location (minimum short circuit can also be specified, please refer to short circuit in pandapower documentation.\n",
    "- Igg: Instantaneous tripping current in Ampere (A)\n",
    "- Ig: Backup tripping current in Ampere (A)\n",
    "- Trip Type: \n",
    "    -Instantaneous trip if fault current >=Igg\n",
    "    -Backup  fault current >=Ig and less than Igg\n",
    "    -No trip fault current less than Igg or  Ig\n",
    "    \n",
    "- Tripping time: Tripping time of the respective switch\n",
    "- tg: backup tripping time calculated based on the time grading plan\n",
    "- tgg: Instantaneous tripping time based on the input tgg\n",
    "\n",
    "Trip decisions of each switch can be shown by indexing the respective switch id."
   ]
  },
  {
   "cell_type": "code",
   "execution_count": 6,
   "metadata": {},
   "outputs": [
    {
     "data": {
      "text/plain": [
       "{'Switch ID': 1,\n",
       " 'Switch type': 'DTOC',\n",
       " 'Trip type': 'no trip',\n",
       " 'Trip': False,\n",
       " 'Fault Current [kA]': 0.0,\n",
       " 'Trip time [s]': inf,\n",
       " 'Ig': 0.21299999999999997,\n",
       " 'Igg': 1.8497183168006885,\n",
       " 'Is': nan,\n",
       " 'tg': 1.1,\n",
       " 'tgg': 0.07,\n",
       " 't_s': nan}"
      ]
     },
     "execution_count": 6,
     "metadata": {},
     "output_type": "execute_result"
    }
   ],
   "source": [
    "# show the trip decision for switch_id=1\n",
    "trip_decisions_DTOC[1]"
   ]
  },
  {
   "cell_type": "code",
   "execution_count": 7,
   "metadata": {},
   "outputs": [
    {
     "data": {
      "text/plain": [
       "This pandapower network includes the following parameter tables:\n",
       "   - bus (8 element)\n",
       "   - load (2 element)\n",
       "   - switch (6 element)\n",
       "   - ext_grid (1 elements)\n",
       "   - line (7 element)\n",
       "   - bus_geodata (8 element)\n",
       " and the following results tables:\n",
       "   - res_bus_sc (1 elements)\n",
       "   - res_line_sc (7 element)\n",
       "   - res_ext_grid_sc (1 elements)\n",
       "   - res_switch_sc (6 element)"
      ]
     },
     "execution_count": 7,
     "metadata": {},
     "output_type": "execute_result"
    }
   ],
   "source": [
    "# print short circuit grid net_sc\n",
    "net_sc"
   ]
  },
  {
   "cell_type": "markdown",
   "metadata": {},
   "source": [
    "## Show tripped grid\n",
    "Shows tripped switches, short circuit currents, sc location with respective annotations"
   ]
  },
  {
   "cell_type": "code",
   "execution_count": 8,
   "metadata": {},
   "outputs": [
    {
     "name": "stderr",
     "output_type": "stream",
     "text": [
      "hp.pandapower.plotting.collections - WARNING: use_bus_geodata is automatically set to True, since net.line_geodata is empty.\n",
      "hp.pandapower.plotting.plotting_toolbox - INFO: Interpreting color (0.00392156862745098, 0.45098039215686275, 0.6980392156862745) as rgb or rgba!\n"
     ]
    },
    {
     "data": {
      "image/png": "[encoded data removed]",
      "text/plain": [
       "<Figure size 720x576 with 1 Axes>"
      ]
     },
     "metadata": {},
     "output_type": "display_data"
    }
   ],
   "source": [
    "from pandapower.protection.utility_functions import plot_tripped_grid\n",
    "plot_tripped_grid(net_sc, trip_decisions_DTOC,sc_location=0.5,plot_annotations=True)"
   ]
  },
  {
   "cell_type": "markdown",
   "metadata": {},
   "source": [
    "# Create I-t Plot\n",
    "Plot showing the relation between current and time by using trip decisions and switch index using function create_I_t_plot from the utility function\n"
   ]
  },
  {
   "cell_type": "code",
   "execution_count": 9,
   "metadata": {},
   "outputs": [
    {
     "data": {
      "image/png": "[encoded data removed]",
      "text/plain": [
       "<Figure size 432x288 with 1 Axes>"
      ]
     },
     "metadata": {
      "needs_background": "light"
     },
     "output_type": "display_data"
    },
    {
     "name": "stderr",
     "output_type": "stream",
     "text": [
      "No artists with labels found to put in legend.  Note that artists whose label start with an underscore are ignored when legend() is called with no argument.\n"
     ]
    }
   ],
   "source": [
    "from pandapower.protection.utility_functions import create_I_t_plot\n",
    "import matplotlib.pyplot as plt\n",
    "create_I_t_plot(trip_decisions_DTOC,switch_id=[3])\n",
    "plt.close()"
   ]
  },
  {
   "cell_type": "markdown",
   "metadata": {},
   "source": [
    "# Additional features of DTOC"
   ]
  },
  {
   "cell_type": "markdown",
   "metadata": {},
   "source": [
    "### Manual tripping time for each switches\n",
    "Manual tripping time can be given as dataframe with columns as 'switch_id', 't_gg', 't_g'\n"
   ]
  },
  {
   "cell_type": "code",
   "execution_count": 10,
   "metadata": {},
   "outputs": [
    {
     "name": "stderr",
     "output_type": "stream",
     "text": [
      "hp.pandapower.shortcircuit.calc_sc - WARNING: Branch results are in beta mode and might not always be reliable, especially for transformers\n",
      "hp.pandapower.shortcircuit.calc_sc - WARNING: Branch results are in beta mode and might not always be reliable, especially for transformers\n",
      "hp.pandapower.shortcircuit.calc_sc - WARNING: Branch results are in beta mode and might not always be reliable, especially for transformers\n",
      "hp.pandapower.shortcircuit.calc_sc - WARNING: Branch results are in beta mode and might not always be reliable, especially for transformers\n",
      "hp.pandapower.shortcircuit.calc_sc - WARNING: Branch results are in beta mode and might not always be reliable, especially for transformers\n",
      "hp.pandapower.shortcircuit.calc_sc - WARNING: Branch results are in beta mode and might not always be reliable, especially for transformers\n",
      "hp.pandapower.shortcircuit.calc_sc - WARNING: Branch results are in beta mode and might not always be reliable, especially for transformers\n"
     ]
    },
    {
     "name": "stdout",
     "output_type": "stream",
     "text": [
      "   Switch ID Switch type      Trip type   Trip  Fault Current [kA]  \\\n",
      "0          0        DTOC         backup   True            1.919548   \n",
      "1          1        DTOC        no trip  False            0.000000   \n",
      "2          2        DTOC         backup   True            1.919548   \n",
      "3          3        DTOC        no trip  False            0.000000   \n",
      "4          4        DTOC  instantaneous   True            1.919548   \n",
      "5          5        DTOC        no trip  False            0.000000   \n",
      "\n",
      "   Trip time [s]  \n",
      "0           0.50  \n",
      "1            inf  \n",
      "2           1.10  \n",
      "3            inf  \n",
      "4           0.07  \n",
      "5            inf  \n"
     ]
    }
   ],
   "source": [
    "import pandas as pd\n",
    "tripping_time= pd.DataFrame({'switch_id': [0,1,2,3,4,5],\n",
    "                          't_gg': [0.07,0.07,0.07,0.07,0.07,0.07],\n",
    "                          't_g':[0.5,0.8,1.1,1.4,1.7,2.0]})\n",
    "relay_settings=oc_protection.oc_parameters(net,time_settings= tripping_time, relay_type='DTOC')\n",
    "trip_decisions,net_sc=oc_protection.run_fault_scenario_oc(net,sc_line_id=4,sc_location =0.5,relay_settings=relay_settings)"
   ]
  },
  {
   "cell_type": "markdown",
   "metadata": {},
   "source": [
    "### Varying OC parameters\n",
    "OC fault scenario is capable of changing the pick-up current for each switch by varying the default values in the following parameters from the default value:\n",
    "\n",
    "- sc_fraction (float, 0.95): Maximum possible extent to which the short circuit can be created on the line.\n",
    "- overload_factor (float, 1.25): Allowable over loading on the line used to calculate the pick-up current.\n",
    "- ct_current_factor (float, 1.2): Current transformer multiplication factor to define the pick-up current.\n",
    "- safety_factor (float, 1): Safety limit for the instantaneous pick-up currents."
   ]
  },
  {
   "cell_type": "code",
   "execution_count": 14,
   "metadata": {},
   "outputs": [
    {
     "name": "stderr",
     "output_type": "stream",
     "text": [
      "hp.pandapower.shortcircuit.calc_sc - WARNING: Branch results are in beta mode and might not always be reliable, especially for transformers\n",
      "hp.pandapower.shortcircuit.calc_sc - WARNING: Branch results are in beta mode and might not always be reliable, especially for transformers\n",
      "hp.pandapower.shortcircuit.calc_sc - WARNING: Branch results are in beta mode and might not always be reliable, especially for transformers\n",
      "hp.pandapower.shortcircuit.calc_sc - WARNING: Branch results are in beta mode and might not always be reliable, especially for transformers\n",
      "hp.pandapower.shortcircuit.calc_sc - WARNING: Branch results are in beta mode and might not always be reliable, especially for transformers\n",
      "hp.pandapower.shortcircuit.calc_sc - WARNING: Branch results are in beta mode and might not always be reliable, especially for transformers\n",
      "hp.pandapower.shortcircuit.calc_sc - WARNING: Branch results are in beta mode and might not always be reliable, especially for transformers\n"
     ]
    },
    {
     "name": "stdout",
     "output_type": "stream",
     "text": [
      "   Switch ID Switch type Trip type   Trip  Fault Current [kA]  Trip time [s]\n",
      "0          0        DTOC    backup   True            1.919548            0.5\n",
      "1          1        DTOC   no trip  False            0.000000            inf\n",
      "2          2        DTOC    backup   True            1.919548            1.1\n",
      "3          3        DTOC   no trip  False            0.000000            inf\n",
      "4          4        DTOC    backup   True            1.919548            1.7\n",
      "5          5        DTOC   no trip  False            0.000000            inf\n"
     ]
    }
   ],
   "source": [
    "#create relay settings\n",
    "relay_settings=oc_protection.oc_parameters(net,sc_fraction=0.9, overload_factor=1.5, ct_current_factor=2,safety_factor=1.5,\n",
    "                                           time_settings= tripping_time, relay_type='DTOC')\n",
    "#get trip decisions\n",
    "trip_decisions,net_sc=oc_protection.run_fault_scenario_oc(net,sc_line_id=4,sc_location =0.5,relay_settings=relay_settings)"
   ]
  },
  {
   "cell_type": "markdown",
   "metadata": {},
   "source": [
    "### Manual tripping current for each switches\n",
    "Instead of varying the OC parameters, users can define pickup current (instantaneous and backup) \n",
    "for each switch in the form of a dataframe."
   ]
  },
  {
   "cell_type": "code",
   "execution_count": 15,
   "metadata": {},
   "outputs": [
    {
     "name": "stderr",
     "output_type": "stream",
     "text": [
      "hp.pandapower.shortcircuit.calc_sc - WARNING: Branch results are in beta mode and might not always be reliable, especially for transformers\n",
      "hp.pandapower.shortcircuit.calc_sc - WARNING: Branch results are in beta mode and might not always be reliable, especially for transformers\n",
      "hp.pandapower.shortcircuit.calc_sc - WARNING: Branch results are in beta mode and might not always be reliable, especially for transformers\n",
      "hp.pandapower.shortcircuit.calc_sc - WARNING: Branch results are in beta mode and might not always be reliable, especially for transformers\n",
      "hp.pandapower.shortcircuit.calc_sc - WARNING: Branch results are in beta mode and might not always be reliable, especially for transformers\n",
      "hp.pandapower.shortcircuit.calc_sc - WARNING: Branch results are in beta mode and might not always be reliable, especially for transformers\n",
      "hp.pandapower.shortcircuit.calc_sc - WARNING: Branch results are in beta mode and might not always be reliable, especially for transformers\n"
     ]
    },
    {
     "name": "stdout",
     "output_type": "stream",
     "text": [
      "   Switch ID Switch type      Trip type   Trip  Fault Current [kA]  \\\n",
      "0          0        DTOC         backup   True            1.919548   \n",
      "1          1        DTOC        no trip  False            0.000000   \n",
      "2          2        DTOC         backup   True            1.919548   \n",
      "3          3        DTOC        no trip  False            0.000000   \n",
      "4          4        DTOC  instantaneous   True            1.919548   \n",
      "5          5        DTOC        no trip  False            0.000000   \n",
      "\n",
      "   Trip time [s]  \n",
      "0           1.40  \n",
      "1            inf  \n",
      "2           1.10  \n",
      "3            inf  \n",
      "4           0.07  \n",
      "5            inf  \n"
     ]
    }
   ],
   "source": [
    "pickup_current_manual= pd.DataFrame({'switch_id': [0,1,2,3,4,5],\n",
    "                              'I_gg': [2.2,2.3,2.1,2.5,1.2,0.9],\n",
    "                              'I_g':[0.8,0.7,0.7,0.8,0.8,0.8]})\n",
    "relay_settings=oc_protection.oc_parameters(net,time_settings= [0.07, 0.5, 0.3],pickup_current_manual=pickup_current_manual,\n",
    "                                           relay_type='DTOC')\n",
    "\n",
    "trip_decisions,net_sc=oc_protection.run_fault_scenario_oc(net,sc_line_id=4,sc_location =0.5,relay_settings=relay_settings)"
   ]
  },
  {
   "cell_type": "markdown",
   "metadata": {},
   "source": [
    "##  IDMT Relay Protection\n",
    "\n",
    "Required inputs:\n",
    "* 1) net: (pandapowerNet) - Pandapower network with switch type as \"CB_IDMT\" in the net.switch.type\n",
    "* 2) relay_type: (string) - 'IDMT'\n",
    "* 3) time_settings: (list, DataFrame) - Relay tripping time is given as a list or a DataFrame \n",
    "    if relay tripping time is given as a list, the time grade is calculated based on a topological grid search.\n",
    "        - time_settings =[tms,t_grade]\n",
    "        - tms: time multiplier setting in seconds,\n",
    "        - t_grade: time grading delay difference in seconds\n",
    "     If given as a Dataframe with columns as 'switch_id', 'tms', 't_grade', user-defined relay trip time will be taken (tms and t_grade should be provided for all the active switches)\n",
    "* 4) inverse_overload_factor:(float, 1.25) - Allowable inverse overloading to define the pickup current in the IDMT relay\n",
    "* 5) curve_type ('string'): Relay trip time will vary depending on the curve slope for inverse Time Relays. The curves can be used to coordinate with other protective devices for selectivity (according to IEC60255) \n",
    "\n",
    "    Curve type can be :\n",
    "    - 'standard_inverse'\n",
    "    - 'very_inverse',\n",
    "    - 'extremely_inverse',\n",
    "    - 'long_inverse',\n",
    "    \n",
    "Now, we load the network, create IDMT relay settings using the oc_parameters function and run the IDMT protection scenario at selected line and location using the run_fault_scenario_oc function:"
   ]
  },
  {
   "cell_type": "code",
   "execution_count": 16,
   "metadata": {},
   "outputs": [],
   "source": [
    "# Change the switch type in the network\n",
    "\n",
    "net=oc_relay_net()\n",
    "net.switch.type='CB_IDMT'"
   ]
  },
  {
   "cell_type": "code",
   "execution_count": 17,
   "metadata": {},
   "outputs": [
    {
     "name": "stderr",
     "output_type": "stream",
     "text": [
      "hp.pandapower.shortcircuit.calc_sc - WARNING: Branch results are in beta mode and might not always be reliable, especially for transformers\n",
      "hp.pandapower.shortcircuit.calc_sc - WARNING: Branch results are in beta mode and might not always be reliable, especially for transformers\n",
      "hp.pandapower.shortcircuit.calc_sc - WARNING: Branch results are in beta mode and might not always be reliable, especially for transformers\n",
      "hp.pandapower.shortcircuit.calc_sc - WARNING: Branch results are in beta mode and might not always be reliable, especially for transformers\n",
      "hp.pandapower.shortcircuit.calc_sc - WARNING: Branch results are in beta mode and might not always be reliable, especially for transformers\n",
      "hp.pandapower.shortcircuit.calc_sc - WARNING: Branch results are in beta mode and might not always be reliable, especially for transformers\n"
     ]
    }
   ],
   "source": [
    "\n",
    "relay_settings_IDMT=oc_protection.oc_parameters(net,time_settings= [1,0.5], relay_type='IDMT', curve_type='standard_inverse')"
   ]
  },
  {
   "cell_type": "code",
   "execution_count": 18,
   "metadata": {},
   "outputs": [
    {
     "data": {
      "text/html": [
       "<div>\n",
       "<style scoped>\n",
       "    .dataframe tbody tr th:only-of-type {\n",
       "        vertical-align: middle;\n",
       "    }\n",
       "\n",
       "    .dataframe tbody tr th {\n",
       "        vertical-align: top;\n",
       "    }\n",
       "\n",
       "    .dataframe thead th {\n",
       "        text-align: right;\n",
       "    }\n",
       "</style>\n",
       "<table border=\"1\" class=\"dataframe\">\n",
       "  <thead>\n",
       "    <tr style=\"text-align: right;\">\n",
       "      <th></th>\n",
       "      <th>switch_id</th>\n",
       "      <th>line_id</th>\n",
       "      <th>bus_id</th>\n",
       "      <th>relay_type</th>\n",
       "      <th>curve_type</th>\n",
       "      <th>I_s[kA]</th>\n",
       "      <th>tms[s]</th>\n",
       "      <th>k</th>\n",
       "      <th>t_grade[s]</th>\n",
       "      <th>alpha</th>\n",
       "    </tr>\n",
       "  </thead>\n",
       "  <tbody>\n",
       "    <tr>\n",
       "      <th>0</th>\n",
       "      <td>0</td>\n",
       "      <td>0</td>\n",
       "      <td>0</td>\n",
       "      <td>IDMT</td>\n",
       "      <td>standard_inverse</td>\n",
       "      <td>0.1704</td>\n",
       "      <td>1</td>\n",
       "      <td>0.14</td>\n",
       "      <td>2.0</td>\n",
       "      <td>0.02</td>\n",
       "    </tr>\n",
       "    <tr>\n",
       "      <th>1</th>\n",
       "      <td>1</td>\n",
       "      <td>1</td>\n",
       "      <td>1</td>\n",
       "      <td>IDMT</td>\n",
       "      <td>standard_inverse</td>\n",
       "      <td>0.1704</td>\n",
       "      <td>1</td>\n",
       "      <td>0.14</td>\n",
       "      <td>1.5</td>\n",
       "      <td>0.02</td>\n",
       "    </tr>\n",
       "    <tr>\n",
       "      <th>2</th>\n",
       "      <td>2</td>\n",
       "      <td>3</td>\n",
       "      <td>1</td>\n",
       "      <td>IDMT</td>\n",
       "      <td>standard_inverse</td>\n",
       "      <td>0.1704</td>\n",
       "      <td>1</td>\n",
       "      <td>0.14</td>\n",
       "      <td>1.5</td>\n",
       "      <td>0.02</td>\n",
       "    </tr>\n",
       "    <tr>\n",
       "      <th>3</th>\n",
       "      <td>3</td>\n",
       "      <td>2</td>\n",
       "      <td>2</td>\n",
       "      <td>IDMT</td>\n",
       "      <td>standard_inverse</td>\n",
       "      <td>0.1704</td>\n",
       "      <td>1</td>\n",
       "      <td>0.14</td>\n",
       "      <td>1.0</td>\n",
       "      <td>0.02</td>\n",
       "    </tr>\n",
       "    <tr>\n",
       "      <th>4</th>\n",
       "      <td>4</td>\n",
       "      <td>4</td>\n",
       "      <td>4</td>\n",
       "      <td>IDMT</td>\n",
       "      <td>standard_inverse</td>\n",
       "      <td>0.1704</td>\n",
       "      <td>1</td>\n",
       "      <td>0.14</td>\n",
       "      <td>1.0</td>\n",
       "      <td>0.02</td>\n",
       "    </tr>\n",
       "    <tr>\n",
       "      <th>5</th>\n",
       "      <td>5</td>\n",
       "      <td>5</td>\n",
       "      <td>5</td>\n",
       "      <td>IDMT</td>\n",
       "      <td>standard_inverse</td>\n",
       "      <td>0.1704</td>\n",
       "      <td>1</td>\n",
       "      <td>0.14</td>\n",
       "      <td>0.5</td>\n",
       "      <td>0.02</td>\n",
       "    </tr>\n",
       "  </tbody>\n",
       "</table>\n",
       "</div>"
      ],
      "text/plain": [
       "  switch_id line_id bus_id relay_type        curve_type  I_s[kA] tms[s]     k  \\\n",
       "0         0       0      0       IDMT  standard_inverse   0.1704      1  0.14   \n",
       "1         1       1      1       IDMT  standard_inverse   0.1704      1  0.14   \n",
       "2         2       3      1       IDMT  standard_inverse   0.1704      1  0.14   \n",
       "3         3       2      2       IDMT  standard_inverse   0.1704      1  0.14   \n",
       "4         4       4      4       IDMT  standard_inverse   0.1704      1  0.14   \n",
       "5         5       5      5       IDMT  standard_inverse   0.1704      1  0.14   \n",
       "\n",
       "   t_grade[s]  alpha  \n",
       "0         2.0   0.02  \n",
       "1         1.5   0.02  \n",
       "2         1.5   0.02  \n",
       "3         1.0   0.02  \n",
       "4         1.0   0.02  \n",
       "5         0.5   0.02  "
      ]
     },
     "execution_count": 18,
     "metadata": {},
     "output_type": "execute_result"
    }
   ],
   "source": [
    "# show relay settings\n",
    "relay_settings_IDMT"
   ]
  },
  {
   "cell_type": "markdown",
   "metadata": {},
   "source": [
    "Relay settings \n",
    "- I_s[kA] : Pickup current based on inverse overload factor\n",
    "\n",
    "- k & alpha: Constants based on the curve type according to IEC60255\n",
    "\n",
    "- t_grade: Time gradig calculated based on topologocal searches and given t_grade input"
   ]
  },
  {
   "cell_type": "code",
   "execution_count": 19,
   "metadata": {},
   "outputs": [
    {
     "name": "stderr",
     "output_type": "stream",
     "text": [
      "hp.pandapower.shortcircuit.calc_sc - WARNING: Branch results are in beta mode and might not always be reliable, especially for transformers\n"
     ]
    },
    {
     "name": "stdout",
     "output_type": "stream",
     "text": [
      "   Switch ID Switch type      Trip type   Trip  Fault Current [kA]  \\\n",
      "0          0        DTOC         backup   True            1.919548   \n",
      "1          1        DTOC        no trip  False            0.000000   \n",
      "2          2        DTOC         backup   True            1.919548   \n",
      "3          3        DTOC        no trip  False            0.000000   \n",
      "4          4        DTOC  instantaneous   True            1.919548   \n",
      "5          5        DTOC        no trip  False            0.000000   \n",
      "\n",
      "   Trip time [s]  \n",
      "0           1.40  \n",
      "1            inf  \n",
      "2           1.10  \n",
      "3            inf  \n",
      "4           0.07  \n",
      "5            inf  \n"
     ]
    }
   ],
   "source": [
    "# create fault scenario using the relay setting, line and location\n",
    "trip_decisions_IDMT,net_sc=oc_protection.run_fault_scenario_oc(net,sc_line_id=4,sc_location =0.5,relay_settings=relay_settings)"
   ]
  },
  {
   "cell_type": "markdown",
   "metadata": {},
   "source": [
    "# Show trip decisions\n",
    "The function run fault scenario returns a list of dictionaries with tripping decisions of each switch in the network.\n",
    "- Fault current: Maximum short circuit current at the relay location \n",
    "- Is: Inverse tripping current in Ampere (kA)\n",
    "- Trip Type: \n",
    "    -Instantaneous trip if the fault current >=I_s\n",
    "    -No trip fault current less than I_s\n",
    "    \n",
    "- Tripping time - ts: Tripping time of the respective switch (based on the fault current i_ks)\n",
    "\n",
    "    ts=(tms*k)/(i_ka/I_s)^alpha)-1))+t_grade\n",
    "\n",
    "Tripping decisions of each switch can be shown by indexing the respective switch id"
   ]
  },
  {
   "cell_type": "code",
   "execution_count": 20,
   "metadata": {},
   "outputs": [
    {
     "data": {
      "text/plain": [
       "{'Switch ID': 1,\n",
       " 'Switch type': 'DTOC',\n",
       " 'Trip type': 'no trip',\n",
       " 'Trip': False,\n",
       " 'Fault Current [kA]': 0.0,\n",
       " 'Trip time [s]': inf,\n",
       " 'Ig': 0.7,\n",
       " 'Igg': 2.3,\n",
       " 'Is': nan,\n",
       " 'tg': 1.1,\n",
       " 'tgg': 0.07,\n",
       " 't_s': nan}"
      ]
     },
     "execution_count": 20,
     "metadata": {},
     "output_type": "execute_result"
    }
   ],
   "source": [
    "trip_decisions_IDMT[1]"
   ]
  },
  {
   "cell_type": "markdown",
   "metadata": {},
   "source": [
    "# Additional features of IDMT"
   ]
  },
  {
   "cell_type": "markdown",
   "metadata": {},
   "source": [
    "### Manual tripping time for each switches\n",
    "Manual tripping time can be given as a dataframe with columns as 'switch_id', 'tms', 't_grade.'"
   ]
  },
  {
   "cell_type": "code",
   "execution_count": 21,
   "metadata": {},
   "outputs": [
    {
     "name": "stderr",
     "output_type": "stream",
     "text": [
      "hp.pandapower.shortcircuit.calc_sc - WARNING: Branch results are in beta mode and might not always be reliable, especially for transformers\n",
      "hp.pandapower.shortcircuit.calc_sc - WARNING: Branch results are in beta mode and might not always be reliable, especially for transformers\n",
      "hp.pandapower.shortcircuit.calc_sc - WARNING: Branch results are in beta mode and might not always be reliable, especially for transformers\n",
      "hp.pandapower.shortcircuit.calc_sc - WARNING: Branch results are in beta mode and might not always be reliable, especially for transformers\n",
      "hp.pandapower.shortcircuit.calc_sc - WARNING: Branch results are in beta mode and might not always be reliable, especially for transformers\n",
      "hp.pandapower.shortcircuit.calc_sc - WARNING: Branch results are in beta mode and might not always be reliable, especially for transformers\n",
      "hp.pandapower.shortcircuit.calc_sc - WARNING: Branch results are in beta mode and might not always be reliable, especially for transformers\n"
     ]
    },
    {
     "name": "stdout",
     "output_type": "stream",
     "text": [
      "   Switch ID Switch type      Trip type   Trip  Fault Current [kA]  \\\n",
      "0          0        IDMT  instantaneous   True            1.919548   \n",
      "1          1        IDMT        no trip  False            0.000000   \n",
      "2          2        IDMT  instantaneous   True            1.919548   \n",
      "3          3        IDMT        no trip  False            0.000000   \n",
      "4          4        IDMT  instantaneous   True            1.919548   \n",
      "5          5        IDMT        no trip  False            0.000000   \n",
      "\n",
      "   Trip time [s]  \n",
      "0       0.524282  \n",
      "1            inf  \n",
      "2       1.124282  \n",
      "3            inf  \n",
      "4       1.724282  \n",
      "5            inf  \n"
     ]
    }
   ],
   "source": [
    "tripping_time= pd.DataFrame({'switch_id': [0,1,2,3,4,5],\n",
    "                          'tms': [0.07,0.07,0.07,0.07,0.07,0.07],\n",
    "                          't_grade':[0.5,0.8,1.1,1.4,1.7,2.0]})\n",
    "relay_settings=oc_protection.oc_parameters(net,time_settings= tripping_time, relay_type='IDMT', curve_type='standard_inverse')\n",
    "trip_decisions,net_sc=oc_protection.run_fault_scenario_oc(net,sc_line_id=4,sc_location =0.5,relay_settings=relay_settings)"
   ]
  },
  {
   "cell_type": "markdown",
   "metadata": {},
   "source": [
    "### Varying OC parameters\n",
    "oc parameters are capable to set pick-up tripping current for each switch by varying the default values in the following parameters from the default value:\n",
    "\n",
    "* inverse_overload_factor (float, 1.2) Allowable inverse overloading on the line used to calculate the pick-up current."
   ]
  },
  {
   "cell_type": "code",
   "execution_count": 22,
   "metadata": {},
   "outputs": [
    {
     "name": "stderr",
     "output_type": "stream",
     "text": [
      "hp.pandapower.shortcircuit.calc_sc - WARNING: Branch results are in beta mode and might not always be reliable, especially for transformers\n",
      "hp.pandapower.shortcircuit.calc_sc - WARNING: Branch results are in beta mode and might not always be reliable, especially for transformers\n",
      "hp.pandapower.shortcircuit.calc_sc - WARNING: Branch results are in beta mode and might not always be reliable, especially for transformers\n",
      "hp.pandapower.shortcircuit.calc_sc - WARNING: Branch results are in beta mode and might not always be reliable, especially for transformers\n",
      "hp.pandapower.shortcircuit.calc_sc - WARNING: Branch results are in beta mode and might not always be reliable, especially for transformers\n",
      "hp.pandapower.shortcircuit.calc_sc - WARNING: Branch results are in beta mode and might not always be reliable, especially for transformers\n"
     ]
    }
   ],
   "source": [
    "relay_settings_IDMT=oc_protection.oc_parameters(net,inverse_overload_factor=2.1,time_settings= [1,0.5], relay_type='IDMT',\n",
    "                                                curve_type='standard_inverse')"
   ]
  },
  {
   "cell_type": "markdown",
   "metadata": {},
   "source": [
    "All the additional features and plotting functions are possible for IDMT relay (similar to DTOC)"
   ]
  },
  {
   "cell_type": "markdown",
   "metadata": {},
   "source": [
    "##  IDTOC Relay Protection\n",
    "\n",
    "Required inputs for the oc_parameters:\n",
    "* 1) net: (pandapowerNet) - Pandapower network with switch type as \"CB_IDTOC\" in net.switch.type\n",
    "* 2) relay_type: (string) - 'IDTOC'\n",
    "* 3) time_settings: (list, DataFrame): Relay tripping time can be given as list or a DataFrame \n",
    "    if relay tripping time is given as a list, the time grade is calculated based on a topological grid search.\n",
    "        - time_settings =[t>>, t> t_diff, tms, t_grade],\n",
    "        - t>>(t_gg): instantaneous tripping time in seconds,\n",
    "        - t>(t_g):  backup tripping time in seconds, \n",
    "        - t_diff: time grading delay difference in seconds\n",
    "        - tms: time multiplier setting in seconds,\n",
    "        - t_grade: time grading delay difference in seconds\n",
    "     If given as a Dataframe with columns as 'switch_id', 't_gg', 't_g', 'tms', 't_grade' user defined relay trip time will be taken (t_gg and t_g should be provided for all the active switches)\n",
    "* sc_fraction: (float, 0.95) - Maximum possible extent to which the short circuit can be created on the line\n",
    "\n",
    "* 4) overload_factor : (float, 1.25)- Allowable overloading on the line used to calculate the pickup current\n",
    "\n",
    "* 5) ct_current_factor :(float, 1.2) - Current multiplication factor to calculate the pick-up current\n",
    "\n",
    "* 6) safety_factor : (float, 1) - Safety limit for the instantaneous pickup current\n",
    "\n",
    "* 7) inverse_overload_factor:(float, 1.25) - Allowable inverse overloading to define the pickup current in IDMT relay\n",
    "\n",
    "* 8) curve_type ('string'): Relay trip time will vary depending on the curve slope for inverse time relays. The curves is used to coordinate with other protective devices for selectivity (according to IEC60255) \n",
    "\n",
    "    Curve type can be :\n",
    "    - 'standard_inverse'\n",
    "    - 'very_inverse',\n",
    "    - 'extremely_inverse',\n",
    "    - 'long_inverse',\n",
    "\n",
    "Now, we load the network, create parameter settings using oc_parameters function and calculate the short circuit at the selected line and location using the run_fault_scenario_oc function. Depending on the current pickup values IDTOC relay shows DTOC or IDMT behaviour"
   ]
  },
  {
   "cell_type": "code",
   "execution_count": 23,
   "metadata": {},
   "outputs": [],
   "source": [
    "# Change the switch type in the network\n",
    "\n",
    "net=oc_relay_net()\n",
    "net.switch.type='CB_IDTOC'"
   ]
  },
  {
   "cell_type": "code",
   "execution_count": 24,
   "metadata": {},
   "outputs": [
    {
     "name": "stderr",
     "output_type": "stream",
     "text": [
      "hp.pandapower.shortcircuit.calc_sc - WARNING: Branch results are in beta mode and might not always be reliable, especially for transformers\n",
      "hp.pandapower.shortcircuit.calc_sc - WARNING: Branch results are in beta mode and might not always be reliable, especially for transformers\n",
      "hp.pandapower.shortcircuit.calc_sc - WARNING: Branch results are in beta mode and might not always be reliable, especially for transformers\n",
      "hp.pandapower.shortcircuit.calc_sc - WARNING: Branch results are in beta mode and might not always be reliable, especially for transformers\n",
      "hp.pandapower.shortcircuit.calc_sc - WARNING: Branch results are in beta mode and might not always be reliable, especially for transformers\n",
      "hp.pandapower.shortcircuit.calc_sc - WARNING: Branch results are in beta mode and might not always be reliable, especially for transformers\n"
     ]
    }
   ],
   "source": [
    "\n",
    "relay_settings_IDTOC=oc_protection.oc_parameters(net,time_settings= [0.07,0.5,0.3, 1,0.5], relay_type='IDTOC',\n",
    "                                                 curve_type='standard_inverse')"
   ]
  },
  {
   "cell_type": "code",
   "execution_count": 25,
   "metadata": {},
   "outputs": [
    {
     "name": "stderr",
     "output_type": "stream",
     "text": [
      "hp.pandapower.shortcircuit.calc_sc - WARNING: Branch results are in beta mode and might not always be reliable, especially for transformers\n"
     ]
    },
    {
     "name": "stdout",
     "output_type": "stream",
     "text": [
      "   Switch ID Switch type      Trip type   Trip  Fault Current [kA]  \\\n",
      "0          0        IDMT  instantaneous   True            1.919548   \n",
      "1          1        IDMT        no trip  False            0.000000   \n",
      "2          2        IDMT  instantaneous   True            1.919548   \n",
      "3          3        IDMT        no trip  False            0.000000   \n",
      "4          4        IDMT  instantaneous   True            1.919548   \n",
      "5          5        IDMT        no trip  False            0.000000   \n",
      "\n",
      "   Trip time [s]  \n",
      "0       0.524282  \n",
      "1            inf  \n",
      "2       1.124282  \n",
      "3            inf  \n",
      "4       1.724282  \n",
      "5            inf  \n"
     ]
    }
   ],
   "source": [
    "# create fault scenario using the relay setting, line and location\n",
    "trip_decisions_IDTOC,net_sc=oc_protection.run_fault_scenario_oc(net,sc_line_id=4,sc_location =0.5,relay_settings=relay_settings)"
   ]
  },
  {
   "cell_type": "markdown",
   "metadata": {},
   "source": [
    "##  All the additional features which are previously described will also function for IDTOC relay\n",
    "\n"
   ]
  }
 ],
 "metadata": {
  "anaconda-cloud": {},
  "kernelspec": {
   "display_name": "Python 3 (ipykernel)",
   "language": "python",
   "name": "python3"
  },
  "language_info": {
   "codemirror_mode": {
    "name": "ipython",
    "version": 3
   },
   "file_extension": ".py",
   "mimetype": "text/x-python",
   "name": "python",
   "nbconvert_exporter": "python",
   "pygments_lexer": "ipython3",
   "version": "3.9.13"
  }
 },
 "nbformat": 4,
 "nbformat_minor": 1
}
