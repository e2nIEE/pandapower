{
 "cells": [
  {
   "cell_type": "markdown",
   "metadata": {},
   "source": [
    " #         Converting Networks from PandaPower to Cim CGMES\n"
   ]
  },
  {
   "cell_type": "markdown",
   "metadata": {},
   "source": [
    "First we start by defining the path of the CGMES zip file, which can convert to PandaPower.\n",
    "\n",
    "Import the PandaPower library and the neccessay methods for the converstion as follows:"
   ]
  },
  {
   "cell_type": "code",
   "execution_count": 2,
   "metadata": {
    "scrolled": true
   },
   "outputs": [
    {
     "name": "stdout",
     "output_type": "stream",
     "text": [
      "C:\\Users\\mrichter\\gitClones\\pandapower_mri\\tutorials\n"
     ]
    }
   ],
   "source": [
    "import pandapower as pp\n",
    "import pandapower.converter.cim.cim2pp.from_cim as from_cim"
   ]
  },
  {
   "cell_type": "markdown",
   "metadata": {},
   "source": [
    "## CIM CGMES to PandaPower\n",
    "\n",
    "Now we can read the files from the zip and convert them to pandapower, which will be in json format."
   ]
  },
  {
   "cell_type": "code",
   "execution_count": 5,
   "metadata": {
    "scrolled": true
   },
   "outputs": [
    {
     "name": "stderr",
     "output_type": "stream",
     "text": [
      "Modifying angle from 2W transformers. This kind of angle regulation is currently not supported by pandapower! Affected transformers: \n",
      "      index PowerTransformer        name  isPartOfGeneratorUnit  \\\n",
      "220    2318   _1124054201_PT  1124054201                  False   \n",
      "598    1392   _1346421746_PT  1346421746                  False   \n",
      "1184   1990     _17207276_PT    17207276                  False   \n",
      "2208   2604    _472985915_PT   472985915                  False   \n",
      "\n",
      "          origin_class PowerTransformerEnd_id  endNumber           Terminal  \\\n",
      "220   PowerTransformer     _1124054201_PT_TW1          1  _1124054201_PT_T0   \n",
      "598   PowerTransformer     _1346421746_PT_TW1          1  _1346421746_PT_T0   \n",
      "1184  PowerTransformer       _17207276_PT_TW1          1    _17207276_PT_T0   \n",
      "2208  PowerTransformer      _472985915_PT_TW1          1   _472985915_PT_T0   \n",
      "\n",
      "         ratedS  ratedU     r       x         b    g   r0   x0  \\\n",
      "220   3896.7200   225.0  0.06   4.030  0.000000  0.0  0.0  0.0   \n",
      "598    937.9060   380.0  0.06   0.490 -0.000004  0.0  0.0  0.0   \n",
      "1184    53.1566    90.0  4.47   9.270 -0.000064  0.0  0.0  0.0   \n",
      "2208   268.9010   225.0  2.00  14.745 -0.000032  0.0  0.0  0.0   \n",
      "\n",
      "      phaseAngleClock connectionKind  grounded     rdfId_Terminal  \\\n",
      "220                 0              D     False  _1124054201_PT_T0   \n",
      "598                 0              D     False  _1346421746_PT_T0   \n",
      "1184                0              D     False    _17207276_PT_T0   \n",
      "2208                0              D     False   _472985915_PT_T0   \n",
      "\n",
      "        ConnectivityNode  sequenceNumber  connected  index_bus rdfId  \\\n",
      "220   _1892607877_VL_TN1               1       True       5949   NaN   \n",
      "598   _1523789096_VL_TN1               1      False       5374   NaN   \n",
      "1184   _110559794_VL_TN1               1       True       2109   NaN   \n",
      "2208  _1661891817_VL_TN1               1       True        398   NaN   \n",
      "\n",
      "      neutralStep  lowStep  highStep  stepVoltageIncrement TapChangerControl  \\\n",
      "220            17        1        33               -0.0514               NaN   \n",
      "598            17        1        33                0.0000               NaN   \n",
      "1184           18        1        33                0.0000               NaN   \n",
      "2208           17        1        33                0.0000               NaN   \n",
      "\n",
      "      step tapchanger_class tapchanger_id  stepPhaseShiftIncrement     angle  \\\n",
      "220   16.0              NaN           NaN                      NaN -0.659846   \n",
      "598   17.0              NaN           NaN                      NaN  0.000000   \n",
      "1184  18.0              NaN           NaN                      NaN  0.000000   \n",
      "2208  17.0              NaN           NaN                      NaN  0.000000   \n",
      "\n",
      "       ratio  discrete  c_in_service  c_vm_set_pu  c_tol  c_vm_lower_pu  \\\n",
      "220  -0.0514      <NA>          <NA>          NaN    NaN            NaN   \n",
      "598   0.0000      <NA>          <NA>          NaN    NaN            NaN   \n",
      "1184  0.0000      <NA>          <NA>          NaN    NaN            NaN   \n",
      "2208  0.0000      <NA>          <NA>          NaN    NaN            NaN   \n",
      "\n",
      "      c_vm_upper_pu c_Terminal  c_bus_id  id_characteristic  index_bus_lv  \\\n",
      "220             NaN        NaN       NaN                0.0         347.0   \n",
      "598             NaN        NaN       NaN                2.0        2087.0   \n",
      "1184            NaN        NaN       NaN                3.0        5271.0   \n",
      "2208            NaN        NaN       NaN                7.0         198.0   \n",
      "\n",
      "            Terminal_lv  ratedU_lv  r_lv  x_lv  b_lv  g_lv  r0_lv  x0_lv  \\\n",
      "220   _1124054201_PT_T1      225.0   0.0   0.0   0.0   0.0    0.0    0.0   \n",
      "598   _1346421746_PT_T1      380.0   0.0   0.0   0.0   0.0    0.0    0.0   \n",
      "1184    _17207276_PT_T1       90.0   0.0   0.0   0.0   0.0    0.0    0.0   \n",
      "2208   _472985915_PT_T1      225.0   0.0   0.0   0.0   0.0    0.0    0.0   \n",
      "\n",
      "      neutralStep_lv  lowStep_lv  highStep_lv  stepVoltageIncrement_lv  \\\n",
      "220             <NA>        <NA>         <NA>                      NaN   \n",
      "598             <NA>        <NA>         <NA>                      NaN   \n",
      "1184            <NA>        <NA>         <NA>                      NaN   \n",
      "2208            <NA>        <NA>         <NA>                      NaN   \n",
      "\n",
      "      stepPhaseShiftIncrement_lv  step_lv  connected_lv  phaseAngleClock_lv  \\\n",
      "220                          NaN      NaN          True                   0   \n",
      "598                          NaN      NaN         False                   0   \n",
      "1184                         NaN      NaN          True                   0   \n",
      "2208                         NaN      NaN          True                   0   \n",
      "\n",
      "     connectionKind_lv PowerTransformerEnd_id_lv tapchanger_class_lv  \\\n",
      "220                  D        _1124054201_PT_TW0                 NaN   \n",
      "598                  D        _1346421746_PT_TW0                 NaN   \n",
      "1184                 D          _17207276_PT_TW0                 NaN   \n",
      "2208                 D         _472985915_PT_TW0                 NaN   \n",
      "\n",
      "     tapchanger_id_lv  grounded_lv  angle_lv tap_side  pfe_kw  vkr_percent  \\\n",
      "220               NaN        False       NaN       hv     0.0     0.461833   \n",
      "598               NaN        False       NaN       hv     0.0     0.038971   \n",
      "1184              NaN        False       NaN       hv     0.0     2.933457   \n",
      "2208              NaN        False       NaN       hv     0.0     1.062325   \n",
      "\n",
      "      x_lv_sign  x_sign  vk_percent  i0_percent  vkr0_percent  x0_lv_sign  \\\n",
      "220         1.0     1.0   31.023253    0.000000           0.0         1.0   \n",
      "598         1.0     1.0    0.320642    0.064663           0.0         1.0   \n",
      "1184        1.0     1.0    6.753804    0.975232           0.0         1.0   \n",
      "2208        1.0     1.0    7.903709    0.602452           0.0         1.0   \n",
      "\n",
      "      x0_sign  vk0_percent std_type   df  \n",
      "220       1.0          0.0     None  1.0  \n",
      "598       1.0          0.0     None  1.0  \n",
      "1184      1.0          0.0     None  1.0  \n",
      "2208      1.0          0.0     None  1.0  \n"
     ]
    },
    {
     "name": "stdout",
     "output_type": "stream",
     "text": [
      "Conversion successful\n"
     ]
    }
   ],
   "source": [
    "cgmes_files = r'example_cim\\CGMES_v2.4.15_RealGridTestConfiguration_v2.zip'\n",
    "net = from_cim.from_cim(file_list=cgmes_files)\n",
    "\n",
    "print('Conversion successful')"
   ]
  },
  {
   "cell_type": "markdown",
   "metadata": {},
   "source": [
    "## Plot the network\n",
    "\n",
    "Note: This may take some time if there is no geo-data given!"
   ]
  },
  {
   "cell_type": "code",
   "execution_count": 7,
   "metadata": {
    "scrolled": false
   },
   "outputs": [
    {
     "name": "stderr",
     "output_type": "stream",
     "text": [
      "No or insufficient geodata available --> Creating artificial coordinates. This may take some time\n"
     ]
    },
    {
     "data": {
      "image/png": "[encoded data removed]",
      "text/plain": [
       "<Figure size 720x576 with 1 Axes>"
      ]
     },
     "metadata": {},
     "output_type": "display_data"
    },
    {
     "data": {
      "text/plain": [
       "<matplotlib.axes._subplots.AxesSubplot at 0x13803d8fd08>"
      ]
     },
     "execution_count": 7,
     "metadata": {},
     "output_type": "execute_result"
    }
   ],
   "source": [
    "from pandapower.plotting import simple_plot as plt\n",
    "plt(net)"
   ]
  },
  {
   "cell_type": "markdown",
   "metadata": {},
   "source": [
    "At the end, we have the network in PandaPower."
   ]
  }
 ],
 "metadata": {
  "kernelspec": {
   "display_name": "Python 3",
   "language": "python",
   "name": "python3"
  },
  "language_info": {
   "codemirror_mode": {
    "name": "ipython",
    "version": 3
   },
   "file_extension": ".py",
   "mimetype": "text/x-python",
   "name": "python",
   "nbconvert_exporter": "python",
   "pygments_lexer": "ipython3",
   "version": "3.7.10"
  }
 },
 "nbformat": 4,
 "nbformat_minor": 5
}
