{
 "cells": [
  {
   "metadata": {},
   "cell_type": "markdown",
   "source": [
    "# WP2.2 - Short circuit on three-phase grids with static generators and nominal current\n",
    "\n",
    "This Notebook shows exemplary tests that are implemented in the sce_test/(TODO: Add file name here) file.\n",
    "\n",
    "Therefore it must be run in an environment where the pandapower test folders can be found by the jupyter server's python environment. This can be done by checking out the git branche sce in pandapower and locally initializing the repository by using `pip install -e .`.\n",
    "\n",
    "Further information on running short-circuit calculations in pandapower can be found in the [documentation on shortcircuit](https://pandapower.readthedocs.io/en/latest/shortcircuit/run.html) and the [shortcircuit tutorial](https://github.com/e2nIEE/pandapower/blob/sce/tutorials/shortcircuit/shortcircuit.ipynb).\n"
   ],
   "id": "cf004caccb1be56c"
  },
  {
   "metadata": {},
   "cell_type": "code",
   "outputs": [],
   "execution_count": null,
   "source": [
    "import os\n",
    "from pandapower import pp_dir\n",
    "from pandapower.plotting import simple_plot, create_generic_coordinates\n",
    "from pandapower.test.shortcircuit.sce_tests.test_all_faults_and_cases import load_test_case_data\n",
    "\n",
    "testfiles_path = os.path.join(pp_dir, 'test', 'shortcircuit', 'sce_tests')\n",
    "\n",
    "def plot(net):\n",
    "    from pandapower.plotting import create_generic_coordinates, set_line_geodata_from_bus_geodata\n",
    "    create_generic_coordinates(net, overwrite=True)\n",
    "    set_line_geodata_from_bus_geodata(net, overwrite=True)\n",
    "\n",
    "    simple_plot(net, line_width=5.)"
   ],
   "id": "8b88cf6f7df8fb57"
  },
  {
   "metadata": {},
   "cell_type": "markdown",
   "source": "## Test Case 1: Four bus radial grid with static generator",
   "id": "308512bac42d9f08"
  },
  {
   "metadata": {},
   "cell_type": "code",
   "outputs": [],
   "execution_count": null,
   "source": [
    "net_name = \"1_four_bus_radial_grid_sgen\"\n",
    "\n",
    "net, df = load_test_case_data(net_name, 0)\n",
    "if isinstance(df, FileNotFoundError):\n",
    "    print(\"Result dataframes not loaded\")\n",
    "\n",
    "plot(net)"
   ],
   "id": "6efdadeaabb9808b"
  },
  {
   "metadata": {},
   "cell_type": "markdown",
   "source": "# Test Case 2: Five bus radial grid with static generator",
   "id": "51b3bf6f40aeb139"
  },
  {
   "metadata": {},
   "cell_type": "code",
   "outputs": [],
   "execution_count": null,
   "source": [
    "net_name = \"2_five_bus_radial_grid_dyn_sgen\"\n",
    "\n",
    "net, df = load_test_case_data(net_name, 0)\n",
    "if isinstance(df, FileNotFoundError):\n",
    "    print(\"Result dataframes not loaded\")\n",
    "\n",
    "plot(net)"
   ],
   "id": "3263389ac3e3e287"
  },
  {
   "metadata": {},
   "cell_type": "markdown",
   "source": "# Test Case 3: Five bus meshed grid with static generator",
   "id": "f103a86f065d5efa"
  },
  {
   "metadata": {},
   "cell_type": "code",
   "outputs": [],
   "execution_count": null,
   "source": [
    "net_name = \"3_five_bus_meshed_grid_dyn_sgen\"\n",
    "\n",
    "net, df = load_test_case_data(net_name, 0)\n",
    "if isinstance(df, FileNotFoundError):\n",
    "    print(\"Result dataframes not loaded\")\n",
    "\n",
    "plot(net)"
   ],
   "id": "93d4223652fad5e"
  },
  {
   "metadata": {},
   "cell_type": "markdown",
   "source": "# Test Case 4: Twenty bus radial grid with static generator",
   "id": "ee0130417f3c465d"
  },
  {
   "metadata": {},
   "cell_type": "code",
   "outputs": [],
   "execution_count": null,
   "source": [
    "net_name = \"4_twenty_bus_radial_grid__dyn_sgen\"\n",
    "\n",
    "#net, df = load_test_case_data(net_name, 0)\n",
    "#if isinstance(df, FileNotFoundError):\n",
    "#    print(\"Result dataframes not loaded\")\n",
    "\n",
    "#plot(net)"
   ],
   "id": "c2c6e5b7457808e5"
  }
 ],
 "metadata": {},
 "nbformat": 4,
 "nbformat_minor": 5
}
