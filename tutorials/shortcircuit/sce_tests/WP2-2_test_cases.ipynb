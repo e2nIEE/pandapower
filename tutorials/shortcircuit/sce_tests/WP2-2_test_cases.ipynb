{
 "cells": [
  {
   "metadata": {},
   "cell_type": "markdown",
   "source": [
    "# WP2.2 - Short circuit on three-phase grids with static generators and nominal current\n",
    "\n",
    "This Notebook shows exemplary tests that are implemented in the sce_test/(TODO: Add file name here) file.\n",
    "\n",
    "Therefore it must be run in an environment where the pandapower test folders can be found by the jupyter server's python environment. This can be done by checking out the git branche sce in pandapower and locally initializing the repository by using `pip install -e .`.\n",
    "\n",
    "Further information on running short-circuit calculations in pandapower can be found in the [documentation on shortcircuit](https://pandapower.readthedocs.io/en/latest/shortcircuit/run.html) and the [shortcircuit tutorial](https://github.com/e2nIEE/pandapower/blob/sce/tutorials/shortcircuit/shortcircuit.ipynb).\n"
   ],
   "id": "cf004caccb1be56c"
  },
  {
   "metadata": {},
   "cell_type": "code",
   "source": [
    "import os\n",
    "from pandapower import pp_dir\n",
    "from pandapower.plotting import simple_plot, create_generic_coordinates, set_line_geodata_from_bus_geodata\n",
    "from pandapower.test.shortcircuit.sce_tests.test_all_faults_and_cases import load_test_case, load_test_case_data, run_test_cases, compare_results\n",
    "\n",
    "testfiles_path = os.path.join(pp_dir, 'test', 'shortcircuit', 'sce_tests')\n",
    "\n",
    "def plot(net):\n",
    "    create_generic_coordinates(net, overwrite=True)\n",
    "    set_line_geodata_from_bus_geodata(net, overwrite=True)\n",
    "\n",
    "    simple_plot(\n",
    "        net,\n",
    "        line_width=5.,\n",
    "        plot_loads=True, plot_gens=True, plot_sgens=True,\n",
    "        load_size=3., gen_size=3., sgen_size=3., ext_grid_size=1.5\n",
    "    )"
   ],
   "id": "8b88cf6f7df8fb57",
   "outputs": [],
   "execution_count": null
  },
  {
   "metadata": {},
   "cell_type": "markdown",
   "source": "## Test Case 1: Four bus radial grid with static generator",
   "id": "308512bac42d9f08"
  },
  {
   "metadata": {},
   "cell_type": "code",
   "source": [
    "net_name = \"1_four_bus_radial_grid_sgen\"\n",
    "\n",
    "fault = \"LLL\"\n",
    "case = \"max\"\n",
    "fault_values = (0.0, 0.0)\n",
    "# lv_tol_percents does not influence max case (default value is 10)\n",
    "lv_tol_percents = 10\n",
    "fault_location_bus = 0\n",
    "is_branch_test = True\n",
    "sgen_idx = 1\n",
    "# vector group not necesarry as the grid does not contain a transformer\n",
    "bus_or_branch = \"branch\" if is_branch_test else \"bus\"\n",
    "\n",
    "net, dataframes = load_test_case_data(net_name, fault_location_bus, sgen_idx=sgen_idx)\n",
    "\n",
    "plot(net)"
   ],
   "id": "6efdadeaabb9808b",
   "outputs": [],
   "execution_count": null
  },
  {
   "metadata": {},
   "cell_type": "markdown",
   "source": [
    "With the network and expected results loaded, we now can run the test to receive the dataframes and the columns that should be compared.\n",
    "\n",
    "Below is the list of columns that will be compared."
   ],
   "id": "8ecea80aaf695f1e"
  },
  {
   "metadata": {},
   "cell_type": "code",
   "source": [
    "columns_to_check, net_df, pf_results = run_test_cases(net, dataframes[bus_or_branch], fault, case, fault_values, lv_tol_percents, fault_location_bus, is_branch_test)\n",
    "columns_to_check"
   ],
   "id": "f0e948014e14906b",
   "outputs": [],
   "execution_count": null
  },
  {
   "metadata": {},
   "cell_type": "code",
   "source": "net_df[columns_to_check]",
   "id": "9dd9c72f9fe4beeb",
   "outputs": [],
   "execution_count": null
  },
  {
   "metadata": {},
   "cell_type": "code",
   "source": "pf_results[columns_to_check]",
   "id": "9a6918e33ba093cc",
   "outputs": [],
   "execution_count": null
  },
  {
   "metadata": {},
   "cell_type": "markdown",
   "source": "These are all the test results that were exported from PowerFactory. Depending on the parameter combination, the corresponding dataframe is selected.",
   "id": "41f47bcf223f6a81"
  },
  {
   "metadata": {},
   "cell_type": "code",
   "source": "dataframes[bus_or_branch][f\"{fault}_{case}_{lv_tol_percents}\"]",
   "id": "26809a2de0ad097a",
   "outputs": [],
   "execution_count": null
  },
  {
   "metadata": {},
   "cell_type": "markdown",
   "source": "As you can see the results are matching and the comparison function will pass and not throw any errors.",
   "id": "8bb7b478de0ab15c"
  },
  {
   "metadata": {},
   "cell_type": "code",
   "source": "compare_results(columns_to_check, net_df, pf_results)",
   "id": "482b3901f14c0b1a",
   "outputs": [],
   "execution_count": null
  },
  {
   "metadata": {},
   "cell_type": "markdown",
   "source": "Similarly tests can be run for bus faults.",
   "id": "eee35de2fb527557"
  },
  {
   "metadata": {},
   "cell_type": "code",
   "source": [
    "is_branch_test = False\n",
    "bus_or_branch = \"branch\" if is_branch_test else \"bus\"\n",
    "columns_to_check, net_df, pf_results = run_test_cases(net, dataframes[bus_or_branch], fault, case, fault_values, lv_tol_percents, fault_location_bus, is_branch_test)\n",
    "columns_to_check"
   ],
   "id": "d90fe7dfe582afbb",
   "outputs": [],
   "execution_count": null
  },
  {
   "metadata": {},
   "cell_type": "code",
   "source": "net_df[columns_to_check]",
   "id": "f0d3fd15f76da813",
   "outputs": [],
   "execution_count": null
  },
  {
   "metadata": {},
   "cell_type": "code",
   "source": "pf_results[columns_to_check]",
   "id": "d38693b28433e439",
   "outputs": [],
   "execution_count": null
  },
  {
   "metadata": {},
   "cell_type": "code",
   "source": "dataframes[bus_or_branch][f\"{fault}_{case}_{lv_tol_percents}\"]",
   "id": "3359648694e70cb8",
   "outputs": [],
   "execution_count": null
  },
  {
   "metadata": {},
   "cell_type": "code",
   "source": "compare_results(columns_to_check, net_df, pf_results)",
   "id": "a901298277a481e6",
   "outputs": [],
   "execution_count": null
  },
  {
   "metadata": {},
   "cell_type": "markdown",
   "source": "# Test Case 2: Five bus radial grid with static generator",
   "id": "51b3bf6f40aeb139"
  },
  {
   "metadata": {},
   "cell_type": "code",
   "source": [
    "net_name = \"2_five_bus_radial_grid\"\n",
    "\n",
    "fault = \"LL\"\n",
    "case = \"min\"\n",
    "fault_values = (5.0, 5.0)\n",
    "lv_tol_percents = 6\n",
    "fault_location_bus = 1\n",
    "is_branch_test = True\n",
    "sgen_idx = [3, 4]\n",
    "vector_group = 'Dyn'\n",
    "\n",
    "net, dataframes = load_test_case_data(net_name, fault_location_bus, vector_group, sgen_idx=sgen_idx)\n",
    "\n",
    "plot(net)"
   ],
   "id": "3263389ac3e3e287",
   "outputs": [],
   "execution_count": null
  },
  {
   "metadata": {},
   "cell_type": "code",
   "source": [
    "columns_to_check, net_df, pf_results = run_test_cases(net, dataframes[\"branch\" if is_branch_test else \"bus\"], fault, case, fault_values, lv_tol_percents, fault_location_bus, is_branch_test)\n",
    "columns_to_check"
   ],
   "id": "a0bd832862167715",
   "outputs": [],
   "execution_count": null
  },
  {
   "metadata": {},
   "cell_type": "code",
   "source": "net_df[columns_to_check]",
   "id": "5deb3d3b95b917b8",
   "outputs": [],
   "execution_count": null
  },
  {
   "metadata": {},
   "cell_type": "code",
   "source": "pf_results[columns_to_check]",
   "id": "85d51cc846ecc0f7",
   "outputs": [],
   "execution_count": null
  },
  {
   "metadata": {},
   "cell_type": "code",
   "source": "dataframes['branch'][\"LLL_max_10\"]",
   "id": "29ff9488b4bab3d",
   "outputs": [],
   "execution_count": null
  },
  {
   "metadata": {},
   "cell_type": "code",
   "source": "compare_results(columns_to_check, net_df, pf_results)",
   "id": "eeb56cccc4b5956",
   "outputs": [],
   "execution_count": null
  },
  {
   "metadata": {},
   "cell_type": "markdown",
   "source": "# Test Case 3: Five bus meshed grid with static generator",
   "id": "f103a86f065d5efa"
  },
  {
   "metadata": {},
   "cell_type": "code",
   "source": [
    "net_name = \"3_five_bus_meshed_grid\"\n",
    "\n",
    "fault = \"LLG\"\n",
    "case = \"min\"\n",
    "fault_values = (5.0, 5.0)\n",
    "lv_tol_percents = 6\n",
    "fault_location_bus = 2\n",
    "is_branch_test = True\n",
    "sgen_idx = [3, 4]\n",
    "vector_group = 'Yyn'\n",
    "\n",
    "net, dataframes = load_test_case_data(net_name, fault_location_bus, vector_group, sgen_idx=sgen_idx)\n",
    "\n",
    "plot(net)"
   ],
   "id": "93d4223652fad5e",
   "outputs": [],
   "execution_count": null
  },
  {
   "metadata": {},
   "cell_type": "code",
   "source": [
    "columns_to_check, net_df, pf_results = run_test_cases(net, dataframes[\"branch\" if is_branch_test else \"bus\"], fault, case, fault_values, lv_tol_percents, fault_location_bus, is_branch_test)\n",
    "columns_to_check"
   ],
   "id": "4087f54c8e27d728",
   "outputs": [],
   "execution_count": null
  },
  {
   "metadata": {},
   "cell_type": "code",
   "source": "net_df[columns_to_check]",
   "id": "db89c7633c27acc9",
   "outputs": [],
   "execution_count": null
  },
  {
   "metadata": {},
   "cell_type": "code",
   "source": "pf_results[columns_to_check]",
   "id": "f60005ff4291e09b",
   "outputs": [],
   "execution_count": null
  },
  {
   "metadata": {},
   "cell_type": "code",
   "source": "dataframes['branch'][\"LLL_max_10\"]",
   "id": "ff5bb31f8957c169",
   "outputs": [],
   "execution_count": null
  },
  {
   "metadata": {},
   "cell_type": "code",
   "source": "compare_results(columns_to_check, net_df, pf_results)",
   "id": "1634b946a7250abc",
   "outputs": [],
   "execution_count": null
  },
  {
   "metadata": {},
   "cell_type": "markdown",
   "source": "# Test Case 4: Twenty bus radial grid with static generator",
   "id": "ee0130417f3c465d"
  },
  {
   "metadata": {},
   "cell_type": "code",
   "source": [
    "net_name = \"4_twenty_bus_radial_grid\"\n",
    "\n",
    "fault = \"LG\"\n",
    "case = \"max\"\n",
    "fault_values = (0.0, 0.0)\n",
    "lv_tol_percents = 10\n",
    "fault_location_bus = 8\n",
    "is_branch_test = True\n",
    "sgen_idx = [4, 7, 14, 19]\n",
    "vector_group = \"YNyn\"\n",
    "\n",
    "net, dataframes = load_test_case_data(net_name, fault_location_bus, vector_group, sgen_idx=sgen_idx)\n",
    "\n",
    "plot(net)"
   ],
   "id": "c2c6e5b7457808e5",
   "outputs": [],
   "execution_count": null
  },
  {
   "metadata": {},
   "cell_type": "code",
   "source": [
    "columns_to_check, net_df, pf_results = run_test_cases(net, dataframes[\"branch\" if is_branch_test else \"bus\"], fault, case, fault_values, lv_tol_percents, fault_location_bus, is_branch_test)\n",
    "columns_to_check"
   ],
   "id": "60c2c1833d7476c6",
   "outputs": [],
   "execution_count": null
  },
  {
   "metadata": {},
   "cell_type": "code",
   "source": "net_df[columns_to_check]",
   "id": "23bbe64b0fcf9253",
   "outputs": [],
   "execution_count": null
  },
  {
   "metadata": {},
   "cell_type": "code",
   "source": "pf_results[columns_to_check]",
   "id": "60051499857c5c80",
   "outputs": [],
   "execution_count": null
  },
  {
   "metadata": {},
   "cell_type": "code",
   "source": "dataframes['branch'][\"LLL_max_10\"]",
   "id": "b7ba4767c961f5cc",
   "outputs": [],
   "execution_count": null
  },
  {
   "metadata": {},
   "cell_type": "code",
   "source": "compare_results(columns_to_check, net_df, pf_results)",
   "id": "983cb81172c1ee5d",
   "outputs": [],
   "execution_count": null
  }
 ],
 "metadata": {},
 "nbformat": 4,
 "nbformat_minor": 5
}
