{
 "cells": [
  {
   "cell_type": "markdown",
   "id": "0b50c421",
   "metadata": {},
   "source": [
    "# Test LLL and LL fault for all test cases\n",
    "\n",
    "This Notebook shows exemplary tests that are implemented in the sce_test/test_all_faults_and_cases.py file.\n",
    "\n",
    "See: https://github.com/e2nIEE/pandapower/blob/sce/pandapower/test/shortcircuit/SCE_Tests/test_all_faults_and_cases.py\n",
    "\n",
    "Therefore it must be run in an environment where the pandapower test folders can be found by the jupyter server's python environment.\n",
    "This can be done by checking out the git branch sce in pandapower and locally initialize the repository by using pip install -e.\n",
    "\n",
    "Further information on running short-circuit calculations in pandapower can be found here:\n",
    "\n",
    "https://pandapower.readthedocs.io/en/latest/shortcircuit/run.html\n",
    "\n",
    "https://github.com/e2nIEE/pandapower/blob/sce/tutorials/shortcircuit/shortcircuit.ipynb"
   ]
  },
  {
   "cell_type": "code",
   "execution_count": 38,
   "id": "81e7194b",
   "metadata": {},
   "outputs": [],
   "source": [
    "import os\n",
    "from itertools import product\n",
    "import itertools\n",
    "import numpy as np\n",
    "\n",
    "from pandapower import pp_dir\n",
    "from pandapower.file_io import from_json\n",
    "from pandapower.test.shortcircuit.sce_tests.test_all_faults_and_cases import load_pf_results, modify_impedance_values_with_fault_value, check_pattern, load_test_case_data, run_test_cases, compare_results\n",
    "from pandapower.shortcircuit import calc_sc\n",
    "\n",
    "testfiles_path = os.path.join(pp_dir, 'test', 'shortcircuit', 'sce_tests')"
   ]
  },
  {
   "cell_type": "code",
   "execution_count": 39,
   "id": "d4aac372-8921-4092-a5c5-bdcf8430c0f1",
   "metadata": {},
   "outputs": [],
   "source": [
    "import warnings\n",
    "# Ignore all future warnings\n",
    "warnings.simplefilter(action='ignore', category=FutureWarning)\n",
    "# Ignore all runtime warnings\n",
    "warnings.simplefilter(action='ignore', category=RuntimeWarning)"
   ]
  },
  {
   "cell_type": "markdown",
   "id": "ed087ff7",
   "metadata": {},
   "source": [
    "From the defined parameters for faults, cases, network names and vector_groups as well as the values for r_faults and x_faults all combinations are generated to run as a test."
   ]
  },
  {
   "cell_type": "code",
   "execution_count": 40,
   "id": "01f0542f",
   "metadata": {},
   "outputs": [
    {
     "name": "stdout",
     "output_type": "stream",
     "text": [
      "Number of parameterization values: 128\n",
      "Number of parameterization value vectors: 1152\n",
      "Total number of tests: 1280\n"
     ]
    }
   ],
   "source": [
    "# Define common parameters\n",
    "net_names = [\n",
    "    \"test_case_2_five_bus_radial_grid\",\n",
    "    \"test_case_3_five_bus_meshed_grid\",\n",
    "    \"test_case_4_twenty_bus_radial_grid\"\n",
    "]\n",
    "faults = [\"LLL\", \"LL\"]\n",
    "cases = [\"max\", \"min\"]\n",
    "values = [(0.0, 0.0), (5.0, 5.0)]\n",
    "vector_groups = ['Dyn', 'Yyn', 'YNyn']\n",
    "lv_tol_percents = [6, 10]\n",
    "fault_location_buses = [0, 1, 2, 3]\n",
    "is_branch_test = [False, True]\n",
    "\n",
    "# Create parameter list\n",
    "parametrize_values = list(product(faults, cases, values, lv_tol_percents, fault_location_buses, is_branch_test))\n",
    "\n",
    "# Create parameter list with vector group\n",
    "parametrize_values_vector = list(product(net_names, faults, cases, values, lv_tol_percents, vector_groups, fault_location_buses, is_branch_test))\n",
    "\n",
    "total_test_count = len(parametrize_values)+len(parametrize_values_vector)\n",
    "formatted_output = (\n",
    "    f\"Number of parameterization values: {len(parametrize_values)}\\n\"\n",
    "    f\"Number of parameterization value vectors: {len(parametrize_values_vector)}\\n\"\n",
    "    f\"Total number of tests: {total_test_count}\"\n",
    ")\n",
    "print(formatted_output)"
   ]
  },
  {
   "cell_type": "markdown",
   "id": "79220b29",
   "metadata": {},
   "source": [
    "The `parametrize_values` list and the `parametrize_values_vector` contain combinations for the tests. There is one test using `parametrize_values` and three using `parametrize_values_vector`. Shown above are the amount of test for each of the lists as well as the total.\n",
    "\n",
    "In this Notebook we will only show a exemplary examples for each test case and vector group.\n",
    "The test will load the expected results from the corresponding excel file (exported from comemrcial powerfactory software results). Then the calculations are run in pandapower using the parmeters from the list of permutiation and compared against the expected results.\n",
    "However if you run the tests in here, you will be able to execute all 1.280 passing tests.\n",
    "\n",
    "https://github.com/e2nIEE/pandapower/blob/sce/pandapower/test/shortcircuit/SCE_Tests/test_all_faults_and_cases.py\n",
    "\n",
    "---\n",
    "\n",
    "## Test Case 1: Four bus radial grid"
   ]
  },
  {
   "cell_type": "markdown",
   "id": "9a49a6e2-f22c-4057-9fe1-ab061dce4465",
   "metadata": {},
   "source": [
    "![four_bus_radial](four_bus_radial.png)"
   ]
  },
  {
   "cell_type": "code",
   "execution_count": 41,
   "id": "d09c62bc",
   "metadata": {},
   "outputs": [],
   "source": [
    "net_name = \"test_case_1_four_bus_radial_grid\"\n",
    "\n",
    "fault = \"LLL\"\n",
    "case = \"max\"\n",
    "fault_values = (0.0, 0.0)\n",
    "# lv_tol_percents does not influence max case (default value is 10)\n",
    "lv_tol_percents = 10\n",
    "fault_location_bus = 0\n",
    "is_branch_test = False\n",
    "# vector group not necesarry as the grid does not contain a transformer\n",
    "\n",
    "# loading the network and testing data\n",
    "net, dataframes = load_test_case_data(net_name, fault_location_bus)"
   ]
  },
  {
   "cell_type": "markdown",
   "id": "b24b76c5-67d0-42e3-9185-799ef6550e45",
   "metadata": {},
   "source": [
    "These are all the test results that were exported from PowerFactory. Depending on the parameter combination, the corresponding dataframe is selected."
   ]
  },
  {
   "cell_type": "code",
   "execution_count": 42,
   "id": "d3951907-8915-40ce-b647-1fd56ac57332",
   "metadata": {
    "scrolled": true
   },
   "outputs": [
    {
     "data": {
      "text/html": [
       "<div>\n",
       "<style scoped>\n",
       "    .dataframe tbody tr th:only-of-type {\n",
       "        vertical-align: middle;\n",
       "    }\n",
       "\n",
       "    .dataframe tbody tr th {\n",
       "        vertical-align: top;\n",
       "    }\n",
       "\n",
       "    .dataframe thead th {\n",
       "        text-align: right;\n",
       "    }\n",
       "</style>\n",
       "<table border=\"1\" class=\"dataframe\">\n",
       "  <thead>\n",
       "    <tr style=\"text-align: right;\">\n",
       "      <th></th>\n",
       "      <th>name</th>\n",
       "      <th>ikss_ka</th>\n",
       "      <th>skss_mw</th>\n",
       "      <th>rk_ohm</th>\n",
       "      <th>xk_ohm</th>\n",
       "    </tr>\n",
       "  </thead>\n",
       "  <tbody>\n",
       "    <tr>\n",
       "      <th>0</th>\n",
       "      <td>Bus_0</td>\n",
       "      <td>2.886752</td>\n",
       "      <td>100.000006</td>\n",
       "      <td>0.437816</td>\n",
       "      <td>4.378163</td>\n",
       "    </tr>\n",
       "    <tr>\n",
       "      <th>1</th>\n",
       "      <td>Bus_1</td>\n",
       "      <td>0.000000</td>\n",
       "      <td>0.000000</td>\n",
       "      <td>0.000000</td>\n",
       "      <td>0.000000</td>\n",
       "    </tr>\n",
       "    <tr>\n",
       "      <th>2</th>\n",
       "      <td>Bus_2</td>\n",
       "      <td>0.000000</td>\n",
       "      <td>0.000000</td>\n",
       "      <td>0.000000</td>\n",
       "      <td>0.000000</td>\n",
       "    </tr>\n",
       "    <tr>\n",
       "      <th>3</th>\n",
       "      <td>Bus_3</td>\n",
       "      <td>0.000000</td>\n",
       "      <td>0.000000</td>\n",
       "      <td>0.000000</td>\n",
       "      <td>0.000000</td>\n",
       "    </tr>\n",
       "  </tbody>\n",
       "</table>\n",
       "</div>"
      ],
      "text/plain": [
       "    name   ikss_ka     skss_mw    rk_ohm    xk_ohm\n",
       "0  Bus_0  2.886752  100.000006  0.437816  4.378163\n",
       "1  Bus_1  0.000000    0.000000  0.000000  0.000000\n",
       "2  Bus_2  0.000000    0.000000  0.000000  0.000000\n",
       "3  Bus_3  0.000000    0.000000  0.000000  0.000000"
      ]
     },
     "execution_count": 42,
     "metadata": {},
     "output_type": "execute_result"
    }
   ],
   "source": [
    "dataframes[\"bus\"][\"LLL_max_10\"]"
   ]
  },
  {
   "cell_type": "markdown",
   "id": "b8debf78-1c33-454b-ad43-1fb855f62197",
   "metadata": {},
   "source": [
    "Let's now select the dataframe that we need in order to execute our first test case."
   ]
  },
  {
   "cell_type": "markdown",
   "id": "439f81a0-e379-4233-929e-1a16a1f6a451",
   "metadata": {},
   "source": [
    "With the loaded network and expected results we now can run the test to receive the dataframes and the columns that should be compared.\n",
    "\n",
    "Below is the list of columns that will be compared."
   ]
  },
  {
   "cell_type": "code",
   "execution_count": 43,
   "id": "f99f9392-4d23-4122-8303-17e24d00e427",
   "metadata": {},
   "outputs": [
    {
     "data": {
      "text/plain": [
       "Index(['ikss_ka', 'skss_mw', 'rk_ohm', 'xk_ohm'], dtype='object')"
      ]
     },
     "execution_count": 43,
     "metadata": {},
     "output_type": "execute_result"
    }
   ],
   "source": [
    "columns_to_check, net_df, pf_results = run_test_cases(net, dataframes[\"branch\" if is_branch_test else \"bus\"], fault, case, fault_values, lv_tol_percents, fault_location_bus, is_branch_test)\n",
    "columns_to_check"
   ]
  },
  {
   "cell_type": "code",
   "execution_count": 44,
   "id": "63ac03db-25e9-4907-88f2-43877c1a3758",
   "metadata": {},
   "outputs": [
    {
     "data": {
      "text/html": [
       "<div>\n",
       "<style scoped>\n",
       "    .dataframe tbody tr th:only-of-type {\n",
       "        vertical-align: middle;\n",
       "    }\n",
       "\n",
       "    .dataframe tbody tr th {\n",
       "        vertical-align: top;\n",
       "    }\n",
       "\n",
       "    .dataframe thead th {\n",
       "        text-align: right;\n",
       "    }\n",
       "</style>\n",
       "<table border=\"1\" class=\"dataframe\">\n",
       "  <thead>\n",
       "    <tr style=\"text-align: right;\">\n",
       "      <th></th>\n",
       "      <th>name</th>\n",
       "      <th>ikss_ka</th>\n",
       "      <th>skss_mw</th>\n",
       "      <th>rk_ohm</th>\n",
       "      <th>xk_ohm</th>\n",
       "    </tr>\n",
       "  </thead>\n",
       "  <tbody>\n",
       "    <tr>\n",
       "      <th>0</th>\n",
       "      <td>Bus_0</td>\n",
       "      <td>2.886751</td>\n",
       "      <td>100.0</td>\n",
       "      <td>0.437816</td>\n",
       "      <td>4.378164</td>\n",
       "    </tr>\n",
       "  </tbody>\n",
       "</table>\n",
       "</div>"
      ],
      "text/plain": [
       "    name   ikss_ka  skss_mw    rk_ohm    xk_ohm\n",
       "0  Bus_0  2.886751    100.0  0.437816  4.378164"
      ]
     },
     "execution_count": 44,
     "metadata": {},
     "output_type": "execute_result"
    }
   ],
   "source": [
    "net_df"
   ]
  },
  {
   "cell_type": "code",
   "execution_count": 45,
   "id": "500aba01-d8e1-4f2b-853d-831dd5352067",
   "metadata": {},
   "outputs": [
    {
     "data": {
      "text/html": [
       "<div>\n",
       "<style scoped>\n",
       "    .dataframe tbody tr th:only-of-type {\n",
       "        vertical-align: middle;\n",
       "    }\n",
       "\n",
       "    .dataframe tbody tr th {\n",
       "        vertical-align: top;\n",
       "    }\n",
       "\n",
       "    .dataframe thead th {\n",
       "        text-align: right;\n",
       "    }\n",
       "</style>\n",
       "<table border=\"1\" class=\"dataframe\">\n",
       "  <thead>\n",
       "    <tr style=\"text-align: right;\">\n",
       "      <th></th>\n",
       "      <th>name</th>\n",
       "      <th>ikss_ka</th>\n",
       "      <th>skss_mw</th>\n",
       "      <th>rk_ohm</th>\n",
       "      <th>xk_ohm</th>\n",
       "    </tr>\n",
       "  </thead>\n",
       "  <tbody>\n",
       "    <tr>\n",
       "      <th>0</th>\n",
       "      <td>Bus_0</td>\n",
       "      <td>2.886752</td>\n",
       "      <td>100.000006</td>\n",
       "      <td>0.437816</td>\n",
       "      <td>4.378163</td>\n",
       "    </tr>\n",
       "  </tbody>\n",
       "</table>\n",
       "</div>"
      ],
      "text/plain": [
       "    name   ikss_ka     skss_mw    rk_ohm    xk_ohm\n",
       "0  Bus_0  2.886752  100.000006  0.437816  4.378163"
      ]
     },
     "execution_count": 45,
     "metadata": {},
     "output_type": "execute_result"
    }
   ],
   "source": [
    "# dataframes[\"bus\"][\"LLL_max_10\"]\n",
    "pf_results"
   ]
  },
  {
   "cell_type": "markdown",
   "id": "9be37435-dd7c-4835-9408-b6ccd8742368",
   "metadata": {},
   "source": [
    "As you can see the results are matching and the comparison function will pass and not throw any errors."
   ]
  },
  {
   "cell_type": "code",
   "execution_count": 46,
   "id": "40f3efa3-bdba-4603-8a79-dc3947b254b9",
   "metadata": {},
   "outputs": [],
   "source": [
    "compare_results(columns_to_check, net_df, pf_results, is_branch_test)"
   ]
  },
  {
   "cell_type": "markdown",
   "id": "fc39fbeb-cd17-47ba-8fbe-b09dcb2ef3fd",
   "metadata": {},
   "source": [
    "## Test Case 2: Five bus radial grid"
   ]
  },
  {
   "cell_type": "markdown",
   "id": "74c213bc-3adf-47a9-8c49-7e6a8c0010d5",
   "metadata": {},
   "source": [
    "![five_bus_radial](five_bus_radial.png)"
   ]
  },
  {
   "cell_type": "code",
   "execution_count": 47,
   "id": "617b4e75-356d-425f-b55c-66966a91080d",
   "metadata": {},
   "outputs": [],
   "source": [
    "net_name = \"test_case_2_five_bus_radial_grid\"\n",
    "\n",
    "fault = \"LL\"\n",
    "case = \"min\"\n",
    "fault_values = (5.0, 5.0)\n",
    "lv_tol_percents = 6\n",
    "fault_location_bus = 3\n",
    "is_branch_test = True\n",
    "vector_group = 'Dyn'\n",
    "\n",
    "# loading the network and testing data\n",
    "net, dataframes = load_test_case_data(net_name, fault_location_bus, vector_group)"
   ]
  },
  {
   "cell_type": "code",
   "execution_count": 48,
   "id": "8526fbe4-33f9-4c46-bfae-591bf964b115",
   "metadata": {},
   "outputs": [
    {
     "data": {
      "text/plain": [
       "Index(['ikss_from_ka', 'ikss_to_ka', 'p_from_mw', 'q_from_mvar', 'p_to_mw',\n",
       "       'q_to_mvar', 'vm_from_pu', 'va_from_degree', 'vm_to_pu',\n",
       "       'va_to_degree'],\n",
       "      dtype='object')"
      ]
     },
     "execution_count": 48,
     "metadata": {},
     "output_type": "execute_result"
    }
   ],
   "source": [
    "columns_to_check, net_df, pf_results = run_test_cases(net, dataframes[\"branch\" if is_branch_test else \"bus\"], fault, case, fault_values, lv_tol_percents, fault_location_bus, is_branch_test)\n",
    "columns_to_check"
   ]
  },
  {
   "cell_type": "markdown",
   "id": "cc9a4aa9-8084-403d-ad69-73c86a609b5c",
   "metadata": {},
   "source": [
    "Note: The IEC 60909 standard does not require a phase angle of the short-circuit current for a two-phase short-circuit, only the effective current value. The standard does not provide for a calculation of the complex current, therefore no angle for ikss_from_degree and ikss_to_degree.\n",
    "Powerfactory uses a method that goes beyond the IEC 60909 standard to calculate the angles for LL, which might be implemented in pandapower as well."
   ]
  },
  {
   "cell_type": "code",
   "execution_count": 49,
   "id": "bb5fd375-d1e5-4a3c-aba0-1dc8020acab8",
   "metadata": {},
   "outputs": [
    {
     "data": {
      "text/html": [
       "<div>\n",
       "<style scoped>\n",
       "    .dataframe tbody tr th:only-of-type {\n",
       "        vertical-align: middle;\n",
       "    }\n",
       "\n",
       "    .dataframe tbody tr th {\n",
       "        vertical-align: top;\n",
       "    }\n",
       "\n",
       "    .dataframe thead th {\n",
       "        text-align: right;\n",
       "    }\n",
       "</style>\n",
       "<table border=\"1\" class=\"dataframe\">\n",
       "  <thead>\n",
       "    <tr style=\"text-align: right;\">\n",
       "      <th></th>\n",
       "      <th>name</th>\n",
       "      <th>ikss_ka</th>\n",
       "      <th>ikss_from_ka</th>\n",
       "      <th>ikss_from_degree</th>\n",
       "      <th>ikss_to_ka</th>\n",
       "      <th>ikss_to_degree</th>\n",
       "      <th>p_from_mw</th>\n",
       "      <th>q_from_mvar</th>\n",
       "      <th>p_to_mw</th>\n",
       "      <th>q_to_mvar</th>\n",
       "      <th>vm_from_pu</th>\n",
       "      <th>va_from_degree</th>\n",
       "      <th>vm_to_pu</th>\n",
       "      <th>va_to_degree</th>\n",
       "    </tr>\n",
       "  </thead>\n",
       "  <tbody>\n",
       "    <tr>\n",
       "      <th>0</th>\n",
       "      <td>Line_0</td>\n",
       "      <td>1.308134</td>\n",
       "      <td>1.308134</td>\n",
       "      <td>NaN</td>\n",
       "      <td>1.308134</td>\n",
       "      <td>NaN</td>\n",
       "      <td>NaN</td>\n",
       "      <td>NaN</td>\n",
       "      <td>NaN</td>\n",
       "      <td>NaN</td>\n",
       "      <td>NaN</td>\n",
       "      <td>NaN</td>\n",
       "      <td>NaN</td>\n",
       "      <td>NaN</td>\n",
       "    </tr>\n",
       "    <tr>\n",
       "      <th>1</th>\n",
       "      <td>Line_1</td>\n",
       "      <td>1.308134</td>\n",
       "      <td>1.308134</td>\n",
       "      <td>NaN</td>\n",
       "      <td>1.308134</td>\n",
       "      <td>NaN</td>\n",
       "      <td>NaN</td>\n",
       "      <td>NaN</td>\n",
       "      <td>NaN</td>\n",
       "      <td>NaN</td>\n",
       "      <td>NaN</td>\n",
       "      <td>NaN</td>\n",
       "      <td>NaN</td>\n",
       "      <td>NaN</td>\n",
       "    </tr>\n",
       "    <tr>\n",
       "      <th>2</th>\n",
       "      <td>Line_2</td>\n",
       "      <td>0.000000</td>\n",
       "      <td>0.000000</td>\n",
       "      <td>NaN</td>\n",
       "      <td>0.000000</td>\n",
       "      <td>NaN</td>\n",
       "      <td>NaN</td>\n",
       "      <td>NaN</td>\n",
       "      <td>NaN</td>\n",
       "      <td>NaN</td>\n",
       "      <td>NaN</td>\n",
       "      <td>NaN</td>\n",
       "      <td>NaN</td>\n",
       "      <td>NaN</td>\n",
       "    </tr>\n",
       "  </tbody>\n",
       "</table>\n",
       "</div>"
      ],
      "text/plain": [
       "     name   ikss_ka  ikss_from_ka  ikss_from_degree  ikss_to_ka  \\\n",
       "0  Line_0  1.308134      1.308134               NaN    1.308134   \n",
       "1  Line_1  1.308134      1.308134               NaN    1.308134   \n",
       "2  Line_2  0.000000      0.000000               NaN    0.000000   \n",
       "\n",
       "   ikss_to_degree  p_from_mw  q_from_mvar  p_to_mw  q_to_mvar  vm_from_pu  \\\n",
       "0             NaN        NaN          NaN      NaN        NaN         NaN   \n",
       "1             NaN        NaN          NaN      NaN        NaN         NaN   \n",
       "2             NaN        NaN          NaN      NaN        NaN         NaN   \n",
       "\n",
       "   va_from_degree  vm_to_pu  va_to_degree  \n",
       "0             NaN       NaN           NaN  \n",
       "1             NaN       NaN           NaN  \n",
       "2             NaN       NaN           NaN  "
      ]
     },
     "execution_count": 49,
     "metadata": {},
     "output_type": "execute_result"
    }
   ],
   "source": [
    "net_df"
   ]
  },
  {
   "cell_type": "code",
   "execution_count": 50,
   "id": "45cb5fa1-af9a-49c6-8186-da3137a6264a",
   "metadata": {},
   "outputs": [
    {
     "data": {
      "text/html": [
       "<div>\n",
       "<style scoped>\n",
       "    .dataframe tbody tr th:only-of-type {\n",
       "        vertical-align: middle;\n",
       "    }\n",
       "\n",
       "    .dataframe tbody tr th {\n",
       "        vertical-align: top;\n",
       "    }\n",
       "\n",
       "    .dataframe thead th {\n",
       "        text-align: right;\n",
       "    }\n",
       "</style>\n",
       "<table border=\"1\" class=\"dataframe\">\n",
       "  <thead>\n",
       "    <tr style=\"text-align: right;\">\n",
       "      <th></th>\n",
       "      <th>name</th>\n",
       "      <th>ikss_ka</th>\n",
       "      <th>ikss_from_ka</th>\n",
       "      <th>ikss_from_degree</th>\n",
       "      <th>ikss_to_ka</th>\n",
       "      <th>ikss_to_degree</th>\n",
       "      <th>p_from_mw</th>\n",
       "      <th>q_from_mvar</th>\n",
       "      <th>p_to_mw</th>\n",
       "      <th>q_to_mvar</th>\n",
       "      <th>vm_from_pu</th>\n",
       "      <th>va_from_degree</th>\n",
       "      <th>vm_to_pu</th>\n",
       "      <th>va_to_degree</th>\n",
       "    </tr>\n",
       "  </thead>\n",
       "  <tbody>\n",
       "    <tr>\n",
       "      <th>0</th>\n",
       "      <td>Line_0</td>\n",
       "      <td>1.308134</td>\n",
       "      <td>1.308134</td>\n",
       "      <td>37.108863</td>\n",
       "      <td>1.308134</td>\n",
       "      <td>-142.891137</td>\n",
       "      <td>1.671931e+00</td>\n",
       "      <td>1.085394e+01</td>\n",
       "      <td>3.654599e-02</td>\n",
       "      <td>-9.844324e+00</td>\n",
       "      <td>0.860060</td>\n",
       "      <td>118.351903</td>\n",
       "      <td>0.859268</td>\n",
       "      <td>127.321567</td>\n",
       "    </tr>\n",
       "    <tr>\n",
       "      <th>1</th>\n",
       "      <td>Line_1</td>\n",
       "      <td>1.308134</td>\n",
       "      <td>1.308134</td>\n",
       "      <td>-142.891137</td>\n",
       "      <td>1.308134</td>\n",
       "      <td>37.108863</td>\n",
       "      <td>1.745023e+00</td>\n",
       "      <td>-8.834708e+00</td>\n",
       "      <td>-3.654598e-02</td>\n",
       "      <td>9.844324e+00</td>\n",
       "      <td>0.865151</td>\n",
       "      <td>138.282050</td>\n",
       "      <td>0.859268</td>\n",
       "      <td>127.321567</td>\n",
       "    </tr>\n",
       "    <tr>\n",
       "      <th>2</th>\n",
       "      <td>Line_2</td>\n",
       "      <td>0.000000</td>\n",
       "      <td>0.000000</td>\n",
       "      <td>0.000000</td>\n",
       "      <td>0.000000</td>\n",
       "      <td>0.000000</td>\n",
       "      <td>8.127625e-10</td>\n",
       "      <td>3.045348e-10</td>\n",
       "      <td>-8.127640e-10</td>\n",
       "      <td>-3.045379e-10</td>\n",
       "      <td>0.859268</td>\n",
       "      <td>127.321567</td>\n",
       "      <td>0.859268</td>\n",
       "      <td>127.321567</td>\n",
       "    </tr>\n",
       "  </tbody>\n",
       "</table>\n",
       "</div>"
      ],
      "text/plain": [
       "     name   ikss_ka  ikss_from_ka  ikss_from_degree  ikss_to_ka  \\\n",
       "0  Line_0  1.308134      1.308134         37.108863    1.308134   \n",
       "1  Line_1  1.308134      1.308134       -142.891137    1.308134   \n",
       "2  Line_2  0.000000      0.000000          0.000000    0.000000   \n",
       "\n",
       "   ikss_to_degree     p_from_mw   q_from_mvar       p_to_mw     q_to_mvar  \\\n",
       "0     -142.891137  1.671931e+00  1.085394e+01  3.654599e-02 -9.844324e+00   \n",
       "1       37.108863  1.745023e+00 -8.834708e+00 -3.654598e-02  9.844324e+00   \n",
       "2        0.000000  8.127625e-10  3.045348e-10 -8.127640e-10 -3.045379e-10   \n",
       "\n",
       "   vm_from_pu  va_from_degree  vm_to_pu  va_to_degree  \n",
       "0    0.860060      118.351903  0.859268    127.321567  \n",
       "1    0.865151      138.282050  0.859268    127.321567  \n",
       "2    0.859268      127.321567  0.859268    127.321567  "
      ]
     },
     "execution_count": 50,
     "metadata": {},
     "output_type": "execute_result"
    }
   ],
   "source": [
    "# dataframes[\"branch\"][\"LL_min_fault_6\"]\n",
    "pf_results"
   ]
  },
  {
   "cell_type": "code",
   "execution_count": 51,
   "id": "d7027ce8-854b-4a59-ad7c-8bd6fdb868f1",
   "metadata": {},
   "outputs": [],
   "source": [
    "compare_results(columns_to_check, net_df, pf_results, is_branch_test)"
   ]
  },
  {
   "cell_type": "markdown",
   "id": "faff1aff-c173-409e-9091-d15d4ca2dfeb",
   "metadata": {},
   "source": [
    "## Test Case 3: Five bus meshed grid"
   ]
  },
  {
   "cell_type": "markdown",
   "id": "c757b753-602e-48f3-82bc-33c66b2a5ed3",
   "metadata": {},
   "source": [
    "![five_bus_meshed](five_bus_meshed.png)"
   ]
  },
  {
   "cell_type": "code",
   "execution_count": 52,
   "id": "15bdede5-8a3e-4bb8-94b5-bee443226560",
   "metadata": {},
   "outputs": [],
   "source": [
    "net_name = \"test_case_3_five_bus_meshed_grid\"\n",
    "\n",
    "fault = \"LLL\"\n",
    "case = \"min\"\n",
    "fault_values = (5.0, 5.0)\n",
    "lv_tol_percents = 6\n",
    "fault_location_bus = 2\n",
    "is_branch_test = True\n",
    "vector_group = 'Yyn'\n",
    "\n",
    "# loading the network and testing data\n",
    "net, dataframes = load_test_case_data(net_name, fault_location_bus, vector_group)"
   ]
  },
  {
   "cell_type": "code",
   "execution_count": 53,
   "id": "efe236eb-8f6a-45fa-b193-9f5e8f571527",
   "metadata": {},
   "outputs": [
    {
     "data": {
      "text/plain": [
       "Index(['ikss_ka', 'ikss_from_ka', 'ikss_from_degree', 'ikss_to_ka',\n",
       "       'ikss_to_degree', 'p_from_mw', 'q_from_mvar', 'p_to_mw', 'q_to_mvar',\n",
       "       'vm_from_pu', 'va_from_degree', 'vm_to_pu', 'va_to_degree'],\n",
       "      dtype='object')"
      ]
     },
     "execution_count": 53,
     "metadata": {},
     "output_type": "execute_result"
    }
   ],
   "source": [
    "columns_to_check, net_df, pf_results = run_test_cases(net, dataframes[\"branch\" if is_branch_test else \"bus\"], fault, case, fault_values, lv_tol_percents, fault_location_bus, is_branch_test)\n",
    "columns_to_check"
   ]
  },
  {
   "cell_type": "code",
   "execution_count": 54,
   "id": "3cd46630-0c0d-40fb-9da2-f0f6429de9b8",
   "metadata": {},
   "outputs": [
    {
     "data": {
      "text/html": [
       "<div>\n",
       "<style scoped>\n",
       "    .dataframe tbody tr th:only-of-type {\n",
       "        vertical-align: middle;\n",
       "    }\n",
       "\n",
       "    .dataframe tbody tr th {\n",
       "        vertical-align: top;\n",
       "    }\n",
       "\n",
       "    .dataframe thead th {\n",
       "        text-align: right;\n",
       "    }\n",
       "</style>\n",
       "<table border=\"1\" class=\"dataframe\">\n",
       "  <thead>\n",
       "    <tr style=\"text-align: right;\">\n",
       "      <th></th>\n",
       "      <th>name</th>\n",
       "      <th>ikss_ka</th>\n",
       "      <th>ikss_from_ka</th>\n",
       "      <th>ikss_from_degree</th>\n",
       "      <th>ikss_to_ka</th>\n",
       "      <th>ikss_to_degree</th>\n",
       "      <th>p_from_mw</th>\n",
       "      <th>q_from_mvar</th>\n",
       "      <th>p_to_mw</th>\n",
       "      <th>q_to_mvar</th>\n",
       "      <th>vm_from_pu</th>\n",
       "      <th>va_from_degree</th>\n",
       "      <th>vm_to_pu</th>\n",
       "      <th>va_to_degree</th>\n",
       "    </tr>\n",
       "  </thead>\n",
       "  <tbody>\n",
       "    <tr>\n",
       "      <th>0</th>\n",
       "      <td>Line_0</td>\n",
       "      <td>1.146247</td>\n",
       "      <td>1.146247</td>\n",
       "      <td>-52.634345</td>\n",
       "      <td>1.146247</td>\n",
       "      <td>127.365655</td>\n",
       "      <td>23.643589</td>\n",
       "      <td>22.033819</td>\n",
       "      <td>-19.708246</td>\n",
       "      <td>-19.708246</td>\n",
       "      <td>0.81393</td>\n",
       "      <td>-9.652736</td>\n",
       "      <td>0.70193</td>\n",
       "      <td>-7.634345</td>\n",
       "    </tr>\n",
       "    <tr>\n",
       "      <th>1</th>\n",
       "      <td>Line_1</td>\n",
       "      <td>0.000000</td>\n",
       "      <td>0.000000</td>\n",
       "      <td>0.000000</td>\n",
       "      <td>0.000000</td>\n",
       "      <td>0.000000</td>\n",
       "      <td>0.000000</td>\n",
       "      <td>-0.000000</td>\n",
       "      <td>0.000000</td>\n",
       "      <td>-0.000000</td>\n",
       "      <td>0.70193</td>\n",
       "      <td>-7.634345</td>\n",
       "      <td>0.70193</td>\n",
       "      <td>-7.634345</td>\n",
       "    </tr>\n",
       "    <tr>\n",
       "      <th>2</th>\n",
       "      <td>Line_2</td>\n",
       "      <td>0.000000</td>\n",
       "      <td>0.000000</td>\n",
       "      <td>0.000000</td>\n",
       "      <td>0.000000</td>\n",
       "      <td>0.000000</td>\n",
       "      <td>0.000000</td>\n",
       "      <td>-0.000000</td>\n",
       "      <td>0.000000</td>\n",
       "      <td>-0.000000</td>\n",
       "      <td>0.70193</td>\n",
       "      <td>-7.634345</td>\n",
       "      <td>0.70193</td>\n",
       "      <td>-7.634345</td>\n",
       "    </tr>\n",
       "    <tr>\n",
       "      <th>3</th>\n",
       "      <td>Line_4</td>\n",
       "      <td>0.000000</td>\n",
       "      <td>0.000000</td>\n",
       "      <td>0.000000</td>\n",
       "      <td>0.000000</td>\n",
       "      <td>0.000000</td>\n",
       "      <td>0.000000</td>\n",
       "      <td>-0.000000</td>\n",
       "      <td>0.000000</td>\n",
       "      <td>-0.000000</td>\n",
       "      <td>0.70193</td>\n",
       "      <td>-7.634345</td>\n",
       "      <td>0.70193</td>\n",
       "      <td>-7.634345</td>\n",
       "    </tr>\n",
       "  </tbody>\n",
       "</table>\n",
       "</div>"
      ],
      "text/plain": [
       "     name   ikss_ka  ikss_from_ka  ikss_from_degree  ikss_to_ka  \\\n",
       "0  Line_0  1.146247      1.146247        -52.634345    1.146247   \n",
       "1  Line_1  0.000000      0.000000          0.000000    0.000000   \n",
       "2  Line_2  0.000000      0.000000          0.000000    0.000000   \n",
       "3  Line_4  0.000000      0.000000          0.000000    0.000000   \n",
       "\n",
       "   ikss_to_degree  p_from_mw  q_from_mvar    p_to_mw  q_to_mvar  vm_from_pu  \\\n",
       "0      127.365655  23.643589    22.033819 -19.708246 -19.708246     0.81393   \n",
       "1        0.000000   0.000000    -0.000000   0.000000  -0.000000     0.70193   \n",
       "2        0.000000   0.000000    -0.000000   0.000000  -0.000000     0.70193   \n",
       "3        0.000000   0.000000    -0.000000   0.000000  -0.000000     0.70193   \n",
       "\n",
       "   va_from_degree  vm_to_pu  va_to_degree  \n",
       "0       -9.652736   0.70193     -7.634345  \n",
       "1       -7.634345   0.70193     -7.634345  \n",
       "2       -7.634345   0.70193     -7.634345  \n",
       "3       -7.634345   0.70193     -7.634345  "
      ]
     },
     "execution_count": 54,
     "metadata": {},
     "output_type": "execute_result"
    }
   ],
   "source": [
    "net_df"
   ]
  },
  {
   "cell_type": "code",
   "execution_count": 55,
   "id": "75299bc8-8a69-4490-8a86-5c8386d89ea3",
   "metadata": {},
   "outputs": [
    {
     "data": {
      "text/html": [
       "<div>\n",
       "<style scoped>\n",
       "    .dataframe tbody tr th:only-of-type {\n",
       "        vertical-align: middle;\n",
       "    }\n",
       "\n",
       "    .dataframe tbody tr th {\n",
       "        vertical-align: top;\n",
       "    }\n",
       "\n",
       "    .dataframe thead th {\n",
       "        text-align: right;\n",
       "    }\n",
       "</style>\n",
       "<table border=\"1\" class=\"dataframe\">\n",
       "  <thead>\n",
       "    <tr style=\"text-align: right;\">\n",
       "      <th></th>\n",
       "      <th>name</th>\n",
       "      <th>ikss_ka</th>\n",
       "      <th>ikss_from_ka</th>\n",
       "      <th>ikss_from_degree</th>\n",
       "      <th>ikss_to_ka</th>\n",
       "      <th>ikss_to_degree</th>\n",
       "      <th>p_from_mw</th>\n",
       "      <th>q_from_mvar</th>\n",
       "      <th>p_to_mw</th>\n",
       "      <th>q_to_mvar</th>\n",
       "      <th>vm_from_pu</th>\n",
       "      <th>va_from_degree</th>\n",
       "      <th>vm_to_pu</th>\n",
       "      <th>va_to_degree</th>\n",
       "    </tr>\n",
       "  </thead>\n",
       "  <tbody>\n",
       "    <tr>\n",
       "      <th>0</th>\n",
       "      <td>Line_0</td>\n",
       "      <td>1.146247</td>\n",
       "      <td>1.146247</td>\n",
       "      <td>-52.634345</td>\n",
       "      <td>1.146247</td>\n",
       "      <td>127.365655</td>\n",
       "      <td>23.643589</td>\n",
       "      <td>22.033819</td>\n",
       "      <td>-1.970825e+01</td>\n",
       "      <td>-1.970825e+01</td>\n",
       "      <td>0.81393</td>\n",
       "      <td>-9.652736</td>\n",
       "      <td>0.70193</td>\n",
       "      <td>-7.634345</td>\n",
       "    </tr>\n",
       "    <tr>\n",
       "      <th>1</th>\n",
       "      <td>Line_1</td>\n",
       "      <td>0.000000</td>\n",
       "      <td>0.000000</td>\n",
       "      <td>0.000000</td>\n",
       "      <td>0.000000</td>\n",
       "      <td>0.000000</td>\n",
       "      <td>0.000000</td>\n",
       "      <td>0.000000</td>\n",
       "      <td>-2.233007e-09</td>\n",
       "      <td>1.025774e-09</td>\n",
       "      <td>0.70193</td>\n",
       "      <td>-7.634345</td>\n",
       "      <td>0.70193</td>\n",
       "      <td>-7.634345</td>\n",
       "    </tr>\n",
       "    <tr>\n",
       "      <th>2</th>\n",
       "      <td>Line_2</td>\n",
       "      <td>0.000000</td>\n",
       "      <td>0.000000</td>\n",
       "      <td>0.000000</td>\n",
       "      <td>0.000000</td>\n",
       "      <td>0.000000</td>\n",
       "      <td>0.000000</td>\n",
       "      <td>0.000000</td>\n",
       "      <td>-2.233008e-09</td>\n",
       "      <td>1.025769e-09</td>\n",
       "      <td>0.70193</td>\n",
       "      <td>-7.634345</td>\n",
       "      <td>0.70193</td>\n",
       "      <td>-7.634345</td>\n",
       "    </tr>\n",
       "    <tr>\n",
       "      <th>3</th>\n",
       "      <td>Line_4</td>\n",
       "      <td>0.000000</td>\n",
       "      <td>0.000000</td>\n",
       "      <td>0.000000</td>\n",
       "      <td>0.000000</td>\n",
       "      <td>0.000000</td>\n",
       "      <td>0.000000</td>\n",
       "      <td>0.000000</td>\n",
       "      <td>0.000000e+00</td>\n",
       "      <td>0.000000e+00</td>\n",
       "      <td>0.70193</td>\n",
       "      <td>-7.634345</td>\n",
       "      <td>0.70193</td>\n",
       "      <td>-7.634345</td>\n",
       "    </tr>\n",
       "  </tbody>\n",
       "</table>\n",
       "</div>"
      ],
      "text/plain": [
       "     name   ikss_ka  ikss_from_ka  ikss_from_degree  ikss_to_ka  \\\n",
       "0  Line_0  1.146247      1.146247        -52.634345    1.146247   \n",
       "1  Line_1  0.000000      0.000000          0.000000    0.000000   \n",
       "2  Line_2  0.000000      0.000000          0.000000    0.000000   \n",
       "3  Line_4  0.000000      0.000000          0.000000    0.000000   \n",
       "\n",
       "   ikss_to_degree  p_from_mw  q_from_mvar       p_to_mw     q_to_mvar  \\\n",
       "0      127.365655  23.643589    22.033819 -1.970825e+01 -1.970825e+01   \n",
       "1        0.000000   0.000000     0.000000 -2.233007e-09  1.025774e-09   \n",
       "2        0.000000   0.000000     0.000000 -2.233008e-09  1.025769e-09   \n",
       "3        0.000000   0.000000     0.000000  0.000000e+00  0.000000e+00   \n",
       "\n",
       "   vm_from_pu  va_from_degree  vm_to_pu  va_to_degree  \n",
       "0     0.81393       -9.652736   0.70193     -7.634345  \n",
       "1     0.70193       -7.634345   0.70193     -7.634345  \n",
       "2     0.70193       -7.634345   0.70193     -7.634345  \n",
       "3     0.70193       -7.634345   0.70193     -7.634345  "
      ]
     },
     "execution_count": 55,
     "metadata": {},
     "output_type": "execute_result"
    }
   ],
   "source": [
    "# dataframes[\"branch\"][\"LLL_min_fault_6\"]\n",
    "pf_results"
   ]
  },
  {
   "cell_type": "code",
   "execution_count": 56,
   "id": "9acaeda9-af51-4598-905e-32e050ceb822",
   "metadata": {},
   "outputs": [],
   "source": [
    "compare_results(columns_to_check, net_df, pf_results, is_branch_test)"
   ]
  },
  {
   "cell_type": "markdown",
   "id": "23e6c72b-529a-4cd4-90e3-b6f26d9c29b8",
   "metadata": {},
   "source": [
    "## Test Case 4: Twenty bus radial grid"
   ]
  },
  {
   "cell_type": "markdown",
   "id": "fa4ef632-9f31-422a-99b1-c32b685ac287",
   "metadata": {},
   "source": [
    "![twenty_bus_grid](twenty_bus_grid.png)"
   ]
  },
  {
   "cell_type": "code",
   "execution_count": 57,
   "id": "4de7f451-24c0-425d-8169-b78650be3acf",
   "metadata": {},
   "outputs": [],
   "source": [
    "net_name = \"test_case_4_twenty_bus_radial_grid\"\n",
    "\n",
    "fault = \"LL\"\n",
    "case = \"max\"\n",
    "fault_values = (0.0, 0.0)\n",
    "lv_tol_percents = 10\n",
    "fault_location_bus = 3\n",
    "is_branch_test = False\n",
    "vector_group = 'YNyn'\n",
    "\n",
    "# loading the network and testing data\n",
    "net, dataframes = load_test_case_data(net_name, fault_location_bus, vector_group)"
   ]
  },
  {
   "cell_type": "code",
   "execution_count": 58,
   "id": "ef571400-ca6f-4e13-b53d-d855c3876156",
   "metadata": {},
   "outputs": [
    {
     "data": {
      "text/plain": [
       "Index(['ikss_ka', 'skss_mw', 'rk_ohm', 'xk_ohm'], dtype='object')"
      ]
     },
     "execution_count": 58,
     "metadata": {},
     "output_type": "execute_result"
    }
   ],
   "source": [
    "columns_to_check, net_df, pf_results = run_test_cases(net, dataframes[\"branch\" if is_branch_test else \"bus\"], fault, case, fault_values, lv_tol_percents, fault_location_bus, is_branch_test)\n",
    "columns_to_check"
   ]
  },
  {
   "cell_type": "code",
   "execution_count": 59,
   "id": "82ec1e9e-6a29-41ae-a5c0-04271a8d34d7",
   "metadata": {},
   "outputs": [
    {
     "data": {
      "text/html": [
       "<div>\n",
       "<style scoped>\n",
       "    .dataframe tbody tr th:only-of-type {\n",
       "        vertical-align: middle;\n",
       "    }\n",
       "\n",
       "    .dataframe tbody tr th {\n",
       "        vertical-align: top;\n",
       "    }\n",
       "\n",
       "    .dataframe thead th {\n",
       "        text-align: right;\n",
       "    }\n",
       "</style>\n",
       "<table border=\"1\" class=\"dataframe\">\n",
       "  <thead>\n",
       "    <tr style=\"text-align: right;\">\n",
       "      <th></th>\n",
       "      <th>name</th>\n",
       "      <th>ikss_ka</th>\n",
       "      <th>skss_mw</th>\n",
       "      <th>rk_ohm</th>\n",
       "      <th>xk_ohm</th>\n",
       "    </tr>\n",
       "  </thead>\n",
       "  <tbody>\n",
       "    <tr>\n",
       "      <th>3</th>\n",
       "      <td>3</td>\n",
       "      <td>4.792197</td>\n",
       "      <td>1.10671</td>\n",
       "      <td>0.012035</td>\n",
       "      <td>0.044302</td>\n",
       "    </tr>\n",
       "  </tbody>\n",
       "</table>\n",
       "</div>"
      ],
      "text/plain": [
       "  name   ikss_ka  skss_mw    rk_ohm    xk_ohm\n",
       "3    3  4.792197  1.10671  0.012035  0.044302"
      ]
     },
     "execution_count": 59,
     "metadata": {},
     "output_type": "execute_result"
    }
   ],
   "source": [
    "net_df"
   ]
  },
  {
   "cell_type": "code",
   "execution_count": 60,
   "id": "6c028f01-be20-4f96-be34-de63ebce3363",
   "metadata": {},
   "outputs": [
    {
     "data": {
      "text/html": [
       "<div>\n",
       "<style scoped>\n",
       "    .dataframe tbody tr th:only-of-type {\n",
       "        vertical-align: middle;\n",
       "    }\n",
       "\n",
       "    .dataframe tbody tr th {\n",
       "        vertical-align: top;\n",
       "    }\n",
       "\n",
       "    .dataframe thead th {\n",
       "        text-align: right;\n",
       "    }\n",
       "</style>\n",
       "<table border=\"1\" class=\"dataframe\">\n",
       "  <thead>\n",
       "    <tr style=\"text-align: right;\">\n",
       "      <th></th>\n",
       "      <th>name</th>\n",
       "      <th>ikss_ka</th>\n",
       "      <th>skss_mw</th>\n",
       "      <th>rk_ohm</th>\n",
       "      <th>xk_ohm</th>\n",
       "    </tr>\n",
       "  </thead>\n",
       "  <tbody>\n",
       "    <tr>\n",
       "      <th>13</th>\n",
       "      <td>3</td>\n",
       "      <td>4.792197</td>\n",
       "      <td>1.106711</td>\n",
       "      <td>0.012035</td>\n",
       "      <td>0.044302</td>\n",
       "    </tr>\n",
       "  </tbody>\n",
       "</table>\n",
       "</div>"
      ],
      "text/plain": [
       "   name   ikss_ka   skss_mw    rk_ohm    xk_ohm\n",
       "13    3  4.792197  1.106711  0.012035  0.044302"
      ]
     },
     "execution_count": 60,
     "metadata": {},
     "output_type": "execute_result"
    }
   ],
   "source": [
    "# dataframes[\"bus\"][\"LL_max_10\"]\n",
    "pf_results"
   ]
  },
  {
   "cell_type": "code",
   "execution_count": 61,
   "id": "847cd3c1-63b2-4135-8c84-1bc6368a83df",
   "metadata": {},
   "outputs": [],
   "source": [
    "compare_results(columns_to_check, net_df, pf_results, is_branch_test)"
   ]
  },
  {
   "cell_type": "code",
   "execution_count": null,
   "id": "76b1c9c9-387d-45f3-a9de-105af0dc53c3",
   "metadata": {},
   "outputs": [],
   "source": []
  }
 ],
 "metadata": {
  "kernelspec": {
   "display_name": "Python 3 (ipykernel)",
   "language": "python",
   "name": "python3"
  },
  "language_info": {
   "codemirror_mode": {
    "name": "ipython",
    "version": 3
   },
   "file_extension": ".py",
   "mimetype": "text/x-python",
   "name": "python",
   "nbconvert_exporter": "python",
   "pygments_lexer": "ipython3",
   "version": "3.12.11"
  }
 },
 "nbformat": 4,
 "nbformat_minor": 5
}
