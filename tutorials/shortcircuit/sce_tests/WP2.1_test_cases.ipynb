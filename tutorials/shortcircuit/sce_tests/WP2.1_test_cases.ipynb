{
 "cells": [
  {
   "cell_type": "markdown",
   "id": "0b50c421",
   "metadata": {},
   "source": [
    "# WP2.1 - Short circuit on three-phase passive grids\n",
    "\n",
    "This Notebook shows exemplary tests that are implemented in the sce_test/test_all_faults_and_cases.py file.\n",
    "\n",
    "See: https://github.com/e2nIEE/pandapower/blob/sce/pandapower/test/shortcircuit/SCE_Tests/test_all_faults_and_cases.py\n",
    "\n",
    "Therefore it must be run in an environment where the pandapower test folders can be found by the jupyter server's python environment.\n",
    "This can be done by checking out the git branch sce in pandapower and locally initializing the repository by using pip install -e.\n",
    "\n",
    "Further information on running short-circuit calculations in pandapower can be found here:\n",
    "\n",
    "https://pandapower.readthedocs.io/en/latest/shortcircuit/run.html\n",
    "\n",
    "https://github.com/e2nIEE/pandapower/blob/sce/tutorials/shortcircuit/shortcircuit.ipynb"
   ]
  },
  {
   "cell_type": "code",
   "execution_count": 1,
   "id": "81e7194b",
   "metadata": {
    "ExecuteTime": {
     "end_time": "2025-06-18T14:32:32.613563Z",
     "start_time": "2025-06-18T14:32:32.608580Z"
    }
   },
   "outputs": [],
   "source": [
    "import os\n",
    "from itertools import product\n",
    "import itertools\n",
    "import numpy as np\n",
    "\n",
    "from pandapower import pp_dir\n",
    "from pandapower.file_io import from_json\n",
    "from pandapower.test.shortcircuit.SCE_Tests.test_all_faults_and_cases import load_pf_results, modify_impedance_values_with_fault_value, check_pattern, load_test_case_data, run_test_cases, compare_results\n",
    "from pandapower.shortcircuit import calc_sc\n",
    "\n",
    "testfiles_path = os.path.join(pp_dir, 'test', 'shortcircuit', 'sce_tests')"
   ]
  },
  {
   "cell_type": "code",
   "execution_count": 2,
   "id": "d4aac372-8921-4092-a5c5-bdcf8430c0f1",
   "metadata": {
    "ExecuteTime": {
     "end_time": "2025-06-18T14:32:32.650915Z",
     "start_time": "2025-06-18T14:32:32.647093Z"
    }
   },
   "outputs": [],
   "source": [
    "import warnings\n",
    "# Ignore all future warnings\n",
    "warnings.simplefilter(action='ignore', category=FutureWarning)\n",
    "# Ignore all runtime warnings\n",
    "warnings.simplefilter(action='ignore', category=RuntimeWarning)"
   ]
  },
  {
   "cell_type": "markdown",
   "id": "ed087ff7",
   "metadata": {},
   "source": [
    "From the defined parameters for faults, cases, network names and vector_groups as well as the values for r_faults and x_faults all combinations are generated to run as a test."
   ]
  },
  {
   "cell_type": "code",
   "execution_count": 4,
   "id": "01f0542f",
   "metadata": {
    "ExecuteTime": {
     "end_time": "2025-06-18T14:32:32.726162Z",
     "start_time": "2025-06-18T14:32:32.717286Z"
    }
   },
   "outputs": [
    {
     "name": "stdout",
     "output_type": "stream",
     "text": [
      "Number of parameterization values: 256\n",
      "Number of parameterization value vectors: 2304\n",
      "Total number of tests: 2560\n"
     ]
    }
   ],
   "source": [
    "# Define common parameters\n",
    "net_names = [\n",
    "    \"test_case_2_five_bus_radial_grid\",\n",
    "    \"test_case_3_five_bus_meshed_grid\",\n",
    "    \"test_case_4_twenty_bus_radial_grid\"\n",
    "]\n",
    "faults = [\"LLL\", \"LL\", \"LLG\", \"LG\"]\n",
    "cases = [\"max\", \"min\"]\n",
    "values = [(0.0, 0.0), (5.0, 5.0)]\n",
    "vector_groups = ['Dyn', 'Yyn', 'YNyn']\n",
    "lv_tol_percents = [6, 10]\n",
    "fault_location_buses = [0, 1, 2, 3]\n",
    "is_branch_test = [False, True]\n",
    "\n",
    "# Create parameter list\n",
    "parametrize_values = list(product(faults, cases, values, lv_tol_percents, fault_location_buses, is_branch_test))\n",
    "\n",
    "# Create parameter list with vector group\n",
    "parametrize_values_vector = list(product(net_names, faults, cases, values, lv_tol_percents, vector_groups, fault_location_buses, is_branch_test))\n",
    "\n",
    "total_test_count = len(parametrize_values)+len(parametrize_values_vector)\n",
    "formatted_output = (\n",
    "    f\"Number of parameterization values: {len(parametrize_values)}\\n\"\n",
    "    f\"Number of parameterization value vectors: {len(parametrize_values_vector)}\\n\"\n",
    "    f\"Total number of tests: {total_test_count}\"\n",
    ")\n",
    "print(formatted_output)"
   ]
  },
  {
   "cell_type": "markdown",
   "id": "79220b29",
   "metadata": {},
   "source": [
    "The `parametrize_values` list and the `parametrize_values_vector` contain combinations for the tests. There is one test using `parametrize_values` and three using `parametrize_values_vector`. Shown above are the amount of test for each of the lists as well as the total.\n",
    "\n",
    "In this Notebook we will only show a exemplary examples for each test case and vector group.\n",
    "The test will load the expected results from the corresponding excel file (exported from commercial PowerFactory software results). Then the calculations are run in pandapower using the parameters from the list of permutiation and compared against the expected results.\n",
    "Running the tests in the file below, it is possible to execute the complete list of tests.\n",
    "\n",
    "https://github.com/e2nIEE/pandapower/blob/sce/pandapower/test/shortcircuit/SCE_Tests/test_all_faults_and_cases.py\n",
    "\n",
    "---\n",
    "\n",
    "## Test Case 1: Four bus radial grid"
   ]
  },
  {
   "cell_type": "markdown",
   "id": "9a49a6e2-f22c-4057-9fe1-ab061dce4465",
   "metadata": {},
   "source": [
    "![four_bus_radial](four_bus_radial.png)"
   ]
  },
  {
   "cell_type": "code",
   "execution_count": 5,
   "id": "d09c62bc",
   "metadata": {
    "ExecuteTime": {
     "end_time": "2025-06-18T14:33:11.814052Z",
     "start_time": "2025-06-18T14:33:09.171680Z"
    }
   },
   "outputs": [],
   "source": [
    "net_name = \"test_case_1_four_bus_radial_grid\"\n",
    "\n",
    "fault = \"LLL\"\n",
    "case = \"max\"\n",
    "fault_values = (0.0, 0.0)\n",
    "# lv_tol_percents does not influence max case (default value is 10)\n",
    "lv_tol_percents = 10\n",
    "fault_location_bus = 0\n",
    "is_branch_test = False\n",
    "# vector group not necesarry as the grid does not contain a transformer\n",
    "\n",
    "# loading the network and testing data\n",
    "net, dataframes = load_test_case_data(net_name, fault_location_bus)"
   ]
  },
  {
   "cell_type": "markdown",
   "id": "b24b76c5-67d0-42e3-9185-799ef6550e45",
   "metadata": {},
   "source": [
    "These are all the test results that were exported from PowerFactory. Depending on the parameter combination, the corresponding dataframe is selected."
   ]
  },
  {
   "cell_type": "code",
   "execution_count": 6,
   "id": "d3951907-8915-40ce-b647-1fd56ac57332",
   "metadata": {
    "ExecuteTime": {
     "end_time": "2025-06-18T14:33:13.872114Z",
     "start_time": "2025-06-18T14:33:13.862013Z"
    },
    "scrolled": true
   },
   "outputs": [
    {
     "data": {
      "text/html": [
       "<div>\n",
       "<style scoped>\n",
       "    .dataframe tbody tr th:only-of-type {\n",
       "        vertical-align: middle;\n",
       "    }\n",
       "\n",
       "    .dataframe tbody tr th {\n",
       "        vertical-align: top;\n",
       "    }\n",
       "\n",
       "    .dataframe thead th {\n",
       "        text-align: right;\n",
       "    }\n",
       "</style>\n",
       "<table border=\"1\" class=\"dataframe\">\n",
       "  <thead>\n",
       "    <tr style=\"text-align: right;\">\n",
       "      <th></th>\n",
       "      <th>name</th>\n",
       "      <th>ikss_ka</th>\n",
       "      <th>skss_mw</th>\n",
       "      <th>rk_ohm</th>\n",
       "      <th>xk_ohm</th>\n",
       "    </tr>\n",
       "  </thead>\n",
       "  <tbody>\n",
       "    <tr>\n",
       "      <th>0</th>\n",
       "      <td>Bus_0</td>\n",
       "      <td>2.886752</td>\n",
       "      <td>100.000006</td>\n",
       "      <td>0.437816</td>\n",
       "      <td>4.378163</td>\n",
       "    </tr>\n",
       "    <tr>\n",
       "      <th>1</th>\n",
       "      <td>Bus_1</td>\n",
       "      <td>0.000000</td>\n",
       "      <td>0.000000</td>\n",
       "      <td>0.000000</td>\n",
       "      <td>0.000000</td>\n",
       "    </tr>\n",
       "    <tr>\n",
       "      <th>2</th>\n",
       "      <td>Bus_2</td>\n",
       "      <td>0.000000</td>\n",
       "      <td>0.000000</td>\n",
       "      <td>0.000000</td>\n",
       "      <td>0.000000</td>\n",
       "    </tr>\n",
       "    <tr>\n",
       "      <th>3</th>\n",
       "      <td>Bus_3</td>\n",
       "      <td>0.000000</td>\n",
       "      <td>0.000000</td>\n",
       "      <td>0.000000</td>\n",
       "      <td>0.000000</td>\n",
       "    </tr>\n",
       "  </tbody>\n",
       "</table>\n",
       "</div>"
      ],
      "text/plain": [
       "    name   ikss_ka     skss_mw    rk_ohm    xk_ohm\n",
       "0  Bus_0  2.886752  100.000006  0.437816  4.378163\n",
       "1  Bus_1  0.000000    0.000000  0.000000  0.000000\n",
       "2  Bus_2  0.000000    0.000000  0.000000  0.000000\n",
       "3  Bus_3  0.000000    0.000000  0.000000  0.000000"
      ]
     },
     "execution_count": 6,
     "metadata": {},
     "output_type": "execute_result"
    }
   ],
   "source": [
    "dataframes[\"bus\"][\"LLL_max_10\"]"
   ]
  },
  {
   "cell_type": "markdown",
   "id": "b8debf78-1c33-454b-ad43-1fb855f62197",
   "metadata": {},
   "source": [
    "Let's now select the dataframe that we need in order to execute our first test case."
   ]
  },
  {
   "cell_type": "markdown",
   "id": "439f81a0-e379-4233-929e-1a16a1f6a451",
   "metadata": {},
   "source": [
    "With the loaded network and expected results we now can run the test to receive the dataframes and the columns that should be compared.\n",
    "\n",
    "Below is the list of columns that will be compared."
   ]
  },
  {
   "cell_type": "code",
   "execution_count": 7,
   "id": "f99f9392-4d23-4122-8303-17e24d00e427",
   "metadata": {
    "ExecuteTime": {
     "end_time": "2025-06-18T14:33:21.066184Z",
     "start_time": "2025-06-18T14:33:21.052003Z"
    }
   },
   "outputs": [
    {
     "data": {
      "text/plain": [
       "Index(['ikss_ka', 'skss_mw', 'rk_ohm', 'xk_ohm'], dtype='object')"
      ]
     },
     "execution_count": 7,
     "metadata": {},
     "output_type": "execute_result"
    }
   ],
   "source": [
    "columns_to_check, net_df, pf_results = run_test_cases(net, dataframes[\"branch\" if is_branch_test else \"bus\"], fault, case, fault_values, lv_tol_percents, fault_location_bus, is_branch_test)\n",
    "columns_to_check"
   ]
  },
  {
   "cell_type": "code",
   "execution_count": 8,
   "id": "63ac03db-25e9-4907-88f2-43877c1a3758",
   "metadata": {
    "ExecuteTime": {
     "end_time": "2025-06-18T14:33:26.864784Z",
     "start_time": "2025-06-18T14:33:26.854983Z"
    }
   },
   "outputs": [
    {
     "data": {
      "text/html": [
       "<div>\n",
       "<style scoped>\n",
       "    .dataframe tbody tr th:only-of-type {\n",
       "        vertical-align: middle;\n",
       "    }\n",
       "\n",
       "    .dataframe tbody tr th {\n",
       "        vertical-align: top;\n",
       "    }\n",
       "\n",
       "    .dataframe thead th {\n",
       "        text-align: right;\n",
       "    }\n",
       "</style>\n",
       "<table border=\"1\" class=\"dataframe\">\n",
       "  <thead>\n",
       "    <tr style=\"text-align: right;\">\n",
       "      <th></th>\n",
       "      <th>ikss_ka</th>\n",
       "      <th>skss_mw</th>\n",
       "      <th>rk_ohm</th>\n",
       "      <th>xk_ohm</th>\n",
       "    </tr>\n",
       "  </thead>\n",
       "  <tbody>\n",
       "    <tr>\n",
       "      <th>0</th>\n",
       "      <td>2.886751</td>\n",
       "      <td>100.0</td>\n",
       "      <td>0.437816</td>\n",
       "      <td>4.378164</td>\n",
       "    </tr>\n",
       "  </tbody>\n",
       "</table>\n",
       "</div>"
      ],
      "text/plain": [
       "    ikss_ka  skss_mw    rk_ohm    xk_ohm\n",
       "0  2.886751    100.0  0.437816  4.378164"
      ]
     },
     "execution_count": 8,
     "metadata": {},
     "output_type": "execute_result"
    }
   ],
   "source": [
    "net_df[columns_to_check]"
   ]
  },
  {
   "cell_type": "code",
   "execution_count": 9,
   "id": "500aba01-d8e1-4f2b-853d-831dd5352067",
   "metadata": {
    "ExecuteTime": {
     "end_time": "2025-06-18T14:32:36.401541Z",
     "start_time": "2025-06-18T14:32:36.390386Z"
    }
   },
   "outputs": [
    {
     "data": {
      "text/html": [
       "<div>\n",
       "<style scoped>\n",
       "    .dataframe tbody tr th:only-of-type {\n",
       "        vertical-align: middle;\n",
       "    }\n",
       "\n",
       "    .dataframe tbody tr th {\n",
       "        vertical-align: top;\n",
       "    }\n",
       "\n",
       "    .dataframe thead th {\n",
       "        text-align: right;\n",
       "    }\n",
       "</style>\n",
       "<table border=\"1\" class=\"dataframe\">\n",
       "  <thead>\n",
       "    <tr style=\"text-align: right;\">\n",
       "      <th></th>\n",
       "      <th>ikss_ka</th>\n",
       "      <th>skss_mw</th>\n",
       "      <th>rk_ohm</th>\n",
       "      <th>xk_ohm</th>\n",
       "    </tr>\n",
       "  </thead>\n",
       "  <tbody>\n",
       "    <tr>\n",
       "      <th>0</th>\n",
       "      <td>2.886752</td>\n",
       "      <td>100.000006</td>\n",
       "      <td>0.437816</td>\n",
       "      <td>4.378163</td>\n",
       "    </tr>\n",
       "  </tbody>\n",
       "</table>\n",
       "</div>"
      ],
      "text/plain": [
       "    ikss_ka     skss_mw    rk_ohm    xk_ohm\n",
       "0  2.886752  100.000006  0.437816  4.378163"
      ]
     },
     "execution_count": 9,
     "metadata": {},
     "output_type": "execute_result"
    }
   ],
   "source": [
    "# dataframes[\"bus\"][\"LLL_max_10\"]\n",
    "pf_results[columns_to_check]"
   ]
  },
  {
   "cell_type": "markdown",
   "id": "9be37435-dd7c-4835-9408-b6ccd8742368",
   "metadata": {},
   "source": [
    "As you can see the results are matching and the comparison function will pass and not throw any errors."
   ]
  },
  {
   "cell_type": "code",
   "execution_count": 10,
   "id": "40f3efa3-bdba-4603-8a79-dc3947b254b9",
   "metadata": {
    "ExecuteTime": {
     "end_time": "2025-06-18T14:32:36.733929Z",
     "start_time": "2025-06-18T14:32:36.726310Z"
    }
   },
   "outputs": [],
   "source": [
    "compare_results(columns_to_check, net_df, pf_results, is_branch_test)"
   ]
  },
  {
   "cell_type": "markdown",
   "id": "fc39fbeb-cd17-47ba-8fbe-b09dcb2ef3fd",
   "metadata": {},
   "source": [
    "## Test Case 2: Five bus radial grid"
   ]
  },
  {
   "cell_type": "markdown",
   "id": "74c213bc-3adf-47a9-8c49-7e6a8c0010d5",
   "metadata": {},
   "source": [
    "![five_bus_radial](five_bus_radial.png)"
   ]
  },
  {
   "cell_type": "code",
   "execution_count": 11,
   "id": "617b4e75-356d-425f-b55c-66966a91080d",
   "metadata": {
    "ExecuteTime": {
     "end_time": "2025-06-18T14:32:40.693910Z",
     "start_time": "2025-06-18T14:32:37.038207Z"
    }
   },
   "outputs": [],
   "source": [
    "net_name = \"test_case_2_five_bus_radial_grid\"\n",
    "\n",
    "fault = \"LG\"\n",
    "case = \"min\"\n",
    "fault_values = (5.0, 5.0)\n",
    "lv_tol_percents = 6\n",
    "fault_location_bus = 3\n",
    "is_branch_test = True\n",
    "vector_group = 'Dyn'\n",
    "\n",
    "# loading the network and testing data\n",
    "net, dataframes = load_test_case_data(net_name, fault_location_bus, vector_group)"
   ]
  },
  {
   "cell_type": "code",
   "execution_count": 12,
   "id": "8526fbe4-33f9-4c46-bfae-591bf964b115",
   "metadata": {
    "ExecuteTime": {
     "end_time": "2025-06-18T14:32:40.861232Z",
     "start_time": "2025-06-18T14:32:40.775930Z"
    }
   },
   "outputs": [
    {
     "data": {
      "text/plain": [
       "Index(['ikss_a_from_ka', 'ikss_a_from_degree', 'ikss_a_to_ka',\n",
       "       'ikss_a_to_degree', 'p_a_from_mw', 'q_a_from_mvar', 'p_a_to_mw',\n",
       "       'q_a_to_mvar', 'vm_a_from_pu', 'va_a_from_degree', 'vm_a_to_pu',\n",
       "       'va_a_to_degree', 'ikss_b_from_ka', 'ikss_b_from_degree',\n",
       "       'ikss_b_to_ka', 'ikss_b_to_degree', 'p_b_from_mw', 'q_b_from_mvar',\n",
       "       'p_b_to_mw', 'q_b_to_mvar', 'vm_b_from_pu', 'va_b_from_degree',\n",
       "       'vm_b_to_pu', 'va_b_to_degree', 'ikss_c_from_ka', 'ikss_c_from_degree',\n",
       "       'ikss_c_to_ka', 'ikss_c_to_degree', 'p_c_from_mw', 'q_c_from_mvar',\n",
       "       'p_c_to_mw', 'q_c_to_mvar', 'vm_c_from_pu', 'va_c_from_degree',\n",
       "       'vm_c_to_pu', 'va_c_to_degree'],\n",
       "      dtype='object')"
      ]
     },
     "execution_count": 12,
     "metadata": {},
     "output_type": "execute_result"
    }
   ],
   "source": [
    "columns_to_check, net_df, pf_results = run_test_cases(net, dataframes[\"branch\" if is_branch_test else \"bus\"], fault, case, fault_values, lv_tol_percents, fault_location_bus, is_branch_test)\n",
    "columns_to_check"
   ]
  },
  {
   "cell_type": "code",
   "execution_count": 13,
   "id": "bb5fd375-d1e5-4a3c-aba0-1dc8020acab8",
   "metadata": {
    "ExecuteTime": {
     "end_time": "2025-06-18T14:32:41.075287Z",
     "start_time": "2025-06-18T14:32:41.047219Z"
    }
   },
   "outputs": [
    {
     "data": {
      "text/html": [
       "<div>\n",
       "<style scoped>\n",
       "    .dataframe tbody tr th:only-of-type {\n",
       "        vertical-align: middle;\n",
       "    }\n",
       "\n",
       "    .dataframe tbody tr th {\n",
       "        vertical-align: top;\n",
       "    }\n",
       "\n",
       "    .dataframe thead th {\n",
       "        text-align: right;\n",
       "    }\n",
       "</style>\n",
       "<table border=\"1\" class=\"dataframe\">\n",
       "  <thead>\n",
       "    <tr style=\"text-align: right;\">\n",
       "      <th></th>\n",
       "      <th>ikss_a_from_ka</th>\n",
       "      <th>ikss_a_from_degree</th>\n",
       "      <th>ikss_a_to_ka</th>\n",
       "      <th>ikss_a_to_degree</th>\n",
       "      <th>p_a_from_mw</th>\n",
       "      <th>q_a_from_mvar</th>\n",
       "      <th>p_a_to_mw</th>\n",
       "      <th>q_a_to_mvar</th>\n",
       "      <th>vm_a_from_pu</th>\n",
       "      <th>va_a_from_degree</th>\n",
       "      <th>...</th>\n",
       "      <th>ikss_c_to_ka</th>\n",
       "      <th>ikss_c_to_degree</th>\n",
       "      <th>p_c_from_mw</th>\n",
       "      <th>q_c_from_mvar</th>\n",
       "      <th>p_c_to_mw</th>\n",
       "      <th>q_c_to_mvar</th>\n",
       "      <th>vm_c_from_pu</th>\n",
       "      <th>va_c_from_degree</th>\n",
       "      <th>vm_c_to_pu</th>\n",
       "      <th>va_c_to_degree</th>\n",
       "    </tr>\n",
       "  </thead>\n",
       "  <tbody>\n",
       "    <tr>\n",
       "      <th>0</th>\n",
       "      <td>0.823769</td>\n",
       "      <td>-37.522885</td>\n",
       "      <td>0.823628</td>\n",
       "      <td>142.506266</td>\n",
       "      <td>7.494644</td>\n",
       "      <td>4.592405</td>\n",
       "      <td>-5.436024</td>\n",
       "      <td>-3.997649</td>\n",
       "      <td>0.924064</td>\n",
       "      <td>-6.024653</td>\n",
       "      <td>...</td>\n",
       "      <td>0.002161</td>\n",
       "      <td>66.826551</td>\n",
       "      <td>-0.019621</td>\n",
       "      <td>-0.02339</td>\n",
       "      <td>0.016470</td>\n",
       "      <td>0.023266</td>\n",
       "      <td>1.016206</td>\n",
       "      <td>117.549409</td>\n",
       "      <td>1.142526</td>\n",
       "      <td>121.532466</td>\n",
       "    </tr>\n",
       "    <tr>\n",
       "      <th>1</th>\n",
       "      <td>0.823097</td>\n",
       "      <td>142.652000</td>\n",
       "      <td>0.823405</td>\n",
       "      <td>-37.435411</td>\n",
       "      <td>-3.387439</td>\n",
       "      <td>-3.387439</td>\n",
       "      <td>5.438615</td>\n",
       "      <td>3.991031</td>\n",
       "      <td>0.504042</td>\n",
       "      <td>7.652000</td>\n",
       "      <td>...</td>\n",
       "      <td>0.001293</td>\n",
       "      <td>-113.594362</td>\n",
       "      <td>0.000000</td>\n",
       "      <td>0.00000</td>\n",
       "      <td>-0.009755</td>\n",
       "      <td>-0.013998</td>\n",
       "      <td>1.272497</td>\n",
       "      <td>124.745443</td>\n",
       "      <td>1.142526</td>\n",
       "      <td>121.532466</td>\n",
       "    </tr>\n",
       "    <tr>\n",
       "      <th>2</th>\n",
       "      <td>0.000000</td>\n",
       "      <td>0.000000</td>\n",
       "      <td>0.000868</td>\n",
       "      <td>-112.545962</td>\n",
       "      <td>0.000000</td>\n",
       "      <td>0.000000</td>\n",
       "      <td>-0.002591</td>\n",
       "      <td>0.006618</td>\n",
       "      <td>0.709551</td>\n",
       "      <td>-1.141325</td>\n",
       "      <td>...</td>\n",
       "      <td>0.000868</td>\n",
       "      <td>-112.545962</td>\n",
       "      <td>0.000000</td>\n",
       "      <td>0.00000</td>\n",
       "      <td>-0.006715</td>\n",
       "      <td>-0.009268</td>\n",
       "      <td>1.142727</td>\n",
       "      <td>121.523260</td>\n",
       "      <td>1.142526</td>\n",
       "      <td>121.532466</td>\n",
       "    </tr>\n",
       "  </tbody>\n",
       "</table>\n",
       "<p>3 rows × 36 columns</p>\n",
       "</div>"
      ],
      "text/plain": [
       "   ikss_a_from_ka  ikss_a_from_degree  ikss_a_to_ka  ikss_a_to_degree  \\\n",
       "0        0.823769          -37.522885      0.823628        142.506266   \n",
       "1        0.823097          142.652000      0.823405        -37.435411   \n",
       "2        0.000000            0.000000      0.000868       -112.545962   \n",
       "\n",
       "   p_a_from_mw  q_a_from_mvar  p_a_to_mw  q_a_to_mvar  vm_a_from_pu  \\\n",
       "0     7.494644       4.592405  -5.436024    -3.997649      0.924064   \n",
       "1    -3.387439      -3.387439   5.438615     3.991031      0.504042   \n",
       "2     0.000000       0.000000  -0.002591     0.006618      0.709551   \n",
       "\n",
       "   va_a_from_degree  ...  ikss_c_to_ka  ikss_c_to_degree  p_c_from_mw  \\\n",
       "0         -6.024653  ...      0.002161         66.826551    -0.019621   \n",
       "1          7.652000  ...      0.001293       -113.594362     0.000000   \n",
       "2         -1.141325  ...      0.000868       -112.545962     0.000000   \n",
       "\n",
       "   q_c_from_mvar  p_c_to_mw  q_c_to_mvar  vm_c_from_pu  va_c_from_degree  \\\n",
       "0       -0.02339   0.016470     0.023266      1.016206        117.549409   \n",
       "1        0.00000  -0.009755    -0.013998      1.272497        124.745443   \n",
       "2        0.00000  -0.006715    -0.009268      1.142727        121.523260   \n",
       "\n",
       "   vm_c_to_pu  va_c_to_degree  \n",
       "0    1.142526      121.532466  \n",
       "1    1.142526      121.532466  \n",
       "2    1.142526      121.532466  \n",
       "\n",
       "[3 rows x 36 columns]"
      ]
     },
     "execution_count": 13,
     "metadata": {},
     "output_type": "execute_result"
    }
   ],
   "source": [
    "net_df[columns_to_check]"
   ]
  },
  {
   "cell_type": "code",
   "execution_count": 14,
   "id": "45cb5fa1-af9a-49c6-8186-da3137a6264a",
   "metadata": {
    "ExecuteTime": {
     "end_time": "2025-06-18T14:32:41.412736Z",
     "start_time": "2025-06-18T14:32:41.388870Z"
    }
   },
   "outputs": [
    {
     "data": {
      "text/html": [
       "<div>\n",
       "<style scoped>\n",
       "    .dataframe tbody tr th:only-of-type {\n",
       "        vertical-align: middle;\n",
       "    }\n",
       "\n",
       "    .dataframe tbody tr th {\n",
       "        vertical-align: top;\n",
       "    }\n",
       "\n",
       "    .dataframe thead th {\n",
       "        text-align: right;\n",
       "    }\n",
       "</style>\n",
       "<table border=\"1\" class=\"dataframe\">\n",
       "  <thead>\n",
       "    <tr style=\"text-align: right;\">\n",
       "      <th></th>\n",
       "      <th>ikss_a_from_ka</th>\n",
       "      <th>ikss_a_from_degree</th>\n",
       "      <th>ikss_a_to_ka</th>\n",
       "      <th>ikss_a_to_degree</th>\n",
       "      <th>p_a_from_mw</th>\n",
       "      <th>q_a_from_mvar</th>\n",
       "      <th>p_a_to_mw</th>\n",
       "      <th>q_a_to_mvar</th>\n",
       "      <th>vm_a_from_pu</th>\n",
       "      <th>va_a_from_degree</th>\n",
       "      <th>...</th>\n",
       "      <th>ikss_c_to_ka</th>\n",
       "      <th>ikss_c_to_degree</th>\n",
       "      <th>p_c_from_mw</th>\n",
       "      <th>q_c_from_mvar</th>\n",
       "      <th>p_c_to_mw</th>\n",
       "      <th>q_c_to_mvar</th>\n",
       "      <th>vm_c_from_pu</th>\n",
       "      <th>va_c_from_degree</th>\n",
       "      <th>vm_c_to_pu</th>\n",
       "      <th>va_c_to_degree</th>\n",
       "    </tr>\n",
       "  </thead>\n",
       "  <tbody>\n",
       "    <tr>\n",
       "      <th>0</th>\n",
       "      <td>0.823769</td>\n",
       "      <td>-37.522885</td>\n",
       "      <td>0.823628</td>\n",
       "      <td>142.506266</td>\n",
       "      <td>7.494644e+00</td>\n",
       "      <td>4.592405e+00</td>\n",
       "      <td>-5.436024</td>\n",
       "      <td>-3.997649</td>\n",
       "      <td>0.924064</td>\n",
       "      <td>-6.024653</td>\n",
       "      <td>...</td>\n",
       "      <td>0.002161</td>\n",
       "      <td>66.826546</td>\n",
       "      <td>-1.962060e-02</td>\n",
       "      <td>-2.338974e-02</td>\n",
       "      <td>0.016470</td>\n",
       "      <td>0.023266</td>\n",
       "      <td>1.016206</td>\n",
       "      <td>117.549409</td>\n",
       "      <td>1.142526</td>\n",
       "      <td>121.532466</td>\n",
       "    </tr>\n",
       "    <tr>\n",
       "      <th>1</th>\n",
       "      <td>0.823097</td>\n",
       "      <td>142.652000</td>\n",
       "      <td>0.823405</td>\n",
       "      <td>-37.435411</td>\n",
       "      <td>-3.387439e+00</td>\n",
       "      <td>-3.387439e+00</td>\n",
       "      <td>5.438615</td>\n",
       "      <td>3.991031</td>\n",
       "      <td>0.504042</td>\n",
       "      <td>7.652001</td>\n",
       "      <td>...</td>\n",
       "      <td>0.001293</td>\n",
       "      <td>-113.594366</td>\n",
       "      <td>-1.287415e-09</td>\n",
       "      <td>3.859960e-10</td>\n",
       "      <td>-0.009755</td>\n",
       "      <td>-0.013998</td>\n",
       "      <td>1.272497</td>\n",
       "      <td>124.745443</td>\n",
       "      <td>1.142526</td>\n",
       "      <td>121.532466</td>\n",
       "    </tr>\n",
       "    <tr>\n",
       "      <th>2</th>\n",
       "      <td>0.000000</td>\n",
       "      <td>0.000000</td>\n",
       "      <td>0.000868</td>\n",
       "      <td>-112.545967</td>\n",
       "      <td>7.551381e-10</td>\n",
       "      <td>-5.182125e-11</td>\n",
       "      <td>-0.002591</td>\n",
       "      <td>0.006618</td>\n",
       "      <td>0.709551</td>\n",
       "      <td>-1.141325</td>\n",
       "      <td>...</td>\n",
       "      <td>0.000868</td>\n",
       "      <td>-112.545964</td>\n",
       "      <td>-5.995053e-10</td>\n",
       "      <td>1.113843e-10</td>\n",
       "      <td>-0.006715</td>\n",
       "      <td>-0.009268</td>\n",
       "      <td>1.142727</td>\n",
       "      <td>121.523260</td>\n",
       "      <td>1.142526</td>\n",
       "      <td>121.532466</td>\n",
       "    </tr>\n",
       "  </tbody>\n",
       "</table>\n",
       "<p>3 rows × 36 columns</p>\n",
       "</div>"
      ],
      "text/plain": [
       "   ikss_a_from_ka  ikss_a_from_degree  ikss_a_to_ka  ikss_a_to_degree  \\\n",
       "0        0.823769          -37.522885      0.823628        142.506266   \n",
       "1        0.823097          142.652000      0.823405        -37.435411   \n",
       "2        0.000000            0.000000      0.000868       -112.545967   \n",
       "\n",
       "    p_a_from_mw  q_a_from_mvar  p_a_to_mw  q_a_to_mvar  vm_a_from_pu  \\\n",
       "0  7.494644e+00   4.592405e+00  -5.436024    -3.997649      0.924064   \n",
       "1 -3.387439e+00  -3.387439e+00   5.438615     3.991031      0.504042   \n",
       "2  7.551381e-10  -5.182125e-11  -0.002591     0.006618      0.709551   \n",
       "\n",
       "   va_a_from_degree  ...  ikss_c_to_ka  ikss_c_to_degree   p_c_from_mw  \\\n",
       "0         -6.024653  ...      0.002161         66.826546 -1.962060e-02   \n",
       "1          7.652001  ...      0.001293       -113.594366 -1.287415e-09   \n",
       "2         -1.141325  ...      0.000868       -112.545964 -5.995053e-10   \n",
       "\n",
       "   q_c_from_mvar  p_c_to_mw  q_c_to_mvar  vm_c_from_pu  va_c_from_degree  \\\n",
       "0  -2.338974e-02   0.016470     0.023266      1.016206        117.549409   \n",
       "1   3.859960e-10  -0.009755    -0.013998      1.272497        124.745443   \n",
       "2   1.113843e-10  -0.006715    -0.009268      1.142727        121.523260   \n",
       "\n",
       "   vm_c_to_pu  va_c_to_degree  \n",
       "0    1.142526      121.532466  \n",
       "1    1.142526      121.532466  \n",
       "2    1.142526      121.532466  \n",
       "\n",
       "[3 rows x 36 columns]"
      ]
     },
     "execution_count": 14,
     "metadata": {},
     "output_type": "execute_result"
    }
   ],
   "source": [
    "# dataframes[\"branch\"][\"LG_min_fault_6\"]\n",
    "pf_results[columns_to_check]"
   ]
  },
  {
   "cell_type": "code",
   "execution_count": 15,
   "id": "d7027ce8-854b-4a59-ad7c-8bd6fdb868f1",
   "metadata": {
    "ExecuteTime": {
     "end_time": "2025-06-18T14:32:41.899588Z",
     "start_time": "2025-06-18T14:32:41.882162Z"
    }
   },
   "outputs": [],
   "source": [
    "compare_results(columns_to_check, net_df, pf_results, is_branch_test)"
   ]
  },
  {
   "cell_type": "markdown",
   "id": "faff1aff-c173-409e-9091-d15d4ca2dfeb",
   "metadata": {},
   "source": [
    "## Test Case 3: Five bus meshed grid"
   ]
  },
  {
   "cell_type": "markdown",
   "id": "c757b753-602e-48f3-82bc-33c66b2a5ed3",
   "metadata": {},
   "source": [
    "![five_bus_meshed](five_bus_meshed.png)"
   ]
  },
  {
   "cell_type": "code",
   "execution_count": 16,
   "id": "15bdede5-8a3e-4bb8-94b5-bee443226560",
   "metadata": {
    "ExecuteTime": {
     "end_time": "2025-06-18T14:32:46.754788Z",
     "start_time": "2025-06-18T14:32:42.508021Z"
    }
   },
   "outputs": [],
   "source": [
    "net_name = \"test_case_3_five_bus_meshed_grid\"\n",
    "\n",
    "fault = \"LLL\"\n",
    "case = \"min\"\n",
    "fault_values = (5.0, 5.0)\n",
    "lv_tol_percents = 6\n",
    "fault_location_bus = 2\n",
    "is_branch_test = True\n",
    "vector_group = 'Yyn'\n",
    "\n",
    "# loading the network and testing data\n",
    "net, dataframes = load_test_case_data(net_name, fault_location_bus, vector_group)"
   ]
  },
  {
   "cell_type": "code",
   "execution_count": 17,
   "id": "efe236eb-8f6a-45fa-b193-9f5e8f571527",
   "metadata": {
    "ExecuteTime": {
     "end_time": "2025-06-18T14:32:46.813068Z",
     "start_time": "2025-06-18T14:32:46.786155Z"
    }
   },
   "outputs": [
    {
     "data": {
      "text/plain": [
       "Index(['ikss_ka', 'ikss_from_ka', 'ikss_from_degree', 'ikss_to_ka',\n",
       "       'ikss_to_degree', 'p_from_mw', 'q_from_mvar', 'p_to_mw', 'q_to_mvar',\n",
       "       'vm_from_pu', 'va_from_degree', 'vm_to_pu', 'va_to_degree'],\n",
       "      dtype='object')"
      ]
     },
     "execution_count": 17,
     "metadata": {},
     "output_type": "execute_result"
    }
   ],
   "source": [
    "columns_to_check, net_df, pf_results = run_test_cases(net, dataframes[\"branch\" if is_branch_test else \"bus\"], fault, case, fault_values, lv_tol_percents, fault_location_bus, is_branch_test)\n",
    "columns_to_check"
   ]
  },
  {
   "cell_type": "code",
   "execution_count": 18,
   "id": "3cd46630-0c0d-40fb-9da2-f0f6429de9b8",
   "metadata": {
    "ExecuteTime": {
     "end_time": "2025-06-18T14:32:46.965160Z",
     "start_time": "2025-06-18T14:32:46.951360Z"
    }
   },
   "outputs": [
    {
     "data": {
      "text/html": [
       "<div>\n",
       "<style scoped>\n",
       "    .dataframe tbody tr th:only-of-type {\n",
       "        vertical-align: middle;\n",
       "    }\n",
       "\n",
       "    .dataframe tbody tr th {\n",
       "        vertical-align: top;\n",
       "    }\n",
       "\n",
       "    .dataframe thead th {\n",
       "        text-align: right;\n",
       "    }\n",
       "</style>\n",
       "<table border=\"1\" class=\"dataframe\">\n",
       "  <thead>\n",
       "    <tr style=\"text-align: right;\">\n",
       "      <th></th>\n",
       "      <th>ikss_ka</th>\n",
       "      <th>ikss_from_ka</th>\n",
       "      <th>ikss_from_degree</th>\n",
       "      <th>ikss_to_ka</th>\n",
       "      <th>ikss_to_degree</th>\n",
       "      <th>p_from_mw</th>\n",
       "      <th>q_from_mvar</th>\n",
       "      <th>p_to_mw</th>\n",
       "      <th>q_to_mvar</th>\n",
       "      <th>vm_from_pu</th>\n",
       "      <th>va_from_degree</th>\n",
       "      <th>vm_to_pu</th>\n",
       "      <th>va_to_degree</th>\n",
       "    </tr>\n",
       "  </thead>\n",
       "  <tbody>\n",
       "    <tr>\n",
       "      <th>0</th>\n",
       "      <td>1.146247</td>\n",
       "      <td>1.146247</td>\n",
       "      <td>-52.634345</td>\n",
       "      <td>1.146247</td>\n",
       "      <td>127.365655</td>\n",
       "      <td>23.643589</td>\n",
       "      <td>22.033819</td>\n",
       "      <td>-19.708246</td>\n",
       "      <td>-19.708246</td>\n",
       "      <td>0.81393</td>\n",
       "      <td>-9.652736</td>\n",
       "      <td>0.70193</td>\n",
       "      <td>-7.634345</td>\n",
       "    </tr>\n",
       "    <tr>\n",
       "      <th>1</th>\n",
       "      <td>0.000000</td>\n",
       "      <td>0.000000</td>\n",
       "      <td>0.000000</td>\n",
       "      <td>0.000000</td>\n",
       "      <td>0.000000</td>\n",
       "      <td>0.000000</td>\n",
       "      <td>-0.000000</td>\n",
       "      <td>0.000000</td>\n",
       "      <td>-0.000000</td>\n",
       "      <td>0.70193</td>\n",
       "      <td>-7.634345</td>\n",
       "      <td>0.70193</td>\n",
       "      <td>-7.634345</td>\n",
       "    </tr>\n",
       "    <tr>\n",
       "      <th>2</th>\n",
       "      <td>0.000000</td>\n",
       "      <td>0.000000</td>\n",
       "      <td>0.000000</td>\n",
       "      <td>0.000000</td>\n",
       "      <td>0.000000</td>\n",
       "      <td>0.000000</td>\n",
       "      <td>-0.000000</td>\n",
       "      <td>0.000000</td>\n",
       "      <td>-0.000000</td>\n",
       "      <td>0.70193</td>\n",
       "      <td>-7.634345</td>\n",
       "      <td>0.70193</td>\n",
       "      <td>-7.634345</td>\n",
       "    </tr>\n",
       "    <tr>\n",
       "      <th>3</th>\n",
       "      <td>0.000000</td>\n",
       "      <td>0.000000</td>\n",
       "      <td>0.000000</td>\n",
       "      <td>0.000000</td>\n",
       "      <td>0.000000</td>\n",
       "      <td>0.000000</td>\n",
       "      <td>-0.000000</td>\n",
       "      <td>0.000000</td>\n",
       "      <td>-0.000000</td>\n",
       "      <td>0.70193</td>\n",
       "      <td>-7.634345</td>\n",
       "      <td>0.70193</td>\n",
       "      <td>-7.634345</td>\n",
       "    </tr>\n",
       "  </tbody>\n",
       "</table>\n",
       "</div>"
      ],
      "text/plain": [
       "    ikss_ka  ikss_from_ka  ikss_from_degree  ikss_to_ka  ikss_to_degree  \\\n",
       "0  1.146247      1.146247        -52.634345    1.146247      127.365655   \n",
       "1  0.000000      0.000000          0.000000    0.000000        0.000000   \n",
       "2  0.000000      0.000000          0.000000    0.000000        0.000000   \n",
       "3  0.000000      0.000000          0.000000    0.000000        0.000000   \n",
       "\n",
       "   p_from_mw  q_from_mvar    p_to_mw  q_to_mvar  vm_from_pu  va_from_degree  \\\n",
       "0  23.643589    22.033819 -19.708246 -19.708246     0.81393       -9.652736   \n",
       "1   0.000000    -0.000000   0.000000  -0.000000     0.70193       -7.634345   \n",
       "2   0.000000    -0.000000   0.000000  -0.000000     0.70193       -7.634345   \n",
       "3   0.000000    -0.000000   0.000000  -0.000000     0.70193       -7.634345   \n",
       "\n",
       "   vm_to_pu  va_to_degree  \n",
       "0   0.70193     -7.634345  \n",
       "1   0.70193     -7.634345  \n",
       "2   0.70193     -7.634345  \n",
       "3   0.70193     -7.634345  "
      ]
     },
     "execution_count": 18,
     "metadata": {},
     "output_type": "execute_result"
    }
   ],
   "source": [
    "net_df[columns_to_check]"
   ]
  },
  {
   "cell_type": "code",
   "execution_count": 19,
   "id": "75299bc8-8a69-4490-8a86-5c8386d89ea3",
   "metadata": {
    "ExecuteTime": {
     "end_time": "2025-06-18T14:32:47.115483Z",
     "start_time": "2025-06-18T14:32:47.100019Z"
    }
   },
   "outputs": [
    {
     "data": {
      "text/html": [
       "<div>\n",
       "<style scoped>\n",
       "    .dataframe tbody tr th:only-of-type {\n",
       "        vertical-align: middle;\n",
       "    }\n",
       "\n",
       "    .dataframe tbody tr th {\n",
       "        vertical-align: top;\n",
       "    }\n",
       "\n",
       "    .dataframe thead th {\n",
       "        text-align: right;\n",
       "    }\n",
       "</style>\n",
       "<table border=\"1\" class=\"dataframe\">\n",
       "  <thead>\n",
       "    <tr style=\"text-align: right;\">\n",
       "      <th></th>\n",
       "      <th>ikss_ka</th>\n",
       "      <th>ikss_from_ka</th>\n",
       "      <th>ikss_from_degree</th>\n",
       "      <th>ikss_to_ka</th>\n",
       "      <th>ikss_to_degree</th>\n",
       "      <th>p_from_mw</th>\n",
       "      <th>q_from_mvar</th>\n",
       "      <th>p_to_mw</th>\n",
       "      <th>q_to_mvar</th>\n",
       "      <th>vm_from_pu</th>\n",
       "      <th>va_from_degree</th>\n",
       "      <th>vm_to_pu</th>\n",
       "      <th>va_to_degree</th>\n",
       "    </tr>\n",
       "  </thead>\n",
       "  <tbody>\n",
       "    <tr>\n",
       "      <th>0</th>\n",
       "      <td>1.146247</td>\n",
       "      <td>1.146247</td>\n",
       "      <td>-52.634345</td>\n",
       "      <td>1.146247</td>\n",
       "      <td>127.365655</td>\n",
       "      <td>23.643589</td>\n",
       "      <td>22.033819</td>\n",
       "      <td>-1.970825e+01</td>\n",
       "      <td>-1.970825e+01</td>\n",
       "      <td>0.81393</td>\n",
       "      <td>-9.652736</td>\n",
       "      <td>0.70193</td>\n",
       "      <td>-7.634345</td>\n",
       "    </tr>\n",
       "    <tr>\n",
       "      <th>1</th>\n",
       "      <td>0.000000</td>\n",
       "      <td>0.000000</td>\n",
       "      <td>0.000000</td>\n",
       "      <td>0.000000</td>\n",
       "      <td>0.000000</td>\n",
       "      <td>0.000000</td>\n",
       "      <td>0.000000</td>\n",
       "      <td>-2.233007e-09</td>\n",
       "      <td>1.025774e-09</td>\n",
       "      <td>0.70193</td>\n",
       "      <td>-7.634345</td>\n",
       "      <td>0.70193</td>\n",
       "      <td>-7.634345</td>\n",
       "    </tr>\n",
       "    <tr>\n",
       "      <th>2</th>\n",
       "      <td>0.000000</td>\n",
       "      <td>0.000000</td>\n",
       "      <td>0.000000</td>\n",
       "      <td>0.000000</td>\n",
       "      <td>0.000000</td>\n",
       "      <td>0.000000</td>\n",
       "      <td>0.000000</td>\n",
       "      <td>-2.233008e-09</td>\n",
       "      <td>1.025769e-09</td>\n",
       "      <td>0.70193</td>\n",
       "      <td>-7.634345</td>\n",
       "      <td>0.70193</td>\n",
       "      <td>-7.634345</td>\n",
       "    </tr>\n",
       "    <tr>\n",
       "      <th>3</th>\n",
       "      <td>0.000000</td>\n",
       "      <td>0.000000</td>\n",
       "      <td>0.000000</td>\n",
       "      <td>0.000000</td>\n",
       "      <td>0.000000</td>\n",
       "      <td>0.000000</td>\n",
       "      <td>0.000000</td>\n",
       "      <td>0.000000e+00</td>\n",
       "      <td>0.000000e+00</td>\n",
       "      <td>0.70193</td>\n",
       "      <td>-7.634345</td>\n",
       "      <td>0.70193</td>\n",
       "      <td>-7.634345</td>\n",
       "    </tr>\n",
       "  </tbody>\n",
       "</table>\n",
       "</div>"
      ],
      "text/plain": [
       "    ikss_ka  ikss_from_ka  ikss_from_degree  ikss_to_ka  ikss_to_degree  \\\n",
       "0  1.146247      1.146247        -52.634345    1.146247      127.365655   \n",
       "1  0.000000      0.000000          0.000000    0.000000        0.000000   \n",
       "2  0.000000      0.000000          0.000000    0.000000        0.000000   \n",
       "3  0.000000      0.000000          0.000000    0.000000        0.000000   \n",
       "\n",
       "   p_from_mw  q_from_mvar       p_to_mw     q_to_mvar  vm_from_pu  \\\n",
       "0  23.643589    22.033819 -1.970825e+01 -1.970825e+01     0.81393   \n",
       "1   0.000000     0.000000 -2.233007e-09  1.025774e-09     0.70193   \n",
       "2   0.000000     0.000000 -2.233008e-09  1.025769e-09     0.70193   \n",
       "3   0.000000     0.000000  0.000000e+00  0.000000e+00     0.70193   \n",
       "\n",
       "   va_from_degree  vm_to_pu  va_to_degree  \n",
       "0       -9.652736   0.70193     -7.634345  \n",
       "1       -7.634345   0.70193     -7.634345  \n",
       "2       -7.634345   0.70193     -7.634345  \n",
       "3       -7.634345   0.70193     -7.634345  "
      ]
     },
     "execution_count": 19,
     "metadata": {},
     "output_type": "execute_result"
    }
   ],
   "source": [
    "# dataframes[\"branch\"][\"LLL_min_fault_6\"]\n",
    "pf_results[columns_to_check]"
   ]
  },
  {
   "cell_type": "code",
   "execution_count": 20,
   "id": "9acaeda9-af51-4598-905e-32e050ceb822",
   "metadata": {
    "ExecuteTime": {
     "end_time": "2025-06-18T14:32:47.385237Z",
     "start_time": "2025-06-18T14:32:47.376407Z"
    }
   },
   "outputs": [],
   "source": [
    "compare_results(columns_to_check, net_df, pf_results, is_branch_test)"
   ]
  },
  {
   "cell_type": "markdown",
   "id": "23e6c72b-529a-4cd4-90e3-b6f26d9c29b8",
   "metadata": {},
   "source": [
    "## Test Case 4: Twenty bus radial grid"
   ]
  },
  {
   "cell_type": "markdown",
   "id": "fa4ef632-9f31-422a-99b1-c32b685ac287",
   "metadata": {},
   "source": [
    "![twenty_bus_grid](twenty_bus_grid.png)"
   ]
  },
  {
   "cell_type": "code",
   "execution_count": 21,
   "id": "4de7f451-24c0-425d-8169-b78650be3acf",
   "metadata": {
    "ExecuteTime": {
     "end_time": "2025-06-18T14:32:55.747389Z",
     "start_time": "2025-06-18T14:32:47.799517Z"
    }
   },
   "outputs": [],
   "source": [
    "net_name = \"test_case_4_twenty_bus_radial_grid\"\n",
    "\n",
    "fault = \"LG\"\n",
    "case = \"max\"\n",
    "fault_values = (0.0, 0.0)\n",
    "lv_tol_percents = 10\n",
    "fault_location_bus = 3\n",
    "is_branch_test = False\n",
    "vector_group = 'YNyn'\n",
    "\n",
    "# loading the network and testing data\n",
    "net, dataframes = load_test_case_data(net_name, fault_location_bus, vector_group)"
   ]
  },
  {
   "cell_type": "code",
   "execution_count": 22,
   "id": "ef571400-ca6f-4e13-b53d-d855c3876156",
   "metadata": {
    "ExecuteTime": {
     "end_time": "2025-06-18T14:32:55.808252Z",
     "start_time": "2025-06-18T14:32:55.776278Z"
    }
   },
   "outputs": [
    {
     "data": {
      "text/plain": [
       "Index(['ikss_ka', 'skss_mw', 'rk0_ohm', 'xk0_ohm', 'rk1_ohm', 'xk1_ohm',\n",
       "       'rk2_ohm', 'xk2_ohm'],\n",
       "      dtype='object')"
      ]
     },
     "execution_count": 22,
     "metadata": {},
     "output_type": "execute_result"
    }
   ],
   "source": [
    "columns_to_check, net_df, pf_results = run_test_cases(net, dataframes[\"branch\" if is_branch_test else \"bus\"], fault, case, fault_values, lv_tol_percents, fault_location_bus, is_branch_test)\n",
    "columns_to_check"
   ]
  },
  {
   "cell_type": "code",
   "execution_count": 23,
   "id": "82ec1e9e-6a29-41ae-a5c0-04271a8d34d7",
   "metadata": {
    "ExecuteTime": {
     "end_time": "2025-06-18T14:32:55.902078Z",
     "start_time": "2025-06-18T14:32:55.891687Z"
    }
   },
   "outputs": [
    {
     "data": {
      "text/html": [
       "<div>\n",
       "<style scoped>\n",
       "    .dataframe tbody tr th:only-of-type {\n",
       "        vertical-align: middle;\n",
       "    }\n",
       "\n",
       "    .dataframe tbody tr th {\n",
       "        vertical-align: top;\n",
       "    }\n",
       "\n",
       "    .dataframe thead th {\n",
       "        text-align: right;\n",
       "    }\n",
       "</style>\n",
       "<table border=\"1\" class=\"dataframe\">\n",
       "  <thead>\n",
       "    <tr style=\"text-align: right;\">\n",
       "      <th></th>\n",
       "      <th>ikss_ka</th>\n",
       "      <th>skss_mw</th>\n",
       "      <th>rk0_ohm</th>\n",
       "      <th>xk0_ohm</th>\n",
       "      <th>rk1_ohm</th>\n",
       "      <th>xk1_ohm</th>\n",
       "      <th>rk2_ohm</th>\n",
       "      <th>xk2_ohm</th>\n",
       "    </tr>\n",
       "  </thead>\n",
       "  <tbody>\n",
       "    <tr>\n",
       "      <th>3</th>\n",
       "      <td>6.628723</td>\n",
       "      <td>1.530838</td>\n",
       "      <td>0.00899</td>\n",
       "      <td>0.021509</td>\n",
       "      <td>0.012035</td>\n",
       "      <td>0.044302</td>\n",
       "      <td>0.012035</td>\n",
       "      <td>0.044302</td>\n",
       "    </tr>\n",
       "  </tbody>\n",
       "</table>\n",
       "</div>"
      ],
      "text/plain": [
       "    ikss_ka   skss_mw  rk0_ohm   xk0_ohm   rk1_ohm   xk1_ohm   rk2_ohm  \\\n",
       "3  6.628723  1.530838  0.00899  0.021509  0.012035  0.044302  0.012035   \n",
       "\n",
       "    xk2_ohm  \n",
       "3  0.044302  "
      ]
     },
     "execution_count": 23,
     "metadata": {},
     "output_type": "execute_result"
    }
   ],
   "source": [
    "net_df[columns_to_check]"
   ]
  },
  {
   "cell_type": "code",
   "execution_count": 24,
   "id": "6c028f01-be20-4f96-be34-de63ebce3363",
   "metadata": {
    "ExecuteTime": {
     "end_time": "2025-06-18T14:32:56.024370Z",
     "start_time": "2025-06-18T14:32:56.013393Z"
    }
   },
   "outputs": [
    {
     "data": {
      "text/html": [
       "<div>\n",
       "<style scoped>\n",
       "    .dataframe tbody tr th:only-of-type {\n",
       "        vertical-align: middle;\n",
       "    }\n",
       "\n",
       "    .dataframe tbody tr th {\n",
       "        vertical-align: top;\n",
       "    }\n",
       "\n",
       "    .dataframe thead th {\n",
       "        text-align: right;\n",
       "    }\n",
       "</style>\n",
       "<table border=\"1\" class=\"dataframe\">\n",
       "  <thead>\n",
       "    <tr style=\"text-align: right;\">\n",
       "      <th></th>\n",
       "      <th>ikss_ka</th>\n",
       "      <th>skss_mw</th>\n",
       "      <th>rk0_ohm</th>\n",
       "      <th>xk0_ohm</th>\n",
       "      <th>rk1_ohm</th>\n",
       "      <th>xk1_ohm</th>\n",
       "      <th>rk2_ohm</th>\n",
       "      <th>xk2_ohm</th>\n",
       "    </tr>\n",
       "  </thead>\n",
       "  <tbody>\n",
       "    <tr>\n",
       "      <th>13</th>\n",
       "      <td>6.628723</td>\n",
       "      <td>1.530838</td>\n",
       "      <td>0.00899</td>\n",
       "      <td>0.021509</td>\n",
       "      <td>0.012035</td>\n",
       "      <td>0.044302</td>\n",
       "      <td>0.012035</td>\n",
       "      <td>0.044302</td>\n",
       "    </tr>\n",
       "  </tbody>\n",
       "</table>\n",
       "</div>"
      ],
      "text/plain": [
       "     ikss_ka   skss_mw  rk0_ohm   xk0_ohm   rk1_ohm   xk1_ohm   rk2_ohm  \\\n",
       "13  6.628723  1.530838  0.00899  0.021509  0.012035  0.044302  0.012035   \n",
       "\n",
       "     xk2_ohm  \n",
       "13  0.044302  "
      ]
     },
     "execution_count": 24,
     "metadata": {},
     "output_type": "execute_result"
    }
   ],
   "source": [
    "# dataframes[\"bus\"][\"LG_max_10\"]\n",
    "pf_results[columns_to_check]"
   ]
  },
  {
   "cell_type": "code",
   "execution_count": 25,
   "id": "847cd3c1-63b2-4135-8c84-1bc6368a83df",
   "metadata": {
    "ExecuteTime": {
     "end_time": "2025-06-18T14:32:56.280548Z",
     "start_time": "2025-06-18T14:32:56.274752Z"
    }
   },
   "outputs": [],
   "source": [
    "compare_results(columns_to_check, net_df, pf_results, is_branch_test)"
   ]
  }
 ],
 "metadata": {
  "kernelspec": {
   "display_name": "Python 3 (ipykernel)",
   "language": "python",
   "name": "python3"
  },
  "language_info": {
   "codemirror_mode": {
    "name": "ipython",
    "version": 3
   },
   "file_extension": ".py",
   "mimetype": "text/x-python",
   "name": "python",
   "nbconvert_exporter": "python",
   "pygments_lexer": "ipython3",
   "version": "3.11.12"
  }
 },
 "nbformat": 4,
 "nbformat_minor": 5
}
