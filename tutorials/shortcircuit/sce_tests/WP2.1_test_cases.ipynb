{
 "cells": [
  {
   "metadata": {},
   "cell_type": "markdown",
   "source": [
    "# WP2.1 - Short circuit on three-phase passive grids\n",
    "\n",
    "This Notebook shows exemplary tests that are implemented in the sce_test/test_sce.py file.\n",
    "\n",
    "See: https://github.com/e2nIEE/pandapower/blob/sce/pandapower/test/shortcircuit/SCE_Tests/test_all_faults_and_cases.py\n",
    "\n",
    "Therefore it must be run in an environment where the pandapower test folders can be found by the jupyter server's python environment.\n",
    "This can be done by checking out the git branch sce in pandapower and locally initializing the repository by using `pip install -e .`.\n",
    "\n",
    "Further information on running short-circuit calculations in pandapower can be found here:\n",
    "\n",
    "https://pandapower.readthedocs.io/en/latest/shortcircuit/run.html\n",
    "\n",
    "https://github.com/e2nIEE/pandapower/blob/sce/tutorials/shortcircuit/shortcircuit.ipynb"
   ],
   "id": "4f29ac5a177eb371"
  },
  {
   "metadata": {
    "ExecuteTime": {
     "end_time": "2025-08-06T15:46:30.497161Z",
     "start_time": "2025-08-06T15:46:30.480511Z"
    }
   },
   "cell_type": "code",
   "source": [
    "import os\n",
    "from itertools import product\n",
    "\n",
    "from pandapower import pp_dir\n",
    "from pandapower.test.shortcircuit.sce_tests.functions_tests import load_test_case_data, run_test_cases, compare_results\n",
    "\n",
    "testfiles_path = os.path.join(pp_dir, 'test', 'shortcircuit', 'sce_tests')"
   ],
   "id": "bbb72fc343ca5975",
   "outputs": [],
   "execution_count": 18
  },
  {
   "metadata": {
    "ExecuteTime": {
     "end_time": "2025-08-06T15:46:30.546583Z",
     "start_time": "2025-08-06T15:46:30.540612Z"
    }
   },
   "cell_type": "code",
   "source": [
    "import warnings\n",
    "# Ignore all future warnings\n",
    "warnings.simplefilter(action='ignore', category=FutureWarning)\n",
    "# Ignore all runtime warnings\n",
    "warnings.simplefilter(action='ignore', category=RuntimeWarning)"
   ],
   "id": "723314d71a6d3de0",
   "outputs": [],
   "execution_count": 19
  },
  {
   "metadata": {},
   "cell_type": "markdown",
   "source": "From the defined parameters for faults, cases, network names and vector_groups as well as the values for r_faults and x_faults all combinations are generated to run as a test.",
   "id": "60817b0b9d477adf"
  },
  {
   "metadata": {
    "ExecuteTime": {
     "end_time": "2025-08-06T15:46:30.602227Z",
     "start_time": "2025-08-06T15:46:30.591040Z"
    }
   },
   "cell_type": "code",
   "source": [
    "# Define common parameters\n",
    "net_names = [\n",
    "    \"test_case_2_five_bus_radial_grid\",\n",
    "    \"test_case_3_five_bus_meshed_grid\",\n",
    "    \"test_case_4_twenty_bus_radial_grid\"\n",
    "]\n",
    "faults = [\"LLL\", \"LL\", \"LLG\", \"LG\"]\n",
    "cases = [\"max\", \"min\"]\n",
    "values = [(0.0, 0.0), (5.0, 5.0)]\n",
    "vector_groups = ['Dyn', 'Yyn', 'YNyn']\n",
    "lv_tol_percents = [6, 10]\n",
    "fault_location_buses = [0, 1, 2, 3]\n",
    "is_branch_test = [False, True]\n",
    "\n",
    "# Create parameter list\n",
    "parametrize_values = list(product(faults, cases, values, lv_tol_percents, fault_location_buses, is_branch_test))\n",
    "\n",
    "# Create parameter list with vector group\n",
    "parametrize_values_vector = list(product(\n",
    "    net_names, faults[:2], cases, values, lv_tol_percents, vector_groups[:1], fault_location_buses, is_branch_test\n",
    "))+list(product(\n",
    "    net_names, faults[2:], cases, values, lv_tol_percents, vector_groups, fault_location_buses, is_branch_test\n",
    "))\n",
    "\n",
    "\n",
    "total_test_count = len(parametrize_values)+len(parametrize_values_vector)\n",
    "formatted_output = (\n",
    "    f\"Number of parameterization values: {len(parametrize_values)}\\n\"\n",
    "    f\"Number of parameterization value vectors: {len(parametrize_values_vector)}\\n\"\n",
    "    f\"Total number of tests: {total_test_count}\"\n",
    ")\n",
    "print(formatted_output)"
   ],
   "id": "57990014a7a6eeed",
   "outputs": [
    {
     "name": "stdout",
     "output_type": "stream",
     "text": [
      "Number of parameterization values: 256\n",
      "Number of parameterization value vectors: 1536\n",
      "Total number of tests: 1792\n"
     ]
    }
   ],
   "execution_count": 20
  },
  {
   "metadata": {},
   "cell_type": "markdown",
   "source": [
    "The `parametrize_values` list and the `parametrize_values_vector` contain combinations for the tests.\n",
    "Tests for \"LL\" and \"LLL\" using different vector groups are omitted as these have no influence on the results.\n",
    "There is one test using `parametrize_values` and three using `parametrize_values_vector`.\n",
    "Shown above are the amount of test for each of the lists as well as the total.\n",
    "\n",
    "In this Notebook we will only show a exemplary examples for each test case and vector group.\n",
    "The test will load the expected results from the corresponding excel file (exported from commercial PowerFactory software results).\n",
    "Then the calculations are run in pandapower using the parameters from the list of permutation and compared against the expected results.\n",
    "Running the tests in the file below, it is possible to execute the complete list of tests.\n",
    "\n",
    "https://github.com/e2nIEE/pandapower/blob/sce/pandapower/test/shortcircuit/SCE_Tests/test_all_faults_and_cases.py\n",
    "\n",
    "---\n",
    "\n",
    "## Test Case 1: Four bus radial grid"
   ],
   "id": "1cc22b120dd6c618"
  },
  {
   "metadata": {},
   "cell_type": "markdown",
   "source": "![four_bus_radial](four_bus_radial.png)",
   "id": "654390f3a967c462"
  },
  {
   "metadata": {
    "ExecuteTime": {
     "end_time": "2025-08-06T15:46:33.560645Z",
     "start_time": "2025-08-06T15:46:30.639927Z"
    }
   },
   "cell_type": "code",
   "source": [
    "net_name = \"test_case_1_four_bus_radial_grid\"\n",
    "\n",
    "fault = \"LLL\"\n",
    "case = \"max\"\n",
    "fault_values = (0.0, 0.0)\n",
    "# lv_tol_percents does not influence max case (default value is 10)\n",
    "lv_tol_percents = 10\n",
    "fault_location_bus = 0\n",
    "is_branch_test = False\n",
    "# vector group not necesarry as the grid does not contain a transformer\n",
    "\n",
    "# loading the network and testing data\n",
    "net, dataframes = load_test_case_data(net_name, fault_location_bus)"
   ],
   "id": "45e68f339e3c1189",
   "outputs": [],
   "execution_count": 21
  },
  {
   "metadata": {},
   "cell_type": "markdown",
   "source": "These are all the test results that were exported from PowerFactory. Depending on the parameter combination, the corresponding dataframe is selected.",
   "id": "1286410030b7a2bb"
  },
  {
   "metadata": {
    "ExecuteTime": {
     "end_time": "2025-08-06T15:46:33.594589Z",
     "start_time": "2025-08-06T15:46:33.585695Z"
    }
   },
   "cell_type": "code",
   "source": "dataframes[\"bus\"][\"LLL_max_10\"]",
   "id": "f7dcf77536d2e568",
   "outputs": [
    {
     "data": {
      "text/plain": [
       "    name   ikss_ka     skss_mw    rk_ohm    xk_ohm\n",
       "0  Bus_0  2.886752  100.000006  0.437816  4.378163\n",
       "1  Bus_1  0.000000    0.000000  0.000000  0.000000\n",
       "2  Bus_2  0.000000    0.000000  0.000000  0.000000\n",
       "3  Bus_3  0.000000    0.000000  0.000000  0.000000"
      ],
      "text/html": [
       "<div>\n",
       "<style scoped>\n",
       "    .dataframe tbody tr th:only-of-type {\n",
       "        vertical-align: middle;\n",
       "    }\n",
       "\n",
       "    .dataframe tbody tr th {\n",
       "        vertical-align: top;\n",
       "    }\n",
       "\n",
       "    .dataframe thead th {\n",
       "        text-align: right;\n",
       "    }\n",
       "</style>\n",
       "<table border=\"1\" class=\"dataframe\">\n",
       "  <thead>\n",
       "    <tr style=\"text-align: right;\">\n",
       "      <th></th>\n",
       "      <th>name</th>\n",
       "      <th>ikss_ka</th>\n",
       "      <th>skss_mw</th>\n",
       "      <th>rk_ohm</th>\n",
       "      <th>xk_ohm</th>\n",
       "    </tr>\n",
       "  </thead>\n",
       "  <tbody>\n",
       "    <tr>\n",
       "      <th>0</th>\n",
       "      <td>Bus_0</td>\n",
       "      <td>2.886752</td>\n",
       "      <td>100.000006</td>\n",
       "      <td>0.437816</td>\n",
       "      <td>4.378163</td>\n",
       "    </tr>\n",
       "    <tr>\n",
       "      <th>1</th>\n",
       "      <td>Bus_1</td>\n",
       "      <td>0.000000</td>\n",
       "      <td>0.000000</td>\n",
       "      <td>0.000000</td>\n",
       "      <td>0.000000</td>\n",
       "    </tr>\n",
       "    <tr>\n",
       "      <th>2</th>\n",
       "      <td>Bus_2</td>\n",
       "      <td>0.000000</td>\n",
       "      <td>0.000000</td>\n",
       "      <td>0.000000</td>\n",
       "      <td>0.000000</td>\n",
       "    </tr>\n",
       "    <tr>\n",
       "      <th>3</th>\n",
       "      <td>Bus_3</td>\n",
       "      <td>0.000000</td>\n",
       "      <td>0.000000</td>\n",
       "      <td>0.000000</td>\n",
       "      <td>0.000000</td>\n",
       "    </tr>\n",
       "  </tbody>\n",
       "</table>\n",
       "</div>"
      ]
     },
     "execution_count": 22,
     "metadata": {},
     "output_type": "execute_result"
    }
   ],
   "execution_count": 22
  },
  {
   "metadata": {},
   "cell_type": "markdown",
   "source": "Let's now select the dataframe that we need in order to execute our first test case.",
   "id": "e100ac5cf6545144"
  },
  {
   "metadata": {},
   "cell_type": "markdown",
   "source": [
    "With the loaded network and expected results we now can run the test to receive the dataframes and the columns that should be compared.\n",
    "\n",
    "Below is the list of columns that will be compared."
   ],
   "id": "943f493d192d219a"
  },
  {
   "metadata": {
    "ExecuteTime": {
     "end_time": "2025-08-06T15:46:33.692909Z",
     "start_time": "2025-08-06T15:46:33.671262Z"
    }
   },
   "cell_type": "code",
   "source": [
    "columns_to_check, net_df, pf_results = run_test_cases(net, dataframes[\"branch\" if is_branch_test else \"bus\"], fault, case, fault_values, lv_tol_percents, fault_location_bus, is_branch_test)\n",
    "columns_to_check"
   ],
   "id": "773be6c1d311307e",
   "outputs": [
    {
     "data": {
      "text/plain": [
       "Index(['name', 'ikss_ka', 'skss_mw', 'rk_ohm', 'xk_ohm'], dtype='object')"
      ]
     },
     "execution_count": 23,
     "metadata": {},
     "output_type": "execute_result"
    }
   ],
   "execution_count": 23
  },
  {
   "metadata": {
    "ExecuteTime": {
     "end_time": "2025-08-06T15:46:33.812112Z",
     "start_time": "2025-08-06T15:46:33.802723Z"
    }
   },
   "cell_type": "code",
   "source": "net_df[columns_to_check]",
   "id": "8183ddddbf34536d",
   "outputs": [
    {
     "data": {
      "text/plain": [
       "    name   ikss_ka  skss_mw    rk_ohm    xk_ohm\n",
       "0  Bus_0  2.886751    100.0  0.437816  4.378164"
      ],
      "text/html": [
       "<div>\n",
       "<style scoped>\n",
       "    .dataframe tbody tr th:only-of-type {\n",
       "        vertical-align: middle;\n",
       "    }\n",
       "\n",
       "    .dataframe tbody tr th {\n",
       "        vertical-align: top;\n",
       "    }\n",
       "\n",
       "    .dataframe thead th {\n",
       "        text-align: right;\n",
       "    }\n",
       "</style>\n",
       "<table border=\"1\" class=\"dataframe\">\n",
       "  <thead>\n",
       "    <tr style=\"text-align: right;\">\n",
       "      <th></th>\n",
       "      <th>name</th>\n",
       "      <th>ikss_ka</th>\n",
       "      <th>skss_mw</th>\n",
       "      <th>rk_ohm</th>\n",
       "      <th>xk_ohm</th>\n",
       "    </tr>\n",
       "  </thead>\n",
       "  <tbody>\n",
       "    <tr>\n",
       "      <th>0</th>\n",
       "      <td>Bus_0</td>\n",
       "      <td>2.886751</td>\n",
       "      <td>100.0</td>\n",
       "      <td>0.437816</td>\n",
       "      <td>4.378164</td>\n",
       "    </tr>\n",
       "  </tbody>\n",
       "</table>\n",
       "</div>"
      ]
     },
     "execution_count": 24,
     "metadata": {},
     "output_type": "execute_result"
    }
   ],
   "execution_count": 24
  },
  {
   "metadata": {
    "ExecuteTime": {
     "end_time": "2025-08-06T15:46:33.928924Z",
     "start_time": "2025-08-06T15:46:33.920857Z"
    }
   },
   "cell_type": "code",
   "source": [
    "# dataframes[\"bus\"][\"LLL_max_10\"]\n",
    "pf_results[columns_to_check]"
   ],
   "id": "da8e321a0ce20b55",
   "outputs": [
    {
     "data": {
      "text/plain": [
       "    name   ikss_ka     skss_mw    rk_ohm    xk_ohm\n",
       "0  Bus_0  2.886752  100.000006  0.437816  4.378163"
      ],
      "text/html": [
       "<div>\n",
       "<style scoped>\n",
       "    .dataframe tbody tr th:only-of-type {\n",
       "        vertical-align: middle;\n",
       "    }\n",
       "\n",
       "    .dataframe tbody tr th {\n",
       "        vertical-align: top;\n",
       "    }\n",
       "\n",
       "    .dataframe thead th {\n",
       "        text-align: right;\n",
       "    }\n",
       "</style>\n",
       "<table border=\"1\" class=\"dataframe\">\n",
       "  <thead>\n",
       "    <tr style=\"text-align: right;\">\n",
       "      <th></th>\n",
       "      <th>name</th>\n",
       "      <th>ikss_ka</th>\n",
       "      <th>skss_mw</th>\n",
       "      <th>rk_ohm</th>\n",
       "      <th>xk_ohm</th>\n",
       "    </tr>\n",
       "  </thead>\n",
       "  <tbody>\n",
       "    <tr>\n",
       "      <th>0</th>\n",
       "      <td>Bus_0</td>\n",
       "      <td>2.886752</td>\n",
       "      <td>100.000006</td>\n",
       "      <td>0.437816</td>\n",
       "      <td>4.378163</td>\n",
       "    </tr>\n",
       "  </tbody>\n",
       "</table>\n",
       "</div>"
      ]
     },
     "execution_count": 25,
     "metadata": {},
     "output_type": "execute_result"
    }
   ],
   "execution_count": 25
  },
  {
   "metadata": {},
   "cell_type": "markdown",
   "source": "As you can see the results are matching and the comparison function will pass and not throw any errors.",
   "id": "559c241b05feeedd"
  },
  {
   "metadata": {
    "ExecuteTime": {
     "end_time": "2025-08-06T15:46:34.089576Z",
     "start_time": "2025-08-06T15:46:34.084217Z"
    }
   },
   "cell_type": "code",
   "source": "compare_results(columns_to_check, net_df, pf_results)",
   "id": "af6f368e1e4e36d0",
   "outputs": [],
   "execution_count": 26
  },
  {
   "metadata": {},
   "cell_type": "markdown",
   "source": "## Test Case 2: Five bus radial grid",
   "id": "5addef1a56e093f3"
  },
  {
   "metadata": {},
   "cell_type": "markdown",
   "source": "![five_bus_radial](five_bus_radial.png)",
   "id": "82c7525adb126c50"
  },
  {
   "metadata": {
    "ExecuteTime": {
     "end_time": "2025-08-06T15:46:37.268283Z",
     "start_time": "2025-08-06T15:46:34.270746Z"
    }
   },
   "cell_type": "code",
   "source": [
    "net_name = \"test_case_2_five_bus_radial_grid\"\n",
    "\n",
    "fault = \"LG\"\n",
    "case = \"min\"\n",
    "fault_values = (5.0, 5.0)\n",
    "lv_tol_percents = 6\n",
    "fault_location_bus = 3\n",
    "is_branch_test = True\n",
    "vector_group = 'Dyn'\n",
    "\n",
    "# loading the network and testing data\n",
    "net, dataframes = load_test_case_data(net_name, fault_location_bus, vector_group)"
   ],
   "id": "4eebfeb651c2e26",
   "outputs": [],
   "execution_count": 27
  },
  {
   "metadata": {
    "ExecuteTime": {
     "end_time": "2025-08-06T15:46:37.347118Z",
     "start_time": "2025-08-06T15:46:37.297913Z"
    }
   },
   "cell_type": "code",
   "source": [
    "columns_to_check, net_df, pf_results = run_test_cases(net, dataframes[\"branch\" if is_branch_test else \"bus\"], fault, case, fault_values, lv_tol_percents, fault_location_bus, is_branch_test)\n",
    "columns_to_check"
   ],
   "id": "222fde9f7913ec74",
   "outputs": [
    {
     "data": {
      "text/plain": [
       "Index(['ikss_a_from_ka', 'ikss_a_from_degree', 'ikss_a_to_ka',\n",
       "       'ikss_a_to_degree', 'p_a_from_mw', 'q_a_from_mvar', 'p_a_to_mw',\n",
       "       'q_a_to_mvar', 'vm_a_from_pu', 'va_a_from_degree', 'vm_a_to_pu',\n",
       "       'va_a_to_degree', 'ikss_b_from_ka', 'ikss_b_from_degree',\n",
       "       'ikss_b_to_ka', 'ikss_b_to_degree', 'p_b_from_mw', 'q_b_from_mvar',\n",
       "       'p_b_to_mw', 'q_b_to_mvar', 'vm_b_from_pu', 'va_b_from_degree',\n",
       "       'vm_b_to_pu', 'va_b_to_degree', 'ikss_c_from_ka', 'ikss_c_from_degree',\n",
       "       'ikss_c_to_ka', 'ikss_c_to_degree', 'p_c_from_mw', 'q_c_from_mvar',\n",
       "       'p_c_to_mw', 'q_c_to_mvar', 'vm_c_from_pu', 'va_c_from_degree',\n",
       "       'vm_c_to_pu', 'va_c_to_degree'],\n",
       "      dtype='object')"
      ]
     },
     "execution_count": 28,
     "metadata": {},
     "output_type": "execute_result"
    }
   ],
   "execution_count": 28
  },
  {
   "metadata": {
    "ExecuteTime": {
     "end_time": "2025-08-06T15:46:37.399165Z",
     "start_time": "2025-08-06T15:46:37.382087Z"
    }
   },
   "cell_type": "code",
   "source": "net_df[columns_to_check]",
   "id": "df0bde970a7817d7",
   "outputs": [
    {
     "data": {
      "text/plain": [
       "   ikss_a_from_ka  ikss_a_from_degree  ikss_a_to_ka  ikss_a_to_degree  \\\n",
       "0        0.823769          -37.522885      0.823628        142.506266   \n",
       "1        0.823097          142.652000      0.823405        -37.435411   \n",
       "2        0.000000            0.000000      0.000868       -112.545962   \n",
       "\n",
       "   p_a_from_mw  q_a_from_mvar  p_a_to_mw  q_a_to_mvar  vm_a_from_pu  \\\n",
       "0     7.494644       4.592405  -5.436024    -3.997649      0.924064   \n",
       "1    -3.387439      -3.387439   5.438615     3.991031      0.504042   \n",
       "2     0.000000       0.000000  -0.002591     0.006618      0.709551   \n",
       "\n",
       "   va_a_from_degree  ...  ikss_c_to_ka  ikss_c_to_degree  p_c_from_mw  \\\n",
       "0         -6.024653  ...      0.002161         66.826551    -0.019621   \n",
       "1          7.652000  ...      0.001293       -113.594362     0.000000   \n",
       "2         -1.141325  ...      0.000868       -112.545962     0.000000   \n",
       "\n",
       "   q_c_from_mvar  p_c_to_mw  q_c_to_mvar  vm_c_from_pu  va_c_from_degree  \\\n",
       "0       -0.02339   0.016470     0.023266      1.016206        117.549409   \n",
       "1        0.00000  -0.009755    -0.013998      1.272497        124.745443   \n",
       "2        0.00000  -0.006715    -0.009268      1.142727        121.523260   \n",
       "\n",
       "   vm_c_to_pu  va_c_to_degree  \n",
       "0    1.142526      121.532466  \n",
       "1    1.142526      121.532466  \n",
       "2    1.142526      121.532466  \n",
       "\n",
       "[3 rows x 36 columns]"
      ],
      "text/html": [
       "<div>\n",
       "<style scoped>\n",
       "    .dataframe tbody tr th:only-of-type {\n",
       "        vertical-align: middle;\n",
       "    }\n",
       "\n",
       "    .dataframe tbody tr th {\n",
       "        vertical-align: top;\n",
       "    }\n",
       "\n",
       "    .dataframe thead th {\n",
       "        text-align: right;\n",
       "    }\n",
       "</style>\n",
       "<table border=\"1\" class=\"dataframe\">\n",
       "  <thead>\n",
       "    <tr style=\"text-align: right;\">\n",
       "      <th></th>\n",
       "      <th>ikss_a_from_ka</th>\n",
       "      <th>ikss_a_from_degree</th>\n",
       "      <th>ikss_a_to_ka</th>\n",
       "      <th>ikss_a_to_degree</th>\n",
       "      <th>p_a_from_mw</th>\n",
       "      <th>q_a_from_mvar</th>\n",
       "      <th>p_a_to_mw</th>\n",
       "      <th>q_a_to_mvar</th>\n",
       "      <th>vm_a_from_pu</th>\n",
       "      <th>va_a_from_degree</th>\n",
       "      <th>...</th>\n",
       "      <th>ikss_c_to_ka</th>\n",
       "      <th>ikss_c_to_degree</th>\n",
       "      <th>p_c_from_mw</th>\n",
       "      <th>q_c_from_mvar</th>\n",
       "      <th>p_c_to_mw</th>\n",
       "      <th>q_c_to_mvar</th>\n",
       "      <th>vm_c_from_pu</th>\n",
       "      <th>va_c_from_degree</th>\n",
       "      <th>vm_c_to_pu</th>\n",
       "      <th>va_c_to_degree</th>\n",
       "    </tr>\n",
       "  </thead>\n",
       "  <tbody>\n",
       "    <tr>\n",
       "      <th>0</th>\n",
       "      <td>0.823769</td>\n",
       "      <td>-37.522885</td>\n",
       "      <td>0.823628</td>\n",
       "      <td>142.506266</td>\n",
       "      <td>7.494644</td>\n",
       "      <td>4.592405</td>\n",
       "      <td>-5.436024</td>\n",
       "      <td>-3.997649</td>\n",
       "      <td>0.924064</td>\n",
       "      <td>-6.024653</td>\n",
       "      <td>...</td>\n",
       "      <td>0.002161</td>\n",
       "      <td>66.826551</td>\n",
       "      <td>-0.019621</td>\n",
       "      <td>-0.02339</td>\n",
       "      <td>0.016470</td>\n",
       "      <td>0.023266</td>\n",
       "      <td>1.016206</td>\n",
       "      <td>117.549409</td>\n",
       "      <td>1.142526</td>\n",
       "      <td>121.532466</td>\n",
       "    </tr>\n",
       "    <tr>\n",
       "      <th>1</th>\n",
       "      <td>0.823097</td>\n",
       "      <td>142.652000</td>\n",
       "      <td>0.823405</td>\n",
       "      <td>-37.435411</td>\n",
       "      <td>-3.387439</td>\n",
       "      <td>-3.387439</td>\n",
       "      <td>5.438615</td>\n",
       "      <td>3.991031</td>\n",
       "      <td>0.504042</td>\n",
       "      <td>7.652000</td>\n",
       "      <td>...</td>\n",
       "      <td>0.001293</td>\n",
       "      <td>-113.594362</td>\n",
       "      <td>0.000000</td>\n",
       "      <td>0.00000</td>\n",
       "      <td>-0.009755</td>\n",
       "      <td>-0.013998</td>\n",
       "      <td>1.272497</td>\n",
       "      <td>124.745443</td>\n",
       "      <td>1.142526</td>\n",
       "      <td>121.532466</td>\n",
       "    </tr>\n",
       "    <tr>\n",
       "      <th>2</th>\n",
       "      <td>0.000000</td>\n",
       "      <td>0.000000</td>\n",
       "      <td>0.000868</td>\n",
       "      <td>-112.545962</td>\n",
       "      <td>0.000000</td>\n",
       "      <td>0.000000</td>\n",
       "      <td>-0.002591</td>\n",
       "      <td>0.006618</td>\n",
       "      <td>0.709551</td>\n",
       "      <td>-1.141325</td>\n",
       "      <td>...</td>\n",
       "      <td>0.000868</td>\n",
       "      <td>-112.545962</td>\n",
       "      <td>0.000000</td>\n",
       "      <td>0.00000</td>\n",
       "      <td>-0.006715</td>\n",
       "      <td>-0.009268</td>\n",
       "      <td>1.142727</td>\n",
       "      <td>121.523260</td>\n",
       "      <td>1.142526</td>\n",
       "      <td>121.532466</td>\n",
       "    </tr>\n",
       "  </tbody>\n",
       "</table>\n",
       "<p>3 rows × 36 columns</p>\n",
       "</div>"
      ]
     },
     "execution_count": 29,
     "metadata": {},
     "output_type": "execute_result"
    }
   ],
   "execution_count": 29
  },
  {
   "metadata": {
    "ExecuteTime": {
     "end_time": "2025-08-06T15:46:37.510502Z",
     "start_time": "2025-08-06T15:46:37.492497Z"
    }
   },
   "cell_type": "code",
   "source": [
    "# dataframes[\"branch\"][\"LG_min_fault_6\"]\n",
    "pf_results[columns_to_check]"
   ],
   "id": "e7d85970707d06af",
   "outputs": [
    {
     "data": {
      "text/plain": [
       "   ikss_a_from_ka  ikss_a_from_degree  ikss_a_to_ka  ikss_a_to_degree  \\\n",
       "0        0.823769          -37.522885      0.823628        142.506266   \n",
       "1        0.823097          142.652000      0.823405        -37.435411   \n",
       "2        0.000000            0.000000      0.000868       -112.545967   \n",
       "\n",
       "    p_a_from_mw  q_a_from_mvar  p_a_to_mw  q_a_to_mvar  vm_a_from_pu  \\\n",
       "0  7.494644e+00   4.592405e+00  -5.436024    -3.997649      0.924064   \n",
       "1 -3.387439e+00  -3.387439e+00   5.438615     3.991031      0.504042   \n",
       "2  7.551381e-10  -5.182125e-11  -0.002591     0.006618      0.709551   \n",
       "\n",
       "   va_a_from_degree  ...  ikss_c_to_ka  ikss_c_to_degree   p_c_from_mw  \\\n",
       "0         -6.024653  ...      0.002161         66.826546 -1.962060e-02   \n",
       "1          7.652001  ...      0.001293       -113.594366 -1.287415e-09   \n",
       "2         -1.141325  ...      0.000868       -112.545964 -5.995053e-10   \n",
       "\n",
       "   q_c_from_mvar  p_c_to_mw  q_c_to_mvar  vm_c_from_pu  va_c_from_degree  \\\n",
       "0  -2.338974e-02   0.016470     0.023266      1.016206        117.549409   \n",
       "1   3.859960e-10  -0.009755    -0.013998      1.272497        124.745443   \n",
       "2   1.113843e-10  -0.006715    -0.009268      1.142727        121.523260   \n",
       "\n",
       "   vm_c_to_pu  va_c_to_degree  \n",
       "0    1.142526      121.532466  \n",
       "1    1.142526      121.532466  \n",
       "2    1.142526      121.532466  \n",
       "\n",
       "[3 rows x 36 columns]"
      ],
      "text/html": [
       "<div>\n",
       "<style scoped>\n",
       "    .dataframe tbody tr th:only-of-type {\n",
       "        vertical-align: middle;\n",
       "    }\n",
       "\n",
       "    .dataframe tbody tr th {\n",
       "        vertical-align: top;\n",
       "    }\n",
       "\n",
       "    .dataframe thead th {\n",
       "        text-align: right;\n",
       "    }\n",
       "</style>\n",
       "<table border=\"1\" class=\"dataframe\">\n",
       "  <thead>\n",
       "    <tr style=\"text-align: right;\">\n",
       "      <th></th>\n",
       "      <th>ikss_a_from_ka</th>\n",
       "      <th>ikss_a_from_degree</th>\n",
       "      <th>ikss_a_to_ka</th>\n",
       "      <th>ikss_a_to_degree</th>\n",
       "      <th>p_a_from_mw</th>\n",
       "      <th>q_a_from_mvar</th>\n",
       "      <th>p_a_to_mw</th>\n",
       "      <th>q_a_to_mvar</th>\n",
       "      <th>vm_a_from_pu</th>\n",
       "      <th>va_a_from_degree</th>\n",
       "      <th>...</th>\n",
       "      <th>ikss_c_to_ka</th>\n",
       "      <th>ikss_c_to_degree</th>\n",
       "      <th>p_c_from_mw</th>\n",
       "      <th>q_c_from_mvar</th>\n",
       "      <th>p_c_to_mw</th>\n",
       "      <th>q_c_to_mvar</th>\n",
       "      <th>vm_c_from_pu</th>\n",
       "      <th>va_c_from_degree</th>\n",
       "      <th>vm_c_to_pu</th>\n",
       "      <th>va_c_to_degree</th>\n",
       "    </tr>\n",
       "  </thead>\n",
       "  <tbody>\n",
       "    <tr>\n",
       "      <th>0</th>\n",
       "      <td>0.823769</td>\n",
       "      <td>-37.522885</td>\n",
       "      <td>0.823628</td>\n",
       "      <td>142.506266</td>\n",
       "      <td>7.494644e+00</td>\n",
       "      <td>4.592405e+00</td>\n",
       "      <td>-5.436024</td>\n",
       "      <td>-3.997649</td>\n",
       "      <td>0.924064</td>\n",
       "      <td>-6.024653</td>\n",
       "      <td>...</td>\n",
       "      <td>0.002161</td>\n",
       "      <td>66.826546</td>\n",
       "      <td>-1.962060e-02</td>\n",
       "      <td>-2.338974e-02</td>\n",
       "      <td>0.016470</td>\n",
       "      <td>0.023266</td>\n",
       "      <td>1.016206</td>\n",
       "      <td>117.549409</td>\n",
       "      <td>1.142526</td>\n",
       "      <td>121.532466</td>\n",
       "    </tr>\n",
       "    <tr>\n",
       "      <th>1</th>\n",
       "      <td>0.823097</td>\n",
       "      <td>142.652000</td>\n",
       "      <td>0.823405</td>\n",
       "      <td>-37.435411</td>\n",
       "      <td>-3.387439e+00</td>\n",
       "      <td>-3.387439e+00</td>\n",
       "      <td>5.438615</td>\n",
       "      <td>3.991031</td>\n",
       "      <td>0.504042</td>\n",
       "      <td>7.652001</td>\n",
       "      <td>...</td>\n",
       "      <td>0.001293</td>\n",
       "      <td>-113.594366</td>\n",
       "      <td>-1.287415e-09</td>\n",
       "      <td>3.859960e-10</td>\n",
       "      <td>-0.009755</td>\n",
       "      <td>-0.013998</td>\n",
       "      <td>1.272497</td>\n",
       "      <td>124.745443</td>\n",
       "      <td>1.142526</td>\n",
       "      <td>121.532466</td>\n",
       "    </tr>\n",
       "    <tr>\n",
       "      <th>2</th>\n",
       "      <td>0.000000</td>\n",
       "      <td>0.000000</td>\n",
       "      <td>0.000868</td>\n",
       "      <td>-112.545967</td>\n",
       "      <td>7.551381e-10</td>\n",
       "      <td>-5.182125e-11</td>\n",
       "      <td>-0.002591</td>\n",
       "      <td>0.006618</td>\n",
       "      <td>0.709551</td>\n",
       "      <td>-1.141325</td>\n",
       "      <td>...</td>\n",
       "      <td>0.000868</td>\n",
       "      <td>-112.545964</td>\n",
       "      <td>-5.995053e-10</td>\n",
       "      <td>1.113843e-10</td>\n",
       "      <td>-0.006715</td>\n",
       "      <td>-0.009268</td>\n",
       "      <td>1.142727</td>\n",
       "      <td>121.523260</td>\n",
       "      <td>1.142526</td>\n",
       "      <td>121.532466</td>\n",
       "    </tr>\n",
       "  </tbody>\n",
       "</table>\n",
       "<p>3 rows × 36 columns</p>\n",
       "</div>"
      ]
     },
     "execution_count": 30,
     "metadata": {},
     "output_type": "execute_result"
    }
   ],
   "execution_count": 30
  },
  {
   "metadata": {
    "ExecuteTime": {
     "end_time": "2025-08-06T15:46:37.701151Z",
     "start_time": "2025-08-06T15:46:37.671393Z"
    }
   },
   "cell_type": "code",
   "source": "compare_results(columns_to_check, net_df, pf_results)",
   "id": "5c25905fd499442d",
   "outputs": [],
   "execution_count": 31
  },
  {
   "metadata": {},
   "cell_type": "markdown",
   "source": "## Test Case 3: Five bus meshed grid",
   "id": "6080602c6f71ce5c"
  },
  {
   "metadata": {},
   "cell_type": "markdown",
   "source": "![five_bus_meshed](five_bus_meshed.png)",
   "id": "a3a7872e625ee78e"
  },
  {
   "metadata": {
    "ExecuteTime": {
     "end_time": "2025-08-06T15:46:41.006082Z",
     "start_time": "2025-08-06T15:46:37.918410Z"
    }
   },
   "cell_type": "code",
   "source": [
    "net_name = \"test_case_3_five_bus_meshed_grid\"\n",
    "\n",
    "fault = \"LLL\"\n",
    "case = \"min\"\n",
    "fault_values = (5.0, 5.0)\n",
    "lv_tol_percents = 6\n",
    "fault_location_bus = 2\n",
    "is_branch_test = True\n",
    "vector_group = 'Yyn'\n",
    "\n",
    "# loading the network and testing data\n",
    "net, dataframes = load_test_case_data(net_name, fault_location_bus, vector_group)"
   ],
   "id": "e285dacd5a8dd57",
   "outputs": [],
   "execution_count": 32
  },
  {
   "metadata": {
    "ExecuteTime": {
     "end_time": "2025-08-06T15:46:41.074665Z",
     "start_time": "2025-08-06T15:46:41.035182Z"
    }
   },
   "cell_type": "code",
   "source": [
    "columns_to_check, net_df, pf_results = run_test_cases(net, dataframes[\"branch\" if is_branch_test else \"bus\"], fault, case, fault_values, lv_tol_percents, fault_location_bus, is_branch_test)\n",
    "columns_to_check"
   ],
   "id": "9cc5d7979ad3262b",
   "outputs": [
    {
     "data": {
      "text/plain": [
       "Index(['name', 'ikss_ka', 'ikss_a_from_ka', 'ikss_a_from_degree',\n",
       "       'ikss_a_to_ka', 'ikss_a_to_degree', 'p_a_from_mw', 'q_a_from_mvar',\n",
       "       'p_a_to_mw', 'q_a_to_mvar', 'vm_a_from_pu', 'va_a_from_degree',\n",
       "       'vm_a_to_pu', 'va_a_to_degree'],\n",
       "      dtype='object')"
      ]
     },
     "execution_count": 33,
     "metadata": {},
     "output_type": "execute_result"
    }
   ],
   "execution_count": 33
  },
  {
   "metadata": {
    "ExecuteTime": {
     "end_time": "2025-08-06T15:46:41.136731Z",
     "start_time": "2025-08-06T15:46:41.123780Z"
    }
   },
   "cell_type": "code",
   "source": "net_df[columns_to_check]",
   "id": "4c7d0e3d2ea4962c",
   "outputs": [
    {
     "data": {
      "text/plain": [
       "     name   ikss_ka  ikss_a_from_ka  ikss_a_from_degree  ikss_a_to_ka  \\\n",
       "0  Line_0  1.146247        1.146247          -52.634345      1.146247   \n",
       "1  Line_1  0.000000        0.000000            0.000000      0.000000   \n",
       "2  Line_2  0.000000        0.000000            0.000000      0.000000   \n",
       "3  Line_4  0.000000        0.000000            0.000000      0.000000   \n",
       "\n",
       "   ikss_a_to_degree  p_a_from_mw  q_a_from_mvar  p_a_to_mw  q_a_to_mvar  \\\n",
       "0        127.365655    23.643589      22.033819 -19.708246   -19.708246   \n",
       "1          0.000000     0.000000       0.000000   0.000000     0.000000   \n",
       "2          0.000000     0.000000       0.000000   0.000000     0.000000   \n",
       "3          0.000000     0.000000       0.000000   0.000000     0.000000   \n",
       "\n",
       "   vm_a_from_pu  va_a_from_degree  vm_a_to_pu  va_a_to_degree  \n",
       "0       0.81393         -9.652736     0.70193       -7.634345  \n",
       "1       0.70193         -7.634345     0.70193       -7.634345  \n",
       "2       0.70193         -7.634345     0.70193       -7.634345  \n",
       "3       0.70193         -7.634345     0.70193       -7.634345  "
      ],
      "text/html": [
       "<div>\n",
       "<style scoped>\n",
       "    .dataframe tbody tr th:only-of-type {\n",
       "        vertical-align: middle;\n",
       "    }\n",
       "\n",
       "    .dataframe tbody tr th {\n",
       "        vertical-align: top;\n",
       "    }\n",
       "\n",
       "    .dataframe thead th {\n",
       "        text-align: right;\n",
       "    }\n",
       "</style>\n",
       "<table border=\"1\" class=\"dataframe\">\n",
       "  <thead>\n",
       "    <tr style=\"text-align: right;\">\n",
       "      <th></th>\n",
       "      <th>name</th>\n",
       "      <th>ikss_ka</th>\n",
       "      <th>ikss_a_from_ka</th>\n",
       "      <th>ikss_a_from_degree</th>\n",
       "      <th>ikss_a_to_ka</th>\n",
       "      <th>ikss_a_to_degree</th>\n",
       "      <th>p_a_from_mw</th>\n",
       "      <th>q_a_from_mvar</th>\n",
       "      <th>p_a_to_mw</th>\n",
       "      <th>q_a_to_mvar</th>\n",
       "      <th>vm_a_from_pu</th>\n",
       "      <th>va_a_from_degree</th>\n",
       "      <th>vm_a_to_pu</th>\n",
       "      <th>va_a_to_degree</th>\n",
       "    </tr>\n",
       "  </thead>\n",
       "  <tbody>\n",
       "    <tr>\n",
       "      <th>0</th>\n",
       "      <td>Line_0</td>\n",
       "      <td>1.146247</td>\n",
       "      <td>1.146247</td>\n",
       "      <td>-52.634345</td>\n",
       "      <td>1.146247</td>\n",
       "      <td>127.365655</td>\n",
       "      <td>23.643589</td>\n",
       "      <td>22.033819</td>\n",
       "      <td>-19.708246</td>\n",
       "      <td>-19.708246</td>\n",
       "      <td>0.81393</td>\n",
       "      <td>-9.652736</td>\n",
       "      <td>0.70193</td>\n",
       "      <td>-7.634345</td>\n",
       "    </tr>\n",
       "    <tr>\n",
       "      <th>1</th>\n",
       "      <td>Line_1</td>\n",
       "      <td>0.000000</td>\n",
       "      <td>0.000000</td>\n",
       "      <td>0.000000</td>\n",
       "      <td>0.000000</td>\n",
       "      <td>0.000000</td>\n",
       "      <td>0.000000</td>\n",
       "      <td>0.000000</td>\n",
       "      <td>0.000000</td>\n",
       "      <td>0.000000</td>\n",
       "      <td>0.70193</td>\n",
       "      <td>-7.634345</td>\n",
       "      <td>0.70193</td>\n",
       "      <td>-7.634345</td>\n",
       "    </tr>\n",
       "    <tr>\n",
       "      <th>2</th>\n",
       "      <td>Line_2</td>\n",
       "      <td>0.000000</td>\n",
       "      <td>0.000000</td>\n",
       "      <td>0.000000</td>\n",
       "      <td>0.000000</td>\n",
       "      <td>0.000000</td>\n",
       "      <td>0.000000</td>\n",
       "      <td>0.000000</td>\n",
       "      <td>0.000000</td>\n",
       "      <td>0.000000</td>\n",
       "      <td>0.70193</td>\n",
       "      <td>-7.634345</td>\n",
       "      <td>0.70193</td>\n",
       "      <td>-7.634345</td>\n",
       "    </tr>\n",
       "    <tr>\n",
       "      <th>3</th>\n",
       "      <td>Line_4</td>\n",
       "      <td>0.000000</td>\n",
       "      <td>0.000000</td>\n",
       "      <td>0.000000</td>\n",
       "      <td>0.000000</td>\n",
       "      <td>0.000000</td>\n",
       "      <td>0.000000</td>\n",
       "      <td>0.000000</td>\n",
       "      <td>0.000000</td>\n",
       "      <td>0.000000</td>\n",
       "      <td>0.70193</td>\n",
       "      <td>-7.634345</td>\n",
       "      <td>0.70193</td>\n",
       "      <td>-7.634345</td>\n",
       "    </tr>\n",
       "  </tbody>\n",
       "</table>\n",
       "</div>"
      ]
     },
     "execution_count": 34,
     "metadata": {},
     "output_type": "execute_result"
    }
   ],
   "execution_count": 34
  },
  {
   "metadata": {
    "ExecuteTime": {
     "end_time": "2025-08-06T15:46:41.239338Z",
     "start_time": "2025-08-06T15:46:41.229296Z"
    }
   },
   "cell_type": "code",
   "source": [
    "# dataframes[\"branch\"][\"LLL_min_fault_6\"]\n",
    "pf_results[columns_to_check]"
   ],
   "id": "b3bee01577d4502f",
   "outputs": [
    {
     "data": {
      "text/plain": [
       "     name   ikss_ka  ikss_a_from_ka  ikss_a_from_degree  ikss_a_to_ka  \\\n",
       "0  Line_0  1.146247        1.146247          -52.634345      1.146247   \n",
       "1  Line_1  0.000000        0.000000            0.000000      0.000000   \n",
       "2  Line_2  0.000000        0.000000            0.000000      0.000000   \n",
       "3  Line_4  0.000000        0.000000            0.000000      0.000000   \n",
       "\n",
       "   ikss_a_to_degree  p_a_from_mw  q_a_from_mvar     p_a_to_mw   q_a_to_mvar  \\\n",
       "0        127.365655    23.643589      22.033819 -1.970825e+01 -1.970825e+01   \n",
       "1          0.000000     0.000000       0.000000 -2.233007e-09  1.025774e-09   \n",
       "2          0.000000     0.000000       0.000000 -2.233008e-09  1.025769e-09   \n",
       "3          0.000000     0.000000       0.000000  0.000000e+00  0.000000e+00   \n",
       "\n",
       "   vm_a_from_pu  va_a_from_degree  vm_a_to_pu  va_a_to_degree  \n",
       "0       0.81393         -9.652736     0.70193       -7.634345  \n",
       "1       0.70193         -7.634345     0.70193       -7.634345  \n",
       "2       0.70193         -7.634345     0.70193       -7.634345  \n",
       "3       0.70193         -7.634345     0.70193       -7.634345  "
      ],
      "text/html": [
       "<div>\n",
       "<style scoped>\n",
       "    .dataframe tbody tr th:only-of-type {\n",
       "        vertical-align: middle;\n",
       "    }\n",
       "\n",
       "    .dataframe tbody tr th {\n",
       "        vertical-align: top;\n",
       "    }\n",
       "\n",
       "    .dataframe thead th {\n",
       "        text-align: right;\n",
       "    }\n",
       "</style>\n",
       "<table border=\"1\" class=\"dataframe\">\n",
       "  <thead>\n",
       "    <tr style=\"text-align: right;\">\n",
       "      <th></th>\n",
       "      <th>name</th>\n",
       "      <th>ikss_ka</th>\n",
       "      <th>ikss_a_from_ka</th>\n",
       "      <th>ikss_a_from_degree</th>\n",
       "      <th>ikss_a_to_ka</th>\n",
       "      <th>ikss_a_to_degree</th>\n",
       "      <th>p_a_from_mw</th>\n",
       "      <th>q_a_from_mvar</th>\n",
       "      <th>p_a_to_mw</th>\n",
       "      <th>q_a_to_mvar</th>\n",
       "      <th>vm_a_from_pu</th>\n",
       "      <th>va_a_from_degree</th>\n",
       "      <th>vm_a_to_pu</th>\n",
       "      <th>va_a_to_degree</th>\n",
       "    </tr>\n",
       "  </thead>\n",
       "  <tbody>\n",
       "    <tr>\n",
       "      <th>0</th>\n",
       "      <td>Line_0</td>\n",
       "      <td>1.146247</td>\n",
       "      <td>1.146247</td>\n",
       "      <td>-52.634345</td>\n",
       "      <td>1.146247</td>\n",
       "      <td>127.365655</td>\n",
       "      <td>23.643589</td>\n",
       "      <td>22.033819</td>\n",
       "      <td>-1.970825e+01</td>\n",
       "      <td>-1.970825e+01</td>\n",
       "      <td>0.81393</td>\n",
       "      <td>-9.652736</td>\n",
       "      <td>0.70193</td>\n",
       "      <td>-7.634345</td>\n",
       "    </tr>\n",
       "    <tr>\n",
       "      <th>1</th>\n",
       "      <td>Line_1</td>\n",
       "      <td>0.000000</td>\n",
       "      <td>0.000000</td>\n",
       "      <td>0.000000</td>\n",
       "      <td>0.000000</td>\n",
       "      <td>0.000000</td>\n",
       "      <td>0.000000</td>\n",
       "      <td>0.000000</td>\n",
       "      <td>-2.233007e-09</td>\n",
       "      <td>1.025774e-09</td>\n",
       "      <td>0.70193</td>\n",
       "      <td>-7.634345</td>\n",
       "      <td>0.70193</td>\n",
       "      <td>-7.634345</td>\n",
       "    </tr>\n",
       "    <tr>\n",
       "      <th>2</th>\n",
       "      <td>Line_2</td>\n",
       "      <td>0.000000</td>\n",
       "      <td>0.000000</td>\n",
       "      <td>0.000000</td>\n",
       "      <td>0.000000</td>\n",
       "      <td>0.000000</td>\n",
       "      <td>0.000000</td>\n",
       "      <td>0.000000</td>\n",
       "      <td>-2.233008e-09</td>\n",
       "      <td>1.025769e-09</td>\n",
       "      <td>0.70193</td>\n",
       "      <td>-7.634345</td>\n",
       "      <td>0.70193</td>\n",
       "      <td>-7.634345</td>\n",
       "    </tr>\n",
       "    <tr>\n",
       "      <th>3</th>\n",
       "      <td>Line_4</td>\n",
       "      <td>0.000000</td>\n",
       "      <td>0.000000</td>\n",
       "      <td>0.000000</td>\n",
       "      <td>0.000000</td>\n",
       "      <td>0.000000</td>\n",
       "      <td>0.000000</td>\n",
       "      <td>0.000000</td>\n",
       "      <td>0.000000e+00</td>\n",
       "      <td>0.000000e+00</td>\n",
       "      <td>0.70193</td>\n",
       "      <td>-7.634345</td>\n",
       "      <td>0.70193</td>\n",
       "      <td>-7.634345</td>\n",
       "    </tr>\n",
       "  </tbody>\n",
       "</table>\n",
       "</div>"
      ]
     },
     "execution_count": 35,
     "metadata": {},
     "output_type": "execute_result"
    }
   ],
   "execution_count": 35
  },
  {
   "metadata": {
    "ExecuteTime": {
     "end_time": "2025-08-06T15:46:41.421826Z",
     "start_time": "2025-08-06T15:46:41.410367Z"
    }
   },
   "cell_type": "code",
   "source": "compare_results(columns_to_check, net_df, pf_results)",
   "id": "c22b72c08472c75d",
   "outputs": [],
   "execution_count": 36
  },
  {
   "metadata": {},
   "cell_type": "markdown",
   "source": "## Test Case 4: Twenty bus radial grid",
   "id": "232ca9c52aa27669"
  },
  {
   "metadata": {},
   "cell_type": "markdown",
   "source": "![twenty_bus_grid](twenty_bus_grid.png)",
   "id": "daef6c337fb31d22"
  },
  {
   "metadata": {
    "ExecuteTime": {
     "end_time": "2025-08-06T15:46:48.320289Z",
     "start_time": "2025-08-06T15:46:41.659264Z"
    }
   },
   "cell_type": "code",
   "source": [
    "net_name = \"test_case_4_twenty_bus_radial_grid\"\n",
    "\n",
    "fault = \"LG\"\n",
    "case = \"max\"\n",
    "fault_values = (0.0, 0.0)\n",
    "lv_tol_percents = 10\n",
    "fault_location_bus = 3\n",
    "is_branch_test = False\n",
    "vector_group = 'YNyn'\n",
    "\n",
    "# loading the network and testing data\n",
    "net, dataframes = load_test_case_data(net_name, fault_location_bus, vector_group)"
   ],
   "id": "10218e8ad79c16c4",
   "outputs": [],
   "execution_count": 37
  },
  {
   "metadata": {
    "ExecuteTime": {
     "end_time": "2025-08-06T15:46:48.376630Z",
     "start_time": "2025-08-06T15:46:48.346117Z"
    }
   },
   "cell_type": "code",
   "source": [
    "columns_to_check, net_df, pf_results = run_test_cases(net, dataframes[\"branch\" if is_branch_test else \"bus\"], fault, case, fault_values, lv_tol_percents, fault_location_bus, is_branch_test)\n",
    "columns_to_check"
   ],
   "id": "24fbde94c1d38131",
   "outputs": [
    {
     "data": {
      "text/plain": [
       "Index(['ikss_ka', 'skss_mw', 'rk0_ohm', 'xk0_ohm', 'rk1_ohm', 'xk1_ohm',\n",
       "       'rk2_ohm', 'xk2_ohm'],\n",
       "      dtype='object')"
      ]
     },
     "execution_count": 38,
     "metadata": {},
     "output_type": "execute_result"
    }
   ],
   "execution_count": 38
  },
  {
   "metadata": {
    "ExecuteTime": {
     "end_time": "2025-08-06T15:46:48.407306Z",
     "start_time": "2025-08-06T15:46:48.397758Z"
    }
   },
   "cell_type": "code",
   "source": "net_df[columns_to_check]",
   "id": "45db41f499cb5a2",
   "outputs": [
    {
     "data": {
      "text/plain": [
       "    ikss_ka   skss_mw  rk0_ohm   xk0_ohm   rk1_ohm   xk1_ohm   rk2_ohm  \\\n",
       "3  6.628723  1.530838  0.00899  0.021509  0.012035  0.044302  0.012035   \n",
       "\n",
       "    xk2_ohm  \n",
       "3  0.044302  "
      ],
      "text/html": [
       "<div>\n",
       "<style scoped>\n",
       "    .dataframe tbody tr th:only-of-type {\n",
       "        vertical-align: middle;\n",
       "    }\n",
       "\n",
       "    .dataframe tbody tr th {\n",
       "        vertical-align: top;\n",
       "    }\n",
       "\n",
       "    .dataframe thead th {\n",
       "        text-align: right;\n",
       "    }\n",
       "</style>\n",
       "<table border=\"1\" class=\"dataframe\">\n",
       "  <thead>\n",
       "    <tr style=\"text-align: right;\">\n",
       "      <th></th>\n",
       "      <th>ikss_ka</th>\n",
       "      <th>skss_mw</th>\n",
       "      <th>rk0_ohm</th>\n",
       "      <th>xk0_ohm</th>\n",
       "      <th>rk1_ohm</th>\n",
       "      <th>xk1_ohm</th>\n",
       "      <th>rk2_ohm</th>\n",
       "      <th>xk2_ohm</th>\n",
       "    </tr>\n",
       "  </thead>\n",
       "  <tbody>\n",
       "    <tr>\n",
       "      <th>3</th>\n",
       "      <td>6.628723</td>\n",
       "      <td>1.530838</td>\n",
       "      <td>0.00899</td>\n",
       "      <td>0.021509</td>\n",
       "      <td>0.012035</td>\n",
       "      <td>0.044302</td>\n",
       "      <td>0.012035</td>\n",
       "      <td>0.044302</td>\n",
       "    </tr>\n",
       "  </tbody>\n",
       "</table>\n",
       "</div>"
      ]
     },
     "execution_count": 39,
     "metadata": {},
     "output_type": "execute_result"
    }
   ],
   "execution_count": 39
  },
  {
   "metadata": {
    "ExecuteTime": {
     "end_time": "2025-08-06T15:46:48.506597Z",
     "start_time": "2025-08-06T15:46:48.495161Z"
    }
   },
   "cell_type": "code",
   "source": [
    "# dataframes[\"bus\"][\"LG_max_10\"]\n",
    "pf_results[columns_to_check]"
   ],
   "id": "37ffab47a05edffa",
   "outputs": [
    {
     "data": {
      "text/plain": [
       "     ikss_ka   skss_mw  rk0_ohm   xk0_ohm   rk1_ohm   xk1_ohm   rk2_ohm  \\\n",
       "13  6.628723  1.530838  0.00899  0.021509  0.012035  0.044302  0.012035   \n",
       "\n",
       "     xk2_ohm  \n",
       "13  0.044302  "
      ],
      "text/html": [
       "<div>\n",
       "<style scoped>\n",
       "    .dataframe tbody tr th:only-of-type {\n",
       "        vertical-align: middle;\n",
       "    }\n",
       "\n",
       "    .dataframe tbody tr th {\n",
       "        vertical-align: top;\n",
       "    }\n",
       "\n",
       "    .dataframe thead th {\n",
       "        text-align: right;\n",
       "    }\n",
       "</style>\n",
       "<table border=\"1\" class=\"dataframe\">\n",
       "  <thead>\n",
       "    <tr style=\"text-align: right;\">\n",
       "      <th></th>\n",
       "      <th>ikss_ka</th>\n",
       "      <th>skss_mw</th>\n",
       "      <th>rk0_ohm</th>\n",
       "      <th>xk0_ohm</th>\n",
       "      <th>rk1_ohm</th>\n",
       "      <th>xk1_ohm</th>\n",
       "      <th>rk2_ohm</th>\n",
       "      <th>xk2_ohm</th>\n",
       "    </tr>\n",
       "  </thead>\n",
       "  <tbody>\n",
       "    <tr>\n",
       "      <th>13</th>\n",
       "      <td>6.628723</td>\n",
       "      <td>1.530838</td>\n",
       "      <td>0.00899</td>\n",
       "      <td>0.021509</td>\n",
       "      <td>0.012035</td>\n",
       "      <td>0.044302</td>\n",
       "      <td>0.012035</td>\n",
       "      <td>0.044302</td>\n",
       "    </tr>\n",
       "  </tbody>\n",
       "</table>\n",
       "</div>"
      ]
     },
     "execution_count": 40,
     "metadata": {},
     "output_type": "execute_result"
    }
   ],
   "execution_count": 40
  },
  {
   "metadata": {
    "ExecuteTime": {
     "end_time": "2025-08-06T15:46:48.663028Z",
     "start_time": "2025-08-06T15:46:48.657641Z"
    }
   },
   "cell_type": "code",
   "source": "compare_results(columns_to_check, net_df, pf_results)",
   "id": "30b852cb7965d3b0",
   "outputs": [],
   "execution_count": 41
  }
 ],
 "metadata": {
  "kernelspec": {
   "display_name": "Python 3 (ipykernel)",
   "language": "python",
   "name": "python3"
  },
  "language_info": {
   "codemirror_mode": {
    "name": "ipython",
    "version": 3
   },
   "file_extension": ".py",
   "mimetype": "text/x-python",
   "name": "python",
   "nbconvert_exporter": "python",
   "pygments_lexer": "ipython3",
   "version": "3.11.12"
  }
 },
 "nbformat": 4,
 "nbformat_minor": 5
}
