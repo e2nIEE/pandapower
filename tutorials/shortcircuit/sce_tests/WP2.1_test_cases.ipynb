{
 "cells": [
  {
   "metadata": {},
   "cell_type": "markdown",
   "source": [
    "# WP2.1 - Short circuit on three-phase passive grids\n",
    "\n",
    "This Notebook shows exemplary tests that are implemented in the sce_test/test_all_faults_and_cases.py file.\n",
    "\n",
    "See: https://github.com/e2nIEE/pandapower/blob/sce/pandapower/test/shortcircuit/SCE_Tests/test_all_faults_and_cases.py\n",
    "\n",
    "Therefore it must be run in an environment where the pandapower test folders can be found by the jupyter server's python environment.\n",
    "This can be done by checking out the git branch sce in pandapower and locally initializing the repository by using `pip install -e .`.\n",
    "\n",
    "Further information on running short-circuit calculations in pandapower can be found here:\n",
    "\n",
    "https://pandapower.readthedocs.io/en/latest/shortcircuit/run.html\n",
    "\n",
    "https://github.com/e2nIEE/pandapower/blob/sce/tutorials/shortcircuit/shortcircuit.ipynb"
   ],
   "id": "4f29ac5a177eb371"
  },
  {
   "metadata": {},
   "cell_type": "code",
   "source": [
    "import os\n",
    "from itertools import product\n",
    "\n",
    "from pandapower import pp_dir\n",
    "from pandapower.test.shortcircuit.sce_tests.test_all_faults_and_cases import load_test_case_data, run_test_cases, compare_results\n",
    "\n",
    "testfiles_path = os.path.join(pp_dir, 'test', 'shortcircuit', 'sce_tests')"
   ],
   "id": "bbb72fc343ca5975",
   "outputs": [],
   "execution_count": null
  },
  {
   "metadata": {},
   "cell_type": "code",
   "source": [
    "import warnings\n",
    "# Ignore all future warnings\n",
    "warnings.simplefilter(action='ignore', category=FutureWarning)\n",
    "# Ignore all runtime warnings\n",
    "warnings.simplefilter(action='ignore', category=RuntimeWarning)"
   ],
   "id": "723314d71a6d3de0",
   "outputs": [],
   "execution_count": null
  },
  {
   "metadata": {},
   "cell_type": "markdown",
   "source": "From the defined parameters for faults, cases, network names and vector_groups as well as the values for r_faults and x_faults all combinations are generated to run as a test.",
   "id": "60817b0b9d477adf"
  },
  {
   "metadata": {},
   "cell_type": "code",
   "source": [
    "# Define common parameters\n",
    "net_names = [\n",
    "    \"test_case_2_five_bus_radial_grid\",\n",
    "    \"test_case_3_five_bus_meshed_grid\",\n",
    "    \"test_case_4_twenty_bus_radial_grid\"\n",
    "]\n",
    "faults = [\"LLL\", \"LL\", \"LLG\", \"LG\"]\n",
    "cases = [\"max\", \"min\"]\n",
    "values = [(0.0, 0.0), (5.0, 5.0)]\n",
    "vector_groups = ['Dyn', 'Yyn', 'YNyn']\n",
    "lv_tol_percents = [6, 10]\n",
    "fault_location_buses = [0, 1, 2, 3]\n",
    "is_branch_test = [False, True]\n",
    "\n",
    "# Create parameter list\n",
    "parametrize_values = list(product(faults, cases, values, lv_tol_percents, fault_location_buses, is_branch_test))\n",
    "\n",
    "# Create parameter list with vector group\n",
    "parametrize_values_vector = list(product(\n",
    "    net_names, faults[:2], cases, values, lv_tol_percents, vector_groups[:1], fault_location_buses, is_branch_test\n",
    "))+list(product(\n",
    "    net_names, faults[2:], cases, values, lv_tol_percents, vector_groups, fault_location_buses, is_branch_test\n",
    "))\n",
    "\n",
    "\n",
    "total_test_count = len(parametrize_values)+len(parametrize_values_vector)\n",
    "formatted_output = (\n",
    "    f\"Number of parameterization values: {len(parametrize_values)}\\n\"\n",
    "    f\"Number of parameterization value vectors: {len(parametrize_values_vector)}\\n\"\n",
    "    f\"Total number of tests: {total_test_count}\"\n",
    ")\n",
    "print(formatted_output)"
   ],
   "id": "57990014a7a6eeed",
   "outputs": [],
   "execution_count": null
  },
  {
   "metadata": {},
   "cell_type": "markdown",
   "source": [
    "The `parametrize_values` list and the `parametrize_values_vector` contain combinations for the tests.\n",
    "Tests for \"LL\" and \"LLL\" using different vector groups are omitted as these have no influence on the results.\n",
    "There is one test using `parametrize_values` and three using `parametrize_values_vector`.\n",
    "Shown above are the amount of test for each of the lists as well as the total.\n",
    "\n",
    "In this Notebook we will only show a exemplary examples for each test case and vector group.\n",
    "The test will load the expected results from the corresponding excel file (exported from commercial PowerFactory software results).\n",
    "Then the calculations are run in pandapower using the parameters from the list of permutation and compared against the expected results.\n",
    "Running the tests in the file below, it is possible to execute the complete list of tests.\n",
    "\n",
    "https://github.com/e2nIEE/pandapower/blob/sce/pandapower/test/shortcircuit/SCE_Tests/test_all_faults_and_cases.py\n",
    "\n",
    "---\n",
    "\n",
    "## Test Case 1: Four bus radial grid"
   ],
   "id": "1cc22b120dd6c618"
  },
  {
   "metadata": {},
   "cell_type": "markdown",
   "source": "![four_bus_radial](four_bus_radial.png)",
   "id": "654390f3a967c462"
  },
  {
   "metadata": {},
   "cell_type": "code",
   "source": [
    "net_name = \"test_case_1_four_bus_radial_grid\"\n",
    "\n",
    "fault = \"LLL\"\n",
    "case = \"max\"\n",
    "fault_values = (0.0, 0.0)\n",
    "# lv_tol_percents does not influence max case (default value is 10)\n",
    "lv_tol_percents = 10\n",
    "fault_location_bus = 0\n",
    "is_branch_test = False\n",
    "# vector group not necesarry as the grid does not contain a transformer\n",
    "\n",
    "# loading the network and testing data\n",
    "net, dataframes = load_test_case_data(net_name, fault_location_bus)"
   ],
   "id": "45e68f339e3c1189",
   "outputs": [],
   "execution_count": null
  },
  {
   "metadata": {},
   "cell_type": "markdown",
   "source": "These are all the test results that were exported from PowerFactory. Depending on the parameter combination, the corresponding dataframe is selected.",
   "id": "1286410030b7a2bb"
  },
  {
   "metadata": {},
   "cell_type": "code",
   "source": "dataframes[\"bus\"][\"LLL_max_10\"]",
   "id": "f7dcf77536d2e568",
   "outputs": [],
   "execution_count": null
  },
  {
   "metadata": {},
   "cell_type": "markdown",
   "source": "Let's now select the dataframe that we need in order to execute our first test case.",
   "id": "e100ac5cf6545144"
  },
  {
   "metadata": {},
   "cell_type": "markdown",
   "source": [
    "With the loaded network and expected results we now can run the test to receive the dataframes and the columns that should be compared.\n",
    "\n",
    "Below is the list of columns that will be compared."
   ],
   "id": "943f493d192d219a"
  },
  {
   "metadata": {},
   "cell_type": "code",
   "source": [
    "columns_to_check, net_df, pf_results = run_test_cases(net, dataframes[\"branch\" if is_branch_test else \"bus\"], fault, case, fault_values, lv_tol_percents, fault_location_bus, is_branch_test)\n",
    "columns_to_check"
   ],
   "id": "773be6c1d311307e",
   "outputs": [],
   "execution_count": null
  },
  {
   "metadata": {},
   "cell_type": "code",
   "source": "net_df[columns_to_check]",
   "id": "8183ddddbf34536d",
   "outputs": [],
   "execution_count": null
  },
  {
   "metadata": {},
   "cell_type": "code",
   "source": [
    "# dataframes[\"bus\"][\"LLL_max_10\"]\n",
    "pf_results[columns_to_check]"
   ],
   "id": "da8e321a0ce20b55",
   "outputs": [],
   "execution_count": null
  },
  {
   "metadata": {},
   "cell_type": "markdown",
   "source": "As you can see the results are matching and the comparison function will pass and not throw any errors.",
   "id": "559c241b05feeedd"
  },
  {
   "metadata": {},
   "cell_type": "code",
   "source": "compare_results(columns_to_check, net_df, pf_results, is_branch_test)",
   "id": "af6f368e1e4e36d0",
   "outputs": [],
   "execution_count": null
  },
  {
   "metadata": {},
   "cell_type": "markdown",
   "source": "## Test Case 2: Five bus radial grid",
   "id": "5addef1a56e093f3"
  },
  {
   "metadata": {},
   "cell_type": "markdown",
   "source": "![five_bus_radial](five_bus_radial.png)",
   "id": "82c7525adb126c50"
  },
  {
   "metadata": {},
   "cell_type": "code",
   "source": [
    "net_name = \"test_case_2_five_bus_radial_grid\"\n",
    "\n",
    "fault = \"LG\"\n",
    "case = \"min\"\n",
    "fault_values = (5.0, 5.0)\n",
    "lv_tol_percents = 6\n",
    "fault_location_bus = 3\n",
    "is_branch_test = True\n",
    "vector_group = 'Dyn'\n",
    "\n",
    "# loading the network and testing data\n",
    "net, dataframes = load_test_case_data(net_name, fault_location_bus, vector_group)"
   ],
   "id": "4eebfeb651c2e26",
   "outputs": [],
   "execution_count": null
  },
  {
   "metadata": {},
   "cell_type": "code",
   "source": [
    "columns_to_check, net_df, pf_results = run_test_cases(net, dataframes[\"branch\" if is_branch_test else \"bus\"], fault, case, fault_values, lv_tol_percents, fault_location_bus, is_branch_test)\n",
    "columns_to_check"
   ],
   "id": "222fde9f7913ec74",
   "outputs": [],
   "execution_count": null
  },
  {
   "metadata": {},
   "cell_type": "code",
   "source": "net_df[columns_to_check]",
   "id": "df0bde970a7817d7",
   "outputs": [],
   "execution_count": null
  },
  {
   "metadata": {},
   "cell_type": "code",
   "source": [
    "# dataframes[\"branch\"][\"LG_min_fault_6\"]\n",
    "pf_results[columns_to_check]"
   ],
   "id": "e7d85970707d06af",
   "outputs": [],
   "execution_count": null
  },
  {
   "metadata": {},
   "cell_type": "code",
   "source": "compare_results(columns_to_check, net_df, pf_results, is_branch_test)",
   "id": "5c25905fd499442d",
   "outputs": [],
   "execution_count": null
  },
  {
   "metadata": {},
   "cell_type": "markdown",
   "source": "## Test Case 3: Five bus meshed grid",
   "id": "6080602c6f71ce5c"
  },
  {
   "metadata": {},
   "cell_type": "markdown",
   "source": "![five_bus_meshed](five_bus_meshed.png)",
   "id": "a3a7872e625ee78e"
  },
  {
   "metadata": {},
   "cell_type": "code",
   "source": [
    "net_name = \"test_case_3_five_bus_meshed_grid\"\n",
    "\n",
    "fault = \"LLL\"\n",
    "case = \"min\"\n",
    "fault_values = (5.0, 5.0)\n",
    "lv_tol_percents = 6\n",
    "fault_location_bus = 2\n",
    "is_branch_test = True\n",
    "vector_group = 'Yyn'\n",
    "\n",
    "# loading the network and testing data\n",
    "net, dataframes = load_test_case_data(net_name, fault_location_bus, vector_group)"
   ],
   "id": "e285dacd5a8dd57",
   "outputs": [],
   "execution_count": null
  },
  {
   "metadata": {},
   "cell_type": "code",
   "source": [
    "columns_to_check, net_df, pf_results = run_test_cases(net, dataframes[\"branch\" if is_branch_test else \"bus\"], fault, case, fault_values, lv_tol_percents, fault_location_bus, is_branch_test)\n",
    "columns_to_check"
   ],
   "id": "9cc5d7979ad3262b",
   "outputs": [],
   "execution_count": null
  },
  {
   "metadata": {},
   "cell_type": "code",
   "source": "net_df[columns_to_check]",
   "id": "4c7d0e3d2ea4962c",
   "outputs": [],
   "execution_count": null
  },
  {
   "metadata": {},
   "cell_type": "code",
   "source": [
    "# dataframes[\"branch\"][\"LLL_min_fault_6\"]\n",
    "pf_results[columns_to_check]"
   ],
   "id": "b3bee01577d4502f",
   "outputs": [],
   "execution_count": null
  },
  {
   "metadata": {},
   "cell_type": "code",
   "source": "compare_results(columns_to_check, net_df, pf_results, is_branch_test)",
   "id": "c22b72c08472c75d",
   "outputs": [],
   "execution_count": null
  },
  {
   "metadata": {},
   "cell_type": "markdown",
   "source": "## Test Case 4: Twenty bus radial grid",
   "id": "232ca9c52aa27669"
  },
  {
   "metadata": {},
   "cell_type": "markdown",
   "source": "![twenty_bus_grid](twenty_bus_grid.png)",
   "id": "daef6c337fb31d22"
  },
  {
   "metadata": {},
   "cell_type": "code",
   "source": [
    "net_name = \"test_case_4_twenty_bus_radial_grid\"\n",
    "\n",
    "fault = \"LG\"\n",
    "case = \"max\"\n",
    "fault_values = (0.0, 0.0)\n",
    "lv_tol_percents = 10\n",
    "fault_location_bus = 3\n",
    "is_branch_test = False\n",
    "vector_group = 'YNyn'\n",
    "\n",
    "# loading the network and testing data\n",
    "net, dataframes = load_test_case_data(net_name, fault_location_bus, vector_group)"
   ],
   "id": "10218e8ad79c16c4",
   "outputs": [],
   "execution_count": null
  },
  {
   "metadata": {},
   "cell_type": "code",
   "source": [
    "columns_to_check, net_df, pf_results = run_test_cases(net, dataframes[\"branch\" if is_branch_test else \"bus\"], fault, case, fault_values, lv_tol_percents, fault_location_bus, is_branch_test)\n",
    "columns_to_check"
   ],
   "id": "24fbde94c1d38131",
   "outputs": [],
   "execution_count": null
  },
  {
   "metadata": {},
   "cell_type": "code",
   "source": "net_df[columns_to_check]",
   "id": "45db41f499cb5a2",
   "outputs": [],
   "execution_count": null
  },
  {
   "metadata": {},
   "cell_type": "code",
   "source": [
    "# dataframes[\"bus\"][\"LG_max_10\"]\n",
    "pf_results[columns_to_check]"
   ],
   "id": "37ffab47a05edffa",
   "outputs": [],
   "execution_count": null
  },
  {
   "metadata": {},
   "cell_type": "code",
   "source": "compare_results(columns_to_check, net_df, pf_results, is_branch_test)",
   "id": "30b852cb7965d3b0",
   "outputs": [],
   "execution_count": null
  }
 ],
 "metadata": {
  "kernelspec": {
   "display_name": "Python 3 (ipykernel)",
   "language": "python",
   "name": "python3"
  },
  "language_info": {
   "codemirror_mode": {
    "name": "ipython",
    "version": 3
   },
   "file_extension": ".py",
   "mimetype": "text/x-python",
   "name": "python",
   "nbconvert_exporter": "python",
   "pygments_lexer": "ipython3",
   "version": "3.11.12"
  }
 },
 "nbformat": 4,
 "nbformat_minor": 5
}
