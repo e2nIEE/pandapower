{
 "cells": [
  {
   "cell_type": "markdown",
   "id": "0b50c421",
   "metadata": {},
   "source": [
    "# Test all faults and cases\n",
    "\n",
    "This Notebook shows all Tests that are implemented in the sce_test/test_all_faults_and_cases.py file. Therefor it must be run in an environment where the pandapower test folder can be found by the jupyter server's python environment."
   ]
  },
  {
   "cell_type": "code",
   "execution_count": 1,
   "id": "81e7194b",
   "metadata": {},
   "outputs": [],
   "source": [
    "import os\n",
    "from itertools import product\n",
    "import numpy as np\n",
    "\n",
    "from pandapower import pp_dir\n",
    "from pandapower.file_io import from_json\n",
    "from pandapower.test.shortcircuit.SCE_Tests.test_all_faults_and_cases import load_pf_results, get_columns_to_check, modify_impedance_values_with_fault_value, check_pattern\n",
    "from pandapower.shortcircuit import calc_sc\n",
    "\n",
    "testfiles_path = os.path.join(pp_dir, 'test', 'shortcircuit', 'sce_tests')"
   ]
  },
  {
   "cell_type": "markdown",
   "id": "ed087ff7",
   "metadata": {},
   "source": [
    "From the defined parameters for faults, cases, network names and vector_groups as well as the values for r_faults and x_faults all combinations are generated to run as a test."
   ]
  },
  {
   "cell_type": "code",
   "execution_count": 2,
   "id": "01f0542f",
   "metadata": {},
   "outputs": [],
   "source": [
    "# Define common parameters\n",
    "faults = [\"LLL\", \"LL\", \"LG\", \"LLG\"]\n",
    "cases = [\"max\", \"min\"]\n",
    "values = [(0.0, 0.0), (5.0, 5.0)]\n",
    "net_names = [\"test_case_1_four_bus_radial_grid\", \"test_case_2_five_bus_radial_grid\", \"test_case_3_five_bus_meshed_grid\"]\n",
    "vector_groups = ['Dyn', 'Yyn', 'YNyn']\n",
    "\n",
    "# Create parameter list\n",
    "parametrize_values = product(faults, cases, values, net_names, vector_groups)"
   ]
  },
  {
   "cell_type": "markdown",
   "id": "79220b29",
   "metadata": {},
   "source": [
    "Then each of the 144 combinations is run as a test using the test_all_faults_and_cases_with_fault_impedance function.\n",
    "\n",
    "we will use the first of these combinations to show how the tests are performed."
   ]
  },
  {
   "cell_type": "code",
   "execution_count": 3,
   "id": "1218606d",
   "metadata": {},
   "outputs": [],
   "source": [
    "fault, case, (r_fault_ohm, x_fault_ohm), net_name, vector_group = next(parametrize_values)"
   ]
  },
  {
   "cell_type": "markdown",
   "id": "f0061ca4",
   "metadata": {},
   "source": [
    "The test will load the expected results from the corresponding excel file.\n",
    "This will create a dictionary where each sheet from the excel is included under its name as a pandas DataFrame.\n",
    "Below is the LLL_max sheet shown as an example."
   ]
  },
  {
   "cell_type": "code",
   "execution_count": 4,
   "id": "d09c62bc",
   "metadata": {},
   "outputs": [
    {
     "data": {
      "text/html": [
       "<div>\n",
       "<style scoped>\n",
       "    .dataframe tbody tr th:only-of-type {\n",
       "        vertical-align: middle;\n",
       "    }\n",
       "\n",
       "    .dataframe tbody tr th {\n",
       "        vertical-align: top;\n",
       "    }\n",
       "\n",
       "    .dataframe thead th {\n",
       "        text-align: right;\n",
       "    }\n",
       "</style>\n",
       "<table border=\"1\" class=\"dataframe\">\n",
       "  <thead>\n",
       "    <tr style=\"text-align: right;\">\n",
       "      <th></th>\n",
       "      <th>name</th>\n",
       "      <th>ikss_ka</th>\n",
       "      <th>skss_mw</th>\n",
       "      <th>rk_ohm</th>\n",
       "      <th>xk_ohm</th>\n",
       "    </tr>\n",
       "  </thead>\n",
       "  <tbody>\n",
       "    <tr>\n",
       "      <th>0</th>\n",
       "      <td>Bus_0</td>\n",
       "      <td>2.886752</td>\n",
       "      <td>100.000006</td>\n",
       "      <td>0.437816</td>\n",
       "      <td>4.378163</td>\n",
       "    </tr>\n",
       "    <tr>\n",
       "      <th>1</th>\n",
       "      <td>Bus_1</td>\n",
       "      <td>2.510392</td>\n",
       "      <td>86.962535</td>\n",
       "      <td>0.957816</td>\n",
       "      <td>4.968163</td>\n",
       "    </tr>\n",
       "    <tr>\n",
       "      <th>2</th>\n",
       "      <td>Bus_2</td>\n",
       "      <td>2.208504</td>\n",
       "      <td>76.504825</td>\n",
       "      <td>1.477816</td>\n",
       "      <td>5.558163</td>\n",
       "    </tr>\n",
       "    <tr>\n",
       "      <th>3</th>\n",
       "      <td>Bus_3</td>\n",
       "      <td>2.208504</td>\n",
       "      <td>76.504825</td>\n",
       "      <td>1.477816</td>\n",
       "      <td>5.558163</td>\n",
       "    </tr>\n",
       "  </tbody>\n",
       "</table>\n",
       "</div>"
      ],
      "text/plain": [
       "    name   ikss_ka     skss_mw    rk_ohm    xk_ohm\n",
       "0  Bus_0  2.886752  100.000006  0.437816  4.378163\n",
       "1  Bus_1  2.510392   86.962535  0.957816  4.968163\n",
       "2  Bus_2  2.208504   76.504825  1.477816  5.558163\n",
       "3  Bus_3  2.208504   76.504825  1.477816  5.558163"
      ]
     },
     "execution_count": 4,
     "metadata": {},
     "output_type": "execute_result"
    }
   ],
   "source": [
    "if net_name != \"test_case_1_four_bus_radial_grid\":\n",
    "    net_name += \"_\" + vector_group.lower()\n",
    "\n",
    "net = from_json(os.path.join(testfiles_path, \"test_grids\", net_name + \".json\"))\n",
    "\n",
    "excel_file = os.path.join(testfiles_path, \"sc_result_comparison\", net_name + \"_pf_sc_results_all_cases.xlsx\")\n",
    "dataframes = load_pf_results(excel_file)\n",
    "\n",
    "dataframes['LLL_max']"
   ]
  },
  {
   "cell_type": "markdown",
   "id": "47b2cc0a",
   "metadata": {},
   "source": [
    "Defined next is the precision that is expected for the results."
   ]
  },
  {
   "cell_type": "code",
   "execution_count": 5,
   "id": "5a54578e",
   "metadata": {},
   "outputs": [],
   "source": [
    "rtol = {\"ikss_ka\": 0, \"skss_mw\": 0, \"rk_ohm\": 0, \"xk_ohm\": 0}\n",
    "atol = {\"ikss_ka\": 1e-6, \"skss_mw\": 1e-4, \"rk_ohm\": 1e-6, \"xk_ohm\": 1e-6}"
   ]
  },
  {
   "cell_type": "markdown",
   "id": "bbf75dd8",
   "metadata": {},
   "source": [
    "A list of columns that should be verified is created as well as the corresponding dataframe selected."
   ]
  },
  {
   "cell_type": "code",
   "execution_count": 6,
   "id": "100c14f6",
   "metadata": {},
   "outputs": [
    {
     "name": "stdout",
     "output_type": "stream",
     "text": [
      "columns_to_check=['ikss_ka', 'skss_mw', 'rk_ohm', 'xk_ohm']\n",
      "selected_sheet='LLL_max'\n"
     ]
    },
    {
     "data": {
      "text/html": [
       "<div>\n",
       "<style scoped>\n",
       "    .dataframe tbody tr th:only-of-type {\n",
       "        vertical-align: middle;\n",
       "    }\n",
       "\n",
       "    .dataframe tbody tr th {\n",
       "        vertical-align: top;\n",
       "    }\n",
       "\n",
       "    .dataframe thead th {\n",
       "        text-align: right;\n",
       "    }\n",
       "</style>\n",
       "<table border=\"1\" class=\"dataframe\">\n",
       "  <thead>\n",
       "    <tr style=\"text-align: right;\">\n",
       "      <th></th>\n",
       "      <th>name</th>\n",
       "      <th>ikss_ka</th>\n",
       "      <th>skss_mw</th>\n",
       "      <th>rk_ohm</th>\n",
       "      <th>xk_ohm</th>\n",
       "    </tr>\n",
       "  </thead>\n",
       "  <tbody>\n",
       "    <tr>\n",
       "      <th>0</th>\n",
       "      <td>Bus_0</td>\n",
       "      <td>2.886752</td>\n",
       "      <td>100.000006</td>\n",
       "      <td>0.437816</td>\n",
       "      <td>4.378163</td>\n",
       "    </tr>\n",
       "    <tr>\n",
       "      <th>1</th>\n",
       "      <td>Bus_1</td>\n",
       "      <td>2.510392</td>\n",
       "      <td>86.962535</td>\n",
       "      <td>0.957816</td>\n",
       "      <td>4.968163</td>\n",
       "    </tr>\n",
       "    <tr>\n",
       "      <th>2</th>\n",
       "      <td>Bus_2</td>\n",
       "      <td>2.208504</td>\n",
       "      <td>76.504825</td>\n",
       "      <td>1.477816</td>\n",
       "      <td>5.558163</td>\n",
       "    </tr>\n",
       "    <tr>\n",
       "      <th>3</th>\n",
       "      <td>Bus_3</td>\n",
       "      <td>2.208504</td>\n",
       "      <td>76.504825</td>\n",
       "      <td>1.477816</td>\n",
       "      <td>5.558163</td>\n",
       "    </tr>\n",
       "  </tbody>\n",
       "</table>\n",
       "</div>"
      ],
      "text/plain": [
       "    name   ikss_ka     skss_mw    rk_ohm    xk_ohm\n",
       "0  Bus_0  2.886752  100.000006  0.437816  4.378163\n",
       "1  Bus_1  2.510392   86.962535  0.957816  4.968163\n",
       "2  Bus_2  2.208504   76.504825  1.477816  5.558163\n",
       "3  Bus_3  2.208504   76.504825  1.477816  5.558163"
      ]
     },
     "execution_count": 6,
     "metadata": {},
     "output_type": "execute_result"
    }
   ],
   "source": [
    "columns_to_check = get_columns_to_check(fault)\n",
    "selected_sheet = f\"{fault}_{case}\"\n",
    "if r_fault_ohm != 0.0 and x_fault_ohm != 0.0:\n",
    "    selected_sheet += \"_fault\"\n",
    "\n",
    "selected_pf_results = dataframes[selected_sheet]\n",
    "\n",
    "print(f\"{columns_to_check=}\\n{selected_sheet=}\")\n",
    "\n",
    "selected_pf_results\n"
   ]
  },
  {
   "cell_type": "markdown",
   "id": "1320a2c8",
   "metadata": {},
   "source": [
    "The impedance values are modified using the fault values. For the case selected here the `selected_pf_results` and `modified_pf_results` do not differ as `r_fault_ohm` and `x_fault_ohm` are 0. The function `modify_impedance_values_with_fault_value` will add the `r_fault_ohm` or `x_fault_ohm` value to the corresponding columns.\n",
    "\n",
    "The dataframe is then sorted by name to ensure same order as results from short circuit calculation."
   ]
  },
  {
   "cell_type": "code",
   "execution_count": 7,
   "id": "bec33ac0",
   "metadata": {},
   "outputs": [
    {
     "data": {
      "text/html": [
       "<div>\n",
       "<style scoped>\n",
       "    .dataframe tbody tr th:only-of-type {\n",
       "        vertical-align: middle;\n",
       "    }\n",
       "\n",
       "    .dataframe tbody tr th {\n",
       "        vertical-align: top;\n",
       "    }\n",
       "\n",
       "    .dataframe thead th {\n",
       "        text-align: right;\n",
       "    }\n",
       "</style>\n",
       "<table border=\"1\" class=\"dataframe\">\n",
       "  <thead>\n",
       "    <tr style=\"text-align: right;\">\n",
       "      <th></th>\n",
       "      <th>name</th>\n",
       "      <th>ikss_ka</th>\n",
       "      <th>skss_mw</th>\n",
       "      <th>rk_ohm</th>\n",
       "      <th>xk_ohm</th>\n",
       "    </tr>\n",
       "  </thead>\n",
       "  <tbody>\n",
       "    <tr>\n",
       "      <th>0</th>\n",
       "      <td>Bus_0</td>\n",
       "      <td>2.886752</td>\n",
       "      <td>100.000006</td>\n",
       "      <td>0.437816</td>\n",
       "      <td>4.378163</td>\n",
       "    </tr>\n",
       "    <tr>\n",
       "      <th>1</th>\n",
       "      <td>Bus_1</td>\n",
       "      <td>2.510392</td>\n",
       "      <td>86.962535</td>\n",
       "      <td>0.957816</td>\n",
       "      <td>4.968163</td>\n",
       "    </tr>\n",
       "    <tr>\n",
       "      <th>2</th>\n",
       "      <td>Bus_2</td>\n",
       "      <td>2.208504</td>\n",
       "      <td>76.504825</td>\n",
       "      <td>1.477816</td>\n",
       "      <td>5.558163</td>\n",
       "    </tr>\n",
       "    <tr>\n",
       "      <th>3</th>\n",
       "      <td>Bus_3</td>\n",
       "      <td>2.208504</td>\n",
       "      <td>76.504825</td>\n",
       "      <td>1.477816</td>\n",
       "      <td>5.558163</td>\n",
       "    </tr>\n",
       "  </tbody>\n",
       "</table>\n",
       "</div>"
      ],
      "text/plain": [
       "    name   ikss_ka     skss_mw    rk_ohm    xk_ohm\n",
       "0  Bus_0  2.886752  100.000006  0.437816  4.378163\n",
       "1  Bus_1  2.510392   86.962535  0.957816  4.968163\n",
       "2  Bus_2  2.208504   76.504825  1.477816  5.558163\n",
       "3  Bus_3  2.208504   76.504825  1.477816  5.558163"
      ]
     },
     "execution_count": 7,
     "metadata": {},
     "output_type": "execute_result"
    }
   ],
   "source": [
    "modified_pf_results = modify_impedance_values_with_fault_value(selected_pf_results, r_fault_ohm, x_fault_ohm)\n",
    "modified_pf_results.sort_values(by='name', inplace=True)\n",
    "\n",
    "modified_pf_results"
   ]
  },
  {
   "cell_type": "markdown",
   "id": "318100ed",
   "metadata": {},
   "source": [
    "Next the short circuit calculation is performed using pandapowers `calc_sc` method with the required parameters.\n",
    "\n",
    "For the comparison the names of the buses are added to the results tables and values sorted by the bus names."
   ]
  },
  {
   "cell_type": "code",
   "execution_count": 8,
   "id": "ba3cbb7b",
   "metadata": {},
   "outputs": [
    {
     "name": "stderr",
     "output_type": "stream",
     "text": [
      "Branch results are in beta mode and might not always be reliable, especially for transformers\n"
     ]
    },
    {
     "data": {
      "text/html": [
       "<div>\n",
       "<style scoped>\n",
       "    .dataframe tbody tr th:only-of-type {\n",
       "        vertical-align: middle;\n",
       "    }\n",
       "\n",
       "    .dataframe tbody tr th {\n",
       "        vertical-align: top;\n",
       "    }\n",
       "\n",
       "    .dataframe thead th {\n",
       "        text-align: right;\n",
       "    }\n",
       "</style>\n",
       "<table border=\"1\" class=\"dataframe\">\n",
       "  <thead>\n",
       "    <tr style=\"text-align: right;\">\n",
       "      <th></th>\n",
       "      <th>name</th>\n",
       "      <th>ikss_ka</th>\n",
       "      <th>skss_mw</th>\n",
       "      <th>rk_ohm</th>\n",
       "      <th>xk_ohm</th>\n",
       "    </tr>\n",
       "  </thead>\n",
       "  <tbody>\n",
       "    <tr>\n",
       "      <th>3</th>\n",
       "      <td>Bus_0</td>\n",
       "      <td>2.886751</td>\n",
       "      <td>100.000000</td>\n",
       "      <td>0.437816</td>\n",
       "      <td>4.378164</td>\n",
       "    </tr>\n",
       "    <tr>\n",
       "      <th>0</th>\n",
       "      <td>Bus_1</td>\n",
       "      <td>2.510392</td>\n",
       "      <td>86.962530</td>\n",
       "      <td>0.957816</td>\n",
       "      <td>4.968164</td>\n",
       "    </tr>\n",
       "    <tr>\n",
       "      <th>1</th>\n",
       "      <td>Bus_2</td>\n",
       "      <td>2.208504</td>\n",
       "      <td>76.504821</td>\n",
       "      <td>1.477816</td>\n",
       "      <td>5.558164</td>\n",
       "    </tr>\n",
       "    <tr>\n",
       "      <th>2</th>\n",
       "      <td>Bus_3</td>\n",
       "      <td>2.208504</td>\n",
       "      <td>76.504821</td>\n",
       "      <td>1.477816</td>\n",
       "      <td>5.558164</td>\n",
       "    </tr>\n",
       "  </tbody>\n",
       "</table>\n",
       "</div>"
      ],
      "text/plain": [
       "    name   ikss_ka     skss_mw    rk_ohm    xk_ohm\n",
       "3  Bus_0  2.886751  100.000000  0.437816  4.378164\n",
       "0  Bus_1  2.510392   86.962530  0.957816  4.968164\n",
       "1  Bus_2  2.208504   76.504821  1.477816  5.558164\n",
       "2  Bus_3  2.208504   76.504821  1.477816  5.558164"
      ]
     },
     "execution_count": 8,
     "metadata": {},
     "output_type": "execute_result"
    }
   ],
   "source": [
    "calc_sc(net, fault=fault, case=case, branch_results=True, return_all_currents=True, ip=False,\n",
    "        r_fault_ohm=r_fault_ohm, x_fault_ohm=x_fault_ohm)\n",
    "\n",
    "net.res_bus_sc.insert(0, \"name\", net.bus.name)\n",
    "net.res_bus_sc.sort_values(by='name', inplace=True)\n",
    "\n",
    "net.res_bus_sc"
   ]
  },
  {
   "cell_type": "markdown",
   "id": "02d695f3",
   "metadata": {},
   "source": [
    "Now the tables are compared using `np.isclose` and the specified relative and absoulte tolerances."
   ]
  },
  {
   "cell_type": "code",
   "execution_count": 9,
   "id": "68cd19ef",
   "metadata": {},
   "outputs": [],
   "source": [
    "for column in columns_to_check:\n",
    "    column_ar = check_pattern(column)\n",
    "    assert np.isclose(\n",
    "        net.res_bus_sc.loc[:, column],\n",
    "        modified_pf_results.loc[:, column],\n",
    "        rtol=rtol[column_ar], atol=atol[column_ar]\n",
    "    ).all()"
   ]
  }
 ],
 "metadata": {
  "kernelspec": {
   "display_name": "Python 3 (ipykernel)",
   "language": "python",
   "name": "python3"
  },
  "language_info": {
   "codemirror_mode": {
    "name": "ipython",
    "version": 3
   },
   "file_extension": ".py",
   "mimetype": "text/x-python",
   "name": "python",
   "nbconvert_exporter": "python",
   "pygments_lexer": "ipython3",
   "version": "3.12.10"
  }
 },
 "nbformat": 4,
 "nbformat_minor": 5
}
