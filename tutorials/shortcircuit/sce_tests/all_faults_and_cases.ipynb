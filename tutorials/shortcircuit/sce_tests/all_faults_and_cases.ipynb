{
 "cells": [
  {
   "cell_type": "markdown",
   "id": "0b50c421",
   "metadata": {},
   "source": [
    "# Test all faults and cases\n",
    "\n",
    "This Notebook shows all Tests that are implemented in the sce_test/test_all_faults_and_cases.py file. Therefor it must be run in an environment where the pandapower test folder can be found by the jupyter server's python environment."
   ]
  },
  {
   "cell_type": "code",
   "execution_count": 1,
   "id": "81e7194b",
   "metadata": {},
   "outputs": [
    {
     "ename": "ModuleNotFoundError",
     "evalue": "No module named 'pandapower'",
     "output_type": "error",
     "traceback": [
      "\u001b[31m---------------------------------------------------------------------------\u001b[39m",
      "\u001b[31mModuleNotFoundError\u001b[39m                       Traceback (most recent call last)",
      "\u001b[36mCell\u001b[39m\u001b[36m \u001b[39m\u001b[32mIn[1]\u001b[39m\u001b[32m, line 5\u001b[39m\n\u001b[32m      2\u001b[39m \u001b[38;5;28;01mfrom\u001b[39;00m\u001b[38;5;250m \u001b[39m\u001b[34;01mitertools\u001b[39;00m\u001b[38;5;250m \u001b[39m\u001b[38;5;28;01mimport\u001b[39;00m product\n\u001b[32m      3\u001b[39m \u001b[38;5;28;01mimport\u001b[39;00m\u001b[38;5;250m \u001b[39m\u001b[34;01mnumpy\u001b[39;00m\u001b[38;5;250m \u001b[39m\u001b[38;5;28;01mas\u001b[39;00m\u001b[38;5;250m \u001b[39m\u001b[34;01mnp\u001b[39;00m\n\u001b[32m----> \u001b[39m\u001b[32m5\u001b[39m \u001b[38;5;28;01mfrom\u001b[39;00m\u001b[38;5;250m \u001b[39m\u001b[34;01mpandapower\u001b[39;00m\u001b[38;5;250m \u001b[39m\u001b[38;5;28;01mimport\u001b[39;00m pp_dir\n\u001b[32m      6\u001b[39m \u001b[38;5;28;01mfrom\u001b[39;00m\u001b[38;5;250m \u001b[39m\u001b[34;01mpandapower\u001b[39;00m\u001b[34;01m.\u001b[39;00m\u001b[34;01mfile_io\u001b[39;00m\u001b[38;5;250m \u001b[39m\u001b[38;5;28;01mimport\u001b[39;00m from_json\n\u001b[32m      7\u001b[39m \u001b[38;5;28;01mfrom\u001b[39;00m\u001b[38;5;250m \u001b[39m\u001b[34;01mpandapower\u001b[39;00m\u001b[34;01m.\u001b[39;00m\u001b[34;01mtest\u001b[39;00m\u001b[34;01m.\u001b[39;00m\u001b[34;01mshortcircuit\u001b[39;00m\u001b[34;01m.\u001b[39;00m\u001b[34;01mSCE_Tests\u001b[39;00m\u001b[34;01m.\u001b[39;00m\u001b[34;01mtest_all_faults_and_cases\u001b[39;00m\u001b[38;5;250m \u001b[39m\u001b[38;5;28;01mimport\u001b[39;00m load_pf_results, get_columns_to_check, modify_impedance_values_with_fault_value, check_pattern\n",
      "\u001b[31mModuleNotFoundError\u001b[39m: No module named 'pandapower'"
     ]
    }
   ],
   "source": [
    "import os\n",
    "from itertools import product\n",
    "import numpy as np\n",
    "\n",
    "from pandapower import pp_dir\n",
    "from pandapower.file_io import from_json\n",
    "from pandapower.test.shortcircuit.SCE_Tests.test_all_faults_and_cases import load_pf_results, get_columns_to_check, modify_impedance_values_with_fault_value, check_pattern\n",
    "from pandapower.shortcircuit import calc_sc\n",
    "\n",
    "testfiles_path = os.path.join(pp_dir, 'test', 'shortcircuit', 'sce_tests')"
   ]
  },
  {
   "cell_type": "markdown",
   "id": "ed087ff7",
   "metadata": {},
   "source": [
    "From the defined parameters for faults, cases, network names and vector_groups as well as the values for r_faults and x_faults all combinations are generated to run as a test."
   ]
  },
  {
   "cell_type": "code",
   "execution_count": null,
   "id": "01f0542f",
   "metadata": {},
   "outputs": [],
   "source": [
    "# Define common parameters\n",
    "net_names = [\n",
    "    \"test_case_2_five_bus_radial_grid\",\n",
    "    \"test_case_3_five_bus_meshed_grid\",\n",
    "    \"test_case_4_twenty_bus_radial_grid\"\n",
    "]\n",
    "faults = [\"LLL\", \"LL\", \"LG\", \"LLG\"]\n",
    "cases = [\"max\", \"min\"]\n",
    "values = [(0.0, 0.0), (5.0, 5.0)]\n",
    "vector_groups = ['Dyn', 'Yyn', 'YNyn']\n",
    "lv_tol_percents = [6, 10]\n",
    "fault_location_buses = [0, 1, 2, 3]\n",
    "is_branch_test = [False, True]\n",
    "\n",
    "# Create parameter list\n",
    "parametrize_values = list(product(faults, cases, values, lv_tol_percents, fault_location_buses, is_branch_test))\n",
    "\n",
    "# Create parameter list with vector group\n",
    "parametrize_values_vector = list(product(net_names, faults, cases, values, lv_tol_percents, vector_groups, fault_location_buses, is_branch_test))\n",
    "\n",
    "total_test_count = len(parametrize_values)+len(parametrize_values_vector)\n",
    "f\"{len(parametrize_values)=}, {len(parametrize_values_vector)=}, {total_test_count=}\""
   ]
  },
  {
   "cell_type": "markdown",
   "id": "79220b29",
   "metadata": {},
   "source": [
    "The `parametrize_values` list and the `parametrize_values_vector` contain combinations for the tests. There is one test using `parametrize_values` and three using `parametrize_values_vector`. Shown above are the amount of test for each of the lists as well as the total.\n",
    "\n",
    "In this Notebook we will only show a single example for each test case and vector group.\n",
    "The test will load the expected results from the corresponding excel file (exported powerfactory results). Then the calculations are run in pandapower using the parmeters from the list of permutiation and compared against the expected results.\n",
    "\n",
    "---\n",
    "\n",
    "## Test Case 1: Four bus radial grid"
   ]
  },
  {
   "cell_type": "code",
   "execution_count": null,
   "id": "d09c62bc",
   "metadata": {},
   "outputs": [],
   "source": [
    "net_name = \"test_case_1_four_bus_radial_grid\"\n",
    "\n",
    "fault = \"LLL\"\n",
    "case = \"max\"\n",
    "fault_values = (0.0, 0.0)\n",
    "lv_tol_percents = 6\n",
    "fault_location_bus = 0\n",
    "is_branch_test = False\n",
    "\n",
    "# loading the network\n",
    "net, dataframes = load_test_case_data(net_name, fault_location_bus)"
   ]
  },
  {
   "cell_type": "markdown",
   "id": "439f81a0-e379-4233-929e-1a16a1f6a451",
   "metadata": {},
   "source": [
    "With the loaded network and expected results we now can run the test to receive the dataframes and the columns that should be compared.\n",
    "\n",
    "Below is the list of columns that will be compared."
   ]
  },
  {
   "cell_type": "code",
   "execution_count": null,
   "id": "f99f9392-4d23-4122-8303-17e24d00e427",
   "metadata": {},
   "outputs": [],
   "source": [
    "columns_to_check, net_df, pf_results = run_test_cases(net, dataframes, fault, case, fault_values, lv_tol_percents, fault_location_bus, branch_results)\n",
    "\n",
    "columns_to_check"
   ]
  },
  {
   "cell_type": "code",
   "execution_count": null,
   "id": "63ac03db-25e9-4907-88f2-43877c1a3758",
   "metadata": {},
   "outputs": [],
   "source": [
    "net_df"
   ]
  },
  {
   "cell_type": "code",
   "execution_count": null,
   "id": "7398ef3d-dd74-41ce-9afc-681c9f056a56",
   "metadata": {},
   "outputs": [],
   "source": [
    "pf_results"
   ]
  },
  {
   "cell_type": "code",
   "execution_count": null,
   "id": "40f3efa3-bdba-4603-8a79-dc3947b254b9",
   "metadata": {},
   "outputs": [],
   "source": [
    "compare_results(columns_to_check, net_df, pf_results, branch_results)"
   ]
  }
 ],
 "metadata": {
  "kernelspec": {
   "display_name": "Python 3 (ipykernel)",
   "language": "python",
   "name": "python3"
  },
  "language_info": {
   "codemirror_mode": {
    "name": "ipython",
    "version": 3
   },
   "file_extension": ".py",
   "mimetype": "text/x-python",
   "name": "python",
   "nbconvert_exporter": "python",
   "pygments_lexer": "ipython3",
   "version": "3.12.10"
  }
 },
 "nbformat": 4,
 "nbformat_minor": 5
}
