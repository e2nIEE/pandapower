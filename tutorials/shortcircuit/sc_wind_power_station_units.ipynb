{
 "cells": [
  {
   "cell_type": "markdown",
   "metadata": {},
   "source": [
    "# Wind power station units"
   ]
  },
  {
   "cell_type": "markdown",
   "metadata": {},
   "source": [
    "According to IEC 60909-0:2016, wind power station units are considered as impedance for the following types:\n",
    "* Wind power station unit with asynchronous generator (6.8.2)\n",
    "* Wind power station unit with doubly fed asynchronous generator (6.8.3)\n",
    "\n",
    "Wind power station units with full size converter are considered as current source injections, and the contributions to the short-circuit current are specified by the datasheet of the manufacturer (6.9)."
   ]
  },
  {
   "cell_type": "markdown",
   "metadata": {},
   "source": [
    "### Example grid"
   ]
  },
  {
   "cell_type": "markdown",
   "metadata": {},
   "source": [
    "For all the further examples, we use the following grid model:"
   ]
  },
  {
   "cell_type": "code",
   "metadata": {
    "ExecuteTime": {
     "end_time": "2025-10-17T08:25:57.136933Z",
     "start_time": "2025-10-17T08:25:51.330390Z"
    }
   },
   "source": [
    "import numpy as np\n",
    "import pandapower.shortcircuit as sc\n",
    "from pandapower.test.shortcircuit.test_sgen import simplest_test_grid as create_net"
   ],
   "outputs": [],
   "execution_count": 1
  },
  {
   "cell_type": "markdown",
   "metadata": {},
   "source": [
    "The grid model has one node, one ext_grid (with near 0 contribution, for the purpose of convergence) and a static generator:\n",
    "\n",
    "$\n",
    "X\\\\\n",
    "|\\\\\n",
    "\\cdot\\\\\n",
    "|\\\\\n",
    "G\\\\\n",
    "$"
   ]
  },
  {
   "cell_type": "markdown",
   "metadata": {},
   "source": [
    "## Wind power station unit with asynchronous generator"
   ]
  },
  {
   "cell_type": "markdown",
   "metadata": {},
   "source": [
    "The impedance $Z_G$ of the asynchronous generator is calculated as follows:\n",
    "\n",
    "\n",
    "$Z_{WD} = \\frac{1}{I_{LR} / I_{rG}} \\cdot \\frac{U_{rG}}{\\sqrt{3} \\cdot I_{rG}} = \\frac{1}{I_{LR} / I_{rG}} \\cdot \\frac{U_{rG}^2}{S_{rG}}$\n",
    "\n",
    "The complex value of $\\underline{Z}_G$\n",
    "\n",
    "$\\underline{Z}_G = R_G + jX_G = (\\frac{R_G}{X_G}+j) \\cdot \\frac{Z_G}{\\sqrt{1 + (R_G/X_G)^2}}$\n",
    "\n",
    "If $R_G/X_G$ is not provided by the manufacturer, then it can be assumed as 0.1\n",
    "\n",
    "The total positive-sequence short-circuit impedance $\\underline{Z}_{WA}$ of a wind power station unit with asynchronous generator for the calculation of the short-circuit current contribution on the high-voltage side of the unit transformer is calculated as follows:\n",
    "\n",
    "$\\underline{Z}_{WA} = t_r^2 \\cdot \\underline{Z}_G + \\underline{Z}_{THV}$"
   ]
  },
  {
   "cell_type": "markdown",
   "metadata": {},
   "source": [
    "### Example"
   ]
  },
  {
   "cell_type": "markdown",
   "metadata": {},
   "source": [
    "Required parameters for sgen are:\n",
    "\n",
    "* U_rG: rated voltage of the asynchronous generator (we take from the bus)\n",
    "* I_rG: rated current of the asynchronous generator (calculated from S_rG and U_rG)\n",
    "* S_rG: rated apparent power of the asynchronous generator (required input)\n",
    "* R_G/X_G: R to X value of the asynchronous generator (required input)\n",
    "\n",
    "Required new input parameter:\n",
    "* I_LR/I_rG: the ratio of the symmetrical locked-rotor current to the rated current of the asynchronous generator (required new input, provided by the manufacturer)"
   ]
  },
  {
   "cell_type": "code",
   "metadata": {
    "ExecuteTime": {
     "end_time": "2025-10-17T08:25:57.152719Z",
     "start_time": "2025-10-17T08:25:57.146196Z"
    }
   },
   "source": [
    "U_rG = 0.4  # kV\n",
    "S_rG = 2.5 # MVA\n",
    "I_rG = S_rG / (np.sqrt(3) * U_rG)\n",
    "I_LR = 5 * I_rG # our assumption\n",
    "I_LR_rG = I_LR / I_rG\n",
    "RX_G = 0.1"
   ],
   "outputs": [],
   "execution_count": 2
  },
  {
   "cell_type": "code",
   "metadata": {
    "ExecuteTime": {
     "end_time": "2025-10-17T08:25:57.466405Z",
     "start_time": "2025-10-17T08:25:57.448271Z"
    }
   },
   "source": [
    "Z_G = 1/I_LR_rG * U_rG**2 / S_rG\n",
    "Z_G"
   ],
   "outputs": [
    {
     "data": {
      "text/plain": [
       "np.float64(0.0128)"
      ]
     },
     "execution_count": 3,
     "metadata": {},
     "output_type": "execute_result"
    }
   ],
   "execution_count": 3
  },
  {
   "cell_type": "code",
   "metadata": {
    "ExecuteTime": {
     "end_time": "2025-10-17T08:25:57.793309Z",
     "start_time": "2025-10-17T08:25:57.778070Z"
    }
   },
   "source": [
    "Z_G_complex = (RX_G + 1j) * Z_G / (np.sqrt(1 + RX_G**2))\n",
    "Z_G_complex"
   ],
   "outputs": [
    {
     "data": {
      "text/plain": [
       "(0.0012736476034687864+0.012736476034687862j)"
      ]
     },
     "execution_count": 4,
     "metadata": {},
     "output_type": "execute_result"
    }
   ],
   "execution_count": 4
  },
  {
   "cell_type": "code",
   "metadata": {
    "ExecuteTime": {
     "end_time": "2025-10-17T08:25:58.167142Z",
     "start_time": "2025-10-17T08:25:58.151643Z"
    }
   },
   "source": [
    "t_r = 20/0.4\n",
    "# transformer impedance is taken from the pandapower grid\n",
    "# transformer from the example (see below)\n",
    "Z_THV_complex = 2.3263781460713675+9.409936797295378j\n",
    "Z_WA_complex = t_r ** 2 * Z_G_complex + Z_THV_complex\n",
    "Z_WA_complex"
   ],
   "outputs": [
    {
     "data": {
      "text/plain": [
       "(5.510497154743334+41.25112688401504j)"
      ]
     },
     "execution_count": 5,
     "metadata": {},
     "output_type": "execute_result"
    }
   ],
   "execution_count": 5
  },
  {
   "cell_type": "code",
   "metadata": {
    "ExecuteTime": {
     "end_time": "2025-10-17T08:25:58.473598Z",
     "start_time": "2025-10-17T08:25:58.452917Z"
    }
   },
   "source": [
    "ikss_ka = 1.1 * 0.4 / (np.sqrt(3) * Z_G)\n",
    "ikss_ka"
   ],
   "outputs": [
    {
     "data": {
      "text/plain": [
       "np.float64(19.846415503393388)"
      ]
     },
     "execution_count": 6,
     "metadata": {},
     "output_type": "execute_result"
    }
   ],
   "execution_count": 6
  },
  {
   "cell_type": "code",
   "metadata": {
    "ExecuteTime": {
     "end_time": "2025-10-17T08:25:58.783176Z",
     "start_time": "2025-10-17T08:25:58.761025Z"
    }
   },
   "source": [
    "# skss\n",
    "ikss_ka * 0.4 * np.sqrt(3)"
   ],
   "outputs": [
    {
     "data": {
      "text/plain": [
       "np.float64(13.750000000000002)"
      ]
     },
     "execution_count": 7,
     "metadata": {},
     "output_type": "execute_result"
    }
   ],
   "execution_count": 7
  },
  {
   "cell_type": "code",
   "metadata": {
    "ExecuteTime": {
     "end_time": "2025-10-17T08:25:59.080591Z",
     "start_time": "2025-10-17T08:25:59.049213Z"
    }
   },
   "source": [
    "ikss_block_ka = 1.1 * 20 / (np.sqrt(3) * abs(Z_WA_complex))\n",
    "ikss_block_ka"
   ],
   "outputs": [
    {
     "data": {
      "text/plain": [
       "np.float64(0.3052006616231507)"
      ]
     },
     "execution_count": 8,
     "metadata": {},
     "output_type": "execute_result"
    }
   ],
   "execution_count": 8
  },
  {
   "cell_type": "code",
   "metadata": {
    "ExecuteTime": {
     "end_time": "2025-10-17T08:25:59.424724Z",
     "start_time": "2025-10-17T08:25:59.406049Z"
    }
   },
   "source": [
    "# skss\n",
    "ikss_block_ka * 20 * np.sqrt(3)"
   ],
   "outputs": [
    {
     "data": {
      "text/plain": [
       "np.float64(10.572461048698674)"
      ]
     },
     "execution_count": 9,
     "metadata": {},
     "output_type": "execute_result"
    }
   ],
   "execution_count": 9
  },
  {
   "cell_type": "code",
   "metadata": {
    "ExecuteTime": {
     "end_time": "2025-10-17T08:25:59.750788Z",
     "start_time": "2025-10-17T08:25:59.727282Z"
    }
   },
   "source": [
    "kappa = 1.02 + 0.98 * np.exp(-3*0.1)\n",
    "ikss_ka * kappa * np.sqrt(2)"
   ],
   "outputs": [
    {
     "data": {
      "text/plain": [
       "np.float64(49.00515626656216)"
      ]
     },
     "execution_count": 10,
     "metadata": {},
     "output_type": "execute_result"
    }
   ],
   "execution_count": 10
  },
  {
   "cell_type": "code",
   "metadata": {
    "ExecuteTime": {
     "end_time": "2025-10-17T08:26:00.155958Z",
     "start_time": "2025-10-17T08:26:00.130736Z"
    }
   },
   "source": [
    "kappa_block = 1.02 + 0.98 * np.exp(-3 * Z_WA_complex.real / Z_WA_complex.imag)\n",
    "ikss_block_ka * kappa_block * np.sqrt(2)"
   ],
   "outputs": [
    {
     "data": {
      "text/plain": [
       "np.float64(0.7235743722929369)"
      ]
     },
     "execution_count": 11,
     "metadata": {},
     "output_type": "execute_result"
    }
   ],
   "execution_count": 11
  },
  {
   "cell_type": "code",
   "metadata": {
    "ExecuteTime": {
     "end_time": "2025-10-17T08:26:03.247360Z",
     "start_time": "2025-10-17T08:26:00.486029Z"
    }
   },
   "source": [
    "%%capture\n",
    "# now with pandapower:\n",
    "net = create_net(\"async\", step_up_trafo=True)\n",
    "sc.calc_sc(net, ip=True)"
   ],
   "outputs": [],
   "execution_count": 12
  },
  {
   "cell_type": "code",
   "metadata": {
    "ExecuteTime": {
     "end_time": "2025-10-17T08:26:03.295471Z",
     "start_time": "2025-10-17T08:26:03.257404Z"
    }
   },
   "source": [
    "display(net.sgen)"
   ],
   "outputs": [
    {
     "data": {
      "text/plain": [
       "   name  bus  p_mw  q_mvar  min_q_mvar  max_q_mvar  sn_mva  scaling  \\\n",
       "0  None    1   0.0     0.0         NaN         NaN     2.5      1.0   \n",
       "\n",
       "   controllable  id_q_capability_characteristic  reactive_capability_curve  \\\n",
       "0         False                            <NA>                      False   \n",
       "\n",
       "  curve_style  in_service type  current_source   rx generator_type  lrc_pu  \n",
       "0         NaN        True  wye           False  0.1          async     5.0  "
      ],
      "text/html": [
       "<div>\n",
       "<style scoped>\n",
       "    .dataframe tbody tr th:only-of-type {\n",
       "        vertical-align: middle;\n",
       "    }\n",
       "\n",
       "    .dataframe tbody tr th {\n",
       "        vertical-align: top;\n",
       "    }\n",
       "\n",
       "    .dataframe thead th {\n",
       "        text-align: right;\n",
       "    }\n",
       "</style>\n",
       "<table border=\"1\" class=\"dataframe\">\n",
       "  <thead>\n",
       "    <tr style=\"text-align: right;\">\n",
       "      <th></th>\n",
       "      <th>name</th>\n",
       "      <th>bus</th>\n",
       "      <th>p_mw</th>\n",
       "      <th>q_mvar</th>\n",
       "      <th>min_q_mvar</th>\n",
       "      <th>max_q_mvar</th>\n",
       "      <th>sn_mva</th>\n",
       "      <th>scaling</th>\n",
       "      <th>controllable</th>\n",
       "      <th>id_q_capability_characteristic</th>\n",
       "      <th>reactive_capability_curve</th>\n",
       "      <th>curve_style</th>\n",
       "      <th>in_service</th>\n",
       "      <th>type</th>\n",
       "      <th>current_source</th>\n",
       "      <th>rx</th>\n",
       "      <th>generator_type</th>\n",
       "      <th>lrc_pu</th>\n",
       "    </tr>\n",
       "  </thead>\n",
       "  <tbody>\n",
       "    <tr>\n",
       "      <th>0</th>\n",
       "      <td>None</td>\n",
       "      <td>1</td>\n",
       "      <td>0.0</td>\n",
       "      <td>0.0</td>\n",
       "      <td>NaN</td>\n",
       "      <td>NaN</td>\n",
       "      <td>2.5</td>\n",
       "      <td>1.0</td>\n",
       "      <td>False</td>\n",
       "      <td>&lt;NA&gt;</td>\n",
       "      <td>False</td>\n",
       "      <td>NaN</td>\n",
       "      <td>True</td>\n",
       "      <td>wye</td>\n",
       "      <td>False</td>\n",
       "      <td>0.1</td>\n",
       "      <td>async</td>\n",
       "      <td>5.0</td>\n",
       "    </tr>\n",
       "  </tbody>\n",
       "</table>\n",
       "</div>"
      ]
     },
     "metadata": {},
     "output_type": "display_data",
     "jetTransient": {
      "display_id": null
     }
    }
   ],
   "execution_count": 13
  },
  {
   "cell_type": "code",
   "metadata": {
    "ExecuteTime": {
     "end_time": "2025-10-17T08:26:04.138692Z",
     "start_time": "2025-10-17T08:26:04.115458Z"
    }
   },
   "source": [
    "display(net.res_bus_sc)"
   ],
   "outputs": [
    {
     "data": {
      "text/plain": [
       "     ikss_ka    skss_mw      ip_ka    rk_ohm     xk_ohm\n",
       "0   0.305201  10.572461   0.723574  5.510497  41.251127\n",
       "1  19.846416  13.750000  49.005156  0.001274   0.012736"
      ],
      "text/html": [
       "<div>\n",
       "<style scoped>\n",
       "    .dataframe tbody tr th:only-of-type {\n",
       "        vertical-align: middle;\n",
       "    }\n",
       "\n",
       "    .dataframe tbody tr th {\n",
       "        vertical-align: top;\n",
       "    }\n",
       "\n",
       "    .dataframe thead th {\n",
       "        text-align: right;\n",
       "    }\n",
       "</style>\n",
       "<table border=\"1\" class=\"dataframe\">\n",
       "  <thead>\n",
       "    <tr style=\"text-align: right;\">\n",
       "      <th></th>\n",
       "      <th>ikss_ka</th>\n",
       "      <th>skss_mw</th>\n",
       "      <th>ip_ka</th>\n",
       "      <th>rk_ohm</th>\n",
       "      <th>xk_ohm</th>\n",
       "    </tr>\n",
       "  </thead>\n",
       "  <tbody>\n",
       "    <tr>\n",
       "      <th>0</th>\n",
       "      <td>0.305201</td>\n",
       "      <td>10.572461</td>\n",
       "      <td>0.723574</td>\n",
       "      <td>5.510497</td>\n",
       "      <td>41.251127</td>\n",
       "    </tr>\n",
       "    <tr>\n",
       "      <th>1</th>\n",
       "      <td>19.846416</td>\n",
       "      <td>13.750000</td>\n",
       "      <td>49.005156</td>\n",
       "      <td>0.001274</td>\n",
       "      <td>0.012736</td>\n",
       "    </tr>\n",
       "  </tbody>\n",
       "</table>\n",
       "</div>"
      ]
     },
     "metadata": {},
     "output_type": "display_data",
     "jetTransient": {
      "display_id": null
     }
    }
   ],
   "execution_count": 14
  },
  {
   "cell_type": "markdown",
   "metadata": {},
   "source": [
    "## Wind power station units with doubly fed asynchronous generator"
   ]
  },
  {
   "cell_type": "markdown",
   "metadata": {},
   "source": [
    "The total positive-sequence short-circuit impedance $Z_{WD}$ of a wind power station is defined as follows (eq. 28):\n",
    "\n",
    "$Z_{WD} = \\frac{\\sqrt{2} \\cdot \\kappa_{WD} \\cdot U_{rTHV}}{\\sqrt{3} \\cdot i_{WDmax}}$\n",
    "\n",
    "where\n",
    "\n",
    "$U_{rTHV}$ stands for the rated voltage of the unit transformer at the high-voltage side\n",
    "\n",
    "$\\kappa_{WD}$ is the factor for the caclulation of the peak short-circuit current, given by the manufacturer and referred to the high-voltage side (depends on the protection equipment, to be assumed 1.7 if not known)\n",
    "\n",
    "$i_{WDmax}$ is the highest instantaneous short-circuit value in case of a three-phase short-circuit\n",
    "\n",
    "\n",
    "\n",
    "The complex value of the short-circuit impedance $\\underline{Z}_{WD}$ is calculated as follows (eq. 29):\n",
    "\n",
    "$\\underline{Z}_{WD} = R_{WD} + jX_{WD} = (\\frac{R_{WD}}{X_{WD}}+j) \\cdot \\frac{Z_{WD}}{\\sqrt{1+(R_{WD}/X_{WD})^2}}$\n",
    "\n",
    "If $\\frac{R_{WD}}{X_{WD}}$ is not provided by the manufacturer, then 0.1 can be assumed."
   ]
  },
  {
   "cell_type": "markdown",
   "metadata": {},
   "source": [
    "### Example"
   ]
  },
  {
   "cell_type": "markdown",
   "metadata": {},
   "source": [
    "Required parameters for sgen are:\n",
    "\n",
    "* U_rG: rated voltage of the asynchronous generator (we take from the bus)\n",
    "* I_rG: rated current of the asynchronous generator (calculated from S_rG and U_rG)\n",
    "* S_rG: rated apparent power of the asynchronous generator (required input)\n",
    "* R_G/X_G: R to X value of the asynchronous generator (required input)\n",
    "\n",
    "Required new input parameters:\n",
    "* i_WDmax: the highest instantaneous short-circuit value in case of a three-phase short-circuit (required new input, provided by the manufacturer)\n",
    "* k_WD: (kappa) the factor for the calculation of the peak short-circuit current, referred to the high-voltage side (required new input, provided by the manufacturer)"
   ]
  },
  {
   "cell_type": "markdown",
   "metadata": {},
   "source": [
    "Calculation according to the example from IEC 60909-4:2021 (8.2, figure 16)"
   ]
  },
  {
   "cell_type": "code",
   "metadata": {
    "ExecuteTime": {
     "end_time": "2025-10-17T08:26:04.464676Z",
     "start_time": "2025-10-17T08:26:04.455331Z"
    }
   },
   "source": [
    "S_rWd = 2.5 # MVA\n",
    "U_rWD = U_rTWDHV = 20 # kV\n",
    "i_WDmax = 0.388 # kA\n",
    "# I_rWD is provided by the manufacturer\n",
    "# i_kWDmax = 1.2 * I_rWD\n",
    "k_WD = 1.7\n",
    "RX_WD = 0.1"
   ],
   "outputs": [],
   "execution_count": 15
  },
  {
   "cell_type": "code",
   "metadata": {
    "ExecuteTime": {
     "end_time": "2025-10-17T08:26:04.620856Z",
     "start_time": "2025-10-17T08:26:04.600530Z"
    }
   },
   "source": [
    "Z_WD = np.sqrt(2) * k_WD * U_rTWDHV / (np.sqrt(3) * i_WDmax)\n",
    "Z_WD # Ohm"
   ],
   "outputs": [
    {
     "data": {
      "text/plain": [
       "np.float64(71.54866946273889)"
      ]
     },
     "execution_count": 16,
     "metadata": {},
     "output_type": "execute_result"
    }
   ],
   "execution_count": 16
  },
  {
   "cell_type": "code",
   "metadata": {
    "ExecuteTime": {
     "end_time": "2025-10-17T08:26:04.651456Z",
     "start_time": "2025-10-17T08:26:04.642756Z"
    }
   },
   "source": [
    "Z_WD_complex = (RX_WD + 1j) * Z_WD / np.sqrt(1 + RX_WD**2)\n",
    "Z_WD_complex # Ohm"
   ],
   "outputs": [
    {
     "data": {
      "text/plain": [
       "(7.1193587025466964+71.19358702546695j)"
      ]
     },
     "execution_count": 17,
     "metadata": {},
     "output_type": "execute_result"
    }
   ],
   "execution_count": 17
  },
  {
   "cell_type": "code",
   "metadata": {
    "ExecuteTime": {
     "end_time": "2025-10-17T08:26:04.698506Z",
     "start_time": "2025-10-17T08:26:04.682279Z"
    }
   },
   "source": [
    "ikss_ka = 1.1 * 20 / (np.sqrt(3) * Z_WD)\n",
    "ikss_ka"
   ],
   "outputs": [
    {
     "data": {
      "text/plain": [
       "np.float64(0.1775253965943638)"
      ]
     },
     "execution_count": 18,
     "metadata": {},
     "output_type": "execute_result"
    }
   ],
   "execution_count": 18
  },
  {
   "cell_type": "code",
   "metadata": {
    "ExecuteTime": {
     "end_time": "2025-10-17T08:26:04.745482Z",
     "start_time": "2025-10-17T08:26:04.723370Z"
    }
   },
   "source": [
    "# skss\n",
    "ikss_ka * 20 * np.sqrt(3)"
   ],
   "outputs": [
    {
     "data": {
      "text/plain": [
       "np.float64(6.149660130705061)"
      ]
     },
     "execution_count": 19,
     "metadata": {},
     "output_type": "execute_result"
    }
   ],
   "execution_count": 19
  },
  {
   "cell_type": "code",
   "metadata": {
    "ExecuteTime": {
     "end_time": "2025-10-17T08:26:04.808621Z",
     "start_time": "2025-10-17T08:26:04.781645Z"
    }
   },
   "source": "ikss_ka * k_WD * np.sqrt(2)",
   "outputs": [
    {
     "data": {
      "text/plain": [
       "np.float64(0.4268)"
      ]
     },
     "execution_count": 20,
     "metadata": {},
     "output_type": "execute_result"
    }
   ],
   "execution_count": 20
  },
  {
   "cell_type": "code",
   "metadata": {
    "ExecuteTime": {
     "end_time": "2025-10-17T08:26:05.415771Z",
     "start_time": "2025-10-17T08:26:04.845718Z"
    }
   },
   "source": [
    "%%capture\n",
    "# now with pandapower:\n",
    "net = create_net(\"async_doubly_fed\")\n",
    "sc.calc_sc(net, ip=True)"
   ],
   "outputs": [],
   "execution_count": 21
  },
  {
   "cell_type": "code",
   "metadata": {
    "ExecuteTime": {
     "end_time": "2025-10-17T08:26:05.493359Z",
     "start_time": "2025-10-17T08:26:05.445506Z"
    }
   },
   "source": [
    "display(net.sgen)"
   ],
   "outputs": [
    {
     "data": {
      "text/plain": [
       "   name  bus  p_mw  q_mvar  min_q_mvar  max_q_mvar  sn_mva  scaling  \\\n",
       "0  None    0   0.0     0.0         NaN         NaN     2.5      1.0   \n",
       "\n",
       "   controllable  id_q_capability_characteristic  reactive_capability_curve  \\\n",
       "0         False                            <NA>                      False   \n",
       "\n",
       "  curve_style  in_service type  current_source   rx  kappa    generator_type  \\\n",
       "0         NaN        True  wye           False  0.1    1.7  async_doubly_fed   \n",
       "\n",
       "   max_ik_ka  \n",
       "0      0.388  "
      ],
      "text/html": [
       "<div>\n",
       "<style scoped>\n",
       "    .dataframe tbody tr th:only-of-type {\n",
       "        vertical-align: middle;\n",
       "    }\n",
       "\n",
       "    .dataframe tbody tr th {\n",
       "        vertical-align: top;\n",
       "    }\n",
       "\n",
       "    .dataframe thead th {\n",
       "        text-align: right;\n",
       "    }\n",
       "</style>\n",
       "<table border=\"1\" class=\"dataframe\">\n",
       "  <thead>\n",
       "    <tr style=\"text-align: right;\">\n",
       "      <th></th>\n",
       "      <th>name</th>\n",
       "      <th>bus</th>\n",
       "      <th>p_mw</th>\n",
       "      <th>q_mvar</th>\n",
       "      <th>min_q_mvar</th>\n",
       "      <th>max_q_mvar</th>\n",
       "      <th>sn_mva</th>\n",
       "      <th>scaling</th>\n",
       "      <th>controllable</th>\n",
       "      <th>id_q_capability_characteristic</th>\n",
       "      <th>reactive_capability_curve</th>\n",
       "      <th>curve_style</th>\n",
       "      <th>in_service</th>\n",
       "      <th>type</th>\n",
       "      <th>current_source</th>\n",
       "      <th>rx</th>\n",
       "      <th>kappa</th>\n",
       "      <th>generator_type</th>\n",
       "      <th>max_ik_ka</th>\n",
       "    </tr>\n",
       "  </thead>\n",
       "  <tbody>\n",
       "    <tr>\n",
       "      <th>0</th>\n",
       "      <td>None</td>\n",
       "      <td>0</td>\n",
       "      <td>0.0</td>\n",
       "      <td>0.0</td>\n",
       "      <td>NaN</td>\n",
       "      <td>NaN</td>\n",
       "      <td>2.5</td>\n",
       "      <td>1.0</td>\n",
       "      <td>False</td>\n",
       "      <td>&lt;NA&gt;</td>\n",
       "      <td>False</td>\n",
       "      <td>NaN</td>\n",
       "      <td>True</td>\n",
       "      <td>wye</td>\n",
       "      <td>False</td>\n",
       "      <td>0.1</td>\n",
       "      <td>1.7</td>\n",
       "      <td>async_doubly_fed</td>\n",
       "      <td>0.388</td>\n",
       "    </tr>\n",
       "  </tbody>\n",
       "</table>\n",
       "</div>"
      ]
     },
     "metadata": {},
     "output_type": "display_data",
     "jetTransient": {
      "display_id": null
     }
    }
   ],
   "execution_count": 22
  },
  {
   "cell_type": "code",
   "metadata": {
    "ExecuteTime": {
     "end_time": "2025-10-17T08:26:05.772900Z",
     "start_time": "2025-10-17T08:26:05.755332Z"
    }
   },
   "source": [
    "display(net.res_bus_sc)"
   ],
   "outputs": [
    {
     "data": {
      "text/plain": [
       "    ikss_ka  skss_mw   ip_ka    rk_ohm     xk_ohm\n",
       "0  0.177525  6.14966  0.4268  7.119359  71.193587"
      ],
      "text/html": [
       "<div>\n",
       "<style scoped>\n",
       "    .dataframe tbody tr th:only-of-type {\n",
       "        vertical-align: middle;\n",
       "    }\n",
       "\n",
       "    .dataframe tbody tr th {\n",
       "        vertical-align: top;\n",
       "    }\n",
       "\n",
       "    .dataframe thead th {\n",
       "        text-align: right;\n",
       "    }\n",
       "</style>\n",
       "<table border=\"1\" class=\"dataframe\">\n",
       "  <thead>\n",
       "    <tr style=\"text-align: right;\">\n",
       "      <th></th>\n",
       "      <th>ikss_ka</th>\n",
       "      <th>skss_mw</th>\n",
       "      <th>ip_ka</th>\n",
       "      <th>rk_ohm</th>\n",
       "      <th>xk_ohm</th>\n",
       "    </tr>\n",
       "  </thead>\n",
       "  <tbody>\n",
       "    <tr>\n",
       "      <th>0</th>\n",
       "      <td>0.177525</td>\n",
       "      <td>6.14966</td>\n",
       "      <td>0.4268</td>\n",
       "      <td>7.119359</td>\n",
       "      <td>71.193587</td>\n",
       "    </tr>\n",
       "  </tbody>\n",
       "</table>\n",
       "</div>"
      ]
     },
     "metadata": {},
     "output_type": "display_data",
     "jetTransient": {
      "display_id": null
     }
    }
   ],
   "execution_count": 23
  },
  {
   "cell_type": "markdown",
   "metadata": {},
   "source": [
    "## Wind power station unit with full size converter"
   ]
  },
  {
   "cell_type": "markdown",
   "metadata": {},
   "source": [
    "### Example"
   ]
  },
  {
   "cell_type": "markdown",
   "metadata": {},
   "source": [
    "A typical range of short-circuit current contribution of a full size converter is 1.0 to 1.3 of the rated current $I_{rWF}$.\n",
    "The wind power station unit with full size converter is considered as a current source, therefore the impedance is infinitely high:\n",
    "\n",
    "$Z_{WF} = \\infty$"
   ]
  },
  {
   "cell_type": "markdown",
   "metadata": {},
   "source": [
    "Required input parameters:\n",
    "* U_rG: rated voltage of the asynchronous generator (we take from the bus)\n",
    "* I_rG: rated current of the asynchronous generator (calculated from S_rG and U_rG)\n",
    "* S_rG: rated apparent power of the asynchronous generator (required input)\n",
    "* R_G/X_G: R to X value of the asynchronous generator (required input)\n",
    "* k: the factor of the short-circuit contribution of the full size converter in relation to its rated current (typically in the range between 1 and 1.3, depends on the requirements of the system operator)\n"
   ]
  },
  {
   "cell_type": "code",
   "metadata": {
    "ExecuteTime": {
     "end_time": "2025-10-17T08:26:06.085495Z",
     "start_time": "2025-10-17T08:26:06.064921Z"
    }
   },
   "source": [
    "S_rWF = 2.5 # MVA\n",
    "U_rWF = 20 # kV"
   ],
   "outputs": [],
   "execution_count": 24
  },
  {
   "cell_type": "code",
   "metadata": {
    "ExecuteTime": {
     "end_time": "2025-10-17T08:26:06.355398Z",
     "start_time": "2025-10-17T08:26:06.344555Z"
    }
   },
   "source": [
    "I_rWF = S_rWF / (np.sqrt(3) * U_rWF)\n",
    "I_rWF # kA"
   ],
   "outputs": [
    {
     "data": {
      "text/plain": [
       "np.float64(0.07216878364870323)"
      ]
     },
     "execution_count": 25,
     "metadata": {},
     "output_type": "execute_result"
    }
   ],
   "execution_count": 25
  },
  {
   "cell_type": "code",
   "metadata": {
    "ExecuteTime": {
     "end_time": "2025-10-17T08:26:06.490895Z",
     "start_time": "2025-10-17T08:26:06.475658Z"
    }
   },
   "source": [
    "I_skWF = I_kWFmax = 1.3 * I_rWF\n",
    "I_skWF # kA"
   ],
   "outputs": [
    {
     "data": {
      "text/plain": [
       "np.float64(0.0938194187433142)"
      ]
     },
     "execution_count": 26,
     "metadata": {},
     "output_type": "execute_result"
    }
   ],
   "execution_count": 26
  },
  {
   "cell_type": "code",
   "metadata": {
    "ExecuteTime": {
     "end_time": "2025-10-17T08:26:06.553567Z",
     "start_time": "2025-10-17T08:26:06.529263Z"
    }
   },
   "source": [
    "kappa = 1.02 + 0.98 * np.exp(-3*0.1)\n",
    "I_skWF * np.sqrt(2) # because single power station unit with full size converter"
   ],
   "outputs": [
    {
     "data": {
      "text/plain": [
       "np.float64(0.1326806944007555)"
      ]
     },
     "execution_count": 27,
     "metadata": {},
     "output_type": "execute_result"
    }
   ],
   "execution_count": 27
  },
  {
   "cell_type": "code",
   "metadata": {
    "ExecuteTime": {
     "end_time": "2025-10-17T08:26:06.629887Z",
     "start_time": "2025-10-17T08:26:06.591504Z"
    }
   },
   "source": [
    "# skss\n",
    "I_skWF * 20 * np.sqrt(3)"
   ],
   "outputs": [
    {
     "data": {
      "text/plain": [
       "np.float64(3.2500000000000004)"
      ]
     },
     "execution_count": 28,
     "metadata": {},
     "output_type": "execute_result"
    }
   ],
   "execution_count": 28
  },
  {
   "cell_type": "code",
   "metadata": {
    "ExecuteTime": {
     "end_time": "2025-10-17T08:26:07.696601Z",
     "start_time": "2025-10-17T08:26:06.679239Z"
    }
   },
   "source": [
    "%%capture\n",
    "# now with pandapower:\n",
    "net = create_net(\"current_source\")\n",
    "sc.calc_sc(net, ip=True)"
   ],
   "outputs": [],
   "execution_count": 29
  },
  {
   "cell_type": "code",
   "metadata": {
    "ExecuteTime": {
     "end_time": "2025-10-17T08:26:07.774899Z",
     "start_time": "2025-10-17T08:26:07.716995Z"
    }
   },
   "source": [
    "display(net.sgen)"
   ],
   "outputs": [
    {
     "data": {
      "text/plain": [
       "   name  bus  p_mw  q_mvar  min_q_mvar  max_q_mvar  sn_mva  scaling  \\\n",
       "0  None    0   0.0     0.0         NaN         NaN     2.5      1.0   \n",
       "\n",
       "   controllable  id_q_capability_characteristic  reactive_capability_curve  \\\n",
       "0         False                            <NA>                      False   \n",
       "\n",
       "  curve_style  in_service type  current_source   rx  generator_type    k  \n",
       "0         NaN        True  wye            True  0.1  current_source  1.3  "
      ],
      "text/html": [
       "<div>\n",
       "<style scoped>\n",
       "    .dataframe tbody tr th:only-of-type {\n",
       "        vertical-align: middle;\n",
       "    }\n",
       "\n",
       "    .dataframe tbody tr th {\n",
       "        vertical-align: top;\n",
       "    }\n",
       "\n",
       "    .dataframe thead th {\n",
       "        text-align: right;\n",
       "    }\n",
       "</style>\n",
       "<table border=\"1\" class=\"dataframe\">\n",
       "  <thead>\n",
       "    <tr style=\"text-align: right;\">\n",
       "      <th></th>\n",
       "      <th>name</th>\n",
       "      <th>bus</th>\n",
       "      <th>p_mw</th>\n",
       "      <th>q_mvar</th>\n",
       "      <th>min_q_mvar</th>\n",
       "      <th>max_q_mvar</th>\n",
       "      <th>sn_mva</th>\n",
       "      <th>scaling</th>\n",
       "      <th>controllable</th>\n",
       "      <th>id_q_capability_characteristic</th>\n",
       "      <th>reactive_capability_curve</th>\n",
       "      <th>curve_style</th>\n",
       "      <th>in_service</th>\n",
       "      <th>type</th>\n",
       "      <th>current_source</th>\n",
       "      <th>rx</th>\n",
       "      <th>generator_type</th>\n",
       "      <th>k</th>\n",
       "    </tr>\n",
       "  </thead>\n",
       "  <tbody>\n",
       "    <tr>\n",
       "      <th>0</th>\n",
       "      <td>None</td>\n",
       "      <td>0</td>\n",
       "      <td>0.0</td>\n",
       "      <td>0.0</td>\n",
       "      <td>NaN</td>\n",
       "      <td>NaN</td>\n",
       "      <td>2.5</td>\n",
       "      <td>1.0</td>\n",
       "      <td>False</td>\n",
       "      <td>&lt;NA&gt;</td>\n",
       "      <td>False</td>\n",
       "      <td>NaN</td>\n",
       "      <td>True</td>\n",
       "      <td>wye</td>\n",
       "      <td>True</td>\n",
       "      <td>0.1</td>\n",
       "      <td>current_source</td>\n",
       "      <td>1.3</td>\n",
       "    </tr>\n",
       "  </tbody>\n",
       "</table>\n",
       "</div>"
      ]
     },
     "metadata": {},
     "output_type": "display_data",
     "jetTransient": {
      "display_id": null
     }
    }
   ],
   "execution_count": 30
  },
  {
   "cell_type": "code",
   "metadata": {
    "ExecuteTime": {
     "end_time": "2025-10-17T08:26:08.170519Z",
     "start_time": "2025-10-17T08:26:08.149701Z"
    }
   },
   "source": [
    "display(net.res_bus_sc)"
   ],
   "outputs": [
    {
     "data": {
      "text/plain": [
       "    ikss_ka  skss_mw     ip_ka  rk_ohm  xk_ohm\n",
       "0  0.093819     3.25  0.132681     0.0     inf"
      ],
      "text/html": [
       "<div>\n",
       "<style scoped>\n",
       "    .dataframe tbody tr th:only-of-type {\n",
       "        vertical-align: middle;\n",
       "    }\n",
       "\n",
       "    .dataframe tbody tr th {\n",
       "        vertical-align: top;\n",
       "    }\n",
       "\n",
       "    .dataframe thead th {\n",
       "        text-align: right;\n",
       "    }\n",
       "</style>\n",
       "<table border=\"1\" class=\"dataframe\">\n",
       "  <thead>\n",
       "    <tr style=\"text-align: right;\">\n",
       "      <th></th>\n",
       "      <th>ikss_ka</th>\n",
       "      <th>skss_mw</th>\n",
       "      <th>ip_ka</th>\n",
       "      <th>rk_ohm</th>\n",
       "      <th>xk_ohm</th>\n",
       "    </tr>\n",
       "  </thead>\n",
       "  <tbody>\n",
       "    <tr>\n",
       "      <th>0</th>\n",
       "      <td>0.093819</td>\n",
       "      <td>3.25</td>\n",
       "      <td>0.132681</td>\n",
       "      <td>0.0</td>\n",
       "      <td>inf</td>\n",
       "    </tr>\n",
       "  </tbody>\n",
       "</table>\n",
       "</div>"
      ]
     },
     "metadata": {},
     "output_type": "display_data",
     "jetTransient": {
      "display_id": null
     }
    }
   ],
   "execution_count": 31
  }
 ],
 "metadata": {
  "kernelspec": {
   "display_name": "Python 3 (ipykernel)",
   "language": "python",
   "name": "python3"
  },
  "language_info": {
   "codemirror_mode": {
    "name": "ipython",
    "version": 3
   },
   "file_extension": ".py",
   "mimetype": "text/x-python",
   "name": "python",
   "nbconvert_exporter": "python",
   "pygments_lexer": "ipython3",
   "version": "3.9.13"
  }
 },
 "nbformat": 4,
 "nbformat_minor": 4
}
