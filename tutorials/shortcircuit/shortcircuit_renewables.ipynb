{
 "cells": [
  {
   "cell_type": "markdown",
   "metadata": {},
   "source": [
    "# Short-Circuit Calculation Considering Renewable Energy Resources\n",
    "\n"
   ]
  },
  {
   "cell_type": "markdown",
   "metadata": {},
   "source": [
    "In the 2016 revision of the standard, the contribution of full converter elements like wind parks of photovoltaic or wind power plants, which was previously neglected, has been integrated.  \n",
    "\n",
    "In the paper [Short Circuit Calculation with Fullsize Converters According to IEC 60909](https://www.researchgate.net/publication/309430459_SHORT-CIRCUIT_CALCULATION_WITH_FULLSIZE_CONVERTERS_ACCORDING_TO_IEC_60909), the process is explained and an example is given. This example is used here to validate the correct implementation of the 2016 revision of the standard in pandapower."
   ]
  },
  {
   "cell_type": "markdown",
   "metadata": {},
   "source": [
    "## Example Network\n",
    "\n",
    "The following network is introduced as example in the paper:\n",
    "    \n",
    "<img src=\"shortcircuit/example_renewables.png\" width=\"50%\">"
   ]
  },
  {
   "cell_type": "markdown",
   "metadata": {},
   "source": [
    "This network can be modeled in pandapower with the line parameters given in the paper as:"
   ]
  },
  {
   "cell_type": "code",
   "metadata": {
    "ExecuteTime": {
     "end_time": "2025-10-17T08:28:52.384350Z",
     "start_time": "2025-10-17T08:28:47.885925Z"
    }
   },
   "source": [
    "from pandapower.create import *\n",
    "from pandapower.shortcircuit import calc_sc\n",
    "from pandapower.std_types import create_std_type\n",
    "import numpy as np\n",
    "\n",
    "net = create_empty_network()\n",
    "for i in range(4):\n",
    "    create_bus(net, vn_kv=110., index=i+1)\n",
    "    \n",
    "create_ext_grid(net, 1, s_sc_max_mva=20*110*np.sqrt(3), rx_max=0.1)\n",
    "create_std_type(net, {\"r_ohm_per_km\": 0.120, \"x_ohm_per_km\": 0.393, \"c_nf_per_km\": 0.19,\n",
    "                         \"max_i_ka\": 0.6}, \"example_type\")\n",
    "\n",
    "for fb, tb, length in [(1, 2, 100), (1, 3, 50), (2, 3, 50), (3, 4, 25)]:\n",
    "    create_line(net, from_bus=fb, to_bus=tb, length_km=length, std_type=\"example_type\")\n",
    "\n",
    "for b, p in [(2, 100), (3, 50), (4, 50)]:\n",
    "    create_sgen(net, b, p_mw=p, sn_mva=p, k=1.2)"
   ],
   "outputs": [],
   "execution_count": 1
  },
  {
   "cell_type": "markdown",
   "metadata": {},
   "source": [
    "## Short Circuits Without Windparks\n",
    "\n",
    "First, we disable the static generators that represent the wind parks and run a short circuit calculation without the wind park contribution:"
   ]
  },
  {
   "cell_type": "code",
   "metadata": {
    "ExecuteTime": {
     "end_time": "2025-10-17T08:28:54.541042Z",
     "start_time": "2025-10-17T08:28:52.391873Z"
    }
   },
   "source": [
    "net.sgen.in_service = False\n",
    "calc_sc(net, ip=True)"
   ],
   "outputs": [],
   "execution_count": 2
  },
  {
   "cell_type": "markdown",
   "metadata": {},
   "source": [
    "The result given in the paper without wind park contribution for a fault at bus 2 is Ikss = 2.9133 kA and ip = 5.9746 kA. Checking the results table shows that pandapower gives the same results:"
   ]
  },
  {
   "cell_type": "code",
   "metadata": {
    "ExecuteTime": {
     "end_time": "2025-10-17T08:28:54.569144Z",
     "start_time": "2025-10-17T08:28:54.548538Z"
    }
   },
   "source": [
    "net.res_bus_sc"
   ],
   "outputs": [
    {
     "data": {
      "text/plain": [
       "     ikss_ka      skss_mw      ip_ka    rk_ohm     xk_ohm\n",
       "1  20.000000  3810.511777  49.384390  0.347563   3.475634\n",
       "2   2.913118   555.023616   5.974240  6.347563  23.125634\n",
       "3   3.706618   706.205517   7.658568  4.847563  18.213134\n",
       "4   2.399375   457.142425   4.897167  7.847563  28.038134"
      ],
      "text/html": [
       "<div>\n",
       "<style scoped>\n",
       "    .dataframe tbody tr th:only-of-type {\n",
       "        vertical-align: middle;\n",
       "    }\n",
       "\n",
       "    .dataframe tbody tr th {\n",
       "        vertical-align: top;\n",
       "    }\n",
       "\n",
       "    .dataframe thead th {\n",
       "        text-align: right;\n",
       "    }\n",
       "</style>\n",
       "<table border=\"1\" class=\"dataframe\">\n",
       "  <thead>\n",
       "    <tr style=\"text-align: right;\">\n",
       "      <th></th>\n",
       "      <th>ikss_ka</th>\n",
       "      <th>skss_mw</th>\n",
       "      <th>ip_ka</th>\n",
       "      <th>rk_ohm</th>\n",
       "      <th>xk_ohm</th>\n",
       "    </tr>\n",
       "  </thead>\n",
       "  <tbody>\n",
       "    <tr>\n",
       "      <th>1</th>\n",
       "      <td>20.000000</td>\n",
       "      <td>3810.511777</td>\n",
       "      <td>49.384390</td>\n",
       "      <td>0.347563</td>\n",
       "      <td>3.475634</td>\n",
       "    </tr>\n",
       "    <tr>\n",
       "      <th>2</th>\n",
       "      <td>2.913118</td>\n",
       "      <td>555.023616</td>\n",
       "      <td>5.974240</td>\n",
       "      <td>6.347563</td>\n",
       "      <td>23.125634</td>\n",
       "    </tr>\n",
       "    <tr>\n",
       "      <th>3</th>\n",
       "      <td>3.706618</td>\n",
       "      <td>706.205517</td>\n",
       "      <td>7.658568</td>\n",
       "      <td>4.847563</td>\n",
       "      <td>18.213134</td>\n",
       "    </tr>\n",
       "    <tr>\n",
       "      <th>4</th>\n",
       "      <td>2.399375</td>\n",
       "      <td>457.142425</td>\n",
       "      <td>4.897167</td>\n",
       "      <td>7.847563</td>\n",
       "      <td>28.038134</td>\n",
       "    </tr>\n",
       "  </tbody>\n",
       "</table>\n",
       "</div>"
      ]
     },
     "execution_count": 3,
     "metadata": {},
     "output_type": "execute_result"
    }
   ],
   "execution_count": 3
  },
  {
   "cell_type": "markdown",
   "metadata": {},
   "source": [
    "Minor deviations in the results can be explained since the values in the paper are obtained from rounded intermediate results in the paper."
   ]
  },
  {
   "cell_type": "markdown",
   "metadata": {},
   "source": [
    "## Short Circuits With Windparks\n",
    "\n",
    "We now activate the three wind parks and run the short circuit calculation again:"
   ]
  },
  {
   "cell_type": "code",
   "metadata": {
    "ExecuteTime": {
     "end_time": "2025-10-17T08:28:55.049094Z",
     "start_time": "2025-10-17T08:28:55.011101Z"
    }
   },
   "source": [
    "net.sgen.in_service = True\n",
    "calc_sc(net, ip=True)"
   ],
   "outputs": [],
   "execution_count": 4
  },
  {
   "cell_type": "markdown",
   "metadata": {},
   "source": [
    "The result given in the paper with wind park contribution for a fault at bus 2 is Ikss = 3.9034 kA and ip = 7.3746 kA. Checking the results table shows that pandapower results yields the same result:"
   ]
  },
  {
   "cell_type": "code",
   "metadata": {
    "ExecuteTime": {
     "end_time": "2025-10-17T08:28:55.174278Z",
     "start_time": "2025-10-17T08:28:55.145146Z"
    }
   },
   "source": [
    "net.res_bus_sc"
   ],
   "outputs": [
    {
     "data": {
      "text/plain": [
       "     ikss_ka      skss_mw      ip_ka    rk_ohm     xk_ohm\n",
       "1  21.259660  4050.509271  51.165819  0.347563   3.475634\n",
       "2   3.903125   743.645123   7.374320  6.347563  23.125634\n",
       "3   4.794755   913.523472   9.197427  4.847563  18.213134\n",
       "4   3.214800   612.501650   6.050352  7.847563  28.038134"
      ],
      "text/html": [
       "<div>\n",
       "<style scoped>\n",
       "    .dataframe tbody tr th:only-of-type {\n",
       "        vertical-align: middle;\n",
       "    }\n",
       "\n",
       "    .dataframe tbody tr th {\n",
       "        vertical-align: top;\n",
       "    }\n",
       "\n",
       "    .dataframe thead th {\n",
       "        text-align: right;\n",
       "    }\n",
       "</style>\n",
       "<table border=\"1\" class=\"dataframe\">\n",
       "  <thead>\n",
       "    <tr style=\"text-align: right;\">\n",
       "      <th></th>\n",
       "      <th>ikss_ka</th>\n",
       "      <th>skss_mw</th>\n",
       "      <th>ip_ka</th>\n",
       "      <th>rk_ohm</th>\n",
       "      <th>xk_ohm</th>\n",
       "    </tr>\n",
       "  </thead>\n",
       "  <tbody>\n",
       "    <tr>\n",
       "      <th>1</th>\n",
       "      <td>21.259660</td>\n",
       "      <td>4050.509271</td>\n",
       "      <td>51.165819</td>\n",
       "      <td>0.347563</td>\n",
       "      <td>3.475634</td>\n",
       "    </tr>\n",
       "    <tr>\n",
       "      <th>2</th>\n",
       "      <td>3.903125</td>\n",
       "      <td>743.645123</td>\n",
       "      <td>7.374320</td>\n",
       "      <td>6.347563</td>\n",
       "      <td>23.125634</td>\n",
       "    </tr>\n",
       "    <tr>\n",
       "      <th>3</th>\n",
       "      <td>4.794755</td>\n",
       "      <td>913.523472</td>\n",
       "      <td>9.197427</td>\n",
       "      <td>4.847563</td>\n",
       "      <td>18.213134</td>\n",
       "    </tr>\n",
       "    <tr>\n",
       "      <th>4</th>\n",
       "      <td>3.214800</td>\n",
       "      <td>612.501650</td>\n",
       "      <td>6.050352</td>\n",
       "      <td>7.847563</td>\n",
       "      <td>28.038134</td>\n",
       "    </tr>\n",
       "  </tbody>\n",
       "</table>\n",
       "</div>"
      ]
     },
     "execution_count": 5,
     "metadata": {},
     "output_type": "execute_result"
    }
   ],
   "execution_count": 5
  }
 ],
 "metadata": {
  "kernelspec": {
   "display_name": "Python 3 (ipykernel)",
   "language": "python",
   "name": "python3"
  },
  "language_info": {
   "codemirror_mode": {
    "name": "ipython",
    "version": 3
   },
   "file_extension": ".py",
   "mimetype": "text/x-python",
   "name": "python",
   "nbconvert_exporter": "python",
   "pygments_lexer": "ipython3",
   "version": "3.9.13"
  }
 },
 "nbformat": 4,
 "nbformat_minor": 4
}
