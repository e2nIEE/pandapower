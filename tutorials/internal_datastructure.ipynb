{
 "cells": [
  {
   "cell_type": "markdown",
   "metadata": {
    "collapsed": true
   },
   "source": [
    "# Internal Datastructure: Bus branch model, Admittance and Jacobian Matrix\n"
   ]
  },
  {
   "cell_type": "markdown",
   "metadata": {},
   "source": [
    "This jupyter notebooks explains how to access and interpret the internal datastructure with relevant matrices."
   ]
  },
  {
   "cell_type": "markdown",
   "metadata": {},
   "source": [
    "### Internal Datastructure\n",
    "\n",
    "We use the simple example network from the create_simple tutorial as an example for how to access internal calculation parameters:\n",
    "\n",
    "<img src=\"pics/example_network_simple.png\">\n"
   ]
  },
  {
   "cell_type": "code",
   "execution_count": 1,
   "metadata": {},
   "outputs": [
    {
     "name": "stdout",
     "output_type": "stream",
     "text": [
      "This pandapower network includes the following parameter tables:\n",
      "   - gen (1 elements)\n",
      "   - shunt (1 elements)\n",
      "   - trafo (1 elements)\n",
      "   - switch (8 elements)\n",
      "   - load (1 elements)\n",
      "   - line (4 elements)\n",
      "   - ext_grid (1 elements)\n",
      "   - bus (7 elements)\n",
      "   - sgen (1 elements)\n"
     ]
    }
   ],
   "source": [
    "import pandapower as pp\n",
    "import pandapower.networks as nw\n",
    "\n",
    "net = nw.example_simple()\n",
    "print(net)"
   ]
  },
  {
   "cell_type": "markdown",
   "metadata": {},
   "source": [
    "First, we run a power flow in this network:"
   ]
  },
  {
   "cell_type": "code",
   "execution_count": 4,
   "metadata": {
    "collapsed": true
   },
   "outputs": [],
   "source": [
    "pp.runpp(net)"
   ]
  },
  {
   "cell_type": "markdown",
   "metadata": {},
   "source": [
    "When a power flow is carried out, the element based grid model is translated into a bus-branch model. That bus-branch model is stored in a data structure that is based on the PYPOWER/MATPOWER casefile (with some extensions). This ppc can be accesed after power flow:"
   ]
  },
  {
   "cell_type": "code",
   "execution_count": 15,
   "metadata": {
    "scrolled": false
   },
   "outputs": [
    {
     "data": {
      "text/plain": [
       "{'baseMVA': 1.0,\n",
       " 'branch': array([[  0.00000000e+00+0.j        ,   1.00000000e+00+0.j        ,\n",
       "           4.95867769e-05+0.j        ,   1.19008264e-04+0.j        ,\n",
       "           5.47391104e+00+0.j        ,   0.00000000e+00+0.j        ,\n",
       "           2.50000000e+02+0.j        ,   2.50000000e+02+0.j        ,\n",
       "           1.00000000e+00+0.j        ,   0.00000000e+00+0.j        ,\n",
       "           1.00000000e+00+0.j        ,  -3.60000000e+02+0.j        ,\n",
       "           3.60000000e+02+0.j        ,  -6.72726820e+00+0.j        ,\n",
       "          -7.26270133e+00+0.j        ,   6.73035426e+00+0.j        ,\n",
       "           1.57034577e+00+0.j        ,   0.00000000e+00+0.j        ,\n",
       "           0.00000000e+00+0.j        ,   0.00000000e+00+0.j        ,\n",
       "           0.00000000e+00+0.j        ,   0.00000000e+00+0.j        ,\n",
       "           0.00000000e+00+0.j        ],\n",
       "        [  2.00000000e+00+0.j        ,   3.00000000e+00+0.j        ,\n",
       "           6.10000000e-04+0.j        ,   5.60000000e-04+0.j        ,\n",
       "           7.64035333e-02+0.j        ,   0.00000000e+00+0.j        ,\n",
       "           2.50000000e+02+0.j        ,   2.50000000e+02+0.j        ,\n",
       "           1.00000000e+00+0.j        ,   0.00000000e+00+0.j        ,\n",
       "           1.00000000e+00+0.j        ,  -3.60000000e+02+0.j        ,\n",
       "           3.60000000e+02+0.j        ,  -5.97202087e+00+0.j        ,\n",
       "          -3.57260167e+00+0.j        ,   5.99999998e+00+0.j        ,\n",
       "           3.51766157e+00+0.j        ,   0.00000000e+00+0.j        ,\n",
       "           0.00000000e+00+0.j        ,   0.00000000e+00+0.j        ,\n",
       "           0.00000000e+00+0.j        ,   0.00000000e+00+0.j        ,\n",
       "           0.00000000e+00+0.j        ],\n",
       "        [  3.00000000e+00+0.j        ,   5.00000000e+00+0.j        ,\n",
       "           5.19662500e-03+0.j        ,   3.25500000e-03+0.j        ,\n",
       "           4.17831823e-03+0.j        ,   0.00000000e+00+0.j        ,\n",
       "           2.50000000e+02+0.j        ,   2.50000000e+02+0.j        ,\n",
       "           1.00000000e+00+0.j        ,   0.00000000e+00+0.j        ,\n",
       "           1.00000000e+00+0.j        ,  -3.60000000e+02+0.j        ,\n",
       "           3.60000000e+02+0.j        ,   2.39662740e-08+0.j        ,\n",
       "          -4.43279294e-03+0.j        ,   9.64121349e-11+0.j        ,\n",
       "           6.04275650e-11+0.j        ,   0.00000000e+00+0.j        ,\n",
       "           0.00000000e+00+0.j        ,   0.00000000e+00+0.j        ,\n",
       "           0.00000000e+00+0.j        ,   0.00000000e+00+0.j        ,\n",
       "           0.00000000e+00+0.j        ],\n",
       "        [  4.00000000e+00+0.j        ,   2.00000000e+00+0.j        ,\n",
       "           7.62500000e-04+0.j        ,   7.00000000e-04+0.j        ,\n",
       "           9.55044167e-02+0.j        ,   0.00000000e+00+0.j        ,\n",
       "           2.50000000e+02+0.j        ,   2.50000000e+02+0.j        ,\n",
       "           1.00000000e+00+0.j        ,   0.00000000e+00+0.j        ,\n",
       "           1.00000000e+00+0.j        ,  -3.60000000e+02+0.j        ,\n",
       "           3.60000000e+02+0.j        ,   8.00000000e-01+0.j        ,\n",
       "          -2.90000000e+00+0.j        ,  -7.93617548e-01+0.j        ,\n",
       "           2.80574806e+00+0.j        ,   0.00000000e+00+0.j        ,\n",
       "           0.00000000e+00+0.j        ,   0.00000000e+00+0.j        ,\n",
       "           0.00000000e+00+0.j        ,   0.00000000e+00+0.j        ,\n",
       "           0.00000000e+00+0.j        ],\n",
       "        [  1.00000000e+00+0.j        ,   2.00000000e+00+0.j        ,\n",
       "           1.12654674e-04+0.j        ,   4.47858703e-03+0.j        ,\n",
       "          -9.41619842e-07-0.02899998j,   0.00000000e+00+0.j        ,\n",
       "           2.50000000e+02+0.j        ,   2.50000000e+02+0.j        ,\n",
       "           1.00000000e+00+0.j        ,   1.50000000e+02+0.j        ,\n",
       "           1.00000000e+00+0.j        ,  -3.60000000e+02+0.j        ,\n",
       "           3.60000000e+02+0.j        ,  -6.73035426e+00+0.j        ,\n",
       "          -5.69911445e-01+0.j        ,   6.76563842e+00+0.j        ,\n",
       "           7.66853612e-01+0.j        ,   0.00000000e+00+0.j        ,\n",
       "           0.00000000e+00+0.j        ,   0.00000000e+00+0.j        ,\n",
       "           0.00000000e+00+0.j        ,   0.00000000e+00+0.j        ,\n",
       "           0.00000000e+00+0.j        ]]),\n",
       " 'bus': array([[   0.        ,    3.        ,    0.        ,    0.        ,\n",
       "            0.        ,    0.        ,    1.        ,    1.02      ,\n",
       "           50.        ,  110.        ,    1.        ,    2.        ,\n",
       "            0.        ,    0.        ,    0.        ],\n",
       "        [   1.        ,    1.        ,    0.        ,    0.        ,\n",
       "            0.        ,    0.96      ,    1.        ,    1.02084234,\n",
       "           50.03200647,  110.        ,    1.        ,    2.        ,\n",
       "            0.        ,    0.        ,    0.        ],\n",
       "        [   2.        ,    1.        ,    0.        ,    0.        ,\n",
       "            0.        ,    0.        ,    1.        ,    1.0245127 ,\n",
       "          -98.31627622,   20.        ,    1.        ,    2.        ,\n",
       "            0.        ,    0.        ,   -0.        ],\n",
       "        [   3.        ,    2.        ,    0.        ,    0.        ,\n",
       "            0.        ,    0.        ,    1.        ,    1.03      ,\n",
       "          -98.25169086,   20.        ,    1.        ,    2.        ,\n",
       "            0.        ,    0.        ,   -0.        ],\n",
       "        [   4.        ,    1.        ,   -0.8       ,    2.9       ,\n",
       "            0.        ,    0.        ,    1.        ,    1.02315556,\n",
       "          -98.16688506,   20.        ,    1.        ,    2.        ,\n",
       "            0.        ,    0.        ,   -0.        ],\n",
       "        [   5.        ,    1.        ,    0.        ,    0.        ,\n",
       "            0.        ,    0.        ,    1.        ,    1.030007  ,\n",
       "          -98.2523129 ,   20.        ,    1.        ,    1.1       ,\n",
       "            0.9       ,    0.        ,   -0.        ],\n",
       "        [   6.        ,    4.        ,    0.        ,    0.        ,\n",
       "            0.        ,    0.        ,    1.        ,           nan,\n",
       "                   nan,  110.        ,    1.        ,    2.        ,\n",
       "            0.        ,    0.        ,    0.        ],\n",
       "        [   7.        ,    4.        ,    0.        ,    0.        ,\n",
       "            0.        ,    0.        ,    1.        ,           nan,\n",
       "                   nan,   20.        ,    1.        ,    2.        ,\n",
       "            0.        ,    0.        ,    0.        ]]),\n",
       " 'et': 0.009999990463256836,\n",
       " 'gen': array([[  0.00000000e+00,  -6.72726820e+00,  -7.26270127e+00,\n",
       "           1.00000000e+09,  -1.00000000e+09,   1.02000000e+00,\n",
       "           1.00000000e+00,   1.00000000e+00,   0.00000000e+00,\n",
       "           0.00000000e+00,   0.00000000e+00,   0.00000000e+00,\n",
       "           0.00000000e+00,   0.00000000e+00,   0.00000000e+00,\n",
       "           0.00000000e+00,   0.00000000e+00,   0.00000000e+00,\n",
       "           0.00000000e+00,   0.00000000e+00,   0.00000000e+00],\n",
       "        [  3.00000000e+00,   6.00000000e+00,   3.51322877e+00,\n",
       "           1.00000000e+09,  -1.00000000e+09,   1.03000000e+00,\n",
       "           1.00000000e+00,   1.00000000e+00,   0.00000000e+00,\n",
       "           0.00000000e+00,   0.00000000e+00,   0.00000000e+00,\n",
       "           0.00000000e+00,   0.00000000e+00,   0.00000000e+00,\n",
       "           0.00000000e+00,   0.00000000e+00,   0.00000000e+00,\n",
       "           0.00000000e+00,   0.00000000e+00,   0.00000000e+00]]),\n",
       " 'internal': {'DLF': array([], dtype=complex128),\n",
       "  'J': <9x9 sparse matrix of type '<class 'numpy.float64'>'\n",
       "  \twith 41 stored elements in Compressed Sparse Row format>,\n",
       "  'Ybus': <6x6 sparse matrix of type '<class 'numpy.complex128'>'\n",
       "  \twith 16 stored elements in Compressed Sparse Row format>,\n",
       "  'Yf': <5x6 sparse matrix of type '<class 'numpy.complex128'>'\n",
       "  \twith 10 stored elements in Compressed Sparse Row format>,\n",
       "  'Yt': <5x6 sparse matrix of type '<class 'numpy.complex128'>'\n",
       "  \twith 10 stored elements in Compressed Sparse Row format>,\n",
       "  'branch_is': array([ True,  True,  True,  True,  True], dtype=bool),\n",
       "  'buses_ord_bfs_nets': array([], dtype=float64),\n",
       "  'gen_is': array([ True,  True], dtype=bool)},\n",
       " 'success': True,\n",
       " 'version': 2}"
      ]
     },
     "execution_count": 15,
     "metadata": {},
     "output_type": "execute_result"
    }
   ],
   "source": [
    "net._ppc"
   ]
  },
  {
   "cell_type": "markdown",
   "metadata": {},
   "source": [
    "For information on how this datastructure is defined, please referr to the MATPOWER documentation."
   ]
  },
  {
   "cell_type": "markdown",
   "metadata": {},
   "source": [
    "## Nodal Point Admittance Matrix\n",
    "\n",
    "The nodal point admittance matrix is saved in the ppc and can be accessed directly:"
   ]
  },
  {
   "cell_type": "code",
   "execution_count": 18,
   "metadata": {},
   "outputs": [
    {
     "data": {
      "text/plain": [
       "matrix([[ 2983.23471400-7157.02635809j, -2983.23471400+7159.76331361j,\n",
       "             0.00000000   +0.j        ,     0.00000000   +0.j        ,\n",
       "             0.00000000   +0.j        ,     0.00000000   +0.j        ],\n",
       "        [-2983.23471400+7159.76331361j,  2988.86218083-7379.20987831j,\n",
       "          -106.71078800 -196.05444021j,     0.00000000   +0.j        ,\n",
       "             0.00000000   +0.j        ,     0.00000000   +0.j        ],\n",
       "        [    0.00000000   +0.j        ,   116.43273175 -190.44147337j,\n",
       "          1606.91082690-1693.08819188j,  -889.60186671 +816.68368091j,\n",
       "          -711.68149336 +653.34694473j,     0.00000000   +0.j        ],\n",
       "        [    0.00000000   +0.j        ,     0.00000000   +0.j        ,\n",
       "          -889.60186671 +816.68368091j,  1027.81021222 -903.21268537j,\n",
       "             0.00000000   +0.j        ,  -138.20834551  +86.56929539j],\n",
       "        [    0.00000000   +0.j        ,     0.00000000   +0.j        ,\n",
       "          -711.68149336 +653.34694473j,     0.00000000   +0.j        ,\n",
       "           711.68149336 -653.29919252j,     0.00000000   +0.j        ],\n",
       "        [    0.00000000   +0.j        ,     0.00000000   +0.j        ,\n",
       "             0.00000000   +0.j        ,  -138.20834551  +86.56929539j,\n",
       "             0.00000000   +0.j        ,   138.20834551  -86.56720623j]])"
      ]
     },
     "execution_count": 18,
     "metadata": {},
     "output_type": "execute_result"
    }
   ],
   "source": [
    "net._ppc[\"internal\"][\"Ybus\"].todense()"
   ]
  },
  {
   "cell_type": "markdown",
   "metadata": {},
   "source": [
    "Note that the nodal point admittance matrix is given in per unit values."
   ]
  },
  {
   "cell_type": "markdown",
   "metadata": {},
   "source": [
    "## Jacobian Matrix\n",
    "\n",
    "The jacobian Matrix J in the last iteration step is also stored in the ppc and can be accessed:"
   ]
  },
  {
   "cell_type": "code",
   "execution_count": 36,
   "metadata": {},
   "outputs": [
    {
     "data": {
      "text/plain": [
       "matrix([[  9.54706374e+02,   0.00000000e+00,  -8.62862717e+02,\n",
       "           0.00000000e+00,  -9.18436564e+01,   0.00000000e+00,\n",
       "          -9.15340445e+02,   0.00000000e+00,  -1.42353628e+02],\n",
       "        [  0.00000000e+00,   7.69001830e+03,  -2.33112187e+02,\n",
       "           0.00000000e+00,   0.00000000e+00,   3.05115863e+03,\n",
       "          -1.22942473e+01,   0.00000000e+00,   0.00000000e+00],\n",
       "        [ -8.60744808e+02,  -2.33450642e+02,   1.77711034e+03,\n",
       "          -6.82914890e+02,   0.00000000e+00,   8.42114490e-01,\n",
       "           1.64630184e+03,  -7.30869907e+02,   0.00000000e+00],\n",
       "        [  0.00000000e+00,   0.00000000e+00,  -6.86805194e+02,\n",
       "           6.86805194e+02,   0.00000000e+00,   0.00000000e+00,\n",
       "          -7.26415769e+02,   7.28943154e+02,   0.00000000e+00],\n",
       "        [ -9.18404726e+01,   0.00000000e+00,   0.00000000e+00,\n",
       "           0.00000000e+00,   9.18404726e+01,   0.00000000e+00,\n",
       "           0.00000000e+00,   0.00000000e+00,   1.42355795e+02],\n",
       "        [  0.00000000e+00,  -3.11475201e+03,   1.25956187e+01,\n",
       "           0.00000000e+00,   0.00000000e+00,   7.53301504e+03,\n",
       "          -2.27534586e+02,   0.00000000e+00,   0.00000000e+00],\n",
       "        [  9.39722682e+02,  -8.59666430e-01,  -1.68665699e+03,\n",
       "           7.47793973e+02,   0.00000000e+00,  -2.28684245e+02,\n",
       "           1.73459243e+03,  -6.67459167e+02,   0.00000000e+00],\n",
       "        [  0.00000000e+00,   0.00000000e+00,   7.44222547e+02,\n",
       "          -7.44222547e+02,   0.00000000e+00,   0.00000000e+00,\n",
       "          -6.70372223e+02,   6.65592628e+02,   0.00000000e+00],\n",
       "        [  1.46627347e+02,   0.00000000e+00,   0.00000000e+00,\n",
       "           0.00000000e+00,  -1.46627347e+02,   0.00000000e+00,\n",
       "           0.00000000e+00,   0.00000000e+00,   8.91649734e+01]])"
      ]
     },
     "execution_count": 36,
     "metadata": {},
     "output_type": "execute_result"
    }
   ],
   "source": [
    "net._ppc[\"internal\"][\"J\"].todense()"
   ]
  },
  {
   "cell_type": "markdown",
   "metadata": {},
   "source": [
    "The jacobian matrix is also given in per unit values."
   ]
  },
  {
   "cell_type": "markdown",
   "metadata": {},
   "source": [
    "## Mapping the Buses\n",
    "\n",
    "The pandapower indices are not equal to the ppc indices for several reasons. Some buses are fused together in case of closed bus-bus switches and auxiliary buses are created for elements like extended wards or three winding transformers. There is however a mapping between pandapower indices and ppc indices that is created during the conversion to keep track of the dependencies that is also stored in the net:"
   ]
  },
  {
   "cell_type": "code",
   "execution_count": 37,
   "metadata": {},
   "outputs": [
    {
     "data": {
      "text/plain": [
       "array([0, 1, 1, 2, 2, 3, 4])"
      ]
     },
     "execution_count": 37,
     "metadata": {},
     "output_type": "execute_result"
    }
   ],
   "source": [
    "net._pd2ppc_lookups[\"bus\"]"
   ]
  },
  {
   "cell_type": "markdown",
   "metadata": {},
   "source": [
    "To get a ppc index from the pandapower index, simply call the lookup like this:"
   ]
  },
  {
   "cell_type": "code",
   "execution_count": 38,
   "metadata": {},
   "outputs": [
    {
     "name": "stdout",
     "output_type": "stream",
     "text": [
      "2\n"
     ]
    }
   ],
   "source": [
    "pandapower_bus_idx = 3\n",
    "ppc_index = net._pd2ppc_lookups[\"bus\"][pandapower_bus_idx]\n",
    "print(ppc_index)"
   ]
  },
  {
   "cell_type": "markdown",
   "metadata": {},
   "source": [
    "As you can see, pandapower bus index 3 corresponds to ppc bus index 2. So if we would like to find the diagonal entry of the Ybus matrix for bus 2, we could now access it with that internal index:"
   ]
  },
  {
   "cell_type": "code",
   "execution_count": 45,
   "metadata": {},
   "outputs": [
    {
     "data": {
      "text/plain": [
       "(2988.862180834743-7379.2098783063702j)"
      ]
     },
     "execution_count": 45,
     "metadata": {},
     "output_type": "execute_result"
    }
   ],
   "source": [
    "Ybus = net._ppc[\"internal\"][\"Ybus\"]\n",
    "int_idx = net._pd2ppc_lookups[\"bus\"][ppc_index]\n",
    "Ybus[int_idx, int_idx]"
   ]
  },
  {
   "cell_type": "markdown",
   "metadata": {},
   "source": [
    "We can also see that some buses are mapped to the same internal bus, such as bus 1 and bus 2:"
   ]
  },
  {
   "cell_type": "code",
   "execution_count": 46,
   "metadata": {},
   "outputs": [
    {
     "name": "stdout",
     "output_type": "stream",
     "text": [
      "1\n",
      "1\n"
     ]
    }
   ],
   "source": [
    "print(net._pd2ppc_lookups[\"bus\"][1])\n",
    "print(net._pd2ppc_lookups[\"bus\"][2])"
   ]
  },
  {
   "cell_type": "markdown",
   "metadata": {},
   "source": [
    "That is because buses 1 and 2 are connected by a closed bus-bus switch and are therefore represented internally as the same bus:"
   ]
  },
  {
   "cell_type": "code",
   "execution_count": 40,
   "metadata": {},
   "outputs": [
    {
     "data": {
      "text/plain": [
       "bus           1\n",
       "element       2\n",
       "et            b\n",
       "type         CB\n",
       "closed     True\n",
       "name       None\n",
       "Name: 0, dtype: object"
      ]
     },
     "execution_count": 40,
     "metadata": {},
     "output_type": "execute_result"
    }
   ],
   "source": [
    "net.switch.loc[0]"
   ]
  }
 ],
 "metadata": {
  "anaconda-cloud": {},
  "kernelspec": {
   "display_name": "Python [default]",
   "language": "python",
   "name": "python3"
  },
  "language_info": {
   "codemirror_mode": {
    "name": "ipython",
    "version": 3
   },
   "file_extension": ".py",
   "mimetype": "text/x-python",
   "name": "python",
   "nbconvert_exporter": "python",
   "pygments_lexer": "ipython3",
   "version": "3.6.6"
  }
 },
 "nbformat": 4,
 "nbformat_minor": 2
}
