{
 "cells": [
  {
   "cell_type": "markdown",
   "metadata": {},
   "source": [
    "# Optimal Power Flow via PandaModels\n",
    "### PandaModels.jl: Interfacing PowerModels with pandapower\n",
    "\n",
    "This tutorial describes how to run the Optimal Power Flow via [PandaModels.jl](https://e2niee.github.io/PandaModels.jl/dev/) calling [PowerModels.jl](https://lanl-ansi.github.io/PowerModels.jl/stable/) package."
   ]
  },
  {
   "cell_type": "markdown",
   "metadata": {},
   "source": [
    "### Let's get started\n",
    "\n",
    "So here is an example of how it works. First, we create a grid in pandapower. Here, we create a meshed 110kV grid with four buses that is fed from an 220kV network through a 3-Winding transformer.\n",
    "Also we need to set min/max values as optimization constarints."
   ]
  },
  {
   "metadata": {},
   "cell_type": "code",
   "outputs": [],
   "execution_count": null,
   "source": [
    "from pandapower.create import (\n",
    "    create_empty_network,\n",
    "    create_bus,\n",
    "    create_transformer3w_from_parameters,\n",
    "    create_line,\n",
    "    create_gen,\n",
    "    create_load,\n",
    "    create_poly_cost\n",
    ")\n",
    "from pandapower.runpm import runpm_ac_opf, runpm_dc_opf\n",
    "from pandapower.run import runopp"
   ]
  },
  {
   "metadata": {},
   "cell_type": "code",
   "outputs": [],
   "execution_count": null,
   "source": [
    "net = create_empty_network()\n",
    "\n",
    "min_vm_pu = 0.95\n",
    "max_vm_pu = 1.05\n",
    "\n",
    "#create buses\n",
    "bus1 = create_bus(net, vn_kv=220., geodata=(5,9), min_vm_pu=min_vm_pu, max_vm_pu=max_vm_pu)\n",
    "bus2 = create_bus(net, vn_kv=110., geodata=(6,10), min_vm_pu=min_vm_pu, max_vm_pu=max_vm_pu)\n",
    "bus3 = create_bus(net, vn_kv=110., geodata=(10,9), min_vm_pu=min_vm_pu, max_vm_pu=max_vm_pu)\n",
    "bus4 = create_bus(net, vn_kv=110., geodata=(8,8), min_vm_pu=min_vm_pu, max_vm_pu=max_vm_pu)\n",
    "bus5 = create_bus(net, vn_kv=110., geodata=(6,8), min_vm_pu=min_vm_pu, max_vm_pu=max_vm_pu)\n",
    "\n",
    "#create 220/110/110 kV 3W-transformer\n",
    "create_transformer3w_from_parameters(net, bus1, bus2, bus5, vn_hv_kv=220, vn_mv_kv=110,\n",
    "                                        vn_lv_kv=110, vk_hv_percent=10., vk_mv_percent=10.,\n",
    "                                        vk_lv_percent=10., vkr_hv_percent=0.5,\n",
    "                                        vkr_mv_percent=0.5, vkr_lv_percent=0.5, pfe_kw=10,\n",
    "                                        i0_percent=0.1, shift_mv_degree=0, shift_lv_degree=0,\n",
    "                                        sn_hv_mva=100, sn_mv_mva=50, sn_lv_mva=50)\n",
    "\n",
    "#create 110 kV lines\n",
    "l1 = create_line(net, bus2, bus3, length_km=70., std_type='149-AL1/24-ST1A 110.0')\n",
    "l2 = create_line(net, bus3, bus4, length_km=50., std_type='149-AL1/24-ST1A 110.0')\n",
    "l3 = create_line(net, bus4, bus2, length_km=40., std_type='149-AL1/24-ST1A 110.0')\n",
    "l4 = create_line(net, bus4, bus5, length_km=30., std_type='149-AL1/24-ST1A 110.0')\n",
    "\n",
    "#create loads\n",
    "create_load(net, bus2, p_mw=60)\n",
    "create_load(net, bus3, p_mw=70)\n",
    "create_load(net, bus4, p_mw=10)\n",
    "\n",
    "#create generators\n",
    "g1 = create_gen(net, bus1, p_mw=40, min_p_mw=0, max_p_mw=200, vm_pu=1.01, slack=True)\n",
    "create_poly_cost(net, g1, 'gen', cp1_eur_per_mw=1)\n",
    "\n",
    "g2 = create_gen(net, bus3, p_mw=40, min_p_mw=0, max_p_mw=200, vm_pu=1.01)\n",
    "create_poly_cost(net, g2, 'gen', cp1_eur_per_mw=3)\n",
    "\n",
    "g3 = create_gen(net, bus4, p_mw=50, min_p_mw=0, max_p_mw=200, vm_pu=1.01)\n",
    "create_poly_cost(net, g3, 'gen', cp1_eur_per_mw=3)\n",
    "net"
   ]
  },
  {
   "cell_type": "markdown",
   "metadata": {},
   "source": [
    "Note that PowerModels does not have a 3W-transformer model, but since pandapower includes the equations to calculate the equivalent branches for the 3W-transformers (2W-transformers instead), it is possible to optimize grids with 3W-transformers in PowerModels through the pandapower interface. The same is true for other complex transformer models, switches/breaker, extended ward equivalents etc.\n",
    "\n",
    "Let's have a look at the grid we created with pandapowers plotting module:"
   ]
  },
  {
   "cell_type": "code",
   "source": [
    "import geojson\n",
    "geojson.loads(net.bus.geo.iloc[0])[\"coordinates\"]"
   ],
   "metadata": {
    "collapsed": false,
    "ExecuteTime": {
     "end_time": "2025-10-23T11:14:44.865624Z",
     "start_time": "2025-10-23T11:14:44.844628Z"
    }
   },
   "outputs": [
    {
     "data": {
      "text/plain": [
       "[5, 9]"
      ]
     },
     "execution_count": 3,
     "metadata": {},
     "output_type": "execute_result"
    }
   ],
   "execution_count": 3
  },
  {
   "cell_type": "code",
   "metadata": {
    "ExecuteTime": {
     "end_time": "2025-10-23T11:14:44.961199Z",
     "start_time": "2025-10-23T11:14:44.874675Z"
    }
   },
   "source": [
    "import pandapower.plotting as plot\n",
    "%matplotlib inline\n",
    "plot.set_line_geodata_from_bus_geodata(net)\n",
    "plot.simple_plot(net)"
   ],
   "outputs": [
    {
     "data": {
      "text/plain": [
       "<Figure size 1000x800 with 1 Axes>"
      ],
      "image/png": "[encoded data removed]"
     },
     "metadata": {},
     "output_type": "display_data",
     "jetTransient": {
      "display_id": null
     }
    },
    {
     "data": {
      "text/plain": [
       "<Axes: >"
      ]
     },
     "execution_count": 4,
     "metadata": {},
     "output_type": "execute_result"
    }
   ],
   "execution_count": 4
  },
  {
   "cell_type": "markdown",
   "metadata": {},
   "source": [
    "Now let's run an OPF through PowerModels and look at the results (Note that the first time the runpm function is called, Julia is started in the background, which may take some time):"
   ]
  },
  {
   "cell_type": "code",
   "metadata": {
    "pycharm": {
     "name": "#%%\n"
    },
    "ExecuteTime": {
     "end_time": "2025-10-23T11:14:45.704084Z",
     "start_time": "2025-10-23T11:14:44.972203Z"
    }
   },
   "source": [
    "try:\n",
    "    runpm_ac_opf(net)\n",
    "except Exception as err:\n",
    "    print(err)\n",
    "# or: runpm(net, pm_model=\"ACPPowerModel\")"
   ],
   "outputs": [
    {
     "name": "stdout",
     "output_type": "stream",
     "text": [
      "Please install pyjulia properly to run pandapower with PandaModels.jl.\n"
     ]
    }
   ],
   "execution_count": 5
  },
  {
   "cell_type": "markdown",
   "metadata": {
    "pycharm": {
     "name": "#%% md\n"
    }
   },
   "source": [
    "Also, there are further parameters and options that you can add as input while calling the Optimization Problem from PandaModles:\n",
    "\n",
    "| parameter | description | type | default |\n",
    "| :--- | :--- | :---: | :--- |\n",
    "| correct_pm_network_data | checks if network data is correct. If not tries to correct it | bool | True |\n",
    "| silence | Suppresses information and warning messages output by PowerModels | bool | True |\n",
    "| pm_model | PowerModels.jl model to use | str | \"ACPPowerModel\" |\n",
    "| pm_solver | \"main\" solver| str | \"ipopt\" |\n",
    "| pm_mip_solver | mixed integer solver| str | \"cbc\" |\n",
    "| pm_nl_solver | nonlinear solver| str | \"ipopt\" |\n",
    "| pm_tol | default desired convergence tolerance for solver to use | float | 1e-8 |\n",
    "| pm_log_level | solver log level in power models | int | 0 |\n",
    "| delete_buffer_file | If True, the .json file used by PandaModels will be deleted after optimization. | bool | True |\n"
   ]
  },
  {
   "cell_type": "markdown",
   "metadata": {},
   "source": [
    "Since Generator 1 has the lowest cost, all required power is supplied through this generator:"
   ]
  },
  {
   "cell_type": "code",
   "metadata": {
    "ExecuteTime": {
     "end_time": "2025-10-23T11:14:45.735629Z",
     "start_time": "2025-10-23T11:14:45.712086Z"
    }
   },
   "source": [
    "net.res_gen"
   ],
   "outputs": [
    {
     "data": {
      "text/plain": [
       "   p_mw  q_mvar  va_degree  vm_pu\n",
       "0   NaN     NaN        NaN    NaN\n",
       "1   NaN     NaN        NaN    NaN\n",
       "2   NaN     NaN        NaN    NaN"
      ],
      "text/html": [
       "<div>\n",
       "<style scoped>\n",
       "    .dataframe tbody tr th:only-of-type {\n",
       "        vertical-align: middle;\n",
       "    }\n",
       "\n",
       "    .dataframe tbody tr th {\n",
       "        vertical-align: top;\n",
       "    }\n",
       "\n",
       "    .dataframe thead th {\n",
       "        text-align: right;\n",
       "    }\n",
       "</style>\n",
       "<table border=\"1\" class=\"dataframe\">\n",
       "  <thead>\n",
       "    <tr style=\"text-align: right;\">\n",
       "      <th></th>\n",
       "      <th>p_mw</th>\n",
       "      <th>q_mvar</th>\n",
       "      <th>va_degree</th>\n",
       "      <th>vm_pu</th>\n",
       "    </tr>\n",
       "  </thead>\n",
       "  <tbody>\n",
       "    <tr>\n",
       "      <th>0</th>\n",
       "      <td>NaN</td>\n",
       "      <td>NaN</td>\n",
       "      <td>NaN</td>\n",
       "      <td>NaN</td>\n",
       "    </tr>\n",
       "    <tr>\n",
       "      <th>1</th>\n",
       "      <td>NaN</td>\n",
       "      <td>NaN</td>\n",
       "      <td>NaN</td>\n",
       "      <td>NaN</td>\n",
       "    </tr>\n",
       "    <tr>\n",
       "      <th>2</th>\n",
       "      <td>NaN</td>\n",
       "      <td>NaN</td>\n",
       "      <td>NaN</td>\n",
       "      <td>NaN</td>\n",
       "    </tr>\n",
       "  </tbody>\n",
       "</table>\n",
       "</div>"
      ]
     },
     "execution_count": 6,
     "metadata": {},
     "output_type": "execute_result"
    }
   ],
   "execution_count": 6
  },
  {
   "cell_type": "markdown",
   "metadata": {},
   "source": [
    "This however leeds to an overload in the three-winding transformer, through which g1 is connected:"
   ]
  },
  {
   "cell_type": "code",
   "metadata": {
    "ExecuteTime": {
     "end_time": "2025-10-23T11:14:45.815615Z",
     "start_time": "2025-10-23T11:14:45.806618Z"
    }
   },
   "source": [
    "net.res_trafo3w.loading_percent"
   ],
   "outputs": [
    {
     "data": {
      "text/plain": [
       "0   NaN\n",
       "Name: loading_percent, dtype: float64"
      ]
     },
     "execution_count": 7,
     "metadata": {},
     "output_type": "execute_result"
    }
   ],
   "execution_count": 7
  },
  {
   "cell_type": "markdown",
   "metadata": {},
   "source": [
    "Let's set some constraints for the 3W-transformer and the lines and rerun the OPF:"
   ]
  },
  {
   "cell_type": "code",
   "metadata": {
    "ExecuteTime": {
     "end_time": "2025-10-23T11:14:46.147078Z",
     "start_time": "2025-10-23T11:14:46.105553Z"
    }
   },
   "source": [
    "net.trafo3w[\"max_loading_percent\"] = 50\n",
    "net.line[\"max_loading_percent\"] = 20\n",
    "try:\n",
    "    runpm_ac_opf(net)\n",
    "except:\n",
    "    print(\"Cannot be performed due to [WinError 3] - Can't find file python39.dll\")"
   ],
   "outputs": [
    {
     "name": "stdout",
     "output_type": "stream",
     "text": [
      "Cannot be performed due to [WinError 3] - Can't find file python39.dll\n"
     ]
    }
   ],
   "execution_count": 8
  },
  {
   "cell_type": "markdown",
   "metadata": {},
   "source": [
    "The constraints are complied with for all lines and the 3W transformer:"
   ]
  },
  {
   "cell_type": "code",
   "metadata": {
    "ExecuteTime": {
     "end_time": "2025-10-23T11:14:46.178305Z",
     "start_time": "2025-10-23T11:14:46.167083Z"
    }
   },
   "source": [
    "net.res_trafo3w.loading_percent"
   ],
   "outputs": [
    {
     "data": {
      "text/plain": [
       "0   NaN\n",
       "Name: loading_percent, dtype: float64"
      ]
     },
     "execution_count": 9,
     "metadata": {},
     "output_type": "execute_result"
    }
   ],
   "execution_count": 9
  },
  {
   "cell_type": "code",
   "metadata": {
    "ExecuteTime": {
     "end_time": "2025-10-23T11:14:46.257719Z",
     "start_time": "2025-10-23T11:14:46.247844Z"
    }
   },
   "source": [
    "net.res_line.loading_percent"
   ],
   "outputs": [
    {
     "data": {
      "text/plain": [
       "0   NaN\n",
       "1   NaN\n",
       "2   NaN\n",
       "3   NaN\n",
       "Name: loading_percent, dtype: float64"
      ]
     },
     "execution_count": 10,
     "metadata": {},
     "output_type": "execute_result"
    }
   ],
   "execution_count": 10
  },
  {
   "cell_type": "markdown",
   "metadata": {},
   "source": [
    "The power is now generated by a mixture of the generators:"
   ]
  },
  {
   "cell_type": "code",
   "metadata": {
    "ExecuteTime": {
     "end_time": "2025-10-23T11:14:46.523157Z",
     "start_time": "2025-10-23T11:14:46.501150Z"
    }
   },
   "source": [
    "net.res_gen"
   ],
   "outputs": [
    {
     "data": {
      "text/plain": [
       "   p_mw  q_mvar  va_degree  vm_pu\n",
       "0   NaN     NaN        NaN    NaN\n",
       "1   NaN     NaN        NaN    NaN\n",
       "2   NaN     NaN        NaN    NaN"
      ],
      "text/html": [
       "<div>\n",
       "<style scoped>\n",
       "    .dataframe tbody tr th:only-of-type {\n",
       "        vertical-align: middle;\n",
       "    }\n",
       "\n",
       "    .dataframe tbody tr th {\n",
       "        vertical-align: top;\n",
       "    }\n",
       "\n",
       "    .dataframe thead th {\n",
       "        text-align: right;\n",
       "    }\n",
       "</style>\n",
       "<table border=\"1\" class=\"dataframe\">\n",
       "  <thead>\n",
       "    <tr style=\"text-align: right;\">\n",
       "      <th></th>\n",
       "      <th>p_mw</th>\n",
       "      <th>q_mvar</th>\n",
       "      <th>va_degree</th>\n",
       "      <th>vm_pu</th>\n",
       "    </tr>\n",
       "  </thead>\n",
       "  <tbody>\n",
       "    <tr>\n",
       "      <th>0</th>\n",
       "      <td>NaN</td>\n",
       "      <td>NaN</td>\n",
       "      <td>NaN</td>\n",
       "      <td>NaN</td>\n",
       "    </tr>\n",
       "    <tr>\n",
       "      <th>1</th>\n",
       "      <td>NaN</td>\n",
       "      <td>NaN</td>\n",
       "      <td>NaN</td>\n",
       "      <td>NaN</td>\n",
       "    </tr>\n",
       "    <tr>\n",
       "      <th>2</th>\n",
       "      <td>NaN</td>\n",
       "      <td>NaN</td>\n",
       "      <td>NaN</td>\n",
       "      <td>NaN</td>\n",
       "    </tr>\n",
       "  </tbody>\n",
       "</table>\n",
       "</div>"
      ]
     },
     "execution_count": 11,
     "metadata": {},
     "output_type": "execute_result"
    }
   ],
   "execution_count": 11
  },
  {
   "cell_type": "markdown",
   "metadata": {},
   "source": [
    "## Accessing the full functionality of PowerModels.jl"
   ]
  },
  {
   "cell_type": "markdown",
   "metadata": {},
   "source": [
    "Apart from the AC OPF used in the example above, pandapower also has an interface to run the DC OPF:"
   ]
  },
  {
   "cell_type": "code",
   "metadata": {
    "ExecuteTime": {
     "end_time": "2025-10-23T11:14:46.661390Z",
     "start_time": "2025-10-23T11:14:46.623653Z"
    }
   },
   "source": [
    "try:\n",
    "    runpm_dc_opf(net)\n",
    "except:\n",
    "    print(\"Cannot be performed due to [WinError 3] - Can't find file python39.dll\")\n",
    "# or: runpm(net, pm_model=\"DCPPowerModel\")\n",
    "net.res_bus\n"
   ],
   "outputs": [
    {
     "name": "stdout",
     "output_type": "stream",
     "text": [
      "Cannot be performed due to [WinError 3] - Can't find file python39.dll\n"
     ]
    },
    {
     "data": {
      "text/plain": [
       "   vm_pu  va_degree  p_mw  q_mvar\n",
       "0    NaN        NaN   NaN     NaN\n",
       "1    NaN        NaN   NaN     NaN\n",
       "2    NaN        NaN   NaN     NaN\n",
       "3    NaN        NaN   NaN     NaN\n",
       "4    NaN        NaN   NaN     NaN"
      ],
      "text/html": [
       "<div>\n",
       "<style scoped>\n",
       "    .dataframe tbody tr th:only-of-type {\n",
       "        vertical-align: middle;\n",
       "    }\n",
       "\n",
       "    .dataframe tbody tr th {\n",
       "        vertical-align: top;\n",
       "    }\n",
       "\n",
       "    .dataframe thead th {\n",
       "        text-align: right;\n",
       "    }\n",
       "</style>\n",
       "<table border=\"1\" class=\"dataframe\">\n",
       "  <thead>\n",
       "    <tr style=\"text-align: right;\">\n",
       "      <th></th>\n",
       "      <th>vm_pu</th>\n",
       "      <th>va_degree</th>\n",
       "      <th>p_mw</th>\n",
       "      <th>q_mvar</th>\n",
       "    </tr>\n",
       "  </thead>\n",
       "  <tbody>\n",
       "    <tr>\n",
       "      <th>0</th>\n",
       "      <td>NaN</td>\n",
       "      <td>NaN</td>\n",
       "      <td>NaN</td>\n",
       "      <td>NaN</td>\n",
       "    </tr>\n",
       "    <tr>\n",
       "      <th>1</th>\n",
       "      <td>NaN</td>\n",
       "      <td>NaN</td>\n",
       "      <td>NaN</td>\n",
       "      <td>NaN</td>\n",
       "    </tr>\n",
       "    <tr>\n",
       "      <th>2</th>\n",
       "      <td>NaN</td>\n",
       "      <td>NaN</td>\n",
       "      <td>NaN</td>\n",
       "      <td>NaN</td>\n",
       "    </tr>\n",
       "    <tr>\n",
       "      <th>3</th>\n",
       "      <td>NaN</td>\n",
       "      <td>NaN</td>\n",
       "      <td>NaN</td>\n",
       "      <td>NaN</td>\n",
       "    </tr>\n",
       "    <tr>\n",
       "      <th>4</th>\n",
       "      <td>NaN</td>\n",
       "      <td>NaN</td>\n",
       "      <td>NaN</td>\n",
       "      <td>NaN</td>\n",
       "    </tr>\n",
       "  </tbody>\n",
       "</table>\n",
       "</div>"
      ]
     },
     "execution_count": 12,
     "metadata": {},
     "output_type": "execute_result"
    }
   ],
   "execution_count": 12
  },
  {
   "cell_type": "markdown",
   "metadata": {},
   "source": [
    "The PowerModels data structure that was passed to Julia can be accessed like this:"
   ]
  },
  {
   "cell_type": "code",
   "metadata": {
    "scrolled": true,
    "ExecuteTime": {
     "end_time": "2025-10-23T11:14:46.942721Z",
     "start_time": "2025-10-23T11:14:46.928196Z"
    }
   },
   "source": "net._pm[\"bus\"]",
   "outputs": [
    {
     "data": {
      "text/plain": [
       "{'1': {'index': 1,\n",
       "  'bus_i': 1,\n",
       "  'zone': 1,\n",
       "  'bus_type': 3,\n",
       "  'vmax': np.float64(1.05),\n",
       "  'vmin': np.float64(0.95),\n",
       "  'va': np.float64(0.0),\n",
       "  'vm': np.float64(1.01),\n",
       "  'base_kv': np.float64(220.0)},\n",
       " '2': {'index': 2,\n",
       "  'bus_i': 2,\n",
       "  'zone': 1,\n",
       "  'bus_type': 1,\n",
       "  'vmax': np.float64(1.05),\n",
       "  'vmin': np.float64(0.95),\n",
       "  'va': np.float64(0.0),\n",
       "  'vm': np.float64(1.0),\n",
       "  'base_kv': np.float64(110.0)},\n",
       " '3': {'index': 3,\n",
       "  'bus_i': 3,\n",
       "  'zone': 1,\n",
       "  'bus_type': 2,\n",
       "  'vmax': np.float64(1.05),\n",
       "  'vmin': np.float64(0.95),\n",
       "  'va': np.float64(0.0),\n",
       "  'vm': np.float64(1.01),\n",
       "  'base_kv': np.float64(110.0)},\n",
       " '4': {'index': 4,\n",
       "  'bus_i': 4,\n",
       "  'zone': 1,\n",
       "  'bus_type': 2,\n",
       "  'vmax': np.float64(1.05),\n",
       "  'vmin': np.float64(0.95),\n",
       "  'va': np.float64(0.0),\n",
       "  'vm': np.float64(1.01),\n",
       "  'base_kv': np.float64(110.0)},\n",
       " '5': {'index': 5,\n",
       "  'bus_i': 5,\n",
       "  'zone': 1,\n",
       "  'bus_type': 1,\n",
       "  'vmax': np.float64(1.05),\n",
       "  'vmin': np.float64(0.95),\n",
       "  'va': np.float64(0.0),\n",
       "  'vm': np.float64(1.0),\n",
       "  'base_kv': np.float64(110.0)},\n",
       " '6': {'index': 6,\n",
       "  'bus_i': 6,\n",
       "  'zone': 1,\n",
       "  'bus_type': 1,\n",
       "  'vmax': np.float64(1.05),\n",
       "  'vmin': np.float64(0.95),\n",
       "  'va': np.float64(0.0),\n",
       "  'vm': np.float64(1.0),\n",
       "  'base_kv': np.float64(220.0)}}"
      ]
     },
     "execution_count": 13,
     "metadata": {},
     "output_type": "execute_result"
    }
   ],
   "execution_count": 13
  },
  {
   "cell_type": "markdown",
   "metadata": {},
   "source": [
    "## Timings"
   ]
  },
  {
   "cell_type": "markdown",
   "metadata": {},
   "source": [
    "Comparing the runopp function (that runs an OPF through PYPOWER) and the runpm function shows that PandaModels.jl is much more performant:"
   ]
  },
  {
   "cell_type": "code",
   "metadata": {
    "ExecuteTime": {
     "end_time": "2025-10-23T11:14:50.645270Z",
     "start_time": "2025-10-23T11:14:47.028264Z"
    }
   },
   "source": "%timeit runopp(net)",
   "outputs": [
    {
     "name": "stdout",
     "output_type": "stream",
     "text": [
      "418 ms ± 22.7 ms per loop (mean ± std. dev. of 7 runs, 1 loop each)\n"
     ]
    }
   ],
   "execution_count": 14
  },
  {
   "cell_type": "code",
   "metadata": {
    "ExecuteTime": {
     "end_time": "2025-10-23T11:14:50.927635Z",
     "start_time": "2025-10-23T11:14:50.902633Z"
    }
   },
   "source": [
    "try:\n",
    "    %timeit runpm_ac_opf(net)\n",
    "except:\n",
    "    print(\"Cannot be performed due to [WinError 3] - Can't find file python39.dll\")"
   ],
   "outputs": [
    {
     "name": "stdout",
     "output_type": "stream",
     "text": [
      "Cannot be performed due to [WinError 3] - Can't find file python39.dll\n"
     ]
    }
   ],
   "execution_count": 15
  }
 ],
 "metadata": {
  "anaconda-cloud": {},
  "kernelspec": {
   "display_name": "Python 3 (ipykernel)",
   "language": "python",
   "name": "python3"
  },
  "language_info": {
   "codemirror_mode": {
    "name": "ipython",
    "version": 3
   },
   "file_extension": ".py",
   "mimetype": "text/x-python",
   "name": "python",
   "nbconvert_exporter": "python",
   "pygments_lexer": "ipython3",
   "version": "3.10.6"
  }
 },
 "nbformat": 4,
 "nbformat_minor": 2
}
