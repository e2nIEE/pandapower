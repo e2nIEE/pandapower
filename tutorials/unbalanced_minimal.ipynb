{
 "cells": [
  {
   "cell_type": "markdown",
   "metadata": {},
   "source": [
    "## Unbalanced power flow calculation with pandapower\n",
    "\n",
    "We will create a simple three bus system to demonstrate how to run unbalanced power flow calculations with pandapower. First, we create the three buses as follows:"
   ]
  },
  {
   "metadata": {
    "ExecuteTime": {
     "end_time": "2025-10-20T13:17:37.527555Z",
     "start_time": "2025-10-20T13:17:32.781114Z"
    }
   },
   "cell_type": "code",
   "source": [
    "from pandapower.create import *\n",
    "from pandapower.pf.runpp_3ph import runpp_3ph"
   ],
   "outputs": [],
   "execution_count": 1
  },
  {
   "cell_type": "code",
   "metadata": {
    "ExecuteTime": {
     "end_time": "2025-10-20T13:17:37.796734Z",
     "start_time": "2025-10-20T13:17:37.534560Z"
    }
   },
   "source": [
    "net = create_empty_network()\n",
    "b1  = create_bus(net, 20.0)\n",
    "b2  = create_bus(net, 0.4)\n",
    "b3  = create_bus(net, 0.4)"
   ],
   "outputs": [],
   "execution_count": 2
  },
  {
   "cell_type": "markdown",
   "metadata": {},
   "source": [
    "The external grid connection can then be created with the short-circuit parameters s_sc_max_mva and rx_max as well as the parameters x0x_max and r0x0_max that define the zero sequence impedances. The ext_grid parameters are all defined in the [ext_grid parameter documentation](https://pandapower.readthedocs.io/en/develop/elements/ext_grid.html#input-parameters)."
   ]
  },
  {
   "cell_type": "code",
   "metadata": {
    "ExecuteTime": {
     "end_time": "2025-10-20T13:17:37.828635Z",
     "start_time": "2025-10-20T13:17:37.805736Z"
    }
   },
   "source": [
    "create_ext_grid(net, b1, s_sc_max_mva=1000, rx_max=0.1, x0x_max=1.0,\n",
    "                   r0x0_max=0.1)"
   ],
   "outputs": [
    {
     "data": {
      "text/plain": [
       "np.int64(0)"
      ]
     },
     "execution_count": 3,
     "metadata": {},
     "output_type": "execute_result"
    }
   ],
   "execution_count": 3
  },
  {
   "cell_type": "markdown",
   "metadata": {},
   "source": [
    "The transformer requires the additional parameters vk0_percent, vkr0_percent, mag0_percent, mag0_rx, vector_group and si0_hv_partial for unbalanced calculation. The transformer parameters are all defined in the [transformer parameter documentation](https://pandapower.readthedocs.io/en/develop/elements/trafo.html#input-parameters)."
   ]
  },
  {
   "cell_type": "code",
   "metadata": {
    "ExecuteTime": {
     "end_time": "2025-10-20T13:17:37.891114Z",
     "start_time": "2025-10-20T13:17:37.871755Z"
    }
   },
   "source": [
    "create_transformer_from_parameters(net, b1, b2, sn_mva=0.63,\n",
    "                                      vn_hv_kv=20., vn_lv_kv=0.4,\n",
    "                                      vkr_percent=0.1, vk_percent=6,\n",
    "                                      vk0_percent=6, vkr0_percent=0.78125,\n",
    "                                      mag0_percent=100, mag0_rx=0.,\n",
    "                                      pfe_kw=0.1, i0_percent=0.1,\n",
    "                                      vector_group=\"Dyn\", shift_degree=150,\n",
    "                                      si0_hv_partial=0.9)"
   ],
   "outputs": [
    {
     "data": {
      "text/plain": [
       "np.int64(0)"
      ]
     },
     "execution_count": 4,
     "metadata": {},
     "output_type": "execute_result"
    }
   ],
   "execution_count": 4
  },
  {
   "cell_type": "markdown",
   "metadata": {},
   "source": [
    "For lines, the zero sequence impedances r0_ohm_per_km, x0_ohm_per_km and c0_nf_per_km are required in addition to the balanced parameters. The line parameters are all defined in the [line parameter documentation](https://pandapower.readthedocs.io/en/develop/elements/line.html#input-parameters)."
   ]
  },
  {
   "cell_type": "code",
   "metadata": {
    "ExecuteTime": {
     "end_time": "2025-10-20T13:17:38.029198Z",
     "start_time": "2025-10-20T13:17:38.000817Z"
    }
   },
   "source": [
    "create_line_from_parameters(net, b2, b3, length_km=0.1, r0_ohm_per_km=0.0848,\n",
    "                               x0_ohm_per_km=0.4649556, c0_nf_per_km=230.6,\n",
    "                               max_i_ka=0.963, r_ohm_per_km=0.0212,\n",
    "                               x_ohm_per_km=0.1162389, c_nf_per_km= 230)"
   ],
   "outputs": [
    {
     "data": {
      "text/plain": [
       "np.int64(0)"
      ]
     },
     "execution_count": 5,
     "metadata": {},
     "output_type": "execute_result"
    }
   ],
   "execution_count": 5
  },
  {
   "cell_type": "markdown",
   "metadata": {},
   "source": [
    "Finally, to create an unbalanced power flow, we create an asymmetric load. The input parameters are all defined in the [asymmetric load parameter documentation](https://pandapower.readthedocs.io/en/develop/elements/asymmetric_load.html#input-parameters)."
   ]
  },
  {
   "cell_type": "code",
   "metadata": {
    "ExecuteTime": {
     "end_time": "2025-10-20T13:17:38.139021Z",
     "start_time": "2025-10-20T13:17:38.119011Z"
    }
   },
   "source": "create_asymmetric_load(net, b3, p_a_mw=0.25, p_b_mw=0.18, p_c_mw=0.20, type=\"wye\")",
   "outputs": [
    {
     "data": {
      "text/plain": [
       "np.int64(0)"
      ]
     },
     "execution_count": 6,
     "metadata": {},
     "output_type": "execute_result"
    }
   ],
   "execution_count": 6
  },
  {
   "cell_type": "markdown",
   "metadata": {},
   "source": [
    "We can now run an unbalanced power flow:"
   ]
  },
  {
   "cell_type": "code",
   "metadata": {
    "ExecuteTime": {
     "end_time": "2025-10-20T13:17:42.071055Z",
     "start_time": "2025-10-20T13:17:38.227581Z"
    }
   },
   "source": "runpp_3ph(net)",
   "outputs": [],
   "execution_count": 7
  },
  {
   "cell_type": "markdown",
   "metadata": {},
   "source": [
    "The results are stored in the result tables with suffix \"_3ph\", such as \"res_bus_3ph\", \"res_line_3ph\" etc.:"
   ]
  },
  {
   "cell_type": "code",
   "metadata": {
    "ExecuteTime": {
     "end_time": "2025-10-20T13:17:42.102646Z",
     "start_time": "2025-10-20T13:17:42.078065Z"
    }
   },
   "source": [
    "net.res_bus_3ph"
   ],
   "outputs": [
    {
     "data": {
      "text/plain": [
       "    vm_a_pu  va_a_degree   vm_b_pu  va_b_degree   vm_c_pu  va_c_degree  \\\n",
       "0  1.000025    -0.004229  0.999924  -119.999132  1.000051   120.003360   \n",
       "1  0.990176  -154.176770  0.996375    87.028465  0.995592   -33.323592   \n",
       "2  0.977551  -158.241097  1.001594    85.149362  0.974593   -35.449411   \n",
       "\n",
       "     p_a_mw  q_a_mvar  p_b_mw  q_b_mvar    p_c_mw  q_c_mvar  unbalance_percent  \n",
       "0 -0.233683 -0.014172 -0.2099 -0.047504 -0.192954 -0.010282           0.007796  \n",
       "1  0.000000  0.000000  0.0000  0.000000  0.000000  0.000000           0.686886  \n",
       "2  0.250000  0.000000  0.1800  0.000000  0.200000  0.000000           1.221488  "
      ],
      "text/html": [
       "<div>\n",
       "<style scoped>\n",
       "    .dataframe tbody tr th:only-of-type {\n",
       "        vertical-align: middle;\n",
       "    }\n",
       "\n",
       "    .dataframe tbody tr th {\n",
       "        vertical-align: top;\n",
       "    }\n",
       "\n",
       "    .dataframe thead th {\n",
       "        text-align: right;\n",
       "    }\n",
       "</style>\n",
       "<table border=\"1\" class=\"dataframe\">\n",
       "  <thead>\n",
       "    <tr style=\"text-align: right;\">\n",
       "      <th></th>\n",
       "      <th>vm_a_pu</th>\n",
       "      <th>va_a_degree</th>\n",
       "      <th>vm_b_pu</th>\n",
       "      <th>va_b_degree</th>\n",
       "      <th>vm_c_pu</th>\n",
       "      <th>va_c_degree</th>\n",
       "      <th>p_a_mw</th>\n",
       "      <th>q_a_mvar</th>\n",
       "      <th>p_b_mw</th>\n",
       "      <th>q_b_mvar</th>\n",
       "      <th>p_c_mw</th>\n",
       "      <th>q_c_mvar</th>\n",
       "      <th>unbalance_percent</th>\n",
       "    </tr>\n",
       "  </thead>\n",
       "  <tbody>\n",
       "    <tr>\n",
       "      <th>0</th>\n",
       "      <td>1.000025</td>\n",
       "      <td>-0.004229</td>\n",
       "      <td>0.999924</td>\n",
       "      <td>-119.999132</td>\n",
       "      <td>1.000051</td>\n",
       "      <td>120.003360</td>\n",
       "      <td>-0.233683</td>\n",
       "      <td>-0.014172</td>\n",
       "      <td>-0.2099</td>\n",
       "      <td>-0.047504</td>\n",
       "      <td>-0.192954</td>\n",
       "      <td>-0.010282</td>\n",
       "      <td>0.007796</td>\n",
       "    </tr>\n",
       "    <tr>\n",
       "      <th>1</th>\n",
       "      <td>0.990176</td>\n",
       "      <td>-154.176770</td>\n",
       "      <td>0.996375</td>\n",
       "      <td>87.028465</td>\n",
       "      <td>0.995592</td>\n",
       "      <td>-33.323592</td>\n",
       "      <td>0.000000</td>\n",
       "      <td>0.000000</td>\n",
       "      <td>0.0000</td>\n",
       "      <td>0.000000</td>\n",
       "      <td>0.000000</td>\n",
       "      <td>0.000000</td>\n",
       "      <td>0.686886</td>\n",
       "    </tr>\n",
       "    <tr>\n",
       "      <th>2</th>\n",
       "      <td>0.977551</td>\n",
       "      <td>-158.241097</td>\n",
       "      <td>1.001594</td>\n",
       "      <td>85.149362</td>\n",
       "      <td>0.974593</td>\n",
       "      <td>-35.449411</td>\n",
       "      <td>0.250000</td>\n",
       "      <td>0.000000</td>\n",
       "      <td>0.1800</td>\n",
       "      <td>0.000000</td>\n",
       "      <td>0.200000</td>\n",
       "      <td>0.000000</td>\n",
       "      <td>1.221488</td>\n",
       "    </tr>\n",
       "  </tbody>\n",
       "</table>\n",
       "</div>"
      ]
     },
     "execution_count": 8,
     "metadata": {},
     "output_type": "execute_result"
    }
   ],
   "execution_count": 8
  },
  {
   "cell_type": "markdown",
   "metadata": {},
   "source": [
    "We can check the voltage in all phases as well as the unbalance percentage according to IEC 62749:"
   ]
  },
  {
   "cell_type": "code",
   "metadata": {
    "ExecuteTime": {
     "end_time": "2025-10-20T13:17:42.493893Z",
     "start_time": "2025-10-20T13:17:42.469897Z"
    }
   },
   "source": [
    "net.res_bus_3ph[[\"vm_a_pu\", \"vm_b_pu\", \"vm_c_pu\", \"unbalance_percent\"]]"
   ],
   "outputs": [
    {
     "data": {
      "text/plain": [
       "    vm_a_pu   vm_b_pu   vm_c_pu  unbalance_percent\n",
       "0  1.000025  0.999924  1.000051           0.007796\n",
       "1  0.990176  0.996375  0.995592           0.686886\n",
       "2  0.977551  1.001594  0.974593           1.221488"
      ],
      "text/html": [
       "<div>\n",
       "<style scoped>\n",
       "    .dataframe tbody tr th:only-of-type {\n",
       "        vertical-align: middle;\n",
       "    }\n",
       "\n",
       "    .dataframe tbody tr th {\n",
       "        vertical-align: top;\n",
       "    }\n",
       "\n",
       "    .dataframe thead th {\n",
       "        text-align: right;\n",
       "    }\n",
       "</style>\n",
       "<table border=\"1\" class=\"dataframe\">\n",
       "  <thead>\n",
       "    <tr style=\"text-align: right;\">\n",
       "      <th></th>\n",
       "      <th>vm_a_pu</th>\n",
       "      <th>vm_b_pu</th>\n",
       "      <th>vm_c_pu</th>\n",
       "      <th>unbalance_percent</th>\n",
       "    </tr>\n",
       "  </thead>\n",
       "  <tbody>\n",
       "    <tr>\n",
       "      <th>0</th>\n",
       "      <td>1.000025</td>\n",
       "      <td>0.999924</td>\n",
       "      <td>1.000051</td>\n",
       "      <td>0.007796</td>\n",
       "    </tr>\n",
       "    <tr>\n",
       "      <th>1</th>\n",
       "      <td>0.990176</td>\n",
       "      <td>0.996375</td>\n",
       "      <td>0.995592</td>\n",
       "      <td>0.686886</td>\n",
       "    </tr>\n",
       "    <tr>\n",
       "      <th>2</th>\n",
       "      <td>0.977551</td>\n",
       "      <td>1.001594</td>\n",
       "      <td>0.974593</td>\n",
       "      <td>1.221488</td>\n",
       "    </tr>\n",
       "  </tbody>\n",
       "</table>\n",
       "</div>"
      ]
     },
     "execution_count": 9,
     "metadata": {},
     "output_type": "execute_result"
    }
   ],
   "execution_count": 9
  },
  {
   "cell_type": "markdown",
   "metadata": {},
   "source": [
    "The line and trafo results provide currents and loadings in different phases or overall loading, which is defined as the maximum of all phase loadings."
   ]
  },
  {
   "cell_type": "code",
   "metadata": {
    "ExecuteTime": {
     "end_time": "2025-10-20T13:17:43.038838Z",
     "start_time": "2025-10-20T13:17:43.013829Z"
    }
   },
   "source": [
    "net.res_line_3ph[[\"i_a_from_ka\", \"i_b_to_ka\", \"loading_b_percent\", \"loading_percent\"]]"
   ],
   "outputs": [
    {
     "data": {
      "text/plain": [
       "   i_a_from_ka  i_b_to_ka  loading_b_percent  loading_percent\n",
       "0     1.107391   0.778182          80.808128       114.993847"
      ],
      "text/html": [
       "<div>\n",
       "<style scoped>\n",
       "    .dataframe tbody tr th:only-of-type {\n",
       "        vertical-align: middle;\n",
       "    }\n",
       "\n",
       "    .dataframe tbody tr th {\n",
       "        vertical-align: top;\n",
       "    }\n",
       "\n",
       "    .dataframe thead th {\n",
       "        text-align: right;\n",
       "    }\n",
       "</style>\n",
       "<table border=\"1\" class=\"dataframe\">\n",
       "  <thead>\n",
       "    <tr style=\"text-align: right;\">\n",
       "      <th></th>\n",
       "      <th>i_a_from_ka</th>\n",
       "      <th>i_b_to_ka</th>\n",
       "      <th>loading_b_percent</th>\n",
       "      <th>loading_percent</th>\n",
       "    </tr>\n",
       "  </thead>\n",
       "  <tbody>\n",
       "    <tr>\n",
       "      <th>0</th>\n",
       "      <td>1.107391</td>\n",
       "      <td>0.778182</td>\n",
       "      <td>80.808128</td>\n",
       "      <td>114.993847</td>\n",
       "    </tr>\n",
       "  </tbody>\n",
       "</table>\n",
       "</div>"
      ]
     },
     "execution_count": 10,
     "metadata": {},
     "output_type": "execute_result"
    }
   ],
   "execution_count": 10
  },
  {
   "cell_type": "code",
   "metadata": {
    "ExecuteTime": {
     "end_time": "2025-10-20T13:17:43.258103Z",
     "start_time": "2025-10-20T13:17:43.230386Z"
    }
   },
   "source": [
    "net.res_trafo_3ph[[\"i_a_hv_ka\", \"i_b_lv_ka\", \"loading_b_percent\", \"loading_percent\"]]"
   ],
   "outputs": [
    {
     "data": {
      "text/plain": [
       "   i_a_hv_ka  i_b_lv_ka  loading_b_percent  loading_percent\n",
       "0   0.020274   0.778182         102.487865       121.781392"
      ],
      "text/html": [
       "<div>\n",
       "<style scoped>\n",
       "    .dataframe tbody tr th:only-of-type {\n",
       "        vertical-align: middle;\n",
       "    }\n",
       "\n",
       "    .dataframe tbody tr th {\n",
       "        vertical-align: top;\n",
       "    }\n",
       "\n",
       "    .dataframe thead th {\n",
       "        text-align: right;\n",
       "    }\n",
       "</style>\n",
       "<table border=\"1\" class=\"dataframe\">\n",
       "  <thead>\n",
       "    <tr style=\"text-align: right;\">\n",
       "      <th></th>\n",
       "      <th>i_a_hv_ka</th>\n",
       "      <th>i_b_lv_ka</th>\n",
       "      <th>loading_b_percent</th>\n",
       "      <th>loading_percent</th>\n",
       "    </tr>\n",
       "  </thead>\n",
       "  <tbody>\n",
       "    <tr>\n",
       "      <th>0</th>\n",
       "      <td>0.020274</td>\n",
       "      <td>0.778182</td>\n",
       "      <td>102.487865</td>\n",
       "      <td>121.781392</td>\n",
       "    </tr>\n",
       "  </tbody>\n",
       "</table>\n",
       "</div>"
      ]
     },
     "execution_count": 11,
     "metadata": {},
     "output_type": "execute_result"
    }
   ],
   "execution_count": 11
  }
 ],
 "metadata": {
  "kernelspec": {
   "display_name": "Python 3 (ipykernel)",
   "language": "python",
   "name": "python3"
  },
  "language_info": {
   "codemirror_mode": {
    "name": "ipython",
    "version": 3
   },
   "file_extension": ".py",
   "mimetype": "text/x-python",
   "name": "python",
   "nbconvert_exporter": "python",
   "pygments_lexer": "ipython3",
   "version": "3.9.13"
  }
 },
 "nbformat": 4,
 "nbformat_minor": 2
}
