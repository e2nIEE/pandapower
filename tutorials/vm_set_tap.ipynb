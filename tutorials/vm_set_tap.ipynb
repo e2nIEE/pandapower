{
 "cells": [
  {
   "cell_type": "markdown",
   "id": "d6e4611c",
   "metadata": {},
   "source": [
    "# Transformer tap changer based on load flow results for the transformer"
   ]
  },
  {
   "cell_type": "markdown",
   "id": "d29cbec8",
   "metadata": {},
   "source": [
    "In this tuitorial, we describe a transformer tap control strategy in a Low-Voltage (LV) distribution grid with distributed generation. The concept of the tap changer control is based on reacting to the direction and magnitude of the power flowing through the transformer. If the power is flowing towards the grid, it signifies consumption and a voltage drop in the grid. In this situation, it is beneficial to increase the voltage setpoint for the transformer tap changer. Alternatively, if the power is flowing through the transformer out of the grid, it is likely that the voltage rises due to distributed generation. In this case, the voltage setpoint of the transformer tap changer can be reduced. This control strategy allows expanding the usable voltage band. The characteristic curve for the voltage setpoint can be configured to match the voltage behavior in the grid, potentially leading to a better utilization of the available voltage band, than if using the local control strategy (with only ContinuousTapControl or DiscreteTapControl)."
   ]
  },
  {
   "cell_type": "code",
   "execution_count": 4,
   "id": "bcb67635",
   "metadata": {},
   "outputs": [],
   "source": [
    "import os\n",
    "import numpy as np\n",
    "import pandas as pd\n",
    "import tempfile\n",
    "import pandapower as pp\n",
    "import pandapower.control\n",
    "import pandapower.control as control\n",
    "from pandapower.control import Characteristic, SplineCharacteristic\n",
    "from pandapower.control.util.auxiliary import plot_characteristic\n",
    "from scipy.interpolate import interp1d"
   ]
  },
  {
   "cell_type": "markdown",
   "id": "e8c17b9d",
   "metadata": {},
   "source": [
    "First, we crate an example grid with a load and a static generator:"
   ]
  },
  {
   "cell_type": "code",
   "execution_count": 5,
   "id": "ad57445a",
   "metadata": {},
   "outputs": [
    {
     "data": {
      "text/html": [
       "<div>\n",
       "<style scoped>\n",
       "    .dataframe tbody tr th:only-of-type {\n",
       "        vertical-align: middle;\n",
       "    }\n",
       "\n",
       "    .dataframe tbody tr th {\n",
       "        vertical-align: top;\n",
       "    }\n",
       "\n",
       "    .dataframe thead th {\n",
       "        text-align: right;\n",
       "    }\n",
       "</style>\n",
       "<table border=\"1\" class=\"dataframe\">\n",
       "  <thead>\n",
       "    <tr style=\"text-align: right;\">\n",
       "      <th></th>\n",
       "      <th>name</th>\n",
       "      <th>vn_kv</th>\n",
       "      <th>type</th>\n",
       "      <th>zone</th>\n",
       "      <th>in_service</th>\n",
       "      <th>geo</th>\n",
       "    </tr>\n",
       "  </thead>\n",
       "  <tbody>\n",
       "    <tr>\n",
       "      <th>0</th>\n",
       "      <td>Bus 0</td>\n",
       "      <td>110.0</td>\n",
       "      <td>n</td>\n",
       "      <td>None</td>\n",
       "      <td>True</td>\n",
       "      <td>None</td>\n",
       "    </tr>\n",
       "    <tr>\n",
       "      <th>1</th>\n",
       "      <td>Bus 1</td>\n",
       "      <td>110.0</td>\n",
       "      <td>n</td>\n",
       "      <td>None</td>\n",
       "      <td>True</td>\n",
       "      <td>None</td>\n",
       "    </tr>\n",
       "    <tr>\n",
       "      <th>2</th>\n",
       "      <td>Bus 2</td>\n",
       "      <td>20.0</td>\n",
       "      <td>n</td>\n",
       "      <td>None</td>\n",
       "      <td>True</td>\n",
       "      <td>None</td>\n",
       "    </tr>\n",
       "    <tr>\n",
       "      <th>3</th>\n",
       "      <td>Bus 3</td>\n",
       "      <td>20.0</td>\n",
       "      <td>n</td>\n",
       "      <td>None</td>\n",
       "      <td>True</td>\n",
       "      <td>None</td>\n",
       "    </tr>\n",
       "  </tbody>\n",
       "</table>\n",
       "</div>"
      ],
      "text/plain": [
       "    name  vn_kv type  zone  in_service   geo\n",
       "0  Bus 0  110.0    n  None        True  None\n",
       "1  Bus 1  110.0    n  None        True  None\n",
       "2  Bus 2   20.0    n  None        True  None\n",
       "3  Bus 3   20.0    n  None        True  None"
      ]
     },
     "execution_count": 5,
     "metadata": {},
     "output_type": "execute_result"
    }
   ],
   "source": [
    "net = pp.create_empty_network() \n",
    "for i in range(4):\n",
    "    if i < 2:\n",
    "        vn=110\n",
    "    else:\n",
    "        vn=20\n",
    "    pp.create_bus(net, name='Bus %s' % i, vn_kv=vn, type=\"n\")\n",
    "pp.create_line(net, 0, 1, length_km=10, std_type=\"149-AL1/24-ST1A 110.0\",name=\"Line 1\")\n",
    "pp.create_line(net, 2, 3, length_km=10, std_type=\"184-AL1/30-ST1A 20.0\",name=\"Line 2\")\n",
    "pp.create_ext_grid(net, 0, vm_pu=1.02, va_degree=50)   \n",
    "trafo = pp.create_transformer(net, 1, 2, name=\"110kV/20kV transformer\", std_type=\"25 MVA 110/20 kV\")\n",
    "pp.create_load(net, 3, p_mw=35, q_mvar=4, scaling=1, name=\"load\")\n",
    "pp.create_sgen(net, 3, p_mw=10, q_mvar=3,  name=\"generator\") \n",
    "net.bus"
   ]
  },
  {
   "cell_type": "markdown",
   "id": "29a26026",
   "metadata": {},
   "source": [
    "We use a ContiniousTapControl controller to adjust the transformer tap position and we set the voltage setpoint to 0.98 p. u."
   ]
  },
  {
   "cell_type": "code",
   "execution_count": 6,
   "id": "c5a74764",
   "metadata": {},
   "outputs": [],
   "source": [
    "trafo_controller = control.ContinuousTapControl(net, 0, 0.98, tol=1e-6)"
   ]
  },
  {
   "cell_type": "markdown",
   "id": "c9abccd1",
   "metadata": {},
   "source": [
    "An object of class Characteristic can be used to provide a function for the voltage setpoint in relation to the input variable. The function is a piecewise linear characteristic. In this case, the characteristic represents the voltage setpoint depending on the active power flowing through the transformer:"
   ]
  },
  {
   "cell_type": "code",
   "execution_count": 7,
   "id": "b8cac110",
   "metadata": {},
   "outputs": [],
   "source": [
    "c = Characteristic(net, x_values=[-20, -15, -5, 5,15, 20], y_values=[0.92, 0.97, 0.98, 1.02, 1.03, 1.08])"
   ]
  },
  {
   "cell_type": "markdown",
   "id": "9ad1569c",
   "metadata": {},
   "source": [
    "We can obtain the exact voltage setpoint that corresponds to a certain input value by calling it. For example, the voltage setpoint for the active power of 0 MW is 1.0 p. u."
   ]
  },
  {
   "cell_type": "code",
   "execution_count": 8,
   "id": "d927ccf9",
   "metadata": {},
   "outputs": [
    {
     "data": {
      "text/plain": [
       "1.0"
      ]
     },
     "execution_count": 8,
     "metadata": {},
     "output_type": "execute_result"
    }
   ],
   "source": [
    "c(x=0)"
   ]
  },
  {
   "cell_type": "markdown",
   "id": "33889b04",
   "metadata": {},
   "source": [
    "The Characteristic can be displayed visually:"
   ]
  },
  {
   "cell_type": "code",
   "execution_count": 9,
   "id": "336cb69f",
   "metadata": {},
   "outputs": [
    {
     "data": {
      "image/png": "[encoded data removed]",
      "text/plain": [
       "<Figure size 640x480 with 1 Axes>"
      ]
     },
     "metadata": {},
     "output_type": "display_data"
    }
   ],
   "source": [
    "plot_characteristic(c,-25,25,50, 'p_hv_mw', 'u_set_pu')"
   ]
  },
  {
   "cell_type": "markdown",
   "id": "cf85d577",
   "metadata": {},
   "source": [
    "We use an additional controller of class USetTapControl to adjust the voltage setpoint of the ContinuousTapControl based on the defined Characteristic. It is possible to use any variable from the transformer results table, the standard variable is p_hv_mw."
   ]
  },
  {
   "cell_type": "code",
   "execution_count": 10,
   "id": "e7956cd8",
   "metadata": {},
   "outputs": [],
   "source": [
    "tc = control.VmSetTapControl(net, 0, characteristic_index=c.index, tol=0.0005)"
   ]
  },
  {
   "cell_type": "markdown",
   "id": "47fc7867",
   "metadata": {},
   "source": [
    "Now, we can run the calculation and verify the results for different load flow situations."
   ]
  },
  {
   "cell_type": "code",
   "execution_count": 11,
   "id": "ae5fdc88",
   "metadata": {},
   "outputs": [
    {
     "name": "stdout",
     "output_type": "stream",
     "text": [
      "The load has active power of 35.0 MW, sgen has active power of 10.0 MW\n",
      "Power flowing through the transformer is 27.88 MW\n",
      "Voltage setpoint from Characteristic is 1.080 p. u.\n",
      "Voltage at the controlled bus is 1.080 p. u.\n",
      "Transformer tap position is -6.47\n"
     ]
    },
    {
     "data": {
      "text/html": [
       "<div>\n",
       "<style scoped>\n",
       "    .dataframe tbody tr th:only-of-type {\n",
       "        vertical-align: middle;\n",
       "    }\n",
       "\n",
       "    .dataframe tbody tr th {\n",
       "        vertical-align: top;\n",
       "    }\n",
       "\n",
       "    .dataframe thead th {\n",
       "        text-align: right;\n",
       "    }\n",
       "</style>\n",
       "<table border=\"1\" class=\"dataframe\">\n",
       "  <thead>\n",
       "    <tr style=\"text-align: right;\">\n",
       "      <th></th>\n",
       "      <th>vm_pu</th>\n",
       "      <th>va_degree</th>\n",
       "      <th>p_mw</th>\n",
       "      <th>q_mvar</th>\n",
       "    </tr>\n",
       "  </thead>\n",
       "  <tbody>\n",
       "    <tr>\n",
       "      <th>0</th>\n",
       "      <td>1.020000</td>\n",
       "      <td>50.000000</td>\n",
       "      <td>-28.015006</td>\n",
       "      <td>-10.07003</td>\n",
       "    </tr>\n",
       "    <tr>\n",
       "      <th>1</th>\n",
       "      <td>1.012223</td>\n",
       "      <td>49.564345</td>\n",
       "      <td>0.000000</td>\n",
       "      <td>0.00000</td>\n",
       "    </tr>\n",
       "    <tr>\n",
       "      <th>2</th>\n",
       "      <td>1.079999</td>\n",
       "      <td>-106.697190</td>\n",
       "      <td>0.000000</td>\n",
       "      <td>0.00000</td>\n",
       "    </tr>\n",
       "    <tr>\n",
       "      <th>3</th>\n",
       "      <td>0.946174</td>\n",
       "      <td>-118.118158</td>\n",
       "      <td>25.000000</td>\n",
       "      <td>1.00000</td>\n",
       "    </tr>\n",
       "  </tbody>\n",
       "</table>\n",
       "</div>"
      ],
      "text/plain": [
       "      vm_pu   va_degree       p_mw    q_mvar\n",
       "0  1.020000   50.000000 -28.015006 -10.07003\n",
       "1  1.012223   49.564345   0.000000   0.00000\n",
       "2  1.079999 -106.697190   0.000000   0.00000\n",
       "3  0.946174 -118.118158  25.000000   1.00000"
      ]
     },
     "execution_count": 11,
     "metadata": {},
     "output_type": "execute_result"
    }
   ],
   "source": [
    "pp.runpp(net, run_control=True)\n",
    "print(f\"The load has active power of {net.load.at[0, 'p_mw']} MW, sgen has active power of {net.sgen.at[0, 'p_mw']} MW\")\n",
    "print(f\"Power flowing through the transformer is {net.res_trafo.at[0, 'p_hv_mw']:.2f} MW\")\n",
    "print(f\"Voltage setpoint from Characteristic is {c(x=net.res_trafo.at[0, 'p_hv_mw']):.3f} p. u.\")\n",
    "print(f\"Voltage at the controlled bus is {net.res_bus.at[2, 'vm_pu']:.3f} p. u.\")\n",
    "print(f\"Transformer tap position is {net.trafo.at[0, 'tap_pos']:.2f}\")\n",
    "net.res_bus"
   ]
  },
  {
   "cell_type": "code",
   "execution_count": 12,
   "id": "4c8024e0",
   "metadata": {},
   "outputs": [
    {
     "name": "stdout",
     "output_type": "stream",
     "text": [
      "The load has active power of 20.0 MW, sgen has active power of 10.0 MW\n",
      "Power flowing through the transformer is 10.45 MW\n",
      "Voltage setpoint from Characteristic is 1.025 p. u.\n",
      "Voltage at the controlled bus is 1.025 p. u.\n",
      "Transformer tap position is -1.25\n"
     ]
    },
    {
     "data": {
      "text/html": [
       "<div>\n",
       "<style scoped>\n",
       "    .dataframe tbody tr th:only-of-type {\n",
       "        vertical-align: middle;\n",
       "    }\n",
       "\n",
       "    .dataframe tbody tr th {\n",
       "        vertical-align: top;\n",
       "    }\n",
       "\n",
       "    .dataframe thead th {\n",
       "        text-align: right;\n",
       "    }\n",
       "</style>\n",
       "<table border=\"1\" class=\"dataframe\">\n",
       "  <thead>\n",
       "    <tr style=\"text-align: right;\">\n",
       "      <th></th>\n",
       "      <th>vm_pu</th>\n",
       "      <th>va_degree</th>\n",
       "      <th>p_mw</th>\n",
       "      <th>q_mvar</th>\n",
       "    </tr>\n",
       "  </thead>\n",
       "  <tbody>\n",
       "    <tr>\n",
       "      <th>0</th>\n",
       "      <td>1.020000</td>\n",
       "      <td>50.000000</td>\n",
       "      <td>-10.468562</td>\n",
       "      <td>-2.080746</td>\n",
       "    </tr>\n",
       "    <tr>\n",
       "      <th>1</th>\n",
       "      <td>1.017611</td>\n",
       "      <td>49.824140</td>\n",
       "      <td>0.000000</td>\n",
       "      <td>0.000000</td>\n",
       "    </tr>\n",
       "    <tr>\n",
       "      <th>2</th>\n",
       "      <td>1.025451</td>\n",
       "      <td>-102.855151</td>\n",
       "      <td>0.000000</td>\n",
       "      <td>0.000000</td>\n",
       "    </tr>\n",
       "    <tr>\n",
       "      <th>3</th>\n",
       "      <td>0.973503</td>\n",
       "      <td>-107.370899</td>\n",
       "      <td>10.000000</td>\n",
       "      <td>1.000000</td>\n",
       "    </tr>\n",
       "  </tbody>\n",
       "</table>\n",
       "</div>"
      ],
      "text/plain": [
       "      vm_pu   va_degree       p_mw    q_mvar\n",
       "0  1.020000   50.000000 -10.468562 -2.080746\n",
       "1  1.017611   49.824140   0.000000  0.000000\n",
       "2  1.025451 -102.855151   0.000000  0.000000\n",
       "3  0.973503 -107.370899  10.000000  1.000000"
      ]
     },
     "execution_count": 12,
     "metadata": {},
     "output_type": "execute_result"
    }
   ],
   "source": [
    "net.load.at[0, 'p_mw'] = 20\n",
    "pp.runpp(net, run_control=True)\n",
    "print(f\"The load has active power of {net.load.at[0, 'p_mw']} MW, sgen has active power of {net.sgen.at[0, 'p_mw']} MW\")\n",
    "print(f\"Power flowing through the transformer is {net.res_trafo.at[0, 'p_hv_mw']:.2f} MW\")\n",
    "print(f\"Voltage setpoint from Characteristic is {c(x=net.res_trafo.at[0, 'p_hv_mw']):.3f} p. u.\")\n",
    "print(f\"Voltage at the controlled bus is {net.res_bus.at[2, 'vm_pu']:.3f} p. u.\")\n",
    "print(f\"Transformer tap position is {net.trafo.at[0, 'tap_pos']:.2f}\")\n",
    "net.res_bus"
   ]
  },
  {
   "cell_type": "code",
   "execution_count": 13,
   "id": "2e36eb9e",
   "metadata": {},
   "outputs": [
    {
     "name": "stdout",
     "output_type": "stream",
     "text": [
      "The load has active power of 0.0 MW, sgen has active power of 10.0 MW\n",
      "Power flowing through the transformer is -9.58 MW\n",
      "Voltage setpoint from Characteristic is 0.975 p. u.\n",
      "Voltage at the controlled bus is 0.975 p. u.\n",
      "Transformer tap position is 2.50\n"
     ]
    },
    {
     "data": {
      "text/html": [
       "<div>\n",
       "<style scoped>\n",
       "    .dataframe tbody tr th:only-of-type {\n",
       "        vertical-align: middle;\n",
       "    }\n",
       "\n",
       "    .dataframe tbody tr th {\n",
       "        vertical-align: top;\n",
       "    }\n",
       "\n",
       "    .dataframe thead th {\n",
       "        text-align: right;\n",
       "    }\n",
       "</style>\n",
       "<table border=\"1\" class=\"dataframe\">\n",
       "  <thead>\n",
       "    <tr style=\"text-align: right;\">\n",
       "      <th></th>\n",
       "      <th>vm_pu</th>\n",
       "      <th>va_degree</th>\n",
       "      <th>p_mw</th>\n",
       "      <th>q_mvar</th>\n",
       "    </tr>\n",
       "  </thead>\n",
       "  <tbody>\n",
       "    <tr>\n",
       "      <th>0</th>\n",
       "      <td>1.020000</td>\n",
       "      <td>50.000000</td>\n",
       "      <td>9.560748</td>\n",
       "      <td>-1.99191</td>\n",
       "    </tr>\n",
       "    <tr>\n",
       "      <th>1</th>\n",
       "      <td>1.020790</td>\n",
       "      <td>50.197370</td>\n",
       "      <td>0.000000</td>\n",
       "      <td>0.00000</td>\n",
       "    </tr>\n",
       "    <tr>\n",
       "      <th>2</th>\n",
       "      <td>0.975424</td>\n",
       "      <td>-97.034692</td>\n",
       "      <td>0.000000</td>\n",
       "      <td>0.00000</td>\n",
       "    </tr>\n",
       "    <tr>\n",
       "      <th>3</th>\n",
       "      <td>1.002610</td>\n",
       "      <td>-91.966170</td>\n",
       "      <td>-10.000000</td>\n",
       "      <td>1.00000</td>\n",
       "    </tr>\n",
       "  </tbody>\n",
       "</table>\n",
       "</div>"
      ],
      "text/plain": [
       "      vm_pu  va_degree       p_mw   q_mvar\n",
       "0  1.020000  50.000000   9.560748 -1.99191\n",
       "1  1.020790  50.197370   0.000000  0.00000\n",
       "2  0.975424 -97.034692   0.000000  0.00000\n",
       "3  1.002610 -91.966170 -10.000000  1.00000"
      ]
     },
     "execution_count": 13,
     "metadata": {},
     "output_type": "execute_result"
    }
   ],
   "source": [
    "net.load.at[0, 'p_mw'] = 0\n",
    "pp.runpp(net, run_control=True)\n",
    "print(f\"The load has active power of {net.load.at[0, 'p_mw']} MW, sgen has active power of {net.sgen.at[0, 'p_mw']} MW\")\n",
    "print(f\"Power flowing through the transformer is {net.res_trafo.at[0, 'p_hv_mw']:.2f} MW\")\n",
    "print(f\"Voltage setpoint from Characteristic is {c(x=net.res_trafo.at[0, 'p_hv_mw']):.3f} p. u.\")\n",
    "print(f\"Voltage at the controlled bus is {net.res_bus.at[2, 'vm_pu']:.3f} p. u.\")\n",
    "print(f\"Transformer tap position is {net.trafo.at[0, 'tap_pos']:.2f}\")\n",
    "net.res_bus"
   ]
  },
  {
   "cell_type": "markdown",
   "id": "83bb904f",
   "metadata": {},
   "source": [
    "Next, we demonstrate the usage of the current as the input instead of active power. To this end, we define a new Characteristic and a new USetTapControl."
   ]
  },
  {
   "cell_type": "code",
   "execution_count": 14,
   "id": "dd08cfd7",
   "metadata": {},
   "outputs": [
    {
     "data": {
      "image/png": "[encoded data removed]",
      "text/plain": [
       "<Figure size 640x480 with 1 Axes>"
      ]
     },
     "metadata": {},
     "output_type": "display_data"
    }
   ],
   "source": [
    "net.controller.at[tc.index, 'in_service'] = False\n",
    "c1 = Characteristic(net, x_values=[0, 0.2, 0.4, 0.6, 0.8, 1], y_values=[0.92, 0.97, 0.98, 1.02, 1.03, 1.08])\n",
    "tc1 = control.VmSetTapControl(net, 0, variable='i_lv_ka', characteristic_index=c1.index, tol=0.0005)\n",
    "plot_characteristic(c1,0,1,50)"
   ]
  },
  {
   "cell_type": "code",
   "execution_count": 15,
   "id": "22a9f621",
   "metadata": {
    "scrolled": true
   },
   "outputs": [
    {
     "name": "stdout",
     "output_type": "stream",
     "text": [
      "The load has active power of 0.0 MW, sgen has active power of 10.0 MW\n",
      "Current flowing through the transformer is 0.29 kA\n",
      "Voltage setpoint from Characteristic is 0.974 kA\n",
      "Voltage at the controlled bus is 0.974 p. u.\n",
      "Transformer tap position is 2.56\n"
     ]
    },
    {
     "data": {
      "text/html": [
       "<div>\n",
       "<style scoped>\n",
       "    .dataframe tbody tr th:only-of-type {\n",
       "        vertical-align: middle;\n",
       "    }\n",
       "\n",
       "    .dataframe tbody tr th {\n",
       "        vertical-align: top;\n",
       "    }\n",
       "\n",
       "    .dataframe thead th {\n",
       "        text-align: right;\n",
       "    }\n",
       "</style>\n",
       "<table border=\"1\" class=\"dataframe\">\n",
       "  <thead>\n",
       "    <tr style=\"text-align: right;\">\n",
       "      <th></th>\n",
       "      <th>vm_pu</th>\n",
       "      <th>va_degree</th>\n",
       "      <th>p_mw</th>\n",
       "      <th>q_mvar</th>\n",
       "    </tr>\n",
       "  </thead>\n",
       "  <tbody>\n",
       "    <tr>\n",
       "      <th>0</th>\n",
       "      <td>1.020000</td>\n",
       "      <td>50.000000</td>\n",
       "      <td>9.560012</td>\n",
       "      <td>-1.994347</td>\n",
       "    </tr>\n",
       "    <tr>\n",
       "      <th>1</th>\n",
       "      <td>1.020789</td>\n",
       "      <td>50.197378</td>\n",
       "      <td>0.000000</td>\n",
       "      <td>0.000000</td>\n",
       "    </tr>\n",
       "    <tr>\n",
       "      <th>2</th>\n",
       "      <td>0.974478</td>\n",
       "      <td>-97.029566</td>\n",
       "      <td>0.000000</td>\n",
       "      <td>0.000000</td>\n",
       "    </tr>\n",
       "    <tr>\n",
       "      <th>3</th>\n",
       "      <td>1.001682</td>\n",
       "      <td>-91.951390</td>\n",
       "      <td>-10.000000</td>\n",
       "      <td>1.000000</td>\n",
       "    </tr>\n",
       "  </tbody>\n",
       "</table>\n",
       "</div>"
      ],
      "text/plain": [
       "      vm_pu  va_degree       p_mw    q_mvar\n",
       "0  1.020000  50.000000   9.560012 -1.994347\n",
       "1  1.020789  50.197378   0.000000  0.000000\n",
       "2  0.974478 -97.029566   0.000000  0.000000\n",
       "3  1.001682 -91.951390 -10.000000  1.000000"
      ]
     },
     "execution_count": 15,
     "metadata": {},
     "output_type": "execute_result"
    }
   ],
   "source": [
    "net.load.at[0, 'p_mw'] = 0\n",
    "pp.runpp(net, run_control=True)\n",
    "print(f\"The load has active power of {net.load.at[0, 'p_mw']} MW, sgen has active power of {net.sgen.at[0, 'p_mw']} MW\")\n",
    "print(f\"Current flowing through the transformer is {net.res_trafo.at[0, 'i_lv_ka']:.2f} kA\")\n",
    "print(f\"Voltage setpoint from Characteristic is {c1(x=net.res_trafo.at[0, 'i_lv_ka']):.3f} kA\")\n",
    "print(f\"Voltage at the controlled bus is {net.res_bus.at[2, 'vm_pu']:.3f} p. u.\")\n",
    "print(f\"Transformer tap position is {net.trafo.at[0, 'tap_pos']:.2f}\")\n",
    "net.res_bus"
   ]
  },
  {
   "cell_type": "code",
   "execution_count": 16,
   "id": "b164f510",
   "metadata": {},
   "outputs": [
    {
     "name": "stdout",
     "output_type": "stream",
     "text": [
      "The load has active power of 20.0 MW, sgen has active power of 10.0 MW\n",
      "Current flowing through the transformer is 0.32 kA\n",
      "Voltage setpoint from Characteristic is 0.976 kA\n",
      "Voltage at the controlled bus is 0.976 p. u.\n",
      "Transformer tap position is 1.96\n"
     ]
    },
    {
     "data": {
      "text/html": [
       "<div>\n",
       "<style scoped>\n",
       "    .dataframe tbody tr th:only-of-type {\n",
       "        vertical-align: middle;\n",
       "    }\n",
       "\n",
       "    .dataframe tbody tr th {\n",
       "        vertical-align: top;\n",
       "    }\n",
       "\n",
       "    .dataframe thead th {\n",
       "        text-align: right;\n",
       "    }\n",
       "</style>\n",
       "<table border=\"1\" class=\"dataframe\">\n",
       "  <thead>\n",
       "    <tr style=\"text-align: right;\">\n",
       "      <th></th>\n",
       "      <th>vm_pu</th>\n",
       "      <th>va_degree</th>\n",
       "      <th>p_mw</th>\n",
       "      <th>q_mvar</th>\n",
       "    </tr>\n",
       "  </thead>\n",
       "  <tbody>\n",
       "    <tr>\n",
       "      <th>0</th>\n",
       "      <td>1.020000</td>\n",
       "      <td>50.000000</td>\n",
       "      <td>-10.519196</td>\n",
       "      <td>-2.246655</td>\n",
       "    </tr>\n",
       "    <tr>\n",
       "      <th>1</th>\n",
       "      <td>1.017547</td>\n",
       "      <td>49.824651</td>\n",
       "      <td>0.000000</td>\n",
       "      <td>0.000000</td>\n",
       "    </tr>\n",
       "    <tr>\n",
       "      <th>2</th>\n",
       "      <td>0.975757</td>\n",
       "      <td>-103.142265</td>\n",
       "      <td>0.000000</td>\n",
       "      <td>0.000000</td>\n",
       "    </tr>\n",
       "    <tr>\n",
       "      <th>3</th>\n",
       "      <td>0.920431</td>\n",
       "      <td>-108.162692</td>\n",
       "      <td>10.000000</td>\n",
       "      <td>1.000000</td>\n",
       "    </tr>\n",
       "  </tbody>\n",
       "</table>\n",
       "</div>"
      ],
      "text/plain": [
       "      vm_pu   va_degree       p_mw    q_mvar\n",
       "0  1.020000   50.000000 -10.519196 -2.246655\n",
       "1  1.017547   49.824651   0.000000  0.000000\n",
       "2  0.975757 -103.142265   0.000000  0.000000\n",
       "3  0.920431 -108.162692  10.000000  1.000000"
      ]
     },
     "execution_count": 16,
     "metadata": {},
     "output_type": "execute_result"
    },
    {
     "data": {
      "image/png": "[encoded data removed]",
      "text/plain": [
       "<Figure size 640x480 with 1 Axes>"
      ]
     },
     "metadata": {},
     "output_type": "display_data"
    }
   ],
   "source": [
    "net.load.at[0, 'p_mw'] = 20\n",
    "plot_characteristic(c1,0,1,50)\n",
    "pp.runpp(net, run_control=True)\n",
    "print(f\"The load has active power of {net.load.at[0, 'p_mw']} MW, sgen has active power of {net.sgen.at[0, 'p_mw']} MW\")\n",
    "print(f\"Current flowing through the transformer is {net.res_trafo.at[0, 'i_lv_ka']:.2f} kA\")\n",
    "print(f\"Voltage setpoint from Characteristic is {c1(x=net.res_trafo.at[0, 'i_lv_ka']):.3f} kA\")\n",
    "print(f\"Voltage at the controlled bus is {net.res_bus.at[2, 'vm_pu']:.3f} p. u.\")\n",
    "print(f\"Transformer tap position is {net.trafo.at[0, 'tap_pos']:.2f}\")\n",
    "net.res_bus"
   ]
  },
  {
   "cell_type": "code",
   "execution_count": 17,
   "id": "61878371",
   "metadata": {},
   "outputs": [
    {
     "name": "stdout",
     "output_type": "stream",
     "text": [
      "The load has active power of 35.0 MW, sgen has active power of 10.0 MW\n",
      "Current flowing through the transformer is 0.81 kA\n",
      "Voltage setpoint from Characteristic is 1.033 kA\n",
      "Voltage at the controlled bus is 1.033 p. u.\n",
      "Transformer tap position is -4.25\n"
     ]
    },
    {
     "data": {
      "text/html": [
       "<div>\n",
       "<style scoped>\n",
       "    .dataframe tbody tr th:only-of-type {\n",
       "        vertical-align: middle;\n",
       "    }\n",
       "\n",
       "    .dataframe tbody tr th {\n",
       "        vertical-align: top;\n",
       "    }\n",
       "\n",
       "    .dataframe thead th {\n",
       "        text-align: right;\n",
       "    }\n",
       "</style>\n",
       "<table border=\"1\" class=\"dataframe\">\n",
       "  <thead>\n",
       "    <tr style=\"text-align: right;\">\n",
       "      <th></th>\n",
       "      <th>vm_pu</th>\n",
       "      <th>va_degree</th>\n",
       "      <th>p_mw</th>\n",
       "      <th>q_mvar</th>\n",
       "    </tr>\n",
       "  </thead>\n",
       "  <tbody>\n",
       "    <tr>\n",
       "      <th>0</th>\n",
       "      <td>1.020000</td>\n",
       "      <td>50.000000</td>\n",
       "      <td>-28.407864</td>\n",
       "      <td>-11.319413</td>\n",
       "    </tr>\n",
       "    <tr>\n",
       "      <th>1</th>\n",
       "      <td>1.011746</td>\n",
       "      <td>49.567870</td>\n",
       "      <td>0.000000</td>\n",
       "      <td>0.000000</td>\n",
       "    </tr>\n",
       "    <tr>\n",
       "      <th>2</th>\n",
       "      <td>1.033311</td>\n",
       "      <td>-107.308710</td>\n",
       "      <td>0.000000</td>\n",
       "      <td>0.000000</td>\n",
       "    </tr>\n",
       "    <tr>\n",
       "      <th>3</th>\n",
       "      <td>0.888076</td>\n",
       "      <td>-120.047087</td>\n",
       "      <td>25.000000</td>\n",
       "      <td>1.000000</td>\n",
       "    </tr>\n",
       "  </tbody>\n",
       "</table>\n",
       "</div>"
      ],
      "text/plain": [
       "      vm_pu   va_degree       p_mw     q_mvar\n",
       "0  1.020000   50.000000 -28.407864 -11.319413\n",
       "1  1.011746   49.567870   0.000000   0.000000\n",
       "2  1.033311 -107.308710   0.000000   0.000000\n",
       "3  0.888076 -120.047087  25.000000   1.000000"
      ]
     },
     "execution_count": 17,
     "metadata": {},
     "output_type": "execute_result"
    }
   ],
   "source": [
    "net.load.at[0, 'p_mw'] = 35\n",
    "pp.runpp(net, run_control=True)\n",
    "print(f\"The load has active power of {net.load.at[0, 'p_mw']} MW, sgen has active power of {net.sgen.at[0, 'p_mw']} MW\")\n",
    "print(f\"Current flowing through the transformer is {net.res_trafo.at[0, 'i_lv_ka']:.2f} kA\")\n",
    "print(f\"Voltage setpoint from Characteristic is {c1(x=net.res_trafo.at[0, 'i_lv_ka']):.3f} kA\")\n",
    "print(f\"Voltage at the controlled bus is {net.res_bus.at[2, 'vm_pu']:.3f} p. u.\")\n",
    "print(f\"Transformer tap position is {net.trafo.at[0, 'tap_pos']:.2f}\")\n",
    "net.res_bus"
   ]
  },
  {
   "cell_type": "markdown",
   "id": "ca1fd9ae",
   "metadata": {},
   "source": [
    "Now let's go ahead and use a non-linear function in place of the piecewise linear Characteristic. We will use the interp1d class from scipy.interpolate to substitute Characteristic in the controller USetTapControl."
   ]
  },
  {
   "cell_type": "code",
   "execution_count": 18,
   "id": "0196bea8",
   "metadata": {},
   "outputs": [
    {
     "data": {
      "image/png": "[encoded data removed]",
      "text/plain": [
       "<Figure size 640x480 with 1 Axes>"
      ]
     },
     "metadata": {},
     "output_type": "display_data"
    }
   ],
   "source": [
    "c2 = SplineCharacteristic(net, [0, 0.3, 0.7, 1], [0.92, 0.95, 1.05, 1.08])\n",
    "plot_characteristic(c2,0,1)"
   ]
  },
  {
   "cell_type": "code",
   "execution_count": 19,
   "id": "a789211a",
   "metadata": {},
   "outputs": [],
   "source": [
    "tc1.characteristic_index = c2.index"
   ]
  },
  {
   "cell_type": "code",
   "execution_count": 20,
   "id": "6e8f817e",
   "metadata": {},
   "outputs": [
    {
     "name": "stdout",
     "output_type": "stream",
     "text": [
      "The load has active power of 35.0 MW, sgen has active power of 10.0 MW\n",
      "Current flowing through the transformer is 0.78 kA\n",
      "Voltage setpoint from Characteristic is 1.063 kA\n",
      "Voltage at the controlled bus is 1.063 p. u.\n",
      "Transformer tap position is -5.68\n"
     ]
    },
    {
     "data": {
      "text/html": [
       "<div>\n",
       "<style scoped>\n",
       "    .dataframe tbody tr th:only-of-type {\n",
       "        vertical-align: middle;\n",
       "    }\n",
       "\n",
       "    .dataframe tbody tr th {\n",
       "        vertical-align: top;\n",
       "    }\n",
       "\n",
       "    .dataframe thead th {\n",
       "        text-align: right;\n",
       "    }\n",
       "</style>\n",
       "<table border=\"1\" class=\"dataframe\">\n",
       "  <thead>\n",
       "    <tr style=\"text-align: right;\">\n",
       "      <th></th>\n",
       "      <th>vm_pu</th>\n",
       "      <th>va_degree</th>\n",
       "      <th>p_mw</th>\n",
       "      <th>q_mvar</th>\n",
       "    </tr>\n",
       "  </thead>\n",
       "  <tbody>\n",
       "    <tr>\n",
       "      <th>0</th>\n",
       "      <td>1.020000</td>\n",
       "      <td>50.000000</td>\n",
       "      <td>-28.145166</td>\n",
       "      <td>-10.484178</td>\n",
       "    </tr>\n",
       "    <tr>\n",
       "      <th>1</th>\n",
       "      <td>1.012065</td>\n",
       "      <td>49.565514</td>\n",
       "      <td>0.000000</td>\n",
       "      <td>0.000000</td>\n",
       "    </tr>\n",
       "    <tr>\n",
       "      <th>2</th>\n",
       "      <td>1.063310</td>\n",
       "      <td>-106.905800</td>\n",
       "      <td>0.000000</td>\n",
       "      <td>0.000000</td>\n",
       "    </tr>\n",
       "    <tr>\n",
       "      <th>3</th>\n",
       "      <td>0.925665</td>\n",
       "      <td>-118.769199</td>\n",
       "      <td>25.000000</td>\n",
       "      <td>1.000000</td>\n",
       "    </tr>\n",
       "  </tbody>\n",
       "</table>\n",
       "</div>"
      ],
      "text/plain": [
       "      vm_pu   va_degree       p_mw     q_mvar\n",
       "0  1.020000   50.000000 -28.145166 -10.484178\n",
       "1  1.012065   49.565514   0.000000   0.000000\n",
       "2  1.063310 -106.905800   0.000000   0.000000\n",
       "3  0.925665 -118.769199  25.000000   1.000000"
      ]
     },
     "execution_count": 20,
     "metadata": {},
     "output_type": "execute_result"
    }
   ],
   "source": [
    "net.load.at[0, 'p_mw'] = 35\n",
    "pp.runpp(net, run_control=True)\n",
    "print(f\"The load has active power of {net.load.at[0, 'p_mw']} MW, sgen has active power of {net.sgen.at[0, 'p_mw']} MW\")\n",
    "print(f\"Current flowing through the transformer is {net.res_trafo.at[0, 'i_lv_ka']:.2f} kA\")\n",
    "print(f\"Voltage setpoint from Characteristic is {c2(x=net.res_trafo.at[0, 'i_lv_ka']):.3f} kA\")\n",
    "print(f\"Voltage at the controlled bus is {net.res_bus.at[2, 'vm_pu']:.3f} p. u.\")\n",
    "print(f\"Transformer tap position is {net.trafo.at[0, 'tap_pos']:.2f}\")\n",
    "net.res_bus"
   ]
  },
  {
   "cell_type": "markdown",
   "id": "2086f684",
   "metadata": {},
   "source": [
    "As we can see, USetTapControl can be used with different functions to define the characteristic, as well as with different input variables."
   ]
  }
 ],
 "metadata": {
  "kernelspec": {
   "display_name": "Python 3.10.11 ('base')",
   "language": "python",
   "name": "python3"
  },
  "language_info": {
   "codemirror_mode": {
    "name": "ipython",
    "version": 3
   },
   "file_extension": ".py",
   "mimetype": "text/x-python",
   "name": "python",
   "nbconvert_exporter": "python",
   "pygments_lexer": "ipython3",
   "version": "3.10.11"
  },
  "vscode": {
   "interpreter": {
    "hash": "19d1d53a962d236aa061289c2ac16dc8e6d9648c89fe79f459ae9a3493bc67b4"
   }
  }
 },
 "nbformat": 4,
 "nbformat_minor": 5
}
