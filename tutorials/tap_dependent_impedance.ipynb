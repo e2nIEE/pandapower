{
 "cells": [
  {
   "cell_type": "markdown",
   "metadata": {},
   "source": [
    "# Tap dependent impedance of transformers"
   ]
  },
  {
   "cell_type": "markdown",
   "metadata": {},
   "source": [
    "With an adjustment of a tap position of a transformer, the number of windings is adjusted, which influences the impedence. The user can provide **trafo_characteristic_table** of the dependance of the variables **voltage ratio**, **angle in degree**, **vk_percent** and **vkr_percent** on the tap position. A helper function in pandapower control module converts the provided points in a characteristic object with quadratic spline interpolation (or a user-defined characteristic object with a custom interpolation approach) and writes it in the **trafo_characteristic_spline** table. Finally, a diagnostic function checks for inconsistensies and provides information to the user."
   ]
  },
  {
   "cell_type": "code",
   "execution_count": 1,
   "metadata": {
    "ExecuteTime": {
     "end_time": "2024-12-20T17:26:30.555390Z",
     "start_time": "2024-12-20T17:26:30.549364Z"
    }
   },
   "outputs": [],
   "source": [
    "import numpy as np\n",
    "import pandas as pd\n",
    "import pandapower as pp\n",
    "import pandapower.control\n",
    "import json"
   ]
  },
  {
   "cell_type": "code",
   "execution_count": 2,
   "metadata": {
    "ExecuteTime": {
     "end_time": "2024-12-20T17:27:16.655445Z",
     "start_time": "2024-12-20T17:27:16.629600Z"
    }
   },
   "outputs": [],
   "source": [
    "def add_trafo_connection(net, hv_bus, element_type=\"trafo\"):\n",
    "    cb = pp.create_bus(net, vn_kv=0.4)\n",
    "    pp.create_load(net, cb, 0.2, 0.05)\n",
    "    \n",
    "    if element_type==\"trafo3w\":\n",
    "        cbm = pp.create_bus(net, vn_kv=0.9)\n",
    "        pp.create_load(net, cbm, 0.1, 0.03)\n",
    "        pp.create_transformer3w_from_parameters(net, hv_bus=hv_bus, mv_bus=cbm, lv_bus=cb, \n",
    "                                                vn_hv_kv=20., vn_mv_kv=0.9, vn_lv_kv=0.45, sn_hv_mva=0.6, \n",
    "                                                sn_mv_mva=0.5, sn_lv_mva=0.4, vk_hv_percent=1., \n",
    "                                                vk_mv_percent=1., vk_lv_percent=1., vkr_hv_percent=0.3, \n",
    "                                                vkr_mv_percent=0.3, vkr_lv_percent=0.3, pfe_kw=0.2, \n",
    "                                                i0_percent=0.3, tap_neutral=0., tap_pos=2, tap_changer_type=\"Ratio\",\n",
    "                                                tap_step_percent=1., tap_min=-2, tap_max=2)\n",
    "    else:\n",
    "        pp.create_transformer(net, hv_bus=hv_bus, lv_bus=cb, std_type=\"0.25 MVA 20/0.4 kV\", tap_pos=2)\n",
    "\n",
    "def create_net():\n",
    "    net = pp.create_empty_network()\n",
    "    vn_kv = 20\n",
    "    b1 = pp.create_bus(net, vn_kv=vn_kv)\n",
    "    pp.create_ext_grid(net, b1, vm_pu=1.01)\n",
    "    b2 = pp.create_bus(net, vn_kv=vn_kv)\n",
    "    l1 = pp.create_line_from_parameters(net, b1, b2, 12.2, r_ohm_per_km=0.08, x_ohm_per_km=0.12,\n",
    "                                        c_nf_per_km=300, max_i_ka=.2, df=.8)\n",
    "    for i in range(2):\n",
    "        add_trafo_connection(net, b2)\n",
    "        net.trafo.loc[i, \"id_characteristic_table\"] = i\n",
    "        net.trafo.loc[i,\"tap_dependency_table\"] = True\n",
    "\n",
    "    # Adding the characteristics data for two- and three-winding transformers into the trafo_characteristic_table\n",
    "    net['trafo_characteristic_table'] = pd.DataFrame(\n",
    "    columns=['id_characteristic', 'step', 'voltage_ratio', 'angle_deg', 'vk_percent',\n",
    "             'vkr_percent', 'vkr_hv_percent', 'vkr_mv_percent',\n",
    "             'vkr_lv_percent', 'vk_hv_percent', 'vk_mv_percent',\n",
    "             'vk_lv_percent'])\n",
    "    trafo_data = {\n",
    "        'id_characteristic': [0, 0, 0, 0, 0, 1, 1, 1, 1, 1],\n",
    "        'step': [-2, -1, 0, 1, 2, -2, -1, 0, 1, 2],\n",
    "        'voltage_ratio': [0.95, 0.97, 1.0, 1.03, 1.05, 0.95, 0.97, 1.0, 1.03, 1.05],\n",
    "        'angle_deg': [0, 0, 0, 0, 0, 0, 0, 0, 0, 0],\n",
    "        'vk_percent': [5, 5.2, 6, 6.8, 7, 5, 5.2, 6, 6.8, 7],\n",
    "        'vkr_percent': [1.3, 1.4, 1.44, 1.5, 1.6, 1.3, 1.4, 1.44, 1.5, 1.6],\n",
    "        'vkr_hv_percent': np.nan,\n",
    "        'vkr_mv_percent': np.nan,\n",
    "        'vkr_lv_percent': np.nan,\n",
    "        'vk_hv_percent': np.nan,\n",
    "        'vk_mv_percent': np.nan,\n",
    "        'vk_lv_percent': np.nan\n",
    "    }\n",
    "\n",
    "    net['trafo_characteristic_table'] = pd.DataFrame(trafo_data)\n",
    "\n",
    "    trafo3w_data = {\n",
    "        'id_characteristic': [2, 2, 2, 2, 2, 3, 3, 3, 3, 3],\n",
    "        'step': [-2, -1, 0, 1, 2, -2, -1, 0, 1, 2],\n",
    "        'voltage_ratio': [0.95, 0.97, 1.0, 1.03, 1.05, 0.95, 0.97, 1.0, 1.03, 1.05],\n",
    "        'angle_deg': [0, 0, 0, 0, 0, 0, 0, 0, 0, 0],\n",
    "        'vk_percent': np.nan,\n",
    "        'vkr_percent': np.nan,\n",
    "        'vkr_hv_percent': [0.27, 0.28, 0.3, 0.32, 0.33, 0.27, 0.28, 0.3, 0.32, 0.33],\n",
    "        'vkr_mv_percent': [0.27, 0.28, 0.3, 0.32, 0.33, 0.27, 0.28, 0.3, 0.32, 0.33],\n",
    "        'vkr_lv_percent': [0.27, 0.28, 0.3, 0.32, 0.33, 0.27, 0.28, 0.3, 0.32, 0.33],\n",
    "        'vk_hv_percent': [0.85, 0.9, 1, 1.1, 1.15, 0.85, 0.9, 1, 1.1, 1.15],\n",
    "        'vk_mv_percent': [0.85, 0.9, 1, 1.1, 1.15, 0.85, 0.9, 1, 1.1, 1.15],\n",
    "        'vk_lv_percent': [0.85, 0.9, 1, 1.1, 1.15, 0.85, 0.9, 1, 1.1, 1.15],\n",
    "    }\n",
    "    data_frame = pd.DataFrame(trafo3w_data)\n",
    "    net['trafo_characteristic_table'] = pd.concat([net['trafo_characteristic_table'], data_frame], sort=False)\n",
    "    return net"
   ]
  },
  {
   "cell_type": "code",
   "execution_count": 3,
   "metadata": {
    "ExecuteTime": {
     "end_time": "2024-12-20T17:28:09.231909Z",
     "start_time": "2024-12-20T17:28:09.117435Z"
    }
   },
   "outputs": [],
   "source": [
    "net = create_net()"
   ]
  },
  {
   "cell_type": "markdown",
   "metadata": {},
   "source": [
    "We can create the characteristics by generating characteristic objects and assigning them to the respective columns in the **trafo_characteristic_spline table**. To create these characteristics, a convenience function can be used to initialize and configure the characteristic objects for **voltage ratio**, **angle in degree**, **vk_percent** and **vkr_percent**. This function creates the characteristics for all transfomers within the specified network. It is essential that the input parameters are provided in the correct order to ensure proper functionality."
   ]
  },
  {
   "cell_type": "code",
   "execution_count": 4,
   "metadata": {},
   "outputs": [
    {
     "name": "stderr",
     "output_type": "stream",
     "text": [
      "C:\\Users\\gjmal\\PycharmProjects\\pandapower-develop\\pandapower\\pandapower\\control\\util\\auxiliary.py:263: FutureWarning: DataFrame.applymap has been deprecated. Use DataFrame.map instead.\n",
      "  net[\"trafo_characteristic_spline\"] = net[\"trafo_characteristic_spline_temp\"].applymap(\n"
     ]
    },
    {
     "data": {
      "text/html": [
       "<div>\n",
       "<style scoped>\n",
       "    .dataframe tbody tr th:only-of-type {\n",
       "        vertical-align: middle;\n",
       "    }\n",
       "\n",
       "    .dataframe tbody tr th {\n",
       "        vertical-align: top;\n",
       "    }\n",
       "\n",
       "    .dataframe thead th {\n",
       "        text-align: right;\n",
       "    }\n",
       "</style>\n",
       "<table border=\"1\" class=\"dataframe\">\n",
       "  <thead>\n",
       "    <tr style=\"text-align: right;\">\n",
       "      <th></th>\n",
       "      <th>name</th>\n",
       "      <th>std_type</th>\n",
       "      <th>hv_bus</th>\n",
       "      <th>lv_bus</th>\n",
       "      <th>sn_mva</th>\n",
       "      <th>vn_hv_kv</th>\n",
       "      <th>vn_lv_kv</th>\n",
       "      <th>vk_percent</th>\n",
       "      <th>vkr_percent</th>\n",
       "      <th>pfe_kw</th>\n",
       "      <th>...</th>\n",
       "      <th>tap_step_percent</th>\n",
       "      <th>tap_step_degree</th>\n",
       "      <th>tap_pos</th>\n",
       "      <th>tap_changer_type</th>\n",
       "      <th>id_characteristic_table</th>\n",
       "      <th>tap_dependency_table</th>\n",
       "      <th>parallel</th>\n",
       "      <th>df</th>\n",
       "      <th>in_service</th>\n",
       "      <th>id_characteristic_spline</th>\n",
       "    </tr>\n",
       "  </thead>\n",
       "  <tbody>\n",
       "    <tr>\n",
       "      <th>0</th>\n",
       "      <td>None</td>\n",
       "      <td>0.25 MVA 20/0.4 kV</td>\n",
       "      <td>1</td>\n",
       "      <td>2</td>\n",
       "      <td>0.25</td>\n",
       "      <td>20.0</td>\n",
       "      <td>0.4</td>\n",
       "      <td>6.0</td>\n",
       "      <td>1.44</td>\n",
       "      <td>0.8</td>\n",
       "      <td>...</td>\n",
       "      <td>2.5</td>\n",
       "      <td>0.0</td>\n",
       "      <td>2</td>\n",
       "      <td>Ratio</td>\n",
       "      <td>0</td>\n",
       "      <td>True</td>\n",
       "      <td>1</td>\n",
       "      <td>1.0</td>\n",
       "      <td>True</td>\n",
       "      <td>0</td>\n",
       "    </tr>\n",
       "    <tr>\n",
       "      <th>1</th>\n",
       "      <td>None</td>\n",
       "      <td>0.25 MVA 20/0.4 kV</td>\n",
       "      <td>1</td>\n",
       "      <td>3</td>\n",
       "      <td>0.25</td>\n",
       "      <td>20.0</td>\n",
       "      <td>0.4</td>\n",
       "      <td>6.0</td>\n",
       "      <td>1.44</td>\n",
       "      <td>0.8</td>\n",
       "      <td>...</td>\n",
       "      <td>2.5</td>\n",
       "      <td>0.0</td>\n",
       "      <td>2</td>\n",
       "      <td>Ratio</td>\n",
       "      <td>&lt;NA&gt;</td>\n",
       "      <td>False</td>\n",
       "      <td>1</td>\n",
       "      <td>1.0</td>\n",
       "      <td>True</td>\n",
       "      <td>1</td>\n",
       "    </tr>\n",
       "  </tbody>\n",
       "</table>\n",
       "<p>2 rows × 26 columns</p>\n",
       "</div>"
      ],
      "text/plain": [
       "   name            std_type  hv_bus  lv_bus  sn_mva  vn_hv_kv  vn_lv_kv  \\\n",
       "0  None  0.25 MVA 20/0.4 kV       1       2    0.25      20.0       0.4   \n",
       "1  None  0.25 MVA 20/0.4 kV       1       3    0.25      20.0       0.4   \n",
       "\n",
       "   vk_percent  vkr_percent  pfe_kw  ...  tap_step_percent  tap_step_degree  \\\n",
       "0         6.0         1.44     0.8  ...               2.5              0.0   \n",
       "1         6.0         1.44     0.8  ...               2.5              0.0   \n",
       "\n",
       "  tap_pos  tap_changer_type  id_characteristic_table  tap_dependency_table  \\\n",
       "0       2             Ratio                        0                  True   \n",
       "1       2             Ratio                     <NA>                 False   \n",
       "\n",
       "   parallel   df  in_service id_characteristic_spline  \n",
       "0         1  1.0        True                        0  \n",
       "1         1  1.0        True                        1  \n",
       "\n",
       "[2 rows x 26 columns]"
      ]
     },
     "execution_count": 4,
     "metadata": {},
     "output_type": "execute_result"
    }
   ],
   "source": [
    "pp.control.create_trafo_characteristic_object(net)\n",
    "net.trafo.loc[1,\"id_characteristic_table\"] = np.nan\n",
    "net.trafo.loc[1,\"tap_dependency_table\"] = False\n",
    "net.trafo"
   ]
  },
  {
   "cell_type": "markdown",
   "metadata": {},
   "source": [
    "The characteristic set in the convenience function is the SplineCharacteristic object that relies on quadratic spline interpolation with interp1d from SciPy. Let us check the characteristic:"
   ]
  },
  {
   "cell_type": "code",
   "execution_count": 5,
   "metadata": {
    "ExecuteTime": {
     "end_time": "2024-12-20T17:29:35.761103Z",
     "start_time": "2024-12-20T17:29:35.483198Z"
    }
   },
   "outputs": [
    {
     "data": {
      "image/png": "[encoded data removed]",
      "text/plain": [
       "<Figure size 640x480 with 1 Axes>"
      ]
     },
     "metadata": {},
     "output_type": "display_data"
    }
   ],
   "source": [
    "pp.control.plot_characteristic(net[\"trafo_characteristic_spline\"][\"vk_percent_characteristic\"].loc[0], -2, 2,\n",
    "                               xlabel='Tap position \"tap_pos\"', ylabel='Value of \"vk_percent\"')"
   ]
  },
  {
   "cell_type": "code",
   "execution_count": 6,
   "metadata": {
    "ExecuteTime": {
     "end_time": "2024-12-20T17:29:37.848492Z",
     "start_time": "2024-12-20T17:29:37.641291Z"
    }
   },
   "outputs": [
    {
     "data": {
      "image/png": "[encoded data removed]",
      "text/plain": [
       "<Figure size 640x480 with 1 Axes>"
      ]
     },
     "metadata": {},
     "output_type": "display_data"
    }
   ],
   "source": [
    "pp.control.plot_characteristic(net[\"trafo_characteristic_spline\"][\"vkr_percent_characteristic\"].loc[0], -2, 2,\n",
    "                               xlabel='Tap position \"tap_pos\"', ylabel='Value of \"vkr_percent\"')"
   ]
  },
  {
   "cell_type": "code",
   "execution_count": 7,
   "metadata": {
    "ExecuteTime": {
     "end_time": "2024-12-20T17:29:45.262102Z",
     "start_time": "2024-12-20T17:29:41.334183Z"
    }
   },
   "outputs": [],
   "source": [
    "pp.runpp(net)"
   ]
  },
  {
   "cell_type": "markdown",
   "metadata": {},
   "source": [
    "Let us verify that the adjusted values were considered in the calculation:"
   ]
  },
  {
   "cell_type": "code",
   "execution_count": 8,
   "metadata": {
    "ExecuteTime": {
     "end_time": "2024-12-20T17:29:47.616492Z",
     "start_time": "2024-12-20T17:29:47.599917Z"
    }
   },
   "outputs": [
    {
     "data": {
      "text/html": [
       "<div>\n",
       "<style scoped>\n",
       "    .dataframe tbody tr th:only-of-type {\n",
       "        vertical-align: middle;\n",
       "    }\n",
       "\n",
       "    .dataframe tbody tr th {\n",
       "        vertical-align: top;\n",
       "    }\n",
       "\n",
       "    .dataframe thead th {\n",
       "        text-align: right;\n",
       "    }\n",
       "</style>\n",
       "<table border=\"1\" class=\"dataframe\">\n",
       "  <thead>\n",
       "    <tr style=\"text-align: right;\">\n",
       "      <th></th>\n",
       "      <th>vm_pu</th>\n",
       "      <th>va_degree</th>\n",
       "      <th>p_mw</th>\n",
       "      <th>q_mvar</th>\n",
       "    </tr>\n",
       "  </thead>\n",
       "  <tbody>\n",
       "    <tr>\n",
       "      <th>2</th>\n",
       "      <td>0.931359</td>\n",
       "      <td>-153.390736</td>\n",
       "      <td>0.2</td>\n",
       "      <td>0.05</td>\n",
       "    </tr>\n",
       "    <tr>\n",
       "      <th>3</th>\n",
       "      <td>0.935414</td>\n",
       "      <td>-152.890645</td>\n",
       "      <td>0.2</td>\n",
       "      <td>0.05</td>\n",
       "    </tr>\n",
       "  </tbody>\n",
       "</table>\n",
       "</div>"
      ],
      "text/plain": [
       "      vm_pu   va_degree  p_mw  q_mvar\n",
       "2  0.931359 -153.390736   0.2    0.05\n",
       "3  0.935414 -152.890645   0.2    0.05"
      ]
     },
     "execution_count": 8,
     "metadata": {},
     "output_type": "execute_result"
    }
   ],
   "source": [
    "net.res_bus.loc[[2,3]]"
   ]
  },
  {
   "cell_type": "markdown",
   "metadata": {},
   "source": [
    "We can see that the voltage values are different, even though the connections are identical. Now let us compare the computation time:"
   ]
  },
  {
   "cell_type": "code",
   "execution_count": 9,
   "metadata": {
    "ExecuteTime": {
     "end_time": "2024-12-20T17:29:54.306031Z",
     "start_time": "2024-12-20T17:29:54.219226Z"
    }
   },
   "outputs": [],
   "source": [
    "net2 = create_net()\n",
    "net2.trafo[\"id_characteristic_table\"] = np.nan\n",
    "net2.trafo[\"tap_dependency_table\"] = False"
   ]
  },
  {
   "cell_type": "code",
   "execution_count": 10,
   "metadata": {
    "ExecuteTime": {
     "end_time": "2024-12-20T17:30:00.461234Z",
     "start_time": "2024-12-20T17:29:56.511605Z"
    }
   },
   "outputs": [
    {
     "name": "stdout",
     "output_type": "stream",
     "text": [
      "11.5 ms ± 387 μs per loop (mean ± std. dev. of 7 runs, 100 loops each)\n"
     ]
    }
   ],
   "source": [
    "%timeit pp.runpp(net2)"
   ]
  },
  {
   "cell_type": "code",
   "execution_count": 11,
   "metadata": {
    "ExecuteTime": {
     "end_time": "2024-12-20T17:30:07.173616Z",
     "start_time": "2024-12-20T17:30:03.179493Z"
    }
   },
   "outputs": [
    {
     "name": "stdout",
     "output_type": "stream",
     "text": [
      "15.8 ms ± 245 μs per loop (mean ± std. dev. of 7 runs, 100 loops each)\n"
     ]
    }
   ],
   "source": [
    "%timeit pp.runpp(net)"
   ]
  },
  {
   "cell_type": "markdown",
   "metadata": {},
   "source": [
    "The calculation with tap dependent impedance is somewhat slower."
   ]
  },
  {
   "cell_type": "markdown",
   "metadata": {},
   "source": [
    "Now, let us compare the performance of the controller for reference"
   ]
  },
  {
   "cell_type": "code",
   "execution_count": 12,
   "metadata": {
    "ExecuteTime": {
     "end_time": "2024-12-20T17:30:23.513432Z",
     "start_time": "2024-12-20T17:30:23.408871Z"
    }
   },
   "outputs": [
    {
     "data": {
      "text/plain": [
       "This TapDependentImpedance has the following parameters: \n",
       "\n",
       "index:             1\n",
       "json_excludes:     ['self', '__class__']"
      ]
     },
     "execution_count": 12,
     "metadata": {},
     "output_type": "execute_result"
    }
   ],
   "source": [
    "net3 = create_net()\n",
    "net3.trafo.loc[1,\"id_characteristic_table\"] = np.nan\n",
    "net3.trafo.loc[1,\"tap_dependency_table\"] = False\n",
    "pp.control.SplineCharacteristic(net3, [-2, -1, 0, 1, 2], [5, 5.2, 6, 6.8, 7])\n",
    "pp.control.SplineCharacteristic(net3, [-2, -1, 0, 1, 2], [1.3, 1.4, 1.44, 1.5, 1.6])\n",
    "pp.control.TapDependentImpedance(net3, [0], 0, output_variable=\"vk_percent\")\n",
    "pp.control.TapDependentImpedance(net3, [0], 1, output_variable=\"vkr_percent\")"
   ]
  },
  {
   "cell_type": "code",
   "execution_count": 13,
   "metadata": {
    "ExecuteTime": {
     "end_time": "2024-12-20T17:30:30.982781Z",
     "start_time": "2024-12-20T17:30:26.395868Z"
    }
   },
   "outputs": [
    {
     "name": "stdout",
     "output_type": "stream",
     "text": [
      "18.8 ms ± 538 μs per loop (mean ± std. dev. of 7 runs, 10 loops each)\n"
     ]
    }
   ],
   "source": [
    "%timeit pp.runpp(net3, run_control=True)"
   ]
  },
  {
   "cell_type": "markdown",
   "metadata": {},
   "source": [
    "The computational time is substantially higher!"
   ]
  },
  {
   "cell_type": "markdown",
   "metadata": {},
   "source": [
    "The results from using the characteristics in pandapower directly and via controllers are identical:"
   ]
  },
  {
   "cell_type": "code",
   "execution_count": 14,
   "metadata": {
    "ExecuteTime": {
     "end_time": "2024-12-20T17:30:36.660922Z",
     "start_time": "2024-12-20T17:30:36.643839Z"
    }
   },
   "outputs": [
    {
     "data": {
      "text/html": [
       "<div>\n",
       "<style scoped>\n",
       "    .dataframe tbody tr th:only-of-type {\n",
       "        vertical-align: middle;\n",
       "    }\n",
       "\n",
       "    .dataframe tbody tr th {\n",
       "        vertical-align: top;\n",
       "    }\n",
       "\n",
       "    .dataframe thead th {\n",
       "        text-align: right;\n",
       "    }\n",
       "</style>\n",
       "<table border=\"1\" class=\"dataframe\">\n",
       "  <thead>\n",
       "    <tr style=\"text-align: right;\">\n",
       "      <th></th>\n",
       "      <th>vm_pu</th>\n",
       "      <th>va_degree</th>\n",
       "      <th>p_mw</th>\n",
       "      <th>q_mvar</th>\n",
       "    </tr>\n",
       "  </thead>\n",
       "  <tbody>\n",
       "    <tr>\n",
       "      <th>2</th>\n",
       "      <td>0.931359</td>\n",
       "      <td>-153.390736</td>\n",
       "      <td>0.2</td>\n",
       "      <td>0.05</td>\n",
       "    </tr>\n",
       "    <tr>\n",
       "      <th>3</th>\n",
       "      <td>0.935414</td>\n",
       "      <td>-152.890645</td>\n",
       "      <td>0.2</td>\n",
       "      <td>0.05</td>\n",
       "    </tr>\n",
       "  </tbody>\n",
       "</table>\n",
       "</div>"
      ],
      "text/plain": [
       "      vm_pu   va_degree  p_mw  q_mvar\n",
       "2  0.931359 -153.390736   0.2    0.05\n",
       "3  0.935414 -152.890645   0.2    0.05"
      ]
     },
     "execution_count": 14,
     "metadata": {},
     "output_type": "execute_result"
    }
   ],
   "source": [
    "net3.res_bus.loc[[2,3]]"
   ]
  },
  {
   "cell_type": "code",
   "execution_count": 15,
   "metadata": {
    "ExecuteTime": {
     "end_time": "2024-12-20T17:30:44.855228Z",
     "start_time": "2024-12-20T17:30:44.843777Z"
    }
   },
   "outputs": [],
   "source": [
    "assert np.allclose(net.res_bus.vm_pu, net3.res_bus.vm_pu, atol=1e-6, rtol=0)\n",
    "assert np.allclose(net.res_bus.va_degree, net3.res_bus.va_degree, atol=1e-6, rtol=0)"
   ]
  },
  {
   "cell_type": "markdown",
   "metadata": {},
   "source": [
    "# 3-Winding Transformers"
   ]
  },
  {
   "cell_type": "code",
   "execution_count": 16,
   "metadata": {
    "ExecuteTime": {
     "end_time": "2024-12-20T17:31:03.737979Z",
     "start_time": "2024-12-20T17:31:03.507153Z"
    }
   },
   "outputs": [],
   "source": [
    "net4 = create_net()\n",
    "net5 = create_net()\n",
    "for i in range(2):\n",
    "    add_trafo_connection(net4, net4.trafo.at[0, 'hv_bus'], \"trafo3w\")\n",
    "    add_trafo_connection(net5, net5.trafo.at[0, 'hv_bus'], \"trafo3w\")"
   ]
  },
  {
   "cell_type": "code",
   "execution_count": 17,
   "metadata": {
    "ExecuteTime": {
     "end_time": "2024-12-20T17:33:05.038454Z",
     "start_time": "2024-12-20T17:33:04.987694Z"
    }
   },
   "outputs": [
    {
     "name": "stderr",
     "output_type": "stream",
     "text": [
      "C:\\Users\\gjmal\\PycharmProjects\\pandapower-develop\\pandapower\\pandapower\\control\\util\\auxiliary.py:263: FutureWarning: DataFrame.applymap has been deprecated. Use DataFrame.map instead.\n",
      "  net[\"trafo_characteristic_spline\"] = net[\"trafo_characteristic_spline_temp\"].applymap(\n"
     ]
    }
   ],
   "source": [
    "net4.trafo3w.loc[0,\"id_characteristic_table\"] = 2\n",
    "net4.trafo3w.loc[0,\"tap_dependency_table\"] = True\n",
    "pp.control.create_trafo_characteristic_object(net4)"
   ]
  },
  {
   "cell_type": "code",
   "execution_count": 18,
   "metadata": {
    "ExecuteTime": {
     "end_time": "2024-12-20T17:36:19.373524Z",
     "start_time": "2024-12-20T17:36:19.355224Z"
    }
   },
   "outputs": [
    {
     "data": {
      "text/plain": [
       "SplineCharacteristic"
      ]
     },
     "execution_count": 18,
     "metadata": {},
     "output_type": "execute_result"
    }
   ],
   "source": [
    "pp.control.SplineCharacteristic(net5, [-2, -1, 0, 1, 2], [0.85, 0.9, 1, 1.1, 1.15])\n",
    "pp.control.SplineCharacteristic(net5, [-2, -1, 0, 1, 2], [0.27, 0.28, 0.3, 0.32, 0.33])"
   ]
  },
  {
   "cell_type": "code",
   "execution_count": 19,
   "metadata": {
    "ExecuteTime": {
     "end_time": "2024-12-20T17:36:21.435889Z",
     "start_time": "2024-12-20T17:36:21.395257Z"
    }
   },
   "outputs": [
    {
     "data": {
      "text/plain": [
       "This TapDependentImpedance has the following parameters: \n",
       "\n",
       "index:             5\n",
       "json_excludes:     ['self', '__class__']"
      ]
     },
     "execution_count": 19,
     "metadata": {},
     "output_type": "execute_result"
    }
   ],
   "source": [
    "pp.control.TapDependentImpedance(net5, [0], 0, output_variable=\"vk_hv_percent\",  element=\"trafo3w\")\n",
    "pp.control.TapDependentImpedance(net5, [0], 1, output_variable=\"vkr_hv_percent\", element=\"trafo3w\")\n",
    "pp.control.TapDependentImpedance(net5, [0], 0, output_variable=\"vk_mv_percent\",  element=\"trafo3w\")\n",
    "pp.control.TapDependentImpedance(net5, [0], 1, output_variable=\"vkr_mv_percent\", element=\"trafo3w\")\n",
    "pp.control.TapDependentImpedance(net5, [0], 0, output_variable=\"vk_lv_percent\",  element=\"trafo3w\")\n",
    "pp.control.TapDependentImpedance(net5, [0], 1, output_variable=\"vkr_lv_percent\", element=\"trafo3w\")"
   ]
  },
  {
   "cell_type": "code",
   "execution_count": 20,
   "metadata": {
    "ExecuteTime": {
     "end_time": "2024-12-20T17:36:24.561437Z",
     "start_time": "2024-12-20T17:36:23.680997Z"
    }
   },
   "outputs": [
    {
     "name": "stdout",
     "output_type": "stream",
     "text": [
      "26.2 ms ± 1.1 ms per loop (mean ± std. dev. of 7 runs, 10 loops each)\n"
     ]
    }
   ],
   "source": [
    "%timeit pp.runpp(net4)"
   ]
  },
  {
   "cell_type": "code",
   "execution_count": 21,
   "metadata": {
    "ExecuteTime": {
     "end_time": "2024-12-20T17:36:37.049284Z",
     "start_time": "2024-12-20T17:36:26.722895Z"
    }
   },
   "outputs": [
    {
     "name": "stdout",
     "output_type": "stream",
     "text": [
      "41.9 ms ± 1.29 ms per loop (mean ± std. dev. of 7 runs, 10 loops each)\n"
     ]
    }
   ],
   "source": [
    "%timeit pp.runpp(net5, run_control=True)"
   ]
  },
  {
   "cell_type": "code",
   "execution_count": 22,
   "metadata": {
    "ExecuteTime": {
     "end_time": "2024-12-20T17:36:45.277624Z",
     "start_time": "2024-12-20T17:36:45.257063Z"
    }
   },
   "outputs": [
    {
     "data": {
      "text/html": [
       "<div>\n",
       "<style scoped>\n",
       "    .dataframe tbody tr th:only-of-type {\n",
       "        vertical-align: middle;\n",
       "    }\n",
       "\n",
       "    .dataframe tbody tr th {\n",
       "        vertical-align: top;\n",
       "    }\n",
       "\n",
       "    .dataframe thead th {\n",
       "        text-align: right;\n",
       "    }\n",
       "</style>\n",
       "<table border=\"1\" class=\"dataframe\">\n",
       "  <thead>\n",
       "    <tr style=\"text-align: right;\">\n",
       "      <th></th>\n",
       "      <th>vm_pu_x</th>\n",
       "      <th>va_degree_x</th>\n",
       "      <th>vm_pu_y</th>\n",
       "      <th>va_degree_y</th>\n",
       "    </tr>\n",
       "  </thead>\n",
       "  <tbody>\n",
       "    <tr>\n",
       "      <th>0</th>\n",
       "      <td>1.010000</td>\n",
       "      <td>0.000000</td>\n",
       "      <td>1.010000</td>\n",
       "      <td>0.000000</td>\n",
       "    </tr>\n",
       "    <tr>\n",
       "      <th>1</th>\n",
       "      <td>1.007329</td>\n",
       "      <td>-0.199678</td>\n",
       "      <td>1.007329</td>\n",
       "      <td>-0.199678</td>\n",
       "    </tr>\n",
       "    <tr>\n",
       "      <th>2</th>\n",
       "      <td>0.929303</td>\n",
       "      <td>-153.505686</td>\n",
       "      <td>0.929303</td>\n",
       "      <td>-153.505686</td>\n",
       "    </tr>\n",
       "    <tr>\n",
       "      <th>3</th>\n",
       "      <td>0.929303</td>\n",
       "      <td>-153.505686</td>\n",
       "      <td>0.929303</td>\n",
       "      <td>-153.505686</td>\n",
       "    </tr>\n",
       "    <tr>\n",
       "      <th>4</th>\n",
       "      <td>1.129082</td>\n",
       "      <td>-0.545199</td>\n",
       "      <td>1.129082</td>\n",
       "      <td>-0.545199</td>\n",
       "    </tr>\n",
       "    <tr>\n",
       "      <th>5</th>\n",
       "      <td>1.004785</td>\n",
       "      <td>-0.428464</td>\n",
       "      <td>1.004785</td>\n",
       "      <td>-0.428464</td>\n",
       "    </tr>\n",
       "    <tr>\n",
       "      <th>6</th>\n",
       "      <td>1.129548</td>\n",
       "      <td>-0.497491</td>\n",
       "      <td>1.129548</td>\n",
       "      <td>-0.497491</td>\n",
       "    </tr>\n",
       "    <tr>\n",
       "      <th>7</th>\n",
       "      <td>1.005072</td>\n",
       "      <td>-0.396841</td>\n",
       "      <td>1.005072</td>\n",
       "      <td>-0.396841</td>\n",
       "    </tr>\n",
       "  </tbody>\n",
       "</table>\n",
       "</div>"
      ],
      "text/plain": [
       "    vm_pu_x  va_degree_x   vm_pu_y  va_degree_y\n",
       "0  1.010000     0.000000  1.010000     0.000000\n",
       "1  1.007329    -0.199678  1.007329    -0.199678\n",
       "2  0.929303  -153.505686  0.929303  -153.505686\n",
       "3  0.929303  -153.505686  0.929303  -153.505686\n",
       "4  1.129082    -0.545199  1.129082    -0.545199\n",
       "5  1.004785    -0.428464  1.004785    -0.428464\n",
       "6  1.129548    -0.497491  1.129548    -0.497491\n",
       "7  1.005072    -0.396841  1.005072    -0.396841"
      ]
     },
     "execution_count": 22,
     "metadata": {},
     "output_type": "execute_result"
    }
   ],
   "source": [
    "assert np.allclose(net4.res_bus.vm_pu, net5.res_bus.vm_pu, atol=1e-6, rtol=0)\n",
    "assert np.allclose(net4.res_bus.va_degree, net5.res_bus.va_degree, atol=1e-6, rtol=0)\n",
    "pd.merge(net4.res_bus[[\"vm_pu\", \"va_degree\"]], net5.res_bus[[\"vm_pu\", \"va_degree\"]], \n",
    "         left_index=True, right_index=True)"
   ]
  },
  {
   "cell_type": "markdown",
   "metadata": {},
   "source": [
    "Also in the case of the 3-winding transformers, the results for direct calculation in pandapower and in controllers match."
   ]
  },
  {
   "cell_type": "markdown",
   "metadata": {},
   "source": [
    "# Undefined characteristics"
   ]
  },
  {
   "cell_type": "markdown",
   "metadata": {},
   "source": [
    "If some transformers have characteristics that do not define all columns, the missing characteristics are ignored by default. However, if **tap_dependency_table** is set to True, one or more characteristics are missing, a warning is issued, followed by an error during the load flow calculation."
   ]
  },
  {
   "cell_type": "code",
   "execution_count": 23,
   "metadata": {
    "ExecuteTime": {
     "end_time": "2024-12-20T17:37:14.422748Z",
     "start_time": "2024-12-20T17:37:14.356399Z"
    }
   },
   "outputs": [],
   "source": [
    "net6 = create_net()"
   ]
  },
  {
   "cell_type": "code",
   "execution_count": 24,
   "metadata": {
    "ExecuteTime": {
     "end_time": "2024-12-20T17:37:19.399723Z",
     "start_time": "2024-12-20T17:37:19.357132Z"
    }
   },
   "outputs": [
    {
     "name": "stderr",
     "output_type": "stream",
     "text": [
      "C:\\Users\\gjmal\\PycharmProjects\\pandapower-develop\\pandapower\\pandapower\\control\\util\\auxiliary.py:263: FutureWarning: DataFrame.applymap has been deprecated. Use DataFrame.map instead.\n",
      "  net[\"trafo_characteristic_spline\"] = net[\"trafo_characteristic_spline_temp\"].applymap(\n"
     ]
    },
    {
     "data": {
      "text/html": [
       "<div>\n",
       "<style scoped>\n",
       "    .dataframe tbody tr th:only-of-type {\n",
       "        vertical-align: middle;\n",
       "    }\n",
       "\n",
       "    .dataframe tbody tr th {\n",
       "        vertical-align: top;\n",
       "    }\n",
       "\n",
       "    .dataframe thead th {\n",
       "        text-align: right;\n",
       "    }\n",
       "</style>\n",
       "<table border=\"1\" class=\"dataframe\">\n",
       "  <thead>\n",
       "    <tr style=\"text-align: right;\">\n",
       "      <th></th>\n",
       "      <th>name</th>\n",
       "      <th>std_type</th>\n",
       "      <th>hv_bus</th>\n",
       "      <th>lv_bus</th>\n",
       "      <th>sn_mva</th>\n",
       "      <th>vn_hv_kv</th>\n",
       "      <th>vn_lv_kv</th>\n",
       "      <th>vk_percent</th>\n",
       "      <th>vkr_percent</th>\n",
       "      <th>pfe_kw</th>\n",
       "      <th>...</th>\n",
       "      <th>tap_step_percent</th>\n",
       "      <th>tap_step_degree</th>\n",
       "      <th>tap_pos</th>\n",
       "      <th>tap_changer_type</th>\n",
       "      <th>id_characteristic_table</th>\n",
       "      <th>tap_dependency_table</th>\n",
       "      <th>parallel</th>\n",
       "      <th>df</th>\n",
       "      <th>in_service</th>\n",
       "      <th>id_characteristic_spline</th>\n",
       "    </tr>\n",
       "  </thead>\n",
       "  <tbody>\n",
       "    <tr>\n",
       "      <th>0</th>\n",
       "      <td>None</td>\n",
       "      <td>0.25 MVA 20/0.4 kV</td>\n",
       "      <td>1</td>\n",
       "      <td>2</td>\n",
       "      <td>0.25</td>\n",
       "      <td>20.0</td>\n",
       "      <td>0.4</td>\n",
       "      <td>6.0</td>\n",
       "      <td>1.44</td>\n",
       "      <td>0.8</td>\n",
       "      <td>...</td>\n",
       "      <td>2.5</td>\n",
       "      <td>0.0</td>\n",
       "      <td>2</td>\n",
       "      <td>Ratio</td>\n",
       "      <td>0</td>\n",
       "      <td>True</td>\n",
       "      <td>1</td>\n",
       "      <td>1.0</td>\n",
       "      <td>True</td>\n",
       "      <td>0</td>\n",
       "    </tr>\n",
       "    <tr>\n",
       "      <th>1</th>\n",
       "      <td>None</td>\n",
       "      <td>0.25 MVA 20/0.4 kV</td>\n",
       "      <td>1</td>\n",
       "      <td>3</td>\n",
       "      <td>0.25</td>\n",
       "      <td>20.0</td>\n",
       "      <td>0.4</td>\n",
       "      <td>6.0</td>\n",
       "      <td>1.44</td>\n",
       "      <td>0.8</td>\n",
       "      <td>...</td>\n",
       "      <td>2.5</td>\n",
       "      <td>0.0</td>\n",
       "      <td>2</td>\n",
       "      <td>Ratio</td>\n",
       "      <td>1</td>\n",
       "      <td>False</td>\n",
       "      <td>1</td>\n",
       "      <td>1.0</td>\n",
       "      <td>True</td>\n",
       "      <td>1</td>\n",
       "    </tr>\n",
       "  </tbody>\n",
       "</table>\n",
       "<p>2 rows × 26 columns</p>\n",
       "</div>"
      ],
      "text/plain": [
       "   name            std_type  hv_bus  lv_bus  sn_mva  vn_hv_kv  vn_lv_kv  \\\n",
       "0  None  0.25 MVA 20/0.4 kV       1       2    0.25      20.0       0.4   \n",
       "1  None  0.25 MVA 20/0.4 kV       1       3    0.25      20.0       0.4   \n",
       "\n",
       "   vk_percent  vkr_percent  pfe_kw  ...  tap_step_percent  tap_step_degree  \\\n",
       "0         6.0         1.44     0.8  ...               2.5              0.0   \n",
       "1         6.0         1.44     0.8  ...               2.5              0.0   \n",
       "\n",
       "  tap_pos  tap_changer_type  id_characteristic_table  tap_dependency_table  \\\n",
       "0       2             Ratio                        0                  True   \n",
       "1       2             Ratio                        1                 False   \n",
       "\n",
       "   parallel   df  in_service id_characteristic_spline  \n",
       "0         1  1.0        True                        0  \n",
       "1         1  1.0        True                        1  \n",
       "\n",
       "[2 rows x 26 columns]"
      ]
     },
     "execution_count": 24,
     "metadata": {},
     "output_type": "execute_result"
    }
   ],
   "source": [
    "\n",
    "net6.trafo.loc[1,\"tap_dependency_table\"] = False\n",
    "net6[\"trafo_characteristic_table\"].loc[net[\"trafo_characteristic_table\"][\"id_characteristic\"]==1, \"vk_percent\"] = np.nan\n",
    "pp.control.create_trafo_characteristic_object(net6)\n",
    "net6.trafo"
   ]
  },
  {
   "cell_type": "code",
   "execution_count": 25,
   "metadata": {},
   "outputs": [
    {
     "name": "stdout",
     "output_type": "stream",
     "text": [
      "16.4 ms ± 571 μs per loop (mean ± std. dev. of 7 runs, 100 loops each)\n"
     ]
    }
   ],
   "source": [
    "%timeit pp.runpp(net6)"
   ]
  },
  {
   "cell_type": "code",
   "execution_count": 26,
   "metadata": {
    "ExecuteTime": {
     "end_time": "2024-12-20T17:43:17.642926Z",
     "start_time": "2024-12-20T17:43:17.612158Z"
    }
   },
   "outputs": [],
   "source": [
    "#this would raise a warning:\n",
    "#net6.trafo.loc[1,\"tap_dependency_table\"] = True\n",
    "#pp.control.util.diagnostic.trafo_characteristic_table_diagnostic(net6)"
   ]
  },
  {
   "cell_type": "code",
   "execution_count": 27,
   "metadata": {
    "ExecuteTime": {
     "end_time": "2024-12-20T17:43:46.478925Z",
     "start_time": "2024-12-20T17:43:45.929423Z"
    }
   },
   "outputs": [],
   "source": [
    "#this would raise an error:\n",
    "#pp.runpp(net6)"
   ]
  },
  {
   "cell_type": "markdown",
   "metadata": {},
   "source": [
    "# Creating transformers with characteristics"
   ]
  },
  {
   "cell_type": "markdown",
   "metadata": {},
   "source": [
    "The functions to create transformers have been updated to include the parameters **tap_dependency_table** and **id_characteristic_table** in trasformer which help to create the characteristics object and add the references to the **id_characteristic_spline** in trasformer using **create_trafo_characteristic_object** function."
   ]
  },
  {
   "cell_type": "code",
   "execution_count": 28,
   "metadata": {
    "ExecuteTime": {
     "end_time": "2024-12-20T17:44:19.510715Z",
     "start_time": "2024-12-20T17:44:19.432374Z"
    }
   },
   "outputs": [],
   "source": [
    "net_create = create_net()"
   ]
  },
  {
   "cell_type": "code",
   "execution_count": 29,
   "metadata": {
    "ExecuteTime": {
     "end_time": "2024-12-20T17:44:21.886472Z",
     "start_time": "2024-12-20T17:44:21.856974Z"
    }
   },
   "outputs": [
    {
     "data": {
      "text/html": [
       "<div>\n",
       "<style scoped>\n",
       "    .dataframe tbody tr th:only-of-type {\n",
       "        vertical-align: middle;\n",
       "    }\n",
       "\n",
       "    .dataframe tbody tr th {\n",
       "        vertical-align: top;\n",
       "    }\n",
       "\n",
       "    .dataframe thead th {\n",
       "        text-align: right;\n",
       "    }\n",
       "</style>\n",
       "<table border=\"1\" class=\"dataframe\">\n",
       "  <thead>\n",
       "    <tr style=\"text-align: right;\">\n",
       "      <th></th>\n",
       "      <th>name</th>\n",
       "      <th>std_type</th>\n",
       "      <th>hv_bus</th>\n",
       "      <th>lv_bus</th>\n",
       "      <th>sn_mva</th>\n",
       "      <th>vn_hv_kv</th>\n",
       "      <th>vn_lv_kv</th>\n",
       "      <th>vk_percent</th>\n",
       "      <th>vkr_percent</th>\n",
       "      <th>pfe_kw</th>\n",
       "      <th>...</th>\n",
       "      <th>tap_max</th>\n",
       "      <th>tap_step_percent</th>\n",
       "      <th>tap_step_degree</th>\n",
       "      <th>tap_pos</th>\n",
       "      <th>tap_changer_type</th>\n",
       "      <th>id_characteristic_table</th>\n",
       "      <th>tap_dependency_table</th>\n",
       "      <th>parallel</th>\n",
       "      <th>df</th>\n",
       "      <th>in_service</th>\n",
       "    </tr>\n",
       "  </thead>\n",
       "  <tbody>\n",
       "    <tr>\n",
       "      <th>0</th>\n",
       "      <td>None</td>\n",
       "      <td>0.25 MVA 20/0.4 kV</td>\n",
       "      <td>1</td>\n",
       "      <td>2</td>\n",
       "      <td>0.25</td>\n",
       "      <td>20.0</td>\n",
       "      <td>0.4</td>\n",
       "      <td>6.0</td>\n",
       "      <td>1.44</td>\n",
       "      <td>0.8</td>\n",
       "      <td>...</td>\n",
       "      <td>2</td>\n",
       "      <td>2.5</td>\n",
       "      <td>0.0</td>\n",
       "      <td>2</td>\n",
       "      <td>Ratio</td>\n",
       "      <td>0</td>\n",
       "      <td>True</td>\n",
       "      <td>1</td>\n",
       "      <td>1.0</td>\n",
       "      <td>True</td>\n",
       "    </tr>\n",
       "    <tr>\n",
       "      <th>1</th>\n",
       "      <td>None</td>\n",
       "      <td>0.25 MVA 20/0.4 kV</td>\n",
       "      <td>1</td>\n",
       "      <td>3</td>\n",
       "      <td>0.25</td>\n",
       "      <td>20.0</td>\n",
       "      <td>0.4</td>\n",
       "      <td>6.0</td>\n",
       "      <td>1.44</td>\n",
       "      <td>0.8</td>\n",
       "      <td>...</td>\n",
       "      <td>2</td>\n",
       "      <td>2.5</td>\n",
       "      <td>0.0</td>\n",
       "      <td>2</td>\n",
       "      <td>Ratio</td>\n",
       "      <td>1</td>\n",
       "      <td>True</td>\n",
       "      <td>1</td>\n",
       "      <td>1.0</td>\n",
       "      <td>True</td>\n",
       "    </tr>\n",
       "  </tbody>\n",
       "</table>\n",
       "<p>2 rows × 25 columns</p>\n",
       "</div>"
      ],
      "text/plain": [
       "   name            std_type  hv_bus  lv_bus  sn_mva  vn_hv_kv  vn_lv_kv  \\\n",
       "0  None  0.25 MVA 20/0.4 kV       1       2    0.25      20.0       0.4   \n",
       "1  None  0.25 MVA 20/0.4 kV       1       3    0.25      20.0       0.4   \n",
       "\n",
       "   vk_percent  vkr_percent  pfe_kw  ...  tap_max  tap_step_percent  \\\n",
       "0         6.0         1.44     0.8  ...        2               2.5   \n",
       "1         6.0         1.44     0.8  ...        2               2.5   \n",
       "\n",
       "  tap_step_degree  tap_pos  tap_changer_type  id_characteristic_table  \\\n",
       "0             0.0        2             Ratio                        0   \n",
       "1             0.0        2             Ratio                        1   \n",
       "\n",
       "   tap_dependency_table  parallel   df in_service  \n",
       "0                  True         1  1.0       True  \n",
       "1                  True         1  1.0       True  \n",
       "\n",
       "[2 rows x 25 columns]"
      ]
     },
     "execution_count": 29,
     "metadata": {},
     "output_type": "execute_result"
    }
   ],
   "source": [
    "net_create.trafo"
   ]
  },
  {
   "cell_type": "code",
   "execution_count": 30,
   "metadata": {
    "ExecuteTime": {
     "end_time": "2024-12-20T17:44:24.855664Z",
     "start_time": "2024-12-20T17:44:24.815328Z"
    }
   },
   "outputs": [
    {
     "name": "stderr",
     "output_type": "stream",
     "text": [
      "C:\\Users\\gjmal\\PycharmProjects\\pandapower-develop\\pandapower\\pandapower\\control\\util\\auxiliary.py:263: FutureWarning: DataFrame.applymap has been deprecated. Use DataFrame.map instead.\n",
      "  net[\"trafo_characteristic_spline\"] = net[\"trafo_characteristic_spline_temp\"].applymap(\n"
     ]
    }
   ],
   "source": [
    "pp.create_transformer(net_create, hv_bus=net_create.trafo.at[0, 'hv_bus'],\n",
    "                      lv_bus=net_create.trafo.at[0, 'lv_bus'], std_type=\"0.25 MVA 20/0.4 kV\", tap_pos=2, \n",
    "                      tap_dependency_table=True, id_characteristic_table = 0)\n",
    "pp.control.create_trafo_characteristic_object(net_create)"
   ]
  },
  {
   "cell_type": "code",
   "execution_count": 31,
   "metadata": {
    "ExecuteTime": {
     "end_time": "2024-12-20T17:44:28.708038Z",
     "start_time": "2024-12-20T17:44:28.678060Z"
    }
   },
   "outputs": [
    {
     "data": {
      "text/html": [
       "<div>\n",
       "<style scoped>\n",
       "    .dataframe tbody tr th:only-of-type {\n",
       "        vertical-align: middle;\n",
       "    }\n",
       "\n",
       "    .dataframe tbody tr th {\n",
       "        vertical-align: top;\n",
       "    }\n",
       "\n",
       "    .dataframe thead th {\n",
       "        text-align: right;\n",
       "    }\n",
       "</style>\n",
       "<table border=\"1\" class=\"dataframe\">\n",
       "  <thead>\n",
       "    <tr style=\"text-align: right;\">\n",
       "      <th></th>\n",
       "      <th>name</th>\n",
       "      <th>std_type</th>\n",
       "      <th>hv_bus</th>\n",
       "      <th>lv_bus</th>\n",
       "      <th>sn_mva</th>\n",
       "      <th>vn_hv_kv</th>\n",
       "      <th>vn_lv_kv</th>\n",
       "      <th>vk_percent</th>\n",
       "      <th>vkr_percent</th>\n",
       "      <th>pfe_kw</th>\n",
       "      <th>...</th>\n",
       "      <th>tap_step_percent</th>\n",
       "      <th>tap_step_degree</th>\n",
       "      <th>tap_pos</th>\n",
       "      <th>tap_changer_type</th>\n",
       "      <th>id_characteristic_table</th>\n",
       "      <th>tap_dependency_table</th>\n",
       "      <th>parallel</th>\n",
       "      <th>df</th>\n",
       "      <th>in_service</th>\n",
       "      <th>id_characteristic_spline</th>\n",
       "    </tr>\n",
       "  </thead>\n",
       "  <tbody>\n",
       "    <tr>\n",
       "      <th>0</th>\n",
       "      <td>None</td>\n",
       "      <td>0.25 MVA 20/0.4 kV</td>\n",
       "      <td>1</td>\n",
       "      <td>2</td>\n",
       "      <td>0.25</td>\n",
       "      <td>20.0</td>\n",
       "      <td>0.4</td>\n",
       "      <td>6.0</td>\n",
       "      <td>1.44</td>\n",
       "      <td>0.8</td>\n",
       "      <td>...</td>\n",
       "      <td>2.5</td>\n",
       "      <td>0.0</td>\n",
       "      <td>2</td>\n",
       "      <td>Ratio</td>\n",
       "      <td>0</td>\n",
       "      <td>True</td>\n",
       "      <td>1</td>\n",
       "      <td>1.0</td>\n",
       "      <td>True</td>\n",
       "      <td>0</td>\n",
       "    </tr>\n",
       "    <tr>\n",
       "      <th>1</th>\n",
       "      <td>None</td>\n",
       "      <td>0.25 MVA 20/0.4 kV</td>\n",
       "      <td>1</td>\n",
       "      <td>3</td>\n",
       "      <td>0.25</td>\n",
       "      <td>20.0</td>\n",
       "      <td>0.4</td>\n",
       "      <td>6.0</td>\n",
       "      <td>1.44</td>\n",
       "      <td>0.8</td>\n",
       "      <td>...</td>\n",
       "      <td>2.5</td>\n",
       "      <td>0.0</td>\n",
       "      <td>2</td>\n",
       "      <td>Ratio</td>\n",
       "      <td>1</td>\n",
       "      <td>True</td>\n",
       "      <td>1</td>\n",
       "      <td>1.0</td>\n",
       "      <td>True</td>\n",
       "      <td>1</td>\n",
       "    </tr>\n",
       "    <tr>\n",
       "      <th>2</th>\n",
       "      <td>None</td>\n",
       "      <td>0.25 MVA 20/0.4 kV</td>\n",
       "      <td>1</td>\n",
       "      <td>2</td>\n",
       "      <td>0.25</td>\n",
       "      <td>20.0</td>\n",
       "      <td>0.4</td>\n",
       "      <td>6.0</td>\n",
       "      <td>1.44</td>\n",
       "      <td>0.8</td>\n",
       "      <td>...</td>\n",
       "      <td>2.5</td>\n",
       "      <td>0.0</td>\n",
       "      <td>2</td>\n",
       "      <td>Ratio</td>\n",
       "      <td>0</td>\n",
       "      <td>True</td>\n",
       "      <td>1</td>\n",
       "      <td>1.0</td>\n",
       "      <td>True</td>\n",
       "      <td>0</td>\n",
       "    </tr>\n",
       "  </tbody>\n",
       "</table>\n",
       "<p>3 rows × 26 columns</p>\n",
       "</div>"
      ],
      "text/plain": [
       "   name            std_type  hv_bus  lv_bus  sn_mva  vn_hv_kv  vn_lv_kv  \\\n",
       "0  None  0.25 MVA 20/0.4 kV       1       2    0.25      20.0       0.4   \n",
       "1  None  0.25 MVA 20/0.4 kV       1       3    0.25      20.0       0.4   \n",
       "2  None  0.25 MVA 20/0.4 kV       1       2    0.25      20.0       0.4   \n",
       "\n",
       "   vk_percent  vkr_percent  pfe_kw  ...  tap_step_percent  tap_step_degree  \\\n",
       "0         6.0         1.44     0.8  ...               2.5              0.0   \n",
       "1         6.0         1.44     0.8  ...               2.5              0.0   \n",
       "2         6.0         1.44     0.8  ...               2.5              0.0   \n",
       "\n",
       "  tap_pos  tap_changer_type  id_characteristic_table  tap_dependency_table  \\\n",
       "0       2             Ratio                        0                  True   \n",
       "1       2             Ratio                        1                  True   \n",
       "2       2             Ratio                        0                  True   \n",
       "\n",
       "   parallel   df  in_service id_characteristic_spline  \n",
       "0         1  1.0        True                        0  \n",
       "1         1  1.0        True                        1  \n",
       "2         1  1.0        True                        0  \n",
       "\n",
       "[3 rows x 26 columns]"
      ]
     },
     "execution_count": 31,
     "metadata": {},
     "output_type": "execute_result"
    }
   ],
   "source": [
    "net_create.trafo"
   ]
  },
  {
   "cell_type": "code",
   "execution_count": 32,
   "metadata": {
    "ExecuteTime": {
     "end_time": "2024-12-20T17:45:01.700203Z",
     "start_time": "2024-12-20T17:45:01.637071Z"
    }
   },
   "outputs": [],
   "source": [
    "pp.runpp(net_create)"
   ]
  },
  {
   "cell_type": "markdown",
   "metadata": {},
   "source": [
    "# File I/O"
   ]
  },
  {
   "cell_type": "markdown",
   "metadata": {},
   "source": [
    "The file I/O for characteristics is now implemented via adding the characteristic table:"
   ]
  },
  {
   "cell_type": "code",
   "execution_count": 33,
   "metadata": {
    "ExecuteTime": {
     "end_time": "2024-12-20T17:55:39.913632Z",
     "start_time": "2024-12-20T17:55:39.576372Z"
    }
   },
   "outputs": [
    {
     "name": "stderr",
     "output_type": "stream",
     "text": [
      "C:\\Users\\gjmal\\PycharmProjects\\pandapower-develop\\pandapower\\pandapower\\control\\util\\auxiliary.py:263: FutureWarning: DataFrame.applymap has been deprecated. Use DataFrame.map instead.\n",
      "  net[\"trafo_characteristic_spline\"] = net[\"trafo_characteristic_spline_temp\"].applymap(\n"
     ]
    },
    {
     "data": {
      "text/html": [
       "<div>\n",
       "<style scoped>\n",
       "    .dataframe tbody tr th:only-of-type {\n",
       "        vertical-align: middle;\n",
       "    }\n",
       "\n",
       "    .dataframe tbody tr th {\n",
       "        vertical-align: top;\n",
       "    }\n",
       "\n",
       "    .dataframe thead th {\n",
       "        text-align: right;\n",
       "    }\n",
       "</style>\n",
       "<table border=\"1\" class=\"dataframe\">\n",
       "  <thead>\n",
       "    <tr style=\"text-align: right;\">\n",
       "      <th></th>\n",
       "      <th>id_characteristic</th>\n",
       "      <th>voltage_ratio_characteristic</th>\n",
       "      <th>angle_deg_characteristic</th>\n",
       "      <th>vk_percent_characteristic</th>\n",
       "      <th>vkr_percent_characteristic</th>\n",
       "      <th>vk_hv_percent_characteristic</th>\n",
       "      <th>vkr_hv_percent_characteristic</th>\n",
       "      <th>vk_mv_percent_characteristic</th>\n",
       "      <th>vkr_mv_percent_characteristic</th>\n",
       "      <th>vk_lv_percent_characteristic</th>\n",
       "      <th>vkr_lv_percent_characteristic</th>\n",
       "    </tr>\n",
       "  </thead>\n",
       "  <tbody>\n",
       "    <tr>\n",
       "      <th>0</th>\n",
       "      <td>0</td>\n",
       "      <td>SplineCharacteristic</td>\n",
       "      <td>SplineCharacteristic</td>\n",
       "      <td>SplineCharacteristic</td>\n",
       "      <td>SplineCharacteristic</td>\n",
       "      <td>&lt;NA&gt;</td>\n",
       "      <td>&lt;NA&gt;</td>\n",
       "      <td>&lt;NA&gt;</td>\n",
       "      <td>&lt;NA&gt;</td>\n",
       "      <td>&lt;NA&gt;</td>\n",
       "      <td>&lt;NA&gt;</td>\n",
       "    </tr>\n",
       "  </tbody>\n",
       "</table>\n",
       "</div>"
      ],
      "text/plain": [
       "   id_characteristic voltage_ratio_characteristic angle_deg_characteristic  \\\n",
       "0                  0         SplineCharacteristic     SplineCharacteristic   \n",
       "\n",
       "  vk_percent_characteristic vkr_percent_characteristic  \\\n",
       "0      SplineCharacteristic       SplineCharacteristic   \n",
       "\n",
       "  vk_hv_percent_characteristic vkr_hv_percent_characteristic  \\\n",
       "0                         <NA>                          <NA>   \n",
       "\n",
       "  vk_mv_percent_characteristic vkr_mv_percent_characteristic  \\\n",
       "0                         <NA>                          <NA>   \n",
       "\n",
       "  vk_lv_percent_characteristic vkr_lv_percent_characteristic  \n",
       "0                         <NA>                          <NA>  "
      ]
     },
     "execution_count": 33,
     "metadata": {},
     "output_type": "execute_result"
    }
   ],
   "source": [
    "net2 = pp.from_json_string(pp.to_json(net))\n",
    "pp.control.create_trafo_characteristic_object(net2) # need to recreate the object becuase it is binary\n",
    "\n",
    "net2[\"trafo_characteristic_spline\"]"
   ]
  },
  {
   "cell_type": "markdown",
   "metadata": {},
   "source": [
    "De-serialization is working:"
   ]
  },
  {
   "cell_type": "code",
   "execution_count": 34,
   "metadata": {
    "ExecuteTime": {
     "end_time": "2024-12-20T17:56:29.525917Z",
     "start_time": "2024-12-20T17:56:29.324462Z"
    }
   },
   "outputs": [
    {
     "data": {
      "image/png": "[encoded data removed]",
      "text/plain": [
       "<Figure size 640x480 with 1 Axes>"
      ]
     },
     "metadata": {},
     "output_type": "display_data"
    }
   ],
   "source": [
    "pp.control.plot_characteristic(net2[\"trafo_characteristic_spline\"][\"vk_percent_characteristic\"].loc[0], -2, 2,\n",
    "                               xlabel='Tap position \"tap_pos\"', ylabel='Value of \"vk_percent\"')"
   ]
  },
  {
   "cell_type": "markdown",
   "metadata": {},
   "source": [
    "# Diagnostic"
   ]
  },
  {
   "cell_type": "markdown",
   "metadata": {},
   "source": [
    "The diagnostic function for transformer characteristics checks the following:\n",
    " \n",
    "* Are there transformer characteristic table and tap-dependent characteristics?\n",
    "* Are any characteristics missing?\n",
    "* Are there **tap_dependency_table**, **tap_changer_type** and **id_characteristic_table** missing in net.trafo or net.trafo3w?\n",
    "* Check if all relevant columns for creating transformer characteristics are populated in the **trafo_characteristic_table**\n",
    "* Check the data types of **tap_dependency_table** and **id_characteristic_table**\n",
    "* Are there any missing **id_characteristic_table** values in the **trafo_characteristic_table**?\n",
    "\n",
    "The results are displayed to the user with the help of warning statements."
   ]
  },
  {
   "cell_type": "code",
   "execution_count": 35,
   "metadata": {
    "ExecuteTime": {
     "end_time": "2024-12-20T17:56:33.968743Z",
     "start_time": "2024-12-20T17:56:33.939315Z"
    }
   },
   "outputs": [
    {
     "data": {
      "text/html": [
       "<div>\n",
       "<style scoped>\n",
       "    .dataframe tbody tr th:only-of-type {\n",
       "        vertical-align: middle;\n",
       "    }\n",
       "\n",
       "    .dataframe tbody tr th {\n",
       "        vertical-align: top;\n",
       "    }\n",
       "\n",
       "    .dataframe thead th {\n",
       "        text-align: right;\n",
       "    }\n",
       "</style>\n",
       "<table border=\"1\" class=\"dataframe\">\n",
       "  <thead>\n",
       "    <tr style=\"text-align: right;\">\n",
       "      <th></th>\n",
       "      <th>name</th>\n",
       "      <th>std_type</th>\n",
       "      <th>hv_bus</th>\n",
       "      <th>lv_bus</th>\n",
       "      <th>sn_mva</th>\n",
       "      <th>vn_hv_kv</th>\n",
       "      <th>vn_lv_kv</th>\n",
       "      <th>vk_percent</th>\n",
       "      <th>vkr_percent</th>\n",
       "      <th>pfe_kw</th>\n",
       "      <th>...</th>\n",
       "      <th>tap_step_percent</th>\n",
       "      <th>tap_step_degree</th>\n",
       "      <th>tap_pos</th>\n",
       "      <th>tap_changer_type</th>\n",
       "      <th>id_characteristic_table</th>\n",
       "      <th>tap_dependency_table</th>\n",
       "      <th>parallel</th>\n",
       "      <th>df</th>\n",
       "      <th>in_service</th>\n",
       "      <th>id_characteristic_spline</th>\n",
       "    </tr>\n",
       "  </thead>\n",
       "  <tbody>\n",
       "    <tr>\n",
       "      <th>0</th>\n",
       "      <td>None</td>\n",
       "      <td>0.25 MVA 20/0.4 kV</td>\n",
       "      <td>1</td>\n",
       "      <td>2</td>\n",
       "      <td>0.25</td>\n",
       "      <td>20.0</td>\n",
       "      <td>0.4</td>\n",
       "      <td>7.0</td>\n",
       "      <td>1.60</td>\n",
       "      <td>0.8</td>\n",
       "      <td>...</td>\n",
       "      <td>2.5</td>\n",
       "      <td>0.0</td>\n",
       "      <td>2</td>\n",
       "      <td>Ratio</td>\n",
       "      <td>0</td>\n",
       "      <td>True</td>\n",
       "      <td>1</td>\n",
       "      <td>1.0</td>\n",
       "      <td>True</td>\n",
       "      <td>0</td>\n",
       "    </tr>\n",
       "    <tr>\n",
       "      <th>1</th>\n",
       "      <td>None</td>\n",
       "      <td>0.25 MVA 20/0.4 kV</td>\n",
       "      <td>1</td>\n",
       "      <td>3</td>\n",
       "      <td>0.25</td>\n",
       "      <td>20.0</td>\n",
       "      <td>0.4</td>\n",
       "      <td>6.0</td>\n",
       "      <td>1.44</td>\n",
       "      <td>0.8</td>\n",
       "      <td>...</td>\n",
       "      <td>2.5</td>\n",
       "      <td>0.0</td>\n",
       "      <td>2</td>\n",
       "      <td>Ratio</td>\n",
       "      <td>&lt;NA&gt;</td>\n",
       "      <td>False</td>\n",
       "      <td>1</td>\n",
       "      <td>1.0</td>\n",
       "      <td>True</td>\n",
       "      <td>1</td>\n",
       "    </tr>\n",
       "  </tbody>\n",
       "</table>\n",
       "<p>2 rows × 26 columns</p>\n",
       "</div>"
      ],
      "text/plain": [
       "   name            std_type  hv_bus  lv_bus  sn_mva  vn_hv_kv  vn_lv_kv  \\\n",
       "0  None  0.25 MVA 20/0.4 kV       1       2    0.25      20.0       0.4   \n",
       "1  None  0.25 MVA 20/0.4 kV       1       3    0.25      20.0       0.4   \n",
       "\n",
       "   vk_percent  vkr_percent  pfe_kw  ...  tap_step_percent  tap_step_degree  \\\n",
       "0         7.0         1.60     0.8  ...               2.5              0.0   \n",
       "1         6.0         1.44     0.8  ...               2.5              0.0   \n",
       "\n",
       "  tap_pos  tap_changer_type  id_characteristic_table  tap_dependency_table  \\\n",
       "0       2             Ratio                        0                  True   \n",
       "1       2             Ratio                     <NA>                 False   \n",
       "\n",
       "   parallel   df  in_service id_characteristic_spline  \n",
       "0         1  1.0        True                        0  \n",
       "1         1  1.0        True                        1  \n",
       "\n",
       "[2 rows x 26 columns]"
      ]
     },
     "execution_count": 35,
     "metadata": {},
     "output_type": "execute_result"
    }
   ],
   "source": [
    "net.trafo"
   ]
  },
  {
   "cell_type": "code",
   "execution_count": 36,
   "metadata": {
    "ExecuteTime": {
     "end_time": "2024-12-20T17:56:50.699233Z",
     "start_time": "2024-12-20T17:56:50.675600Z"
    }
   },
   "outputs": [
    {
     "data": {
      "text/plain": [
       "True"
      ]
     },
     "execution_count": 36,
     "metadata": {},
     "output_type": "execute_result"
    }
   ],
   "source": [
    "pp.control.util.diagnostic.trafo_characteristic_table_diagnostic(net)"
   ]
  },
  {
   "cell_type": "code",
   "execution_count": 37,
   "metadata": {
    "ExecuteTime": {
     "end_time": "2024-12-20T17:56:52.614616Z",
     "start_time": "2024-12-20T17:56:52.589803Z"
    }
   },
   "outputs": [
    {
     "name": "stderr",
     "output_type": "stream",
     "text": [
      "C:\\Users\\gjmal\\PycharmProjects\\pandapower-develop\\pandapower\\pandapower\\control\\util\\diagnostic.py:89: UserWarning: trafo: found 1 transformer(s) with not both tap_dependency_table and id_characteristic_table parameters populated. Power flow calculation will raise an error.\n",
      "  warnings.warn(f\"{trafo_table}: found {mismatch_a} transformer(s) with not both \"\n",
      "C:\\Users\\gjmal\\PycharmProjects\\pandapower-develop\\pandapower\\pandapower\\control\\util\\diagnostic.py:109: UserWarning: There are some transformers in the trafo table with not all characteristics populated in the trafo_characteristic_table.\n",
      "  warnings.warn(f\"There are some transformers in the {trafo_table} table with not all \"\n"
     ]
    },
    {
     "data": {
      "text/plain": [
       "False"
      ]
     },
     "execution_count": 37,
     "metadata": {},
     "output_type": "execute_result"
    }
   ],
   "source": [
    "pp.control.util.diagnostic.trafo_characteristic_table_diagnostic(net6)"
   ]
  },
  {
   "cell_type": "code",
   "execution_count": 38,
   "metadata": {
    "ExecuteTime": {
     "end_time": "2024-12-20T17:57:14.900419Z",
     "start_time": "2024-12-20T17:57:14.875212Z"
    }
   },
   "outputs": [
    {
     "name": "stderr",
     "output_type": "stream",
     "text": [
      "C:\\Users\\gjmal\\PycharmProjects\\pandapower-develop\\pandapower\\pandapower\\control\\util\\diagnostic.py:89: UserWarning: trafo: found 1 transformer(s) with not both tap_dependency_table and id_characteristic_table parameters populated. Power flow calculation will raise an error.\n",
      "  warnings.warn(f\"{trafo_table}: found {mismatch_a} transformer(s) with not both \"\n"
     ]
    },
    {
     "data": {
      "text/plain": [
       "False"
      ]
     },
     "execution_count": 38,
     "metadata": {},
     "output_type": "execute_result"
    }
   ],
   "source": [
    "net_diagnostics = net\n",
    "net_diagnostics.trafo.loc[0, \"id_characteristic_table\"] = None\n",
    "pp.control.util.diagnostic.trafo_characteristic_table_diagnostic(net_diagnostics)\n",
    "#UserWarning: trafo: found 1 transformer(s) with not both tap_dependency_table and id_characteristic_table parameters populated. Power flow calculation will raise an error.\n",
    "#  warnings.warn(f\"{trafo_table}: found {mismatch_a} transformer(s) with not both \""
   ]
  },
  {
   "cell_type": "code",
   "execution_count": 39,
   "metadata": {
    "ExecuteTime": {
     "end_time": "2024-12-20T17:57:32.606404Z",
     "start_time": "2024-12-20T17:57:32.577878Z"
    }
   },
   "outputs": [
    {
     "name": "stderr",
     "output_type": "stream",
     "text": [
      "C:\\Users\\gjmal\\PycharmProjects\\pandapower-develop\\pandapower\\pandapower\\control\\util\\diagnostic.py:98: UserWarning: trafo: found 1 transformer(s) with tap_dependency_table set to True and tap_changer_type parameter not populated. The characteristics from trafo_characteristic_table will not be considered.\n",
      "  warnings.warn(f\"{trafo_table}: found {mismatch_b} transformer(s) with tap_dependency_table set to \"\n"
     ]
    },
    {
     "data": {
      "text/plain": [
       "False"
      ]
     },
     "execution_count": 39,
     "metadata": {},
     "output_type": "execute_result"
    }
   ],
   "source": [
    "net_diagnostics.trafo.loc[0, \"id_characteristic_table\"] = 0\n",
    "net_diagnostics.trafo.loc[0, \"tap_changer_type\"] = None\n",
    "pp.control.util.diagnostic.trafo_characteristic_table_diagnostic(net_diagnostics)\n",
    "#UserWarning: trafo: found 1 transformer(s) with tap_dependency_table set to True and tap_changer_type parameter not populated. The characteristics from trafo_characteristic_table will not be considered.\n",
    " # warnings.warn(f\"{trafo_table}: found {mismatch_b} transformer(s) with tap_dependency_table set to \""
   ]
  },
  {
   "cell_type": "code",
   "execution_count": null,
   "metadata": {},
   "outputs": [],
   "source": []
  }
 ],
 "metadata": {
  "kernelspec": {
   "display_name": "Python 3 (ipykernel)",
   "language": "python",
   "name": "python3"
  },
  "language_info": {
   "codemirror_mode": {
    "name": "ipython",
    "version": 3
   },
   "file_extension": ".py",
   "mimetype": "text/x-python",
   "name": "python",
   "nbconvert_exporter": "python",
   "pygments_lexer": "ipython3",
   "version": "3.11.8"
  },
  "vscode": {
   "interpreter": {
    "hash": "19d1d53a962d236aa061289c2ac16dc8e6d9648c89fe79f459ae9a3493bc67b4"
   }
  }
 },
 "nbformat": 4,
 "nbformat_minor": 4
}
