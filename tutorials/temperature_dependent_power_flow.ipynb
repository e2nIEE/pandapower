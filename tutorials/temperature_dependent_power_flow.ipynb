{
 "cells": [
  {
   "cell_type": "markdown",
   "metadata": {},
   "source": [
    "# Temperature-Dependent Power Flow"
   ]
  },
  {
   "cell_type": "markdown",
   "metadata": {},
   "source": [
    "We implement Temperature-Dependent Power Flow (TDPF) in pandapower based on the following publications:\n",
    "\n",
    "S. Frank, J. Sexauer and S. Mohagheghi, \"Temperature-dependent power flow\", IEEE Transactions on Power Systems, vol. 28, no. 4, pp. 4007-4018, Nov 2013.\n",
    "\n",
    "B. Ngoko, H. Sugihara and T. Funaki, \"A Temperature Dependent Power Flow Model Considering Overhead Transmission Line Conductor Thermal Inertia Characteristics,\" 2019 IEEE International Conference on Environment and Electrical Engineering and 2019 IEEE Industrial and Commercial Power Systems Europe (EEEIC / I&CPS Europe), 2019, pp. 1-6, doi: 10.1109/EEEIC.2019.8783234.\n",
    "\n",
    "This tutorial demonstrates how to use this feature in pandapower in order to calculate temperature of overhead lines and also obtain the results of the TDPF with the adjusted line parameters. Furthermore, thermal inertia of overhead lines can be considered by specifying the time delay after which the temperature should be calculated. This implementation also supports the distributed slack power flow calculation.\n",
    "\n",
    "We use the approach from Frank et al. to calculate the thermal resistance of the lines and to define the Jacobian matrix and the mismatch eqiation. The approach of Ngoko et al. is used to update the thermal resistance based on the line current and the weather parameters, and to introduce the thermal delay term in the Jacobian matrix. This allows using both methods. Furthermore, the approach to use thermal resistance is more versatile because it allows expanding the implementation for underground cables and transformers in the future.\n",
    "\n",
    "This implementation will be of benefit for grid studies of Dynamic Line Rating (DLR). In addition, a calculation of a grid state at a specified time after an N-1 event provides additional capabilities for contingency studies and for obtaining emergency line ratings for a given grid. \n",
    "\n",
    "In this tutorial, we demonstrate the use of this feature with a small example.\n",
    "\n",
    "After importing the necessary libraries, we create a 5-bus power system (inspired by Ngoko et al.) that we use to demonstrate the calculation:"
   ]
  },
  {
   "cell_type": "code",
   "execution_count": 1,
   "metadata": {},
   "outputs": [],
   "source": [
    "import matplotlib.pyplot as plt\n",
    "import pandas as pd\n",
    "import pandapower as pp\n",
    "import pandapower.plotting\n",
    "from pandapower.test.loadflow.test_tdpf import simple_test_grid\n",
    "from pandapower.pf.create_jacobian_tdpf import *"
   ]
  },
  {
   "cell_type": "code",
   "execution_count": 2,
   "metadata": {},
   "outputs": [],
   "source": [
    "net = simple_test_grid(load_scaling=0.25, sgen_scaling=0.5, with_gen=True, distributed_slack=False)"
   ]
  },
  {
   "cell_type": "code",
   "execution_count": 3,
   "metadata": {},
   "outputs": [
    {
     "data": {
      "image/png": "[encoded data removed]",
      "text/plain": [
       "<Figure size 720x576 with 1 Axes>"
      ]
     },
     "metadata": {},
     "output_type": "display_data"
    },
    {
     "data": {
      "text/plain": [
       "<AxesSubplot:>"
      ]
     },
     "execution_count": 3,
     "metadata": {},
     "output_type": "execute_result"
    }
   ],
   "source": [
    "pp.plotting.simple_plot(net, plot_loads=True, plot_sgens=True, plot_gens=True, load_size=3, sgen_size=3, gen_size=3)"
   ]
  },
  {
   "cell_type": "code",
   "execution_count": 4,
   "metadata": {},
   "outputs": [
    {
     "data": {
      "text/html": [
       "<div>\n",
       "<style scoped>\n",
       "    .dataframe tbody tr th:only-of-type {\n",
       "        vertical-align: middle;\n",
       "    }\n",
       "\n",
       "    .dataframe tbody tr th {\n",
       "        vertical-align: top;\n",
       "    }\n",
       "\n",
       "    .dataframe thead th {\n",
       "        text-align: right;\n",
       "    }\n",
       "</style>\n",
       "<table border=\"1\" class=\"dataframe\">\n",
       "  <thead>\n",
       "    <tr style=\"text-align: right;\">\n",
       "      <th></th>\n",
       "      <th>p_from_mw</th>\n",
       "      <th>q_from_mvar</th>\n",
       "      <th>p_to_mw</th>\n",
       "      <th>q_to_mvar</th>\n",
       "      <th>pl_mw</th>\n",
       "      <th>ql_mvar</th>\n",
       "      <th>i_from_ka</th>\n",
       "      <th>i_to_ka</th>\n",
       "      <th>i_ka</th>\n",
       "      <th>vm_from_pu</th>\n",
       "      <th>va_from_degree</th>\n",
       "      <th>vm_to_pu</th>\n",
       "      <th>va_to_degree</th>\n",
       "      <th>loading_percent</th>\n",
       "    </tr>\n",
       "  </thead>\n",
       "  <tbody>\n",
       "    <tr>\n",
       "      <th>0</th>\n",
       "      <td>2.520700</td>\n",
       "      <td>56.677782</td>\n",
       "      <td>-2.264601</td>\n",
       "      <td>-55.071738</td>\n",
       "      <td>0.256099</td>\n",
       "      <td>1.606044</td>\n",
       "      <td>0.241507</td>\n",
       "      <td>0.241507</td>\n",
       "      <td>0.241507</td>\n",
       "      <td>1.027490</td>\n",
       "      <td>2.981261</td>\n",
       "      <td>0.998232</td>\n",
       "      <td>3.173039</td>\n",
       "      <td>25.156976</td>\n",
       "    </tr>\n",
       "    <tr>\n",
       "      <th>1</th>\n",
       "      <td>97.479300</td>\n",
       "      <td>-56.677782</td>\n",
       "      <td>-96.467660</td>\n",
       "      <td>63.021966</td>\n",
       "      <td>1.011640</td>\n",
       "      <td>6.344184</td>\n",
       "      <td>0.479997</td>\n",
       "      <td>0.479997</td>\n",
       "      <td>0.479997</td>\n",
       "      <td>1.027490</td>\n",
       "      <td>2.981261</td>\n",
       "      <td>1.050000</td>\n",
       "      <td>0.000000</td>\n",
       "      <td>49.999724</td>\n",
       "    </tr>\n",
       "    <tr>\n",
       "      <th>2</th>\n",
       "      <td>-88.710098</td>\n",
       "      <td>11.671945</td>\n",
       "      <td>89.248383</td>\n",
       "      <td>-8.296260</td>\n",
       "      <td>0.538285</td>\n",
       "      <td>3.375684</td>\n",
       "      <td>0.392043</td>\n",
       "      <td>0.392043</td>\n",
       "      <td>0.392043</td>\n",
       "      <td>0.998232</td>\n",
       "      <td>3.173039</td>\n",
       "      <td>1.000000</td>\n",
       "      <td>5.357838</td>\n",
       "      <td>40.837850</td>\n",
       "    </tr>\n",
       "    <tr>\n",
       "      <th>3</th>\n",
       "      <td>65.974699</td>\n",
       "      <td>-16.600207</td>\n",
       "      <td>-65.779624</td>\n",
       "      <td>17.823557</td>\n",
       "      <td>0.195075</td>\n",
       "      <td>1.223350</td>\n",
       "      <td>0.298086</td>\n",
       "      <td>0.298086</td>\n",
       "      <td>0.298086</td>\n",
       "      <td>0.998232</td>\n",
       "      <td>3.173039</td>\n",
       "      <td>1.000000</td>\n",
       "      <td>2.135568</td>\n",
       "      <td>31.050611</td>\n",
       "    </tr>\n",
       "    <tr>\n",
       "      <th>4</th>\n",
       "      <td>210.751617</td>\n",
       "      <td>-141.687706</td>\n",
       "      <td>-206.430677</td>\n",
       "      <td>168.785130</td>\n",
       "      <td>4.320941</td>\n",
       "      <td>27.097424</td>\n",
       "      <td>1.110752</td>\n",
       "      <td>1.110752</td>\n",
       "      <td>1.110752</td>\n",
       "      <td>1.000000</td>\n",
       "      <td>5.357838</td>\n",
       "      <td>1.050000</td>\n",
       "      <td>0.000000</td>\n",
       "      <td>115.703355</td>\n",
       "    </tr>\n",
       "    <tr>\n",
       "      <th>5</th>\n",
       "      <td>-113.442497</td>\n",
       "      <td>220.182604</td>\n",
       "      <td>115.779624</td>\n",
       "      <td>-205.526046</td>\n",
       "      <td>2.337127</td>\n",
       "      <td>14.656558</td>\n",
       "      <td>1.031768</td>\n",
       "      <td>1.031768</td>\n",
       "      <td>1.031768</td>\n",
       "      <td>1.050000</td>\n",
       "      <td>0.000000</td>\n",
       "      <td>1.000000</td>\n",
       "      <td>2.135568</td>\n",
       "      <td>107.475804</td>\n",
       "    </tr>\n",
       "  </tbody>\n",
       "</table>\n",
       "</div>"
      ],
      "text/plain": [
       "    p_from_mw  q_from_mvar     p_to_mw   q_to_mvar     pl_mw    ql_mvar  \\\n",
       "0    2.520700    56.677782   -2.264601  -55.071738  0.256099   1.606044   \n",
       "1   97.479300   -56.677782  -96.467660   63.021966  1.011640   6.344184   \n",
       "2  -88.710098    11.671945   89.248383   -8.296260  0.538285   3.375684   \n",
       "3   65.974699   -16.600207  -65.779624   17.823557  0.195075   1.223350   \n",
       "4  210.751617  -141.687706 -206.430677  168.785130  4.320941  27.097424   \n",
       "5 -113.442497   220.182604  115.779624 -205.526046  2.337127  14.656558   \n",
       "\n",
       "   i_from_ka   i_to_ka      i_ka  vm_from_pu  va_from_degree  vm_to_pu  \\\n",
       "0   0.241507  0.241507  0.241507    1.027490        2.981261  0.998232   \n",
       "1   0.479997  0.479997  0.479997    1.027490        2.981261  1.050000   \n",
       "2   0.392043  0.392043  0.392043    0.998232        3.173039  1.000000   \n",
       "3   0.298086  0.298086  0.298086    0.998232        3.173039  1.000000   \n",
       "4   1.110752  1.110752  1.110752    1.000000        5.357838  1.050000   \n",
       "5   1.031768  1.031768  1.031768    1.050000        0.000000  1.000000   \n",
       "\n",
       "   va_to_degree  loading_percent  \n",
       "0      3.173039        25.156976  \n",
       "1      0.000000        49.999724  \n",
       "2      5.357838        40.837850  \n",
       "3      2.135568        31.050611  \n",
       "4      0.000000       115.703355  \n",
       "5      2.135568       107.475804  "
      ]
     },
     "execution_count": 4,
     "metadata": {},
     "output_type": "execute_result"
    }
   ],
   "source": [
    "pp.runpp(net)\n",
    "net.res_line"
   ]
  },
  {
   "cell_type": "code",
   "execution_count": 5,
   "metadata": {},
   "outputs": [
    {
     "data": {
      "text/html": [
       "<div>\n",
       "<style scoped>\n",
       "    .dataframe tbody tr th:only-of-type {\n",
       "        vertical-align: middle;\n",
       "    }\n",
       "\n",
       "    .dataframe tbody tr th {\n",
       "        vertical-align: top;\n",
       "    }\n",
       "\n",
       "    .dataframe thead th {\n",
       "        text-align: right;\n",
       "    }\n",
       "</style>\n",
       "<table border=\"1\" class=\"dataframe\">\n",
       "  <thead>\n",
       "    <tr style=\"text-align: right;\">\n",
       "      <th></th>\n",
       "      <th>vm_pu</th>\n",
       "      <th>va_degree</th>\n",
       "      <th>p_mw</th>\n",
       "      <th>q_mvar</th>\n",
       "    </tr>\n",
       "  </thead>\n",
       "  <tbody>\n",
       "    <tr>\n",
       "      <th>0</th>\n",
       "      <td>1.027490</td>\n",
       "      <td>2.981261</td>\n",
       "      <td>-100.000000</td>\n",
       "      <td>-0.000000</td>\n",
       "    </tr>\n",
       "    <tr>\n",
       "      <th>1</th>\n",
       "      <td>0.998232</td>\n",
       "      <td>3.173039</td>\n",
       "      <td>25.000000</td>\n",
       "      <td>60.000000</td>\n",
       "    </tr>\n",
       "    <tr>\n",
       "      <th>2</th>\n",
       "      <td>1.000000</td>\n",
       "      <td>5.357838</td>\n",
       "      <td>-300.000000</td>\n",
       "      <td>149.983966</td>\n",
       "    </tr>\n",
       "    <tr>\n",
       "      <th>3</th>\n",
       "      <td>1.050000</td>\n",
       "      <td>0.000000</td>\n",
       "      <td>416.340834</td>\n",
       "      <td>-451.989700</td>\n",
       "    </tr>\n",
       "    <tr>\n",
       "      <th>4</th>\n",
       "      <td>1.000000</td>\n",
       "      <td>2.135568</td>\n",
       "      <td>-50.000000</td>\n",
       "      <td>187.702489</td>\n",
       "    </tr>\n",
       "  </tbody>\n",
       "</table>\n",
       "</div>"
      ],
      "text/plain": [
       "      vm_pu  va_degree        p_mw      q_mvar\n",
       "0  1.027490   2.981261 -100.000000   -0.000000\n",
       "1  0.998232   3.173039   25.000000   60.000000\n",
       "2  1.000000   5.357838 -300.000000  149.983966\n",
       "3  1.050000   0.000000  416.340834 -451.989700\n",
       "4  1.000000   2.135568  -50.000000  187.702489"
      ]
     },
     "execution_count": 5,
     "metadata": {},
     "output_type": "execute_result"
    }
   ],
   "source": [
    "net.res_bus"
   ]
  },
  {
   "cell_type": "markdown",
   "metadata": {},
   "source": [
    "## Calculation of the overhead line temperature\n",
    "\n",
    "It is possible to use the functions from the implementation separately, in order to calculate the overhead line temperature.\n",
    "\n",
    "The implementation in Ngoko et al. defines three terms to represent a simplified thermal model of an overhead line. The parameters $a_0$, $a_1$, and $a_2$ specify a constant, linear, and quadratic terms of the dependence of the line temperature from the square of the current $I$ that is flowing through the overhead line:"
   ]
  },
  {
   "cell_type": "markdown",
   "metadata": {},
   "source": [
    "$$\n",
    "T_{ss} = a_0 + a_1 \\cdot I^2 + a_2 \\cdot I^4\n",
    "$$\n",
    "\n",
    "$$\n",
    "T = T_{ss} - (T_{ss} - T_0) \\cdot \\exp(-t/\\tau)\n",
    "$$"
   ]
  },
  {
   "cell_type": "markdown",
   "metadata": {},
   "source": [
    "In the equations above, $T_{ss}$ stands for the steady-state temperature, $T_0$ is the initial temperature, and $T$ stands for the temperature at the time $t$ after a step change of current. The parameter $\\tau$ is a time constant, used in the caluclation of line temperature with thermal inertia. After $\\tau$ seconds, the temperature reaches approximately 63.2 % of the steady-state value.\n",
    "\n",
    "This approach requires the following inputs (default values are in parentheses):\n",
    "\n",
    "* air temperature (20 °C)\n",
    "* initial line temperature (20 °C)\n",
    "* reference temperature (20 °C)\n",
    "* resistance at reference temperature (r_ohm_per_km)\n",
    "* conductor outer diameter\n",
    "* specific mass of the conductor multiplied by the specific thermal capacity of the material\n",
    "* wind speed (0.6 m/s)\n",
    "* wind angle of attack (45 °)\n",
    "* solar radiation (900 W/m²)\n",
    "* solar emissivity and solar absorptivity (0.5)\n",
    "* thermal coefficient of resistivity (4.03e-3)\n",
    "\n",
    "The parameters are specified in the net.line element table. If any parameters are missing, they will be substitutet by default assumptions. The parameter \"tdpf\" is always required. If the option to not update $R_\\Theta$ is used, then \"r_theta_kelvin_per_mw\" is required. Otherwise, \"conductor_outer_diameter_m\" is required. Furthermore, if thermal inertia is considered by setting the option \"tdpf_delay_s\", the parameter \"mc_joule_per_m_k\" is required."
   ]
  },
  {
   "cell_type": "code",
   "execution_count": 6,
   "metadata": {},
   "outputs": [
    {
     "data": {
      "text/plain": [
       "array([ 46.06044226,  53.12839992,  49.94224359,  47.29338662,\n",
       "       100.09505835,  91.48530994])"
      ]
     },
     "execution_count": 6,
     "metadata": {},
     "output_type": "execute_result"
    }
   ],
   "source": [
    "t_air_pu = 35\n",
    "alpha_pu = 4.03e-3\n",
    "r_ref = net.line.r_ohm_per_km.values / 1e3\n",
    "a0, a1, a2, tau = calc_a0_a1_a2_tau(t_air_pu, 80, 20, r_ref, 30.6e-3,\n",
    "                                    1490, 0.6, 45, 900, alpha_pu, 0.5, 0.5)\n",
    "calc_T_ngoko(np.square(net.res_line.i_ka.values * 1e3), a0, a1, a2, None, None, None)"
   ]
  },
  {
   "cell_type": "markdown",
   "metadata": {},
   "source": [
    "In the approach of Frank et al., the parameters specifying the thermal model according to Ngoko et al. are used to calculate the thermal resistamce $R_{\\Theta}$: "
   ]
  },
  {
   "cell_type": "markdown",
   "metadata": {},
   "source": [
    "$$\n",
    "R_{\\Theta} = \\frac{T_{Rise}}{P_{Loss}} = \\frac{a_0 - T_{air} + a_1 \\cdot I^2 + a_2 \\cdot I^4}{P_{Loss}}\n",
    "$$\n",
    "\n",
    "$$\n",
    "T = T_{air} + R_\\Theta \\cdot P_{Loss}\n",
    "$$"
   ]
  },
  {
   "cell_type": "markdown",
   "metadata": {},
   "source": [
    "Alternatively, the thermal resistance can be approximated using an assumption for the rated temperature rise, as described in Frank et al. To this end, the air temperature $T_{air}$ and the temperature rise are added to calculate the line temperature. The temperature rise is calculated by multiplying the thermal resistance $R_\\Theta$ and the active power losses $P_{Loss}$. The thermal resistance is included in the line results table."
   ]
  },
  {
   "cell_type": "code",
   "execution_count": 7,
   "metadata": {},
   "outputs": [
    {
     "data": {
      "text/plain": [
       "array([ 46.06044226,  53.12839992,  49.94224359,  47.29338662,\n",
       "       100.09505835,  91.48530994])"
      ]
     },
     "execution_count": 7,
     "metadata": {},
     "output_type": "execute_result"
    }
   ],
   "source": [
    "branch = net._ppc[\"branch\"]\n",
    "tdpf_lines = np.ones(len(branch)).astype(bool)\n",
    "r = branch[tdpf_lines, BR_R].real\n",
    "#r = r * (1 + alpha_pu * (T - 20))\n",
    "x = branch[tdpf_lines, BR_X].real\n",
    "g, b = calc_g_b(r, x)\n",
    "Vm = abs(net._ppc[\"internal\"][\"V\"])\n",
    "Va = np.angle(net._ppc[\"internal\"][\"V\"])\n",
    "i_square_pu, p_loss_pu = calc_i_square_p_loss(branch, tdpf_lines, g, b, Vm, Va)\n",
    "#i_square_pu = np.square(net.res_line.i_ka.values*1e3)\n",
    "r_theta_pu = calc_r_theta(t_air_pu, a0, a1, a2, np.square(net.res_line.i_ka.values*1e3), p_loss_pu)\n",
    "calc_T_frank(p_loss_pu, t_air_pu, r_theta_pu, None, None, None)"
   ]
  },
  {
   "cell_type": "code",
   "execution_count": 8,
   "metadata": {},
   "outputs": [
    {
     "data": {
      "text/plain": [
       "array([36.43834877, 40.68175543, 38.79029548, 37.19122826, 65.42560553,\n",
       "       61.25238291])"
      ]
     },
     "execution_count": 8,
     "metadata": {},
     "output_type": "execute_result"
    }
   ],
   "source": [
    "# using an approximation for the rated temperature rise:\n",
    "r_theta_kelvin_per_mw = calc_r_theta_from_t_rise(net, 25)\n",
    "calc_T_frank(p_loss_pu, t_air_pu, r_theta_kelvin_per_mw.values * net.sn_mva / 1, None, None, None)"
   ]
  },
  {
   "cell_type": "markdown",
   "metadata": {},
   "source": [
    "By providing the option tdpf=True, the overhead line temperature can be obtained from the power flow caluclation:"
   ]
  },
  {
   "cell_type": "code",
   "execution_count": 9,
   "metadata": {},
   "outputs": [],
   "source": [
    "pp.runpp(net, tdpf=True, max_iteration=30)"
   ]
  },
  {
   "cell_type": "markdown",
   "metadata": {},
   "source": [
    "Taking the results of the power flow calculation for the line current and using them as the input for the introduced functions, we can make sure that the temperature calculation delivers the same results. However, if we repeat the power flow calculation without the TDPF, the results will be different because the effect of the temperature on the resitance and the current is ignored."
   ]
  },
  {
   "cell_type": "code",
   "execution_count": 10,
   "metadata": {},
   "outputs": [
    {
     "data": {
      "text/html": [
       "<div>\n",
       "<style scoped>\n",
       "    .dataframe tbody tr th:only-of-type {\n",
       "        vertical-align: middle;\n",
       "    }\n",
       "\n",
       "    .dataframe tbody tr th {\n",
       "        vertical-align: top;\n",
       "    }\n",
       "\n",
       "    .dataframe thead th {\n",
       "        text-align: right;\n",
       "    }\n",
       "</style>\n",
       "<table border=\"1\" class=\"dataframe\">\n",
       "  <thead>\n",
       "    <tr style=\"text-align: right;\">\n",
       "      <th></th>\n",
       "      <th>p_from_mw</th>\n",
       "      <th>q_from_mvar</th>\n",
       "      <th>p_to_mw</th>\n",
       "      <th>q_to_mvar</th>\n",
       "      <th>pl_mw</th>\n",
       "      <th>ql_mvar</th>\n",
       "      <th>i_from_ka</th>\n",
       "      <th>i_to_ka</th>\n",
       "      <th>i_ka</th>\n",
       "      <th>vm_from_pu</th>\n",
       "      <th>va_from_degree</th>\n",
       "      <th>vm_to_pu</th>\n",
       "      <th>va_to_degree</th>\n",
       "      <th>loading_percent</th>\n",
       "      <th>r_ohm_per_km</th>\n",
       "      <th>r_theta_kelvin_per_mw</th>\n",
       "      <th>temperature_degree_celsius</th>\n",
       "    </tr>\n",
       "  </thead>\n",
       "  <tbody>\n",
       "    <tr>\n",
       "      <th>0</th>\n",
       "      <td>1.145704</td>\n",
       "      <td>57.860539</td>\n",
       "      <td>-0.851651</td>\n",
       "      <td>-56.191113</td>\n",
       "      <td>0.294053</td>\n",
       "      <td>1.669426</td>\n",
       "      <td>0.246226</td>\n",
       "      <td>0.246226</td>\n",
       "      <td>0.246226</td>\n",
       "      <td>1.028013</td>\n",
       "      <td>3.058060</td>\n",
       "      <td>0.998271</td>\n",
       "      <td>3.324106</td>\n",
       "      <td>25.648576</td>\n",
       "      <td>0.065172</td>\n",
       "      <td>37.924674</td>\n",
       "      <td>46.151857</td>\n",
       "    </tr>\n",
       "    <tr>\n",
       "      <th>1</th>\n",
       "      <td>98.854296</td>\n",
       "      <td>-57.860539</td>\n",
       "      <td>-97.672056</td>\n",
       "      <td>64.400365</td>\n",
       "      <td>1.182241</td>\n",
       "      <td>6.539826</td>\n",
       "      <td>0.487342</td>\n",
       "      <td>0.487342</td>\n",
       "      <td>0.487342</td>\n",
       "      <td>1.028013</td>\n",
       "      <td>3.058060</td>\n",
       "      <td>1.050000</td>\n",
       "      <td>0.000000</td>\n",
       "      <td>50.764815</td>\n",
       "      <td>0.066887</td>\n",
       "      <td>15.579987</td>\n",
       "      <td>53.419294</td>\n",
       "    </tr>\n",
       "    <tr>\n",
       "      <th>2</th>\n",
       "      <td>-89.838066</td>\n",
       "      <td>13.737926</td>\n",
       "      <td>90.460324</td>\n",
       "      <td>-10.255459</td>\n",
       "      <td>0.622257</td>\n",
       "      <td>3.482468</td>\n",
       "      <td>0.398196</td>\n",
       "      <td>0.398196</td>\n",
       "      <td>0.398196</td>\n",
       "      <td>0.998271</td>\n",
       "      <td>3.324106</td>\n",
       "      <td>1.000000</td>\n",
       "      <td>5.550365</td>\n",
       "      <td>41.478734</td>\n",
       "      <td>0.066113</td>\n",
       "      <td>24.328248</td>\n",
       "      <td>50.138432</td>\n",
       "    </tr>\n",
       "    <tr>\n",
       "      <th>3</th>\n",
       "      <td>65.689717</td>\n",
       "      <td>-17.546813</td>\n",
       "      <td>-65.473610</td>\n",
       "      <td>18.768694</td>\n",
       "      <td>0.216107</td>\n",
       "      <td>1.221881</td>\n",
       "      <td>0.297907</td>\n",
       "      <td>0.297907</td>\n",
       "      <td>0.297907</td>\n",
       "      <td>0.998271</td>\n",
       "      <td>3.324106</td>\n",
       "      <td>1.000000</td>\n",
       "      <td>2.284085</td>\n",
       "      <td>31.031951</td>\n",
       "      <td>0.065440</td>\n",
       "      <td>56.856682</td>\n",
       "      <td>47.287124</td>\n",
       "    </tr>\n",
       "    <tr>\n",
       "      <th>4</th>\n",
       "      <td>209.539677</td>\n",
       "      <td>-151.708806</td>\n",
       "      <td>-203.578073</td>\n",
       "      <td>179.827572</td>\n",
       "      <td>5.961603</td>\n",
       "      <td>28.118767</td>\n",
       "      <td>1.131492</td>\n",
       "      <td>1.131492</td>\n",
       "      <td>1.131492</td>\n",
       "      <td>1.000000</td>\n",
       "      <td>5.550365</td>\n",
       "      <td>1.050000</td>\n",
       "      <td>0.000000</td>\n",
       "      <td>117.863704</td>\n",
       "      <td>0.078446</td>\n",
       "      <td>11.305108</td>\n",
       "      <td>102.396570</td>\n",
       "    </tr>\n",
       "    <tr>\n",
       "      <th>5</th>\n",
       "      <td>-112.343080</td>\n",
       "      <td>225.658937</td>\n",
       "      <td>115.473611</td>\n",
       "      <td>-210.478384</td>\n",
       "      <td>3.130530</td>\n",
       "      <td>15.180553</td>\n",
       "      <td>1.050049</td>\n",
       "      <td>1.050049</td>\n",
       "      <td>1.050049</td>\n",
       "      <td>1.050000</td>\n",
       "      <td>0.000000</td>\n",
       "      <td>1.000000</td>\n",
       "      <td>2.284085</td>\n",
       "      <td>109.380148</td>\n",
       "      <td>0.076301</td>\n",
       "      <td>18.626449</td>\n",
       "      <td>93.310661</td>\n",
       "    </tr>\n",
       "  </tbody>\n",
       "</table>\n",
       "</div>"
      ],
      "text/plain": [
       "    p_from_mw  q_from_mvar     p_to_mw   q_to_mvar     pl_mw    ql_mvar  \\\n",
       "0    1.145704    57.860539   -0.851651  -56.191113  0.294053   1.669426   \n",
       "1   98.854296   -57.860539  -97.672056   64.400365  1.182241   6.539826   \n",
       "2  -89.838066    13.737926   90.460324  -10.255459  0.622257   3.482468   \n",
       "3   65.689717   -17.546813  -65.473610   18.768694  0.216107   1.221881   \n",
       "4  209.539677  -151.708806 -203.578073  179.827572  5.961603  28.118767   \n",
       "5 -112.343080   225.658937  115.473611 -210.478384  3.130530  15.180553   \n",
       "\n",
       "   i_from_ka   i_to_ka      i_ka  vm_from_pu  va_from_degree  vm_to_pu  \\\n",
       "0   0.246226  0.246226  0.246226    1.028013        3.058060  0.998271   \n",
       "1   0.487342  0.487342  0.487342    1.028013        3.058060  1.050000   \n",
       "2   0.398196  0.398196  0.398196    0.998271        3.324106  1.000000   \n",
       "3   0.297907  0.297907  0.297907    0.998271        3.324106  1.000000   \n",
       "4   1.131492  1.131492  1.131492    1.000000        5.550365  1.050000   \n",
       "5   1.050049  1.050049  1.050049    1.050000        0.000000  1.000000   \n",
       "\n",
       "   va_to_degree  loading_percent  r_ohm_per_km  r_theta_kelvin_per_mw  \\\n",
       "0      3.324106        25.648576      0.065172              37.924674   \n",
       "1      0.000000        50.764815      0.066887              15.579987   \n",
       "2      5.550365        41.478734      0.066113              24.328248   \n",
       "3      2.284085        31.031951      0.065440              56.856682   \n",
       "4      0.000000       117.863704      0.078446              11.305108   \n",
       "5      2.284085       109.380148      0.076301              18.626449   \n",
       "\n",
       "   temperature_degree_celsius  \n",
       "0                   46.151857  \n",
       "1                   53.419294  \n",
       "2                   50.138432  \n",
       "3                   47.287124  \n",
       "4                  102.396570  \n",
       "5                   93.310661  "
      ]
     },
     "execution_count": 10,
     "metadata": {},
     "output_type": "execute_result"
    }
   ],
   "source": [
    "net.res_line"
   ]
  },
  {
   "cell_type": "code",
   "execution_count": 11,
   "metadata": {},
   "outputs": [
    {
     "data": {
      "text/plain": [
       "array([ 46.15308366,  53.42645102,  50.1425085 ,  47.28905922,\n",
       "       102.50991728,  93.39730687])"
      ]
     },
     "execution_count": 11,
     "metadata": {},
     "output_type": "execute_result"
    }
   ],
   "source": [
    "calc_T_ngoko(np.square(net.res_line.i_ka.values * 1e3), a0, a1, a2, None, None, None)"
   ]
  },
  {
   "cell_type": "code",
   "execution_count": 12,
   "metadata": {},
   "outputs": [
    {
     "data": {
      "text/plain": [
       "array([ 46.06044226,  53.12839992,  49.94224359,  47.29338662,\n",
       "       100.09505835,  91.48530994])"
      ]
     },
     "execution_count": 12,
     "metadata": {},
     "output_type": "execute_result"
    }
   ],
   "source": [
    "pp.runpp(net)\n",
    "calc_T_ngoko(np.square(net.res_line.i_ka.values * 1e3), a0, a1, a2, None, None, None)"
   ]
  },
  {
   "cell_type": "markdown",
   "metadata": {},
   "source": [
    "The calculation works for distributed slack power flow, too. However, the parameter net.sn_mva should be increased in order to avoid numerical instability."
   ]
  },
  {
   "cell_type": "code",
   "execution_count": 13,
   "metadata": {},
   "outputs": [],
   "source": [
    "net.sn_mva = 1000\n",
    "pp.runpp(net, tdpf=True, tdpf_delay_s=5 * 60, distributed_slack=True, max_iteration=30)"
   ]
  },
  {
   "cell_type": "markdown",
   "metadata": {},
   "source": [
    "Finally, we demonstrate the calculation with a time delay of 5 minutes:"
   ]
  },
  {
   "cell_type": "code",
   "execution_count": 14,
   "metadata": {},
   "outputs": [],
   "source": [
    "pp.runpp(net, tdpf=True, tdpf_delay_s=5 * 60, max_iteration=30)"
   ]
  },
  {
   "cell_type": "code",
   "execution_count": 15,
   "metadata": {},
   "outputs": [
    {
     "data": {
      "text/html": [
       "<div>\n",
       "<style scoped>\n",
       "    .dataframe tbody tr th:only-of-type {\n",
       "        vertical-align: middle;\n",
       "    }\n",
       "\n",
       "    .dataframe tbody tr th {\n",
       "        vertical-align: top;\n",
       "    }\n",
       "\n",
       "    .dataframe thead th {\n",
       "        text-align: right;\n",
       "    }\n",
       "</style>\n",
       "<table border=\"1\" class=\"dataframe\">\n",
       "  <thead>\n",
       "    <tr style=\"text-align: right;\">\n",
       "      <th></th>\n",
       "      <th>p_from_mw</th>\n",
       "      <th>q_from_mvar</th>\n",
       "      <th>p_to_mw</th>\n",
       "      <th>q_to_mvar</th>\n",
       "      <th>pl_mw</th>\n",
       "      <th>ql_mvar</th>\n",
       "      <th>i_from_ka</th>\n",
       "      <th>i_to_ka</th>\n",
       "      <th>i_ka</th>\n",
       "      <th>vm_from_pu</th>\n",
       "      <th>va_from_degree</th>\n",
       "      <th>vm_to_pu</th>\n",
       "      <th>va_to_degree</th>\n",
       "      <th>loading_percent</th>\n",
       "      <th>r_ohm_per_km</th>\n",
       "      <th>r_theta_kelvin_per_mw</th>\n",
       "      <th>temperature_degree_celsius</th>\n",
       "    </tr>\n",
       "  </thead>\n",
       "  <tbody>\n",
       "    <tr>\n",
       "      <th>0</th>\n",
       "      <td>2.169795</td>\n",
       "      <td>56.988937</td>\n",
       "      <td>-1.903741</td>\n",
       "      <td>-55.366515</td>\n",
       "      <td>0.266055</td>\n",
       "      <td>1.622422</td>\n",
       "      <td>0.242735</td>\n",
       "      <td>0.242735</td>\n",
       "      <td>0.242735</td>\n",
       "      <td>1.027632</td>\n",
       "      <td>3.001264</td>\n",
       "      <td>0.998243</td>\n",
       "      <td>3.212388</td>\n",
       "      <td>25.284924</td>\n",
       "      <td>0.060675</td>\n",
       "      <td>41.657558</td>\n",
       "      <td>27.096882</td>\n",
       "    </tr>\n",
       "    <tr>\n",
       "      <th>1</th>\n",
       "      <td>97.830205</td>\n",
       "      <td>-56.988937</td>\n",
       "      <td>-96.773739</td>\n",
       "      <td>63.383200</td>\n",
       "      <td>1.056465</td>\n",
       "      <td>6.394263</td>\n",
       "      <td>0.481888</td>\n",
       "      <td>0.481888</td>\n",
       "      <td>0.481888</td>\n",
       "      <td>1.027632</td>\n",
       "      <td>3.001264</td>\n",
       "      <td>1.050000</td>\n",
       "      <td>0.000000</td>\n",
       "      <td>50.196674</td>\n",
       "      <td>0.061132</td>\n",
       "      <td>17.225095</td>\n",
       "      <td>29.032648</td>\n",
       "    </tr>\n",
       "    <tr>\n",
       "      <th>2</th>\n",
       "      <td>-88.984503</td>\n",
       "      <td>12.221760</td>\n",
       "      <td>89.544640</td>\n",
       "      <td>-8.820053</td>\n",
       "      <td>0.560137</td>\n",
       "      <td>3.401707</td>\n",
       "      <td>0.393552</td>\n",
       "      <td>0.393552</td>\n",
       "      <td>0.393552</td>\n",
       "      <td>0.998243</td>\n",
       "      <td>3.212388</td>\n",
       "      <td>1.000000</td>\n",
       "      <td>5.407436</td>\n",
       "      <td>40.994956</td>\n",
       "      <td>0.060926</td>\n",
       "      <td>26.756068</td>\n",
       "      <td>28.159076</td>\n",
       "    </tr>\n",
       "    <tr>\n",
       "      <th>3</th>\n",
       "      <td>65.888243</td>\n",
       "      <td>-16.855245</td>\n",
       "      <td>-65.687504</td>\n",
       "      <td>18.077810</td>\n",
       "      <td>0.200740</td>\n",
       "      <td>1.222565</td>\n",
       "      <td>0.297990</td>\n",
       "      <td>0.297990</td>\n",
       "      <td>0.297990</td>\n",
       "      <td>0.998243</td>\n",
       "      <td>3.212388</td>\n",
       "      <td>1.000000</td>\n",
       "      <td>2.174414</td>\n",
       "      <td>31.040639</td>\n",
       "      <td>0.060752</td>\n",
       "      <td>61.219320</td>\n",
       "      <td>27.425004</td>\n",
       "    </tr>\n",
       "    <tr>\n",
       "      <th>4</th>\n",
       "      <td>210.455359</td>\n",
       "      <td>-144.382347</td>\n",
       "      <td>-205.708171</td>\n",
       "      <td>171.751230</td>\n",
       "      <td>4.747188</td>\n",
       "      <td>27.368883</td>\n",
       "      <td>1.116302</td>\n",
       "      <td>1.116302</td>\n",
       "      <td>1.116302</td>\n",
       "      <td>1.000000</td>\n",
       "      <td>5.407436</td>\n",
       "      <td>1.050000</td>\n",
       "      <td>0.000000</td>\n",
       "      <td>116.281463</td>\n",
       "      <td>0.064177</td>\n",
       "      <td>13.824373</td>\n",
       "      <td>41.937483</td>\n",
       "    </tr>\n",
       "    <tr>\n",
       "      <th>5</th>\n",
       "      <td>-113.143651</td>\n",
       "      <td>221.648526</td>\n",
       "      <td>115.687503</td>\n",
       "      <td>-206.853411</td>\n",
       "      <td>2.543852</td>\n",
       "      <td>14.795116</td>\n",
       "      <td>1.036633</td>\n",
       "      <td>1.036633</td>\n",
       "      <td>1.036633</td>\n",
       "      <td>1.050000</td>\n",
       "      <td>0.000000</td>\n",
       "      <td>1.000000</td>\n",
       "      <td>2.174414</td>\n",
       "      <td>107.982627</td>\n",
       "      <td>0.063617</td>\n",
       "      <td>22.370305</td>\n",
       "      <td>39.564852</td>\n",
       "    </tr>\n",
       "  </tbody>\n",
       "</table>\n",
       "</div>"
      ],
      "text/plain": [
       "    p_from_mw  q_from_mvar     p_to_mw   q_to_mvar     pl_mw    ql_mvar  \\\n",
       "0    2.169795    56.988937   -1.903741  -55.366515  0.266055   1.622422   \n",
       "1   97.830205   -56.988937  -96.773739   63.383200  1.056465   6.394263   \n",
       "2  -88.984503    12.221760   89.544640   -8.820053  0.560137   3.401707   \n",
       "3   65.888243   -16.855245  -65.687504   18.077810  0.200740   1.222565   \n",
       "4  210.455359  -144.382347 -205.708171  171.751230  4.747188  27.368883   \n",
       "5 -113.143651   221.648526  115.687503 -206.853411  2.543852  14.795116   \n",
       "\n",
       "   i_from_ka   i_to_ka      i_ka  vm_from_pu  va_from_degree  vm_to_pu  \\\n",
       "0   0.242735  0.242735  0.242735    1.027632        3.001264  0.998243   \n",
       "1   0.481888  0.481888  0.481888    1.027632        3.001264  1.050000   \n",
       "2   0.393552  0.393552  0.393552    0.998243        3.212388  1.000000   \n",
       "3   0.297990  0.297990  0.297990    0.998243        3.212388  1.000000   \n",
       "4   1.116302  1.116302  1.116302    1.000000        5.407436  1.050000   \n",
       "5   1.036633  1.036633  1.036633    1.050000        0.000000  1.000000   \n",
       "\n",
       "   va_to_degree  loading_percent  r_ohm_per_km  r_theta_kelvin_per_mw  \\\n",
       "0      3.212388        25.284924      0.060675              41.657558   \n",
       "1      0.000000        50.196674      0.061132              17.225095   \n",
       "2      5.407436        40.994956      0.060926              26.756068   \n",
       "3      2.174414        31.040639      0.060752              61.219320   \n",
       "4      0.000000       116.281463      0.064177              13.824373   \n",
       "5      2.174414       107.982627      0.063617              22.370305   \n",
       "\n",
       "   temperature_degree_celsius  \n",
       "0                   27.096882  \n",
       "1                   29.032648  \n",
       "2                   28.159076  \n",
       "3                   27.425004  \n",
       "4                   41.937483  \n",
       "5                   39.564852  "
      ]
     },
     "execution_count": 15,
     "metadata": {},
     "output_type": "execute_result"
    }
   ],
   "source": [
    "net.res_line"
   ]
  },
  {
   "cell_type": "markdown",
   "metadata": {},
   "source": [
    "We can see that the temperature rise is substantially lower due to thermal inertia. The thermal inertia effect can be illustrated in the following figure."
   ]
  },
  {
   "cell_type": "code",
   "execution_count": 16,
   "metadata": {},
   "outputs": [
    {
     "data": {
      "image/png": "[encoded data removed]",
      "text/plain": [
       "<Figure size 432x288 with 1 Axes>"
      ]
     },
     "metadata": {
      "needs_background": "light"
     },
     "output_type": "display_data"
    }
   ],
   "source": [
    "delays = np.arange(0, 65, 5)\n",
    "delay_tab = pd.DataFrame(index=delays, columns=net.line.index.values)\n",
    "\n",
    "for d in delays:\n",
    "    pp.runpp(net, tdpf=True, tdpf_delay_s=d * 60, max_iteration=30)\n",
    "    delay_tab.at[d, :] = net.res_line.temperature_degree_celsius.values\n",
    "    \n",
    "delay_tab.plot(ylabel=\"Temperature (°C)\", xlabel=\"Time delay (min)\", \n",
    "               title=\"Time delay and overhead line temperature\");"
   ]
  }
 ],
 "metadata": {
  "kernelspec": {
   "display_name": "Python 3 (ipykernel)",
   "language": "python",
   "name": "python3"
  },
  "language_info": {
   "codemirror_mode": {
    "name": "ipython",
    "version": 3
   },
   "file_extension": ".py",
   "mimetype": "text/x-python",
   "name": "python",
   "nbconvert_exporter": "python",
   "pygments_lexer": "ipython3",
   "version": "3.10.5"
  }
 },
 "nbformat": 4,
 "nbformat_minor": 4
}
