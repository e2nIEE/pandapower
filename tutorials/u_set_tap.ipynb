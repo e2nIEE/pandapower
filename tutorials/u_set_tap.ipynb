{
 "cells": [
  {
   "cell_type": "markdown",
   "metadata": {},
   "source": [
    "# Transformer tap changer based on load flow results for the transformer"
   ]
  },
  {
   "cell_type": "markdown",
   "metadata": {},
   "source": [
    "In this tuitorial, we describe a transformer tap control strategy in a Low-Voltage (LV) distribution grid with distributed generation. The concept of the tap changer control is based on reacting to the direction and magnitude of the power flowing through the transformer. If the power is flowing towards the grid, it signifies consumption and a voltage drop in the grid. In this situation, it is beneficial to increase the voltage setpoint for the transformer tap changer. Alternatively, if the power is flowing through the transformer out of the grid, it is likely that the voltage rises due to distributed generation. In this case, the voltage setpoint of the transformer tap changer can be reduced. This control strategy allows expanding the usable voltage band. The characteristic curve for the voltage setpoint can be configured to match the voltage behavior in the grid, potentially leading to a better utilization of the available voltage band, than if using the local control strategy (with only ContinuousTapControl or DiscreteTapControl)."
   ]
  },
  {
   "cell_type": "code",
   "execution_count": 1,
   "metadata": {},
   "outputs": [],
   "source": [
    "import os\n",
    "import numpy as np\n",
    "import pandas as pd\n",
    "import tempfile\n",
    "import pandapower as pp\n",
    "import pandapower.control\n",
    "import pandapower.control as control\n",
    "from pandapower.control import Characteristic\n",
    "from pandapower.control.util.auxiliary import plot_characteristic\n",
    "from scipy.interpolate import interp1d"
   ]
  },
  {
   "cell_type": "markdown",
   "metadata": {},
   "source": [
    "First, we crate an example grid with a load and a static generator:"
   ]
  },
  {
   "cell_type": "code",
   "execution_count": 2,
   "metadata": {},
   "outputs": [
    {
     "data": {
      "text/html": [
       "<div>\n",
       "<style scoped>\n",
       "    .dataframe tbody tr th:only-of-type {\n",
       "        vertical-align: middle;\n",
       "    }\n",
       "\n",
       "    .dataframe tbody tr th {\n",
       "        vertical-align: top;\n",
       "    }\n",
       "\n",
       "    .dataframe thead th {\n",
       "        text-align: right;\n",
       "    }\n",
       "</style>\n",
       "<table border=\"1\" class=\"dataframe\">\n",
       "  <thead>\n",
       "    <tr style=\"text-align: right;\">\n",
       "      <th></th>\n",
       "      <th>name</th>\n",
       "      <th>vn_kv</th>\n",
       "      <th>type</th>\n",
       "      <th>zone</th>\n",
       "      <th>in_service</th>\n",
       "    </tr>\n",
       "  </thead>\n",
       "  <tbody>\n",
       "    <tr>\n",
       "      <th>0</th>\n",
       "      <td>Bus 0</td>\n",
       "      <td>110.0</td>\n",
       "      <td>n</td>\n",
       "      <td>None</td>\n",
       "      <td>True</td>\n",
       "    </tr>\n",
       "    <tr>\n",
       "      <th>1</th>\n",
       "      <td>Bus 1</td>\n",
       "      <td>110.0</td>\n",
       "      <td>n</td>\n",
       "      <td>None</td>\n",
       "      <td>True</td>\n",
       "    </tr>\n",
       "    <tr>\n",
       "      <th>2</th>\n",
       "      <td>Bus 2</td>\n",
       "      <td>20.0</td>\n",
       "      <td>n</td>\n",
       "      <td>None</td>\n",
       "      <td>True</td>\n",
       "    </tr>\n",
       "    <tr>\n",
       "      <th>3</th>\n",
       "      <td>Bus 3</td>\n",
       "      <td>20.0</td>\n",
       "      <td>n</td>\n",
       "      <td>None</td>\n",
       "      <td>True</td>\n",
       "    </tr>\n",
       "  </tbody>\n",
       "</table>\n",
       "</div>"
      ],
      "text/plain": [
       "    name  vn_kv type  zone  in_service\n",
       "0  Bus 0  110.0    n  None        True\n",
       "1  Bus 1  110.0    n  None        True\n",
       "2  Bus 2   20.0    n  None        True\n",
       "3  Bus 3   20.0    n  None        True"
      ]
     },
     "execution_count": 2,
     "metadata": {},
     "output_type": "execute_result"
    }
   ],
   "source": [
    "net = pp.create_empty_network() \n",
    "for i in range(4):\n",
    "    if i < 2:\n",
    "        vn=110\n",
    "    else:\n",
    "        vn=20\n",
    "    pp.create_bus(net, name='Bus %s' % i, vn_kv=vn, type=\"n\")\n",
    "pp.create_line(net, 0, 1, length_km=10, std_type=\"149-AL1/24-ST1A 110.0\",name=\"Line 1\")\n",
    "pp.create_line(net, 2, 3, length_km=10, std_type=\"184-AL1/30-ST1A 20.0\",name=\"Line 2\")\n",
    "pp.create_ext_grid(net, 0, vm_pu=1.02, va_degree=50)   \n",
    "trafo = pp.create_transformer(net, 1, 2, name=\"110kV/20kV transformer\", std_type=\"25 MVA 110/20 kV\")\n",
    "pp.create_load(net, 3, p_mw=35, q_mvar=4, scaling=1, name=\"load\")\n",
    "pp.create_sgen(net, 3, p_mw=10, q_mvar=3,  name=\"generator\") \n",
    "net.bus"
   ]
  },
  {
   "cell_type": "markdown",
   "metadata": {},
   "source": [
    "We use a ContiniousTapControl controller to adjust the transformer tap position and we set the voltage setpoint to 0.98 p. u."
   ]
  },
  {
   "cell_type": "code",
   "execution_count": 3,
   "metadata": {},
   "outputs": [],
   "source": [
    "trafo_controller = control.ContinuousTapControl(net=net, tid=0, vm_set_pu=0.98, tol=1e-6)"
   ]
  },
  {
   "cell_type": "markdown",
   "metadata": {},
   "source": [
    "An object of class Characteristic can be used to provide a function for the voltage setpoint in relation to the input variable. The function is a piecewise linear characteristic. In this case, the characteristic represents the voltage setpoint depending on the active power flowing through the transformer:"
   ]
  },
  {
   "cell_type": "code",
   "execution_count": 4,
   "metadata": {},
   "outputs": [],
   "source": [
    "c = Characteristic(x_values=[-20, -15, -5, 5,15, 20], y_values=[0.92, 0.97, 0.98, 1.02, 1.03, 1.08])"
   ]
  },
  {
   "cell_type": "markdown",
   "metadata": {},
   "source": [
    "We can obtain the exact voltage setpoint that corresponds to a certain input value by calling it. For example, the voltage setpoint for the active power of 0 MW is 1.0 p. u."
   ]
  },
  {
   "cell_type": "code",
   "execution_count": 5,
   "metadata": {},
   "outputs": [
    {
     "data": {
      "text/plain": [
       "1.0"
      ]
     },
     "execution_count": 5,
     "metadata": {},
     "output_type": "execute_result"
    }
   ],
   "source": [
    "c(x=0)"
   ]
  },
  {
   "cell_type": "markdown",
   "metadata": {},
   "source": [
    "The Characteristic can be displayed visually:"
   ]
  },
  {
   "cell_type": "code",
   "execution_count": 6,
   "metadata": {},
   "outputs": [
    {
     "data": {
      "image/png": "[encoded data removed]",
      "text/plain": [
       "<Figure size 432x288 with 1 Axes>"
      ]
     },
     "metadata": {
      "needs_background": "light"
     },
     "output_type": "display_data"
    }
   ],
   "source": [
    "plot_characteristic(c,-25,25,50)"
   ]
  },
  {
   "cell_type": "markdown",
   "metadata": {},
   "source": [
    "We use an additional controller of class USetTapControl to adjust the voltage setpoint of the ContinuousTapControl based on the defined Characteristic. It is possible to use any variable from the transformer results table, the standard variable is p_hv_mw."
   ]
  },
  {
   "cell_type": "code",
   "execution_count": 7,
   "metadata": {},
   "outputs": [],
   "source": [
    "tc = control.USetTapControl(net, 0, characteristic=c, tol=0.0005)"
   ]
  },
  {
   "cell_type": "markdown",
   "metadata": {},
   "source": [
    "Now, we can run the calculation and verify the results for different load flow situations."
   ]
  },
  {
   "cell_type": "code",
   "execution_count": 8,
   "metadata": {},
   "outputs": [
    {
     "name": "stdout",
     "output_type": "stream",
     "text": [
      "The load has active power of 35.0 MW, sgen has active power of 10.0 MW\n",
      "Power flowing through the transformer is 27.88 MW\n",
      "Voltage setpoint from Characteristic is 1.080 p. u.\n",
      "Voltage at the controlled bus is 1.080 p. u.\n",
      "Transformer tap position is -6.47\n"
     ]
    },
    {
     "data": {
      "text/html": [
       "<div>\n",
       "<style scoped>\n",
       "    .dataframe tbody tr th:only-of-type {\n",
       "        vertical-align: middle;\n",
       "    }\n",
       "\n",
       "    .dataframe tbody tr th {\n",
       "        vertical-align: top;\n",
       "    }\n",
       "\n",
       "    .dataframe thead th {\n",
       "        text-align: right;\n",
       "    }\n",
       "</style>\n",
       "<table border=\"1\" class=\"dataframe\">\n",
       "  <thead>\n",
       "    <tr style=\"text-align: right;\">\n",
       "      <th></th>\n",
       "      <th>vm_pu</th>\n",
       "      <th>va_degree</th>\n",
       "      <th>p_mw</th>\n",
       "      <th>q_mvar</th>\n",
       "    </tr>\n",
       "  </thead>\n",
       "  <tbody>\n",
       "    <tr>\n",
       "      <th>0</th>\n",
       "      <td>1.020000</td>\n",
       "      <td>0.000000</td>\n",
       "      <td>-28.015006</td>\n",
       "      <td>-10.07003</td>\n",
       "    </tr>\n",
       "    <tr>\n",
       "      <th>1</th>\n",
       "      <td>1.012223</td>\n",
       "      <td>-0.435655</td>\n",
       "      <td>0.000000</td>\n",
       "      <td>0.00000</td>\n",
       "    </tr>\n",
       "    <tr>\n",
       "      <th>2</th>\n",
       "      <td>1.079999</td>\n",
       "      <td>-6.697190</td>\n",
       "      <td>0.000000</td>\n",
       "      <td>0.00000</td>\n",
       "    </tr>\n",
       "    <tr>\n",
       "      <th>3</th>\n",
       "      <td>0.946174</td>\n",
       "      <td>-18.118158</td>\n",
       "      <td>25.000000</td>\n",
       "      <td>1.00000</td>\n",
       "    </tr>\n",
       "  </tbody>\n",
       "</table>\n",
       "</div>"
      ],
      "text/plain": [
       "      vm_pu  va_degree       p_mw    q_mvar\n",
       "0  1.020000   0.000000 -28.015006 -10.07003\n",
       "1  1.012223  -0.435655   0.000000   0.00000\n",
       "2  1.079999  -6.697190   0.000000   0.00000\n",
       "3  0.946174 -18.118158  25.000000   1.00000"
      ]
     },
     "execution_count": 8,
     "metadata": {},
     "output_type": "execute_result"
    }
   ],
   "source": [
    "pp.runpp(net, run_control=True)\n",
    "print(f\"The load has active power of {net.load.at[0, 'p_mw']} MW, sgen has active power of {net.sgen.at[0, 'p_mw']} MW\")\n",
    "print(f\"Power flowing through the transformer is {net.res_trafo.at[0, 'p_hv_mw']:.2f} MW\")\n",
    "print(f\"Voltage setpoint from Characteristic is {c(x=net.res_trafo.at[0, 'p_hv_mw']):.3f} p. u.\")\n",
    "print(f\"Voltage at the controlled bus is {net.res_bus.at[2, 'vm_pu']:.3f} p. u.\")\n",
    "print(f\"Transformer tap position is {net.trafo.at[0, 'tap_pos']:.2f}\")\n",
    "net.res_bus"
   ]
  },
  {
   "cell_type": "code",
   "execution_count": 9,
   "metadata": {},
   "outputs": [
    {
     "name": "stdout",
     "output_type": "stream",
     "text": [
      "The load has active power of 20.0 MW, sgen has active power of 10.0 MW\n",
      "Power flowing through the transformer is 10.45 MW\n",
      "Voltage setpoint from Characteristic is 1.025 p. u.\n",
      "Voltage at the controlled bus is 1.025 p. u.\n",
      "Transformer tap position is -1.25\n"
     ]
    },
    {
     "data": {
      "text/html": [
       "<div>\n",
       "<style scoped>\n",
       "    .dataframe tbody tr th:only-of-type {\n",
       "        vertical-align: middle;\n",
       "    }\n",
       "\n",
       "    .dataframe tbody tr th {\n",
       "        vertical-align: top;\n",
       "    }\n",
       "\n",
       "    .dataframe thead th {\n",
       "        text-align: right;\n",
       "    }\n",
       "</style>\n",
       "<table border=\"1\" class=\"dataframe\">\n",
       "  <thead>\n",
       "    <tr style=\"text-align: right;\">\n",
       "      <th></th>\n",
       "      <th>vm_pu</th>\n",
       "      <th>va_degree</th>\n",
       "      <th>p_mw</th>\n",
       "      <th>q_mvar</th>\n",
       "    </tr>\n",
       "  </thead>\n",
       "  <tbody>\n",
       "    <tr>\n",
       "      <th>0</th>\n",
       "      <td>1.020000</td>\n",
       "      <td>0.000000</td>\n",
       "      <td>-10.468562</td>\n",
       "      <td>-2.080746</td>\n",
       "    </tr>\n",
       "    <tr>\n",
       "      <th>1</th>\n",
       "      <td>1.017611</td>\n",
       "      <td>-0.175860</td>\n",
       "      <td>0.000000</td>\n",
       "      <td>0.000000</td>\n",
       "    </tr>\n",
       "    <tr>\n",
       "      <th>2</th>\n",
       "      <td>1.025451</td>\n",
       "      <td>-2.855151</td>\n",
       "      <td>0.000000</td>\n",
       "      <td>0.000000</td>\n",
       "    </tr>\n",
       "    <tr>\n",
       "      <th>3</th>\n",
       "      <td>0.973503</td>\n",
       "      <td>-7.370899</td>\n",
       "      <td>10.000000</td>\n",
       "      <td>1.000000</td>\n",
       "    </tr>\n",
       "  </tbody>\n",
       "</table>\n",
       "</div>"
      ],
      "text/plain": [
       "      vm_pu  va_degree       p_mw    q_mvar\n",
       "0  1.020000   0.000000 -10.468562 -2.080746\n",
       "1  1.017611  -0.175860   0.000000  0.000000\n",
       "2  1.025451  -2.855151   0.000000  0.000000\n",
       "3  0.973503  -7.370899  10.000000  1.000000"
      ]
     },
     "execution_count": 9,
     "metadata": {},
     "output_type": "execute_result"
    }
   ],
   "source": [
    "net.load.at[0, 'p_mw'] = 20\n",
    "pp.runpp(net, run_control=True)\n",
    "print(f\"The load has active power of {net.load.at[0, 'p_mw']} MW, sgen has active power of {net.sgen.at[0, 'p_mw']} MW\")\n",
    "print(f\"Power flowing through the transformer is {net.res_trafo.at[0, 'p_hv_mw']:.2f} MW\")\n",
    "print(f\"Voltage setpoint from Characteristic is {c(x=net.res_trafo.at[0, 'p_hv_mw']):.3f} p. u.\")\n",
    "print(f\"Voltage at the controlled bus is {net.res_bus.at[2, 'vm_pu']:.3f} p. u.\")\n",
    "print(f\"Transformer tap position is {net.trafo.at[0, 'tap_pos']:.2f}\")\n",
    "net.res_bus"
   ]
  },
  {
   "cell_type": "code",
   "execution_count": 10,
   "metadata": {},
   "outputs": [
    {
     "name": "stdout",
     "output_type": "stream",
     "text": [
      "The load has active power of 0.0 MW, sgen has active power of 10.0 MW\n",
      "Power flowing through the transformer is -9.58 MW\n",
      "Voltage setpoint from Characteristic is 0.975 p. u.\n",
      "Voltage at the controlled bus is 0.975 p. u.\n",
      "Transformer tap position is 2.50\n"
     ]
    },
    {
     "data": {
      "text/html": [
       "<div>\n",
       "<style scoped>\n",
       "    .dataframe tbody tr th:only-of-type {\n",
       "        vertical-align: middle;\n",
       "    }\n",
       "\n",
       "    .dataframe tbody tr th {\n",
       "        vertical-align: top;\n",
       "    }\n",
       "\n",
       "    .dataframe thead th {\n",
       "        text-align: right;\n",
       "    }\n",
       "</style>\n",
       "<table border=\"1\" class=\"dataframe\">\n",
       "  <thead>\n",
       "    <tr style=\"text-align: right;\">\n",
       "      <th></th>\n",
       "      <th>vm_pu</th>\n",
       "      <th>va_degree</th>\n",
       "      <th>p_mw</th>\n",
       "      <th>q_mvar</th>\n",
       "    </tr>\n",
       "  </thead>\n",
       "  <tbody>\n",
       "    <tr>\n",
       "      <th>0</th>\n",
       "      <td>1.020000</td>\n",
       "      <td>0.000000</td>\n",
       "      <td>9.560748</td>\n",
       "      <td>-1.99191</td>\n",
       "    </tr>\n",
       "    <tr>\n",
       "      <th>1</th>\n",
       "      <td>1.020790</td>\n",
       "      <td>0.197370</td>\n",
       "      <td>0.000000</td>\n",
       "      <td>0.00000</td>\n",
       "    </tr>\n",
       "    <tr>\n",
       "      <th>2</th>\n",
       "      <td>0.975424</td>\n",
       "      <td>2.965308</td>\n",
       "      <td>0.000000</td>\n",
       "      <td>0.00000</td>\n",
       "    </tr>\n",
       "    <tr>\n",
       "      <th>3</th>\n",
       "      <td>1.002610</td>\n",
       "      <td>8.033830</td>\n",
       "      <td>-10.000000</td>\n",
       "      <td>1.00000</td>\n",
       "    </tr>\n",
       "  </tbody>\n",
       "</table>\n",
       "</div>"
      ],
      "text/plain": [
       "      vm_pu  va_degree       p_mw   q_mvar\n",
       "0  1.020000   0.000000   9.560748 -1.99191\n",
       "1  1.020790   0.197370   0.000000  0.00000\n",
       "2  0.975424   2.965308   0.000000  0.00000\n",
       "3  1.002610   8.033830 -10.000000  1.00000"
      ]
     },
     "execution_count": 10,
     "metadata": {},
     "output_type": "execute_result"
    }
   ],
   "source": [
    "net.load.at[0, 'p_mw'] = 0\n",
    "pp.runpp(net, run_control=True)\n",
    "print(f\"The load has active power of {net.load.at[0, 'p_mw']} MW, sgen has active power of {net.sgen.at[0, 'p_mw']} MW\")\n",
    "print(f\"Power flowing through the transformer is {net.res_trafo.at[0, 'p_hv_mw']:.2f} MW\")\n",
    "print(f\"Voltage setpoint from Characteristic is {c(x=net.res_trafo.at[0, 'p_hv_mw']):.3f} p. u.\")\n",
    "print(f\"Voltage at the controlled bus is {net.res_bus.at[2, 'vm_pu']:.3f} p. u.\")\n",
    "print(f\"Transformer tap position is {net.trafo.at[0, 'tap_pos']:.2f}\")\n",
    "net.res_bus"
   ]
  },
  {
   "cell_type": "markdown",
   "metadata": {},
   "source": [
    "Next, we demonstrate the usage of the current as the input instead of active power. To this end, we define a new Characteristic and a new USetTapControl."
   ]
  },
  {
   "cell_type": "code",
   "execution_count": 11,
   "metadata": {},
   "outputs": [
    {
     "data": {
      "image/png": "[encoded data removed]",
      "text/plain": [
       "<Figure size 432x288 with 1 Axes>"
      ]
     },
     "metadata": {
      "needs_background": "light"
     },
     "output_type": "display_data"
    }
   ],
   "source": [
    "net.controller.at[tc.index, 'in_service'] = False\n",
    "c1 = Characteristic(x_values=[0, 0.2, 0.4, 0.6, 0.8, 1], y_values=[0.92, 0.97, 0.98, 1.02, 1.03, 1.08])\n",
    "tc1 = control.USetTapControl(net, 0, variable='i_lv_ka', characteristic=c1, tol=0.0005)\n",
    "plot_characteristic(c1,0,1,50)"
   ]
  },
  {
   "cell_type": "code",
   "execution_count": 12,
   "metadata": {
    "scrolled": true
   },
   "outputs": [
    {
     "name": "stdout",
     "output_type": "stream",
     "text": [
      "The load has active power of 0.0 MW, sgen has active power of 10.0 MW\n",
      "Current flowing through the transformer is 0.29 kA\n",
      "Voltage setpoint from Characteristic is 0.974 kA\n",
      "Voltage at the controlled bus is 0.974 p. u.\n",
      "Transformer tap position is 2.56\n"
     ]
    },
    {
     "data": {
      "text/html": [
       "<div>\n",
       "<style scoped>\n",
       "    .dataframe tbody tr th:only-of-type {\n",
       "        vertical-align: middle;\n",
       "    }\n",
       "\n",
       "    .dataframe tbody tr th {\n",
       "        vertical-align: top;\n",
       "    }\n",
       "\n",
       "    .dataframe thead th {\n",
       "        text-align: right;\n",
       "    }\n",
       "</style>\n",
       "<table border=\"1\" class=\"dataframe\">\n",
       "  <thead>\n",
       "    <tr style=\"text-align: right;\">\n",
       "      <th></th>\n",
       "      <th>vm_pu</th>\n",
       "      <th>va_degree</th>\n",
       "      <th>p_mw</th>\n",
       "      <th>q_mvar</th>\n",
       "    </tr>\n",
       "  </thead>\n",
       "  <tbody>\n",
       "    <tr>\n",
       "      <th>0</th>\n",
       "      <td>1.020000</td>\n",
       "      <td>0.000000</td>\n",
       "      <td>9.560012</td>\n",
       "      <td>-1.994347</td>\n",
       "    </tr>\n",
       "    <tr>\n",
       "      <th>1</th>\n",
       "      <td>1.020789</td>\n",
       "      <td>0.197378</td>\n",
       "      <td>0.000000</td>\n",
       "      <td>0.000000</td>\n",
       "    </tr>\n",
       "    <tr>\n",
       "      <th>2</th>\n",
       "      <td>0.974478</td>\n",
       "      <td>2.970434</td>\n",
       "      <td>0.000000</td>\n",
       "      <td>0.000000</td>\n",
       "    </tr>\n",
       "    <tr>\n",
       "      <th>3</th>\n",
       "      <td>1.001682</td>\n",
       "      <td>8.048610</td>\n",
       "      <td>-10.000000</td>\n",
       "      <td>1.000000</td>\n",
       "    </tr>\n",
       "  </tbody>\n",
       "</table>\n",
       "</div>"
      ],
      "text/plain": [
       "      vm_pu  va_degree       p_mw    q_mvar\n",
       "0  1.020000   0.000000   9.560012 -1.994347\n",
       "1  1.020789   0.197378   0.000000  0.000000\n",
       "2  0.974478   2.970434   0.000000  0.000000\n",
       "3  1.001682   8.048610 -10.000000  1.000000"
      ]
     },
     "execution_count": 12,
     "metadata": {},
     "output_type": "execute_result"
    }
   ],
   "source": [
    "net.load.at[0, 'p_mw'] = 0\n",
    "pp.runpp(net, run_control=True)\n",
    "print(f\"The load has active power of {net.load.at[0, 'p_mw']} MW, sgen has active power of {net.sgen.at[0, 'p_mw']} MW\")\n",
    "print(f\"Current flowing through the transformer is {net.res_trafo.at[0, 'i_lv_ka']:.2f} kA\")\n",
    "print(f\"Voltage setpoint from Characteristic is {c1(x=net.res_trafo.at[0, 'i_lv_ka']):.3f} kA\")\n",
    "print(f\"Voltage at the controlled bus is {net.res_bus.at[2, 'vm_pu']:.3f} p. u.\")\n",
    "print(f\"Transformer tap position is {net.trafo.at[0, 'tap_pos']:.2f}\")\n",
    "net.res_bus"
   ]
  },
  {
   "cell_type": "code",
   "execution_count": 13,
   "metadata": {},
   "outputs": [
    {
     "name": "stdout",
     "output_type": "stream",
     "text": [
      "The load has active power of 20.0 MW, sgen has active power of 10.0 MW\n",
      "Current flowing through the transformer is 0.32 kA\n",
      "Voltage setpoint from Characteristic is 0.976 kA\n",
      "Voltage at the controlled bus is 0.976 p. u.\n",
      "Transformer tap position is 1.96\n"
     ]
    },
    {
     "data": {
      "text/html": [
       "<div>\n",
       "<style scoped>\n",
       "    .dataframe tbody tr th:only-of-type {\n",
       "        vertical-align: middle;\n",
       "    }\n",
       "\n",
       "    .dataframe tbody tr th {\n",
       "        vertical-align: top;\n",
       "    }\n",
       "\n",
       "    .dataframe thead th {\n",
       "        text-align: right;\n",
       "    }\n",
       "</style>\n",
       "<table border=\"1\" class=\"dataframe\">\n",
       "  <thead>\n",
       "    <tr style=\"text-align: right;\">\n",
       "      <th></th>\n",
       "      <th>vm_pu</th>\n",
       "      <th>va_degree</th>\n",
       "      <th>p_mw</th>\n",
       "      <th>q_mvar</th>\n",
       "    </tr>\n",
       "  </thead>\n",
       "  <tbody>\n",
       "    <tr>\n",
       "      <th>0</th>\n",
       "      <td>1.020000</td>\n",
       "      <td>0.000000</td>\n",
       "      <td>-10.519196</td>\n",
       "      <td>-2.246655</td>\n",
       "    </tr>\n",
       "    <tr>\n",
       "      <th>1</th>\n",
       "      <td>1.017547</td>\n",
       "      <td>-0.175349</td>\n",
       "      <td>0.000000</td>\n",
       "      <td>0.000000</td>\n",
       "    </tr>\n",
       "    <tr>\n",
       "      <th>2</th>\n",
       "      <td>0.975757</td>\n",
       "      <td>-3.142265</td>\n",
       "      <td>0.000000</td>\n",
       "      <td>0.000000</td>\n",
       "    </tr>\n",
       "    <tr>\n",
       "      <th>3</th>\n",
       "      <td>0.920431</td>\n",
       "      <td>-8.162692</td>\n",
       "      <td>10.000000</td>\n",
       "      <td>1.000000</td>\n",
       "    </tr>\n",
       "  </tbody>\n",
       "</table>\n",
       "</div>"
      ],
      "text/plain": [
       "      vm_pu  va_degree       p_mw    q_mvar\n",
       "0  1.020000   0.000000 -10.519196 -2.246655\n",
       "1  1.017547  -0.175349   0.000000  0.000000\n",
       "2  0.975757  -3.142265   0.000000  0.000000\n",
       "3  0.920431  -8.162692  10.000000  1.000000"
      ]
     },
     "execution_count": 13,
     "metadata": {},
     "output_type": "execute_result"
    },
    {
     "data": {
      "image/png": "[encoded data removed]",
      "text/plain": [
       "<Figure size 432x288 with 1 Axes>"
      ]
     },
     "metadata": {
      "needs_background": "light"
     },
     "output_type": "display_data"
    }
   ],
   "source": [
    "net.load.at[0, 'p_mw'] = 20\n",
    "plot_characteristic(c1,0,1,50)\n",
    "pp.runpp(net, run_control=True)\n",
    "print(f\"The load has active power of {net.load.at[0, 'p_mw']} MW, sgen has active power of {net.sgen.at[0, 'p_mw']} MW\")\n",
    "print(f\"Current flowing through the transformer is {net.res_trafo.at[0, 'i_lv_ka']:.2f} kA\")\n",
    "print(f\"Voltage setpoint from Characteristic is {c1(x=net.res_trafo.at[0, 'i_lv_ka']):.3f} kA\")\n",
    "print(f\"Voltage at the controlled bus is {net.res_bus.at[2, 'vm_pu']:.3f} p. u.\")\n",
    "print(f\"Transformer tap position is {net.trafo.at[0, 'tap_pos']:.2f}\")\n",
    "net.res_bus"
   ]
  },
  {
   "cell_type": "code",
   "execution_count": 14,
   "metadata": {},
   "outputs": [
    {
     "name": "stdout",
     "output_type": "stream",
     "text": [
      "The load has active power of 35.0 MW, sgen has active power of 10.0 MW\n",
      "Current flowing through the transformer is 0.81 kA\n",
      "Voltage setpoint from Characteristic is 1.033 kA\n",
      "Voltage at the controlled bus is 1.033 p. u.\n",
      "Transformer tap position is -4.25\n"
     ]
    },
    {
     "data": {
      "text/html": [
       "<div>\n",
       "<style scoped>\n",
       "    .dataframe tbody tr th:only-of-type {\n",
       "        vertical-align: middle;\n",
       "    }\n",
       "\n",
       "    .dataframe tbody tr th {\n",
       "        vertical-align: top;\n",
       "    }\n",
       "\n",
       "    .dataframe thead th {\n",
       "        text-align: right;\n",
       "    }\n",
       "</style>\n",
       "<table border=\"1\" class=\"dataframe\">\n",
       "  <thead>\n",
       "    <tr style=\"text-align: right;\">\n",
       "      <th></th>\n",
       "      <th>vm_pu</th>\n",
       "      <th>va_degree</th>\n",
       "      <th>p_mw</th>\n",
       "      <th>q_mvar</th>\n",
       "    </tr>\n",
       "  </thead>\n",
       "  <tbody>\n",
       "    <tr>\n",
       "      <th>0</th>\n",
       "      <td>1.020000</td>\n",
       "      <td>0.000000</td>\n",
       "      <td>-28.407864</td>\n",
       "      <td>-11.319413</td>\n",
       "    </tr>\n",
       "    <tr>\n",
       "      <th>1</th>\n",
       "      <td>1.011746</td>\n",
       "      <td>-0.432130</td>\n",
       "      <td>0.000000</td>\n",
       "      <td>0.000000</td>\n",
       "    </tr>\n",
       "    <tr>\n",
       "      <th>2</th>\n",
       "      <td>1.033311</td>\n",
       "      <td>-7.308710</td>\n",
       "      <td>0.000000</td>\n",
       "      <td>0.000000</td>\n",
       "    </tr>\n",
       "    <tr>\n",
       "      <th>3</th>\n",
       "      <td>0.888076</td>\n",
       "      <td>-20.047087</td>\n",
       "      <td>25.000000</td>\n",
       "      <td>1.000000</td>\n",
       "    </tr>\n",
       "  </tbody>\n",
       "</table>\n",
       "</div>"
      ],
      "text/plain": [
       "      vm_pu  va_degree       p_mw     q_mvar\n",
       "0  1.020000   0.000000 -28.407864 -11.319413\n",
       "1  1.011746  -0.432130   0.000000   0.000000\n",
       "2  1.033311  -7.308710   0.000000   0.000000\n",
       "3  0.888076 -20.047087  25.000000   1.000000"
      ]
     },
     "execution_count": 14,
     "metadata": {},
     "output_type": "execute_result"
    }
   ],
   "source": [
    "net.load.at[0, 'p_mw'] = 35\n",
    "pp.runpp(net, run_control=True)\n",
    "print(f\"The load has active power of {net.load.at[0, 'p_mw']} MW, sgen has active power of {net.sgen.at[0, 'p_mw']} MW\")\n",
    "print(f\"Current flowing through the transformer is {net.res_trafo.at[0, 'i_lv_ka']:.2f} kA\")\n",
    "print(f\"Voltage setpoint from Characteristic is {c1(x=net.res_trafo.at[0, 'i_lv_ka']):.3f} kA\")\n",
    "print(f\"Voltage at the controlled bus is {net.res_bus.at[2, 'vm_pu']:.3f} p. u.\")\n",
    "print(f\"Transformer tap position is {net.trafo.at[0, 'tap_pos']:.2f}\")\n",
    "net.res_bus"
   ]
  },
  {
   "cell_type": "markdown",
   "metadata": {},
   "source": [
    "Now let's go ahead and use a non-linear function in place of the piecewise linear Characteristic. We will use the interp1d class from scipy.interpolate to substitute Characteristic in the controller USetTapControl."
   ]
  },
  {
   "cell_type": "code",
   "execution_count": 15,
   "metadata": {},
   "outputs": [
    {
     "data": {
      "image/png": "[encoded data removed]",
      "text/plain": [
       "<Figure size 432x288 with 1 Axes>"
      ]
     },
     "metadata": {
      "needs_background": "light"
     },
     "output_type": "display_data"
    }
   ],
   "source": [
    "c2 = interp1d([0, 0.3, 0.7, 1], [0.92, 0.95, 1.05, 1.08], kind='quadratic', fill_value='extrapolate')\n",
    "plot_characteristic(c2,0,1)"
   ]
  },
  {
   "cell_type": "code",
   "execution_count": 16,
   "metadata": {},
   "outputs": [],
   "source": [
    "tc1.characteristic = c2"
   ]
  },
  {
   "cell_type": "code",
   "execution_count": 17,
   "metadata": {},
   "outputs": [
    {
     "name": "stdout",
     "output_type": "stream",
     "text": [
      "The load has active power of 35.0 MW, sgen has active power of 10.0 MW\n",
      "Current flowing through the transformer is 0.78 kA\n",
      "Voltage setpoint from Characteristic is 1.063 kA\n",
      "Voltage at the controlled bus is 1.063 p. u.\n",
      "Transformer tap position is -5.68\n"
     ]
    },
    {
     "data": {
      "text/html": [
       "<div>\n",
       "<style scoped>\n",
       "    .dataframe tbody tr th:only-of-type {\n",
       "        vertical-align: middle;\n",
       "    }\n",
       "\n",
       "    .dataframe tbody tr th {\n",
       "        vertical-align: top;\n",
       "    }\n",
       "\n",
       "    .dataframe thead th {\n",
       "        text-align: right;\n",
       "    }\n",
       "</style>\n",
       "<table border=\"1\" class=\"dataframe\">\n",
       "  <thead>\n",
       "    <tr style=\"text-align: right;\">\n",
       "      <th></th>\n",
       "      <th>vm_pu</th>\n",
       "      <th>va_degree</th>\n",
       "      <th>p_mw</th>\n",
       "      <th>q_mvar</th>\n",
       "    </tr>\n",
       "  </thead>\n",
       "  <tbody>\n",
       "    <tr>\n",
       "      <th>0</th>\n",
       "      <td>1.020000</td>\n",
       "      <td>0.000000</td>\n",
       "      <td>-28.145166</td>\n",
       "      <td>-10.484178</td>\n",
       "    </tr>\n",
       "    <tr>\n",
       "      <th>1</th>\n",
       "      <td>1.012065</td>\n",
       "      <td>-0.434486</td>\n",
       "      <td>0.000000</td>\n",
       "      <td>0.000000</td>\n",
       "    </tr>\n",
       "    <tr>\n",
       "      <th>2</th>\n",
       "      <td>1.063310</td>\n",
       "      <td>-6.905800</td>\n",
       "      <td>0.000000</td>\n",
       "      <td>0.000000</td>\n",
       "    </tr>\n",
       "    <tr>\n",
       "      <th>3</th>\n",
       "      <td>0.925665</td>\n",
       "      <td>-18.769199</td>\n",
       "      <td>25.000000</td>\n",
       "      <td>1.000000</td>\n",
       "    </tr>\n",
       "  </tbody>\n",
       "</table>\n",
       "</div>"
      ],
      "text/plain": [
       "      vm_pu  va_degree       p_mw     q_mvar\n",
       "0  1.020000   0.000000 -28.145166 -10.484178\n",
       "1  1.012065  -0.434486   0.000000   0.000000\n",
       "2  1.063310  -6.905800   0.000000   0.000000\n",
       "3  0.925665 -18.769199  25.000000   1.000000"
      ]
     },
     "execution_count": 17,
     "metadata": {},
     "output_type": "execute_result"
    }
   ],
   "source": [
    "net.load.at[0, 'p_mw'] = 35\n",
    "pp.runpp(net, run_control=True)\n",
    "print(f\"The load has active power of {net.load.at[0, 'p_mw']} MW, sgen has active power of {net.sgen.at[0, 'p_mw']} MW\")\n",
    "print(f\"Current flowing through the transformer is {net.res_trafo.at[0, 'i_lv_ka']:.2f} kA\")\n",
    "print(f\"Voltage setpoint from Characteristic is {c2(x=net.res_trafo.at[0, 'i_lv_ka']):.3f} kA\")\n",
    "print(f\"Voltage at the controlled bus is {net.res_bus.at[2, 'vm_pu']:.3f} p. u.\")\n",
    "print(f\"Transformer tap position is {net.trafo.at[0, 'tap_pos']:.2f}\")\n",
    "net.res_bus"
   ]
  },
  {
   "cell_type": "markdown",
   "metadata": {},
   "source": [
    "As we can see, USetTapControl can be used with different functions to define the characteristic, as well as with different input variables."
   ]
  }
 ],
 "metadata": {
  "kernelspec": {
   "display_name": "Python 3",
   "language": "python",
   "name": "python3"
  },
  "language_info": {
   "codemirror_mode": {
    "name": "ipython",
    "version": 3
   },
   "file_extension": ".py",
   "mimetype": "text/x-python",
   "name": "python",
   "nbconvert_exporter": "python",
   "pygments_lexer": "ipython3",
   "version": "3.8.6"
  }
 },
 "nbformat": 4,
 "nbformat_minor": 5
}
