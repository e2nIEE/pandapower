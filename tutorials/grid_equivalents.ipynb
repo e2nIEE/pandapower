{
 "cells": [
  {
   "cell_type": "markdown",
   "metadata": {},
   "source": [
    "# Use of the static grid equivalents\n",
    "This tutorial gives a quick overview of the grid equivalents function. This script gives an example to reduce a grid area using the IEEE case9 grid."
   ]
  },
  {
   "cell_type": "markdown",
   "metadata": {},
   "source": [
    "## Determination of grid areas\n",
    "\n",
    "The user can determine the grid area of interest (internal area), the grid area for the reduction (external area), and the boundary buses between them. The figure below shows an example of the grid with identified grid areas:\n",
    "\n",
    "- internal area (buses): [0, 3, 4, 8]\n",
    "- boundary buses: [4, 8] (boundary buses belong to the internal area)\n",
    "- external area (buses): [1, 2, 5, 6, 7] \n",
    "\n",
    "<img src=\"pics/grid areas.png\" alt=\"ALT\">\n",
    "\n",
    "In order to identify the user-defined area, the boundary buses and one of the internal buses must be provided as inputs.\n"
   ]
  },
  {
   "cell_type": "markdown",
   "metadata": {},
   "source": [
    "## Required inputs\n",
    "\n",
    "The most important inputs for grid equivalents are:\n",
    "- net: pandapower grid including power flow results\n",
    "- eq_type: the method used to determine the equivalent grid, e.g., \"rei\", \"ward\", \"xward\"\n",
    "- boundary_buses: indices of boundary buses (as a list) that divide the original grid into the internal areas and the external areas. Based on the figure above, boundary_buses = [4, 8] \n",
    "- internal_buses: bus indices (as a list), which are within the internal area. Based on the figure above, internal_buses = [0]. Just one of the internal buses is enough, and the function will find and consider the remaining internal buses during the equivalent calculation. If 'internal_buses' is an empty list or None, the complete grid is treated as an external area."
   ]
  },
  {
   "cell_type": "markdown",
   "metadata": {},
   "source": [
    "## Example: REI-equivalent\n",
    "The following figure shows the reduction of the external grid (buses [1, 2, 5, 6, 7] of the grid case 9) in the figure above.\n",
    "First, the necessary libraries need to be imported."
   ]
  },
  {
   "cell_type": "code",
   "execution_count": 1,
   "metadata": {},
   "outputs": [],
   "source": [
    "import matplotlib.pyplot as plt\n",
    "import pandapower as pp\n",
    "import pandapower.networks\n",
    "import pandapower.grid_equivalents"
   ]
  },
  {
   "cell_type": "markdown",
   "metadata": {},
   "source": [
    "Subsequently, the IEEE case 9 grid model is created, and its power flow is calculated."
   ]
  },
  {
   "cell_type": "code",
   "execution_count": 2,
   "metadata": {
    "scrolled": true
   },
   "outputs": [
    {
     "data": {
      "text/plain": [
       "This pandapower network includes the following parameter tables:\n",
       "   - bus (9 elements)\n",
       "   - load (3 elements)\n",
       "   - gen (2 elements)\n",
       "   - ext_grid (1 element)\n",
       "   - line (9 elements)\n",
       "   - poly_cost (3 elements)\n",
       "   - bus_geodata (9 elements)\n",
       " and the following results tables:\n",
       "   - res_bus (9 elements)\n",
       "   - res_line (9 elements)\n",
       "   - res_ext_grid (1 element)\n",
       "   - res_load (3 elements)\n",
       "   - res_gen (2 elements)"
      ]
     },
     "execution_count": 2,
     "metadata": {},
     "output_type": "execute_result"
    }
   ],
   "source": [
    "net = pp.networks.case9()\n",
    "pp.runpp(net)\n",
    "net"
   ]
  },
  {
   "cell_type": "markdown",
   "metadata": {},
   "source": [
    "Next, we define the input parameters according to the figure above and obtain the REI-equivalent."
   ]
  },
  {
   "cell_type": "code",
   "execution_count": 3,
   "metadata": {},
   "outputs": [],
   "source": [
    "# equivalent type\n",
    "eq_type = \"rei\"\n",
    "\n",
    "# boundary buses\n",
    "boundary_buses = [4, 8]\n",
    "\n",
    "# internal buses \n",
    "internal_buses = [0]"
   ]
  },
  {
   "cell_type": "markdown",
   "metadata": {},
   "source": [
    "Next, the equivalent function is called, and the grid reduction is executed."
   ]
  },
  {
   "cell_type": "code",
   "execution_count": 4,
   "metadata": {},
   "outputs": [
    {
     "name": "stderr",
     "output_type": "stream",
     "text": [
      "hp.pandapower.grid_equivalents.get_equivalent - INFO: rei equivalent calculation started\n",
      "hp.pandapower.toolbox - INFO: dropped 0 switches\n",
      "hp.pandapower.toolbox - INFO: dropped 1 load elements\n",
      "hp.pandapower.toolbox - INFO: dropped 5 lines with 0 line switches\n",
      "hp.pandapower.toolbox - INFO: dropped 1 lines with 0 line switches\n",
      "hp.pandapower.toolbox - INFO: dropped 2 gen elements\n",
      "hp.pandapower.toolbox - INFO: dropped 0 switches\n",
      "hp.pandapower.toolbox - INFO: dropped 1 ext_grid elements\n",
      "hp.pandapower.toolbox - INFO: dropped 2 lines with 0 line switches\n",
      "hp.pandapower.toolbox - INFO: dropped 1 lines with 0 line switches\n",
      "hp.pandapower.toolbox - INFO: dropped 6 impedance elements\n",
      "hp.pandapower.toolbox - INFO: dropped 0 switches\n",
      "hp.pandapower.toolbox - INFO: dropped 5 lines with 0 line switches\n",
      "hp.pandapower.toolbox - INFO: dropped 1 lines with 0 line switches\n",
      "hp.pandapower.toolbox - INFO: dropped 0 lines with 0 line switches\n",
      "hp.pandapower.toolbox - INFO: dropped 2 load elements\n",
      "hp.pandapower.toolbox - INFO: dropped 2 ext_grid elements\n",
      "hp.pandapower.grid_equivalents.get_equivalent - INFO: \"rei\" equivalent finished in 0.98 seconds:\n"
     ]
    }
   ],
   "source": [
    "net_eq = pp.grid_equivalents.get_equivalent(net, eq_type, boundary_buses, internal_buses)"
   ]
  },
  {
   "cell_type": "markdown",
   "metadata": {},
   "source": [
    "Now, the equivalent grid is obtained: \"net_eq\" is the REI-equivalent grid model. We can compare the power flow results between the original grid \"net\" and the reduced grid \"net_eq\".  "
   ]
  },
  {
   "cell_type": "code",
   "execution_count": 5,
   "metadata": {},
   "outputs": [
    {
     "name": "stdout",
     "output_type": "stream",
     "text": [
      "--- power flow (original grid) ---\n"
     ]
    },
    {
     "data": {
      "text/html": [
       "<div>\n",
       "<style scoped>\n",
       "    .dataframe tbody tr th:only-of-type {\n",
       "        vertical-align: middle;\n",
       "    }\n",
       "\n",
       "    .dataframe tbody tr th {\n",
       "        vertical-align: top;\n",
       "    }\n",
       "\n",
       "    .dataframe thead th {\n",
       "        text-align: right;\n",
       "    }\n",
       "</style>\n",
       "<table border=\"1\" class=\"dataframe\">\n",
       "  <thead>\n",
       "    <tr style=\"text-align: right;\">\n",
       "      <th></th>\n",
       "      <th>vm_pu</th>\n",
       "      <th>va_degree</th>\n",
       "      <th>p_mw</th>\n",
       "      <th>q_mvar</th>\n",
       "    </tr>\n",
       "  </thead>\n",
       "  <tbody>\n",
       "    <tr>\n",
       "      <th>0</th>\n",
       "      <td>1.000000</td>\n",
       "      <td>0.000000</td>\n",
       "      <td>-71.954702</td>\n",
       "      <td>-24.068958</td>\n",
       "    </tr>\n",
       "    <tr>\n",
       "      <th>1</th>\n",
       "      <td>1.000000</td>\n",
       "      <td>9.668741</td>\n",
       "      <td>-163.000000</td>\n",
       "      <td>-14.460120</td>\n",
       "    </tr>\n",
       "    <tr>\n",
       "      <th>2</th>\n",
       "      <td>1.000000</td>\n",
       "      <td>4.771073</td>\n",
       "      <td>-85.000000</td>\n",
       "      <td>3.649026</td>\n",
       "    </tr>\n",
       "    <tr>\n",
       "      <th>3</th>\n",
       "      <td>0.987007</td>\n",
       "      <td>-2.406644</td>\n",
       "      <td>0.000000</td>\n",
       "      <td>0.000000</td>\n",
       "    </tr>\n",
       "    <tr>\n",
       "      <th>4</th>\n",
       "      <td>0.975472</td>\n",
       "      <td>-4.017264</td>\n",
       "      <td>90.000000</td>\n",
       "      <td>30.000000</td>\n",
       "    </tr>\n",
       "    <tr>\n",
       "      <th>5</th>\n",
       "      <td>1.003375</td>\n",
       "      <td>1.925602</td>\n",
       "      <td>0.000000</td>\n",
       "      <td>0.000000</td>\n",
       "    </tr>\n",
       "    <tr>\n",
       "      <th>6</th>\n",
       "      <td>0.985645</td>\n",
       "      <td>0.621545</td>\n",
       "      <td>100.000000</td>\n",
       "      <td>35.000000</td>\n",
       "    </tr>\n",
       "    <tr>\n",
       "      <th>7</th>\n",
       "      <td>0.996185</td>\n",
       "      <td>3.799120</td>\n",
       "      <td>0.000000</td>\n",
       "      <td>0.000000</td>\n",
       "    </tr>\n",
       "    <tr>\n",
       "      <th>8</th>\n",
       "      <td>0.957621</td>\n",
       "      <td>-4.349934</td>\n",
       "      <td>125.000000</td>\n",
       "      <td>50.000000</td>\n",
       "    </tr>\n",
       "  </tbody>\n",
       "</table>\n",
       "</div>"
      ],
      "text/plain": [
       "      vm_pu  va_degree        p_mw     q_mvar\n",
       "0  1.000000   0.000000  -71.954702 -24.068958\n",
       "1  1.000000   9.668741 -163.000000 -14.460120\n",
       "2  1.000000   4.771073  -85.000000   3.649026\n",
       "3  0.987007  -2.406644    0.000000   0.000000\n",
       "4  0.975472  -4.017264   90.000000  30.000000\n",
       "5  1.003375   1.925602    0.000000   0.000000\n",
       "6  0.985645   0.621545  100.000000  35.000000\n",
       "7  0.996185   3.799120    0.000000   0.000000\n",
       "8  0.957621  -4.349934  125.000000  50.000000"
      ]
     },
     "metadata": {},
     "output_type": "display_data"
    },
    {
     "name": "stdout",
     "output_type": "stream",
     "text": [
      "--- power flow (reduced grid) ---\n"
     ]
    },
    {
     "data": {
      "text/html": [
       "<div>\n",
       "<style scoped>\n",
       "    .dataframe tbody tr th:only-of-type {\n",
       "        vertical-align: middle;\n",
       "    }\n",
       "\n",
       "    .dataframe tbody tr th {\n",
       "        vertical-align: top;\n",
       "    }\n",
       "\n",
       "    .dataframe thead th {\n",
       "        text-align: right;\n",
       "    }\n",
       "</style>\n",
       "<table border=\"1\" class=\"dataframe\">\n",
       "  <thead>\n",
       "    <tr style=\"text-align: right;\">\n",
       "      <th></th>\n",
       "      <th>vm_pu</th>\n",
       "      <th>va_degree</th>\n",
       "      <th>p_mw</th>\n",
       "      <th>q_mvar</th>\n",
       "    </tr>\n",
       "  </thead>\n",
       "  <tbody>\n",
       "    <tr>\n",
       "      <th>0</th>\n",
       "      <td>1.000000</td>\n",
       "      <td>0.000000</td>\n",
       "      <td>-71.954702</td>\n",
       "      <td>-24.068958</td>\n",
       "    </tr>\n",
       "    <tr>\n",
       "      <th>3</th>\n",
       "      <td>0.987007</td>\n",
       "      <td>-2.406644</td>\n",
       "      <td>0.000000</td>\n",
       "      <td>0.000000</td>\n",
       "    </tr>\n",
       "    <tr>\n",
       "      <th>4</th>\n",
       "      <td>0.975472</td>\n",
       "      <td>-4.017264</td>\n",
       "      <td>89.283896</td>\n",
       "      <td>8.224645</td>\n",
       "    </tr>\n",
       "    <tr>\n",
       "      <th>8</th>\n",
       "      <td>0.957621</td>\n",
       "      <td>-4.349934</td>\n",
       "      <td>124.581896</td>\n",
       "      <td>32.419383</td>\n",
       "    </tr>\n",
       "    <tr>\n",
       "      <th>9</th>\n",
       "      <td>0.985645</td>\n",
       "      <td>0.621545</td>\n",
       "      <td>99.317421</td>\n",
       "      <td>0.635364</td>\n",
       "    </tr>\n",
       "    <tr>\n",
       "      <th>10</th>\n",
       "      <td>1.000000</td>\n",
       "      <td>9.668741</td>\n",
       "      <td>-162.192474</td>\n",
       "      <td>-24.665476</td>\n",
       "    </tr>\n",
       "    <tr>\n",
       "      <th>11</th>\n",
       "      <td>1.000000</td>\n",
       "      <td>4.771073</td>\n",
       "      <td>-83.866102</td>\n",
       "      <td>-11.311074</td>\n",
       "    </tr>\n",
       "  </tbody>\n",
       "</table>\n",
       "</div>"
      ],
      "text/plain": [
       "       vm_pu  va_degree        p_mw     q_mvar\n",
       "0   1.000000   0.000000  -71.954702 -24.068958\n",
       "3   0.987007  -2.406644    0.000000   0.000000\n",
       "4   0.975472  -4.017264   89.283896   8.224645\n",
       "8   0.957621  -4.349934  124.581896  32.419383\n",
       "9   0.985645   0.621545   99.317421   0.635364\n",
       "10  1.000000   9.668741 -162.192474 -24.665476\n",
       "11  1.000000   4.771073  -83.866102 -11.311074"
      ]
     },
     "metadata": {},
     "output_type": "display_data"
    }
   ],
   "source": [
    "print(\"--- power flow (original grid) ---\")\n",
    "display(net.res_bus)\n",
    "print(\"--- power flow (reduced grid) ---\")\n",
    "display(net_eq.res_bus)"
   ]
  },
  {
   "cell_type": "markdown",
   "metadata": {},
   "source": [
    "It can be seen that the power flow results (*vm_pu*, *va_degree*) of the internal buses [0, 3, 4, 8] in both grids are the same, i.e., the equivalent calculation is successful. The *p_mw* and *q_mvar* values at the boundary buses [4, 8] are different due to the equivalent devices. During the grid reduction, additional equivalent devices (e.g., additional buses [9, 10, 11], impedance, shunts, etc.) are created, representing the interaction between the internal area and the external area, and maintaining the grid states in the internal area. We can see the additional shunts in the grid equivalent:"
   ]
  },
  {
   "cell_type": "code",
   "execution_count": 6,
   "metadata": {},
   "outputs": [
    {
     "name": "stdout",
     "output_type": "stream",
     "text": [
      "--- shunts (original grid) ---\n"
     ]
    },
    {
     "data": {
      "text/html": [
       "<div>\n",
       "<style scoped>\n",
       "    .dataframe tbody tr th:only-of-type {\n",
       "        vertical-align: middle;\n",
       "    }\n",
       "\n",
       "    .dataframe tbody tr th {\n",
       "        vertical-align: top;\n",
       "    }\n",
       "\n",
       "    .dataframe thead th {\n",
       "        text-align: right;\n",
       "    }\n",
       "</style>\n",
       "<table border=\"1\" class=\"dataframe\">\n",
       "  <thead>\n",
       "    <tr style=\"text-align: right;\">\n",
       "      <th></th>\n",
       "      <th>bus</th>\n",
       "      <th>name</th>\n",
       "      <th>q_mvar</th>\n",
       "      <th>p_mw</th>\n",
       "      <th>vn_kv</th>\n",
       "      <th>step</th>\n",
       "      <th>max_step</th>\n",
       "      <th>in_service</th>\n",
       "    </tr>\n",
       "  </thead>\n",
       "  <tbody>\n",
       "  </tbody>\n",
       "</table>\n",
       "</div>"
      ],
      "text/plain": [
       "Empty DataFrame\n",
       "Columns: [bus, name, q_mvar, p_mw, vn_kv, step, max_step, in_service]\n",
       "Index: []"
      ]
     },
     "metadata": {},
     "output_type": "display_data"
    },
    {
     "name": "stdout",
     "output_type": "stream",
     "text": [
      "--- shunts (reduced grid) ---\n"
     ]
    },
    {
     "data": {
      "text/html": [
       "<div>\n",
       "<style scoped>\n",
       "    .dataframe tbody tr th:only-of-type {\n",
       "        vertical-align: middle;\n",
       "    }\n",
       "\n",
       "    .dataframe tbody tr th {\n",
       "        vertical-align: top;\n",
       "    }\n",
       "\n",
       "    .dataframe thead th {\n",
       "        text-align: right;\n",
       "    }\n",
       "</style>\n",
       "<table border=\"1\" class=\"dataframe\">\n",
       "  <thead>\n",
       "    <tr style=\"text-align: right;\">\n",
       "      <th></th>\n",
       "      <th>bus</th>\n",
       "      <th>name</th>\n",
       "      <th>q_mvar</th>\n",
       "      <th>p_mw</th>\n",
       "      <th>vn_kv</th>\n",
       "      <th>step</th>\n",
       "      <th>max_step</th>\n",
       "      <th>in_service</th>\n",
       "    </tr>\n",
       "  </thead>\n",
       "  <tbody>\n",
       "    <tr>\n",
       "      <th>0</th>\n",
       "      <td>4</td>\n",
       "      <td>eq_shunt</td>\n",
       "      <td>-22.884186</td>\n",
       "      <td>-0.752570</td>\n",
       "      <td>345.0</td>\n",
       "      <td>1</td>\n",
       "      <td>1</td>\n",
       "      <td>True</td>\n",
       "    </tr>\n",
       "    <tr>\n",
       "      <th>1</th>\n",
       "      <td>8</td>\n",
       "      <td>eq_shunt</td>\n",
       "      <td>-19.171087</td>\n",
       "      <td>-0.455928</td>\n",
       "      <td>345.0</td>\n",
       "      <td>1</td>\n",
       "      <td>1</td>\n",
       "      <td>True</td>\n",
       "    </tr>\n",
       "    <tr>\n",
       "      <th>2</th>\n",
       "      <td>9</td>\n",
       "      <td>eq_shunt</td>\n",
       "      <td>-35.372912</td>\n",
       "      <td>-0.702606</td>\n",
       "      <td>345.0</td>\n",
       "      <td>1</td>\n",
       "      <td>1</td>\n",
       "      <td>True</td>\n",
       "    </tr>\n",
       "    <tr>\n",
       "      <th>3</th>\n",
       "      <td>10</td>\n",
       "      <td>eq_shunt</td>\n",
       "      <td>-10.205356</td>\n",
       "      <td>0.807526</td>\n",
       "      <td>345.0</td>\n",
       "      <td>1</td>\n",
       "      <td>1</td>\n",
       "      <td>True</td>\n",
       "    </tr>\n",
       "    <tr>\n",
       "      <th>4</th>\n",
       "      <td>11</td>\n",
       "      <td>eq_shunt</td>\n",
       "      <td>-14.960100</td>\n",
       "      <td>1.133898</td>\n",
       "      <td>345.0</td>\n",
       "      <td>1</td>\n",
       "      <td>1</td>\n",
       "      <td>True</td>\n",
       "    </tr>\n",
       "  </tbody>\n",
       "</table>\n",
       "</div>"
      ],
      "text/plain": [
       "   bus      name     q_mvar      p_mw  vn_kv  step  max_step  in_service\n",
       "0    4  eq_shunt -22.884186 -0.752570  345.0     1         1        True\n",
       "1    8  eq_shunt -19.171087 -0.455928  345.0     1         1        True\n",
       "2    9  eq_shunt -35.372912 -0.702606  345.0     1         1        True\n",
       "3   10  eq_shunt -10.205356  0.807526  345.0     1         1        True\n",
       "4   11  eq_shunt -14.960100  1.133898  345.0     1         1        True"
      ]
     },
     "metadata": {},
     "output_type": "display_data"
    }
   ],
   "source": [
    "print(\"--- shunts (original grid) ---\")\n",
    "display(net.shunt)\n",
    "print(\"--- shunts (reduced grid) ---\")\n",
    "display(net_eq.shunt)"
   ]
  },
  {
   "cell_type": "markdown",
   "metadata": {},
   "source": [
    "## Example: (X)Ward-equivalent"
   ]
  },
  {
   "cell_type": "markdown",
   "metadata": {},
   "source": [
    "In the following, we demonstrate an example for the (x)ward-equivalent. We change the equivalent type and repeat the equivalent calculation."
   ]
  },
  {
   "cell_type": "code",
   "execution_count": 7,
   "metadata": {},
   "outputs": [
    {
     "name": "stderr",
     "output_type": "stream",
     "text": [
      "hp.pandapower.grid_equivalents.get_equivalent - INFO: ward equivalent calculation started\n",
      "hp.pandapower.toolbox - INFO: dropped 0 switches\n",
      "hp.pandapower.toolbox - INFO: dropped 1 load elements\n",
      "hp.pandapower.toolbox - INFO: dropped 5 lines with 0 line switches\n",
      "hp.pandapower.toolbox - INFO: dropped 1 lines with 0 line switches\n",
      "hp.pandapower.toolbox - INFO: dropped 2 gen elements\n",
      "hp.pandapower.toolbox - INFO: dropped 0 switches\n",
      "hp.pandapower.toolbox - INFO: dropped 1 ext_grid elements\n",
      "hp.pandapower.toolbox - INFO: dropped 2 lines with 0 line switches\n",
      "hp.pandapower.toolbox - INFO: dropped 1 lines with 0 line switches\n",
      "hp.pandapower.toolbox - INFO: dropped 0 switches\n",
      "hp.pandapower.toolbox - INFO: dropped 1 load elements\n",
      "hp.pandapower.toolbox - INFO: dropped 5 lines with 0 line switches\n",
      "hp.pandapower.toolbox - INFO: dropped 1 lines with 0 line switches\n",
      "hp.pandapower.toolbox - INFO: dropped 2 gen elements\n",
      "hp.pandapower.toolbox - INFO: dropped 0 lines with 0 line switches\n",
      "hp.pandapower.toolbox - INFO: dropped 2 load elements\n",
      "hp.pandapower.toolbox - INFO: dropped 2 ext_grid elements\n",
      "hp.pandapower.grid_equivalents.get_equivalent - INFO: \"ward\" equivalent finished in 0.83 seconds:\n"
     ]
    }
   ],
   "source": [
    "# equivalent type\n",
    "eq_type = \"ward\"   # for xward-equivalent: eq_type = \"xward\"\n",
    "\n",
    "# run equivalent calculation\n",
    "net_eq_ward = pp.grid_equivalents.get_equivalent(net, eq_type, boundary_buses, \n",
    "                                                 internal_buses)"
   ]
  },
  {
   "cell_type": "markdown",
   "metadata": {},
   "source": [
    "Now, the ward equivalent is obtained. We can verify the power flow results."
   ]
  },
  {
   "cell_type": "code",
   "execution_count": 8,
   "metadata": {},
   "outputs": [
    {
     "name": "stdout",
     "output_type": "stream",
     "text": [
      "--- power flow (original grid) ---\n"
     ]
    },
    {
     "data": {
      "text/html": [
       "<div>\n",
       "<style scoped>\n",
       "    .dataframe tbody tr th:only-of-type {\n",
       "        vertical-align: middle;\n",
       "    }\n",
       "\n",
       "    .dataframe tbody tr th {\n",
       "        vertical-align: top;\n",
       "    }\n",
       "\n",
       "    .dataframe thead th {\n",
       "        text-align: right;\n",
       "    }\n",
       "</style>\n",
       "<table border=\"1\" class=\"dataframe\">\n",
       "  <thead>\n",
       "    <tr style=\"text-align: right;\">\n",
       "      <th></th>\n",
       "      <th>vm_pu</th>\n",
       "      <th>va_degree</th>\n",
       "      <th>p_mw</th>\n",
       "      <th>q_mvar</th>\n",
       "    </tr>\n",
       "  </thead>\n",
       "  <tbody>\n",
       "    <tr>\n",
       "      <th>0</th>\n",
       "      <td>1.000000</td>\n",
       "      <td>0.000000</td>\n",
       "      <td>-71.954702</td>\n",
       "      <td>-24.068958</td>\n",
       "    </tr>\n",
       "    <tr>\n",
       "      <th>1</th>\n",
       "      <td>1.000000</td>\n",
       "      <td>9.668741</td>\n",
       "      <td>-163.000000</td>\n",
       "      <td>-14.460120</td>\n",
       "    </tr>\n",
       "    <tr>\n",
       "      <th>2</th>\n",
       "      <td>1.000000</td>\n",
       "      <td>4.771073</td>\n",
       "      <td>-85.000000</td>\n",
       "      <td>3.649026</td>\n",
       "    </tr>\n",
       "    <tr>\n",
       "      <th>3</th>\n",
       "      <td>0.987007</td>\n",
       "      <td>-2.406644</td>\n",
       "      <td>0.000000</td>\n",
       "      <td>0.000000</td>\n",
       "    </tr>\n",
       "    <tr>\n",
       "      <th>4</th>\n",
       "      <td>0.975472</td>\n",
       "      <td>-4.017264</td>\n",
       "      <td>90.000000</td>\n",
       "      <td>30.000000</td>\n",
       "    </tr>\n",
       "    <tr>\n",
       "      <th>5</th>\n",
       "      <td>1.003375</td>\n",
       "      <td>1.925602</td>\n",
       "      <td>0.000000</td>\n",
       "      <td>0.000000</td>\n",
       "    </tr>\n",
       "    <tr>\n",
       "      <th>6</th>\n",
       "      <td>0.985645</td>\n",
       "      <td>0.621545</td>\n",
       "      <td>100.000000</td>\n",
       "      <td>35.000000</td>\n",
       "    </tr>\n",
       "    <tr>\n",
       "      <th>7</th>\n",
       "      <td>0.996185</td>\n",
       "      <td>3.799120</td>\n",
       "      <td>0.000000</td>\n",
       "      <td>0.000000</td>\n",
       "    </tr>\n",
       "    <tr>\n",
       "      <th>8</th>\n",
       "      <td>0.957621</td>\n",
       "      <td>-4.349934</td>\n",
       "      <td>125.000000</td>\n",
       "      <td>50.000000</td>\n",
       "    </tr>\n",
       "  </tbody>\n",
       "</table>\n",
       "</div>"
      ],
      "text/plain": [
       "      vm_pu  va_degree        p_mw     q_mvar\n",
       "0  1.000000   0.000000  -71.954702 -24.068958\n",
       "1  1.000000   9.668741 -163.000000 -14.460120\n",
       "2  1.000000   4.771073  -85.000000   3.649026\n",
       "3  0.987007  -2.406644    0.000000   0.000000\n",
       "4  0.975472  -4.017264   90.000000  30.000000\n",
       "5  1.003375   1.925602    0.000000   0.000000\n",
       "6  0.985645   0.621545  100.000000  35.000000\n",
       "7  0.996185   3.799120    0.000000   0.000000\n",
       "8  0.957621  -4.349934  125.000000  50.000000"
      ]
     },
     "metadata": {},
     "output_type": "display_data"
    },
    {
     "name": "stdout",
     "output_type": "stream",
     "text": [
      "--- power flow (reduced grid) ---\n"
     ]
    },
    {
     "data": {
      "text/html": [
       "<div>\n",
       "<style scoped>\n",
       "    .dataframe tbody tr th:only-of-type {\n",
       "        vertical-align: middle;\n",
       "    }\n",
       "\n",
       "    .dataframe tbody tr th {\n",
       "        vertical-align: top;\n",
       "    }\n",
       "\n",
       "    .dataframe thead th {\n",
       "        text-align: right;\n",
       "    }\n",
       "</style>\n",
       "<table border=\"1\" class=\"dataframe\">\n",
       "  <thead>\n",
       "    <tr style=\"text-align: right;\">\n",
       "      <th></th>\n",
       "      <th>vm_pu</th>\n",
       "      <th>va_degree</th>\n",
       "      <th>p_mw</th>\n",
       "      <th>q_mvar</th>\n",
       "    </tr>\n",
       "  </thead>\n",
       "  <tbody>\n",
       "    <tr>\n",
       "      <th>0</th>\n",
       "      <td>1.000000</td>\n",
       "      <td>0.000000</td>\n",
       "      <td>-71.954702</td>\n",
       "      <td>-24.068958</td>\n",
       "    </tr>\n",
       "    <tr>\n",
       "      <th>3</th>\n",
       "      <td>0.987007</td>\n",
       "      <td>-2.406644</td>\n",
       "      <td>0.000000</td>\n",
       "      <td>0.000000</td>\n",
       "    </tr>\n",
       "    <tr>\n",
       "      <th>4</th>\n",
       "      <td>0.975472</td>\n",
       "      <td>-4.017264</td>\n",
       "      <td>28.820879</td>\n",
       "      <td>10.232062</td>\n",
       "    </tr>\n",
       "    <tr>\n",
       "      <th>8</th>\n",
       "      <td>0.957621</td>\n",
       "      <td>-4.349934</td>\n",
       "      <td>42.681861</td>\n",
       "      <td>39.100723</td>\n",
       "    </tr>\n",
       "  </tbody>\n",
       "</table>\n",
       "</div>"
      ],
      "text/plain": [
       "      vm_pu  va_degree       p_mw     q_mvar\n",
       "0  1.000000   0.000000 -71.954702 -24.068958\n",
       "3  0.987007  -2.406644   0.000000   0.000000\n",
       "4  0.975472  -4.017264  28.820879  10.232062\n",
       "8  0.957621  -4.349934  42.681861  39.100723"
      ]
     },
     "metadata": {},
     "output_type": "display_data"
    }
   ],
   "source": [
    "print(\"--- power flow (original grid) ---\")\n",
    "display(net.res_bus)\n",
    "print(\"--- power flow (reduced grid) ---\")\n",
    "display(net_eq_ward.res_bus)"
   ]
  },
  {
   "cell_type": "markdown",
   "metadata": {},
   "source": [
    "The power flow results (*vm_pu*, *va_degree*) for the internal buses [0, 3, 4, 8] in both grids are the same. The external area is represented by the additional *ward* elements in the grid model \"net_eq_ward\" attached at the boundary buses [4, 8]: "
   ]
  },
  {
   "cell_type": "code",
   "execution_count": 9,
   "metadata": {},
   "outputs": [
    {
     "name": "stdout",
     "output_type": "stream",
     "text": [
      "--- ward (original grid) ---\n"
     ]
    },
    {
     "data": {
      "text/html": [
       "<div>\n",
       "<style scoped>\n",
       "    .dataframe tbody tr th:only-of-type {\n",
       "        vertical-align: middle;\n",
       "    }\n",
       "\n",
       "    .dataframe tbody tr th {\n",
       "        vertical-align: top;\n",
       "    }\n",
       "\n",
       "    .dataframe thead th {\n",
       "        text-align: right;\n",
       "    }\n",
       "</style>\n",
       "<table border=\"1\" class=\"dataframe\">\n",
       "  <thead>\n",
       "    <tr style=\"text-align: right;\">\n",
       "      <th></th>\n",
       "      <th>name</th>\n",
       "      <th>bus</th>\n",
       "      <th>ps_mw</th>\n",
       "      <th>qs_mvar</th>\n",
       "      <th>qz_mvar</th>\n",
       "      <th>pz_mw</th>\n",
       "      <th>in_service</th>\n",
       "    </tr>\n",
       "  </thead>\n",
       "  <tbody>\n",
       "  </tbody>\n",
       "</table>\n",
       "</div>"
      ],
      "text/plain": [
       "Empty DataFrame\n",
       "Columns: [name, bus, ps_mw, qs_mvar, qz_mvar, pz_mw, in_service]\n",
       "Index: []"
      ]
     },
     "metadata": {},
     "output_type": "display_data"
    },
    {
     "name": "stdout",
     "output_type": "stream",
     "text": [
      "--- ward (reduced grid) ---\n"
     ]
    },
    {
     "data": {
      "text/html": [
       "<div>\n",
       "<style scoped>\n",
       "    .dataframe tbody tr th:only-of-type {\n",
       "        vertical-align: middle;\n",
       "    }\n",
       "\n",
       "    .dataframe tbody tr th {\n",
       "        vertical-align: top;\n",
       "    }\n",
       "\n",
       "    .dataframe thead th {\n",
       "        text-align: right;\n",
       "    }\n",
       "</style>\n",
       "<table border=\"1\" class=\"dataframe\">\n",
       "  <thead>\n",
       "    <tr style=\"text-align: right;\">\n",
       "      <th></th>\n",
       "      <th>name</th>\n",
       "      <th>bus</th>\n",
       "      <th>ps_mw</th>\n",
       "      <th>qs_mvar</th>\n",
       "      <th>qz_mvar</th>\n",
       "      <th>pz_mw</th>\n",
       "      <th>in_service</th>\n",
       "    </tr>\n",
       "  </thead>\n",
       "  <tbody>\n",
       "    <tr>\n",
       "      <th>0</th>\n",
       "      <td>network_equivalent</td>\n",
       "      <td>4</td>\n",
       "      <td>-61.258111</td>\n",
       "      <td>34.553823</td>\n",
       "      <td>-57.087899</td>\n",
       "      <td>0.083012</td>\n",
       "      <td>True</td>\n",
       "    </tr>\n",
       "    <tr>\n",
       "      <th>1</th>\n",
       "      <td>network_equivalent</td>\n",
       "      <td>8</td>\n",
       "      <td>-83.211209</td>\n",
       "      <td>41.300941</td>\n",
       "      <td>-56.922631</td>\n",
       "      <td>0.973863</td>\n",
       "      <td>True</td>\n",
       "    </tr>\n",
       "  </tbody>\n",
       "</table>\n",
       "</div>"
      ],
      "text/plain": [
       "                 name  bus      ps_mw    qs_mvar    qz_mvar     pz_mw  \\\n",
       "0  network_equivalent    4 -61.258111  34.553823 -57.087899  0.083012   \n",
       "1  network_equivalent    8 -83.211209  41.300941 -56.922631  0.973863   \n",
       "\n",
       "   in_service  \n",
       "0        True  \n",
       "1        True  "
      ]
     },
     "metadata": {},
     "output_type": "display_data"
    }
   ],
   "source": [
    "print(\"--- ward (original grid) ---\")\n",
    "display(net.ward)\n",
    "print(\"--- ward (reduced grid) ---\")\n",
    "display(net_eq_ward.ward)"
   ]
  },
  {
   "cell_type": "markdown",
   "metadata": {},
   "source": [
    "##### NOTE: if you compare the resulting (x)ward-parameters between \"pandapower\" and \"powerfactory\" you will see they are not the same. This is because in \"powerfactory\" the admittance matrix is reconstructed according to a voltage sensitivity analysis, which leads to the difference (according to our contact with the DIgSILENT-Support-Team). The internal reconstruction process is unfortunately not open-source."
   ]
  },
  {
   "cell_type": "markdown",
   "metadata": {},
   "source": [
    "# Defining the zones based on boundary branches\n",
    "\n",
    "For this example, we will use the lines between buses 4 ... 5 and 7 ... 8\n",
    "\n",
    "With the function *set_bus_zone_by_boundary_branches*, we first define the zones of the grid based on this separation. Thereafter, with the function *get_boundaries_by_bus_zone_with_boundary_branches*, we obtain the boundary buses that we can use with the functions for obtaining the grid equivalents, as shown in previous sections."
   ]
  },
  {
   "cell_type": "code",
   "execution_count": 10,
   "metadata": {},
   "outputs": [],
   "source": [
    "boundary_branches = {\"line\": [2, 7]}\n",
    "pp.grid_equivalents.set_bus_zone_by_boundary_branches(net, boundary_branches)\n",
    "buses, branches = pp.grid_equivalents.get_boundaries_by_bus_zone_with_boundary_branches(net)"
   ]
  },
  {
   "cell_type": "markdown",
   "metadata": {},
   "source": [
    "The dictionary *buses* contains the boundary buses, internal buses, and external buses from the point of view of each of the zone."
   ]
  },
  {
   "cell_type": "code",
   "execution_count": 11,
   "metadata": {},
   "outputs": [
    {
     "data": {
      "text/plain": [
       "{0: {'all': {4, 5, 7, 8}, 'internal': {4, 8}, 'external': {5, 7}, 1: {5, 7}},\n",
       " 1: {'all': {4, 5, 7, 8}, 'internal': {5, 7}, 'external': {4, 8}, 0: {4, 8}},\n",
       " 'all': {4, 5, 7, 8}}"
      ]
     },
     "execution_count": 11,
     "metadata": {},
     "output_type": "execute_result"
    }
   ],
   "source": [
    "buses"
   ]
  },
  {
   "cell_type": "markdown",
   "metadata": {},
   "source": [
    "The resulting separation for *zone=1* can be seen in the figure below. The green buses are the nodes of the boundary lines that are part of the internal zone. The red buses are the nodes of the boundary lines that are in the external zone. The red dashed lines are the boundary lines."
   ]
  },
  {
   "cell_type": "code",
   "execution_count": 12,
   "metadata": {},
   "outputs": [
    {
     "data": {
      "text/plain": [
       "<AxesSubplot:>"
      ]
     },
     "execution_count": 12,
     "metadata": {},
     "output_type": "execute_result"
    },
    {
     "data": {
      "image/png": "[encoded data removed]",
      "text/plain": [
       "<Figure size 504x792 with 1 Axes>"
      ]
     },
     "metadata": {
      "needs_background": "light"
     },
     "output_type": "display_data"
    }
   ],
   "source": [
    "zone = 1\n",
    "import pandapower.plotting as plot\n",
    "plot.generic_geodata.create_generic_coordinates(net, overwrite=True)\n",
    "plot.plotting_toolbox.set_line_geodata_from_bus_geodata(net, overwrite=True)\n",
    "plot.geo.convert_geodata_to_gis(net)\n",
    "\n",
    "fig, ax=plt.subplots(figsize=(7,11))\n",
    "\n",
    "net.line_geodata.plot(ax=ax)\n",
    "net.line_geodata.loc[list(boundary_branches[\"line\"])].plot(ax=ax, color='red', linestyle=\"--\")\n",
    "net.bus_geodata.plot(column=net.bus.zone.values, ax=ax,zorder=10)\n",
    "net.bus_geodata.loc[net.ext_grid.bus.values].plot(ax=ax, color='k', marker=\"s\", markersize=200)\n",
    "\n",
    "net.bus_geodata.loc[list(buses[zone][\"external\"])].plot(color='r', ax=ax, zorder=100, markersize=100)\n",
    "net.bus_geodata.loc[list(buses[zone][\"internal\"])].plot(color='g', ax=ax, zorder=100, markersize=100)"
   ]
  },
  {
   "cell_type": "markdown",
   "metadata": {},
   "source": [
    "Now, we can obtain the grid equivalent to reduce the zone 0"
   ]
  },
  {
   "cell_type": "code",
   "execution_count": 13,
   "metadata": {},
   "outputs": [
    {
     "name": "stderr",
     "output_type": "stream",
     "text": [
      "hp.pandapower.grid_equivalents.get_equivalent - INFO: rei equivalent calculation started\n",
      "hp.pandapower.toolbox - INFO: dropped 0 switches\n",
      "hp.pandapower.toolbox - INFO: dropped 3 load elements\n",
      "hp.pandapower.toolbox - INFO: dropped 5 lines with 0 line switches\n",
      "hp.pandapower.toolbox - INFO: dropped 3 lines with 0 line switches\n",
      "hp.pandapower.toolbox - INFO: dropped 1 gen elements\n",
      "hp.pandapower.toolbox - INFO: dropped 0 switches\n",
      "hp.pandapower.toolbox - INFO: dropped 1 lines with 0 line switches\n",
      "hp.pandapower.toolbox - INFO: dropped 1 gen elements\n",
      "hp.pandapower.toolbox - INFO: dropped 6 impedance elements\n",
      "hp.pandapower.toolbox - INFO: dropped 0 switches\n",
      "hp.pandapower.toolbox - INFO: dropped 5 lines with 0 line switches\n",
      "hp.pandapower.toolbox - INFO: dropped 3 lines with 0 line switches\n",
      "hp.pandapower.toolbox - INFO: dropped 0 lines with 0 line switches\n",
      "hp.pandapower.toolbox - INFO: dropped 3 ext_grid elements\n",
      "hp.pandapower.grid_equivalents.get_equivalent - INFO: \"rei\" equivalent finished in 0.47 seconds:\n"
     ]
    }
   ],
   "source": [
    "b_internal = [net.bus.loc[net.bus.zone==1].index[0]]\n",
    "net_eq = pp.grid_equivalents.get_equivalent(net, \"rei\", buses[1][\"internal\"], b_internal)"
   ]
  },
  {
   "cell_type": "code",
   "execution_count": 14,
   "metadata": {},
   "outputs": [
    {
     "data": {
      "text/html": [
       "<div>\n",
       "<style scoped>\n",
       "    .dataframe tbody tr th:only-of-type {\n",
       "        vertical-align: middle;\n",
       "    }\n",
       "\n",
       "    .dataframe tbody tr th {\n",
       "        vertical-align: top;\n",
       "    }\n",
       "\n",
       "    .dataframe thead th {\n",
       "        text-align: right;\n",
       "    }\n",
       "</style>\n",
       "<table border=\"1\" class=\"dataframe\">\n",
       "  <thead>\n",
       "    <tr style=\"text-align: right;\">\n",
       "      <th></th>\n",
       "      <th>name</th>\n",
       "      <th>vn_kv</th>\n",
       "      <th>type</th>\n",
       "      <th>zone</th>\n",
       "      <th>in_service</th>\n",
       "      <th>max_vm_pu</th>\n",
       "      <th>min_vm_pu</th>\n",
       "    </tr>\n",
       "  </thead>\n",
       "  <tbody>\n",
       "    <tr>\n",
       "      <th>0</th>\n",
       "      <td>1</td>\n",
       "      <td>345.0</td>\n",
       "      <td>b</td>\n",
       "      <td>0</td>\n",
       "      <td>True</td>\n",
       "      <td>1.1</td>\n",
       "      <td>0.9</td>\n",
       "    </tr>\n",
       "    <tr>\n",
       "      <th>1</th>\n",
       "      <td>2</td>\n",
       "      <td>345.0</td>\n",
       "      <td>b</td>\n",
       "      <td>1</td>\n",
       "      <td>True</td>\n",
       "      <td>1.1</td>\n",
       "      <td>0.9</td>\n",
       "    </tr>\n",
       "    <tr>\n",
       "      <th>5</th>\n",
       "      <td>6</td>\n",
       "      <td>345.0</td>\n",
       "      <td>b</td>\n",
       "      <td>1</td>\n",
       "      <td>True</td>\n",
       "      <td>1.1</td>\n",
       "      <td>0.9</td>\n",
       "    </tr>\n",
       "    <tr>\n",
       "      <th>7</th>\n",
       "      <td>8</td>\n",
       "      <td>345.0</td>\n",
       "      <td>b</td>\n",
       "      <td>1</td>\n",
       "      <td>True</td>\n",
       "      <td>1.1</td>\n",
       "      <td>0.9</td>\n",
       "    </tr>\n",
       "    <tr>\n",
       "      <th>8</th>\n",
       "      <td>load_integrated-total 2</td>\n",
       "      <td>345.0</td>\n",
       "      <td>b</td>\n",
       "      <td>None</td>\n",
       "      <td>True</td>\n",
       "      <td>1.1</td>\n",
       "      <td>0.9</td>\n",
       "    </tr>\n",
       "    <tr>\n",
       "      <th>9</th>\n",
       "      <td>gen_separate-total 2</td>\n",
       "      <td>345.0</td>\n",
       "      <td>b</td>\n",
       "      <td>None</td>\n",
       "      <td>True</td>\n",
       "      <td>NaN</td>\n",
       "      <td>NaN</td>\n",
       "    </tr>\n",
       "  </tbody>\n",
       "</table>\n",
       "</div>"
      ],
      "text/plain": [
       "                      name  vn_kv type  zone  in_service  max_vm_pu  min_vm_pu\n",
       "0                        1  345.0    b     0        True        1.1        0.9\n",
       "1                        2  345.0    b     1        True        1.1        0.9\n",
       "5                        6  345.0    b     1        True        1.1        0.9\n",
       "7                        8  345.0    b     1        True        1.1        0.9\n",
       "8  load_integrated-total 2  345.0    b  None        True        1.1        0.9\n",
       "9     gen_separate-total 2  345.0    b  None        True        NaN        NaN"
      ]
     },
     "execution_count": 14,
     "metadata": {},
     "output_type": "execute_result"
    }
   ],
   "source": [
    "net_eq.bus"
   ]
  },
  {
   "cell_type": "markdown",
   "metadata": {},
   "source": [
    "## Grid equivalents with DC lines"
   ]
  },
  {
   "cell_type": "code",
   "execution_count": 15,
   "metadata": {},
   "outputs": [
    {
     "name": "stderr",
     "output_type": "stream",
     "text": [
      "hp.pandapower.toolbox - INFO: dropped 1 lines with 0 line switches\n"
     ]
    }
   ],
   "source": [
    "pp.drop_lines(net, [2])\n",
    "pp.create_dcline(net, 4, 5, 50, 0.5, 0.7, 1.0, 1.0)\n",
    "pp.runpp(net)"
   ]
  },
  {
   "cell_type": "code",
   "execution_count": 16,
   "metadata": {},
   "outputs": [
    {
     "name": "stderr",
     "output_type": "stream",
     "text": [
      "hp.pandapower.grid_equivalents.get_equivalent - INFO: replaced dcline [0] by gen elements\n",
      "hp.pandapower.grid_equivalents.get_equivalent - INFO: rei equivalent calculation started\n",
      "hp.pandapower.toolbox - INFO: dropped 0 switches\n",
      "hp.pandapower.toolbox - INFO: dropped 1 load elements\n",
      "hp.pandapower.toolbox - INFO: dropped 5 lines with 0 line switches\n",
      "hp.pandapower.toolbox - INFO: dropped 1 dcline elements\n",
      "hp.pandapower.toolbox - INFO: dropped 3 gen elements\n",
      "hp.pandapower.toolbox - INFO: dropped 0 switches\n",
      "hp.pandapower.toolbox - INFO: dropped 1 ext_grid elements\n",
      "hp.pandapower.toolbox - INFO: dropped 2 lines with 0 line switches\n",
      "hp.pandapower.toolbox - INFO: dropped 1 lines with 0 line switches\n",
      "hp.pandapower.toolbox - INFO: dropped 8 impedance elements\n",
      "hp.pandapower.toolbox - INFO: dropped 0 switches\n",
      "hp.pandapower.toolbox - INFO: dropped 5 lines with 0 line switches\n",
      "hp.pandapower.toolbox - INFO: dropped 1 dcline elements\n",
      "hp.pandapower.toolbox - INFO: dropped 0 lines with 0 line switches\n",
      "hp.pandapower.toolbox - INFO: dropped 2 load elements\n",
      "hp.pandapower.toolbox - INFO: dropped 1 gen elements\n",
      "hp.pandapower.toolbox - INFO: dropped 2 ext_grid elements\n",
      "hp.pandapower.grid_equivalents.get_equivalent - INFO: \"rei\" equivalent finished in 0.51 seconds:\n"
     ]
    }
   ],
   "source": [
    "net_eq = pp.grid_equivalents.get_equivalent(net, \"rei\", [4,8], [0])"
   ]
  },
  {
   "cell_type": "code",
   "execution_count": 17,
   "metadata": {},
   "outputs": [
    {
     "data": {
      "text/html": [
       "<div>\n",
       "<style scoped>\n",
       "    .dataframe tbody tr th:only-of-type {\n",
       "        vertical-align: middle;\n",
       "    }\n",
       "\n",
       "    .dataframe tbody tr th {\n",
       "        vertical-align: top;\n",
       "    }\n",
       "\n",
       "    .dataframe thead th {\n",
       "        text-align: right;\n",
       "    }\n",
       "</style>\n",
       "<table border=\"1\" class=\"dataframe\">\n",
       "  <thead>\n",
       "    <tr style=\"text-align: right;\">\n",
       "      <th></th>\n",
       "      <th>name</th>\n",
       "      <th>vn_kv</th>\n",
       "      <th>type</th>\n",
       "      <th>zone</th>\n",
       "      <th>in_service</th>\n",
       "      <th>max_vm_pu</th>\n",
       "      <th>min_vm_pu</th>\n",
       "    </tr>\n",
       "  </thead>\n",
       "  <tbody>\n",
       "    <tr>\n",
       "      <th>0</th>\n",
       "      <td>1</td>\n",
       "      <td>345.0</td>\n",
       "      <td>b</td>\n",
       "      <td>0</td>\n",
       "      <td>True</td>\n",
       "      <td>1.1</td>\n",
       "      <td>0.9</td>\n",
       "    </tr>\n",
       "    <tr>\n",
       "      <th>3</th>\n",
       "      <td>4</td>\n",
       "      <td>345.0</td>\n",
       "      <td>b</td>\n",
       "      <td>0</td>\n",
       "      <td>True</td>\n",
       "      <td>1.1</td>\n",
       "      <td>0.9</td>\n",
       "    </tr>\n",
       "    <tr>\n",
       "      <th>4</th>\n",
       "      <td>5</td>\n",
       "      <td>345.0</td>\n",
       "      <td>b</td>\n",
       "      <td>0</td>\n",
       "      <td>True</td>\n",
       "      <td>1.1</td>\n",
       "      <td>0.9</td>\n",
       "    </tr>\n",
       "    <tr>\n",
       "      <th>8</th>\n",
       "      <td>9</td>\n",
       "      <td>345.0</td>\n",
       "      <td>b</td>\n",
       "      <td>0</td>\n",
       "      <td>True</td>\n",
       "      <td>1.1</td>\n",
       "      <td>0.9</td>\n",
       "    </tr>\n",
       "    <tr>\n",
       "      <th>9</th>\n",
       "      <td>load_integrated-total 1</td>\n",
       "      <td>345.0</td>\n",
       "      <td>b</td>\n",
       "      <td>None</td>\n",
       "      <td>True</td>\n",
       "      <td>1.1</td>\n",
       "      <td>0.9</td>\n",
       "    </tr>\n",
       "    <tr>\n",
       "      <th>10</th>\n",
       "      <td>gen_separate-total 1</td>\n",
       "      <td>345.0</td>\n",
       "      <td>b</td>\n",
       "      <td>None</td>\n",
       "      <td>True</td>\n",
       "      <td>NaN</td>\n",
       "      <td>NaN</td>\n",
       "    </tr>\n",
       "    <tr>\n",
       "      <th>11</th>\n",
       "      <td>gen_separate-total 2</td>\n",
       "      <td>345.0</td>\n",
       "      <td>b</td>\n",
       "      <td>None</td>\n",
       "      <td>True</td>\n",
       "      <td>NaN</td>\n",
       "      <td>NaN</td>\n",
       "    </tr>\n",
       "    <tr>\n",
       "      <th>12</th>\n",
       "      <td>gen_separate-total 5</td>\n",
       "      <td>345.0</td>\n",
       "      <td>b</td>\n",
       "      <td>None</td>\n",
       "      <td>True</td>\n",
       "      <td>NaN</td>\n",
       "      <td>NaN</td>\n",
       "    </tr>\n",
       "  </tbody>\n",
       "</table>\n",
       "</div>"
      ],
      "text/plain": [
       "                       name  vn_kv type  zone  in_service  max_vm_pu  \\\n",
       "0                         1  345.0    b     0        True        1.1   \n",
       "3                         4  345.0    b     0        True        1.1   \n",
       "4                         5  345.0    b     0        True        1.1   \n",
       "8                         9  345.0    b     0        True        1.1   \n",
       "9   load_integrated-total 1  345.0    b  None        True        1.1   \n",
       "10     gen_separate-total 1  345.0    b  None        True        NaN   \n",
       "11     gen_separate-total 2  345.0    b  None        True        NaN   \n",
       "12     gen_separate-total 5  345.0    b  None        True        NaN   \n",
       "\n",
       "    min_vm_pu  \n",
       "0         0.9  \n",
       "3         0.9  \n",
       "4         0.9  \n",
       "8         0.9  \n",
       "9         0.9  \n",
       "10        NaN  \n",
       "11        NaN  \n",
       "12        NaN  "
      ]
     },
     "execution_count": 17,
     "metadata": {},
     "output_type": "execute_result"
    }
   ],
   "source": [
    "net_eq.bus"
   ]
  }
 ],
 "metadata": {
  "kernelspec": {
   "display_name": "Python 3",
   "language": "python",
   "name": "python3"
  },
  "language_info": {
   "codemirror_mode": {
    "name": "ipython",
    "version": 3
   },
   "file_extension": ".py",
   "mimetype": "text/x-python",
   "name": "python",
   "nbconvert_exporter": "python",
   "pygments_lexer": "ipython3",
   "version": "3.8.8"
  }
 },
 "nbformat": 4,
 "nbformat_minor": 2
}
