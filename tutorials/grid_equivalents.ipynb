{
 "cells": [
  {
   "cell_type": "markdown",
   "metadata": {},
   "source": [
    "# Use of the static grid equivalents\n",
    "This tutorial gives a quick overview of the grid equivalents function. This script gives an example to reduce a grid area using the IEEE case9 grid."
   ]
  },
  {
   "cell_type": "markdown",
   "metadata": {},
   "source": [
    "## Determination of grid areas\n",
    "\n",
    "The user can determine the grid area of interest (internal area), the grid area for the reduction (external area), and the boundary buses between them. The figure below schows an example of the grid with identified grid areas:\n",
    "\n",
    "- internal area (buses): [0, 3, 4, 8]\n",
    "- boundary buses: [4, 8] (boundary buses belong to the internal area)\n",
    "- external area (buses): [1, 2, 5, 6, 7] \n",
    "\n",
    "<img src=\"pics/grid areas.png\" alt=\"ALT\">\n",
    "\n",
    "In order to identify the user-defined area, the boundary buses and one of the internal buses must be provided as inputs.\n"
   ]
  },
  {
   "cell_type": "markdown",
   "metadata": {},
   "source": [
    "## Required inputs\n",
    "\n",
    "The most important inputs for grid equivalents are:\n",
    "- net: pandapower grid including power flow results\n",
    "- eq_type: the method used to determine the equivalent grid, e.g., \"rei\", \"ward\", \"xward\"\n",
    "- boundary_buses: indices of boundary buses (as a list) that divide the original grid into the internal areas and the external areas. Based on the figure above, boundary_buses = [4, 8] \n",
    "- internal_buses: bus indices (as a list), which are within the internal area. Based on the figure above, internal_buses = [0]. Just one of the internal buses is enough, the function will find and consider the remaining internal buses during the equivalent calculation. If 'internal_buses' is an empty list or None, the complete grid is treated as an external area."
   ]
  },
  {
   "cell_type": "markdown",
   "metadata": {},
   "source": [
    "## Example: REI-equivalent\n",
    "In the following, the reduction of the external grid (buses [1, 2, 5, 6, 7] of the grid case 9) in the figure above is shown.\n",
    "First, the necessary libraries need to be imported."
   ]
  },
  {
   "cell_type": "code",
   "execution_count": 170,
   "metadata": {
    "ExecuteTime": {
     "end_time": "2024-03-30T08:31:44.404432Z",
     "start_time": "2024-03-30T08:31:44.400556Z"
    }
   },
   "outputs": [],
   "source": [
    "import matplotlib.pyplot as plt\n",
    "\n",
    "import pandapower as pp\n",
    "import pandapower.plotting as plotting\n",
    "import pandapower.networks\n",
    "import pandapower.grid_equivalents"
   ]
  },
  {
   "cell_type": "markdown",
   "metadata": {},
   "source": [
    "Subsequently, the IEEE case 9 grid model is created, and its power flow is calculated."
   ]
  },
  {
   "cell_type": "code",
   "execution_count": 171,
   "metadata": {
    "ExecuteTime": {
     "end_time": "2024-03-30T08:31:44.698304Z",
     "start_time": "2024-03-30T08:31:44.489441Z"
    }
   },
   "outputs": [
    {
     "data": {
      "text/plain": "This pandapower network includes the following parameter tables:\n   - bus (9 elements)\n   - load (3 elements)\n   - gen (2 elements)\n   - ext_grid (1 element)\n   - line (9 elements)\n   - poly_cost (3 elements)\n and the following results tables:\n   - res_bus (9 elements)\n   - res_line (9 elements)\n   - res_ext_grid (1 element)\n   - res_load (3 elements)\n   - res_gen (2 elements)"
     },
     "execution_count": 171,
     "metadata": {},
     "output_type": "execute_result"
    }
   ],
   "source": [
    "net = pp.networks.case9()\n",
    "net.sn_mva = 1.0\n",
    "pp.runpp(net)\n",
    "net"
   ]
  },
  {
   "cell_type": "raw",
   "metadata": {},
   "source": [
    "Next, we define the input parameters according to the figure above and obtain the REI-equivalent."
   ]
  },
  {
   "cell_type": "code",
   "execution_count": 172,
   "metadata": {
    "ExecuteTime": {
     "end_time": "2024-03-30T08:31:44.703918Z",
     "start_time": "2024-03-30T08:31:44.699314Z"
    }
   },
   "outputs": [],
   "source": [
    "# equivalent type\n",
    "eq_type = \"rei\"\n",
    "\n",
    "# boundary buses\n",
    "boundary_buses = [4, 8]\n",
    "\n",
    "# internal buses \n",
    "internal_buses = [0]"
   ]
  },
  {
   "cell_type": "markdown",
   "metadata": {},
   "source": [
    "Next, the equivalent function is called, and the grid reduction is executed."
   ]
  },
  {
   "cell_type": "code",
   "execution_count": 173,
   "metadata": {
    "ExecuteTime": {
     "end_time": "2024-03-30T08:31:45.134335Z",
     "start_time": "2024-03-30T08:31:44.705926Z"
    }
   },
   "outputs": [],
   "source": [
    "net_eq = pp.grid_equivalents.get_equivalent(net, eq_type, boundary_buses, internal_buses)"
   ]
  },
  {
   "cell_type": "markdown",
   "metadata": {},
   "source": [
    "Now, the grid equivalent is obtained: \"net_eq\" is the REI-equivalent grid model. We can compare the power flow results between the original grid \"net\" and the reduced grid \"net_eq\".  "
   ]
  },
  {
   "cell_type": "code",
   "execution_count": 174,
   "metadata": {
    "ExecuteTime": {
     "end_time": "2024-03-30T08:31:45.153755Z",
     "start_time": "2024-03-30T08:31:45.136330Z"
    }
   },
   "outputs": [
    {
     "name": "stdout",
     "output_type": "stream",
     "text": [
      "--- power flow (original grid) ---\n"
     ]
    },
    {
     "data": {
      "text/plain": "      vm_pu  va_degree        p_mw     q_mvar\n0  1.000000   0.000000  -71.954702 -24.068958\n1  1.000000   9.668741 -163.000000 -14.460120\n2  1.000000   4.771073  -85.000000   3.649026\n3  0.987007  -2.406644    0.000000   0.000000\n4  0.975472  -4.017264   90.000000  30.000000\n5  1.003375   1.925602    0.000000   0.000000\n6  0.985645   0.621545  100.000000  35.000000\n7  0.996185   3.799120    0.000000   0.000000\n8  0.957621  -4.349934  125.000000  50.000000",
      "text/html": "<div>\n<style scoped>\n    .dataframe tbody tr th:only-of-type {\n        vertical-align: middle;\n    }\n\n    .dataframe tbody tr th {\n        vertical-align: top;\n    }\n\n    .dataframe thead th {\n        text-align: right;\n    }\n</style>\n<table border=\"1\" class=\"dataframe\">\n  <thead>\n    <tr style=\"text-align: right;\">\n      <th></th>\n      <th>vm_pu</th>\n      <th>va_degree</th>\n      <th>p_mw</th>\n      <th>q_mvar</th>\n    </tr>\n  </thead>\n  <tbody>\n    <tr>\n      <th>0</th>\n      <td>1.000000</td>\n      <td>0.000000</td>\n      <td>-71.954702</td>\n      <td>-24.068958</td>\n    </tr>\n    <tr>\n      <th>1</th>\n      <td>1.000000</td>\n      <td>9.668741</td>\n      <td>-163.000000</td>\n      <td>-14.460120</td>\n    </tr>\n    <tr>\n      <th>2</th>\n      <td>1.000000</td>\n      <td>4.771073</td>\n      <td>-85.000000</td>\n      <td>3.649026</td>\n    </tr>\n    <tr>\n      <th>3</th>\n      <td>0.987007</td>\n      <td>-2.406644</td>\n      <td>0.000000</td>\n      <td>0.000000</td>\n    </tr>\n    <tr>\n      <th>4</th>\n      <td>0.975472</td>\n      <td>-4.017264</td>\n      <td>90.000000</td>\n      <td>30.000000</td>\n    </tr>\n    <tr>\n      <th>5</th>\n      <td>1.003375</td>\n      <td>1.925602</td>\n      <td>0.000000</td>\n      <td>0.000000</td>\n    </tr>\n    <tr>\n      <th>6</th>\n      <td>0.985645</td>\n      <td>0.621545</td>\n      <td>100.000000</td>\n      <td>35.000000</td>\n    </tr>\n    <tr>\n      <th>7</th>\n      <td>0.996185</td>\n      <td>3.799120</td>\n      <td>0.000000</td>\n      <td>0.000000</td>\n    </tr>\n    <tr>\n      <th>8</th>\n      <td>0.957621</td>\n      <td>-4.349934</td>\n      <td>125.000000</td>\n      <td>50.000000</td>\n    </tr>\n  </tbody>\n</table>\n</div>"
     },
     "metadata": {},
     "output_type": "display_data"
    },
    {
     "name": "stdout",
     "output_type": "stream",
     "text": [
      "--- power flow (reduced grid) ---\n"
     ]
    },
    {
     "data": {
      "text/plain": "       vm_pu  va_degree        p_mw     q_mvar\n0   1.000000   0.000000  -71.954702 -24.068958\n3   0.987007  -2.406644    0.000000   0.000000\n4   0.975472  -4.017264   89.283896   8.224645\n8   0.957621  -4.349934  124.581896  32.419383\n9   0.985645   0.621545   99.317421   0.635364\n10  1.000000   9.668741 -162.192474 -24.665476\n11  1.000000   4.771073  -83.866102 -11.311074",
      "text/html": "<div>\n<style scoped>\n    .dataframe tbody tr th:only-of-type {\n        vertical-align: middle;\n    }\n\n    .dataframe tbody tr th {\n        vertical-align: top;\n    }\n\n    .dataframe thead th {\n        text-align: right;\n    }\n</style>\n<table border=\"1\" class=\"dataframe\">\n  <thead>\n    <tr style=\"text-align: right;\">\n      <th></th>\n      <th>vm_pu</th>\n      <th>va_degree</th>\n      <th>p_mw</th>\n      <th>q_mvar</th>\n    </tr>\n  </thead>\n  <tbody>\n    <tr>\n      <th>0</th>\n      <td>1.000000</td>\n      <td>0.000000</td>\n      <td>-71.954702</td>\n      <td>-24.068958</td>\n    </tr>\n    <tr>\n      <th>3</th>\n      <td>0.987007</td>\n      <td>-2.406644</td>\n      <td>0.000000</td>\n      <td>0.000000</td>\n    </tr>\n    <tr>\n      <th>4</th>\n      <td>0.975472</td>\n      <td>-4.017264</td>\n      <td>89.283896</td>\n      <td>8.224645</td>\n    </tr>\n    <tr>\n      <th>8</th>\n      <td>0.957621</td>\n      <td>-4.349934</td>\n      <td>124.581896</td>\n      <td>32.419383</td>\n    </tr>\n    <tr>\n      <th>9</th>\n      <td>0.985645</td>\n      <td>0.621545</td>\n      <td>99.317421</td>\n      <td>0.635364</td>\n    </tr>\n    <tr>\n      <th>10</th>\n      <td>1.000000</td>\n      <td>9.668741</td>\n      <td>-162.192474</td>\n      <td>-24.665476</td>\n    </tr>\n    <tr>\n      <th>11</th>\n      <td>1.000000</td>\n      <td>4.771073</td>\n      <td>-83.866102</td>\n      <td>-11.311074</td>\n    </tr>\n  </tbody>\n</table>\n</div>"
     },
     "metadata": {},
     "output_type": "display_data"
    }
   ],
   "source": [
    "print(\"--- power flow (original grid) ---\")\n",
    "display(net.res_bus)\n",
    "print(\"--- power flow (reduced grid) ---\")\n",
    "display(net_eq.res_bus)"
   ]
  },
  {
   "cell_type": "markdown",
   "metadata": {},
   "source": [
    "It can be seen that the power flow results (*vm_pu*, *va_degree*) of the internal buses [0, 3, 4, 8] in both grids are the same , i.e., the equivalent calculation is successful. The *p_mw* and *q_mvar* values at the boundary buses [4, 8] are different due to the equivalent devices. During the grid reduction, additional equivalent devices (e.g., additional buses [9, 10, 11], impedance, shunts, etc.) are created, representing the interaction between the internal area and the external area, and maintaining the grid states in the internal area. We can see the additional shunts in the grid equivalent:"
   ]
  },
  {
   "cell_type": "code",
   "execution_count": 175,
   "metadata": {
    "ExecuteTime": {
     "end_time": "2024-03-30T08:31:45.170626Z",
     "start_time": "2024-03-30T08:31:45.154860Z"
    }
   },
   "outputs": [
    {
     "name": "stdout",
     "output_type": "stream",
     "text": [
      "--- shunts (original grid) ---\n"
     ]
    },
    {
     "data": {
      "text/plain": "Empty DataFrame\nColumns: [bus, name, q_mvar, p_mw, vn_kv, step, max_step, in_service]\nIndex: []",
      "text/html": "<div>\n<style scoped>\n    .dataframe tbody tr th:only-of-type {\n        vertical-align: middle;\n    }\n\n    .dataframe tbody tr th {\n        vertical-align: top;\n    }\n\n    .dataframe thead th {\n        text-align: right;\n    }\n</style>\n<table border=\"1\" class=\"dataframe\">\n  <thead>\n    <tr style=\"text-align: right;\">\n      <th></th>\n      <th>bus</th>\n      <th>name</th>\n      <th>q_mvar</th>\n      <th>p_mw</th>\n      <th>vn_kv</th>\n      <th>step</th>\n      <th>max_step</th>\n      <th>in_service</th>\n    </tr>\n  </thead>\n  <tbody>\n  </tbody>\n</table>\n</div>"
     },
     "metadata": {},
     "output_type": "display_data"
    },
    {
     "name": "stdout",
     "output_type": "stream",
     "text": [
      "--- shunts (reduced grid) ---\n"
     ]
    },
    {
     "data": {
      "text/plain": "   bus      name     q_mvar      p_mw  vn_kv  step  max_step  in_service\n1    4  eq_shunt -22.884186 -0.752570  345.0     1         1        True\n2    8  eq_shunt -19.171087 -0.455928  345.0     1         1        True\n3    9  eq_shunt -35.372912 -0.702606  345.0     1         1        True\n4   10  eq_shunt -10.205356  0.807526  345.0     1         1        True\n5   11  eq_shunt -14.960100  1.133898  345.0     1         1        True",
      "text/html": "<div>\n<style scoped>\n    .dataframe tbody tr th:only-of-type {\n        vertical-align: middle;\n    }\n\n    .dataframe tbody tr th {\n        vertical-align: top;\n    }\n\n    .dataframe thead th {\n        text-align: right;\n    }\n</style>\n<table border=\"1\" class=\"dataframe\">\n  <thead>\n    <tr style=\"text-align: right;\">\n      <th></th>\n      <th>bus</th>\n      <th>name</th>\n      <th>q_mvar</th>\n      <th>p_mw</th>\n      <th>vn_kv</th>\n      <th>step</th>\n      <th>max_step</th>\n      <th>in_service</th>\n    </tr>\n  </thead>\n  <tbody>\n    <tr>\n      <th>1</th>\n      <td>4</td>\n      <td>eq_shunt</td>\n      <td>-22.884186</td>\n      <td>-0.752570</td>\n      <td>345.0</td>\n      <td>1</td>\n      <td>1</td>\n      <td>True</td>\n    </tr>\n    <tr>\n      <th>2</th>\n      <td>8</td>\n      <td>eq_shunt</td>\n      <td>-19.171087</td>\n      <td>-0.455928</td>\n      <td>345.0</td>\n      <td>1</td>\n      <td>1</td>\n      <td>True</td>\n    </tr>\n    <tr>\n      <th>3</th>\n      <td>9</td>\n      <td>eq_shunt</td>\n      <td>-35.372912</td>\n      <td>-0.702606</td>\n      <td>345.0</td>\n      <td>1</td>\n      <td>1</td>\n      <td>True</td>\n    </tr>\n    <tr>\n      <th>4</th>\n      <td>10</td>\n      <td>eq_shunt</td>\n      <td>-10.205356</td>\n      <td>0.807526</td>\n      <td>345.0</td>\n      <td>1</td>\n      <td>1</td>\n      <td>True</td>\n    </tr>\n    <tr>\n      <th>5</th>\n      <td>11</td>\n      <td>eq_shunt</td>\n      <td>-14.960100</td>\n      <td>1.133898</td>\n      <td>345.0</td>\n      <td>1</td>\n      <td>1</td>\n      <td>True</td>\n    </tr>\n  </tbody>\n</table>\n</div>"
     },
     "metadata": {},
     "output_type": "display_data"
    }
   ],
   "source": [
    "print(\"--- shunts (original grid) ---\")\n",
    "display(net.shunt)\n",
    "print(\"--- shunts (reduced grid) ---\")\n",
    "display(net_eq.shunt)"
   ]
  },
  {
   "cell_type": "markdown",
   "metadata": {},
   "source": [
    "## Example: (X)Ward-equivalent"
   ]
  },
  {
   "cell_type": "markdown",
   "metadata": {},
   "source": [
    "In the following, we demonstrate an example for the (x)ward-equivalent. We change the equivalent type and repeat the equivalent calculation."
   ]
  },
  {
   "cell_type": "code",
   "execution_count": 176,
   "metadata": {
    "ExecuteTime": {
     "end_time": "2024-03-30T08:31:45.500073Z",
     "start_time": "2024-03-30T08:31:45.171625Z"
    }
   },
   "outputs": [],
   "source": [
    "# equivalent type\n",
    "eq_type = \"ward\"   # for xward-equivalent: eq_type = \"xward\"\n",
    "\n",
    "# run equivalent calculation\n",
    "net_eq_ward = pp.grid_equivalents.get_equivalent(net, eq_type, boundary_buses, \n",
    "                                                 internal_buses)"
   ]
  },
  {
   "cell_type": "markdown",
   "metadata": {},
   "source": [
    "Now, the ward equivalent is obtained. We can verify the power flow results."
   ]
  },
  {
   "cell_type": "code",
   "execution_count": 177,
   "metadata": {
    "ExecuteTime": {
     "end_time": "2024-03-30T08:31:45.521503Z",
     "start_time": "2024-03-30T08:31:45.501041Z"
    }
   },
   "outputs": [
    {
     "name": "stdout",
     "output_type": "stream",
     "text": [
      "--- power flow (original grid) ---\n"
     ]
    },
    {
     "data": {
      "text/plain": "      vm_pu  va_degree        p_mw     q_mvar\n0  1.000000   0.000000  -71.954702 -24.068958\n1  1.000000   9.668741 -163.000000 -14.460120\n2  1.000000   4.771073  -85.000000   3.649026\n3  0.987007  -2.406644    0.000000   0.000000\n4  0.975472  -4.017264   90.000000  30.000000\n5  1.003375   1.925602    0.000000   0.000000\n6  0.985645   0.621545  100.000000  35.000000\n7  0.996185   3.799120    0.000000   0.000000\n8  0.957621  -4.349934  125.000000  50.000000",
      "text/html": "<div>\n<style scoped>\n    .dataframe tbody tr th:only-of-type {\n        vertical-align: middle;\n    }\n\n    .dataframe tbody tr th {\n        vertical-align: top;\n    }\n\n    .dataframe thead th {\n        text-align: right;\n    }\n</style>\n<table border=\"1\" class=\"dataframe\">\n  <thead>\n    <tr style=\"text-align: right;\">\n      <th></th>\n      <th>vm_pu</th>\n      <th>va_degree</th>\n      <th>p_mw</th>\n      <th>q_mvar</th>\n    </tr>\n  </thead>\n  <tbody>\n    <tr>\n      <th>0</th>\n      <td>1.000000</td>\n      <td>0.000000</td>\n      <td>-71.954702</td>\n      <td>-24.068958</td>\n    </tr>\n    <tr>\n      <th>1</th>\n      <td>1.000000</td>\n      <td>9.668741</td>\n      <td>-163.000000</td>\n      <td>-14.460120</td>\n    </tr>\n    <tr>\n      <th>2</th>\n      <td>1.000000</td>\n      <td>4.771073</td>\n      <td>-85.000000</td>\n      <td>3.649026</td>\n    </tr>\n    <tr>\n      <th>3</th>\n      <td>0.987007</td>\n      <td>-2.406644</td>\n      <td>0.000000</td>\n      <td>0.000000</td>\n    </tr>\n    <tr>\n      <th>4</th>\n      <td>0.975472</td>\n      <td>-4.017264</td>\n      <td>90.000000</td>\n      <td>30.000000</td>\n    </tr>\n    <tr>\n      <th>5</th>\n      <td>1.003375</td>\n      <td>1.925602</td>\n      <td>0.000000</td>\n      <td>0.000000</td>\n    </tr>\n    <tr>\n      <th>6</th>\n      <td>0.985645</td>\n      <td>0.621545</td>\n      <td>100.000000</td>\n      <td>35.000000</td>\n    </tr>\n    <tr>\n      <th>7</th>\n      <td>0.996185</td>\n      <td>3.799120</td>\n      <td>0.000000</td>\n      <td>0.000000</td>\n    </tr>\n    <tr>\n      <th>8</th>\n      <td>0.957621</td>\n      <td>-4.349934</td>\n      <td>125.000000</td>\n      <td>50.000000</td>\n    </tr>\n  </tbody>\n</table>\n</div>"
     },
     "metadata": {},
     "output_type": "display_data"
    },
    {
     "name": "stdout",
     "output_type": "stream",
     "text": [
      "--- power flow (reduced grid) ---\n"
     ]
    },
    {
     "data": {
      "text/plain": "      vm_pu  va_degree       p_mw     q_mvar\n0  1.000000   0.000000 -71.954702 -24.068958\n3  0.987007  -2.406644   0.000000   0.000000\n4  0.975472  -4.017264  28.820879  10.232062\n8  0.957621  -4.349934  42.681861  39.100723",
      "text/html": "<div>\n<style scoped>\n    .dataframe tbody tr th:only-of-type {\n        vertical-align: middle;\n    }\n\n    .dataframe tbody tr th {\n        vertical-align: top;\n    }\n\n    .dataframe thead th {\n        text-align: right;\n    }\n</style>\n<table border=\"1\" class=\"dataframe\">\n  <thead>\n    <tr style=\"text-align: right;\">\n      <th></th>\n      <th>vm_pu</th>\n      <th>va_degree</th>\n      <th>p_mw</th>\n      <th>q_mvar</th>\n    </tr>\n  </thead>\n  <tbody>\n    <tr>\n      <th>0</th>\n      <td>1.000000</td>\n      <td>0.000000</td>\n      <td>-71.954702</td>\n      <td>-24.068958</td>\n    </tr>\n    <tr>\n      <th>3</th>\n      <td>0.987007</td>\n      <td>-2.406644</td>\n      <td>0.000000</td>\n      <td>0.000000</td>\n    </tr>\n    <tr>\n      <th>4</th>\n      <td>0.975472</td>\n      <td>-4.017264</td>\n      <td>28.820879</td>\n      <td>10.232062</td>\n    </tr>\n    <tr>\n      <th>8</th>\n      <td>0.957621</td>\n      <td>-4.349934</td>\n      <td>42.681861</td>\n      <td>39.100723</td>\n    </tr>\n  </tbody>\n</table>\n</div>"
     },
     "metadata": {},
     "output_type": "display_data"
    }
   ],
   "source": [
    "print(\"--- power flow (original grid) ---\")\n",
    "display(net.res_bus)\n",
    "print(\"--- power flow (reduced grid) ---\")\n",
    "display(net_eq_ward.res_bus)"
   ]
  },
  {
   "cell_type": "markdown",
   "metadata": {},
   "source": [
    "The power flow results (*vm_pu*, *va_degree*) for the internal buses [0, 3, 4, 8] in both grids are the same. The external area is represented by the addtional *ward* elements in the grid model \"net_eq_ward\", attached at the boundary buses [4, 8]: "
   ]
  },
  {
   "cell_type": "code",
   "execution_count": 178,
   "metadata": {
    "ExecuteTime": {
     "end_time": "2024-03-30T08:31:45.539335Z",
     "start_time": "2024-03-30T08:31:45.522512Z"
    }
   },
   "outputs": [
    {
     "name": "stdout",
     "output_type": "stream",
     "text": [
      "--- ward (original grid) ---\n"
     ]
    },
    {
     "data": {
      "text/plain": "Empty DataFrame\nColumns: [name, bus, ps_mw, qs_mvar, qz_mvar, pz_mw, in_service]\nIndex: []",
      "text/html": "<div>\n<style scoped>\n    .dataframe tbody tr th:only-of-type {\n        vertical-align: middle;\n    }\n\n    .dataframe tbody tr th {\n        vertical-align: top;\n    }\n\n    .dataframe thead th {\n        text-align: right;\n    }\n</style>\n<table border=\"1\" class=\"dataframe\">\n  <thead>\n    <tr style=\"text-align: right;\">\n      <th></th>\n      <th>name</th>\n      <th>bus</th>\n      <th>ps_mw</th>\n      <th>qs_mvar</th>\n      <th>qz_mvar</th>\n      <th>pz_mw</th>\n      <th>in_service</th>\n    </tr>\n  </thead>\n  <tbody>\n  </tbody>\n</table>\n</div>"
     },
     "metadata": {},
     "output_type": "display_data"
    },
    {
     "name": "stdout",
     "output_type": "stream",
     "text": [
      "--- ward (reduced grid) ---\n"
     ]
    },
    {
     "data": {
      "text/plain": "                 name  bus      ps_mw    qs_mvar    qz_mvar     pz_mw  \\\n0  network_equivalent    4 -61.258111  34.553823 -57.087899  0.083012   \n1  network_equivalent    8 -83.211209  41.300941 -56.922631  0.973863   \n\n   in_service  \n0        True  \n1        True  ",
      "text/html": "<div>\n<style scoped>\n    .dataframe tbody tr th:only-of-type {\n        vertical-align: middle;\n    }\n\n    .dataframe tbody tr th {\n        vertical-align: top;\n    }\n\n    .dataframe thead th {\n        text-align: right;\n    }\n</style>\n<table border=\"1\" class=\"dataframe\">\n  <thead>\n    <tr style=\"text-align: right;\">\n      <th></th>\n      <th>name</th>\n      <th>bus</th>\n      <th>ps_mw</th>\n      <th>qs_mvar</th>\n      <th>qz_mvar</th>\n      <th>pz_mw</th>\n      <th>in_service</th>\n    </tr>\n  </thead>\n  <tbody>\n    <tr>\n      <th>0</th>\n      <td>network_equivalent</td>\n      <td>4</td>\n      <td>-61.258111</td>\n      <td>34.553823</td>\n      <td>-57.087899</td>\n      <td>0.083012</td>\n      <td>True</td>\n    </tr>\n    <tr>\n      <th>1</th>\n      <td>network_equivalent</td>\n      <td>8</td>\n      <td>-83.211209</td>\n      <td>41.300941</td>\n      <td>-56.922631</td>\n      <td>0.973863</td>\n      <td>True</td>\n    </tr>\n  </tbody>\n</table>\n</div>"
     },
     "metadata": {},
     "output_type": "display_data"
    }
   ],
   "source": [
    "print(\"--- ward (original grid) ---\")\n",
    "display(net.ward)\n",
    "print(\"--- ward (reduced grid) ---\")\n",
    "display(net_eq_ward.ward)"
   ]
  },
  {
   "cell_type": "markdown",
   "metadata": {},
   "source": [
    "# Defining the zones based on boundary branches\n",
    "\n",
    "For this example we will use the lines between the buses 4 ... 5 and 7 ... 8\n",
    "\n",
    "With the function *set_bus_zone_by_boundary_branches* we first define the zones of the grid based on this separation. Thereafter, with the function *get_boundaries_by_bus_zone_with_boundary_branches*, we obtain the boundary buses that we can use with the functions for obtaining the grid equivalents, as showed in previous sections."
   ]
  },
  {
   "cell_type": "code",
   "execution_count": 179,
   "metadata": {
    "ExecuteTime": {
     "end_time": "2024-03-30T08:31:45.585367Z",
     "start_time": "2024-03-30T08:31:45.540341Z"
    }
   },
   "outputs": [],
   "source": [
    "boundary_branches = {\"line\": [2, 7]}\n",
    "pp.grid_equivalents.set_bus_zone_by_boundary_branches(net, boundary_branches)\n",
    "buses, branches = pp.grid_equivalents.get_boundaries_by_bus_zone_with_boundary_branches(net)"
   ]
  },
  {
   "cell_type": "markdown",
   "metadata": {},
   "source": [
    "The dictionary *buses* contains the biundary buses, internal buses and external buses from the point of view of each of the zones."
   ]
  },
  {
   "cell_type": "code",
   "execution_count": 180,
   "metadata": {
    "ExecuteTime": {
     "end_time": "2024-03-30T08:31:45.596909Z",
     "start_time": "2024-03-30T08:31:45.588413Z"
    }
   },
   "outputs": [
    {
     "data": {
      "text/plain": "{0: {'all': {4, 5, 7, 8}, 'internal': {4, 8}, 'external': {5, 7}, 1: {5, 7}},\n 1: {'all': {4, 5, 7, 8}, 'internal': {5, 7}, 'external': {4, 8}, 0: {4, 8}},\n 'all': {4, 5, 7, 8}}"
     },
     "execution_count": 180,
     "metadata": {},
     "output_type": "execute_result"
    }
   ],
   "source": [
    "buses"
   ]
  },
  {
   "cell_type": "markdown",
   "metadata": {},
   "source": [
    "The resulting separation can be seen in the figure below. The green buses are the nodes of the boundary lines that are part of the internal zone. The red buses are the nodes of the boundary lines that are in the external zone. The red dashed lines are the boundary lines."
   ]
  },
  {
   "cell_type": "code",
   "execution_count": 183,
   "metadata": {
    "ExecuteTime": {
     "end_time": "2024-03-30T08:31:46.234785Z",
     "start_time": "2024-03-30T08:31:45.660899Z"
    }
   },
   "outputs": [
    {
     "data": {
      "text/plain": "<Axes: >"
     },
     "execution_count": 183,
     "metadata": {},
     "output_type": "execute_result"
    },
    {
     "data": {
      "text/plain": "<Figure size 700x1100 with 1 Axes>",
      "image/png": "[encoded data removed]"
     },
     "metadata": {},
     "output_type": "display_data"
    }
   ],
   "source": [
    "zone = 1\n",
    "\n",
    "#plotting.generic_geodata.create_generic_coordinates(net, overwrite=True)\n",
    "plotting.plotting_toolbox.set_line_geodata_from_bus_geodata(net, overwrite=True)\n",
    "\n",
    "import geopandas as gpd\n",
    "import geojson\n",
    "\n",
    "fig, ax=plt.subplots(figsize=(7,11))\n",
    "\n",
    "net.bus.geo = net.bus.geo.apply(lambda x: geojson.loads(x))\n",
    "net.bus = gpd.GeoDataFrame(net.bus, geometry='geo')\n",
    "net.line.geo = net.line.geo.apply(lambda x: geojson.loads(x))\n",
    "net.line = gpd.GeoDataFrame(net.line, geometry='geo')\n",
    "\n",
    "net.line.plot(ax=ax)\n",
    "net.line.loc[list(boundary_branches[\"line\"])].plot(ax=ax, color='red', linestyle=\"--\")\n",
    "net.bus.plot(column=net.bus.zone.values, ax=ax,zorder=10)\n",
    "net.bus.loc[net.ext_grid.bus.values].plot(ax=ax, color='k', marker=\"s\", markersize=200)\n",
    "\n",
    "net.bus.loc[list(buses[zone][\"external\"])].plot(color='r', ax=ax, zorder=100, markersize=100)\n",
    "net.bus.loc[list(buses[zone][\"internal\"])].plot(color='g', ax=ax, zorder=100, markersize=100)"
   ]
  },
  {
   "cell_type": "markdown",
   "metadata": {},
   "source": [
    "Now, we can obtain the grid equivalent to reduce the zone 0"
   ]
  },
  {
   "cell_type": "code",
   "execution_count": 184,
   "metadata": {
    "ExecuteTime": {
     "end_time": "2024-03-30T08:31:47.175676Z",
     "start_time": "2024-03-30T08:31:46.236799Z"
    }
   },
   "outputs": [],
   "source": [
    "b_internal = [net.bus.loc[net.bus.zone==1].index[0]]\n",
    "net_eq = pp.grid_equivalents.get_equivalent(net, \"rei\", buses[1][\"internal\"], b_internal)"
   ]
  },
  {
   "cell_type": "code",
   "execution_count": 185,
   "metadata": {
    "ExecuteTime": {
     "end_time": "2024-03-30T08:31:47.197696Z",
     "start_time": "2024-03-30T08:31:47.177303Z"
    }
   },
   "outputs": [
    {
     "data": {
      "text/plain": "                          name  vn_kv type  zone  in_service  max_vm_pu  \\\n0                            1  345.0    b     0        True        1.1   \n1                            2  345.0    b     1        True        1.1   \n5                            6  345.0    b     1        True        1.1   \n7                            8  345.0    b     1        True        1.1   \n8  load_integrated-total 4/6/8  345.0    b  None        True        1.1   \n9         gen_separate-total 2  345.0    b   NaN        True        NaN   \n\n   min_vm_pu                        geo  \n0        0.9  POINT (-2.91341 -0.64387)  \n1        0.9   POINT (0.93699 -0.11737)  \n5        0.9   POINT (-1.29440 1.87189)  \n7        0.9   POINT (-0.06390 0.28582)  \n8        0.9                       None  \n9        NaN                       None  ",
      "text/html": "<div>\n<style scoped>\n    .dataframe tbody tr th:only-of-type {\n        vertical-align: middle;\n    }\n\n    .dataframe tbody tr th {\n        vertical-align: top;\n    }\n\n    .dataframe thead th {\n        text-align: right;\n    }\n</style>\n<table border=\"1\" class=\"dataframe\">\n  <thead>\n    <tr style=\"text-align: right;\">\n      <th></th>\n      <th>name</th>\n      <th>vn_kv</th>\n      <th>type</th>\n      <th>zone</th>\n      <th>in_service</th>\n      <th>max_vm_pu</th>\n      <th>min_vm_pu</th>\n      <th>geo</th>\n    </tr>\n  </thead>\n  <tbody>\n    <tr>\n      <th>0</th>\n      <td>1</td>\n      <td>345.0</td>\n      <td>b</td>\n      <td>0</td>\n      <td>True</td>\n      <td>1.1</td>\n      <td>0.9</td>\n      <td>POINT (-2.91341 -0.64387)</td>\n    </tr>\n    <tr>\n      <th>1</th>\n      <td>2</td>\n      <td>345.0</td>\n      <td>b</td>\n      <td>1</td>\n      <td>True</td>\n      <td>1.1</td>\n      <td>0.9</td>\n      <td>POINT (0.93699 -0.11737)</td>\n    </tr>\n    <tr>\n      <th>5</th>\n      <td>6</td>\n      <td>345.0</td>\n      <td>b</td>\n      <td>1</td>\n      <td>True</td>\n      <td>1.1</td>\n      <td>0.9</td>\n      <td>POINT (-1.29440 1.87189)</td>\n    </tr>\n    <tr>\n      <th>7</th>\n      <td>8</td>\n      <td>345.0</td>\n      <td>b</td>\n      <td>1</td>\n      <td>True</td>\n      <td>1.1</td>\n      <td>0.9</td>\n      <td>POINT (-0.06390 0.28582)</td>\n    </tr>\n    <tr>\n      <th>8</th>\n      <td>load_integrated-total 4/6/8</td>\n      <td>345.0</td>\n      <td>b</td>\n      <td>None</td>\n      <td>True</td>\n      <td>1.1</td>\n      <td>0.9</td>\n      <td>None</td>\n    </tr>\n    <tr>\n      <th>9</th>\n      <td>gen_separate-total 2</td>\n      <td>345.0</td>\n      <td>b</td>\n      <td>NaN</td>\n      <td>True</td>\n      <td>NaN</td>\n      <td>NaN</td>\n      <td>None</td>\n    </tr>\n  </tbody>\n</table>\n</div>"
     },
     "execution_count": 185,
     "metadata": {},
     "output_type": "execute_result"
    }
   ],
   "source": [
    "net_eq.bus"
   ]
  },
  {
   "cell_type": "markdown",
   "metadata": {},
   "source": [
    "## Grid equivalents with DC lines"
   ]
  },
  {
   "cell_type": "code",
   "execution_count": 186,
   "metadata": {
    "ExecuteTime": {
     "end_time": "2024-03-30T08:31:47.264530Z",
     "start_time": "2024-03-30T08:31:47.199715Z"
    }
   },
   "outputs": [],
   "source": [
    "pp.drop_lines(net, [2])\n",
    "pp.create_dcline(net, 4, 5, 50, 0.5, 0.7, 1.0, 1.0)\n",
    "pp.runpp(net)"
   ]
  },
  {
   "cell_type": "code",
   "execution_count": 187,
   "metadata": {
    "ExecuteTime": {
     "end_time": "2024-03-30T08:31:48.349740Z",
     "start_time": "2024-03-30T08:31:47.266487Z"
    }
   },
   "outputs": [],
   "source": [
    "net_eq = pp.grid_equivalents.get_equivalent(net, \"rei\", [4,8], [0])"
   ]
  },
  {
   "cell_type": "code",
   "execution_count": 188,
   "metadata": {
    "ExecuteTime": {
     "end_time": "2024-03-30T08:31:48.377132Z",
     "start_time": "2024-03-30T08:31:48.352738Z"
    }
   },
   "outputs": [
    {
     "data": {
      "text/plain": "                       name  vn_kv type  zone  in_service  max_vm_pu  \\\n0                         1  345.0    b     0        True        1.1   \n3                         4  345.0    b     0        True        1.1   \n4                         5  345.0    b     0        True        1.1   \n8                         9  345.0    b     0        True        1.1   \n9   load_integrated-total 6  345.0    b  None        True        1.1   \n10     gen_separate-total 1  345.0    b   NaN        True        NaN   \n11     gen_separate-total 2  345.0    b   NaN        True        NaN   \n12     gen_separate-total 5  345.0    b   NaN        True        NaN   \n\n    min_vm_pu                        geo  \n0         0.9  POINT (-2.91341 -0.64387)  \n3         0.9   POINT (-2.05494 0.00979)  \n4         0.9   POINT (-2.17891 1.14892)  \n8         0.9  POINT (-0.98302 -0.39409)  \n9         0.9                       None  \n10        NaN                       None  \n11        NaN                       None  \n12        NaN                       None  ",
      "text/html": "<div>\n<style scoped>\n    .dataframe tbody tr th:only-of-type {\n        vertical-align: middle;\n    }\n\n    .dataframe tbody tr th {\n        vertical-align: top;\n    }\n\n    .dataframe thead th {\n        text-align: right;\n    }\n</style>\n<table border=\"1\" class=\"dataframe\">\n  <thead>\n    <tr style=\"text-align: right;\">\n      <th></th>\n      <th>name</th>\n      <th>vn_kv</th>\n      <th>type</th>\n      <th>zone</th>\n      <th>in_service</th>\n      <th>max_vm_pu</th>\n      <th>min_vm_pu</th>\n      <th>geo</th>\n    </tr>\n  </thead>\n  <tbody>\n    <tr>\n      <th>0</th>\n      <td>1</td>\n      <td>345.0</td>\n      <td>b</td>\n      <td>0</td>\n      <td>True</td>\n      <td>1.1</td>\n      <td>0.9</td>\n      <td>POINT (-2.91341 -0.64387)</td>\n    </tr>\n    <tr>\n      <th>3</th>\n      <td>4</td>\n      <td>345.0</td>\n      <td>b</td>\n      <td>0</td>\n      <td>True</td>\n      <td>1.1</td>\n      <td>0.9</td>\n      <td>POINT (-2.05494 0.00979)</td>\n    </tr>\n    <tr>\n      <th>4</th>\n      <td>5</td>\n      <td>345.0</td>\n      <td>b</td>\n      <td>0</td>\n      <td>True</td>\n      <td>1.1</td>\n      <td>0.9</td>\n      <td>POINT (-2.17891 1.14892)</td>\n    </tr>\n    <tr>\n      <th>8</th>\n      <td>9</td>\n      <td>345.0</td>\n      <td>b</td>\n      <td>0</td>\n      <td>True</td>\n      <td>1.1</td>\n      <td>0.9</td>\n      <td>POINT (-0.98302 -0.39409)</td>\n    </tr>\n    <tr>\n      <th>9</th>\n      <td>load_integrated-total 6</td>\n      <td>345.0</td>\n      <td>b</td>\n      <td>None</td>\n      <td>True</td>\n      <td>1.1</td>\n      <td>0.9</td>\n      <td>None</td>\n    </tr>\n    <tr>\n      <th>10</th>\n      <td>gen_separate-total 1</td>\n      <td>345.0</td>\n      <td>b</td>\n      <td>NaN</td>\n      <td>True</td>\n      <td>NaN</td>\n      <td>NaN</td>\n      <td>None</td>\n    </tr>\n    <tr>\n      <th>11</th>\n      <td>gen_separate-total 2</td>\n      <td>345.0</td>\n      <td>b</td>\n      <td>NaN</td>\n      <td>True</td>\n      <td>NaN</td>\n      <td>NaN</td>\n      <td>None</td>\n    </tr>\n    <tr>\n      <th>12</th>\n      <td>gen_separate-total 5</td>\n      <td>345.0</td>\n      <td>b</td>\n      <td>NaN</td>\n      <td>True</td>\n      <td>NaN</td>\n      <td>NaN</td>\n      <td>None</td>\n    </tr>\n  </tbody>\n</table>\n</div>"
     },
     "execution_count": 188,
     "metadata": {},
     "output_type": "execute_result"
    }
   ],
   "source": [
    "net_eq.bus"
   ]
  }
 ],
 "metadata": {
  "kernelspec": {
   "display_name": "Python 3 (ipykernel)",
   "language": "python",
   "name": "python3"
  },
  "language_info": {
   "codemirror_mode": {
    "name": "ipython",
    "version": 3
   },
   "file_extension": ".py",
   "mimetype": "text/x-python",
   "name": "python",
   "nbconvert_exporter": "python",
   "pygments_lexer": "ipython3",
   "version": "3.9.13"
  }
 },
 "nbformat": 4,
 "nbformat_minor": 2
}
