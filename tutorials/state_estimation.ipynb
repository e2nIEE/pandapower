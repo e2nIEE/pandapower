{
 "cells": [
  {
   "cell_type": "markdown",
   "metadata": {},
   "source": [
    "# pandapower WLS State Estimation\n",
    "This is an introduction into the usage of the pandapower state estimation module. It shows how to \n",
    "create measurements for a pandapower network and how to perform a state estimation with the weighted least squares (WLS) algorithm.\n",
    "\n",
    "## Example Network\n",
    "\n",
    "We will be using the reference network from the book \"Power System State Estimation\" by Ali Abur and Antonio Gómez Expósito. \n",
    "It contains 3 buses with connecting lines between buses 1-2, 1-3 and 2-3. 8 measurements of different types enable WLS state estimation.\n",
    "\n",
    "We first create this network in pandapower."
   ]
  },
  {
   "metadata": {
    "ExecuteTime": {
     "end_time": "2025-10-20T12:28:39.927403Z",
     "start_time": "2025-10-20T12:28:35.154582Z"
    }
   },
   "cell_type": "code",
   "source": [
    "from pandapower.create import (\n",
    "    create_empty_network,\n",
    "    create_bus,\n",
    "    create_ext_grid,\n",
    "    create_line_from_parameters,\n",
    "    create_measurement\n",
    ")"
   ],
   "outputs": [],
   "execution_count": 1
  },
  {
   "cell_type": "code",
   "metadata": {
    "ExecuteTime": {
     "end_time": "2025-10-20T12:28:40.159989Z",
     "start_time": "2025-10-20T12:28:39.933401Z"
    }
   },
   "source": [
    "net = create_empty_network()\n",
    "\n",
    "b1 = create_bus(net, name=\"bus 1\", vn_kv=1., index=1)\n",
    "b2 = create_bus(net, name=\"bus 2\", vn_kv=1., index=2)\n",
    "b3 = create_bus(net, name=\"bus 3\", vn_kv=1., index=3)\n",
    "\n",
    "create_ext_grid(net, 1)  # set the slack bus to bus 1\n",
    "\n",
    "l1 = create_line_from_parameters(net, 1, 2, 1, r_ohm_per_km=.01, x_ohm_per_km=.03, c_nf_per_km=0., max_i_ka=1)\n",
    "l2 = create_line_from_parameters(net, 1, 3, 1, r_ohm_per_km=.02, x_ohm_per_km=.05, c_nf_per_km=0., max_i_ka=1)\n",
    "l3 = create_line_from_parameters(net, 2, 3, 1, r_ohm_per_km=.03, x_ohm_per_km=.08, c_nf_per_km=0., max_i_ka=1)\n",
    "\n",
    "net"
   ],
   "outputs": [
    {
     "data": {
      "text/plain": [
       "This pandapower network includes the following parameter tables:\n",
       "   - bus (3 elements)\n",
       "   - ext_grid (1 element)\n",
       "   - line (3 elements)"
      ]
     },
     "execution_count": 2,
     "metadata": {},
     "output_type": "execute_result"
    }
   ],
   "execution_count": 2
  },
  {
   "cell_type": "markdown",
   "metadata": {},
   "source": [
    "Now we can add our measurements, which are valid for one point in time.\n",
    "\n",
    "We add two voltage magnitude measurements on buses 1 / 2 with voltage magnitude of 1.006 pu / 0.968 pu and a standard deviation of 0.004 pu each:"
   ]
  },
  {
   "cell_type": "markdown",
   "metadata": {},
   "source": [
    "## Adding Measurements\n",
    "\n",
    "Measurements are defined via the pandapower *create_measurement* function.    \n",
    "The physical properties which can be measured are set with the *type* argument and can be one of the following: \"p\" for active power, \"q\" for reactive power, \"v\" for voltage and \"i\" for electrical current.   \n",
    "The element is set with the *element_type* argument, it can be either \"bus\", \"line\" or \"transformer\".    \n",
    "Power is measured in kW / kVar, voltage in per unit and current in A. Bus power injections are positive if power is generated at the bus and negative if it is consumed."
   ]
  },
  {
   "cell_type": "code",
   "metadata": {
    "scrolled": true,
    "ExecuteTime": {
     "end_time": "2025-10-20T12:28:40.207321Z",
     "start_time": "2025-10-20T12:28:40.169368Z"
    }
   },
   "source": [
    "create_measurement(net, \"v\", \"bus\", 1.006, .004, element=b1)        # V at bus 1\n",
    "create_measurement(net, \"v\", \"bus\", 0.968, .004, element=b2)        # V at bus 2\n",
    "net.measurement"
   ],
   "outputs": [
    {
     "data": {
      "text/plain": [
       "   name measurement_type element_type  element  value  std_dev  side\n",
       "0  None                v          bus        1  1.006    0.004  None\n",
       "1  None                v          bus        2  0.968    0.004  None"
      ],
      "text/html": [
       "<div>\n",
       "<style scoped>\n",
       "    .dataframe tbody tr th:only-of-type {\n",
       "        vertical-align: middle;\n",
       "    }\n",
       "\n",
       "    .dataframe tbody tr th {\n",
       "        vertical-align: top;\n",
       "    }\n",
       "\n",
       "    .dataframe thead th {\n",
       "        text-align: right;\n",
       "    }\n",
       "</style>\n",
       "<table border=\"1\" class=\"dataframe\">\n",
       "  <thead>\n",
       "    <tr style=\"text-align: right;\">\n",
       "      <th></th>\n",
       "      <th>name</th>\n",
       "      <th>measurement_type</th>\n",
       "      <th>element_type</th>\n",
       "      <th>element</th>\n",
       "      <th>value</th>\n",
       "      <th>std_dev</th>\n",
       "      <th>side</th>\n",
       "    </tr>\n",
       "  </thead>\n",
       "  <tbody>\n",
       "    <tr>\n",
       "      <th>0</th>\n",
       "      <td>None</td>\n",
       "      <td>v</td>\n",
       "      <td>bus</td>\n",
       "      <td>1</td>\n",
       "      <td>1.006</td>\n",
       "      <td>0.004</td>\n",
       "      <td>None</td>\n",
       "    </tr>\n",
       "    <tr>\n",
       "      <th>1</th>\n",
       "      <td>None</td>\n",
       "      <td>v</td>\n",
       "      <td>bus</td>\n",
       "      <td>2</td>\n",
       "      <td>0.968</td>\n",
       "      <td>0.004</td>\n",
       "      <td>None</td>\n",
       "    </tr>\n",
       "  </tbody>\n",
       "</table>\n",
       "</div>"
      ]
     },
     "execution_count": 3,
     "metadata": {},
     "output_type": "execute_result"
    }
   ],
   "execution_count": 3
  },
  {
   "cell_type": "markdown",
   "metadata": {},
   "source": [
    "We add bus injection measurements on bus 2 with P=-501 kW and Q=-286kVar and standard deviations of 10kVA: "
   ]
  },
  {
   "cell_type": "code",
   "metadata": {
    "ExecuteTime": {
     "end_time": "2025-10-20T12:28:40.332964Z",
     "start_time": "2025-10-20T12:28:40.306962Z"
    }
   },
   "source": [
    "create_measurement(net, \"p\", \"bus\", 0.501, 0.01, element=b2)         # P at bus 2\n",
    "create_measurement(net, \"q\", \"bus\", 0.286, 0.01, element=b2)         # Q at bus 2\n",
    "net.measurement"
   ],
   "outputs": [
    {
     "data": {
      "text/plain": [
       "   name measurement_type element_type  element  value  std_dev  side\n",
       "0  None                v          bus        1  1.006    0.004  None\n",
       "1  None                v          bus        2  0.968    0.004  None\n",
       "2  None                p          bus        2  0.501    0.010  None\n",
       "3  None                q          bus        2  0.286    0.010  None"
      ],
      "text/html": [
       "<div>\n",
       "<style scoped>\n",
       "    .dataframe tbody tr th:only-of-type {\n",
       "        vertical-align: middle;\n",
       "    }\n",
       "\n",
       "    .dataframe tbody tr th {\n",
       "        vertical-align: top;\n",
       "    }\n",
       "\n",
       "    .dataframe thead th {\n",
       "        text-align: right;\n",
       "    }\n",
       "</style>\n",
       "<table border=\"1\" class=\"dataframe\">\n",
       "  <thead>\n",
       "    <tr style=\"text-align: right;\">\n",
       "      <th></th>\n",
       "      <th>name</th>\n",
       "      <th>measurement_type</th>\n",
       "      <th>element_type</th>\n",
       "      <th>element</th>\n",
       "      <th>value</th>\n",
       "      <th>std_dev</th>\n",
       "      <th>side</th>\n",
       "    </tr>\n",
       "  </thead>\n",
       "  <tbody>\n",
       "    <tr>\n",
       "      <th>0</th>\n",
       "      <td>None</td>\n",
       "      <td>v</td>\n",
       "      <td>bus</td>\n",
       "      <td>1</td>\n",
       "      <td>1.006</td>\n",
       "      <td>0.004</td>\n",
       "      <td>None</td>\n",
       "    </tr>\n",
       "    <tr>\n",
       "      <th>1</th>\n",
       "      <td>None</td>\n",
       "      <td>v</td>\n",
       "      <td>bus</td>\n",
       "      <td>2</td>\n",
       "      <td>0.968</td>\n",
       "      <td>0.004</td>\n",
       "      <td>None</td>\n",
       "    </tr>\n",
       "    <tr>\n",
       "      <th>2</th>\n",
       "      <td>None</td>\n",
       "      <td>p</td>\n",
       "      <td>bus</td>\n",
       "      <td>2</td>\n",
       "      <td>0.501</td>\n",
       "      <td>0.010</td>\n",
       "      <td>None</td>\n",
       "    </tr>\n",
       "    <tr>\n",
       "      <th>3</th>\n",
       "      <td>None</td>\n",
       "      <td>q</td>\n",
       "      <td>bus</td>\n",
       "      <td>2</td>\n",
       "      <td>0.286</td>\n",
       "      <td>0.010</td>\n",
       "      <td>None</td>\n",
       "    </tr>\n",
       "  </tbody>\n",
       "</table>\n",
       "</div>"
      ]
     },
     "execution_count": 4,
     "metadata": {},
     "output_type": "execute_result"
    }
   ],
   "execution_count": 4
  },
  {
   "cell_type": "markdown",
   "metadata": {},
   "source": [
    "Finally, we add line measurements for lines 0 and 1, both placed at the side of bus 1. The bus parameter defines the bus at which the line measurement is positioned, the line argument is the index of the line."
   ]
  },
  {
   "cell_type": "code",
   "metadata": {
    "ExecuteTime": {
     "end_time": "2025-10-20T12:28:40.809964Z",
     "start_time": "2025-10-20T12:28:40.759991Z"
    }
   },
   "source": [
    "create_measurement(net, \"p\", \"line\", 0.888, 0.008, element=l1, side=\"from\")  # Pline (bus 1 -> bus 2) at bus 1\n",
    "create_measurement(net, \"p\", \"line\", 1.173, 0.008, element=l2, side=\"from\")  # Pline (bus 1 -> bus 3) at bus 1\n",
    "create_measurement(net, \"q\", \"line\", 0.568, 0.008, element=l1, side=\"from\")  # Qline (bus 1 -> bus 2) at bus 1\n",
    "create_measurement(net, \"q\", \"line\", 0.663, 0.008, element=l2, side=\"from\")  # Qline (bus 1 -> bus 3) at bus 1\n",
    "net.measurement"
   ],
   "outputs": [
    {
     "data": {
      "text/plain": [
       "   name measurement_type element_type  element  value  std_dev  side\n",
       "0  None                v          bus        1  1.006    0.004  None\n",
       "1  None                v          bus        2  0.968    0.004  None\n",
       "2  None                p          bus        2  0.501    0.010  None\n",
       "3  None                q          bus        2  0.286    0.010  None\n",
       "4  None                p         line        0  0.888    0.008  from\n",
       "5  None                p         line        1  1.173    0.008  from\n",
       "6  None                q         line        0  0.568    0.008  from\n",
       "7  None                q         line        1  0.663    0.008  from"
      ],
      "text/html": [
       "<div>\n",
       "<style scoped>\n",
       "    .dataframe tbody tr th:only-of-type {\n",
       "        vertical-align: middle;\n",
       "    }\n",
       "\n",
       "    .dataframe tbody tr th {\n",
       "        vertical-align: top;\n",
       "    }\n",
       "\n",
       "    .dataframe thead th {\n",
       "        text-align: right;\n",
       "    }\n",
       "</style>\n",
       "<table border=\"1\" class=\"dataframe\">\n",
       "  <thead>\n",
       "    <tr style=\"text-align: right;\">\n",
       "      <th></th>\n",
       "      <th>name</th>\n",
       "      <th>measurement_type</th>\n",
       "      <th>element_type</th>\n",
       "      <th>element</th>\n",
       "      <th>value</th>\n",
       "      <th>std_dev</th>\n",
       "      <th>side</th>\n",
       "    </tr>\n",
       "  </thead>\n",
       "  <tbody>\n",
       "    <tr>\n",
       "      <th>0</th>\n",
       "      <td>None</td>\n",
       "      <td>v</td>\n",
       "      <td>bus</td>\n",
       "      <td>1</td>\n",
       "      <td>1.006</td>\n",
       "      <td>0.004</td>\n",
       "      <td>None</td>\n",
       "    </tr>\n",
       "    <tr>\n",
       "      <th>1</th>\n",
       "      <td>None</td>\n",
       "      <td>v</td>\n",
       "      <td>bus</td>\n",
       "      <td>2</td>\n",
       "      <td>0.968</td>\n",
       "      <td>0.004</td>\n",
       "      <td>None</td>\n",
       "    </tr>\n",
       "    <tr>\n",
       "      <th>2</th>\n",
       "      <td>None</td>\n",
       "      <td>p</td>\n",
       "      <td>bus</td>\n",
       "      <td>2</td>\n",
       "      <td>0.501</td>\n",
       "      <td>0.010</td>\n",
       "      <td>None</td>\n",
       "    </tr>\n",
       "    <tr>\n",
       "      <th>3</th>\n",
       "      <td>None</td>\n",
       "      <td>q</td>\n",
       "      <td>bus</td>\n",
       "      <td>2</td>\n",
       "      <td>0.286</td>\n",
       "      <td>0.010</td>\n",
       "      <td>None</td>\n",
       "    </tr>\n",
       "    <tr>\n",
       "      <th>4</th>\n",
       "      <td>None</td>\n",
       "      <td>p</td>\n",
       "      <td>line</td>\n",
       "      <td>0</td>\n",
       "      <td>0.888</td>\n",
       "      <td>0.008</td>\n",
       "      <td>from</td>\n",
       "    </tr>\n",
       "    <tr>\n",
       "      <th>5</th>\n",
       "      <td>None</td>\n",
       "      <td>p</td>\n",
       "      <td>line</td>\n",
       "      <td>1</td>\n",
       "      <td>1.173</td>\n",
       "      <td>0.008</td>\n",
       "      <td>from</td>\n",
       "    </tr>\n",
       "    <tr>\n",
       "      <th>6</th>\n",
       "      <td>None</td>\n",
       "      <td>q</td>\n",
       "      <td>line</td>\n",
       "      <td>0</td>\n",
       "      <td>0.568</td>\n",
       "      <td>0.008</td>\n",
       "      <td>from</td>\n",
       "    </tr>\n",
       "    <tr>\n",
       "      <th>7</th>\n",
       "      <td>None</td>\n",
       "      <td>q</td>\n",
       "      <td>line</td>\n",
       "      <td>1</td>\n",
       "      <td>0.663</td>\n",
       "      <td>0.008</td>\n",
       "      <td>from</td>\n",
       "    </tr>\n",
       "  </tbody>\n",
       "</table>\n",
       "</div>"
      ]
     },
     "execution_count": 5,
     "metadata": {},
     "output_type": "execute_result"
    }
   ],
   "execution_count": 5
  },
  {
   "cell_type": "markdown",
   "metadata": {},
   "source": [
    "## Performing the State Estimation\n",
    "\n",
    "The measurements are now set. We have to initialize the starting voltage magnitude and voltage angles for the state estimator. In continuous operation, this can be the result of the last state estimation. In our case, we set flat start conditions: 1.0 p.u. for voltage magnitude, 0.0 degree for voltage angles. This is easily done with the parameter \"init\", which we define as \"flat\"."
   ]
  },
  {
   "cell_type": "markdown",
   "metadata": {},
   "source": [
    "And now run the state estimation. Afterwards, the result will be stored in the table res_bus_est."
   ]
  },
  {
   "cell_type": "code",
   "metadata": {
    "scrolled": true,
    "ExecuteTime": {
     "end_time": "2025-10-20T12:28:43.344558Z",
     "start_time": "2025-10-20T12:28:40.979125Z"
    }
   },
   "source": [
    "from pandapower.estimation import estimate\n",
    "\n",
    "success = estimate(net, init='flat')\n",
    "print(success)"
   ],
   "outputs": [
    {
     "name": "stdout",
     "output_type": "stream",
     "text": [
      "{'success': True, 'num_iterations': 4, 'objective_function_value': None, 'time': '2025-10-20 14:28:43'}\n"
     ]
    }
   ],
   "execution_count": 6
  },
  {
   "cell_type": "markdown",
   "metadata": {},
   "source": [
    "## Handling of Bad Data\n",
    "\n",
    "The state estimation class allows additionally the removal of bad data, especially single or non-interacting false measurements. For detecting bad data the Chi-squared distribution is used to identify the presence of them. Afterwards follows the largest normalized residual test that identifys the actual measurements which will be removed at the end.\n",
    "\n",
    "To test this function we will add a single false measurement to the network (active power flow of line 1 at bus 2):"
   ]
  },
  {
   "cell_type": "code",
   "metadata": {
    "ExecuteTime": {
     "end_time": "2025-10-20T12:28:43.441138Z",
     "start_time": "2025-10-20T12:28:43.412856Z"
    }
   },
   "source": [
    "create_measurement(net, \"p\", \"line\", 1.0, 0.008, element=l1, side=\"to\")  # Pline (bus 1 -> bus 2) at bus 2\n",
    "net.measurement"
   ],
   "outputs": [
    {
     "data": {
      "text/plain": [
       "   name measurement_type element_type  element  value  std_dev  side\n",
       "0  None                v          bus        1  1.006    0.004  None\n",
       "1  None                v          bus        2  0.968    0.004  None\n",
       "2  None                p          bus        2  0.501    0.010  None\n",
       "3  None                q          bus        2  0.286    0.010  None\n",
       "4  None                p         line        0  0.888    0.008  from\n",
       "5  None                p         line        1  1.173    0.008  from\n",
       "6  None                q         line        0  0.568    0.008  from\n",
       "7  None                q         line        1  0.663    0.008  from\n",
       "8  None                p         line        0  1.000    0.008    to"
      ],
      "text/html": [
       "<div>\n",
       "<style scoped>\n",
       "    .dataframe tbody tr th:only-of-type {\n",
       "        vertical-align: middle;\n",
       "    }\n",
       "\n",
       "    .dataframe tbody tr th {\n",
       "        vertical-align: top;\n",
       "    }\n",
       "\n",
       "    .dataframe thead th {\n",
       "        text-align: right;\n",
       "    }\n",
       "</style>\n",
       "<table border=\"1\" class=\"dataframe\">\n",
       "  <thead>\n",
       "    <tr style=\"text-align: right;\">\n",
       "      <th></th>\n",
       "      <th>name</th>\n",
       "      <th>measurement_type</th>\n",
       "      <th>element_type</th>\n",
       "      <th>element</th>\n",
       "      <th>value</th>\n",
       "      <th>std_dev</th>\n",
       "      <th>side</th>\n",
       "    </tr>\n",
       "  </thead>\n",
       "  <tbody>\n",
       "    <tr>\n",
       "      <th>0</th>\n",
       "      <td>None</td>\n",
       "      <td>v</td>\n",
       "      <td>bus</td>\n",
       "      <td>1</td>\n",
       "      <td>1.006</td>\n",
       "      <td>0.004</td>\n",
       "      <td>None</td>\n",
       "    </tr>\n",
       "    <tr>\n",
       "      <th>1</th>\n",
       "      <td>None</td>\n",
       "      <td>v</td>\n",
       "      <td>bus</td>\n",
       "      <td>2</td>\n",
       "      <td>0.968</td>\n",
       "      <td>0.004</td>\n",
       "      <td>None</td>\n",
       "    </tr>\n",
       "    <tr>\n",
       "      <th>2</th>\n",
       "      <td>None</td>\n",
       "      <td>p</td>\n",
       "      <td>bus</td>\n",
       "      <td>2</td>\n",
       "      <td>0.501</td>\n",
       "      <td>0.010</td>\n",
       "      <td>None</td>\n",
       "    </tr>\n",
       "    <tr>\n",
       "      <th>3</th>\n",
       "      <td>None</td>\n",
       "      <td>q</td>\n",
       "      <td>bus</td>\n",
       "      <td>2</td>\n",
       "      <td>0.286</td>\n",
       "      <td>0.010</td>\n",
       "      <td>None</td>\n",
       "    </tr>\n",
       "    <tr>\n",
       "      <th>4</th>\n",
       "      <td>None</td>\n",
       "      <td>p</td>\n",
       "      <td>line</td>\n",
       "      <td>0</td>\n",
       "      <td>0.888</td>\n",
       "      <td>0.008</td>\n",
       "      <td>from</td>\n",
       "    </tr>\n",
       "    <tr>\n",
       "      <th>5</th>\n",
       "      <td>None</td>\n",
       "      <td>p</td>\n",
       "      <td>line</td>\n",
       "      <td>1</td>\n",
       "      <td>1.173</td>\n",
       "      <td>0.008</td>\n",
       "      <td>from</td>\n",
       "    </tr>\n",
       "    <tr>\n",
       "      <th>6</th>\n",
       "      <td>None</td>\n",
       "      <td>q</td>\n",
       "      <td>line</td>\n",
       "      <td>0</td>\n",
       "      <td>0.568</td>\n",
       "      <td>0.008</td>\n",
       "      <td>from</td>\n",
       "    </tr>\n",
       "    <tr>\n",
       "      <th>7</th>\n",
       "      <td>None</td>\n",
       "      <td>q</td>\n",
       "      <td>line</td>\n",
       "      <td>1</td>\n",
       "      <td>0.663</td>\n",
       "      <td>0.008</td>\n",
       "      <td>from</td>\n",
       "    </tr>\n",
       "    <tr>\n",
       "      <th>8</th>\n",
       "      <td>None</td>\n",
       "      <td>p</td>\n",
       "      <td>line</td>\n",
       "      <td>0</td>\n",
       "      <td>1.000</td>\n",
       "      <td>0.008</td>\n",
       "      <td>to</td>\n",
       "    </tr>\n",
       "  </tbody>\n",
       "</table>\n",
       "</div>"
      ]
     },
     "execution_count": 7,
     "metadata": {},
     "output_type": "execute_result"
    }
   ],
   "execution_count": 7
  },
  {
   "cell_type": "markdown",
   "metadata": {},
   "source": [
    "The next step is the call of the largest normalized residual test's wrapper function *remove_bad_data* that handles the removal of the added false measurement, and returns a identication of success of the state estimation. The argument structure of this function is similiar to the *estimate* function (compare above). It only provides further adjustments according to the maximum allowed normalized residual (\"rn_max_threshold\"), and the probability of false required by the  chi-squared test (\"chi2_prob_false\")."
   ]
  },
  {
   "cell_type": "code",
   "metadata": {
    "ExecuteTime": {
     "end_time": "2025-10-20T12:28:43.963134Z",
     "start_time": "2025-10-20T12:28:43.609761Z"
    }
   },
   "source": [
    "from pandapower.estimation import remove_bad_data\n",
    "import numpy as np\n",
    "\n",
    "success_rn_max = remove_bad_data(net, init='flat', rn_max_threshold=3.0)\n",
    "print(success_rn_max)"
   ],
   "outputs": [
    {
     "name": "stdout",
     "output_type": "stream",
     "text": [
      "True\n"
     ]
    }
   ],
   "execution_count": 8
  },
  {
   "cell_type": "markdown",
   "metadata": {},
   "source": [
    "The management of results will be the same like for the *estimate* function (see following section)."
   ]
  },
  {
   "cell_type": "markdown",
   "metadata": {},
   "source": [
    "## Working with Results\n",
    "\n",
    "We can show the voltage magnitude and angles directly:"
   ]
  },
  {
   "cell_type": "code",
   "metadata": {
    "scrolled": false,
    "ExecuteTime": {
     "end_time": "2025-10-20T12:28:44.040595Z",
     "start_time": "2025-10-20T12:28:44.032580Z"
    }
   },
   "source": [
    "net.res_bus_est.vm_pu"
   ],
   "outputs": [
    {
     "data": {
      "text/plain": [
       "1    0.999629\n",
       "2    0.974156\n",
       "3    0.943890\n",
       "Name: vm_pu, dtype: float64"
      ]
     },
     "execution_count": 9,
     "metadata": {},
     "output_type": "execute_result"
    }
   ],
   "execution_count": 9
  },
  {
   "cell_type": "code",
   "metadata": {
    "ExecuteTime": {
     "end_time": "2025-10-20T12:28:44.229418Z",
     "start_time": "2025-10-20T12:28:44.207267Z"
    }
   },
   "source": [
    "net.res_bus_est.va_degree"
   ],
   "outputs": [
    {
     "data": {
      "text/plain": [
       "1    0.000000\n",
       "2   -1.247547\n",
       "3   -2.745717\n",
       "Name: va_degree, dtype: float64"
      ]
     },
     "execution_count": 10,
     "metadata": {},
     "output_type": "execute_result"
    }
   ],
   "execution_count": 10
  },
  {
   "cell_type": "markdown",
   "metadata": {},
   "source": [
    "The results match exactly with the results from the book: Voltages 0.9996, 0.9742, 0.9439; Voltage angles 0.0, -1.2475, -2.7457). Nice!    \n",
    "Let's look at the bus power injections, which are available in res_bus_est as well"
   ]
  },
  {
   "cell_type": "code",
   "metadata": {
    "ExecuteTime": {
     "end_time": "2025-10-20T12:28:44.677946Z",
     "start_time": "2025-10-20T12:28:44.653608Z"
    }
   },
   "source": [
    "net.res_bus_est.p_mw"
   ],
   "outputs": [
    {
     "data": {
      "text/plain": [
       "1   -2.064016\n",
       "2    0.495975\n",
       "3    1.514221\n",
       "Name: p_mw, dtype: float64"
      ]
     },
     "execution_count": 11,
     "metadata": {},
     "output_type": "execute_result"
    }
   ],
   "execution_count": 11
  },
  {
   "cell_type": "code",
   "metadata": {
    "ExecuteTime": {
     "end_time": "2025-10-20T12:28:44.834125Z",
     "start_time": "2025-10-20T12:28:44.819826Z"
    }
   },
   "source": [
    "net.res_bus_est.q_mvar"
   ],
   "outputs": [
    {
     "data": {
      "text/plain": [
       "1   -1.226440\n",
       "2    0.297750\n",
       "3    0.787529\n",
       "Name: q_mvar, dtype: float64"
      ]
     },
     "execution_count": 12,
     "metadata": {},
     "output_type": "execute_result"
    }
   ],
   "execution_count": 12
  },
  {
   "cell_type": "markdown",
   "metadata": {},
   "source": [
    "We can also compare the resulting line power flows with the measurements."
   ]
  },
  {
   "cell_type": "code",
   "metadata": {
    "ExecuteTime": {
     "end_time": "2025-10-20T12:28:45.226387Z",
     "start_time": "2025-10-20T12:28:45.208678Z"
    }
   },
   "source": [
    "net.res_line_est.p_from_mw"
   ],
   "outputs": [
    {
     "data": {
      "text/plain": [
       "0    0.892992\n",
       "1    1.171024\n",
       "2    0.385912\n",
       "Name: p_from_mw, dtype: float64"
      ]
     },
     "execution_count": 13,
     "metadata": {},
     "output_type": "execute_result"
    }
   ],
   "execution_count": 13
  },
  {
   "cell_type": "code",
   "metadata": {
    "ExecuteTime": {
     "end_time": "2025-10-20T12:28:45.413608Z",
     "start_time": "2025-10-20T12:28:45.392784Z"
    }
   },
   "source": [
    "net.res_line_est.q_from_mvar"
   ],
   "outputs": [
    {
     "data": {
      "text/plain": [
       "0    0.558822\n",
       "1    0.667619\n",
       "2    0.227756\n",
       "Name: q_from_mvar, dtype: float64"
      ]
     },
     "execution_count": 14,
     "metadata": {},
     "output_type": "execute_result"
    }
   ],
   "execution_count": 14
  },
  {
   "cell_type": "markdown",
   "metadata": {},
   "source": [
    "Again, this values do match the estimated values from our reference book.\n",
    "This concludes the small tutorial how to perform state estimation with a pandapower network."
   ]
  }
 ],
 "metadata": {
  "anaconda-cloud": {},
  "kernelspec": {
   "display_name": "Python 3",
   "language": "python",
   "name": "python3"
  },
  "language_info": {
   "codemirror_mode": {
    "name": "ipython",
    "version": 3
   },
   "file_extension": ".py",
   "mimetype": "text/x-python",
   "name": "python",
   "nbconvert_exporter": "python",
   "pygments_lexer": "ipython3",
   "version": "3.10.3"
  }
 },
 "nbformat": 4,
 "nbformat_minor": 1
}
