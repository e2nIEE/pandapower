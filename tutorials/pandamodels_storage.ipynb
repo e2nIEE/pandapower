{
 "cells": [
  {
   "cell_type": "markdown",
   "metadata": {
    "pycharm": {
     "name": "#%% md\n"
    }
   },
   "source": [
    "# Multinetwork storage optimization with PandaModels.jl\n",
    "This tutorial describes how to run a storage optimization over multiple timesteps with a PandaModels.jl multinetwork\n",
    "together with pandapower.\n",
    "\n",
    "To run a storage optimization over multiple time steps, the power system data is copied n_timestep times internally.\n",
    "This is done efficiently in a julia script. Each network in the multinetwork dict represents a single time step. \n",
    "The input time series must be written to the loads and generators accordingly to each network. \n",
    "This is currently done by converting input time series to pandapwower controllers, saving it together with the grid data as a json file and loading the data back in julia. This \"hack\" is probably just a temporary solution. \n",
    "\n",
    "Some notes:\n",
    "* only storages which are set as \"controllable\" are optimized\n",
    "* time series can be written to load / sgen elements\n",
    "* output of the optimization is a dict containing pandas DataFrames for every optimized storage and time step   \n",
    "\n",
    "For more details on PowerModels (PandaModels) storage model see:\n",
    "\n",
    "https://lanl-ansi.github.io/PowerModels.jl/stable/storage/ and \n",
    "https://github.com/e2nIEE/PandaModels.jl/blob/develop/src/models/call_powermodels.jl\n",
    "\n",
    "For more details on PowerModels multinetworks see:\n",
    "\n",
    "https://lanl-ansi.github.io/PowerModels.jl/stable/multi-networks/\n"
   ]
  },
  {
   "cell_type": "markdown",
   "metadata": {},
   "source": [
    "# Installation\n",
    "You need the standard Julia, PowerModels, Ipopt and JuMP Installation (see the opf_powermodels.ipynb).\n",
    " "
   ]
  },
  {
   "cell_type": "markdown",
   "metadata": {},
   "source": [
    "# Run the storage optimization\n",
    "In order to start the optimization and visualize results, we follow four steps:\n",
    "1) Load the pandapower grid data (here the cigre MV grid)\n",
    "2) Convert the time series to pandapwoer-controllers\n",
    "3) Start the optimization\n",
    "4) Get and plot the results\n"
   ]
  },
  {
   "cell_type": "markdown",
   "metadata": {
    "pycharm": {
     "name": "#%% md\n"
    }
   },
   "source": [
    "## 1) Get the grid data\n",
    "We load the cigre medium voltage grid with \"pv\" and \"wind\" generators. Also we set some limits and add a storage with\n",
    "**controllable** == True\n"
   ]
  },
  {
   "cell_type": "code",
   "execution_count": 1,
   "metadata": {},
   "outputs": [],
   "source": [
    "import pandapower as pp\n",
    "import pandapower.networks as nw\n",
    "\n",
    "def cigre_grid():\n",
    "    net = nw.create_cigre_network_mv(\"pv_wind\")\n",
    "    # set some limits\n",
    "    min_vm_pu = 0.95\n",
    "    max_vm_pu = 1.05\n",
    "\n",
    "    net[\"bus\"].loc[:, \"min_vm_pu\"] = min_vm_pu\n",
    "    net[\"bus\"].loc[:, \"max_vm_pu\"] = max_vm_pu\n",
    "\n",
    "    net[\"line\"].loc[:, \"max_loading_percent\"] = 100.\n",
    "\n",
    "    # close all switches\n",
    "    net.switch.loc[:, \"closed\"] = True\n",
    "    # add storage to bus 10\n",
    "    pp.create_storage(net, 10, p_mw=0.5, max_e_mwh=.2, soc_percent=0., q_mvar=0., controllable=True)\n",
    "\n",
    "    return net\n",
    "\n"
   ]
  },
  {
   "cell_type": "markdown",
   "metadata": {},
   "source": [
    "## 2) Convert the time series to pandapower-controllers\n",
    "The following functions loads the example time series from the input_file and scales the power accordingly.\n",
    "It then adds the time series data to the grid model by creating controllers.\n"
   ]
  },
  {
   "cell_type": "code",
   "execution_count": 2,
   "metadata": {
    "pycharm": {
     "name": "#%%\n"
    }
   },
   "outputs": [],
   "source": [
    "import pandas as pd\n",
    "from pandapower.control import ConstControl\n",
    "from pandapower.timeseries import DFData\n",
    "\n",
    "def convert_timeseries_to_controller(net, input_file):\n",
    "    \n",
    "    # set the load type in the cigre grid, since it is not specified\n",
    "    net[\"load\"].loc[:, \"type\"] = \"residential\"\n",
    "    \n",
    "    # set the sgen type in the cigre grid\n",
    "    net.sgen.loc[:, \"type\"] = \"pv\"\n",
    "    net.sgen.loc[8, \"type\"] = \"wind\"\n",
    "\n",
    "    # read the example time series\n",
    "    time_series = pd.read_json(input_file)\n",
    "    time_series.sort_index(inplace=True)\n",
    "\n",
    "    # this example time series has a 15min resolution with 96 time steps for one day\n",
    "    n_timesteps = time_series.shape[0]\n",
    "    \n",
    "    # get rated power\n",
    "    load_p = net[\"load\"].loc[:, \"p_mw\"].values\n",
    "    sgen_p = net[\"sgen\"].loc[:7, \"p_mw\"].values\n",
    "    wind_p = net[\"sgen\"].loc[8, \"p_mw\"]\n",
    "\n",
    "    load_ts = pd.DataFrame(index=time_series.index.tolist(), columns=net.load.index.tolist())\n",
    "    sgen_ts = pd.DataFrame(index=time_series.index.tolist(), columns=net.sgen.index.tolist())\n",
    "    for t in range(n_timesteps):\n",
    "        load_ts.loc[t] = load_p * time_series.at[t, \"residential\"]\n",
    "        sgen_ts.loc[t][:8] = sgen_p * time_series.at[t, \"pv\"]\n",
    "        sgen_ts.loc[t][8] = wind_p * time_series.at[t, \"wind\"]\n",
    "\n",
    "    # create time series controller for load and sgen \n",
    "    ConstControl(net, element=\"load\", variable=\"p_mw\",\n",
    "                 element_index=net.load.index.tolist(), profile_name=net.load.index.tolist(),\n",
    "                 data_source=DFData(load_ts))\n",
    "    ConstControl(net, element=\"sgen\", variable=\"p_mw\",\n",
    "                 element_index=net.sgen.index.tolist(), profile_name=net.sgen.index.tolist(),\n",
    "                 data_source=DFData(sgen_ts))\n"
   ]
  },
  {
   "cell_type": "markdown",
   "metadata": {},
   "source": [
    "## 3) Start the optimization \n",
    "Before we start the optimization, we create the grid and controller, adding the time series in 15min resolution. \n"
   ]
  },
  {
   "cell_type": "code",
   "execution_count": 3,
   "metadata": {
    "pycharm": {
     "name": "#%%\n"
    }
   },
   "outputs": [],
   "source": [
    "# open the cigre mv grid\n",
    "net = cigre_grid()\n",
    "\n",
    "# convert the time series to pandapower controller\n",
    "input_file = \"cigre_timeseries_15min.json\"\n",
    "convert_timeseries_to_controller(net, input_file)\n"
   ]
  },
  {
   "cell_type": "markdown",
   "metadata": {},
   "source": [
    "Now, the time series is added through (const) controllers, and you can check the created controllers\n"
   ]
  },
  {
   "cell_type": "code",
   "execution_count": 4,
   "metadata": {
    "pycharm": {
     "name": "#%%\n"
    }
   },
   "outputs": [
    {
     "name": "stdout",
     "output_type": "stream",
     "text": [
      "--- time series controller:                      object  in_service  order level  initial_run  \\\n",
      "0  ConstControl [load.p_mw]        True   -1.0    -1        False   \n",
      "1  ConstControl [sgen.p_mw]        True   -1.0    -1        False   \n",
      "\n",
      "                                          recycle  \n",
      "0  {'trafo': False, 'gen': False, 'bus_pq': True}  \n",
      "1  {'trafo': False, 'gen': False, 'bus_pq': True}  \n",
      "--- considered element of controller 0: load\n",
      "--- considered element index of controller 0: [0, 1, 2, 3, 4, 5, 6, 7, 8, 9, 10, 11, 12, 13, 14, 15, 16, 17]\n",
      "--- time series data:           0         1         2         3         4         5         6   \\\n",
      "0   3.838794  0.070777  0.110512  0.186256  0.140313  0.150247  0.121687   \n",
      "1   3.731032   0.06879   0.10741  0.181027  0.136374  0.146029  0.118271   \n",
      "2   3.178328    0.0586  0.091498  0.154211  0.116172  0.124397  0.100751   \n",
      "3   3.026164  0.055795  0.087118  0.146828   0.11061  0.118441  0.095927   \n",
      "4   3.136205  0.057823  0.090286  0.152167  0.114632  0.122748  0.099416   \n",
      "..       ...       ...       ...       ...       ...       ...       ...   \n",
      "91  6.532286  0.120438  0.188053  0.316943  0.238763  0.255667  0.207069   \n",
      "92  6.160585  0.113585  0.177352  0.298908  0.225177  0.241119  0.195287   \n",
      "93  5.168657  0.095296  0.148796   0.25078  0.188921  0.202296  0.163843   \n",
      "94  4.558566  0.084048  0.131233  0.221179  0.166621  0.178418  0.144504   \n",
      "95  4.293205  0.079155  0.123594  0.208304  0.156922  0.168032  0.136092   \n",
      "\n",
      "          7         8         9         10        11        12        13  \\\n",
      "0   0.084436  3.838794  0.053393  1.240427  0.057669  0.019586  0.146893   \n",
      "1   0.082066  3.731032  0.051895  1.205606   0.05605  0.019036  0.142769   \n",
      "2   0.069909  3.178328  0.044207  1.027011  0.047747  0.016216   0.12162   \n",
      "3   0.066562  3.026164  0.042091  0.977842  0.045461   0.01544  0.115797   \n",
      "4   0.068982  3.136205  0.043621    1.0134  0.047114  0.016001  0.120008   \n",
      "..       ...       ...       ...       ...       ...       ...       ...   \n",
      "91  0.143681  6.532286  0.090857  2.110773  0.098132  0.033328   0.24996   \n",
      "92  0.135505  6.160585  0.085687  1.990665  0.092548  0.031432  0.235737   \n",
      "93  0.113687  5.168657   0.07189  1.670144  0.077647  0.026371   0.19778   \n",
      "94  0.100268  4.558566  0.063405  1.473006  0.068482  0.023258  0.174435   \n",
      "95  0.094431  4.293205  0.059714   1.38726  0.064495  0.021904  0.164281   \n",
      "\n",
      "          14        15        16        17  \n",
      "0   0.017409  1.284206  0.008705  0.084871  \n",
      "1   0.016921  1.248156   0.00846  0.082489  \n",
      "2   0.014414  1.063258  0.007207  0.070269  \n",
      "3   0.013724  1.012354  0.006862  0.066905  \n",
      "4   0.014223  1.049167  0.007112  0.069338  \n",
      "..       ...       ...       ...       ...  \n",
      "91  0.029625  2.185271  0.014812  0.144421  \n",
      "92  0.027939  2.060924   0.01397  0.136203  \n",
      "93  0.023441   1.72909   0.01172  0.114273  \n",
      "94  0.020674  1.524994  0.010337  0.100785  \n",
      "95   0.01947  1.436222  0.009735  0.094918  \n",
      "\n",
      "[96 rows x 18 columns]\n"
     ]
    }
   ],
   "source": [
    "# print controller\n",
    "print(\"--- time series controller:\", net.controller)\n",
    "\n",
    "# print time series data in controller\n",
    "print(\"--- considered element of controller 0:\", net.controller.object[0].__dict__[\"matching_params\"][\"element\"])\n",
    "print(\"--- considered element index of controller 0:\",net.controller.object[0].__dict__[\"matching_params\"][\"element_index\"])\n",
    "print(\"--- time series data:\",net.controller.object[0].data_source.df)\n"
   ]
  },
  {
   "cell_type": "markdown",
   "metadata": {},
   "source": [
    "We start the optimization for timesteps from 0 to 10.\n"
   ]
  },
  {
   "cell_type": "code",
   "execution_count": 5,
   "metadata": {
    "pycharm": {
     "name": "#%%\n"
    }
   },
   "outputs": [
    {
     "name": "stderr",
     "output_type": "stream",
     "text": [
      "hp.pandapower.opf.make_objective - WARNING: no costs are given - overall generated power is minimized\n",
      "hp.pandapower.opf.run_powermodels - INFO: Optimization ('run_powermodels_multi_storage') is finished in 63.47 seconds:\n"
     ]
    }
   ],
   "source": [
    "# run the optimization for the first ten timesteps (the first run can be slow.\n",
    "try:\n",
    "    pp.runpm_storage_opf(net, from_time_step=0, to_time_step=10)\n",
    "except Exception as err:\n",
    "    print(err)"
   ]
  },
  {
   "cell_type": "markdown",
   "metadata": {},
   "source": [
    "## 4) Get and plot the results \n",
    "Get and plot the optimization results for the storage.\n"
   ]
  },
  {
   "cell_type": "code",
   "execution_count": 6,
   "metadata": {
    "pycharm": {
     "name": "#%%\n"
    }
   },
   "outputs": [
    {
     "data": {
      "image/png": "[encoded data removed]",
      "text/plain": [
       "<Figure size 432x288 with 2 Axes>"
      ]
     },
     "metadata": {
      "needs_background": "light"
     },
     "output_type": "display_data"
    }
   ],
   "source": [
    "from pandapower.opf.pm_storage import read_pm_storage_results\n",
    "import matplotlib.pyplot as plt\n",
    "\n",
    "def plot_storage_results(storage_results):\n",
    "    n_res = len(storage_results.keys())\n",
    "    fig, axes = plt.subplots(n_res, 2)\n",
    "    if n_res == 1:\n",
    "        axes = [axes]\n",
    "    for i, (key, val) in enumerate(storage_results.items()):\n",
    "        res = val\n",
    "        axes[i][0].set_title(\"Storage {}\".format(key))\n",
    "        el = res.loc[:, [\"p_mw\", \"q_mvar\", \"soc_mwh\"]]\n",
    "        el.plot(ax=axes[i][0])\n",
    "        axes[i][0].set_xlabel(\"time step\")\n",
    "        axes[i][0].legend(loc=4)\n",
    "        axes[i][0].grid()\n",
    "        ax2 = axes[i][1]\n",
    "        patch = plt.plot([], [], ms=8, ls=\"--\", mec=None, color=\"grey\", label=\"{:s}\".format(\"soc_percent\"))\n",
    "        ax2.legend(handles=patch)\n",
    "        ax2.set_label(\"SOC percent\")\n",
    "        res.loc[:, \"soc_percent\"].plot(ax=ax2, linestyle=\"--\", color=\"grey\")\n",
    "        ax2.grid()\n",
    "    plt.show()\n",
    "\n",
    "# get the results\n",
    "#storage_results = read_pm_storage_results(net)    \n",
    "    \n",
    "# plot the results\n",
    "#plot_storage_results(storage_results)"
   ]
  }
 ],
 "metadata": {
  "kernelspec": {
   "display_name": "Python 3 (ipykernel)",
   "language": "python",
   "name": "python3"
  },
  "language_info": {
   "codemirror_mode": {
    "name": "ipython",
    "version": 3
   },
   "file_extension": ".py",
   "mimetype": "text/x-python",
   "name": "python",
   "nbconvert_exporter": "python",
   "pygments_lexer": "ipython3",
   "version": "3.10.6"
  },
  "pycharm": {
   "stem_cell": {
    "cell_type": "raw",
    "metadata": {
     "collapsed": false
    },
    "source": []
   }
  }
 },
 "nbformat": 4,
 "nbformat_minor": 1
}
