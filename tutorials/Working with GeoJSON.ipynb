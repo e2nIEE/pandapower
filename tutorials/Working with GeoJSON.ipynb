{
 "cells": [
  {
   "cell_type": "markdown",
   "id": "61a0f50a-318c-4a8b-98e9-17c3bc14b839",
   "metadata": {},
   "source": [
    "## Working with GeoJSON"
   ]
  },
  {
   "cell_type": "markdown",
   "id": "dc6d7b2d-deb2-4da2-aa31-420c66b63edf",
   "metadata": {},
   "source": [
    "In the 3.0 release of pandapower, significant changes have been made to how geospatial data is stored in the net object. Previously, geospatial data was stored in the *line_geodata* and *bus_geodata* tables. However, this structure caused several problems:\n",
    "\n",
    "- In what projection are the data points stored?\n",
    "- What do x and y represent? Does x represent latitude, longitude or something else?\n",
    "- Copmatibility issues with frontend services and QGIS\n",
    "\n",
    "To resolve this ambiguity, all geospatial data has now been moved to the line and bus tables under the *geo* column. The geometries are stored as GeoJSON objects. [GeoJSON](https://datatracker.ietf.org/doc/html/rfc7946) is a widely used standard for geospatial data, supporting points, lines, and polygons in a unified format with explicit projection definitions."
   ]
  },
  {
   "cell_type": "code",
   "id": "fe634b5e-44ca-43f3-befb-1aecbe995a56",
   "metadata": {
    "ExecuteTime": {
     "end_time": "2025-10-20T13:21:11.826245Z",
     "start_time": "2025-10-20T13:21:06.957765Z"
    }
   },
   "source": [
    "from pandapower.networks import mv_oberrhein\n",
    "import pandas as pd\n",
    "pd.set_option(\"display.max_colwidth\", 120)"
   ],
   "outputs": [],
   "execution_count": 1
  },
  {
   "cell_type": "code",
   "id": "2bed640f-1894-4b71-9b93-8899dd047f6c",
   "metadata": {
    "ExecuteTime": {
     "end_time": "2025-10-20T13:21:16.047612Z",
     "start_time": "2025-10-20T13:21:11.861249Z"
    }
   },
   "source": [
    "net = mv_oberrhein()\n",
    "print(net.line.geo.head(), \"\\n\")\n",
    "print(net.bus.geo.head())"
   ],
   "outputs": [
    {
     "name": "stdout",
     "output_type": "stream",
     "text": [
      "0    {\"coordinates\": [[7.8947079593416, 48.40549007606241], [7.896048283667894, 48.41060722903666], [7.896173712216692, 4...\n",
      "1    {\"coordinates\": [[7.8947079593416, 48.40549007606241], [7.892690190852129, 48.40551636934287], [7.887502065342014, 4...\n",
      "2      {\"coordinates\": [[7.8947079593416, 48.40549007606241], [7.895064345442788, 48.40360449047714]], \"type\": \"LineString\"}\n",
      "3     {\"coordinates\": [[7.895064345442788, 48.40360449047714], [7.89613191775149, 48.39796660294922]], \"type\": \"LineString\"}\n",
      "4    {\"coordinates\": [[7.89613191775149, 48.39796660294922], [7.897077173332039, 48.39788292247765], [7.9009358501319475,...\n",
      "Name: geo, dtype: object \n",
      "\n",
      "0    {\"coordinates\": [7.765225672614365, 48.41091584192147], \"type\": \"Point\"}\n",
      "1    {\"coordinates\": [7.778809539550178, 48.40987064550492], \"type\": \"Point\"}\n",
      "2     {\"coordinates\": [7.779195765893586, 48.4120381144602], \"type\": \"Point\"}\n",
      "3    {\"coordinates\": [7.775204689771646, 48.40610336882051], \"type\": \"Point\"}\n",
      "4      {\"coordinates\": [7.76606484746611, 48.4124244421834], \"type\": \"Point\"}\n",
      "Name: geo, dtype: object\n"
     ]
    }
   ],
   "execution_count": 2
  },
  {
   "cell_type": "markdown",
   "id": "74af88da-10fe-43dd-a8ce-6b3ec57ab9ad",
   "metadata": {},
   "source": [
    "To make working with these new geospatial data easier and more efficient, a pandas series accessor has been introduced. This accessor allows direct interaction with GeoJSON data and integrates functions provided by GeoSeries in geopandas."
   ]
  },
  {
   "cell_type": "code",
   "id": "ee923be1-9fa4-4141-8099-9c2d96b4a169",
   "metadata": {
    "ExecuteTime": {
     "end_time": "2025-10-20T13:21:16.109270Z",
     "start_time": "2025-10-20T13:21:16.099272Z"
    }
   },
   "source": [
    "from shapely.geometry import Point\n",
    "from geopandas import GeoSeries\n",
    "from pandapower.plotting import simple_plotly, create_line_trace, create_bus_trace\n",
    "import plotly.graph_objects as go"
   ],
   "outputs": [],
   "execution_count": 3
  },
  {
   "cell_type": "markdown",
   "id": "9b18429f-ffae-481b-bbcf-278aeed2fd1e",
   "metadata": {},
   "source": [
    "Create a reference point and a polygon to check what elements are inside a certain radius. "
   ]
  },
  {
   "cell_type": "code",
   "id": "8de3ac01-8008-42cc-b669-23cf029424e5",
   "metadata": {
    "ExecuteTime": {
     "end_time": "2025-10-20T13:21:16.336550Z",
     "start_time": "2025-10-20T13:21:16.170340Z"
    }
   },
   "source": [
    "reference_point = (7.781067, 48.389774)\n",
    "radius_m = 2200\n",
    "circle_polygon = GeoSeries([Point(reference_point)], crs=4326).to_crs(epsg=31467).buffer(radius_m).to_crs(epsg=4326).iloc[0]"
   ],
   "outputs": [],
   "execution_count": 4
  },
  {
   "cell_type": "markdown",
   "id": "4cea9b32-fe45-4c95-8842-a7e688c82e2f",
   "metadata": {},
   "source": [
    "Access the GeoJSON accessor and the needed GeoSeries methods."
   ]
  },
  {
   "cell_type": "code",
   "id": "f1052155-c72c-4ec2-86ec-9b871c2de3f6",
   "metadata": {
    "ExecuteTime": {
     "end_time": "2025-10-20T13:21:16.446552Z",
     "start_time": "2025-10-20T13:21:16.389970Z"
    }
   },
   "source": [
    "lines_intersect = net.line[net.line.geo.geojson.intersects(circle_polygon)].index\n",
    "buses_within = net.bus[net.bus.geo.geojson.within(circle_polygon)].index\n",
    "net.line.geo.geojson.total_bounds"
   ],
   "outputs": [
    {
     "data": {
      "text/plain": [
       "array([ 7.74426069, 48.32845845,  7.93829196, 48.47484423])"
      ]
     },
     "execution_count": 5,
     "metadata": {},
     "output_type": "execute_result"
    }
   ],
   "execution_count": 5
  },
  {
   "cell_type": "markdown",
   "id": "e7966a23-87e9-4dae-a256-c0170234e4fb",
   "metadata": {},
   "source": [
    "And plot the results"
   ]
  },
  {
   "cell_type": "code",
   "id": "32231088-02e8-497d-9cae-279aba140370",
   "metadata": {
    "ExecuteTime": {
     "end_time": "2025-10-20T13:21:19.033689Z",
     "start_time": "2025-10-20T13:21:16.500083Z"
    }
   },
   "source": [
    "x, y = circle_polygon.exterior.xy\n",
    "polygon_trace = go.Scatter(\n",
    "    x=list(x), \n",
    "    y=list(y), \n",
    "    fill=\"toself\",\n",
    "    mode=\"lines\",\n",
    "    line={\"color\": \"orange\", \"width\": 0.5},\n",
    "    fillcolor=\"rgba(255, 165, 0, 0.2)\",\n",
    "    name=\"radius\"\n",
    ")\n",
    "\n",
    "point_trace = go.Scatter(\n",
    "    x=[circle_polygon.centroid.x], \n",
    "    y=[circle_polygon.centroid.y], \n",
    "    mode=\"markers\",\n",
    "    marker={\"color\": \"orange\", \"size\": 10},\n",
    "    name=\"reference point\"\n",
    ")\n",
    "lt = create_line_trace(net, lines=lines_intersect, color=\"red\", trace_name='intersecting lines')\n",
    "bt = create_bus_trace(net, buses=buses_within, color=\"red\", trace_name=\"buses within radius\")\n",
    "fig = simple_plotly(net, auto_open=False, additional_traces=lt)\n",
    "fig.add_trace(polygon_trace)\n",
    "fig.add_trace(point_trace)\n",
    "fig.add_trace(bt[0])"
   ],
   "outputs": [
    {
     "data": {
      "application/vnd.plotly.v1+json": {
       "data": [
        {
         "hoverinfo": "text",
         "legendgroup": "lines",
         "line": {
          "color": "rgb(128, 128, 128)",
          "dash": "solid",
          "width": 1.0
         },
         "mode": "lines",
         "name": "lines",
         "showlegend": true,
         "text": "Index: 0<br />Name: Line 0<br />Length: 0.586 km<br />R: 0.094 Ohm<br />X: 0.069 Ohm<br />",
         "x": [
          7.89470796,
          7.89604828,
          7.89617371
         ],
         "y": [
          48.40549008,
          48.41060723,
          48.41100311
         ],
         "type": "scatter"
        },
        {
         "hoverinfo": "text",
         "legendgroup": "lines",
         "line": {
          "color": "rgb(128, 128, 128)",
          "dash": "solid",
          "width": 1.0
         },
         "mode": "lines",
         "name": "lines",
         "showlegend": false,
         "text": "Index: 1<br />Name: Line 1<br />Length: 1.374 km<br />R: 0.221 Ohm<br />X: 0.161 Ohm<br />",
         "x": [
          7.89470796,
          7.89269019,
          7.88750207,
          7.87852914
         ],
         "y": [
          48.40549008,
          48.40551637,
          48.40575964,
          48.40552685
         ],
         "type": "scatter"
        },
        {
         "hoverinfo": "text",
         "legendgroup": "lines",
         "line": {
          "color": "rgb(128, 128, 128)",
          "dash": "solid",
          "width": 1.0
         },
         "mode": "lines",
         "name": "lines",
         "showlegend": false,
         "text": "Index: 2<br />Name: Line 2<br />Length: 0.206 km<br />R: 0.033 Ohm<br />X: 0.024 Ohm<br />",
         "x": [
          7.89470796,
          7.89506435
         ],
         "y": [
          48.40549008,
          48.40360449
         ],
         "type": "scatter"
        },
        {
         "hoverinfo": "text",
         "legendgroup": "lines",
         "line": {
          "color": "rgb(128, 128, 128)",
          "dash": "solid",
          "width": 1.0
         },
         "mode": "lines",
         "name": "lines",
         "showlegend": false,
         "text": "Index: 3<br />Name: Line 3<br />Length: 0.617 km<br />R: 0.099 Ohm<br />X: 0.072 Ohm<br />",
         "x": [
          7.89506435,
          7.89613192
         ],
         "y": [
          48.40360449,
          48.3979666
         ],
         "type": "scatter"
        },
        {
         "hoverinfo": "text",
         "legendgroup": "lines",
         "line": {
          "color": "rgb(128, 128, 128)",
          "dash": "solid",
          "width": 1.0
         },
         "mode": "lines",
         "name": "lines",
         "showlegend": false,
         "text": "Index: 4<br />Name: Line 4<br />Length: 0.382 km<br />R: 0.061 Ohm<br />X: 0.045 Ohm<br />",
         "x": [
          7.89613192,
          7.89707717,
          7.90093585,
          7.90130481
         ],
         "y": [
          48.3979666,
          48.39788292,
          48.39783123,
          48.39757192
         ],
         "type": "scatter"
        },
        {
         "hoverinfo": "text",
         "legendgroup": "lines",
         "line": {
          "color": "rgb(128, 128, 128)",
          "dash": "solid",
          "width": 1.0
         },
         "mode": "lines",
         "name": "lines",
         "showlegend": false,
         "text": "Index: 5<br />Name: Line 5<br />Length: 3.303 km<br />R: 0.532 Ohm<br />X: 0.386 Ohm<br />",
         "x": [
          7.78157825,
          7.78241594,
          7.78757125,
          7.80563692,
          7.81137059
         ],
         "y": [
          48.36717009,
          48.367589,
          48.37274714,
          48.38813105,
          48.38535297
         ],
         "type": "scatter"
        },
        {
         "hoverinfo": "text",
         "legendgroup": "lines",
         "line": {
          "color": "rgb(128, 128, 128)",
          "dash": "solid",
          "width": 1.0
         },
         "mode": "lines",
         "name": "lines",
         "showlegend": false,
         "text": "Index: 6<br />Name: Line 6<br />Length: 0.35 km<br />R: 0.056 Ohm<br />X: 0.041 Ohm<br />",
         "x": [
          7.78157825,
          7.78412315,
          7.78580944
         ],
         "y": [
          48.36717009,
          48.3667497,
          48.36588431
         ],
         "type": "scatter"
        },
        {
         "hoverinfo": "text",
         "legendgroup": "lines",
         "line": {
          "color": "rgb(128, 128, 128)",
          "dash": "solid",
          "width": 1.0
         },
         "mode": "lines",
         "name": "lines",
         "showlegend": false,
         "text": "Index: 7<br />Name: Line 7<br />Length: 0.736 km<br />R: 0.118 Ohm<br />X: 0.086 Ohm<br />",
         "x": [
          7.78157825,
          7.78187454,
          7.78091314,
          7.77915169,
          7.77724287,
          7.77577656,
          7.77569591
         ],
         "y": [
          48.36717009,
          48.36700871,
          48.36559507,
          48.36620372,
          48.36639702,
          48.36481251,
          48.36446775
         ],
         "type": "scatter"
        },
        {
         "hoverinfo": "text",
         "legendgroup": "lines",
         "line": {
          "color": "rgb(128, 128, 128)",
          "dash": "solid",
          "width": 1.0
         },
         "mode": "lines",
         "name": "lines",
         "showlegend": false,
         "text": "Index: 10<br />Name: Line 10<br />Length: 0.313 km<br />R: 0.05 Ohm<br />X: 0.037 Ohm<br />",
         "x": [
          7.76147904,
          7.75838011
         ],
         "y": [
          48.35023997,
          48.34834127
         ],
         "type": "scatter"
        },
        {
         "hoverinfo": "text",
         "legendgroup": "lines",
         "line": {
          "color": "rgb(128, 128, 128)",
          "dash": "solid",
          "width": 1.0
         },
         "mode": "lines",
         "name": "lines",
         "showlegend": false,
         "text": "Index: 11<br />Name: Line 11<br />Length: 0.258 km<br />R: 0.042 Ohm<br />X: 0.03 Ohm<br />",
         "x": [
          7.75569132,
          7.75642284,
          7.75645615,
          7.75838011
         ],
         "y": [
          48.34750562,
          48.34759206,
          48.34812068,
          48.34834127
         ],
         "type": "scatter"
        },
        {
         "hoverinfo": "text",
         "legendgroup": "lines",
         "line": {
          "color": "rgb(128, 128, 128)",
          "dash": "solid",
          "width": 1.0
         },
         "mode": "lines",
         "name": "lines",
         "showlegend": false,
         "text": "Index: 12<br />Name: Line 12<br />Length: 0.435 km<br />R: 0.07 Ohm<br />X: 0.051 Ohm<br />",
         "x": [
          7.75598728,
          7.75493654,
          7.75226417,
          7.7490983
         ],
         "y": [
          48.38553948,
          48.38515046,
          48.38528923,
          48.38651875
         ],
         "type": "scatter"
        },
        {
         "hoverinfo": "text",
         "legendgroup": "lines",
         "line": {
          "color": "rgb(128, 128, 128)",
          "dash": "solid",
          "width": 1.0
         },
         "mode": "lines",
         "name": "lines",
         "showlegend": false,
         "text": "Index: 14<br />Name: Line 14<br />Length: 0.357 km<br />R: 0.058 Ohm<br />X: 0.042 Ohm<br />",
         "x": [
          7.75598728,
          7.75586722,
          7.7565325,
          7.75620547,
          7.75669407,
          7.75527749
         ],
         "y": [
          48.38553948,
          48.38577499,
          48.38647184,
          48.38674957,
          48.38741536,
          48.38787178
         ],
         "type": "scatter"
        },
        {
         "hoverinfo": "text",
         "legendgroup": "lines",
         "line": {
          "color": "rgb(128, 128, 128)",
          "dash": "solid",
          "width": 1.0
         },
         "mode": "lines",
         "name": "lines",
         "showlegend": false,
         "text": "Index: 15<br />Name: Line 15<br />Length: 0.254 km<br />R: 0.041 Ohm<br />X: 0.03 Ohm<br />",
         "x": [
          7.81672668,
          7.81622594,
          7.81440186
         ],
         "y": [
          48.38789817,
          48.38787587,
          48.38940745
         ],
         "type": "scatter"
        },
        {
         "hoverinfo": "text",
         "legendgroup": "lines",
         "line": {
          "color": "rgb(128, 128, 128)",
          "dash": "solid",
          "width": 1.0
         },
         "mode": "lines",
         "name": "lines",
         "showlegend": false,
         "text": "Index: 16<br />Name: Line 16<br />Length: 0.635 km<br />R: 0.102 Ohm<br />X: 0.074 Ohm<br />",
         "x": [
          7.81192866,
          7.81348597,
          7.81397942,
          7.81428296,
          7.81686386,
          7.81672668
         ],
         "y": [
          48.38755402,
          48.38824938,
          48.38770218,
          48.38637651,
          48.38743514,
          48.38789817
         ],
         "type": "scatter"
        },
        {
         "hoverinfo": "text",
         "legendgroup": "lines",
         "line": {
          "color": "rgb(128, 128, 128)",
          "dash": "solid",
          "width": 1.0
         },
         "mode": "lines",
         "name": "lines",
         "showlegend": false,
         "text": "Index: 17<br />Name: Line 17<br />Length: 1.3 km<br />R: 0.209 Ohm<br />X: 0.152 Ohm<br />",
         "x": [
          7.76396796,
          7.77111891
         ],
         "y": [
          48.39721686,
          48.40810119
         ],
         "type": "scatter"
        },
        {
         "hoverinfo": "text",
         "legendgroup": "lines",
         "line": {
          "color": "rgb(128, 128, 128)",
          "dash": "solid",
          "width": 1.0
         },
         "mode": "lines",
         "name": "lines",
         "showlegend": false,
         "text": "Index: 18<br />Name: Line 18<br />Length: 0.139 km<br />R: 0.022 Ohm<br />X: 0.016 Ohm<br />",
         "x": [
          7.77111891,
          7.76965603,
          7.76946387
         ],
         "y": [
          48.40810119,
          48.40897041,
          48.40913221
         ],
         "type": "scatter"
        },
        {
         "hoverinfo": "text",
         "legendgroup": "lines",
         "line": {
          "color": "rgb(128, 128, 128)",
          "dash": "solid",
          "width": 1.0
         },
         "mode": "lines",
         "name": "lines",
         "showlegend": false,
         "text": "Index: 20<br />Name: Line 20<br />Length: 0.632 km<br />R: 0.102 Ohm<br />X: 0.074 Ohm<br />",
         "x": [
          7.83613832,
          7.83612548,
          7.83739965,
          7.84120448,
          7.84164512
         ],
         "y": [
          48.40115573,
          48.40114719,
          48.40180507,
          48.40398808,
          48.40414471
         ],
         "type": "scatter"
        },
        {
         "hoverinfo": "text",
         "legendgroup": "lines",
         "line": {
          "color": "rgb(128, 128, 128)",
          "dash": "solid",
          "width": 1.0
         },
         "mode": "lines",
         "name": "lines",
         "showlegend": false,
         "text": "Index: 21<br />Name: Line 21<br />Length: 0.112 km<br />R: 0.018 Ohm<br />X: 0.013 Ohm<br />",
         "x": [
          7.83613832,
          7.83578331,
          7.83571694
         ],
         "y": [
          48.40115573,
          48.40022903,
          48.40021513
         ],
         "type": "scatter"
        },
        {
         "hoverinfo": "text",
         "legendgroup": "lines",
         "line": {
          "color": "rgb(128, 128, 128)",
          "dash": "solid",
          "width": 1.0
         },
         "mode": "lines",
         "name": "lines",
         "showlegend": false,
         "text": "Index: 22<br />Name: Line 22<br />Length: 0.312 km<br />R: 0.05 Ohm<br />X: 0.036 Ohm<br />",
         "x": [
          7.8893131,
          7.88800433,
          7.88846812
         ],
         "y": [
          48.41271759,
          48.41442695,
          48.41556286
         ],
         "type": "scatter"
        },
        {
         "hoverinfo": "text",
         "legendgroup": "lines",
         "line": {
          "color": "rgb(128, 128, 128)",
          "dash": "solid",
          "width": 1.0
         },
         "mode": "lines",
         "name": "lines",
         "showlegend": false,
         "text": "Index: 24<br />Name: Line 24<br />Length: 0.695 km<br />R: 0.112 Ohm<br />X: 0.081 Ohm<br />",
         "x": [
          7.88846812,
          7.8790417
         ],
         "y": [
          48.41556286,
          48.41572609
         ],
         "type": "scatter"
        },
        {
         "hoverinfo": "text",
         "legendgroup": "lines",
         "line": {
          "color": "rgb(128, 128, 128)",
          "dash": "solid",
          "width": 1.0
         },
         "mode": "lines",
         "name": "lines",
         "showlegend": false,
         "text": "Index: 25<br />Name: Line 25<br />Length: 0.235 km<br />R: 0.038 Ohm<br />X: 0.028 Ohm<br />",
         "x": [
          7.90130341,
          7.90201885,
          7.90263858
         ],
         "y": [
          48.41377255,
          48.41396058,
          48.4152001
         ],
         "type": "scatter"
        },
        {
         "hoverinfo": "text",
         "legendgroup": "lines",
         "line": {
          "color": "rgb(128, 128, 128)",
          "dash": "solid",
          "width": 1.0
         },
         "mode": "lines",
         "name": "lines",
         "showlegend": false,
         "text": "Index: 26<br />Name: Line 26<br />Length: 0.561 km<br />R: 0.09 Ohm<br />X: 0.066 Ohm<br />",
         "x": [
          7.89638358,
          7.89759947,
          7.89789524,
          7.90183054,
          7.90263858
         ],
         "y": [
          48.41424248,
          48.41442463,
          48.41538087,
          48.41552371,
          48.4152001
         ],
         "type": "scatter"
        },
        {
         "hoverinfo": "text",
         "legendgroup": "lines",
         "line": {
          "color": "rgb(128, 128, 128)",
          "dash": "solid",
          "width": 1.0
         },
         "mode": "lines",
         "name": "lines",
         "showlegend": false,
         "text": "Index: 27<br />Name: Line 27<br />Length: 0.522 km<br />R: 0.084 Ohm<br />X: 0.061 Ohm<br />",
         "x": [
          7.81091684,
          7.80981003,
          7.81328782
         ],
         "y": [
          48.43490897,
          48.43301239,
          48.43169169
         ],
         "type": "scatter"
        },
        {
         "hoverinfo": "text",
         "legendgroup": "lines",
         "line": {
          "color": "rgb(128, 128, 128)",
          "dash": "solid",
          "width": 1.0
         },
         "mode": "lines",
         "name": "lines",
         "showlegend": false,
         "text": "Index: 28<br />Name: Line 28<br />Length: 0.283 km<br />R: 0.034 Ohm<br />X: 0.032 Ohm<br />",
         "x": [
          7.81328782,
          7.81279149,
          7.81092206,
          7.80946722
         ],
         "y": [
          48.43169169,
          48.43138573,
          48.43111791,
          48.43003727
         ],
         "type": "scatter"
        },
        {
         "hoverinfo": "text",
         "legendgroup": "lines",
         "line": {
          "color": "rgb(128, 128, 128)",
          "dash": "solid",
          "width": 1.0
         },
         "mode": "lines",
         "name": "lines",
         "showlegend": false,
         "text": "Index: 29<br />Name: Line 29<br />Length: 1.688 km<br />R: 0.272 Ohm<br />X: 0.197 Ohm<br />",
         "x": [
          7.81593058,
          7.81744827,
          7.8154392,
          7.81828689,
          7.82563195,
          7.82449029
         ],
         "y": [
          48.46357677,
          48.46330569,
          48.4608867,
          48.45821173,
          48.45715225,
          48.45412175
         ],
         "type": "scatter"
        },
        {
         "hoverinfo": "text",
         "legendgroup": "lines",
         "line": {
          "color": "rgb(128, 128, 128)",
          "dash": "solid",
          "width": 1.0
         },
         "mode": "lines",
         "name": "lines",
         "showlegend": false,
         "text": "Index: 30<br />Name: Line 30<br />Length: 1.073 km<br />R: 0.173 Ohm<br />X: 0.125 Ohm<br />",
         "x": [
          7.80501543,
          7.8082015,
          7.81153875,
          7.81182781,
          7.81550992,
          7.81538774,
          7.81593058
         ],
         "y": [
          48.46296614,
          48.46152072,
          48.46377225,
          48.46392051,
          48.46287434,
          48.46354503,
          48.46357677
         ],
         "type": "scatter"
        },
        {
         "hoverinfo": "text",
         "legendgroup": "lines",
         "line": {
          "color": "rgb(128, 128, 128)",
          "dash": "solid",
          "width": 1.0
         },
         "mode": "lines",
         "name": "lines",
         "showlegend": false,
         "text": "Index: 32<br />Name: Line 32<br />Length: 0.324 km<br />R: 0.052 Ohm<br />X: 0.038 Ohm<br />",
         "x": [
          7.81599919,
          7.81749857,
          7.81777506,
          7.8195498
         ],
         "y": [
          48.45200045,
          48.45179274,
          48.45227496,
          48.45155157
         ],
         "type": "scatter"
        },
        {
         "hoverinfo": "text",
         "legendgroup": "lines",
         "line": {
          "color": "rgb(128, 128, 128)",
          "dash": "solid",
          "width": 1.0
         },
         "mode": "lines",
         "name": "lines",
         "showlegend": false,
         "text": "Index: 34<br />Name: Line 34<br />Length: 0.309 km<br />R: 0.05 Ohm<br />X: 0.036 Ohm<br />",
         "x": [
          7.80022205,
          7.80011359,
          7.80061038,
          7.79950378
         ],
         "y": [
          48.46640752,
          48.46713886,
          48.46829712,
          48.46870231
         ],
         "type": "scatter"
        },
        {
         "hoverinfo": "text",
         "legendgroup": "lines",
         "line": {
          "color": "rgb(128, 128, 128)",
          "dash": "solid",
          "width": 1.0
         },
         "mode": "lines",
         "name": "lines",
         "showlegend": false,
         "text": "Index: 35<br />Name: Line 35<br />Length: 0.541 km<br />R: 0.087 Ohm<br />X: 0.063 Ohm<br />",
         "x": [
          7.80752534,
          7.80022205
         ],
         "y": [
          48.46584322,
          48.46640752
         ],
         "type": "scatter"
        },
        {
         "hoverinfo": "text",
         "legendgroup": "lines",
         "line": {
          "color": "rgb(128, 128, 128)",
          "dash": "solid",
          "width": 1.0
         },
         "mode": "lines",
         "name": "lines",
         "showlegend": false,
         "text": "Index: 36<br />Name: Line 36<br />Length: 0.296 km<br />R: 0.036 Ohm<br />X: 0.033 Ohm<br />",
         "x": [
          7.8060588,
          7.80642131,
          7.80559996,
          7.80673406
         ],
         "y": [
          48.4359944,
          48.43620557,
          48.43694878,
          48.43815272
         ],
         "type": "scatter"
        },
        {
         "hoverinfo": "text",
         "legendgroup": "lines",
         "line": {
          "color": "rgb(128, 128, 128)",
          "dash": "solid",
          "width": 1.0
         },
         "mode": "lines",
         "name": "lines",
         "showlegend": false,
         "text": "Index: 37<br />Name: Line 37<br />Length: 0.48 km<br />R: 0.059 Ohm<br />X: 0.054 Ohm<br />",
         "x": [
          7.8060588,
          7.80533577,
          7.80519949,
          7.80460343,
          7.80466609
         ],
         "y": [
          48.4359944,
          48.4362301,
          48.43479354,
          48.43346182,
          48.43251067
         ],
         "type": "scatter"
        },
        {
         "hoverinfo": "text",
         "legendgroup": "lines",
         "line": {
          "color": "rgb(128, 128, 128)",
          "dash": "solid",
          "width": 1.0
         },
         "mode": "lines",
         "name": "lines",
         "showlegend": false,
         "text": "Index: 38<br />Name: Line 38<br />Length: 0.711 km<br />R: 0.084 Ohm<br />X: 0.228 Ohm<br />",
         "x": [
          7.76944157,
          7.76608392,
          7.76574338
         ],
         "y": [
          48.41414363,
          48.41861893,
          48.41987793
         ],
         "type": "scatter"
        },
        {
         "hoverinfo": "text",
         "legendgroup": "lines",
         "line": {
          "color": "rgb(128, 128, 128)",
          "dash": "solid",
          "width": 1.0
         },
         "mode": "lines",
         "name": "lines",
         "showlegend": false,
         "text": "Index: 39<br />Name: Line 39<br />Length: 0.242 km<br />R: 0.039 Ohm<br />X: 0.028 Ohm<br />",
         "x": [
          7.76944157,
          7.76973028,
          7.77054216,
          7.77150376
         ],
         "y": [
          48.41414363,
          48.41394093,
          48.41413473,
          48.41297284
         ],
         "type": "scatter"
        },
        {
         "hoverinfo": "text",
         "legendgroup": "lines",
         "line": {
          "color": "rgb(128, 128, 128)",
          "dash": "solid",
          "width": 1.0
         },
         "mode": "lines",
         "name": "lines",
         "showlegend": false,
         "text": "Index: 40<br />Name: Line 40<br />Length: 0.261 km<br />R: 0.042 Ohm<br />X: 0.031 Ohm<br />",
         "x": [
          7.76944157,
          7.76840613,
          7.76779918,
          7.76713218,
          7.76659341
         ],
         "y": [
          48.41414363,
          48.41437144,
          48.41460782,
          48.41456685,
          48.41394964
         ],
         "type": "scatter"
        },
        {
         "hoverinfo": "text",
         "legendgroup": "lines",
         "line": {
          "color": "rgb(128, 128, 128)",
          "dash": "solid",
          "width": 1.0
         },
         "mode": "lines",
         "name": "lines",
         "showlegend": false,
         "text": "Index: 41<br />Name: Line 41<br />Length: 0.345 km<br />R: 0.055 Ohm<br />X: 0.04 Ohm<br />",
         "x": [
          7.81091684,
          7.8117633,
          7.81235889,
          7.81213406
         ],
         "y": [
          48.43490897,
          48.434804,
          48.43586959,
          48.43725275
         ],
         "type": "scatter"
        },
        {
         "hoverinfo": "text",
         "legendgroup": "lines",
         "line": {
          "color": "rgb(128, 128, 128)",
          "dash": "solid",
          "width": 1.0
         },
         "mode": "lines",
         "name": "lines",
         "showlegend": false,
         "text": "Index: 42<br />Name: Line 42<br />Length: 1.621 km<br />R: 0.261 Ohm<br />X: 0.19 Ohm<br />",
         "x": [
          7.75962984,
          7.75828376,
          7.75716085,
          7.75346128,
          7.75312516
         ],
         "y": [
          48.34441059,
          48.34240156,
          48.34188624,
          48.33596248,
          48.33198343
         ],
         "type": "scatter"
        },
        {
         "hoverinfo": "text",
         "legendgroup": "lines",
         "line": {
          "color": "rgb(128, 128, 128)",
          "dash": "solid",
          "width": 1.0
         },
         "mode": "lines",
         "name": "lines",
         "showlegend": false,
         "text": "Index: 43<br />Name: Line 43<br />Length: 0.782 km<br />R: 0.126 Ohm<br />X: 0.091 Ohm<br />",
         "x": [
          7.75312516,
          7.76187712,
          7.76124005
         ],
         "y": [
          48.33198343,
          48.3303465,
          48.32945775
         ],
         "type": "scatter"
        },
        {
         "hoverinfo": "text",
         "legendgroup": "lines",
         "line": {
          "color": "rgb(128, 128, 128)",
          "dash": "solid",
          "width": 1.0
         },
         "mode": "lines",
         "name": "lines",
         "showlegend": false,
         "text": "Index: 44<br />Name: Line 44<br />Length: 0.248 km<br />R: 0.04 Ohm<br />X: 0.029 Ohm<br />",
         "x": [
          7.75312516,
          7.75357352,
          7.75339537
         ],
         "y": [
          48.33198343,
          48.3302089,
          48.32979038
         ],
         "type": "scatter"
        },
        {
         "hoverinfo": "text",
         "legendgroup": "lines",
         "line": {
          "color": "rgb(128, 128, 128)",
          "dash": "solid",
          "width": 1.0
         },
         "mode": "lines",
         "name": "lines",
         "showlegend": false,
         "text": "Index: 45<br />Name: Line 45<br />Length: 2.611 km<br />R: 0.42 Ohm<br />X: 0.305 Ohm<br />",
         "x": [
          7.8790417,
          7.87741614,
          7.85466459,
          7.84538508
         ],
         "y": [
          48.41572609,
          48.41575402,
          48.42084885,
          48.42296455
         ],
         "type": "scatter"
        },
        {
         "hoverinfo": "text",
         "legendgroup": "lines",
         "line": {
          "color": "rgb(128, 128, 128)",
          "dash": "solid",
          "width": 1.0
         },
         "mode": "lines",
         "name": "lines",
         "showlegend": false,
         "text": "Index: 46<br />Name: Line 46<br />Length: 1.158 km<br />R: 0.186 Ohm<br />X: 0.136 Ohm<br />",
         "x": [
          7.77526664,
          7.77749826,
          7.78873191
         ],
         "y": [
          48.40850593,
          48.40904312,
          48.4038838
         ],
         "type": "scatter"
        },
        {
         "hoverinfo": "text",
         "legendgroup": "lines",
         "line": {
          "color": "rgb(128, 128, 128)",
          "dash": "solid",
          "width": 1.0
         },
         "mode": "lines",
         "name": "lines",
         "showlegend": false,
         "text": "Index: 47<br />Name: Line 47<br />Length: 1.526 km<br />R: 0.246 Ohm<br />X: 0.179 Ohm<br />",
         "x": [
          7.78873191,
          7.80573238,
          7.80577582
         ],
         "y": [
          48.4038838,
          48.39607413,
          48.39606378
         ],
         "type": "scatter"
        },
        {
         "hoverinfo": "text",
         "legendgroup": "lines",
         "line": {
          "color": "rgb(128, 128, 128)",
          "dash": "solid",
          "width": 1.0
         },
         "mode": "lines",
         "name": "lines",
         "showlegend": false,
         "text": "Index: 48<br />Name: Line 48<br />Length: 2.033 km<br />R: 0.327 Ohm<br />X: 0.238 Ohm<br />",
         "x": [
          7.84263834,
          7.86375666
         ],
         "y": [
          48.39811545,
          48.40965934
         ],
         "type": "scatter"
        },
        {
         "hoverinfo": "text",
         "legendgroup": "lines",
         "line": {
          "color": "rgb(128, 128, 128)",
          "dash": "solid",
          "width": 1.0
         },
         "mode": "lines",
         "name": "lines",
         "showlegend": false,
         "text": "Index: 49<br />Name: Line 49<br />Length: 0.997 km<br />R: 0.161 Ohm<br />X: 0.117 Ohm<br />",
         "x": [
          7.86375666,
          7.86622592,
          7.87554357,
          7.87852914
         ],
         "y": [
          48.40965934,
          48.40835437,
          48.40633627,
          48.40552685
         ],
         "type": "scatter"
        },
        {
         "hoverinfo": "text",
         "legendgroup": "lines",
         "line": {
          "color": "rgb(128, 128, 128)",
          "dash": "solid",
          "width": 1.0
         },
         "mode": "lines",
         "name": "lines",
         "showlegend": false,
         "text": "Index: 50<br />Name: Line 50<br />Length: 0.804 km<br />R: 0.129 Ohm<br />X: 0.094 Ohm<br />",
         "x": [
          7.81265378,
          7.81224648,
          7.81164404,
          7.80993094,
          7.80608736,
          7.80577582
         ],
         "y": [
          48.39170089,
          48.39208848,
          48.3932605,
          48.3941038,
          48.39455474,
          48.39606378
         ],
         "type": "scatter"
        },
        {
         "hoverinfo": "text",
         "legendgroup": "lines",
         "line": {
          "color": "rgb(128, 128, 128)",
          "dash": "solid",
          "width": 1.0
         },
         "mode": "lines",
         "name": "lines",
         "showlegend": false,
         "text": "Index: 51<br />Name: Line 51<br />Length: 0.947 km<br />R: 0.153 Ohm<br />X: 0.111 Ohm<br />",
         "x": [
          7.84263834,
          7.84203085,
          7.83909688,
          7.83989267,
          7.84139083,
          7.842892,
          7.84208706,
          7.84164512
         ],
         "y": [
          48.39811545,
          48.39828929,
          48.40038691,
          48.40115019,
          48.4022093,
          48.40261122,
          48.40386263,
          48.40414471
         ],
         "type": "scatter"
        },
        {
         "hoverinfo": "text",
         "legendgroup": "lines",
         "line": {
          "color": "rgb(128, 128, 128)",
          "dash": "solid",
          "width": 1.0
         },
         "mode": "lines",
         "name": "lines",
         "showlegend": false,
         "text": "Index: 52<br />Name: Line 52<br />Length: 0.929 km<br />R: 0.11 Ohm<br />X: 0.297 Ohm<br />",
         "x": [
          7.78665902,
          7.78697406,
          7.79905951
         ],
         "y": [
          48.43625936,
          48.43621079,
          48.43759153
         ],
         "type": "scatter"
        },
        {
         "hoverinfo": "text",
         "legendgroup": "lines",
         "line": {
          "color": "rgb(128, 128, 128)",
          "dash": "solid",
          "width": 1.0
         },
         "mode": "lines",
         "name": "lines",
         "showlegend": false,
         "text": "Index: 53<br />Name: Line 53<br />Length: 0.778 km<br />R: 0.092 Ohm<br />X: 0.249 Ohm<br />",
         "x": [
          7.77637635,
          7.78665902
         ],
         "y": [
          48.43784809,
          48.43625936
         ],
         "type": "scatter"
        },
        {
         "hoverinfo": "text",
         "legendgroup": "lines",
         "line": {
          "color": "rgb(128, 128, 128)",
          "dash": "solid",
          "width": 1.0
         },
         "mode": "lines",
         "name": "lines",
         "showlegend": false,
         "text": "Index: 54<br />Name: Line 54<br />Length: 0.713 km<br />R: 0.087 Ohm<br />X: 0.08 Ohm<br />",
         "x": [
          7.79905951,
          7.79926973,
          7.80294669,
          7.80443842,
          7.80526684,
          7.80673406
         ],
         "y": [
          48.43759153,
          48.43836508,
          48.43811625,
          48.43774645,
          48.43721361,
          48.43815272
         ],
         "type": "scatter"
        },
        {
         "hoverinfo": "text",
         "legendgroup": "lines",
         "line": {
          "color": "rgb(128, 128, 128)",
          "dash": "solid",
          "width": 1.0
         },
         "mode": "lines",
         "name": "lines",
         "showlegend": false,
         "text": "Index: 55<br />Name: Line 55<br />Length: 1.136 km<br />R: 0.183 Ohm<br />X: 0.133 Ohm<br />",
         "x": [
          7.76396796,
          7.76495858,
          7.76629087,
          7.7659259,
          7.76376563,
          7.76270002,
          7.76157105,
          7.76147033
         ],
         "y": [
          48.39721686,
          48.39694908,
          48.39667324,
          48.39581646,
          48.39356873,
          48.39201827,
          48.38930585,
          48.38881634
         ],
         "type": "scatter"
        },
        {
         "hoverinfo": "text",
         "legendgroup": "lines",
         "line": {
          "color": "rgb(128, 128, 128)",
          "dash": "solid",
          "width": 1.0
         },
         "mode": "lines",
         "name": "lines",
         "showlegend": false,
         "text": "Index: 56<br />Name: Line 56<br />Length: 2.149 km<br />R: 0.346 Ohm<br />X: 0.251 Ohm<br />",
         "x": [
          7.84538508,
          7.82134675,
          7.81812248
         ],
         "y": [
          48.42296455,
          48.42844094,
          48.42974203
         ],
         "type": "scatter"
        },
        {
         "hoverinfo": "text",
         "legendgroup": "lines",
         "line": {
          "color": "rgb(128, 128, 128)",
          "dash": "solid",
          "width": 1.0
         },
         "mode": "lines",
         "name": "lines",
         "showlegend": false,
         "text": "Index: 57<br />Name: Line 57<br />Length: 0.811 km<br />R: 0.131 Ohm<br />X: 0.095 Ohm<br />",
         "x": [
          7.81434875,
          7.81661465
         ],
         "y": [
          48.43503248,
          48.44215898
         ],
         "type": "scatter"
        },
        {
         "hoverinfo": "text",
         "legendgroup": "lines",
         "line": {
          "color": "rgb(128, 128, 128)",
          "dash": "solid",
          "width": 1.0
         },
         "mode": "lines",
         "name": "lines",
         "showlegend": false,
         "text": "Index: 58<br />Name: Line 58<br />Length: 0.47 km<br />R: 0.076 Ohm<br />X: 0.055 Ohm<br />",
         "x": [
          7.83405306,
          7.83429351,
          7.83604853,
          7.83517172,
          7.83584018
         ],
         "y": [
          48.46664643,
          48.46690297,
          48.46785146,
          48.4694022,
          48.47002488
         ],
         "type": "scatter"
        },
        {
         "hoverinfo": "text",
         "legendgroup": "lines",
         "line": {
          "color": "rgb(128, 128, 128)",
          "dash": "solid",
          "width": 1.0
         },
         "mode": "lines",
         "name": "lines",
         "showlegend": false,
         "text": "Index: 59<br />Name: Line 59<br />Length: 3.155 km<br />R: 0.508 Ohm<br />X: 0.369 Ohm<br />",
         "x": [
          7.87260819,
          7.87120517,
          7.86568507,
          7.85567453,
          7.83429197,
          7.83405306
         ],
         "y": [
          48.45794147,
          48.45816151,
          48.45958978,
          48.45952178,
          48.46491575,
          48.46664643
         ],
         "type": "scatter"
        },
        {
         "hoverinfo": "text",
         "legendgroup": "lines",
         "line": {
          "color": "rgb(128, 128, 128)",
          "dash": "solid",
          "width": 1.0
         },
         "mode": "lines",
         "name": "lines",
         "showlegend": false,
         "text": "Index: 60<br />Name: Line 60<br />Length: 0.58 km<br />R: 0.093 Ohm<br />X: 0.068 Ohm<br />",
         "x": [
          7.82727201,
          7.82773651,
          7.82914139,
          7.83186634,
          7.8335644,
          7.83405306
         ],
         "y": [
          48.46648941,
          48.46658586,
          48.46719882,
          48.46600061,
          48.46663092,
          48.46664643
         ],
         "type": "scatter"
        },
        {
         "hoverinfo": "text",
         "legendgroup": "lines",
         "line": {
          "color": "rgb(128, 128, 128)",
          "dash": "solid",
          "width": 1.0
         },
         "mode": "lines",
         "name": "lines",
         "showlegend": false,
         "text": "Index: 61<br />Name: Line 61<br />Length: 0.618 km<br />R: 0.1 Ohm<br />X: 0.072 Ohm<br />",
         "x": [
          7.81894107,
          7.82727201
         ],
         "y": [
          48.46584214,
          48.46648941
         ],
         "type": "scatter"
        },
        {
         "hoverinfo": "text",
         "legendgroup": "lines",
         "line": {
          "color": "rgb(128, 128, 128)",
          "dash": "solid",
          "width": 1.0
         },
         "mode": "lines",
         "name": "lines",
         "showlegend": false,
         "text": "Index: 62<br />Name: Line 62<br />Length: 1.006 km<br />R: 0.12 Ohm<br />X: 0.322 Ohm<br />",
         "x": [
          7.76153339,
          7.77637635
         ],
         "y": [
          48.43987488,
          48.43784809
         ],
         "type": "scatter"
        },
        {
         "hoverinfo": "text",
         "legendgroup": "lines",
         "line": {
          "color": "rgb(128, 128, 128)",
          "dash": "solid",
          "width": 1.0
         },
         "mode": "lines",
         "name": "lines",
         "showlegend": false,
         "text": "Index: 63<br />Name: Line 63<br />Length: 0.222 km<br />R: 0.036 Ohm<br />X: 0.026 Ohm<br />",
         "x": [
          7.78701848,
          7.78662366,
          7.78600346
         ],
         "y": [
          48.46045784,
          48.45994229,
          48.4585943
         ],
         "type": "scatter"
        },
        {
         "hoverinfo": "text",
         "legendgroup": "lines",
         "line": {
          "color": "rgb(128, 128, 128)",
          "dash": "solid",
          "width": 1.0
         },
         "mode": "lines",
         "name": "lines",
         "showlegend": false,
         "text": "Index: 64<br />Name: Line 64<br />Length: 0.936 km<br />R: 0.151 Ohm<br />X: 0.11 Ohm<br />",
         "x": [
          7.79891555,
          7.79884316,
          7.78719486,
          7.78701848
         ],
         "y": [
          48.46284776,
          48.46255155,
          48.46047176,
          48.46045784
         ],
         "type": "scatter"
        },
        {
         "hoverinfo": "text",
         "legendgroup": "lines",
         "line": {
          "color": "rgb(128, 128, 128)",
          "dash": "solid",
          "width": 1.0
         },
         "mode": "lines",
         "name": "lines",
         "showlegend": false,
         "text": "Index: 65<br />Name: Line 65<br />Length: 1.341 km<br />R: 0.216 Ohm<br />X: 0.157 Ohm<br />",
         "x": [
          7.79305306,
          7.79508502,
          7.7949182,
          7.79616509,
          7.78883056,
          7.78670975,
          7.7864642,
          7.78701848
         ],
         "y": [
          48.46585031,
          48.46578218,
          48.46500727,
          48.46263647,
          48.461078,
          48.46104579,
          48.46053878,
          48.46045784
         ],
         "type": "scatter"
        },
        {
         "hoverinfo": "text",
         "legendgroup": "lines",
         "line": {
          "color": "rgb(128, 128, 128)",
          "dash": "solid",
          "width": 1.0
         },
         "mode": "lines",
         "name": "lines",
         "showlegend": false,
         "text": "Index: 67<br />Name: Line 67<br />Length: 0.26 km<br />R: 0.042 Ohm<br />X: 0.03 Ohm<br />",
         "x": [
          7.81137059,
          7.81159537,
          7.81106554,
          7.81136875,
          7.81192866
         ],
         "y": [
          48.38535297,
          48.38592827,
          48.38643007,
          48.3871739,
          48.38755402
         ],
         "type": "scatter"
        },
        {
         "hoverinfo": "text",
         "legendgroup": "lines",
         "line": {
          "color": "rgb(128, 128, 128)",
          "dash": "solid",
          "width": 1.0
         },
         "mode": "lines",
         "name": "lines",
         "showlegend": false,
         "text": "Index: 68<br />Name: Line 68<br />Length: 1.804 km<br />R: 0.29 Ohm<br />X: 0.211 Ohm<br />",
         "x": [
          7.90849453,
          7.90939134,
          7.92408252,
          7.92629214,
          7.93125749
         ],
         "y": [
          48.39773842,
          48.39944778,
          48.39840209,
          48.39898093,
          48.3980943
         ],
         "type": "scatter"
        },
        {
         "hoverinfo": "text",
         "legendgroup": "lines",
         "line": {
          "color": "rgb(128, 128, 128)",
          "dash": "solid",
          "width": 1.0
         },
         "mode": "lines",
         "name": "lines",
         "showlegend": false,
         "text": "Index: 69<br />Name: Line 69<br />Length: 0.59 km<br />R: 0.095 Ohm<br />X: 0.069 Ohm<br />",
         "x": [
          7.93125749,
          7.93285196,
          7.93773871
         ],
         "y": [
          48.3980943,
          48.39632695,
          48.39605777
         ],
         "type": "scatter"
        },
        {
         "hoverinfo": "text",
         "legendgroup": "lines",
         "line": {
          "color": "rgb(128, 128, 128)",
          "dash": "solid",
          "width": 1.0
         },
         "mode": "lines",
         "name": "lines",
         "showlegend": false,
         "text": "Index: 70<br />Name: Line 70<br />Length: 0.368 km<br />R: 0.059 Ohm<br />X: 0.043 Ohm<br />",
         "x": [
          7.90485626,
          7.90565763,
          7.90302727
         ],
         "y": [
          48.42317236,
          48.423879,
          48.42556885
         ],
         "type": "scatter"
        },
        {
         "hoverinfo": "text",
         "legendgroup": "lines",
         "line": {
          "color": "rgb(128, 128, 128)",
          "dash": "solid",
          "width": 1.0
         },
         "mode": "lines",
         "name": "lines",
         "showlegend": false,
         "text": "Index: 71<br />Name: Line 71<br />Length: 0.162 km<br />R: 0.026 Ohm<br />X: 0.019 Ohm<br />",
         "x": [
          7.90302727,
          7.90431342,
          7.90432357
         ],
         "y": [
          48.42556885,
          48.42674696,
          48.42675459
         ],
         "type": "scatter"
        },
        {
         "hoverinfo": "text",
         "legendgroup": "lines",
         "line": {
          "color": "rgb(128, 128, 128)",
          "dash": "solid",
          "width": 1.0
         },
         "mode": "lines",
         "name": "lines",
         "showlegend": false,
         "text": "Index: 72<br />Name: Line 72<br />Length: 1.455 km<br />R: 0.234 Ohm<br />X: 0.17 Ohm<br />",
         "x": [
          7.90302727,
          7.90042277,
          7.89592512,
          7.89306465,
          7.8883681,
          7.88777356
         ],
         "y": [
          48.42556885,
          48.42678215,
          48.43071547,
          48.43187132,
          48.43274836,
          48.43320652
         ],
         "type": "scatter"
        },
        {
         "hoverinfo": "text",
         "legendgroup": "lines",
         "line": {
          "color": "rgb(128, 128, 128)",
          "dash": "solid",
          "width": 1.0
         },
         "mode": "lines",
         "name": "lines",
         "showlegend": false,
         "text": "Index: 73<br />Name: Line 73<br />Length: 0.466 km<br />R: 0.075 Ohm<br />X: 0.054 Ohm<br />",
         "x": [
          7.90115002,
          7.90298335,
          7.9045586,
          7.90759827
         ],
         "y": [
          48.42189392,
          48.42021485,
          48.41985264,
          48.42108182
         ],
         "type": "scatter"
        },
        {
         "hoverinfo": "text",
         "legendgroup": "lines",
         "line": {
          "color": "rgb(128, 128, 128)",
          "dash": "solid",
          "width": 1.0
         },
         "mode": "lines",
         "name": "lines",
         "showlegend": false,
         "text": "Index: 74<br />Name: Line 74<br />Length: 0.53 km<br />R: 0.085 Ohm<br />X: 0.062 Ohm<br />",
         "x": [
          7.90759827,
          7.90753143,
          7.90529898,
          7.90828612
         ],
         "y": [
          48.42108182,
          48.42140869,
          48.4225983,
          48.42418937
         ],
         "type": "scatter"
        },
        {
         "hoverinfo": "text",
         "legendgroup": "lines",
         "line": {
          "color": "rgb(128, 128, 128)",
          "dash": "solid",
          "width": 1.0
         },
         "mode": "lines",
         "name": "lines",
         "showlegend": false,
         "text": "Index: 75<br />Name: Line 75<br />Length: 0.304 km<br />R: 0.049 Ohm<br />X: 0.036 Ohm<br />",
         "x": [
          7.90115002,
          7.90485626
         ],
         "y": [
          48.42189392,
          48.42317236
         ],
         "type": "scatter"
        },
        {
         "hoverinfo": "text",
         "legendgroup": "lines",
         "line": {
          "color": "rgb(128, 128, 128)",
          "dash": "solid",
          "width": 1.0
         },
         "mode": "lines",
         "name": "lines",
         "showlegend": false,
         "text": "Index: 76<br />Name: Line 76<br />Length: 0.347 km<br />R: 0.056 Ohm<br />X: 0.041 Ohm<br />",
         "x": [
          7.75752837,
          7.75743197,
          7.75456734
         ],
         "y": [
          48.3495233,
          48.35033194,
          48.35261081
         ],
         "type": "scatter"
        },
        {
         "hoverinfo": "text",
         "legendgroup": "lines",
         "line": {
          "color": "rgb(128, 128, 128)",
          "dash": "solid",
          "width": 1.0
         },
         "mode": "lines",
         "name": "lines",
         "showlegend": false,
         "text": "Index: 77<br />Name: Line 77<br />Length: 2.122 km<br />R: 0.342 Ohm<br />X: 0.248 Ohm<br />",
         "x": [
          7.75706106,
          7.76129469,
          7.75752837
         ],
         "y": [
          48.36812437,
          48.35405755,
          48.3495233
         ],
         "type": "scatter"
        },
        {
         "hoverinfo": "text",
         "legendgroup": "lines",
         "line": {
          "color": "rgb(128, 128, 128)",
          "dash": "solid",
          "width": 1.0
         },
         "mode": "lines",
         "name": "lines",
         "showlegend": false,
         "text": "Index: 78<br />Name: Line 78<br />Length: 0.296 km<br />R: 0.048 Ohm<br />X: 0.035 Ohm<br />",
         "x": [
          7.91778262,
          7.91291408
         ],
         "y": [
          48.42400659,
          48.42255372
         ],
         "type": "scatter"
        },
        {
         "hoverinfo": "text",
         "legendgroup": "lines",
         "line": {
          "color": "rgb(128, 128, 128)",
          "dash": "solid",
          "width": 1.0
         },
         "mode": "lines",
         "name": "lines",
         "showlegend": false,
         "text": "Index: 79<br />Name: Line 79<br />Length: 0.275 km<br />R: 0.044 Ohm<br />X: 0.032 Ohm<br />",
         "x": [
          7.91291408,
          7.91460816,
          7.91393385
         ],
         "y": [
          48.42255372,
          48.42455518,
          48.42590629
         ],
         "type": "scatter"
        },
        {
         "hoverinfo": "text",
         "legendgroup": "lines",
         "line": {
          "color": "rgb(128, 128, 128)",
          "dash": "solid",
          "width": 1.0
         },
         "mode": "lines",
         "name": "lines",
         "showlegend": false,
         "text": "Index: 80<br />Name: Line 80<br />Length: 0.428 km<br />R: 0.069 Ohm<br />X: 0.05 Ohm<br />",
         "x": [
          7.90933438,
          7.90960971,
          7.91052635,
          7.91170676,
          7.91260163,
          7.91393385
         ],
         "y": [
          48.42618849,
          48.42620031,
          48.42567694,
          48.42624241,
          48.42551677,
          48.42590629
         ],
         "type": "scatter"
        },
        {
         "hoverinfo": "text",
         "legendgroup": "lines",
         "line": {
          "color": "rgb(128, 128, 128)",
          "dash": "solid",
          "width": 1.0
         },
         "mode": "lines",
         "name": "lines",
         "showlegend": false,
         "text": "Index: 81<br />Name: Line 81<br />Length: 0.338 km<br />R: 0.054 Ohm<br />X: 0.039 Ohm<br />",
         "x": [
          7.91291408,
          7.9149878,
          7.91378673
         ],
         "y": [
          48.42255372,
          48.42109714,
          48.42043868
         ],
         "type": "scatter"
        },
        {
         "hoverinfo": "text",
         "legendgroup": "lines",
         "line": {
          "color": "rgb(128, 128, 128)",
          "dash": "solid",
          "width": 1.0
         },
         "mode": "lines",
         "name": "lines",
         "showlegend": false,
         "text": "Index: 82<br />Name: Line 82<br />Length: 0.349 km<br />R: 0.056 Ohm<br />X: 0.041 Ohm<br />",
         "x": [
          7.90933438,
          7.91062827,
          7.90828612
         ],
         "y": [
          48.42618849,
          48.42540398,
          48.42418937
         ],
         "type": "scatter"
        },
        {
         "hoverinfo": "text",
         "legendgroup": "lines",
         "line": {
          "color": "rgb(128, 128, 128)",
          "dash": "solid",
          "width": 1.0
         },
         "mode": "lines",
         "name": "lines",
         "showlegend": false,
         "text": "Index: 85<br />Name: Line 85<br />Length: 0.329 km<br />R: 0.053 Ohm<br />X: 0.038 Ohm<br />",
         "x": [
          7.8884535,
          7.88614206,
          7.88603646
         ],
         "y": [
          48.41021512,
          48.41132488,
          48.41239165
         ],
         "type": "scatter"
        },
        {
         "hoverinfo": "text",
         "legendgroup": "lines",
         "line": {
          "color": "rgb(128, 128, 128)",
          "dash": "solid",
          "width": 1.0
         },
         "mode": "lines",
         "name": "lines",
         "showlegend": false,
         "text": "Index: 86<br />Name: Line 86<br />Length: 0.261 km<br />R: 0.042 Ohm<br />X: 0.031 Ohm<br />",
         "x": [
          7.8893131,
          7.88675468,
          7.88626878,
          7.88603646
         ],
         "y": [
          48.41271759,
          48.41253887,
          48.41264631,
          48.41239165
         ],
         "type": "scatter"
        },
        {
         "hoverinfo": "text",
         "legendgroup": "lines",
         "line": {
          "color": "rgb(128, 128, 128)",
          "dash": "solid",
          "width": 1.0
         },
         "mode": "lines",
         "name": "lines",
         "showlegend": false,
         "text": "Index: 87<br />Name: Line 87<br />Length: 0.298 km<br />R: 0.048 Ohm<br />X: 0.035 Ohm<br />",
         "x": [
          7.90172272,
          7.90147838,
          7.90130481
         ],
         "y": [
          48.40051529,
          48.39898139,
          48.39757192
         ],
         "type": "scatter"
        },
        {
         "hoverinfo": "text",
         "legendgroup": "lines",
         "line": {
          "color": "rgb(128, 128, 128)",
          "dash": "solid",
          "width": 1.0
         },
         "mode": "lines",
         "name": "lines",
         "showlegend": false,
         "text": "Index: 90<br />Name: Line 90<br />Length: 0.315 km<br />R: 0.051 Ohm<br />X: 0.037 Ohm<br />",
         "x": [
          7.89617371,
          7.89836453,
          7.89989694
         ],
         "y": [
          48.41100311,
          48.41119729,
          48.41219988
         ],
         "type": "scatter"
        },
        {
         "hoverinfo": "text",
         "legendgroup": "lines",
         "line": {
          "color": "rgb(128, 128, 128)",
          "dash": "solid",
          "width": 1.0
         },
         "mode": "lines",
         "name": "lines",
         "showlegend": false,
         "text": "Index: 91<br />Name: Line 91<br />Length: 2.528 km<br />R: 0.407 Ohm<br />X: 0.296 Ohm<br />",
         "x": [
          7.93283542,
          7.93111133,
          7.92478234,
          7.91378673
         ],
         "y": [
          48.40163972,
          48.40314742,
          48.41145849,
          48.42043868
         ],
         "type": "scatter"
        },
        {
         "hoverinfo": "text",
         "legendgroup": "lines",
         "line": {
          "color": "rgb(128, 128, 128)",
          "dash": "solid",
          "width": 1.0
         },
         "mode": "lines",
         "name": "lines",
         "showlegend": false,
         "text": "Index: 92<br />Name: Line 92<br />Length: 0.093 km<br />R: 0.015 Ohm<br />X: 0.011 Ohm<br />",
         "x": [
          7.89437546,
          7.89460962,
          7.89638358
         ],
         "y": [
          48.41295983,
          48.41328729,
          48.41424248
         ],
         "type": "scatter"
        },
        {
         "hoverinfo": "text",
         "legendgroup": "lines",
         "line": {
          "color": "rgb(128, 128, 128)",
          "dash": "solid",
          "width": 1.0
         },
         "mode": "lines",
         "name": "lines",
         "showlegend": false,
         "text": "Index: 93<br />Name: Line 93<br />Length: 0.387 km<br />R: 0.062 Ohm<br />X: 0.045 Ohm<br />",
         "x": [
          7.8893131,
          7.89437546
         ],
         "y": [
          48.41271759,
          48.41295983
         ],
         "type": "scatter"
        },
        {
         "hoverinfo": "text",
         "legendgroup": "lines",
         "line": {
          "color": "rgb(128, 128, 128)",
          "dash": "solid",
          "width": 1.0
         },
         "mode": "lines",
         "name": "lines",
         "showlegend": false,
         "text": "Index: 94<br />Name: Line 94<br />Length: 0.272 km<br />R: 0.044 Ohm<br />X: 0.032 Ohm<br />",
         "x": [
          7.89989694,
          7.90151744,
          7.90130341
         ],
         "y": [
          48.41219988,
          48.4124301,
          48.41377255
         ],
         "type": "scatter"
        },
        {
         "hoverinfo": "text",
         "legendgroup": "lines",
         "line": {
          "color": "rgb(128, 128, 128)",
          "dash": "solid",
          "width": 1.0
         },
         "mode": "lines",
         "name": "lines",
         "showlegend": false,
         "text": "Index: 95<br />Name: Line 95<br />Length: 0.247 km<br />R: 0.04 Ohm<br />X: 0.029 Ohm<br />",
         "x": [
          7.93283542,
          7.93445481,
          7.93628735
         ],
         "y": [
          48.40163972,
          48.40146312,
          48.40091852
         ],
         "type": "scatter"
        },
        {
         "hoverinfo": "text",
         "legendgroup": "lines",
         "line": {
          "color": "rgb(128, 128, 128)",
          "dash": "solid",
          "width": 1.0
         },
         "mode": "lines",
         "name": "lines",
         "showlegend": false,
         "text": "Index: 96<br />Name: Line 96<br />Length: 0.25 km<br />R: 0.04 Ohm<br />X: 0.029 Ohm<br />",
         "x": [
          7.93628735,
          7.93787155,
          7.93829196
         ],
         "y": [
          48.40091852,
          48.39967434,
          48.39911502
         ],
         "type": "scatter"
        },
        {
         "hoverinfo": "text",
         "legendgroup": "lines",
         "line": {
          "color": "rgb(128, 128, 128)",
          "dash": "solid",
          "width": 1.0
         },
         "mode": "lines",
         "name": "lines",
         "showlegend": false,
         "text": "Index: 97<br />Name: Line 97<br />Length: 0.459 km<br />R: 0.074 Ohm<br />X: 0.054 Ohm<br />",
         "x": [
          7.93773871,
          7.93790841,
          7.93663385,
          7.93681572,
          7.93773403,
          7.93754769,
          7.93829196
         ],
         "y": [
          48.39605777,
          48.3962261,
          48.39706036,
          48.39826119,
          48.3986056,
          48.39883465,
          48.39911502
         ],
         "type": "scatter"
        },
        {
         "hoverinfo": "text",
         "legendgroup": "lines",
         "line": {
          "color": "rgb(128, 128, 128)",
          "dash": "solid",
          "width": 1.0
         },
         "mode": "lines",
         "name": "lines",
         "showlegend": false,
         "text": "Index: 98<br />Name: Line 98<br />Length: 0.366 km<br />R: 0.059 Ohm<br />X: 0.043 Ohm<br />",
         "x": [
          7.75339537,
          7.7558693,
          7.75792025
         ],
         "y": [
          48.32979038,
          48.32897412,
          48.32845845
         ],
         "type": "scatter"
        },
        {
         "hoverinfo": "text",
         "legendgroup": "lines",
         "line": {
          "color": "rgb(128, 128, 128)",
          "dash": "solid",
          "width": 1.0
         },
         "mode": "lines",
         "name": "lines",
         "showlegend": false,
         "text": "Index: 99<br />Name: Line 99<br />Length: 0.291 km<br />R: 0.047 Ohm<br />X: 0.034 Ohm<br />",
         "x": [
          7.75962984,
          7.75782277,
          7.75578023
         ],
         "y": [
          48.34441059,
          48.34403542,
          48.34396313
         ],
         "type": "scatter"
        },
        {
         "hoverinfo": "text",
         "legendgroup": "lines",
         "line": {
          "color": "rgb(128, 128, 128)",
          "dash": "solid",
          "width": 1.0
         },
         "mode": "lines",
         "name": "lines",
         "showlegend": false,
         "text": "Index: 100<br />Name: Line 100<br />Length: 0.299 km<br />R: 0.048 Ohm<br />X: 0.035 Ohm<br />",
         "x": [
          7.90591947,
          7.90587019,
          7.90775174,
          7.90849453
         ],
         "y": [
          48.39621703,
          48.39677807,
          48.39705376,
          48.39773842
         ],
         "type": "scatter"
        },
        {
         "hoverinfo": "text",
         "legendgroup": "lines",
         "line": {
          "color": "rgb(128, 128, 128)",
          "dash": "solid",
          "width": 1.0
         },
         "mode": "lines",
         "name": "lines",
         "showlegend": false,
         "text": "Index: 101<br />Name: Line 101<br />Length: 0.236 km<br />R: 0.038 Ohm<br />X: 0.028 Ohm<br />",
         "x": [
          7.90205872,
          7.90261989,
          7.90443237
         ],
         "y": [
          48.39529931,
          48.39512339,
          48.39390775
         ],
         "type": "scatter"
        },
        {
         "hoverinfo": "text",
         "legendgroup": "lines",
         "line": {
          "color": "rgb(128, 128, 128)",
          "dash": "solid",
          "width": 1.0
         },
         "mode": "lines",
         "name": "lines",
         "showlegend": false,
         "text": "Index: 102<br />Name: Line 102<br />Length: 0.489 km<br />R: 0.079 Ohm<br />X: 0.057 Ohm<br />",
         "x": [
          7.90443237,
          7.90720374,
          7.90819035,
          7.90794776,
          7.9083386
         ],
         "y": [
          48.39390775,
          48.39294498,
          48.39430049,
          48.3944891,
          48.3949975
         ],
         "type": "scatter"
        },
        {
         "hoverinfo": "text",
         "legendgroup": "lines",
         "line": {
          "color": "rgb(128, 128, 128)",
          "dash": "solid",
          "width": 1.0
         },
         "mode": "lines",
         "name": "lines",
         "showlegend": false,
         "text": "Index: 103<br />Name: Line 103<br />Length: 0.298 km<br />R: 0.048 Ohm<br />X: 0.035 Ohm<br />",
         "x": [
          7.9083386,
          7.90787741,
          7.90591947
         ],
         "y": [
          48.3949975,
          48.3963407,
          48.39621703
         ],
         "type": "scatter"
        },
        {
         "hoverinfo": "text",
         "legendgroup": "lines",
         "line": {
          "color": "rgb(128, 128, 128)",
          "dash": "solid",
          "width": 1.0
         },
         "mode": "lines",
         "name": "lines",
         "showlegend": false,
         "text": "Index: 104<br />Name: Line 104<br />Length: 0.238 km<br />R: 0.038 Ohm<br />X: 0.028 Ohm<br />",
         "x": [
          7.77541442,
          7.77589723,
          7.77627383,
          7.77670102
         ],
         "y": [
          48.3593875,
          48.36023212,
          48.36082142,
          48.36133205
         ],
         "type": "scatter"
        },
        {
         "hoverinfo": "text",
         "legendgroup": "lines",
         "line": {
          "color": "rgb(128, 128, 128)",
          "dash": "solid",
          "width": 1.0
         },
         "mode": "lines",
         "name": "lines",
         "showlegend": false,
         "text": "Index: 105<br />Name: Line 105<br />Length: 0.177 km<br />R: 0.029 Ohm<br />X: 0.021 Ohm<br />",
         "x": [
          7.77670102,
          7.77713313,
          7.77757114,
          7.77756681
         ],
         "y": [
          48.36133205,
          48.36134284,
          48.36244816,
          48.36261088
         ],
         "type": "scatter"
        },
        {
         "hoverinfo": "text",
         "legendgroup": "lines",
         "line": {
          "color": "rgb(128, 128, 128)",
          "dash": "solid",
          "width": 1.0
         },
         "mode": "lines",
         "name": "lines",
         "showlegend": false,
         "text": "Index: 106<br />Name: Line 106<br />Length: 0.283 km<br />R: 0.046 Ohm<br />X: 0.033 Ohm<br />",
         "x": [
          7.77603927,
          7.77632396,
          7.77541442
         ],
         "y": [
          48.35663792,
          48.35789023,
          48.3593875
         ],
         "type": "scatter"
        },
        {
         "hoverinfo": "text",
         "legendgroup": "lines",
         "line": {
          "color": "rgb(128, 128, 128)",
          "dash": "solid",
          "width": 1.0
         },
         "mode": "lines",
         "name": "lines",
         "showlegend": false,
         "text": "Index: 107<br />Name: Line 107<br />Length: 0.615 km<br />R: 0.099 Ohm<br />X: 0.072 Ohm<br />",
         "x": [
          7.77032597,
          7.77212983,
          7.77603927
         ],
         "y": [
          48.35975183,
          48.35778043,
          48.35663792
         ],
         "type": "scatter"
        },
        {
         "hoverinfo": "text",
         "legendgroup": "lines",
         "line": {
          "color": "rgb(128, 128, 128)",
          "dash": "solid",
          "width": 1.0
         },
         "mode": "lines",
         "name": "lines",
         "showlegend": false,
         "text": "Index: 108<br />Name: Line 108<br />Length: 1.278 km<br />R: 0.206 Ohm<br />X: 0.149 Ohm<br />",
         "x": [
          7.77032597,
          7.76147904
         ],
         "y": [
          48.35975183,
          48.35023997
         ],
         "type": "scatter"
        },
        {
         "hoverinfo": "text",
         "legendgroup": "lines",
         "line": {
          "color": "rgb(128, 128, 128)",
          "dash": "solid",
          "width": 1.0
         },
         "mode": "lines",
         "name": "lines",
         "showlegend": false,
         "text": "Index: 109<br />Name: Line 109<br />Length: 0.147 km<br />R: 0.024 Ohm<br />X: 0.017 Ohm<br />",
         "x": [
          7.77569591,
          7.77641956,
          7.77756681
         ],
         "y": [
          48.36446775,
          48.36350223,
          48.36261088
         ],
         "type": "scatter"
        },
        {
         "hoverinfo": "text",
         "legendgroup": "lines",
         "line": {
          "color": "rgb(128, 128, 128)",
          "dash": "solid",
          "width": 1.0
         },
         "mode": "lines",
         "name": "lines",
         "showlegend": false,
         "text": "Index: 110<br />Name: Line 110<br />Length: 0.253 km<br />R: 0.041 Ohm<br />X: 0.03 Ohm<br />",
         "x": [
          7.75578023,
          7.75504431,
          7.75395235,
          7.75385941
         ],
         "y": [
          48.34396313,
          48.34426775,
          48.34552928,
          48.34577289
         ],
         "type": "scatter"
        },
        {
         "hoverinfo": "text",
         "legendgroup": "lines",
         "line": {
          "color": "rgb(128, 128, 128)",
          "dash": "solid",
          "width": 1.0
         },
         "mode": "lines",
         "name": "lines",
         "showlegend": false,
         "text": "Index: 111<br />Name: Line 111<br />Length: 0.214 km<br />R: 0.034 Ohm<br />X: 0.025 Ohm<br />",
         "x": [
          7.75618441,
          7.7562193,
          7.75569132
         ],
         "y": [
          48.34562366,
          48.34600529,
          48.34750562
         ],
         "type": "scatter"
        },
        {
         "hoverinfo": "text",
         "legendgroup": "lines",
         "line": {
          "color": "rgb(128, 128, 128)",
          "dash": "solid",
          "width": 1.0
         },
         "mode": "lines",
         "name": "lines",
         "showlegend": false,
         "text": "Index: 112<br />Name: Line 112<br />Length: 0.415 km<br />R: 0.067 Ohm<br />X: 0.049 Ohm<br />",
         "x": [
          7.75569132,
          7.75419626,
          7.75453023,
          7.75269597
         ],
         "y": [
          48.34750562,
          48.34758219,
          48.34920225,
          48.34979926
         ],
         "type": "scatter"
        },
        {
         "hoverinfo": "text",
         "legendgroup": "lines",
         "line": {
          "color": "rgb(128, 128, 128)",
          "dash": "solid",
          "width": 1.0
         },
         "mode": "lines",
         "name": "lines",
         "showlegend": false,
         "text": "Index: 113<br />Name: Line 113<br />Length: 0.18 km<br />R: 0.029 Ohm<br />X: 0.021 Ohm<br />",
         "x": [
          7.75618441,
          7.75608475,
          7.75403123,
          7.75385941
         ],
         "y": [
          48.34562366,
          48.34553329,
          48.34569381,
          48.34577289
         ],
         "type": "scatter"
        },
        {
         "hoverinfo": "text",
         "legendgroup": "lines",
         "line": {
          "color": "rgb(128, 128, 128)",
          "dash": "solid",
          "width": 1.0
         },
         "mode": "lines",
         "name": "lines",
         "showlegend": false,
         "text": "Index: 114<br />Name: Line 114<br />Length: 0.562 km<br />R: 0.09 Ohm<br />X: 0.066 Ohm<br />",
         "x": [
          7.75269597,
          7.75181083,
          7.74517856
         ],
         "y": [
          48.34979926,
          48.34979996,
          48.34907864
         ],
         "type": "scatter"
        },
        {
         "hoverinfo": "text",
         "legendgroup": "lines",
         "line": {
          "color": "rgb(128, 128, 128)",
          "dash": "solid",
          "width": 1.0
         },
         "mode": "lines",
         "name": "lines",
         "showlegend": false,
         "text": "Index: 116<br />Name: Line 116<br />Length: 0.399 km<br />R: 0.064 Ohm<br />X: 0.047 Ohm<br />",
         "x": [
          7.75780411,
          7.75917051,
          7.76226955
         ],
         "y": [
          48.38819904,
          48.38730208,
          48.38622196
         ],
         "type": "scatter"
        },
        {
         "hoverinfo": "text",
         "legendgroup": "lines",
         "line": {
          "color": "rgb(128, 128, 128)",
          "dash": "solid",
          "width": 1.0
         },
         "mode": "lines",
         "name": "lines",
         "showlegend": false,
         "text": "Index: 117<br />Name: Line 117<br />Length: 0.261 km<br />R: 0.042 Ohm<br />X: 0.031 Ohm<br />",
         "x": [
          7.76226955,
          7.76344386,
          7.7644815
         ],
         "y": [
          48.38622196,
          48.38591421,
          48.38725384
         ],
         "type": "scatter"
        },
        {
         "hoverinfo": "text",
         "legendgroup": "lines",
         "line": {
          "color": "rgb(128, 128, 128)",
          "dash": "solid",
          "width": 1.0
         },
         "mode": "lines",
         "name": "lines",
         "showlegend": false,
         "text": "Index: 118<br />Name: Line 118<br />Length: 0.37 km<br />R: 0.06 Ohm<br />X: 0.043 Ohm<br />",
         "x": [
          7.7644815,
          7.76213031,
          7.76276391,
          7.76147033
         ],
         "y": [
          48.38725384,
          48.38794756,
          48.38852075,
          48.38881634
         ],
         "type": "scatter"
        },
        {
         "hoverinfo": "text",
         "legendgroup": "lines",
         "line": {
          "color": "rgb(128, 128, 128)",
          "dash": "solid",
          "width": 1.0
         },
         "mode": "lines",
         "name": "lines",
         "showlegend": false,
         "text": "Index: 119<br />Name: Line 119<br />Length: 0.251 km<br />R: 0.04 Ohm<br />X: 0.029 Ohm<br />",
         "x": [
          7.7490983,
          7.74791722,
          7.74990855
         ],
         "y": [
          48.38651875,
          48.38670319,
          48.38849988
         ],
         "type": "scatter"
        },
        {
         "hoverinfo": "text",
         "legendgroup": "lines",
         "line": {
          "color": "rgb(128, 128, 128)",
          "dash": "solid",
          "width": 1.0
         },
         "mode": "lines",
         "name": "lines",
         "showlegend": false,
         "text": "Index: 120<br />Name: Line 120<br />Length: 0.304 km<br />R: 0.049 Ohm<br />X: 0.036 Ohm<br />",
         "x": [
          7.75780411,
          7.75698634,
          7.75516628,
          7.75527749
         ],
         "y": [
          48.38819904,
          48.38848522,
          48.38875367,
          48.38787178
         ],
         "type": "scatter"
        },
        {
         "hoverinfo": "text",
         "legendgroup": "lines",
         "line": {
          "color": "rgb(128, 128, 128)",
          "dash": "solid",
          "width": 1.0
         },
         "mode": "lines",
         "name": "lines",
         "showlegend": false,
         "text": "Index: 121<br />Name: Line 121<br />Length: 0.233 km<br />R: 0.037 Ohm<br />X: 0.027 Ohm<br />",
         "x": [
          7.75387463,
          7.75423985,
          7.75489924,
          7.75490995,
          7.75612888
         ],
         "y": [
          48.38198803,
          48.38177685,
          48.38177159,
          48.38124748,
          48.38127334
         ],
         "type": "scatter"
        },
        {
         "hoverinfo": "text",
         "legendgroup": "lines",
         "line": {
          "color": "rgb(128, 128, 128)",
          "dash": "solid",
          "width": 1.0
         },
         "mode": "lines",
         "name": "lines",
         "showlegend": false,
         "text": "Index: 122<br />Name: Line 122<br />Length: 0.118 km<br />R: 0.019 Ohm<br />X: 0.014 Ohm<br />",
         "x": [
          7.74776625,
          7.7490983
         ],
         "y": [
          48.38593046,
          48.38651875
         ],
         "type": "scatter"
        },
        {
         "hoverinfo": "text",
         "legendgroup": "lines",
         "line": {
          "color": "rgb(128, 128, 128)",
          "dash": "solid",
          "width": 1.0
         },
         "mode": "lines",
         "name": "lines",
         "showlegend": false,
         "text": "Index: 123<br />Name: Line 123<br />Length: 0.397 km<br />R: 0.064 Ohm<br />X: 0.046 Ohm<br />",
         "x": [
          7.75387463,
          7.75041699,
          7.7512397
         ],
         "y": [
          48.38198803,
          48.38256216,
          48.38363665
         ],
         "type": "scatter"
        },
        {
         "hoverinfo": "text",
         "legendgroup": "lines",
         "line": {
          "color": "rgb(128, 128, 128)",
          "dash": "solid",
          "width": 1.0
         },
         "mode": "lines",
         "name": "lines",
         "showlegend": false,
         "text": "Index: 124<br />Name: Line 124<br />Length: 0.52 km<br />R: 0.084 Ohm<br />X: 0.061 Ohm<br />",
         "x": [
          7.7512397,
          7.75163773,
          7.750171,
          7.74884833,
          7.74776625
         ],
         "y": [
          48.38363665,
          48.38424806,
          48.38471159,
          48.38478902,
          48.38593046
         ],
         "type": "scatter"
        },
        {
         "hoverinfo": "text",
         "legendgroup": "lines",
         "line": {
          "color": "rgb(128, 128, 128)",
          "dash": "solid",
          "width": 1.0
         },
         "mode": "lines",
         "name": "lines",
         "showlegend": false,
         "text": "Index: 125<br />Name: Line 125<br />Length: 1.526 km<br />R: 0.246 Ohm<br />X: 0.179 Ohm<br />",
         "x": [
          7.75387463,
          7.75471952,
          7.75706106
         ],
         "y": [
          48.38198803,
          48.37590247,
          48.36812437
         ],
         "type": "scatter"
        },
        {
         "hoverinfo": "text",
         "legendgroup": "lines",
         "line": {
          "color": "rgb(128, 128, 128)",
          "dash": "solid",
          "width": 1.0
         },
         "mode": "lines",
         "name": "lines",
         "showlegend": false,
         "text": "Index: 126<br />Name: Line 126<br />Length: 0.254 km<br />R: 0.041 Ohm<br />X: 0.03 Ohm<br />",
         "x": [
          7.74776625,
          7.7473456,
          7.74426069
         ],
         "y": [
          48.38593046,
          48.38664415,
          48.38747799
         ],
         "type": "scatter"
        },
        {
         "hoverinfo": "text",
         "legendgroup": "lines",
         "line": {
          "color": "rgb(128, 128, 128)",
          "dash": "solid",
          "width": 1.0
         },
         "mode": "lines",
         "name": "lines",
         "showlegend": false,
         "text": "Index: 127<br />Name: Line 127<br />Length: 1.601 km<br />R: 0.19 Ohm<br />X: 0.512 Ohm<br />",
         "x": [
          7.76574338,
          7.75852885
         ],
         "y": [
          48.41987793,
          48.43345788
         ],
         "type": "scatter"
        },
        {
         "hoverinfo": "text",
         "legendgroup": "lines",
         "line": {
          "color": "rgb(128, 128, 128)",
          "dash": "solid",
          "width": 1.0
         },
         "mode": "lines",
         "name": "lines",
         "showlegend": false,
         "text": "Index: 128<br />Name: Line 128<br />Length: 0.473 km<br />R: 0.076 Ohm<br />X: 0.055 Ohm<br />",
         "x": [
          7.76574338,
          7.76644776,
          7.76739671
         ],
         "y": [
          48.41987793,
          48.42002993,
          48.42373656
         ],
         "type": "scatter"
        },
        {
         "hoverinfo": "text",
         "legendgroup": "lines",
         "line": {
          "color": "rgb(128, 128, 128)",
          "dash": "solid",
          "width": 1.0
         },
         "mode": "lines",
         "name": "lines",
         "showlegend": false,
         "text": "Index: 129<br />Name: Line 129<br />Length: 0.298 km<br />R: 0.048 Ohm<br />X: 0.035 Ohm<br />",
         "x": [
          7.77518896,
          7.77674239,
          7.77880954
         ],
         "y": [
          48.4106662,
          48.41077816,
          48.40987065
         ],
         "type": "scatter"
        },
        {
         "hoverinfo": "text",
         "legendgroup": "lines",
         "line": {
          "color": "rgb(128, 128, 128)",
          "dash": "solid",
          "width": 1.0
         },
         "mode": "lines",
         "name": "lines",
         "showlegend": false,
         "text": "Index: 130<br />Name: Line 130<br />Length: 0.295 km<br />R: 0.047 Ohm<br />X: 0.034 Ohm<br />",
         "x": [
          7.76522567,
          7.76483782,
          7.76606485
         ],
         "y": [
          48.41091584,
          48.41125561,
          48.41242444
         ],
         "type": "scatter"
        },
        {
         "hoverinfo": "text",
         "legendgroup": "lines",
         "line": {
          "color": "rgb(128, 128, 128)",
          "dash": "solid",
          "width": 1.0
         },
         "mode": "lines",
         "name": "lines",
         "showlegend": false,
         "text": "Index: 131<br />Name: Line 131<br />Length: 0.417 km<br />R: 0.067 Ohm<br />X: 0.049 Ohm<br />",
         "x": [
          7.7617981,
          7.76399226,
          7.76572294,
          7.76606485
         ],
         "y": [
          48.41348695,
          48.41182097,
          48.41245092,
          48.41242444
         ],
         "type": "scatter"
        },
        {
         "hoverinfo": "text",
         "legendgroup": "lines",
         "line": {
          "color": "rgb(128, 128, 128)",
          "dash": "solid",
          "width": 1.0
         },
         "mode": "lines",
         "name": "lines",
         "showlegend": false,
         "text": "Index: 132<br />Name: Line 132<br />Length: 0.323 km<br />R: 0.052 Ohm<br />X: 0.038 Ohm<br />",
         "x": [
          7.76946387,
          7.76943184,
          7.7665952,
          7.76522567
         ],
         "y": [
          48.40913221,
          48.40915918,
          48.40969202,
          48.41091584
         ],
         "type": "scatter"
        },
        {
         "hoverinfo": "text",
         "legendgroup": "lines",
         "line": {
          "color": "rgb(128, 128, 128)",
          "dash": "solid",
          "width": 1.0
         },
         "mode": "lines",
         "name": "lines",
         "showlegend": false,
         "text": "Index: 133<br />Name: Line 133<br />Length: 0.296 km<br />R: 0.048 Ohm<br />X: 0.035 Ohm<br />",
         "x": [
          7.77599056,
          7.77674873,
          7.77861783,
          7.77919577
         ],
         "y": [
          48.41297438,
          48.41331062,
          48.41231411,
          48.41203811
         ],
         "type": "scatter"
        },
        {
         "hoverinfo": "text",
         "legendgroup": "lines",
         "line": {
          "color": "rgb(128, 128, 128)",
          "dash": "solid",
          "width": 1.0
         },
         "mode": "lines",
         "name": "lines",
         "showlegend": false,
         "text": "Index: 134<br />Name: Line 134<br />Length: 0.282 km<br />R: 0.045 Ohm<br />X: 0.033 Ohm<br />",
         "x": [
          7.77526664,
          7.77576803,
          7.77520469
         ],
         "y": [
          48.40850593,
          48.40798048,
          48.40610337
         ],
         "type": "scatter"
        },
        {
         "hoverinfo": "text",
         "legendgroup": "lines",
         "line": {
          "color": "rgb(128, 128, 128)",
          "dash": "solid",
          "width": 1.0
         },
         "mode": "lines",
         "name": "lines",
         "showlegend": false,
         "text": "Index: 135<br />Name: Line 135<br />Length: 0.396 km<br />R: 0.064 Ohm<br />X: 0.046 Ohm<br />",
         "x": [
          7.76659341,
          7.76544426,
          7.76267774,
          7.7617981
         ],
         "y": [
          48.41394964,
          48.41402817,
          48.41423953,
          48.41348695
         ],
         "type": "scatter"
        },
        {
         "hoverinfo": "text",
         "legendgroup": "lines",
         "line": {
          "color": "rgb(128, 128, 128)",
          "dash": "solid",
          "width": 1.0
         },
         "mode": "lines",
         "name": "lines",
         "showlegend": false,
         "text": "Index: 136<br />Name: Line 136<br />Length: 0.371 km<br />R: 0.06 Ohm<br />X: 0.043 Ohm<br />",
         "x": [
          7.77150376,
          7.77342658,
          7.77532817,
          7.77599056
         ],
         "y": [
          48.41297284,
          48.41358426,
          48.41284311,
          48.41297438
         ],
         "type": "scatter"
        },
        {
         "hoverinfo": "text",
         "legendgroup": "lines",
         "line": {
          "color": "rgb(128, 128, 128)",
          "dash": "solid",
          "width": 1.0
         },
         "mode": "lines",
         "name": "lines",
         "showlegend": false,
         "text": "Index: 137<br />Name: Line 137<br />Length: 0.274 km<br />R: 0.044 Ohm<br />X: 0.032 Ohm<br />",
         "x": [
          7.77526664,
          7.77583421,
          7.77591886,
          7.77518896
         ],
         "y": [
          48.40850593,
          48.40895948,
          48.41002749,
          48.4106662
         ],
         "type": "scatter"
        },
        {
         "hoverinfo": "text",
         "legendgroup": "lines",
         "line": {
          "color": "rgb(128, 128, 128)",
          "dash": "solid",
          "width": 1.0
         },
         "mode": "lines",
         "name": "lines",
         "showlegend": false,
         "text": "Index: 138<br />Name: Line 138<br />Length: 0.329 km<br />R: 0.053 Ohm<br />X: 0.038 Ohm<br />",
         "x": [
          7.77518896,
          7.77615683,
          7.77606931,
          7.77543634,
          7.77599056
         ],
         "y": [
          48.4106662,
          48.41108201,
          48.41202505,
          48.41266512,
          48.41297438
         ],
         "type": "scatter"
        },
        {
         "hoverinfo": "text",
         "legendgroup": "lines",
         "line": {
          "color": "rgb(128, 128, 128)",
          "dash": "solid",
          "width": 1.0
         },
         "mode": "lines",
         "name": "lines",
         "showlegend": false,
         "text": "Index: 139<br />Name: Line 139<br />Length: 0.499 km<br />R: 0.08 Ohm<br />X: 0.058 Ohm<br />",
         "x": [
          7.83571694,
          7.83401712,
          7.8326561,
          7.83058701
         ],
         "y": [
          48.40021513,
          48.39984603,
          48.39850087,
          48.39753675
         ],
         "type": "scatter"
        },
        {
         "hoverinfo": "text",
         "legendgroup": "lines",
         "line": {
          "color": "rgb(128, 128, 128)",
          "dash": "solid",
          "width": 1.0
         },
         "mode": "lines",
         "name": "lines",
         "showlegend": false,
         "text": "Index: 140<br />Name: Line 140<br />Length: 0.316 km<br />R: 0.051 Ohm<br />X: 0.037 Ohm<br />",
         "x": [
          7.83571694,
          7.8358586,
          7.8368015,
          7.83782535
         ],
         "y": [
          48.40021513,
          48.39919649,
          48.39847232,
          48.3990085
         ],
         "type": "scatter"
        },
        {
         "hoverinfo": "text",
         "legendgroup": "lines",
         "line": {
          "color": "rgb(128, 128, 128)",
          "dash": "solid",
          "width": 1.0
         },
         "mode": "lines",
         "name": "lines",
         "showlegend": false,
         "text": "Index: 141<br />Name: Line 141<br />Length: 0.388 km<br />R: 0.062 Ohm<br />X: 0.045 Ohm<br />",
         "x": [
          7.81434875,
          7.81325053,
          7.81253272,
          7.8128154,
          7.81257537,
          7.81213406
         ],
         "y": [
          48.43503248,
          48.43528857,
          48.43543937,
          48.43601104,
          48.437316,
          48.43725275
         ],
         "type": "scatter"
        },
        {
         "hoverinfo": "text",
         "legendgroup": "lines",
         "line": {
          "color": "rgb(128, 128, 128)",
          "dash": "solid",
          "width": 1.0
         },
         "mode": "lines",
         "name": "lines",
         "showlegend": false,
         "text": "Index: 142<br />Name: Line 142<br />Length: 0.07 km<br />R: 0.011 Ohm<br />X: 0.008 Ohm<br />",
         "x": [
          7.81440186,
          7.8142915,
          7.81375095
         ],
         "y": [
          48.38940745,
          48.38938411,
          48.38919055
         ],
         "type": "scatter"
        },
        {
         "hoverinfo": "text",
         "legendgroup": "lines",
         "line": {
          "color": "rgb(128, 128, 128)",
          "dash": "solid",
          "width": 1.0
         },
         "mode": "lines",
         "name": "lines",
         "showlegend": false,
         "text": "Index: 143<br />Name: Line 143<br />Length: 0.286 km<br />R: 0.046 Ohm<br />X: 0.033 Ohm<br />",
         "x": [
          7.81440186,
          7.81428393,
          7.8127534,
          7.81265378
         ],
         "y": [
          48.38940745,
          48.38967584,
          48.39156961,
          48.39170089
         ],
         "type": "scatter"
        },
        {
         "hoverinfo": "text",
         "legendgroup": "lines",
         "line": {
          "color": "rgb(128, 128, 128)",
          "dash": "solid",
          "width": 1.0
         },
         "mode": "lines",
         "name": "lines",
         "showlegend": false,
         "text": "Index: 144<br />Name: Line 144<br />Length: 1.517 km<br />R: 0.244 Ohm<br />X: 0.178 Ohm<br />",
         "x": [
          7.82229551,
          7.8238694,
          7.82106089,
          7.82234704,
          7.82409718,
          7.82817169,
          7.82922235,
          7.83034891,
          7.83058701
         ],
         "y": [
          48.38807328,
          48.38845699,
          48.3902318,
          48.39111773,
          48.3930508,
          48.3948561,
          48.39670488,
          48.39743032,
          48.39753675
         ],
         "type": "scatter"
        },
        {
         "hoverinfo": "text",
         "legendgroup": "lines",
         "line": {
          "color": "rgb(128, 128, 128)",
          "dash": "solid",
          "width": 1.0
         },
         "mode": "lines",
         "name": "lines",
         "showlegend": false,
         "text": "Index: 145<br />Name: Line 145<br />Length: 0.719 km<br />R: 0.116 Ohm<br />X: 0.084 Ohm<br />",
         "x": [
          7.81702049,
          7.81878871,
          7.81943944,
          7.82266554,
          7.82198478,
          7.82281578,
          7.82229551
         ],
         "y": [
          48.38429982,
          48.38482288,
          48.38520652,
          48.38641133,
          48.387031,
          48.38770494,
          48.38807328
         ],
         "type": "scatter"
        },
        {
         "hoverinfo": "text",
         "legendgroup": "lines",
         "line": {
          "color": "rgb(128, 128, 128)",
          "dash": "solid",
          "width": 1.0
         },
         "mode": "lines",
         "name": "lines",
         "showlegend": false,
         "text": "Index: 146<br />Name: Line 146<br />Length: 0.22 km<br />R: 0.035 Ohm<br />X: 0.026 Ohm<br />",
         "x": [
          7.81550141,
          7.81654608,
          7.81760243,
          7.81702049
         ],
         "y": [
          48.38288709,
          48.38240623,
          48.38311519,
          48.38429982
         ],
         "type": "scatter"
        },
        {
         "hoverinfo": "text",
         "legendgroup": "lines",
         "line": {
          "color": "rgb(128, 128, 128)",
          "dash": "solid",
          "width": 1.0
         },
         "mode": "lines",
         "name": "lines",
         "showlegend": false,
         "text": "Index: 147<br />Name: Line 147<br />Length: 0.21 km<br />R: 0.034 Ohm<br />X: 0.025 Ohm<br />",
         "x": [
          7.81800216,
          7.81735047,
          7.81627775,
          7.81599919
         ],
         "y": [
          48.45286283,
          48.4523668,
          48.45247233,
          48.45200045
         ],
         "type": "scatter"
        },
        {
         "hoverinfo": "text",
         "legendgroup": "lines",
         "line": {
          "color": "rgb(128, 128, 128)",
          "dash": "solid",
          "width": 1.0
         },
         "mode": "lines",
         "name": "lines",
         "showlegend": false,
         "text": "Index: 148<br />Name: Line 148<br />Length: 0.239 km<br />R: 0.039 Ohm<br />X: 0.028 Ohm<br />",
         "x": [
          7.81599919,
          7.81594703,
          7.81544555,
          7.81487777,
          7.81386611
         ],
         "y": [
          48.45200045,
          48.45184899,
          48.45198309,
          48.45113912,
          48.45138395
         ],
         "type": "scatter"
        },
        {
         "hoverinfo": "text",
         "legendgroup": "lines",
         "line": {
          "color": "rgb(128, 128, 128)",
          "dash": "solid",
          "width": 1.0
         },
         "mode": "lines",
         "name": "lines",
         "showlegend": false,
         "text": "Index: 149<br />Name: Line 149<br />Length: 0.345 km<br />R: 0.055 Ohm<br />X: 0.04 Ohm<br />",
         "x": [
          7.82260854,
          7.81800216
         ],
         "y": [
          48.45231101,
          48.45286283
         ],
         "type": "scatter"
        },
        {
         "hoverinfo": "text",
         "legendgroup": "lines",
         "line": {
          "color": "rgb(128, 128, 128)",
          "dash": "solid",
          "width": 1.0
         },
         "mode": "lines",
         "name": "lines",
         "showlegend": false,
         "text": "Index: 150<br />Name: Line 150<br />Length: 0.327 km<br />R: 0.053 Ohm<br />X: 0.038 Ohm<br />",
         "x": [
          7.82260854,
          7.82256678,
          7.82319722,
          7.82449029
         ],
         "y": [
          48.45231101,
          48.45266208,
          48.45431913,
          48.45412175
         ],
         "type": "scatter"
        },
        {
         "hoverinfo": "text",
         "legendgroup": "lines",
         "line": {
          "color": "rgb(128, 128, 128)",
          "dash": "solid",
          "width": 1.0
         },
         "mode": "lines",
         "name": "lines",
         "showlegend": false,
         "text": "Index: 151<br />Name: Line 151<br />Length: 0.553 km<br />R: 0.068 Ohm<br />X: 0.062 Ohm<br />",
         "x": [
          7.80946722,
          7.80854958,
          7.80464847,
          7.80466609
         ],
         "y": [
          48.43003727,
          48.43027934,
          48.43083045,
          48.43251067
         ],
         "type": "scatter"
        },
        {
         "hoverinfo": "text",
         "legendgroup": "lines",
         "line": {
          "color": "rgb(128, 128, 128)",
          "dash": "solid",
          "width": 1.0
         },
         "mode": "lines",
         "name": "lines",
         "showlegend": false,
         "text": "Index: 152<br />Name: Line 152<br />Length: 0.146 km<br />R: 0.024 Ohm<br />X: 0.017 Ohm<br />",
         "x": [
          7.80946722,
          7.80939155,
          7.81078043
         ],
         "y": [
          48.43003727,
          48.4299802,
          48.42871494
         ],
         "type": "scatter"
        },
        {
         "hoverinfo": "text",
         "legendgroup": "lines",
         "line": {
          "color": "rgb(128, 128, 128)",
          "dash": "solid",
          "width": 1.0
         },
         "mode": "lines",
         "name": "lines",
         "showlegend": false,
         "text": "Index: 153<br />Name: Line 153<br />Length: 0.482 km<br />R: 0.078 Ohm<br />X: 0.056 Ohm<br />",
         "x": [
          7.81434875,
          7.81587268,
          7.81541879,
          7.81753115
         ],
         "y": [
          48.43503248,
          48.43497042,
          48.43310111,
          48.43283117
         ],
         "type": "scatter"
        },
        {
         "hoverinfo": "text",
         "legendgroup": "lines",
         "line": {
          "color": "rgb(128, 128, 128)",
          "dash": "solid",
          "width": 1.0
         },
         "mode": "lines",
         "name": "lines",
         "showlegend": false,
         "text": "Index: 154<br />Name: Line 154<br />Length: 0.443 km<br />R: 0.071 Ohm<br />X: 0.052 Ohm<br />",
         "x": [
          7.81812248,
          7.81808382,
          7.81713512,
          7.81746181,
          7.81664213,
          7.81753115
         ],
         "y": [
          48.42974203,
          48.42987869,
          48.43023546,
          48.43069249,
          48.43088424,
          48.43283117
         ],
         "type": "scatter"
        },
        {
         "hoverinfo": "text",
         "legendgroup": "lines",
         "line": {
          "color": "rgb(128, 128, 128)",
          "dash": "solid",
          "width": 1.0
         },
         "mode": "lines",
         "name": "lines",
         "showlegend": false,
         "text": "Index: 156<br />Name: Line 156<br />Length: 0.284 km<br />R: 0.046 Ohm<br />X: 0.033 Ohm<br />",
         "x": [
          7.81812248,
          7.81640506,
          7.81702793,
          7.81719863
         ],
         "y": [
          48.42974203,
          48.42919601,
          48.428887,
          48.4281192
         ],
         "type": "scatter"
        },
        {
         "hoverinfo": "text",
         "legendgroup": "lines",
         "line": {
          "color": "rgb(128, 128, 128)",
          "dash": "solid",
          "width": 1.0
         },
         "mode": "lines",
         "name": "lines",
         "showlegend": false,
         "text": "Index: 157<br />Name: Line 157<br />Length: 1.082 km<br />R: 0.128 Ohm<br />X: 0.346 Ohm<br />",
         "x": [
          7.90923486,
          7.90348365,
          7.90031707,
          7.8959583
         ],
         "y": [
          48.4561543,
          48.45358185,
          48.45301795,
          48.45361129
         ],
         "type": "scatter"
        },
        {
         "hoverinfo": "text",
         "legendgroup": "lines",
         "line": {
          "color": "rgb(128, 128, 128)",
          "dash": "solid",
          "width": 1.0
         },
         "mode": "lines",
         "name": "lines",
         "showlegend": false,
         "text": "Index: 158<br />Name: Line 158<br />Length: 0.689 km<br />R: 0.082 Ohm<br />X: 0.221 Ohm<br />",
         "x": [
          7.8959583,
          7.89568627,
          7.88830762
         ],
         "y": [
          48.45361129,
          48.4547515,
          48.45601148
         ],
         "type": "scatter"
        },
        {
         "hoverinfo": "text",
         "legendgroup": "lines",
         "line": {
          "color": "rgb(128, 128, 128)",
          "dash": "solid",
          "width": 1.0
         },
         "mode": "lines",
         "name": "lines",
         "showlegend": false,
         "text": "Index: 161<br />Name: Line 161<br />Length: 0.468 km<br />R: 0.057 Ohm<br />X: 0.052 Ohm<br />",
         "x": [
          7.88830762,
          7.88776916,
          7.88367481,
          7.88212331
         ],
         "y": [
          48.45601148,
          48.45627719,
          48.45609713,
          48.45630215
         ],
         "type": "scatter"
        },
        {
         "hoverinfo": "text",
         "legendgroup": "lines",
         "line": {
          "color": "rgb(128, 128, 128)",
          "dash": "solid",
          "width": 1.0
         },
         "mode": "lines",
         "name": "lines",
         "showlegend": false,
         "text": "Index: 162<br />Name: Line 162<br />Length: 2.595 km<br />R: 0.308 Ohm<br />X: 0.83 Ohm<br />",
         "x": [
          7.88546159,
          7.91396063
         ],
         "y": [
          48.4585246,
          48.4569382
         ],
         "type": "scatter"
        },
        {
         "hoverinfo": "text",
         "legendgroup": "lines",
         "line": {
          "color": "rgb(128, 128, 128)",
          "dash": "solid",
          "width": 1.0
         },
         "mode": "lines",
         "name": "lines",
         "showlegend": false,
         "text": "Index: 163<br />Name: Line 163<br />Length: 0.306 km<br />R: 0.049 Ohm<br />X: 0.036 Ohm<br />",
         "x": [
          7.80752534,
          7.80754102,
          7.81003126,
          7.81053946,
          7.8112944
         ],
         "y": [
          48.46584322,
          48.46596098,
          48.46600036,
          48.46630498,
          48.466147
         ],
         "type": "scatter"
        },
        {
         "hoverinfo": "text",
         "legendgroup": "lines",
         "line": {
          "color": "rgb(128, 128, 128)",
          "dash": "solid",
          "width": 1.0
         },
         "mode": "lines",
         "name": "lines",
         "showlegend": false,
         "text": "Index: 164<br />Name: Line 164<br />Length: 0.566 km<br />R: 0.091 Ohm<br />X: 0.066 Ohm<br />",
         "x": [
          7.81894107,
          7.81480813,
          7.81294305,
          7.8112944
         ],
         "y": [
          48.46584214,
          48.46581066,
          48.46590381,
          48.466147
         ],
         "type": "scatter"
        },
        {
         "hoverinfo": "text",
         "legendgroup": "lines",
         "line": {
          "color": "rgb(128, 128, 128)",
          "dash": "solid",
          "width": 1.0
         },
         "mode": "lines",
         "name": "lines",
         "showlegend": false,
         "text": "Index: 165<br />Name: Line 165<br />Length: 0.365 km<br />R: 0.043 Ohm<br />X: 0.117 Ohm<br />",
         "x": [
          7.91309968,
          7.91279093,
          7.9120236,
          7.90923486
         ],
         "y": [
          48.4566322,
          48.45683348,
          48.45740074,
          48.4561543
         ],
         "type": "scatter"
        },
        {
         "hoverinfo": "text",
         "legendgroup": "lines",
         "line": {
          "color": "rgb(128, 128, 128)",
          "dash": "solid",
          "width": 1.0
         },
         "mode": "lines",
         "name": "lines",
         "showlegend": false,
         "text": "Index: 167<br />Name: Line 167<br />Length: 0.464 km<br />R: 0.075 Ohm<br />X: 0.054 Ohm<br />",
         "x": [
          7.79891555,
          7.80501543
         ],
         "y": [
          48.46284776,
          48.46296614
         ],
         "type": "scatter"
        },
        {
         "hoverinfo": "text",
         "legendgroup": "lines",
         "line": {
          "color": "rgb(128, 128, 128)",
          "dash": "solid",
          "width": 1.0
         },
         "mode": "lines",
         "name": "lines",
         "showlegend": false,
         "text": "Index: 168<br />Name: Line 168<br />Length: 0.42 km<br />R: 0.068 Ohm<br />X: 0.049 Ohm<br />",
         "x": [
          7.79950378,
          7.79789121,
          7.79674274
         ],
         "y": [
          48.46870231,
          48.46588425,
          48.46588038
         ],
         "type": "scatter"
        },
        {
         "hoverinfo": "text",
         "legendgroup": "lines",
         "line": {
          "color": "rgb(128, 128, 128)",
          "dash": "solid",
          "width": 1.0
         },
         "mode": "lines",
         "name": "lines",
         "showlegend": false,
         "text": "Index: 169<br />Name: Line 169<br />Length: 0.272 km<br />R: 0.044 Ohm<br />X: 0.032 Ohm<br />",
         "x": [
          7.79674274,
          7.79411097,
          7.79305306
         ],
         "y": [
          48.46588038,
          48.46590636,
          48.46585031
         ],
         "type": "scatter"
        },
        {
         "hoverinfo": "text",
         "legendgroup": "lines",
         "line": {
          "color": "rgb(128, 128, 128)",
          "dash": "solid",
          "width": 1.0
         },
         "mode": "lines",
         "name": "lines",
         "showlegend": false,
         "text": "Index: 170<br />Name: Line 170<br />Length: 0.285 km<br />R: 0.046 Ohm<br />X: 0.033 Ohm<br />",
         "x": [
          7.87725311,
          7.87671923,
          7.87675502,
          7.87697289,
          7.87715626
         ],
         "y": [
          48.46499297,
          48.46561508,
          48.46636841,
          48.46654892,
          48.46740551
         ],
         "type": "scatter"
        },
        {
         "hoverinfo": "text",
         "legendgroup": "lines",
         "line": {
          "color": "rgb(128, 128, 128)",
          "dash": "solid",
          "width": 1.0
         },
         "mode": "lines",
         "name": "lines",
         "showlegend": false,
         "text": "Index: 171<br />Name: Line 171<br />Length: 0.77 km<br />R: 0.124 Ohm<br />X: 0.09 Ohm<br />",
         "x": [
          7.8758161,
          7.87553451,
          7.87598516,
          7.87548683,
          7.87663709,
          7.87744195,
          7.87845944,
          7.87715626
         ],
         "y": [
          48.47236011,
          48.47232304,
          48.47165336,
          48.4711409,
          48.46913517,
          48.46937138,
          48.46779457,
          48.46740551
         ],
         "type": "scatter"
        },
        {
         "hoverinfo": "text",
         "legendgroup": "lines",
         "line": {
          "color": "rgb(128, 128, 128)",
          "dash": "solid",
          "width": 1.0
         },
         "mode": "lines",
         "name": "lines",
         "showlegend": false,
         "text": "Index: 172<br />Name: Line 172<br />Length: 0.264 km<br />R: 0.032 Ohm<br />X: 0.03 Ohm<br />",
         "x": [
          7.88344689,
          7.88378722,
          7.88260716
         ],
         "y": [
          48.46135559,
          48.46292134,
          48.46302758
         ],
         "type": "scatter"
        },
        {
         "hoverinfo": "text",
         "legendgroup": "lines",
         "line": {
          "color": "rgb(128, 128, 128)",
          "dash": "solid",
          "width": 1.0
         },
         "mode": "lines",
         "name": "lines",
         "showlegend": false,
         "text": "Index: 173<br />Name: Line 173<br />Length: 0.197 km<br />R: 0.024 Ohm<br />X: 0.022 Ohm<br />",
         "x": [
          7.88260716,
          7.88401855,
          7.88432076
         ],
         "y": [
          48.46302758,
          48.46350368,
          48.46419159
         ],
         "type": "scatter"
        },
        {
         "hoverinfo": "text",
         "legendgroup": "lines",
         "line": {
          "color": "rgb(128, 128, 128)",
          "dash": "solid",
          "width": 1.0
         },
         "mode": "lines",
         "name": "lines",
         "showlegend": false,
         "text": "Index: 174<br />Name: Line 174<br />Length: 0.28 km<br />R: 0.045 Ohm<br />X: 0.033 Ohm<br />",
         "x": [
          7.88023004,
          7.88045814,
          7.88260716
         ],
         "y": [
          48.46216934,
          48.46323446,
          48.46302758
         ],
         "type": "scatter"
        },
        {
         "hoverinfo": "text",
         "legendgroup": "lines",
         "line": {
          "color": "rgb(128, 128, 128)",
          "dash": "solid",
          "width": 1.0
         },
         "mode": "lines",
         "name": "lines",
         "showlegend": false,
         "text": "Index: 175<br />Name: Line 175<br />Length: 0.398 km<br />R: 0.049 Ohm<br />X: 0.045 Ohm<br />",
         "x": [
          7.88546159,
          7.88510802,
          7.88463276,
          7.8840797,
          7.88379148,
          7.88340999,
          7.88344689
         ],
         "y": [
          48.4585246,
          48.45925446,
          48.46021773,
          48.46019306,
          48.46086262,
          48.46087555,
          48.46135559
         ],
         "type": "scatter"
        },
        {
         "hoverinfo": "text",
         "legendgroup": "lines",
         "line": {
          "color": "rgb(128, 128, 128)",
          "dash": "solid",
          "width": 1.0
         },
         "mode": "lines",
         "name": "lines",
         "showlegend": false,
         "text": "Index: 177<br />Name: Line 177<br />Length: 0.293 km<br />R: 0.047 Ohm<br />X: 0.034 Ohm<br />",
         "x": [
          7.8758161,
          7.87666867
         ],
         "y": [
          48.47236011,
          48.47484423
         ],
         "type": "scatter"
        },
        {
         "hoverinfo": "text",
         "legendgroup": "lines",
         "line": {
          "color": "rgb(128, 128, 128)",
          "dash": "solid",
          "width": 1.0
         },
         "mode": "lines",
         "name": "lines",
         "showlegend": false,
         "text": "Index: 178<br />Name: Line 178<br />Length: 0.449 km<br />R: 0.072 Ohm<br />X: 0.052 Ohm<br />",
         "x": [
          7.87990442,
          7.87881309,
          7.8762772,
          7.8758161
         ],
         "y": [
          48.46999586,
          48.4713525,
          48.4716203,
          48.47236011
         ],
         "type": "scatter"
        },
        {
         "hoverinfo": "text",
         "legendgroup": "lines",
         "line": {
          "color": "rgb(128, 128, 128)",
          "dash": "solid",
          "width": 1.0
         },
         "mode": "lines",
         "name": "lines",
         "showlegend": false,
         "text": "Index: 179<br />Name: Line 179<br />Length: 0.551 km<br />R: 0.089 Ohm<br />X: 0.064 Ohm<br />",
         "x": [
          7.88088449,
          7.88165,
          7.88259545,
          7.88105677,
          7.87990442
         ],
         "y": [
          48.46626641,
          48.46667163,
          48.4670659,
          48.46954176,
          48.46999586
         ],
         "type": "scatter"
        },
        {
         "hoverinfo": "text",
         "legendgroup": "lines",
         "line": {
          "color": "rgb(128, 128, 128)",
          "dash": "solid",
          "width": 1.0
         },
         "mode": "lines",
         "name": "lines",
         "showlegend": false,
         "text": "Index: 180<br />Name: Line 180<br />Length: 1.42 km<br />R: 0.229 Ohm<br />X: 0.166 Ohm<br />",
         "x": [
          7.88777356,
          7.88466467,
          7.87836276,
          7.87625272
         ],
         "y": [
          48.43320652,
          48.43560077,
          48.44264826,
          48.44299303
         ],
         "type": "scatter"
        },
        {
         "hoverinfo": "text",
         "legendgroup": "lines",
         "line": {
          "color": "rgb(128, 128, 128)",
          "dash": "solid",
          "width": 1.0
         },
         "mode": "lines",
         "name": "lines",
         "showlegend": false,
         "text": "Index: 181<br />Name: Line 181<br />Length: 0.54 km<br />R: 0.087 Ohm<br />X: 0.063 Ohm<br />",
         "x": [
          7.88517175,
          7.88450517,
          7.88091238,
          7.87808299
         ],
         "y": [
          48.45375027,
          48.45379718,
          48.45401796,
          48.45477828
         ],
         "type": "scatter"
        },
        {
         "hoverinfo": "text",
         "legendgroup": "lines",
         "line": {
          "color": "rgb(128, 128, 128)",
          "dash": "solid",
          "width": 1.0
         },
         "mode": "lines",
         "name": "lines",
         "showlegend": false,
         "text": "Index: 182<br />Name: Line 182<br />Length: 0.355 km<br />R: 0.043 Ohm<br />X: 0.04 Ohm<br />",
         "x": [
          7.87808299,
          7.87790893,
          7.87858024,
          7.87701423,
          7.87771765
         ],
         "y": [
          48.45477828,
          48.45486293,
          48.45553885,
          48.45634075,
          48.45713891
         ],
         "type": "scatter"
        },
        {
         "hoverinfo": "text",
         "legendgroup": "lines",
         "line": {
          "color": "rgb(128, 128, 128)",
          "dash": "solid",
          "width": 1.0
         },
         "mode": "lines",
         "name": "lines",
         "showlegend": false,
         "text": "Index: 183<br />Name: Line 183<br />Length: 0.338 km<br />R: 0.041 Ohm<br />X: 0.038 Ohm<br />",
         "x": [
          7.88212331,
          7.87980154,
          7.87771765
         ],
         "y": [
          48.45630215,
          48.45668177,
          48.45713891
         ],
         "type": "scatter"
        },
        {
         "hoverinfo": "text",
         "legendgroup": "lines",
         "line": {
          "color": "rgb(128, 128, 128)",
          "dash": "solid",
          "width": 1.0
         },
         "mode": "lines",
         "name": "lines",
         "showlegend": false,
         "text": "Index: 184<br />Name: Line 184<br />Length: 0.44 km<br />R: 0.071 Ohm<br />X: 0.051 Ohm<br />",
         "x": [
          7.88546159,
          7.88352252,
          7.88060094,
          7.88076055
         ],
         "y": [
          48.4585246,
          48.4583596,
          48.45867551,
          48.45936355
         ],
         "type": "scatter"
        },
        {
         "hoverinfo": "text",
         "legendgroup": "lines",
         "line": {
          "color": "rgb(128, 128, 128)",
          "dash": "solid",
          "width": 1.0
         },
         "mode": "lines",
         "name": "lines",
         "showlegend": false,
         "text": "Index: 185<br />Name: Line 185<br />Length: 1.095 km<br />R: 0.176 Ohm<br />X: 0.128 Ohm<br />",
         "x": [
          7.88517175,
          7.88530198,
          7.88291376,
          7.87922427,
          7.87688954
         ],
         "y": [
          48.45375027,
          48.45321614,
          48.44925911,
          48.44679416,
          48.44659344
         ],
         "type": "scatter"
        },
        {
         "hoverinfo": "text",
         "legendgroup": "lines",
         "line": {
          "color": "rgb(128, 128, 128)",
          "dash": "solid",
          "width": 1.0
         },
         "mode": "lines",
         "name": "lines",
         "showlegend": false,
         "text": "Index: 186<br />Name: Line 186<br />Length: 0.346 km<br />R: 0.056 Ohm<br />X: 0.041 Ohm<br />",
         "x": [
          7.88517175,
          7.88695118,
          7.88692885,
          7.88824433
         ],
         "y": [
          48.45375027,
          48.45372929,
          48.45278221,
          48.45231709
         ],
         "type": "scatter"
        },
        {
         "hoverinfo": "text",
         "legendgroup": "lines",
         "line": {
          "color": "rgb(128, 128, 128)",
          "dash": "solid",
          "width": 1.0
         },
         "mode": "lines",
         "name": "lines",
         "showlegend": false,
         "text": "Index: 187<br />Name: Line 187<br />Length: 0.41 km<br />R: 0.066 Ohm<br />X: 0.048 Ohm<br />",
         "x": [
          7.87688954,
          7.87686341,
          7.87640856,
          7.87643942,
          7.87625272
         ],
         "y": [
          48.44659344,
          48.44509708,
          48.44445558,
          48.44349227,
          48.44299303
         ],
         "type": "scatter"
        },
        {
         "hoverinfo": "text",
         "legendgroup": "lines",
         "line": {
          "color": "rgb(128, 128, 128)",
          "dash": "solid",
          "width": 1.0
         },
         "mode": "lines",
         "name": "lines",
         "showlegend": false,
         "text": "Index: 189<br />Name: Line 189<br />Length: 0.446 km<br />R: 0.072 Ohm<br />X: 0.052 Ohm<br />",
         "x": [
          7.87260819,
          7.87239645,
          7.87493521,
          7.87520041
         ],
         "y": [
          48.45794147,
          48.45828506,
          48.46130227,
          48.46134835
         ],
         "type": "scatter"
        },
        {
         "hoverinfo": "text",
         "legendgroup": "lines",
         "line": {
          "color": "rgb(128, 128, 128)",
          "dash": "solid",
          "width": 1.0
         },
         "mode": "lines",
         "name": "lines",
         "showlegend": false,
         "text": "Index: 190<br />Name: Line 190<br />Length: 0.314 km<br />R: 0.051 Ohm<br />X: 0.037 Ohm<br />",
         "x": [
          7.87520041,
          7.87515322,
          7.87712123,
          7.87750063
         ],
         "y": [
          48.46134835,
          48.46161584,
          48.46328049,
          48.46363931
         ],
         "type": "scatter"
        },
        {
         "hoverinfo": "text",
         "legendgroup": "lines",
         "line": {
          "color": "rgb(128, 128, 128)",
          "dash": "solid",
          "width": 1.0
         },
         "mode": "lines",
         "name": "lines",
         "showlegend": false,
         "text": "Index: 191<br />Name: Line 191<br />Length: 0.152 km<br />R: 0.024 Ohm<br />X: 0.018 Ohm<br />",
         "x": [
          7.87750063,
          7.87725311
         ],
         "y": [
          48.46363931,
          48.46499297
         ],
         "type": "scatter"
        },
        {
         "hoverinfo": "text",
         "legendgroup": "lines",
         "line": {
          "color": "rgb(128, 128, 128)",
          "dash": "solid",
          "width": 1.0
         },
         "mode": "lines",
         "name": "lines",
         "showlegend": false,
         "text": "Index: 192<br />Name: Line 192<br />Length: 0.397 km<br />R: 0.064 Ohm<br />X: 0.046 Ohm<br />",
         "x": [
          7.88088449,
          7.88213238,
          7.88358692,
          7.88432076
         ],
         "y": [
          48.46626641,
          48.46601268,
          48.46585855,
          48.46419159
         ],
         "type": "scatter"
        },
        {
         "hoverinfo": "text",
         "legendgroup": "lines",
         "line": {
          "color": "rgb(128, 128, 128)",
          "dash": "solid",
          "width": 1.0
         },
         "mode": "lines",
         "name": "lines",
         "showlegend": false,
         "text": "Index: 193<br />Name: Line 193<br />Length: 1.006 km<br />R: 0.12 Ohm<br />X: 0.322 Ohm<br />",
         "x": [
          7.75852885,
          7.7589569,
          7.75843138,
          7.76153339
         ],
         "y": [
          48.43345788,
          48.43510804,
          48.43782243,
          48.43987488
         ],
         "type": "scatter"
        },
        {
         "hoverinfo": "text",
         "legendgroup": "disconnected lines",
         "line": {
          "color": "rgb(128, 128, 128)",
          "dash": "dot",
          "width": 0.5
         },
         "mode": "lines",
         "name": "disconnected branches",
         "showlegend": true,
         "text": "Index: 66<br />Name: Line 66<br />Length: 0.446 km<br />R: 0.072 Ohm<br />X: 0.052 Ohm<br />",
         "x": [
          7.81137059,
          7.81131879,
          7.81550141
         ],
         "y": [
          48.38535297,
          48.38527882,
          48.38288709
         ],
         "type": "scatter"
        },
        {
         "hoverinfo": "text",
         "legendgroup": "disconnected lines",
         "line": {
          "color": "rgb(128, 128, 128)",
          "dash": "dot",
          "width": 0.5
         },
         "mode": "lines",
         "name": "disconnected branches",
         "showlegend": false,
         "text": "Index: 8<br />Name: Line 8<br />Length: 0.146 km<br />R: 0.023 Ohm<br />X: 0.017 Ohm<br />",
         "x": [
          7.75838011,
          7.75808461,
          7.75752837
         ],
         "y": [
          48.34834127,
          48.34860058,
          48.3495233
         ],
         "type": "scatter"
        },
        {
         "hoverinfo": "text",
         "legendgroup": "disconnected lines",
         "line": {
          "color": "rgb(128, 128, 128)",
          "dash": "dot",
          "width": 0.5
         },
         "mode": "lines",
         "name": "disconnected branches",
         "showlegend": false,
         "text": "Index: 23<br />Name: Line 23<br />Length: 1.188 km<br />R: 0.191 Ohm<br />X: 0.139 Ohm<br />",
         "x": [
          7.88846812,
          7.89363213,
          7.90115002
         ],
         "y": [
          48.41556286,
          48.41919475,
          48.42189392
         ],
         "type": "scatter"
        },
        {
         "hoverinfo": "text",
         "legendgroup": "disconnected lines",
         "line": {
          "color": "rgb(128, 128, 128)",
          "dash": "dot",
          "width": 0.5
         },
         "mode": "lines",
         "name": "disconnected branches",
         "showlegend": false,
         "text": "Index: 88<br />Name: Line 88<br />Length: 0.296 km<br />R: 0.048 Ohm<br />X: 0.035 Ohm<br />",
         "x": [
          7.90130481,
          7.90122937,
          7.90205872
         ],
         "y": [
          48.39757192,
          48.3966186,
          48.39529931
         ],
         "type": "scatter"
        },
        {
         "hoverinfo": "text",
         "legendgroup": "disconnected lines",
         "line": {
          "color": "rgb(128, 128, 128)",
          "dash": "dot",
          "width": 0.5
         },
         "mode": "lines",
         "name": "disconnected branches",
         "showlegend": false,
         "text": "Index: 188<br />Name: Line 188<br />Length: 0.386 km<br />R: 0.062 Ohm<br />X: 0.045 Ohm<br />",
         "x": [
          7.87771765,
          7.87260819
         ],
         "y": [
          48.45713891,
          48.45794147
         ],
         "type": "scatter"
        },
        {
         "hoverinfo": "text",
         "legendgroup": "disconnected lines",
         "line": {
          "color": "rgb(128, 128, 128)",
          "dash": "dot",
          "width": 0.5
         },
         "mode": "lines",
         "name": "disconnected branches",
         "showlegend": false,
         "text": "Index: 31<br />Name: Line 31<br />Length: 0.967 km<br />R: 0.156 Ohm<br />X: 0.113 Ohm<br />",
         "x": [
          7.81661465,
          7.8195498
         ],
         "y": [
          48.44215898,
          48.45155157
         ],
         "type": "scatter"
        },
        {
         "hoverinfo": "text",
         "legendgroup": "lines",
         "marker": {
          "color": "rgb(128, 128, 128)",
          "size": 1,
          "symbol": "circle"
         },
         "mode": "markers",
         "name": "edge_center",
         "showlegend": false,
         "text": [
          "Index: 0<br />Name: Line 0<br />Length: 0.586 km<br />R: 0.094 Ohm<br />X: 0.069 Ohm<br />",
          "Index: 1<br />Name: Line 1<br />Length: 1.374 km<br />R: 0.221 Ohm<br />X: 0.161 Ohm<br />",
          "Index: 2<br />Name: Line 2<br />Length: 0.206 km<br />R: 0.033 Ohm<br />X: 0.024 Ohm<br />",
          "Index: 3<br />Name: Line 3<br />Length: 0.617 km<br />R: 0.099 Ohm<br />X: 0.072 Ohm<br />",
          "Index: 4<br />Name: Line 4<br />Length: 0.382 km<br />R: 0.061 Ohm<br />X: 0.045 Ohm<br />",
          "Index: 5<br />Name: Line 5<br />Length: 3.303 km<br />R: 0.532 Ohm<br />X: 0.386 Ohm<br />",
          "Index: 6<br />Name: Line 6<br />Length: 0.35 km<br />R: 0.056 Ohm<br />X: 0.041 Ohm<br />",
          "Index: 7<br />Name: Line 7<br />Length: 0.736 km<br />R: 0.118 Ohm<br />X: 0.086 Ohm<br />",
          "Index: 10<br />Name: Line 10<br />Length: 0.313 km<br />R: 0.05 Ohm<br />X: 0.037 Ohm<br />",
          "Index: 11<br />Name: Line 11<br />Length: 0.258 km<br />R: 0.042 Ohm<br />X: 0.03 Ohm<br />",
          "Index: 12<br />Name: Line 12<br />Length: 0.435 km<br />R: 0.07 Ohm<br />X: 0.051 Ohm<br />",
          "Index: 14<br />Name: Line 14<br />Length: 0.357 km<br />R: 0.058 Ohm<br />X: 0.042 Ohm<br />",
          "Index: 15<br />Name: Line 15<br />Length: 0.254 km<br />R: 0.041 Ohm<br />X: 0.03 Ohm<br />",
          "Index: 16<br />Name: Line 16<br />Length: 0.635 km<br />R: 0.102 Ohm<br />X: 0.074 Ohm<br />",
          "Index: 17<br />Name: Line 17<br />Length: 1.3 km<br />R: 0.209 Ohm<br />X: 0.152 Ohm<br />",
          "Index: 18<br />Name: Line 18<br />Length: 0.139 km<br />R: 0.022 Ohm<br />X: 0.016 Ohm<br />",
          "Index: 20<br />Name: Line 20<br />Length: 0.632 km<br />R: 0.102 Ohm<br />X: 0.074 Ohm<br />",
          "Index: 21<br />Name: Line 21<br />Length: 0.112 km<br />R: 0.018 Ohm<br />X: 0.013 Ohm<br />",
          "Index: 22<br />Name: Line 22<br />Length: 0.312 km<br />R: 0.05 Ohm<br />X: 0.036 Ohm<br />",
          "Index: 24<br />Name: Line 24<br />Length: 0.695 km<br />R: 0.112 Ohm<br />X: 0.081 Ohm<br />",
          "Index: 25<br />Name: Line 25<br />Length: 0.235 km<br />R: 0.038 Ohm<br />X: 0.028 Ohm<br />",
          "Index: 26<br />Name: Line 26<br />Length: 0.561 km<br />R: 0.09 Ohm<br />X: 0.066 Ohm<br />",
          "Index: 27<br />Name: Line 27<br />Length: 0.522 km<br />R: 0.084 Ohm<br />X: 0.061 Ohm<br />",
          "Index: 28<br />Name: Line 28<br />Length: 0.283 km<br />R: 0.034 Ohm<br />X: 0.032 Ohm<br />",
          "Index: 29<br />Name: Line 29<br />Length: 1.688 km<br />R: 0.272 Ohm<br />X: 0.197 Ohm<br />",
          "Index: 30<br />Name: Line 30<br />Length: 1.073 km<br />R: 0.173 Ohm<br />X: 0.125 Ohm<br />",
          "Index: 32<br />Name: Line 32<br />Length: 0.324 km<br />R: 0.052 Ohm<br />X: 0.038 Ohm<br />",
          "Index: 34<br />Name: Line 34<br />Length: 0.309 km<br />R: 0.05 Ohm<br />X: 0.036 Ohm<br />",
          "Index: 35<br />Name: Line 35<br />Length: 0.541 km<br />R: 0.087 Ohm<br />X: 0.063 Ohm<br />",
          "Index: 36<br />Name: Line 36<br />Length: 0.296 km<br />R: 0.036 Ohm<br />X: 0.033 Ohm<br />",
          "Index: 37<br />Name: Line 37<br />Length: 0.48 km<br />R: 0.059 Ohm<br />X: 0.054 Ohm<br />",
          "Index: 38<br />Name: Line 38<br />Length: 0.711 km<br />R: 0.084 Ohm<br />X: 0.228 Ohm<br />",
          "Index: 39<br />Name: Line 39<br />Length: 0.242 km<br />R: 0.039 Ohm<br />X: 0.028 Ohm<br />",
          "Index: 40<br />Name: Line 40<br />Length: 0.261 km<br />R: 0.042 Ohm<br />X: 0.031 Ohm<br />",
          "Index: 41<br />Name: Line 41<br />Length: 0.345 km<br />R: 0.055 Ohm<br />X: 0.04 Ohm<br />",
          "Index: 42<br />Name: Line 42<br />Length: 1.621 km<br />R: 0.261 Ohm<br />X: 0.19 Ohm<br />",
          "Index: 43<br />Name: Line 43<br />Length: 0.782 km<br />R: 0.126 Ohm<br />X: 0.091 Ohm<br />",
          "Index: 44<br />Name: Line 44<br />Length: 0.248 km<br />R: 0.04 Ohm<br />X: 0.029 Ohm<br />",
          "Index: 45<br />Name: Line 45<br />Length: 2.611 km<br />R: 0.42 Ohm<br />X: 0.305 Ohm<br />",
          "Index: 46<br />Name: Line 46<br />Length: 1.158 km<br />R: 0.186 Ohm<br />X: 0.136 Ohm<br />",
          "Index: 47<br />Name: Line 47<br />Length: 1.526 km<br />R: 0.246 Ohm<br />X: 0.179 Ohm<br />",
          "Index: 48<br />Name: Line 48<br />Length: 2.033 km<br />R: 0.327 Ohm<br />X: 0.238 Ohm<br />",
          "Index: 49<br />Name: Line 49<br />Length: 0.997 km<br />R: 0.161 Ohm<br />X: 0.117 Ohm<br />",
          "Index: 50<br />Name: Line 50<br />Length: 0.804 km<br />R: 0.129 Ohm<br />X: 0.094 Ohm<br />",
          "Index: 51<br />Name: Line 51<br />Length: 0.947 km<br />R: 0.153 Ohm<br />X: 0.111 Ohm<br />",
          "Index: 52<br />Name: Line 52<br />Length: 0.929 km<br />R: 0.11 Ohm<br />X: 0.297 Ohm<br />",
          "Index: 53<br />Name: Line 53<br />Length: 0.778 km<br />R: 0.092 Ohm<br />X: 0.249 Ohm<br />",
          "Index: 54<br />Name: Line 54<br />Length: 0.713 km<br />R: 0.087 Ohm<br />X: 0.08 Ohm<br />",
          "Index: 55<br />Name: Line 55<br />Length: 1.136 km<br />R: 0.183 Ohm<br />X: 0.133 Ohm<br />",
          "Index: 56<br />Name: Line 56<br />Length: 2.149 km<br />R: 0.346 Ohm<br />X: 0.251 Ohm<br />",
          "Index: 57<br />Name: Line 57<br />Length: 0.811 km<br />R: 0.131 Ohm<br />X: 0.095 Ohm<br />",
          "Index: 58<br />Name: Line 58<br />Length: 0.47 km<br />R: 0.076 Ohm<br />X: 0.055 Ohm<br />",
          "Index: 59<br />Name: Line 59<br />Length: 3.155 km<br />R: 0.508 Ohm<br />X: 0.369 Ohm<br />",
          "Index: 60<br />Name: Line 60<br />Length: 0.58 km<br />R: 0.093 Ohm<br />X: 0.068 Ohm<br />",
          "Index: 61<br />Name: Line 61<br />Length: 0.618 km<br />R: 0.1 Ohm<br />X: 0.072 Ohm<br />",
          "Index: 62<br />Name: Line 62<br />Length: 1.006 km<br />R: 0.12 Ohm<br />X: 0.322 Ohm<br />",
          "Index: 63<br />Name: Line 63<br />Length: 0.222 km<br />R: 0.036 Ohm<br />X: 0.026 Ohm<br />",
          "Index: 64<br />Name: Line 64<br />Length: 0.936 km<br />R: 0.151 Ohm<br />X: 0.11 Ohm<br />",
          "Index: 65<br />Name: Line 65<br />Length: 1.341 km<br />R: 0.216 Ohm<br />X: 0.157 Ohm<br />",
          "Index: 67<br />Name: Line 67<br />Length: 0.26 km<br />R: 0.042 Ohm<br />X: 0.03 Ohm<br />",
          "Index: 68<br />Name: Line 68<br />Length: 1.804 km<br />R: 0.29 Ohm<br />X: 0.211 Ohm<br />",
          "Index: 69<br />Name: Line 69<br />Length: 0.59 km<br />R: 0.095 Ohm<br />X: 0.069 Ohm<br />",
          "Index: 70<br />Name: Line 70<br />Length: 0.368 km<br />R: 0.059 Ohm<br />X: 0.043 Ohm<br />",
          "Index: 71<br />Name: Line 71<br />Length: 0.162 km<br />R: 0.026 Ohm<br />X: 0.019 Ohm<br />",
          "Index: 72<br />Name: Line 72<br />Length: 1.455 km<br />R: 0.234 Ohm<br />X: 0.17 Ohm<br />",
          "Index: 73<br />Name: Line 73<br />Length: 0.466 km<br />R: 0.075 Ohm<br />X: 0.054 Ohm<br />",
          "Index: 74<br />Name: Line 74<br />Length: 0.53 km<br />R: 0.085 Ohm<br />X: 0.062 Ohm<br />",
          "Index: 75<br />Name: Line 75<br />Length: 0.304 km<br />R: 0.049 Ohm<br />X: 0.036 Ohm<br />",
          "Index: 76<br />Name: Line 76<br />Length: 0.347 km<br />R: 0.056 Ohm<br />X: 0.041 Ohm<br />",
          "Index: 77<br />Name: Line 77<br />Length: 2.122 km<br />R: 0.342 Ohm<br />X: 0.248 Ohm<br />",
          "Index: 78<br />Name: Line 78<br />Length: 0.296 km<br />R: 0.048 Ohm<br />X: 0.035 Ohm<br />",
          "Index: 79<br />Name: Line 79<br />Length: 0.275 km<br />R: 0.044 Ohm<br />X: 0.032 Ohm<br />",
          "Index: 80<br />Name: Line 80<br />Length: 0.428 km<br />R: 0.069 Ohm<br />X: 0.05 Ohm<br />",
          "Index: 81<br />Name: Line 81<br />Length: 0.338 km<br />R: 0.054 Ohm<br />X: 0.039 Ohm<br />",
          "Index: 82<br />Name: Line 82<br />Length: 0.349 km<br />R: 0.056 Ohm<br />X: 0.041 Ohm<br />",
          "Index: 85<br />Name: Line 85<br />Length: 0.329 km<br />R: 0.053 Ohm<br />X: 0.038 Ohm<br />",
          "Index: 86<br />Name: Line 86<br />Length: 0.261 km<br />R: 0.042 Ohm<br />X: 0.031 Ohm<br />",
          "Index: 87<br />Name: Line 87<br />Length: 0.298 km<br />R: 0.048 Ohm<br />X: 0.035 Ohm<br />",
          "Index: 90<br />Name: Line 90<br />Length: 0.315 km<br />R: 0.051 Ohm<br />X: 0.037 Ohm<br />",
          "Index: 91<br />Name: Line 91<br />Length: 2.528 km<br />R: 0.407 Ohm<br />X: 0.296 Ohm<br />",
          "Index: 92<br />Name: Line 92<br />Length: 0.093 km<br />R: 0.015 Ohm<br />X: 0.011 Ohm<br />",
          "Index: 93<br />Name: Line 93<br />Length: 0.387 km<br />R: 0.062 Ohm<br />X: 0.045 Ohm<br />",
          "Index: 94<br />Name: Line 94<br />Length: 0.272 km<br />R: 0.044 Ohm<br />X: 0.032 Ohm<br />",
          "Index: 95<br />Name: Line 95<br />Length: 0.247 km<br />R: 0.04 Ohm<br />X: 0.029 Ohm<br />",
          "Index: 96<br />Name: Line 96<br />Length: 0.25 km<br />R: 0.04 Ohm<br />X: 0.029 Ohm<br />",
          "Index: 97<br />Name: Line 97<br />Length: 0.459 km<br />R: 0.074 Ohm<br />X: 0.054 Ohm<br />",
          "Index: 98<br />Name: Line 98<br />Length: 0.366 km<br />R: 0.059 Ohm<br />X: 0.043 Ohm<br />",
          "Index: 99<br />Name: Line 99<br />Length: 0.291 km<br />R: 0.047 Ohm<br />X: 0.034 Ohm<br />",
          "Index: 100<br />Name: Line 100<br />Length: 0.299 km<br />R: 0.048 Ohm<br />X: 0.035 Ohm<br />",
          "Index: 101<br />Name: Line 101<br />Length: 0.236 km<br />R: 0.038 Ohm<br />X: 0.028 Ohm<br />",
          "Index: 102<br />Name: Line 102<br />Length: 0.489 km<br />R: 0.079 Ohm<br />X: 0.057 Ohm<br />",
          "Index: 103<br />Name: Line 103<br />Length: 0.298 km<br />R: 0.048 Ohm<br />X: 0.035 Ohm<br />",
          "Index: 104<br />Name: Line 104<br />Length: 0.238 km<br />R: 0.038 Ohm<br />X: 0.028 Ohm<br />",
          "Index: 105<br />Name: Line 105<br />Length: 0.177 km<br />R: 0.029 Ohm<br />X: 0.021 Ohm<br />",
          "Index: 106<br />Name: Line 106<br />Length: 0.283 km<br />R: 0.046 Ohm<br />X: 0.033 Ohm<br />",
          "Index: 107<br />Name: Line 107<br />Length: 0.615 km<br />R: 0.099 Ohm<br />X: 0.072 Ohm<br />",
          "Index: 108<br />Name: Line 108<br />Length: 1.278 km<br />R: 0.206 Ohm<br />X: 0.149 Ohm<br />",
          "Index: 109<br />Name: Line 109<br />Length: 0.147 km<br />R: 0.024 Ohm<br />X: 0.017 Ohm<br />",
          "Index: 110<br />Name: Line 110<br />Length: 0.253 km<br />R: 0.041 Ohm<br />X: 0.03 Ohm<br />",
          "Index: 111<br />Name: Line 111<br />Length: 0.214 km<br />R: 0.034 Ohm<br />X: 0.025 Ohm<br />",
          "Index: 112<br />Name: Line 112<br />Length: 0.415 km<br />R: 0.067 Ohm<br />X: 0.049 Ohm<br />",
          "Index: 113<br />Name: Line 113<br />Length: 0.18 km<br />R: 0.029 Ohm<br />X: 0.021 Ohm<br />",
          "Index: 114<br />Name: Line 114<br />Length: 0.562 km<br />R: 0.09 Ohm<br />X: 0.066 Ohm<br />",
          "Index: 116<br />Name: Line 116<br />Length: 0.399 km<br />R: 0.064 Ohm<br />X: 0.047 Ohm<br />",
          "Index: 117<br />Name: Line 117<br />Length: 0.261 km<br />R: 0.042 Ohm<br />X: 0.031 Ohm<br />",
          "Index: 118<br />Name: Line 118<br />Length: 0.37 km<br />R: 0.06 Ohm<br />X: 0.043 Ohm<br />",
          "Index: 119<br />Name: Line 119<br />Length: 0.251 km<br />R: 0.04 Ohm<br />X: 0.029 Ohm<br />",
          "Index: 120<br />Name: Line 120<br />Length: 0.304 km<br />R: 0.049 Ohm<br />X: 0.036 Ohm<br />",
          "Index: 121<br />Name: Line 121<br />Length: 0.233 km<br />R: 0.037 Ohm<br />X: 0.027 Ohm<br />",
          "Index: 122<br />Name: Line 122<br />Length: 0.118 km<br />R: 0.019 Ohm<br />X: 0.014 Ohm<br />",
          "Index: 123<br />Name: Line 123<br />Length: 0.397 km<br />R: 0.064 Ohm<br />X: 0.046 Ohm<br />",
          "Index: 124<br />Name: Line 124<br />Length: 0.52 km<br />R: 0.084 Ohm<br />X: 0.061 Ohm<br />",
          "Index: 125<br />Name: Line 125<br />Length: 1.526 km<br />R: 0.246 Ohm<br />X: 0.179 Ohm<br />",
          "Index: 126<br />Name: Line 126<br />Length: 0.254 km<br />R: 0.041 Ohm<br />X: 0.03 Ohm<br />",
          "Index: 127<br />Name: Line 127<br />Length: 1.601 km<br />R: 0.19 Ohm<br />X: 0.512 Ohm<br />",
          "Index: 128<br />Name: Line 128<br />Length: 0.473 km<br />R: 0.076 Ohm<br />X: 0.055 Ohm<br />",
          "Index: 129<br />Name: Line 129<br />Length: 0.298 km<br />R: 0.048 Ohm<br />X: 0.035 Ohm<br />",
          "Index: 130<br />Name: Line 130<br />Length: 0.295 km<br />R: 0.047 Ohm<br />X: 0.034 Ohm<br />",
          "Index: 131<br />Name: Line 131<br />Length: 0.417 km<br />R: 0.067 Ohm<br />X: 0.049 Ohm<br />",
          "Index: 132<br />Name: Line 132<br />Length: 0.323 km<br />R: 0.052 Ohm<br />X: 0.038 Ohm<br />",
          "Index: 133<br />Name: Line 133<br />Length: 0.296 km<br />R: 0.048 Ohm<br />X: 0.035 Ohm<br />",
          "Index: 134<br />Name: Line 134<br />Length: 0.282 km<br />R: 0.045 Ohm<br />X: 0.033 Ohm<br />",
          "Index: 135<br />Name: Line 135<br />Length: 0.396 km<br />R: 0.064 Ohm<br />X: 0.046 Ohm<br />",
          "Index: 136<br />Name: Line 136<br />Length: 0.371 km<br />R: 0.06 Ohm<br />X: 0.043 Ohm<br />",
          "Index: 137<br />Name: Line 137<br />Length: 0.274 km<br />R: 0.044 Ohm<br />X: 0.032 Ohm<br />",
          "Index: 138<br />Name: Line 138<br />Length: 0.329 km<br />R: 0.053 Ohm<br />X: 0.038 Ohm<br />",
          "Index: 139<br />Name: Line 139<br />Length: 0.499 km<br />R: 0.08 Ohm<br />X: 0.058 Ohm<br />",
          "Index: 140<br />Name: Line 140<br />Length: 0.316 km<br />R: 0.051 Ohm<br />X: 0.037 Ohm<br />",
          "Index: 141<br />Name: Line 141<br />Length: 0.388 km<br />R: 0.062 Ohm<br />X: 0.045 Ohm<br />",
          "Index: 142<br />Name: Line 142<br />Length: 0.07 km<br />R: 0.011 Ohm<br />X: 0.008 Ohm<br />",
          "Index: 143<br />Name: Line 143<br />Length: 0.286 km<br />R: 0.046 Ohm<br />X: 0.033 Ohm<br />",
          "Index: 144<br />Name: Line 144<br />Length: 1.517 km<br />R: 0.244 Ohm<br />X: 0.178 Ohm<br />",
          "Index: 145<br />Name: Line 145<br />Length: 0.719 km<br />R: 0.116 Ohm<br />X: 0.084 Ohm<br />",
          "Index: 146<br />Name: Line 146<br />Length: 0.22 km<br />R: 0.035 Ohm<br />X: 0.026 Ohm<br />",
          "Index: 147<br />Name: Line 147<br />Length: 0.21 km<br />R: 0.034 Ohm<br />X: 0.025 Ohm<br />",
          "Index: 148<br />Name: Line 148<br />Length: 0.239 km<br />R: 0.039 Ohm<br />X: 0.028 Ohm<br />",
          "Index: 149<br />Name: Line 149<br />Length: 0.345 km<br />R: 0.055 Ohm<br />X: 0.04 Ohm<br />",
          "Index: 150<br />Name: Line 150<br />Length: 0.327 km<br />R: 0.053 Ohm<br />X: 0.038 Ohm<br />",
          "Index: 151<br />Name: Line 151<br />Length: 0.553 km<br />R: 0.068 Ohm<br />X: 0.062 Ohm<br />",
          "Index: 152<br />Name: Line 152<br />Length: 0.146 km<br />R: 0.024 Ohm<br />X: 0.017 Ohm<br />",
          "Index: 153<br />Name: Line 153<br />Length: 0.482 km<br />R: 0.078 Ohm<br />X: 0.056 Ohm<br />",
          "Index: 154<br />Name: Line 154<br />Length: 0.443 km<br />R: 0.071 Ohm<br />X: 0.052 Ohm<br />",
          "Index: 156<br />Name: Line 156<br />Length: 0.284 km<br />R: 0.046 Ohm<br />X: 0.033 Ohm<br />",
          "Index: 157<br />Name: Line 157<br />Length: 1.082 km<br />R: 0.128 Ohm<br />X: 0.346 Ohm<br />",
          "Index: 158<br />Name: Line 158<br />Length: 0.689 km<br />R: 0.082 Ohm<br />X: 0.221 Ohm<br />",
          "Index: 161<br />Name: Line 161<br />Length: 0.468 km<br />R: 0.057 Ohm<br />X: 0.052 Ohm<br />",
          "Index: 162<br />Name: Line 162<br />Length: 2.595 km<br />R: 0.308 Ohm<br />X: 0.83 Ohm<br />",
          "Index: 163<br />Name: Line 163<br />Length: 0.306 km<br />R: 0.049 Ohm<br />X: 0.036 Ohm<br />",
          "Index: 164<br />Name: Line 164<br />Length: 0.566 km<br />R: 0.091 Ohm<br />X: 0.066 Ohm<br />",
          "Index: 165<br />Name: Line 165<br />Length: 0.365 km<br />R: 0.043 Ohm<br />X: 0.117 Ohm<br />",
          "Index: 167<br />Name: Line 167<br />Length: 0.464 km<br />R: 0.075 Ohm<br />X: 0.054 Ohm<br />",
          "Index: 168<br />Name: Line 168<br />Length: 0.42 km<br />R: 0.068 Ohm<br />X: 0.049 Ohm<br />",
          "Index: 169<br />Name: Line 169<br />Length: 0.272 km<br />R: 0.044 Ohm<br />X: 0.032 Ohm<br />",
          "Index: 170<br />Name: Line 170<br />Length: 0.285 km<br />R: 0.046 Ohm<br />X: 0.033 Ohm<br />",
          "Index: 171<br />Name: Line 171<br />Length: 0.77 km<br />R: 0.124 Ohm<br />X: 0.09 Ohm<br />",
          "Index: 172<br />Name: Line 172<br />Length: 0.264 km<br />R: 0.032 Ohm<br />X: 0.03 Ohm<br />",
          "Index: 173<br />Name: Line 173<br />Length: 0.197 km<br />R: 0.024 Ohm<br />X: 0.022 Ohm<br />",
          "Index: 174<br />Name: Line 174<br />Length: 0.28 km<br />R: 0.045 Ohm<br />X: 0.033 Ohm<br />",
          "Index: 175<br />Name: Line 175<br />Length: 0.398 km<br />R: 0.049 Ohm<br />X: 0.045 Ohm<br />",
          "Index: 177<br />Name: Line 177<br />Length: 0.293 km<br />R: 0.047 Ohm<br />X: 0.034 Ohm<br />",
          "Index: 178<br />Name: Line 178<br />Length: 0.449 km<br />R: 0.072 Ohm<br />X: 0.052 Ohm<br />",
          "Index: 179<br />Name: Line 179<br />Length: 0.551 km<br />R: 0.089 Ohm<br />X: 0.064 Ohm<br />",
          "Index: 180<br />Name: Line 180<br />Length: 1.42 km<br />R: 0.229 Ohm<br />X: 0.166 Ohm<br />",
          "Index: 181<br />Name: Line 181<br />Length: 0.54 km<br />R: 0.087 Ohm<br />X: 0.063 Ohm<br />",
          "Index: 182<br />Name: Line 182<br />Length: 0.355 km<br />R: 0.043 Ohm<br />X: 0.04 Ohm<br />",
          "Index: 183<br />Name: Line 183<br />Length: 0.338 km<br />R: 0.041 Ohm<br />X: 0.038 Ohm<br />",
          "Index: 184<br />Name: Line 184<br />Length: 0.44 km<br />R: 0.071 Ohm<br />X: 0.051 Ohm<br />",
          "Index: 185<br />Name: Line 185<br />Length: 1.095 km<br />R: 0.176 Ohm<br />X: 0.128 Ohm<br />",
          "Index: 186<br />Name: Line 186<br />Length: 0.346 km<br />R: 0.056 Ohm<br />X: 0.041 Ohm<br />",
          "Index: 187<br />Name: Line 187<br />Length: 0.41 km<br />R: 0.066 Ohm<br />X: 0.048 Ohm<br />",
          "Index: 189<br />Name: Line 189<br />Length: 0.446 km<br />R: 0.072 Ohm<br />X: 0.052 Ohm<br />",
          "Index: 190<br />Name: Line 190<br />Length: 0.314 km<br />R: 0.051 Ohm<br />X: 0.037 Ohm<br />",
          "Index: 191<br />Name: Line 191<br />Length: 0.152 km<br />R: 0.024 Ohm<br />X: 0.018 Ohm<br />",
          "Index: 192<br />Name: Line 192<br />Length: 0.397 km<br />R: 0.064 Ohm<br />X: 0.046 Ohm<br />",
          "Index: 193<br />Name: Line 193<br />Length: 1.006 km<br />R: 0.12 Ohm<br />X: 0.322 Ohm<br />",
          "Index: 66<br />Name: Line 66<br />Length: 0.446 km<br />R: 0.072 Ohm<br />X: 0.052 Ohm<br />",
          "Index: 8<br />Name: Line 8<br />Length: 0.146 km<br />R: 0.023 Ohm<br />X: 0.017 Ohm<br />",
          "Index: 23<br />Name: Line 23<br />Length: 1.188 km<br />R: 0.191 Ohm<br />X: 0.139 Ohm<br />",
          "Index: 88<br />Name: Line 88<br />Length: 0.296 km<br />R: 0.048 Ohm<br />X: 0.035 Ohm<br />",
          "Index: 188<br />Name: Line 188<br />Length: 0.386 km<br />R: 0.062 Ohm<br />X: 0.045 Ohm<br />",
          "Index: 31<br />Name: Line 31<br />Length: 0.967 km<br />R: 0.156 Ohm<br />X: 0.113 Ohm<br />"
         ],
         "x": [
          7.89537812,
          7.883015605000001,
          7.894886155,
          7.895598135,
          7.8990065099999995,
          7.796604085,
          7.7828507,
          7.7781972800000005,
          7.759929575,
          7.75741813,
          7.753600355,
          7.75644977,
          7.8153139,
          7.8141311899999994,
          7.767543435,
          7.77038747,
          7.839302065,
          7.835960815,
          7.888658715,
          7.88375491,
          7.9023287149999994,
          7.89986289,
          7.811548925,
          7.811856775000001,
          7.821959420000001,
          7.809870125,
          7.817636815,
          7.800361985,
          7.803873695,
          7.80616701,
          7.80490146,
          7.767762745,
          7.77102296,
          7.768102655,
          7.812061095,
          7.755311065,
          7.7575011400000005,
          7.75334934,
          7.866040365,
          7.783115085,
          7.797232145000001,
          7.8531975,
          7.870884745,
          7.80800915,
          7.84064175,
          7.793016785000001,
          7.781517685,
          7.80110821,
          7.7648457650000005,
          7.833365915,
          7.815481699999999,
          7.8356101250000005,
          7.84498325,
          7.830503865000001,
          7.8231065399999995,
          7.76895487,
          7.78631356,
          7.79301901,
          7.792497825,
          7.8112171450000005,
          7.91673693,
          7.935295334999999,
          7.90434245,
          7.903670345,
          7.898173945,
          7.9037709750000005,
          7.9067925500000005,
          7.90300314,
          7.755999655,
          7.759177875,
          7.91534835,
          7.91376112,
          7.9111165549999996,
          7.913950939999999,
          7.909457195,
          7.88729778,
          7.88803389,
          7.90160055,
          7.897269120000001,
          7.919284535,
          7.8954965999999995,
          7.89184428,
          7.90070719,
          7.9353710799999995,
          7.93707945,
          7.936724785,
          7.754632335,
          7.7568015,
          7.906810965,
          7.90352613,
          7.905818055,
          7.90689844,
          7.77608553,
          7.777352135,
          7.77586919,
          7.7740845499999995,
          7.765902505,
          7.776993185,
          7.75449833,
          7.75595531,
          7.754363245,
          7.75505799,
          7.748494695,
          7.76072003,
          7.76396268,
          7.763305904999999,
          7.748912884999999,
          7.75607631,
          7.754904595,
          7.748432275,
          7.75214581,
          7.749509665,
          7.75589029,
          7.745803145,
          7.762136115000001,
          7.766922235,
          7.777775965,
          7.765451335,
          7.76289518,
          7.76801352,
          7.77768328,
          7.77548636,
          7.764061,
          7.774377375,
          7.775876535,
          7.776113069999999,
          7.83333661,
          7.83633005,
          7.81267406,
          7.814021225,
          7.813518665,
          7.82322211,
          7.82105249,
          7.817074255,
          7.81681411,
          7.815161659999999,
          7.82030535,
          7.822882,
          7.806599025000001,
          7.81008599,
          7.815645735,
          7.81705197,
          7.81726377,
          7.90190036,
          7.891996945,
          7.885721985,
          7.89971111,
          7.8087861400000005,
          7.8168746,
          7.91062923,
          7.801965490000001,
          7.798697495000001,
          7.7954268550000005,
          7.876737125,
          7.8760619599999995,
          7.883617055,
          7.883312855,
          7.8815326500000005,
          7.88435623,
          7.876242384999999,
          7.877545145,
          7.88182611,
          7.8815137150000005,
          7.882708774999999,
          7.877797235,
          7.880962425,
          7.88206173,
          7.881069015,
          7.886940015,
          7.876635985,
          7.87366583,
          7.876137225,
          7.87737687,
          7.88285965,
          7.75869414,
          7.8134101000000005,
          7.75780649,
          7.897391075,
          7.901644045,
          7.87516292,
          7.8180822249999995
         ],
         "y": [
          48.408048655,
          48.405643245,
          48.404547285,
          48.400785545,
          48.397857075000005,
          48.380439095,
          48.366959895,
          48.366300370000005,
          48.34929062,
          48.348230975,
          48.385219844999995,
          48.387082465,
          48.388641660000005,
          48.387039345,
          48.402659025,
          48.408535799999996,
          48.402896575,
          48.400692379999995,
          48.41357227,
          48.415644475,
          48.41458034,
          48.415452290000005,
          48.43235204,
          48.43125182,
          48.45768199,
          48.462646485,
          48.45203385,
          48.46771799,
          48.46612537,
          48.43755075,
          48.43412768,
          48.416381279999996,
          48.413553785000005,
          48.41448963,
          48.435336795,
          48.33892436,
          48.331164965,
          48.331096165000005,
          48.418301435000004,
          48.40646346,
          48.399978965,
          48.403887395,
          48.40734532,
          48.39432927,
          48.401679745,
          48.43690116,
          48.437053725,
          48.438240664999995,
          48.394692594999995,
          48.425702745,
          48.43859573,
          48.46862683,
          48.462218765,
          48.466599715,
          48.466165775,
          48.438861485000004,
          48.459268295,
          48.461511654999995,
          48.461857235,
          48.386801985000005,
          48.398924935,
          48.39619236,
          48.424723924999995,
          48.426157905,
          48.42874881,
          48.420033745,
          48.423393835,
          48.42253314,
          48.351471375,
          48.36109096,
          48.423280155,
          48.42355445,
          48.425959675,
          48.42182543,
          48.424796674999996,
          48.41077,
          48.412628229999996,
          48.39974834,
          48.4111002,
          48.415948584999995,
          48.413764885,
          48.41283871,
          48.41231499,
          48.40119082,
          48.40029643,
          48.397660775,
          48.329382249999995,
          48.343999275,
          48.396915915,
          48.394515569999996,
          48.393426364999996,
          48.396278865,
          48.36052677,
          48.3618955,
          48.358638865,
          48.357209174999994,
          48.3549959,
          48.363056555,
          48.344898515,
          48.346755455,
          48.348392219999994,
          48.345613549999996,
          48.3494393,
          48.38676202,
          48.386584025000005,
          48.3876007,
          48.387601535,
          48.388619445,
          48.381509535,
          48.386224604999995,
          48.382275095,
          48.384750305,
          48.37201342,
          48.38706107,
          48.426667905,
          48.421883245000004,
          48.410324405,
          48.411840025000004,
          48.41265396,
          48.409425600000006,
          48.41281236499999,
          48.407041925,
          48.41413385,
          48.413213685,
          48.409493485,
          48.41155353,
          48.39917345,
          48.398834405,
          48.435725205,
          48.38928733,
          48.390622725,
          48.392084264999994,
          48.385808925,
          48.38276071,
          48.452419565,
          48.451561104999996,
          48.45258692,
          48.453490605,
          48.430554895,
          48.429347570000004,
          48.434035765000004,
          48.430788365,
          48.42946902,
          48.453299900000005,
          48.45538149,
          48.45618716,
          48.4577314,
          48.46598067,
          48.4658264,
          48.45677752,
          48.462906950000004,
          48.46729328,
          48.46589337,
          48.465991745,
          48.470138035000005,
          48.462138464999995,
          48.46326563,
          48.463131020000006,
          48.460205395,
          48.47360217,
          48.4714864,
          48.468303829999996,
          48.439124515,
          48.45390757,
          48.4559398,
          48.45649196,
          48.458517555,
          48.448026635000005,
          48.45325575,
          48.444776329999996,
          48.459793665,
          48.462448165,
          48.464316139999994,
          48.465935615,
          48.436465235,
          48.384082955,
          48.34906194,
          48.420544335,
          48.395958955,
          48.45754019,
          48.446855275000004
         ],
         "type": "scatter"
        },
        {
         "hoverinfo": "text",
         "legendgroup": "2W transformers",
         "line": {
          "color": "rgb(0, 128, 0)",
          "width": 5.0
         },
         "mode": "lines",
         "name": "2W transformers",
         "showlegend": true,
         "text": "Index: 114<br />Name: HV/MV Transformer 0<br />V_n HV: 110.0 kV<br />V_n LV: 20.0 kV<br />Tap pos.: -2.0<br />",
         "x": [
          7.91396063,
          7.91396063,
          7.91396063
         ],
         "y": [
          48.4569382,
          48.4569382,
          48.4569382
         ],
         "type": "scatter"
        },
        {
         "hoverinfo": "text",
         "legendgroup": "2W transformers",
         "line": {
          "color": "rgb(0, 128, 0)",
          "width": 5.0
         },
         "mode": "lines",
         "name": "2W transformers",
         "showlegend": false,
         "text": "Index: 142<br />Name: HV/MV Transformer 1<br />V_n HV: 110.0 kV<br />V_n LV: 20.0 kV<br />Tap pos.: -3.0<br />",
         "x": [
          7.76153339,
          7.76153339,
          7.76153339
         ],
         "y": [
          48.43987488,
          48.43987488,
          48.43987488
         ],
         "type": "scatter"
        },
        {
         "hoverinfo": "text",
         "legendgroup": "2W transformers",
         "marker": {
          "color": "rgb(0, 128, 0)",
          "size": 1,
          "symbol": "circle"
         },
         "mode": "markers",
         "name": "edge_center",
         "showlegend": false,
         "text": [
          "Index: 114<br />Name: HV/MV Transformer 0<br />V_n HV: 110.0 kV<br />V_n LV: 20.0 kV<br />Tap pos.: -2.0<br />",
          "Index: 142<br />Name: HV/MV Transformer 1<br />V_n HV: 110.0 kV<br />V_n LV: 20.0 kV<br />Tap pos.: -3.0<br />"
         ],
         "x": [
          7.91396063,
          7.76153339
         ],
         "y": [
          48.4569382,
          48.43987488
         ],
         "type": "scatter"
        },
        {
         "hoverinfo": "text",
         "marker": {
          "color": "rgb(255, 255, 0)",
          "size": 20.0,
          "symbol": "square"
         },
         "mode": "markers",
         "name": "external grid",
         "text": [
          "Index: 0<br />Name: External Grid 0<br />V_m: 1.0 p.u.<br />V_a: 0.0 °<br />",
          "Index: 1<br />Name: External Grid 1<br />V_m: 1.0 p.u.<br />V_a: 0.0 °<br />"
         ],
         "x": [
          7.91396063,
          7.76153339
         ],
         "y": [
          48.4569382,
          48.43987488
         ],
         "type": "scatter"
        },
        {
         "hoverinfo": "text",
         "marker": {
          "color": "rgb(0, 0, 255)",
          "size": 10.0,
          "symbol": "circle"
         },
         "mode": "markers",
         "name": "buses",
         "text": [
          "Index: 0<br />Name: Bus 0<br />V_n: 20.0 kV<br />Load: 0.400 MW<br />Static generation: 0.122 MW<br />",
          "Index: 1<br />Name: Bus 1<br />V_n: 20.0 kV<br />Load: 0.250 MW<br />Static generation: 0.092 MW<br />",
          "Index: 2<br />Name: Bus 2<br />V_n: 20.0 kV<br />Load: 0.250 MW<br />Static generation: 0.076 MW<br />",
          "Index: 3<br />Name: Bus 3<br />V_n: 20.0 kV<br />Load: 0.250 MW<br />Static generation: 0.076 MW<br />",
          "Index: 4<br />Name: Bus 4<br />V_n: 20.0 kV<br />Load: 0.250 MW<br />Static generation: 0.092 MW<br />",
          "Index: 5<br />Name: Bus 5<br />V_n: 20.0 kV<br />Load: 0.250 MW<br />Static generation: 0.076 MW<br />",
          "Index: 6<br />Name: Bus 6<br />V_n: 20.0 kV<br />Load: 0.500 MW<br />",
          "Index: 7<br />Name: Bus 7<br />V_n: 20.0 kV<br />",
          "Index: 8<br />Name: Bus 8<br />V_n: 20.0 kV<br />Load: 0.400 MW<br />Static generation: 0.137 MW<br />",
          "Index: 29<br />Name: Bus 9<br />V_n: 20.0 kV<br />Static generation: 0.400 MW<br />",
          "Index: 30<br />Name: Bus 10<br />V_n: 20.0 kV<br />",
          "Index: 31<br />Name: Bus 11<br />V_n: 20.0 kV<br />Static generation: 0.800 MW<br />",
          "Index: 32<br />Name: Bus 12<br />V_n: 20.0 kV<br />Static generation: 0.200 MW<br />",
          "Index: 33<br />Name: Bus 13<br />V_n: 20.0 kV<br />Static generation: 0.856 MW<br />",
          "Index: 34<br />Name: Bus 14<br />V_n: 20.0 kV<br />Load: 0.250 MW<br />Static generation: 0.118 MW<br />",
          "Index: 35<br />Name: Bus 15<br />V_n: 20.0 kV<br />Load: 0.400 MW<br />Static generation: 0.155 MW<br />",
          "Index: 36<br />Name: Bus 16<br />V_n: 20.0 kV<br />Load: 0.250 MW<br />Static generation: 0.118 MW<br />",
          "Index: 37<br />Name: Bus 17<br />V_n: 20.0 kV<br />Load: 0.630 MW<br />Static generation: 0.233 MW<br />",
          "Index: 38<br />Name: Bus 18<br />V_n: 20.0 kV<br />Load: 0.250 MW<br />Static generation: 0.049 MW<br />",
          "Index: 39<br />Name: Bus 19<br />V_n: 20.0 kV<br />",
          "Index: 40<br />Name: Bus 20<br />V_n: 20.0 kV<br />Static generation: 0.160 MW<br />",
          "Index: 41<br />Name: Bus 21<br />V_n: 20.0 kV<br />Load: 0.400 MW<br />Static generation: 0.140 MW<br />",
          "Index: 42<br />Name: Bus 22<br />V_n: 20.0 kV<br />Load: 0.400 MW<br />Static generation: 0.191 MW<br />",
          "Index: 43<br />Name: Bus 23<br />V_n: 20.0 kV<br />Load: 0.630 MW<br />Static generation: 0.233 MW<br />",
          "Index: 44<br />Name: Bus 24<br />V_n: 20.0 kV<br />Load: 0.630 MW<br />Static generation: 0.295 MW<br />",
          "Index: 45<br />Name: Bus 25<br />V_n: 20.0 kV<br />Load: 0.250 MW<br />Static generation: 0.093 MW<br />",
          "Index: 46<br />Name: Bus 26<br />V_n: 20.0 kV<br />Load: 0.630 MW<br />Static generation: 0.309 MW<br />",
          "Index: 47<br />Name: Bus 27<br />V_n: 20.0 kV<br />Load: 0.400 MW<br />Static generation: 0.140 MW<br />",
          "Index: 48<br />Name: Bus 28<br />V_n: 20.0 kV<br />Load: 0.500 MW<br />",
          "Index: 49<br />Name: Bus 29<br />V_n: 20.0 kV<br />Load: 0.250 MW<br />Static generation: 0.093 MW<br />",
          "Index: 50<br />Name: Bus 30<br />V_n: 20.0 kV<br />Load: 0.250 MW<br />Static generation: 0.118 MW<br />",
          "Index: 51<br />Name: Bus 31<br />V_n: 20.0 kV<br />Load: 0.400 MW<br />Static generation: 0.191 MW<br />",
          "Index: 52<br />Name: Bus 32<br />V_n: 20.0 kV<br />Load: 0.500 MW<br />",
          "Index: 53<br />Name: Bus 33<br />V_n: 20.0 kV<br />Load: 0.250 MW<br />Static generation: 0.118 MW<br />",
          "Index: 54<br />Name: Bus 34<br />V_n: 20.0 kV<br />Load: 0.400 MW<br />Static generation: 0.137 MW<br />",
          "Index: 55<br />Name: Bus 35<br />V_n: 20.0 kV<br />Load: 0.500 MW<br />",
          "Index: 56<br />Name: Bus 36<br />V_n: 20.0 kV<br />Load: 0.630 MW<br />Static generation: 0.295 MW<br />",
          "Index: 57<br />Name: Bus 37<br />V_n: 20.0 kV<br />Load: 0.400 MW<br />Static generation: 0.191 MW<br />",
          "Index: 58<br />Name: Bus 38<br />V_n: 110.0 kV<br />",
          "Index: 64<br />Name: Bus 39<br />V_n: 20.0 kV<br />",
          "Index: 65<br />Name: Bus 40<br />V_n: 20.0 kV<br />Load: 0.630 MW<br />Static generation: 0.295 MW<br />",
          "Index: 71<br />Name: Bus 41<br />V_n: 20.0 kV<br />Load: 0.400 MW<br />Static generation: 0.155 MW<br />",
          "Index: 72<br />Name: Bus 42<br />V_n: 20.0 kV<br />Load: 0.250 MW<br />Static generation: 0.118 MW<br />",
          "Index: 73<br />Name: Bus 43<br />V_n: 20.0 kV<br />Load: 0.630 MW<br />Static generation: 0.233 MW<br />",
          "Index: 74<br />Name: Bus 44<br />V_n: 20.0 kV<br />",
          "Index: 75<br />Name: Bus 45<br />V_n: 20.0 kV<br />Load: 0.250 MW<br />Static generation: 0.118 MW<br />",
          "Index: 76<br />Name: Bus 46<br />V_n: 20.0 kV<br />Load: 0.250 MW<br />Static generation: 0.118 MW<br />",
          "Index: 77<br />Name: Bus 47<br />V_n: 20.0 kV<br />Load: 0.400 MW<br />Static generation: 0.155 MW<br />",
          "Index: 78<br />Name: Bus 48<br />V_n: 20.0 kV<br />",
          "Index: 79<br />Name: Bus 49<br />V_n: 20.0 kV<br />Load: 0.400 MW<br />Static generation: 0.191 MW<br />",
          "Index: 80<br />Name: Bus 50<br />V_n: 20.0 kV<br />Load: 0.630 MW<br />Static generation: 0.233 MW<br />",
          "Index: 81<br />Name: Bus 51<br />V_n: 20.0 kV<br />Load: 0.630 MW<br />Static generation: 0.233 MW<br />",
          "Index: 82<br />Name: Bus 52<br />V_n: 20.0 kV<br />Load: 0.250 MW<br />Static generation: 0.118 MW<br />",
          "Index: 83<br />Name: Bus 53<br />V_n: 20.0 kV<br />Static generation: 0.315 MW<br />",
          "Index: 84<br />Name: Bus 54<br />V_n: 20.0 kV<br />Static generation: 0.500 MW<br />",
          "Index: 85<br />Name: Bus 55<br />V_n: 20.0 kV<br />Static generation: 0.300 MW<br />",
          "Index: 86<br />Name: Bus 56<br />V_n: 20.0 kV<br />",
          "Index: 94<br />Name: Bus 57<br />V_n: 20.0 kV<br />Load: 0.630 MW<br />Static generation: 0.108 MW<br />",
          "Index: 95<br />Name: Bus 58<br />V_n: 20.0 kV<br />Load: 0.630 MW<br />Static generation: 0.108 MW<br />",
          "Index: 98<br />Name: Bus 59<br />V_n: 20.0 kV<br />Load: 0.400 MW<br />Static generation: 0.069 MW<br />",
          "Index: 100<br />Name: Bus 60<br />V_n: 20.0 kV<br />Load: 0.630 MW<br />Static generation: 0.108 MW<br />",
          "Index: 101<br />Name: Bus 61<br />V_n: 20.0 kV<br />Load: 0.400 MW<br />Static generation: 0.191 MW<br />",
          "Index: 102<br />Name: Bus 62<br />V_n: 20.0 kV<br />Load: 0.630 MW<br />Static generation: 0.118 MW<br />",
          "Index: 103<br />Name: Bus 63<br />V_n: 20.0 kV<br />Load: 0.250 MW<br />Static generation: 0.118 MW<br />",
          "Index: 104<br />Name: Bus 64<br />V_n: 20.0 kV<br />",
          "Index: 106<br />Name: Bus 65<br />V_n: 20.0 kV<br />Load: 0.630 MW<br />Static generation: 0.295 MW<br />",
          "Index: 107<br />Name: Bus 66<br />V_n: 20.0 kV<br />Load: 0.250 MW<br />Static generation: 0.049 MW<br />",
          "Index: 108<br />Name: Bus 67<br />V_n: 20.0 kV<br />Load: 0.400 MW<br />Static generation: 0.191 MW<br />",
          "Index: 109<br />Name: Bus 68<br />V_n: 20.0 kV<br />Load: 0.250 MW<br />Static generation: 0.049 MW<br />",
          "Index: 110<br />Name: Bus 69<br />V_n: 20.0 kV<br />Load: 0.630 MW<br />Static generation: 0.309 MW<br />",
          "Index: 111<br />Name: Bus 70<br />V_n: 20.0 kV<br />Load: 0.250 MW<br />Static generation: 0.118 MW<br />",
          "Index: 116<br />Name: Bus 71<br />V_n: 20.0 kV<br />",
          "Index: 117<br />Name: Bus 72<br />V_n: 20.0 kV<br />Load: 0.400 MW<br />Static generation: 0.140 MW<br />",
          "Index: 118<br />Name: Bus 73<br />V_n: 20.0 kV<br />Load: 0.630 MW<br />Static generation: 0.233 MW<br />",
          "Index: 119<br />Name: Bus 74<br />V_n: 20.0 kV<br />Load: 0.630 MW<br />Static generation: 0.233 MW<br />",
          "Index: 120<br />Name: Bus 75<br />V_n: 20.0 kV<br />Load: 0.250 MW<br />Static generation: 0.093 MW<br />",
          "Index: 126<br />Name: Bus 76<br />V_n: 20.0 kV<br />",
          "Index: 129<br />Name: Bus 77<br />V_n: 20.0 kV<br />Load: 0.630 MW<br />Static generation: 0.095 MW<br />",
          "Index: 131<br />Name: Bus 78<br />V_n: 20.0 kV<br />",
          "Index: 132<br />Name: Bus 79<br />V_n: 20.0 kV<br />Load: 0.400 MW<br />Static generation: 0.069 MW<br />",
          "Index: 133<br />Name: Bus 80<br />V_n: 20.0 kV<br />Load: 0.250 MW<br />Static generation: 0.076 MW<br />",
          "Index: 134<br />Name: Bus 81<br />V_n: 20.0 kV<br />Load: 0.400 MW<br />Static generation: 0.069 MW<br />",
          "Index: 136<br />Name: Bus 82<br />V_n: 20.0 kV<br />Load: 0.400 MW<br />Static generation: 0.191 MW<br />",
          "Index: 137<br />Name: Bus 83<br />V_n: 20.0 kV<br />Load: 0.400 MW<br />Static generation: 0.069 MW<br />",
          "Index: 138<br />Name: Bus 84<br />V_n: 20.0 kV<br />Load: 0.250 MW<br />Static generation: 0.118 MW<br />",
          "Index: 140<br />Name: Bus 85<br />V_n: 20.0 kV<br />Load: 0.400 MW<br />Static generation: 0.122 MW<br />",
          "Index: 141<br />Name: Bus 86<br />V_n: 20.0 kV<br />Load: 0.250 MW<br />Static generation: 0.076 MW<br />",
          "Index: 142<br />Name: Bus 87<br />V_n: 20.0 kV<br />",
          "Index: 143<br />Name: Bus 88<br />V_n: 20.0 kV<br />Load: 0.400 MW<br />Static generation: 0.155 MW<br />",
          "Index: 144<br />Name: Bus 89<br />V_n: 20.0 kV<br />Load: 0.250 MW<br />Static generation: 0.076 MW<br />",
          "Index: 145<br />Name: Bus 90<br />V_n: 20.0 kV<br />Load: 0.630 MW<br />Static generation: 0.233 MW<br />",
          "Index: 146<br />Name: Bus 91<br />V_n: 20.0 kV<br />Load: 0.630 MW<br />Static generation: 0.233 MW<br />",
          "Index: 147<br />Name: Bus 92<br />V_n: 20.0 kV<br />Load: 0.400 MW<br />Static generation: 0.137 MW<br />",
          "Index: 148<br />Name: Bus 93<br />V_n: 20.0 kV<br />Load: 0.250 MW<br />Static generation: 0.093 MW<br />",
          "Index: 149<br />Name: Bus 94<br />V_n: 20.0 kV<br />Load: 0.250 MW<br />Static generation: 0.076 MW<br />",
          "Index: 150<br />Name: Bus 95<br />V_n: 20.0 kV<br />Load: 0.250 MW<br />Static generation: 0.093 MW<br />",
          "Index: 153<br />Name: Bus 96<br />V_n: 20.0 kV<br />Load: 0.400 MW<br />Static generation: 0.068 MW<br />",
          "Index: 155<br />Name: Bus 97<br />V_n: 20.0 kV<br />Load: 0.250 MW<br />Static generation: 0.041 MW<br />",
          "Index: 157<br />Name: Bus 98<br />V_n: 20.0 kV<br />Load: 0.400 MW<br />Static generation: 0.068 MW<br />",
          "Index: 159<br />Name: Bus 99<br />V_n: 20.0 kV<br />Load: 0.400 MW<br />Static generation: 0.068 MW<br />",
          "Index: 161<br />Name: Bus 100<br />V_n: 20.0 kV<br />Load: 0.400 MW<br />Static generation: 0.069 MW<br />",
          "Index: 162<br />Name: Bus 101<br />V_n: 20.0 kV<br />Load: 0.630 MW<br />Static generation: 0.108 MW<br />",
          "Index: 167<br />Name: Bus 102<br />V_n: 20.0 kV<br />Load: 0.630 MW<br />Static generation: 0.109 MW<br />",
          "Index: 168<br />Name: Bus 103<br />V_n: 20.0 kV<br />Load: 0.630 MW<br />Static generation: 0.109 MW<br />",
          "Index: 169<br />Name: Bus 104<br />V_n: 20.0 kV<br />Load: 0.630 MW<br />Static generation: 0.109 MW<br />",
          "Index: 170<br />Name: Bus 105<br />V_n: 20.0 kV<br />Load: 0.250 MW<br />Static generation: 0.118 MW<br />",
          "Index: 171<br />Name: Bus 106<br />V_n: 20.0 kV<br />",
          "Index: 172<br />Name: Bus 107<br />V_n: 20.0 kV<br />Load: 0.630 MW<br />Static generation: 0.214 MW<br />",
          "Index: 173<br />Name: Bus 108<br />V_n: 20.0 kV<br />Load: 0.400 MW<br />Static generation: 0.069 MW<br />",
          "Index: 174<br />Name: Bus 109<br />V_n: 20.0 kV<br />Load: 0.630 MW<br />Static generation: 0.118 MW<br />",
          "Index: 176<br />Name: Bus 110<br />V_n: 20.0 kV<br />Load: 0.250 MW<br />Static generation: 0.041 MW<br />",
          "Index: 178<br />Name: Bus 111<br />V_n: 20.0 kV<br />Load: 0.400 MW<br />Static generation: 0.068 MW<br />",
          "Index: 181<br />Name: Bus 112<br />V_n: 20.0 kV<br />Load: 0.400 MW<br />Static generation: 0.068 MW<br />",
          "Index: 184<br />Name: Bus 113<br />V_n: 20.0 kV<br />Load: 0.250 MW<br />Static generation: 0.041 MW<br />",
          "Index: 186<br />Name: Bus 114<br />V_n: 20.0 kV<br />Load: 0.250 MW<br />Static generation: 0.041 MW<br />",
          "Index: 188<br />Name: Bus 115<br />V_n: 20.0 kV<br />Load: 0.400 MW<br />Static generation: 0.068 MW<br />",
          "Index: 189<br />Name: Bus 116<br />V_n: 20.0 kV<br />Load: 0.630 MW<br />Static generation: 0.309 MW<br />",
          "Index: 190<br />Name: Bus 117<br />V_n: 20.0 kV<br />Load: 0.630 MW<br />Static generation: 0.309 MW<br />",
          "Index: 192<br />Name: Bus 118<br />V_n: 20.0 kV<br />Load: 0.630 MW<br />Static generation: 0.309 MW<br />",
          "Index: 194<br />Name: Bus 119<br />V_n: 20.0 kV<br />Load: 0.250 MW<br />Static generation: 0.039 MW<br />",
          "Index: 195<br />Name: Bus 120<br />V_n: 20.0 kV<br />Load: 0.250 MW<br />Static generation: 0.039 MW<br />",
          "Index: 196<br />Name: Bus 121<br />V_n: 20.0 kV<br />Load: 0.630 MW<br />Static generation: 0.309 MW<br />",
          "Index: 197<br />Name: Bus 122<br />V_n: 20.0 kV<br />Load: 0.400 MW<br />Static generation: 0.068 MW<br />",
          "Index: 198<br />Name: Bus 123<br />V_n: 20.0 kV<br />Load: 0.400 MW<br />Static generation: 0.068 MW<br />",
          "Index: 199<br />Name: Bus 124<br />V_n: 20.0 kV<br />Load: 0.400 MW<br />Static generation: 0.068 MW<br />",
          "Index: 200<br />Name: Bus 125<br />V_n: 20.0 kV<br />Load: 0.250 MW<br />Static generation: 0.041 MW<br />",
          "Index: 201<br />Name: Bus 126<br />V_n: 20.0 kV<br />Load: 0.630 MW<br />Static generation: 0.108 MW<br />",
          "Index: 205<br />Name: Bus 127<br />V_n: 20.0 kV<br />Load: 0.630 MW<br />Static generation: 0.118 MW<br />",
          "Index: 207<br />Name: Bus 128<br />V_n: 20.0 kV<br />Load: 0.630 MW<br />Static generation: 0.118 MW<br />",
          "Index: 210<br />Name: Bus 129<br />V_n: 20.0 kV<br />Load: 0.400 MW<br />Static generation: 0.069 MW<br />",
          "Index: 213<br />Name: Bus 130<br />V_n: 20.0 kV<br />Load: 0.630 MW<br />Static generation: 0.108 MW<br />",
          "Index: 215<br />Name: Bus 131<br />V_n: 20.0 kV<br />Load: 0.500 MW<br />",
          "Index: 216<br />Name: Bus 132<br />V_n: 20.0 kV<br />Load: 0.400 MW<br />Static generation: 0.069 MW<br />",
          "Index: 219<br />Name: Bus 133<br />V_n: 20.0 kV<br />Load: 0.400 MW<br />Static generation: 0.100 MW<br />",
          "Index: 221<br />Name: Bus 134<br />V_n: 20.0 kV<br />Load: 0.250 MW<br />Static generation: 0.060 MW<br />",
          "Index: 223<br />Name: Bus 135<br />V_n: 20.0 kV<br />Load: 0.630 MW<br />Static generation: 0.150 MW<br />",
          "Index: 224<br />Name: Bus 136<br />V_n: 20.0 kV<br />Load: 0.630 MW<br />Static generation: 0.150 MW<br />",
          "Index: 227<br />Name: Bus 137<br />V_n: 20.0 kV<br />Load: 0.400 MW<br />Static generation: 0.100 MW<br />",
          "Index: 229<br />Name: Bus 138<br />V_n: 20.0 kV<br />Load: 0.250 MW<br />Static generation: 0.060 MW<br />",
          "Index: 231<br />Name: Bus 139<br />V_n: 20.0 kV<br />Load: 0.250 MW<br />Static generation: 0.060 MW<br />",
          "Index: 235<br />Name: Bus 140<br />V_n: 20.0 kV<br />Load: 0.500 MW<br />",
          "Index: 236<br />Name: Bus 141<br />V_n: 20.0 kV<br />Load: 0.630 MW<br />Static generation: 0.160 MW<br />",
          "Index: 237<br />Name: Bus 142<br />V_n: 20.0 kV<br />Static generation: 0.150 MW<br />",
          "Index: 238<br />Name: Bus 143<br />V_n: 20.0 kV<br />",
          "Index: 239<br />Name: Bus 144<br />V_n: 20.0 kV<br />Load: 0.400 MW<br />Static generation: 0.090 MW<br />",
          "Index: 240<br />Name: Bus 145<br />V_n: 20.0 kV<br />Load: 0.400 MW<br />Static generation: 0.122 MW<br />",
          "Index: 241<br />Name: Bus 146<br />V_n: 20.0 kV<br />Load: 0.250 MW<br />Static generation: 0.076 MW<br />",
          "Index: 242<br />Name: Bus 147<br />V_n: 20.0 kV<br />Load: 0.400 MW<br />Static generation: 0.122 MW<br />",
          "Index: 243<br />Name: Bus 148<br />V_n: 20.0 kV<br />",
          "Index: 244<br />Name: Bus 149<br />V_n: 20.0 kV<br />Load: 0.400 MW<br />Static generation: 0.137 MW<br />",
          "Index: 245<br />Name: Bus 150<br />V_n: 20.0 kV<br />Load: 0.630 MW<br />Static generation: 0.198 MW<br />",
          "Index: 246<br />Name: Bus 151<br />V_n: 20.0 kV<br />Load: 0.250 MW<br />Static generation: 0.041 MW<br />",
          "Index: 247<br />Name: Bus 152<br />V_n: 20.0 kV<br />",
          "Index: 248<br />Name: Bus 153<br />V_n: 20.0 kV<br />Static generation: 0.295 MW<br />",
          "Index: 253<br />Name: Bus 154<br />V_n: 20.0 kV<br />Static generation: 0.355 MW<br />",
          "Index: 269<br />Name: Bus 155<br />V_n: 20.0 kV<br />Load: 0.630 MW<br />Static generation: 0.309 MW<br />",
          "Index: 271<br />Name: Bus 156<br />V_n: 20.0 kV<br />Load: 0.630 MW<br />Static generation: 0.109 MW<br />",
          "Index: 273<br />Name: Bus 157<br />V_n: 20.0 kV<br />Load: 0.630 MW<br />Static generation: 0.095 MW<br />",
          "Index: 275<br />Name: Bus 158<br />V_n: 20.0 kV<br />Load: 0.250 MW<br />Static generation: 0.041 MW<br />",
          "Index: 281<br />Name: Bus 159<br />V_n: 20.0 kV<br />Load: 0.400 MW<br />Static generation: 0.068 MW<br />",
          "Index: 285<br />Name: Bus 160<br />V_n: 20.0 kV<br />Load: 0.250 MW<br />Static generation: 0.041 MW<br />",
          "Index: 286<br />Name: Bus 161<br />V_n: 20.0 kV<br />Load: 0.400 MW<br />Static generation: 0.054 MW<br />",
          "Index: 287<br />Name: Bus 162<br />V_n: 20.0 kV<br />Load: 0.400 MW<br />Static generation: 0.068 MW<br />",
          "Index: 288<br />Name: Bus 163<br />V_n: 20.0 kV<br />Load: 0.250 MW<br />Static generation: 0.041 MW<br />",
          "Index: 289<br />Name: Bus 164<br />V_n: 20.0 kV<br />Load: 0.400 MW<br />Static generation: 0.191 MW<br />",
          "Index: 290<br />Name: Bus 165<br />V_n: 20.0 kV<br />Load: 0.630 MW<br />Static generation: 0.198 MW<br />",
          "Index: 298<br />Name: Bus 166<br />V_n: 20.0 kV<br />Static generation: 0.300 MW<br />",
          "Index: 301<br />Name: Bus 167<br />V_n: 20.0 kV<br />Load: 0.400 MW<br />Static generation: 0.054 MW<br />",
          "Index: 303<br />Name: Bus 168<br />V_n: 20.0 kV<br />Load: 0.250 MW<br />Static generation: 0.041 MW<br />",
          "Index: 304<br />Name: Bus 169<br />V_n: 20.0 kV<br />Load: 0.250 MW<br />Static generation: 0.041 MW<br />",
          "Index: 305<br />Name: Bus 170<br />V_n: 20.0 kV<br />Load: 0.250 MW<br />Static generation: 0.041 MW<br />",
          "Index: 312<br />Name: Bus 171<br />V_n: 20.0 kV<br />Load: 0.400 MW<br />Static generation: 0.068 MW<br />",
          "Index: 313<br />Name: Bus 172<br />V_n: 20.0 kV<br />Load: 0.400 MW<br />Static generation: 0.068 MW<br />",
          "Index: 314<br />Name: Bus 173<br />V_n: 20.0 kV<br />Load: 0.400 MW<br />Static generation: 0.068 MW<br />",
          "Index: 315<br />Name: Bus 174<br />V_n: 20.0 kV<br />Load: 0.400 MW<br />Static generation: 0.068 MW<br />",
          "Index: 316<br />Name: Bus 175<br />V_n: 20.0 kV<br />Load: 0.250 MW<br />Static generation: 0.041 MW<br />",
          "Index: 317<br />Name: Bus 176<br />V_n: 20.0 kV<br />",
          "Index: 318<br />Name: Bus 177<br />V_n: 110.0 kV<br />",
          "Index: 319<br />Name: Bus 178<br />V_n: 20.0 kV<br />"
         ],
         "x": [
          7.76522567,
          7.77880954,
          7.77919577,
          7.77520469,
          7.76606485,
          7.76739671,
          7.75852885,
          7.76574338,
          7.76946387,
          7.78665902,
          7.79905951,
          7.81661465,
          7.82727201,
          7.84538508,
          7.83405306,
          7.87771765,
          7.81386611,
          7.87688954,
          7.93125749,
          7.91396063,
          7.87852914,
          7.87625272,
          7.79891555,
          7.88824433,
          7.79950378,
          7.87260819,
          7.81894107,
          7.87520041,
          7.78600346,
          7.87750063,
          7.78701848,
          7.80501543,
          7.87725311,
          7.8112944,
          7.81137059,
          7.88088449,
          7.79674274,
          7.80752534,
          7.91396063,
          7.81800216,
          7.81599919,
          7.8959583,
          7.80673406,
          7.88830762,
          7.80946722,
          7.80466609,
          7.83584018,
          7.87808299,
          7.88212331,
          7.82260854,
          7.88546159,
          7.88517175,
          7.82449029,
          7.88777356,
          7.79305306,
          7.75706106,
          7.90923486,
          7.90933438,
          7.90828612,
          7.91778262,
          7.91291408,
          7.81078043,
          7.91393385,
          7.81753115,
          7.81812248,
          7.81719863,
          7.91378673,
          7.81213406,
          7.89617371,
          7.81434875,
          7.83782535,
          7.83571694,
          7.88344689,
          7.88023004,
          7.88076055,
          7.88432076,
          7.77637635,
          7.75752837,
          7.81440186,
          7.90115002,
          7.81265378,
          7.90485626,
          7.84164512,
          7.90759827,
          7.83058701,
          7.81375095,
          7.82229551,
          7.90302727,
          7.87666867,
          7.81192866,
          7.87990442,
          7.8758161,
          7.81550141,
          7.88260716,
          7.81702049,
          7.87715626,
          7.75962984,
          7.75792025,
          7.75339537,
          7.76124005,
          7.93773871,
          7.93829196,
          7.75838011,
          7.75598728,
          7.78157825,
          7.83613832,
          7.77111891,
          7.81672668,
          7.93283542,
          7.93628735,
          7.77603927,
          7.77032597,
          7.75269597,
          7.75385941,
          7.74517856,
          7.75456734,
          7.81593058,
          7.8195498,
          7.80022205,
          7.90263858,
          7.88846812,
          7.81328782,
          7.76147904,
          7.75618441,
          7.75569132,
          7.75578023,
          7.89989694,
          7.89437546,
          7.89638358,
          7.8884535,
          7.90130341,
          7.88603646,
          7.8893131,
          7.90172272,
          7.89506435,
          7.90205872,
          7.90849453,
          7.90443237,
          7.90591947,
          7.9083386,
          7.90432357,
          7.90130481,
          7.84263834,
          7.89470796,
          7.89613192,
          7.76659341,
          7.7617981,
          7.77150376,
          7.77599056,
          7.77518896,
          7.77526664,
          7.75527749,
          7.86375666,
          7.80577582,
          7.76396796,
          7.81091684,
          7.75387463,
          7.7490983,
          7.78580944,
          7.7512397,
          7.77541442,
          7.77756681,
          7.77569591,
          7.77670102,
          7.8060588,
          7.76944157,
          7.78873191,
          7.76226955,
          7.7644815,
          7.76147033,
          7.75612888,
          7.74776625,
          7.74426069,
          7.75780411,
          7.74990855,
          7.75312516,
          7.8790417,
          7.76153339,
          7.76153339
         ],
         "y": [
          48.41091584,
          48.40987065,
          48.41203811,
          48.40610337,
          48.41242444,
          48.42373656,
          48.43345788,
          48.41987793,
          48.40913221,
          48.43625936,
          48.43759153,
          48.44215898,
          48.46648941,
          48.42296455,
          48.46664643,
          48.45713891,
          48.45138395,
          48.44659344,
          48.3980943,
          48.4569382,
          48.40552685,
          48.44299303,
          48.46284776,
          48.45231709,
          48.46870231,
          48.45794147,
          48.46584214,
          48.46134835,
          48.4585943,
          48.46363931,
          48.46045784,
          48.46296614,
          48.46499297,
          48.466147,
          48.38535297,
          48.46626641,
          48.46588038,
          48.46584322,
          48.4569382,
          48.45286283,
          48.45200045,
          48.45361129,
          48.43815272,
          48.45601148,
          48.43003727,
          48.43251067,
          48.47002488,
          48.45477828,
          48.45630215,
          48.45231101,
          48.4585246,
          48.45375027,
          48.45412175,
          48.43320652,
          48.46585031,
          48.36812437,
          48.4561543,
          48.42618849,
          48.42418937,
          48.42400659,
          48.42255372,
          48.42871494,
          48.42590629,
          48.43283117,
          48.42974203,
          48.4281192,
          48.42043868,
          48.43725275,
          48.41100311,
          48.43503248,
          48.3990085,
          48.40021513,
          48.46135559,
          48.46216934,
          48.45936355,
          48.46419159,
          48.43784809,
          48.3495233,
          48.38940745,
          48.42189392,
          48.39170089,
          48.42317236,
          48.40414471,
          48.42108182,
          48.39753675,
          48.38919055,
          48.38807328,
          48.42556885,
          48.47484423,
          48.38755402,
          48.46999586,
          48.47236011,
          48.38288709,
          48.46302758,
          48.38429982,
          48.46740551,
          48.34441059,
          48.32845845,
          48.32979038,
          48.32945775,
          48.39605777,
          48.39911502,
          48.34834127,
          48.38553948,
          48.36717009,
          48.40115573,
          48.40810119,
          48.38789817,
          48.40163972,
          48.40091852,
          48.35663792,
          48.35975183,
          48.34979926,
          48.34577289,
          48.34907864,
          48.35261081,
          48.46357677,
          48.45155157,
          48.46640752,
          48.4152001,
          48.41556286,
          48.43169169,
          48.35023997,
          48.34562366,
          48.34750562,
          48.34396313,
          48.41219988,
          48.41295983,
          48.41424248,
          48.41021512,
          48.41377255,
          48.41239165,
          48.41271759,
          48.40051529,
          48.40360449,
          48.39529931,
          48.39773842,
          48.39390775,
          48.39621703,
          48.3949975,
          48.42675459,
          48.39757192,
          48.39811545,
          48.40549008,
          48.3979666,
          48.41394964,
          48.41348695,
          48.41297284,
          48.41297438,
          48.4106662,
          48.40850593,
          48.38787178,
          48.40965934,
          48.39606378,
          48.39721686,
          48.43490897,
          48.38198803,
          48.38651875,
          48.36588431,
          48.38363665,
          48.3593875,
          48.36261088,
          48.36446775,
          48.36133205,
          48.4359944,
          48.41414363,
          48.4038838,
          48.38622196,
          48.38725384,
          48.38881634,
          48.38127334,
          48.38593046,
          48.38747799,
          48.38819904,
          48.38849988,
          48.33198343,
          48.41572609,
          48.43987488,
          48.43987488
         ],
         "type": "scatter"
        },
        {
         "hoverinfo": "text",
         "legendgroup": "lines",
         "line": {
          "color": "rgb(255, 0, 0)",
          "dash": "solid",
          "width": 1.0
         },
         "mode": "lines",
         "name": "intersecting lines",
         "showlegend": true,
         "text": "Line 5",
         "x": [
          7.78157825,
          7.78241594,
          7.78757125,
          7.80563692,
          7.81137059
         ],
         "y": [
          48.36717009,
          48.367589,
          48.37274714,
          48.38813105,
          48.38535297
         ],
         "type": "scatter"
        },
        {
         "hoverinfo": "text",
         "legendgroup": "lines",
         "line": {
          "color": "rgb(255, 0, 0)",
          "dash": "solid",
          "width": 1.0
         },
         "mode": "lines",
         "name": "intersecting lines",
         "showlegend": false,
         "text": "Line 12",
         "x": [
          7.75598728,
          7.75493654,
          7.75226417,
          7.7490983
         ],
         "y": [
          48.38553948,
          48.38515046,
          48.38528923,
          48.38651875
         ],
         "type": "scatter"
        },
        {
         "hoverinfo": "text",
         "legendgroup": "lines",
         "line": {
          "color": "rgb(255, 0, 0)",
          "dash": "solid",
          "width": 1.0
         },
         "mode": "lines",
         "name": "intersecting lines",
         "showlegend": false,
         "text": "Line 14",
         "x": [
          7.75598728,
          7.75586722,
          7.7565325,
          7.75620547,
          7.75669407,
          7.75527749
         ],
         "y": [
          48.38553948,
          48.38577499,
          48.38647184,
          48.38674957,
          48.38741536,
          48.38787178
         ],
         "type": "scatter"
        },
        {
         "hoverinfo": "text",
         "legendgroup": "lines",
         "line": {
          "color": "rgb(255, 0, 0)",
          "dash": "solid",
          "width": 1.0
         },
         "mode": "lines",
         "name": "intersecting lines",
         "showlegend": false,
         "text": "Line 17",
         "x": [
          7.76396796,
          7.77111891
         ],
         "y": [
          48.39721686,
          48.40810119
         ],
         "type": "scatter"
        },
        {
         "hoverinfo": "text",
         "legendgroup": "lines",
         "line": {
          "color": "rgb(255, 0, 0)",
          "dash": "solid",
          "width": 1.0
         },
         "mode": "lines",
         "name": "intersecting lines",
         "showlegend": false,
         "text": "Line 18",
         "x": [
          7.77111891,
          7.76965603,
          7.76946387
         ],
         "y": [
          48.40810119,
          48.40897041,
          48.40913221
         ],
         "type": "scatter"
        },
        {
         "hoverinfo": "text",
         "legendgroup": "lines",
         "line": {
          "color": "rgb(255, 0, 0)",
          "dash": "solid",
          "width": 1.0
         },
         "mode": "lines",
         "name": "intersecting lines",
         "showlegend": false,
         "text": "Line 46",
         "x": [
          7.77526664,
          7.77749826,
          7.78873191
         ],
         "y": [
          48.40850593,
          48.40904312,
          48.4038838
         ],
         "type": "scatter"
        },
        {
         "hoverinfo": "text",
         "legendgroup": "lines",
         "line": {
          "color": "rgb(255, 0, 0)",
          "dash": "solid",
          "width": 1.0
         },
         "mode": "lines",
         "name": "intersecting lines",
         "showlegend": false,
         "text": "Line 47",
         "x": [
          7.78873191,
          7.80573238,
          7.80577582
         ],
         "y": [
          48.4038838,
          48.39607413,
          48.39606378
         ],
         "type": "scatter"
        },
        {
         "hoverinfo": "text",
         "legendgroup": "lines",
         "line": {
          "color": "rgb(255, 0, 0)",
          "dash": "solid",
          "width": 1.0
         },
         "mode": "lines",
         "name": "intersecting lines",
         "showlegend": false,
         "text": "Line 50",
         "x": [
          7.81265378,
          7.81224648,
          7.81164404,
          7.80993094,
          7.80608736,
          7.80577582
         ],
         "y": [
          48.39170089,
          48.39208848,
          48.3932605,
          48.3941038,
          48.39455474,
          48.39606378
         ],
         "type": "scatter"
        },
        {
         "hoverinfo": "text",
         "legendgroup": "lines",
         "line": {
          "color": "rgb(255, 0, 0)",
          "dash": "solid",
          "width": 1.0
         },
         "mode": "lines",
         "name": "intersecting lines",
         "showlegend": false,
         "text": "Line 55",
         "x": [
          7.76396796,
          7.76495858,
          7.76629087,
          7.7659259,
          7.76376563,
          7.76270002,
          7.76157105,
          7.76147033
         ],
         "y": [
          48.39721686,
          48.39694908,
          48.39667324,
          48.39581646,
          48.39356873,
          48.39201827,
          48.38930585,
          48.38881634
         ],
         "type": "scatter"
        },
        {
         "hoverinfo": "text",
         "legendgroup": "lines",
         "line": {
          "color": "rgb(255, 0, 0)",
          "dash": "solid",
          "width": 1.0
         },
         "mode": "lines",
         "name": "intersecting lines",
         "showlegend": false,
         "text": "Line 116",
         "x": [
          7.75780411,
          7.75917051,
          7.76226955
         ],
         "y": [
          48.38819904,
          48.38730208,
          48.38622196
         ],
         "type": "scatter"
        },
        {
         "hoverinfo": "text",
         "legendgroup": "lines",
         "line": {
          "color": "rgb(255, 0, 0)",
          "dash": "solid",
          "width": 1.0
         },
         "mode": "lines",
         "name": "intersecting lines",
         "showlegend": false,
         "text": "Line 117",
         "x": [
          7.76226955,
          7.76344386,
          7.7644815
         ],
         "y": [
          48.38622196,
          48.38591421,
          48.38725384
         ],
         "type": "scatter"
        },
        {
         "hoverinfo": "text",
         "legendgroup": "lines",
         "line": {
          "color": "rgb(255, 0, 0)",
          "dash": "solid",
          "width": 1.0
         },
         "mode": "lines",
         "name": "intersecting lines",
         "showlegend": false,
         "text": "Line 118",
         "x": [
          7.7644815,
          7.76213031,
          7.76276391,
          7.76147033
         ],
         "y": [
          48.38725384,
          48.38794756,
          48.38852075,
          48.38881634
         ],
         "type": "scatter"
        },
        {
         "hoverinfo": "text",
         "legendgroup": "lines",
         "line": {
          "color": "rgb(255, 0, 0)",
          "dash": "solid",
          "width": 1.0
         },
         "mode": "lines",
         "name": "intersecting lines",
         "showlegend": false,
         "text": "Line 120",
         "x": [
          7.75780411,
          7.75698634,
          7.75516628,
          7.75527749
         ],
         "y": [
          48.38819904,
          48.38848522,
          48.38875367,
          48.38787178
         ],
         "type": "scatter"
        },
        {
         "hoverinfo": "text",
         "legendgroup": "lines",
         "line": {
          "color": "rgb(255, 0, 0)",
          "dash": "solid",
          "width": 1.0
         },
         "mode": "lines",
         "name": "intersecting lines",
         "showlegend": false,
         "text": "Line 121",
         "x": [
          7.75387463,
          7.75423985,
          7.75489924,
          7.75490995,
          7.75612888
         ],
         "y": [
          48.38198803,
          48.38177685,
          48.38177159,
          48.38124748,
          48.38127334
         ],
         "type": "scatter"
        },
        {
         "hoverinfo": "text",
         "legendgroup": "lines",
         "line": {
          "color": "rgb(255, 0, 0)",
          "dash": "solid",
          "width": 1.0
         },
         "mode": "lines",
         "name": "intersecting lines",
         "showlegend": false,
         "text": "Line 123",
         "x": [
          7.75387463,
          7.75041699,
          7.7512397
         ],
         "y": [
          48.38198803,
          48.38256216,
          48.38363665
         ],
         "type": "scatter"
        },
        {
         "hoverinfo": "text",
         "legendgroup": "lines",
         "line": {
          "color": "rgb(255, 0, 0)",
          "dash": "solid",
          "width": 1.0
         },
         "mode": "lines",
         "name": "intersecting lines",
         "showlegend": false,
         "text": "Line 125",
         "x": [
          7.75387463,
          7.75471952,
          7.75706106
         ],
         "y": [
          48.38198803,
          48.37590247,
          48.36812437
         ],
         "type": "scatter"
        },
        {
         "hoverinfo": "text",
         "legendgroup": "lines",
         "line": {
          "color": "rgb(255, 0, 0)",
          "dash": "solid",
          "width": 1.0
         },
         "mode": "lines",
         "name": "intersecting lines",
         "showlegend": false,
         "text": "Line 134",
         "x": [
          7.77526664,
          7.77576803,
          7.77520469
         ],
         "y": [
          48.40850593,
          48.40798048,
          48.40610337
         ],
         "type": "scatter"
        },
        {
         "hoverinfo": "text",
         "legendgroup": "lines",
         "line": {
          "color": "rgb(255, 0, 0)",
          "dash": "solid",
          "width": 1.0
         },
         "mode": "lines",
         "name": "intersecting lines",
         "showlegend": false,
         "text": "Line 137",
         "x": [
          7.77526664,
          7.77583421,
          7.77591886,
          7.77518896
         ],
         "y": [
          48.40850593,
          48.40895948,
          48.41002749,
          48.4106662
         ],
         "type": "scatter"
        },
        {
         "hoverinfo": "text",
         "legendgroup": "lines",
         "marker": {
          "color": "rgb(255, 0, 0)",
          "size": 1,
          "symbol": "circle"
         },
         "mode": "markers",
         "name": "edge_center",
         "showlegend": false,
         "x": [
          7.796604085,
          7.753600355,
          7.75644977,
          7.767543435,
          7.77038747,
          7.783115085,
          7.797232145000001,
          7.80800915,
          7.7648457650000005,
          7.76072003,
          7.76396268,
          7.763305904999999,
          7.75607631,
          7.754904595,
          7.75214581,
          7.75589029,
          7.77548636,
          7.775876535
         ],
         "y": [
          48.380439095,
          48.385219844999995,
          48.387082465,
          48.402659025,
          48.408535799999996,
          48.40646346,
          48.399978965,
          48.39432927,
          48.394692594999995,
          48.38676202,
          48.386584025000005,
          48.3876007,
          48.388619445,
          48.381509535,
          48.382275095,
          48.37201342,
          48.407041925,
          48.409493485
         ],
         "type": "scatter"
        },
        {
         "fill": "toself",
         "fillcolor": "rgba(255, 165, 0, 0.2)",
         "line": {
          "color": "orange",
          "width": 0.5
         },
         "mode": "lines",
         "name": "radius",
         "x": [
          7.8107655298691245,
          7.810667683887522,
          7.810284792406135,
          7.809620574356475,
          7.808681455811891,
          7.807476506976701,
          7.806017353838679,
          7.804318065373681,
          7.8023950174205945,
          7.800266734561585,
          7.7979537115461595,
          7.795478215985231,
          7.792864074212637,
          7.790136442364427,
          7.787321564859586,
          7.7844465225796435,
          7.78153897313666,
          7.778626885689925,
          7.775738272820301,
          7.7729009219971585,
          7.770142129176471,
          7.767488437049447,
          7.764965380419525,
          7.762597241121584,
          7.7604068148117555,
          7.758415191849221,
          7.756641554364157,
          7.755102991459258,
          7.753814334326788,
          7.752788012880656,
          7.752033935304592,
          7.751559391704949,
          7.751368982831354,
          7.751464574592736,
          7.751845278851886,
          7.752507460730942,
          7.753444772405417,
          7.7546482131079895,
          7.7561062148075735,
          7.7578047527774805,
          7.759727480019978,
          7.761855884277684,
          7.764169466135879,
          7.766645936507697,
          7.769261431597887,
          7.771990743263196,
          7.774807562530195,
          7.7776847338964945,
          7.78059451793039,
          7.783508859598447,
          7.78639965969129,
          7.789239046685725,
          7.791999646376821,
          7.794654846636341,
          7.797179054704162,
          7.799547944496314,
          7.80173869151565,
          7.803730193078371,
          7.805503271719695,
          7.807040859813011,
          7.808328163627577,
          7.809352805256744,
          7.8101049410712005,
          7.81057735558536,
          7.8107655298691245
         ],
         "y": [
          48.390084690850486,
          48.388144409170174,
          48.386219856964566,
          48.38432956618577,
          48.382491736845104,
          48.38072406191128,
          48.37904355716117,
          48.37746639761247,
          48.376007762101366,
          48.37468168748896,
          48.373500933885516,
          48.37247686217469,
          48.37161932500178,
          48.37093657226041,
          48.37043517197353,
          48.37011994731821,
          48.369993930389604,
          48.37005833314202,
          48.37031253578033,
          48.370754092712495,
          48.37137875600519,
          48.37218051612134,
          48.37315165955316,
          48.37428284280542,
          48.375563182027456,
          48.37698035744474,
          48.37852073159846,
          48.38016948027043,
          48.38191073484804,
          48.38372773477336,
          48.38560298862314,
          48.38751844228047,
          48.38945565259022,
          48.3913959648333,
          48.3933206923169,
          48.39521129635298,
          48.397049564892,
          48.39881778808711,
          48.40049892909202,
          48.4020767884382,
          48.40353616039663,
          48.40486297980495,
          48.40604445793081,
          48.407069206047545,
          48.40792734551593,
          48.4086106032965,
          48.40911239195788,
          48.40942787339799,
          48.40955400565351,
          48.40948957233832,
          48.40923519442192,
          48.40879332423222,
          48.408168221740915,
          48.407365913363265,
          48.40639413367636,
          48.40526225062648,
          48.40398117495704,
          48.40256325474388,
          48.40102215606789,
          48.39937273099021,
          48.39763087411735,
          48.3958133691531,
          48.393937726929074,
          48.392022016487104,
          48.390084690850486
         ],
         "type": "scatter"
        },
        {
         "marker": {
          "color": "orange",
          "size": 10
         },
         "mode": "markers",
         "name": "reference point",
         "x": [
          7.781067073104708
         ],
         "y": [
          48.38977492830868
         ],
         "type": "scatter"
        },
        {
         "hoverinfo": "text",
         "marker": {
          "color": "rgb(255, 0, 0)",
          "size": 5,
          "symbol": "circle"
         },
         "mode": "markers",
         "name": "buses within radius",
         "text": [
          "Bus 3",
          "Bus 103",
          "Bus 106",
          "Bus 150",
          "Bus 151",
          "Bus 153",
          "Bus 154",
          "Bus 156",
          "Bus 166",
          "Bus 167",
          "Bus 168",
          "Bus 169",
          "Bus 170",
          "Bus 173"
         ],
         "x": [
          7.77520469,
          7.75598728,
          7.77111891,
          7.77526664,
          7.75527749,
          7.80577582,
          7.76396796,
          7.75387463,
          7.78873191,
          7.76226955,
          7.7644815,
          7.76147033,
          7.75612888,
          7.75780411
         ],
         "y": [
          48.40610337,
          48.38553948,
          48.40810119,
          48.40850593,
          48.38787178,
          48.39606378,
          48.39721686,
          48.38198803,
          48.4038838,
          48.38622196,
          48.38725384,
          48.38881634,
          48.38127334,
          48.38819904
         ],
         "type": "scatter"
        }
       ],
       "layout": {
        "autosize": true,
        "hovermode": "closest",
        "legend": {
         "itemsizing": "constant"
        },
        "margin": {
         "b": 5,
         "l": 5,
         "r": 5,
         "t": 5
        },
        "showlegend": true,
        "title": {
         "font": {
          "size": 16
         }
        },
        "xaxis": {
         "showgrid": false,
         "showticklabels": false,
         "zeroline": false
        },
        "yaxis": {
         "showgrid": false,
         "showticklabels": false,
         "zeroline": false
        },
        "template": {
         "data": {
          "histogram2dcontour": [
           {
            "type": "histogram2dcontour",
            "colorbar": {
             "outlinewidth": 0,
             "ticks": ""
            },
            "colorscale": [
             [
              0.0,
              "#0d0887"
             ],
             [
              0.1111111111111111,
              "#46039f"
             ],
             [
              0.2222222222222222,
              "#7201a8"
             ],
             [
              0.3333333333333333,
              "#9c179e"
             ],
             [
              0.4444444444444444,
              "#bd3786"
             ],
             [
              0.5555555555555556,
              "#d8576b"
             ],
             [
              0.6666666666666666,
              "#ed7953"
             ],
             [
              0.7777777777777778,
              "#fb9f3a"
             ],
             [
              0.8888888888888888,
              "#fdca26"
             ],
             [
              1.0,
              "#f0f921"
             ]
            ]
           }
          ],
          "choropleth": [
           {
            "type": "choropleth",
            "colorbar": {
             "outlinewidth": 0,
             "ticks": ""
            }
           }
          ],
          "histogram2d": [
           {
            "type": "histogram2d",
            "colorbar": {
             "outlinewidth": 0,
             "ticks": ""
            },
            "colorscale": [
             [
              0.0,
              "#0d0887"
             ],
             [
              0.1111111111111111,
              "#46039f"
             ],
             [
              0.2222222222222222,
              "#7201a8"
             ],
             [
              0.3333333333333333,
              "#9c179e"
             ],
             [
              0.4444444444444444,
              "#bd3786"
             ],
             [
              0.5555555555555556,
              "#d8576b"
             ],
             [
              0.6666666666666666,
              "#ed7953"
             ],
             [
              0.7777777777777778,
              "#fb9f3a"
             ],
             [
              0.8888888888888888,
              "#fdca26"
             ],
             [
              1.0,
              "#f0f921"
             ]
            ]
           }
          ],
          "heatmap": [
           {
            "type": "heatmap",
            "colorbar": {
             "outlinewidth": 0,
             "ticks": ""
            },
            "colorscale": [
             [
              0.0,
              "#0d0887"
             ],
             [
              0.1111111111111111,
              "#46039f"
             ],
             [
              0.2222222222222222,
              "#7201a8"
             ],
             [
              0.3333333333333333,
              "#9c179e"
             ],
             [
              0.4444444444444444,
              "#bd3786"
             ],
             [
              0.5555555555555556,
              "#d8576b"
             ],
             [
              0.6666666666666666,
              "#ed7953"
             ],
             [
              0.7777777777777778,
              "#fb9f3a"
             ],
             [
              0.8888888888888888,
              "#fdca26"
             ],
             [
              1.0,
              "#f0f921"
             ]
            ]
           }
          ],
          "contourcarpet": [
           {
            "type": "contourcarpet",
            "colorbar": {
             "outlinewidth": 0,
             "ticks": ""
            }
           }
          ],
          "contour": [
           {
            "type": "contour",
            "colorbar": {
             "outlinewidth": 0,
             "ticks": ""
            },
            "colorscale": [
             [
              0.0,
              "#0d0887"
             ],
             [
              0.1111111111111111,
              "#46039f"
             ],
             [
              0.2222222222222222,
              "#7201a8"
             ],
             [
              0.3333333333333333,
              "#9c179e"
             ],
             [
              0.4444444444444444,
              "#bd3786"
             ],
             [
              0.5555555555555556,
              "#d8576b"
             ],
             [
              0.6666666666666666,
              "#ed7953"
             ],
             [
              0.7777777777777778,
              "#fb9f3a"
             ],
             [
              0.8888888888888888,
              "#fdca26"
             ],
             [
              1.0,
              "#f0f921"
             ]
            ]
           }
          ],
          "surface": [
           {
            "type": "surface",
            "colorbar": {
             "outlinewidth": 0,
             "ticks": ""
            },
            "colorscale": [
             [
              0.0,
              "#0d0887"
             ],
             [
              0.1111111111111111,
              "#46039f"
             ],
             [
              0.2222222222222222,
              "#7201a8"
             ],
             [
              0.3333333333333333,
              "#9c179e"
             ],
             [
              0.4444444444444444,
              "#bd3786"
             ],
             [
              0.5555555555555556,
              "#d8576b"
             ],
             [
              0.6666666666666666,
              "#ed7953"
             ],
             [
              0.7777777777777778,
              "#fb9f3a"
             ],
             [
              0.8888888888888888,
              "#fdca26"
             ],
             [
              1.0,
              "#f0f921"
             ]
            ]
           }
          ],
          "mesh3d": [
           {
            "type": "mesh3d",
            "colorbar": {
             "outlinewidth": 0,
             "ticks": ""
            }
           }
          ],
          "scatter": [
           {
            "marker": {
             "line": {
              "color": "#283442"
             }
            },
            "type": "scatter"
           }
          ],
          "parcoords": [
           {
            "type": "parcoords",
            "line": {
             "colorbar": {
              "outlinewidth": 0,
              "ticks": ""
             }
            }
           }
          ],
          "scatterpolargl": [
           {
            "type": "scatterpolargl",
            "marker": {
             "colorbar": {
              "outlinewidth": 0,
              "ticks": ""
             }
            }
           }
          ],
          "bar": [
           {
            "error_x": {
             "color": "#f2f5fa"
            },
            "error_y": {
             "color": "#f2f5fa"
            },
            "marker": {
             "line": {
              "color": "rgb(17,17,17)",
              "width": 0.5
             },
             "pattern": {
              "fillmode": "overlay",
              "size": 10,
              "solidity": 0.2
             }
            },
            "type": "bar"
           }
          ],
          "scattergeo": [
           {
            "type": "scattergeo",
            "marker": {
             "colorbar": {
              "outlinewidth": 0,
              "ticks": ""
             }
            }
           }
          ],
          "scatterpolar": [
           {
            "type": "scatterpolar",
            "marker": {
             "colorbar": {
              "outlinewidth": 0,
              "ticks": ""
             }
            }
           }
          ],
          "histogram": [
           {
            "marker": {
             "pattern": {
              "fillmode": "overlay",
              "size": 10,
              "solidity": 0.2
             }
            },
            "type": "histogram"
           }
          ],
          "scattergl": [
           {
            "marker": {
             "line": {
              "color": "#283442"
             }
            },
            "type": "scattergl"
           }
          ],
          "scatter3d": [
           {
            "type": "scatter3d",
            "line": {
             "colorbar": {
              "outlinewidth": 0,
              "ticks": ""
             }
            },
            "marker": {
             "colorbar": {
              "outlinewidth": 0,
              "ticks": ""
             }
            }
           }
          ],
          "scattermap": [
           {
            "type": "scattermap",
            "marker": {
             "colorbar": {
              "outlinewidth": 0,
              "ticks": ""
             }
            }
           }
          ],
          "scattermapbox": [
           {
            "type": "scattermapbox",
            "marker": {
             "colorbar": {
              "outlinewidth": 0,
              "ticks": ""
             }
            }
           }
          ],
          "scatterternary": [
           {
            "type": "scatterternary",
            "marker": {
             "colorbar": {
              "outlinewidth": 0,
              "ticks": ""
             }
            }
           }
          ],
          "scattercarpet": [
           {
            "type": "scattercarpet",
            "marker": {
             "colorbar": {
              "outlinewidth": 0,
              "ticks": ""
             }
            }
           }
          ],
          "carpet": [
           {
            "aaxis": {
             "endlinecolor": "#A2B1C6",
             "gridcolor": "#506784",
             "linecolor": "#506784",
             "minorgridcolor": "#506784",
             "startlinecolor": "#A2B1C6"
            },
            "baxis": {
             "endlinecolor": "#A2B1C6",
             "gridcolor": "#506784",
             "linecolor": "#506784",
             "minorgridcolor": "#506784",
             "startlinecolor": "#A2B1C6"
            },
            "type": "carpet"
           }
          ],
          "table": [
           {
            "cells": {
             "fill": {
              "color": "#506784"
             },
             "line": {
              "color": "rgb(17,17,17)"
             }
            },
            "header": {
             "fill": {
              "color": "#2a3f5f"
             },
             "line": {
              "color": "rgb(17,17,17)"
             }
            },
            "type": "table"
           }
          ],
          "barpolar": [
           {
            "marker": {
             "line": {
              "color": "rgb(17,17,17)",
              "width": 0.5
             },
             "pattern": {
              "fillmode": "overlay",
              "size": 10,
              "solidity": 0.2
             }
            },
            "type": "barpolar"
           }
          ],
          "pie": [
           {
            "automargin": true,
            "type": "pie"
           }
          ]
         },
         "layout": {
          "autotypenumbers": "strict",
          "colorway": [
           "#636efa",
           "#EF553B",
           "#00cc96",
           "#ab63fa",
           "#FFA15A",
           "#19d3f3",
           "#FF6692",
           "#B6E880",
           "#FF97FF",
           "#FECB52"
          ],
          "font": {
           "color": "#f2f5fa"
          },
          "hovermode": "closest",
          "hoverlabel": {
           "align": "left"
          },
          "paper_bgcolor": "rgb(17,17,17)",
          "plot_bgcolor": "rgb(17,17,17)",
          "polar": {
           "bgcolor": "rgb(17,17,17)",
           "angularaxis": {
            "gridcolor": "#506784",
            "linecolor": "#506784",
            "ticks": ""
           },
           "radialaxis": {
            "gridcolor": "#506784",
            "linecolor": "#506784",
            "ticks": ""
           }
          },
          "ternary": {
           "bgcolor": "rgb(17,17,17)",
           "aaxis": {
            "gridcolor": "#506784",
            "linecolor": "#506784",
            "ticks": ""
           },
           "baxis": {
            "gridcolor": "#506784",
            "linecolor": "#506784",
            "ticks": ""
           },
           "caxis": {
            "gridcolor": "#506784",
            "linecolor": "#506784",
            "ticks": ""
           }
          },
          "coloraxis": {
           "colorbar": {
            "outlinewidth": 0,
            "ticks": ""
           }
          },
          "colorscale": {
           "sequential": [
            [
             0.0,
             "#0d0887"
            ],
            [
             0.1111111111111111,
             "#46039f"
            ],
            [
             0.2222222222222222,
             "#7201a8"
            ],
            [
             0.3333333333333333,
             "#9c179e"
            ],
            [
             0.4444444444444444,
             "#bd3786"
            ],
            [
             0.5555555555555556,
             "#d8576b"
            ],
            [
             0.6666666666666666,
             "#ed7953"
            ],
            [
             0.7777777777777778,
             "#fb9f3a"
            ],
            [
             0.8888888888888888,
             "#fdca26"
            ],
            [
             1.0,
             "#f0f921"
            ]
           ],
           "sequentialminus": [
            [
             0.0,
             "#0d0887"
            ],
            [
             0.1111111111111111,
             "#46039f"
            ],
            [
             0.2222222222222222,
             "#7201a8"
            ],
            [
             0.3333333333333333,
             "#9c179e"
            ],
            [
             0.4444444444444444,
             "#bd3786"
            ],
            [
             0.5555555555555556,
             "#d8576b"
            ],
            [
             0.6666666666666666,
             "#ed7953"
            ],
            [
             0.7777777777777778,
             "#fb9f3a"
            ],
            [
             0.8888888888888888,
             "#fdca26"
            ],
            [
             1.0,
             "#f0f921"
            ]
           ],
           "diverging": [
            [
             0,
             "#8e0152"
            ],
            [
             0.1,
             "#c51b7d"
            ],
            [
             0.2,
             "#de77ae"
            ],
            [
             0.3,
             "#f1b6da"
            ],
            [
             0.4,
             "#fde0ef"
            ],
            [
             0.5,
             "#f7f7f7"
            ],
            [
             0.6,
             "#e6f5d0"
            ],
            [
             0.7,
             "#b8e186"
            ],
            [
             0.8,
             "#7fbc41"
            ],
            [
             0.9,
             "#4d9221"
            ],
            [
             1,
             "#276419"
            ]
           ]
          },
          "xaxis": {
           "gridcolor": "#283442",
           "linecolor": "#506784",
           "ticks": "",
           "title": {
            "standoff": 15
           },
           "zerolinecolor": "#283442",
           "automargin": true,
           "zerolinewidth": 2
          },
          "yaxis": {
           "gridcolor": "#283442",
           "linecolor": "#506784",
           "ticks": "",
           "title": {
            "standoff": 15
           },
           "zerolinecolor": "#283442",
           "automargin": true,
           "zerolinewidth": 2
          },
          "scene": {
           "xaxis": {
            "backgroundcolor": "rgb(17,17,17)",
            "gridcolor": "#506784",
            "linecolor": "#506784",
            "showbackground": true,
            "ticks": "",
            "zerolinecolor": "#C8D4E3",
            "gridwidth": 2
           },
           "yaxis": {
            "backgroundcolor": "rgb(17,17,17)",
            "gridcolor": "#506784",
            "linecolor": "#506784",
            "showbackground": true,
            "ticks": "",
            "zerolinecolor": "#C8D4E3",
            "gridwidth": 2
           },
           "zaxis": {
            "backgroundcolor": "rgb(17,17,17)",
            "gridcolor": "#506784",
            "linecolor": "#506784",
            "showbackground": true,
            "ticks": "",
            "zerolinecolor": "#C8D4E3",
            "gridwidth": 2
           }
          },
          "shapedefaults": {
           "line": {
            "color": "#f2f5fa"
           }
          },
          "annotationdefaults": {
           "arrowcolor": "#f2f5fa",
           "arrowhead": 0,
           "arrowwidth": 1
          },
          "geo": {
           "bgcolor": "rgb(17,17,17)",
           "landcolor": "rgb(17,17,17)",
           "subunitcolor": "#506784",
           "showland": true,
           "showlakes": true,
           "lakecolor": "rgb(17,17,17)"
          },
          "title": {
           "x": 0.05
          },
          "updatemenudefaults": {
           "bgcolor": "#506784",
           "borderwidth": 0
          },
          "sliderdefaults": {
           "bgcolor": "#C8D4E3",
           "borderwidth": 1,
           "bordercolor": "rgb(17,17,17)",
           "tickwidth": 0
          },
          "mapbox": {
           "style": "dark"
          }
         }
        },
        "width": 700.0,
        "height": 528.1109895327797
       },
       "config": {
        "plotlyServerURL": "https://plot.ly"
       }
      }
     },
     "metadata": {},
     "output_type": "display_data",
     "jetTransient": {
      "display_id": null
     }
    }
   ],
   "execution_count": 6
  },
  {
   "cell_type": "markdown",
   "id": "7e7917d4-c696-459c-aa59-df11bb2ffac7",
   "metadata": {},
   "source": [
    "It is also possible to load the GeoJSON, or view the geo column as GeoSeries or a Series with shapely objects."
   ]
  },
  {
   "cell_type": "code",
   "id": "3bfe1268-5b40-44c6-b194-aced9ee9d07d",
   "metadata": {
    "ExecuteTime": {
     "end_time": "2025-10-20T13:21:19.112482Z",
     "start_time": "2025-10-20T13:21:19.087478Z"
    }
   },
   "source": [
    "net.bus.geo.head() # entries are strings"
   ],
   "outputs": [
    {
     "data": {
      "text/plain": [
       "0    {\"coordinates\": [7.765225672614365, 48.41091584192147], \"type\": \"Point\"}\n",
       "1    {\"coordinates\": [7.778809539550178, 48.40987064550492], \"type\": \"Point\"}\n",
       "2     {\"coordinates\": [7.779195765893586, 48.4120381144602], \"type\": \"Point\"}\n",
       "3    {\"coordinates\": [7.775204689771646, 48.40610336882051], \"type\": \"Point\"}\n",
       "4      {\"coordinates\": [7.76606484746611, 48.4124244421834], \"type\": \"Point\"}\n",
       "Name: geo, dtype: object"
      ]
     },
     "execution_count": 7,
     "metadata": {},
     "output_type": "execute_result"
    }
   ],
   "execution_count": 7
  },
  {
   "cell_type": "code",
   "id": "f4f49408-5d9b-4083-893b-e857c999befd",
   "metadata": {
    "ExecuteTime": {
     "end_time": "2025-10-20T13:21:19.342869Z",
     "start_time": "2025-10-20T13:21:19.296171Z"
    }
   },
   "source": [
    "net.bus.geo.geojson.as_geo_obj.head() # entries are dicts"
   ],
   "outputs": [
    {
     "data": {
      "text/plain": [
       "0    {'type': 'Point', 'coordinates': [7.76522567, 48.41091584]}\n",
       "1    {'type': 'Point', 'coordinates': [7.77880954, 48.40987065]}\n",
       "2    {'type': 'Point', 'coordinates': [7.77919577, 48.41203811]}\n",
       "3    {'type': 'Point', 'coordinates': [7.77520469, 48.40610337]}\n",
       "4    {'type': 'Point', 'coordinates': [7.76606485, 48.41242444]}\n",
       "Name: geo, dtype: object"
      ]
     },
     "execution_count": 8,
     "metadata": {},
     "output_type": "execute_result"
    }
   ],
   "execution_count": 8
  },
  {
   "cell_type": "code",
   "id": "dfbcd7ff-aa5d-4d8f-aaaf-3909dd4fd654",
   "metadata": {
    "ExecuteTime": {
     "end_time": "2025-10-20T13:21:20.474282Z",
     "start_time": "2025-10-20T13:21:20.458754Z"
    }
   },
   "source": [
    "net.bus.geo.geojson.as_geoseries.head() # GeoSeries "
   ],
   "outputs": [
    {
     "data": {
      "text/plain": [
       "0    POINT (7.76523 48.41092)\n",
       "1    POINT (7.77881 48.40987)\n",
       "2     POINT (7.7792 48.41204)\n",
       "3      POINT (7.7752 48.4061)\n",
       "4    POINT (7.76606 48.41242)\n",
       "dtype: geometry"
      ]
     },
     "execution_count": 9,
     "metadata": {},
     "output_type": "execute_result"
    }
   ],
   "execution_count": 9
  },
  {
   "cell_type": "code",
   "id": "fc2c3aba-9897-47a3-b076-0fca36134ad2",
   "metadata": {
    "ExecuteTime": {
     "end_time": "2025-10-20T13:21:22.330669Z",
     "start_time": "2025-10-20T13:21:22.312673Z"
    }
   },
   "source": [
    "net.bus.geo.geojson.as_shapely_obj.head() # pandas Series with shapely objects"
   ],
   "outputs": [
    {
     "data": {
      "text/plain": [
       "0    POINT (7.765225672614365 48.41091584192147)\n",
       "1    POINT (7.778809539550178 48.40987064550492)\n",
       "2     POINT (7.779195765893586 48.4120381144602)\n",
       "3    POINT (7.775204689771646 48.40610336882051)\n",
       "4      POINT (7.76606484746611 48.4124244421834)\n",
       "Name: geo, dtype: object"
      ]
     },
     "execution_count": 10,
     "metadata": {},
     "output_type": "execute_result"
    }
   ],
   "execution_count": 10
  },
  {
   "cell_type": "markdown",
   "id": "9240803c-ce51-4086-af42-a79192c8fcd7",
   "metadata": {},
   "source": [
    "It is also possible to get the coordinates or the geometry type from the GeoJSON. \n",
    "**Note that it is not recommended to use ._coords in applications, because the projection definition is lost!**"
   ]
  },
  {
   "cell_type": "code",
   "id": "be589243-c803-48e5-a6ee-ab1140ca350e",
   "metadata": {
    "ExecuteTime": {
     "end_time": "2025-10-20T13:21:24.008902Z",
     "start_time": "2025-10-20T13:21:23.983173Z"
    }
   },
   "source": [
    "net.bus.geo.geojson._coords.head()"
   ],
   "outputs": [
    {
     "data": {
      "text/plain": [
       "0    [7.76522567, 48.41091584]\n",
       "1    [7.77880954, 48.40987065]\n",
       "2    [7.77919577, 48.41203811]\n",
       "3    [7.77520469, 48.40610337]\n",
       "4    [7.76606485, 48.41242444]\n",
       "Name: geo, dtype: object"
      ]
     },
     "execution_count": 11,
     "metadata": {},
     "output_type": "execute_result"
    }
   ],
   "execution_count": 11
  },
  {
   "cell_type": "code",
   "id": "749ec31d-cde0-4d21-b2d9-fe5dd424e5a5",
   "metadata": {
    "ExecuteTime": {
     "end_time": "2025-10-20T13:21:25.856931Z",
     "start_time": "2025-10-20T13:21:25.823167Z"
    }
   },
   "source": [
    "net.bus.geo.geojson.type.head()"
   ],
   "outputs": [
    {
     "data": {
      "text/plain": [
       "0    Point\n",
       "1    Point\n",
       "2    Point\n",
       "3    Point\n",
       "4    Point\n",
       "Name: geo, dtype: object"
      ]
     },
     "execution_count": 12,
     "metadata": {},
     "output_type": "execute_result"
    }
   ],
   "execution_count": 12
  }
 ],
 "metadata": {
  "kernelspec": {
   "display_name": "Python 3 (ipykernel)",
   "language": "python",
   "name": "python3"
  },
  "language_info": {
   "codemirror_mode": {
    "name": "ipython",
    "version": 3
   },
   "file_extension": ".py",
   "mimetype": "text/x-python",
   "name": "python",
   "nbconvert_exporter": "python",
   "pygments_lexer": "ipython3",
   "version": "3.12.7"
  }
 },
 "nbformat": 4,
 "nbformat_minor": 5
}
